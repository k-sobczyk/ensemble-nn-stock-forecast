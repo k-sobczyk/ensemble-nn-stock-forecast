{
 "cells": [
  {
   "cell_type": "code",
   "execution_count": 1,
   "id": "initial_id",
   "metadata": {
    "collapsed": true,
    "ExecuteTime": {
     "end_time": "2024-05-17T14:45:21.614811100Z",
     "start_time": "2024-05-17T14:45:20.255894700Z"
    }
   },
   "outputs": [],
   "source": [
    "import os\n",
    "import pandas as pd\n",
    "import numpy as np"
   ]
  },
  {
   "cell_type": "code",
   "outputs": [],
   "source": [
    "# FULL DF\n",
    "full_row_ranges = [\n",
    "    range(290, 293+1),  # Current financial liabilities, Non-current financial liabilities, Financial liabilities (total)\n",
    "    range(278, 283+1),  # Return on equity (ROE), Return on assets (ROA), Leverage (EM), Asset utilization (AU)\n",
    "    range(260, 275+1),  # Working capital ratio, Current ratio, Quick ratio, Cash ratio, Receivables turnover, Inventory turnover, The operating cycle, Rotation commitments, Cash conversion cycle, Rotation assets, Rotation of assets, Assets ratio, Debt ratio, Debt service ratio, Rate debt security\n",
    "    range(29, 59+1),    # ASSETS, Non-current assets, Property, plant and equipment, Exploration for and evaluation of mineral resources, Intangible assets, Goodwill, Investment property, Right-of-use assets, Investment in affiliates, Non-current financial assets, Non-current loans and receivables, Deferred income tax, Non-current deferred charges and accruals, Non-current derivative instruments, Other non-current assets, Current assets, Inventories, Current intangible assets, Biological assets, Trade receivables, Loans and other receivables, Financial assets, Cash and cash equivalents, Accruals, Assets from current tax, Derivative instruments, Other assets, Assets held for sale and discontinuing operations, Called up capital, Own shares\n",
    "    range(60, 93+1),    # EQUITY & LIABILITIES, Equity shareholders of the parent, Share capital, Called up share capital, Treasury shares, Supplementary capital, Valuation and exchange differences, Other capitals, Retained earnings / accumulated losses, Non-controlling interests, Non-current liabilities, Non-current liabilities from derivatives, Non-current loans and borrowings, Non-current liabilities from bonds, Non-current liabilities from finance leases, Non-current trade payables, Long-term provision for employee benefits, Deferred tax liabilities, Non-current provision, Other non-current liabilities, Non-current accruals (liability), Current liabilities, Liabilities from derivatives, Financial liabilities (loans and borrowings), Bond liabilities, Liabilities from finance leases, Trade payables, Employee benefits, Current tax liabilities, Provisions, Other liabilities, Accruals (liability), Liabilities related to assets held for sale and discontinued operations\n",
    "    range(2, 22+1),     # End of period, Revenues from sales, Operating profit/loss, Net profit/loss attributable to equity holders of the parent, Total comprehensive income attributable to equity holders, Depreciation, Cash flow from operating activities, Cash flow from investing activities, Cash flow from financing activities, Non-current assets, Current assets, Equity shareholders of the parent, Non-current liabilities, Current liabilities, Number of shares (‘000), Earnings per share, Total comprehensive income per share, Book value per share\n",
    "]"
   ],
   "metadata": {
    "collapsed": false,
    "ExecuteTime": {
     "end_time": "2024-05-17T14:45:21.622071900Z",
     "start_time": "2024-05-17T14:45:21.616016300Z"
    }
   },
   "id": "12639b15300b0982",
   "execution_count": 2
  },
  {
   "cell_type": "markdown",
   "source": [
    "# PREPARATION"
   ],
   "metadata": {
    "collapsed": false
   },
   "id": "48e206f2cd52144a"
  },
  {
   "cell_type": "code",
   "outputs": [],
   "source": [
    "FOLDER_PATH = 'data/'"
   ],
   "metadata": {
    "collapsed": false,
    "ExecuteTime": {
     "end_time": "2024-05-17T14:45:21.629474400Z",
     "start_time": "2024-05-17T14:45:21.619955300Z"
    }
   },
   "id": "eeac026c30c7da7b",
   "execution_count": 3
  },
  {
   "cell_type": "code",
   "outputs": [
    {
     "name": "stdout",
     "output_type": "stream",
     "text": [
      "Folder exists. Proceeding with file processing.\n"
     ]
    }
   ],
   "source": [
    "if os.path.exists(FOLDER_PATH):\n",
    "    print(\"Folder exists. Proceeding with file processing.\")\n",
    "else:\n",
    "    print(\"Folder does not exist. Check the path.\")"
   ],
   "metadata": {
    "collapsed": false,
    "ExecuteTime": {
     "end_time": "2024-05-17T14:45:21.637847500Z",
     "start_time": "2024-05-17T14:45:21.626321Z"
    }
   },
   "id": "541b11aa6b71dac8",
   "execution_count": 4
  },
  {
   "cell_type": "code",
   "outputs": [
    {
     "name": "stdout",
     "output_type": "stream",
     "text": [
      "Files in folder: 349.\n"
     ]
    }
   ],
   "source": [
    "def count_files_in_folder(folder_path):\n",
    "    file_count = 0\n",
    "\n",
    "    for entry in os.listdir(folder_path):\n",
    "        full_path = os.path.join(folder_path, entry)\n",
    "        if os.path.isfile(full_path):\n",
    "            file_count += 1\n",
    "    \n",
    "    return file_count\n",
    "\n",
    "print(f\"Files in folder: {count_files_in_folder(FOLDER_PATH)}.\")"
   ],
   "metadata": {
    "collapsed": false,
    "ExecuteTime": {
     "end_time": "2024-05-17T14:45:21.710439500Z",
     "start_time": "2024-05-17T14:45:21.633374400Z"
    }
   },
   "id": "c9d965a5de138944",
   "execution_count": 5
  },
  {
   "cell_type": "markdown",
   "source": [
    "# 'INFO' DATA"
   ],
   "metadata": {
    "collapsed": false
   },
   "id": "7003e2aef6780047"
  },
  {
   "cell_type": "code",
   "outputs": [],
   "source": [
    "def process_company_sector(folder_path):\n",
    "    results = []\n",
    "\n",
    "    for filename in os.listdir(folder_path):\n",
    "        if filename.endswith('.xlsx'):\n",
    "            file_path = os.path.join(folder_path, filename)\n",
    "            try:\n",
    "                with pd.ExcelFile(file_path) as xls:\n",
    "                    company_name = pd.read_excel(xls, 'Info', usecols=\"B\", skiprows=1, nrows=1).values[0][0]\n",
    "                    sector = pd.read_excel(xls, 'Info', usecols=\"E\", skiprows=19, nrows=1).values[0][0]\n",
    "                \n",
    "                result = {\n",
    "                    'filename': filename,\n",
    "                    'Company Name': company_name,\n",
    "                    'Sector': sector\n",
    "                }\n",
    "                results.append(result)\n",
    "                \n",
    "                print(f\"Dane z {filename} zostały przetworzone.\")\n",
    "            except Exception as e:\n",
    "                print(f\"Błąd przy przetwarzaniu pliku {filename}: {e}\")\n",
    "\n",
    "    results_df = pd.DataFrame(results)\n",
    "    return results_df"
   ],
   "metadata": {
    "collapsed": false,
    "ExecuteTime": {
     "end_time": "2024-05-17T14:45:21.710582400Z",
     "start_time": "2024-05-17T14:45:21.704635900Z"
    }
   },
   "id": "9f3ef90c6578f28c",
   "execution_count": 6
  },
  {
   "cell_type": "code",
   "outputs": [
    {
     "name": "stdout",
     "output_type": "stream",
     "text": [
      "Dane z 11BIT.xlsx zostały przetworzone.\n",
      "Dane z 3LPSA.xlsx zostały przetworzone.\n",
      "Dane z 3RGAMES.xlsx zostały przetworzone.\n",
      "Dane z AB.xlsx zostały przetworzone.\n",
      "Dane z AC.xlsx zostały przetworzone.\n",
      "Dane z ACTION.xlsx zostały przetworzone.\n",
      "Dane z ADIUVO.xlsx zostały przetworzone.\n",
      "Dane z AGORA.xlsx zostały przetworzone.\n",
      "Dane z AGROPUBL.xlsx zostały przetworzone.\n",
      "Dane z AGROWILL.xlsx zostały przetworzone.\n",
      "Dane z AIGAMES.xlsx zostały przetworzone.\n",
      "Dane z AILLERON.xlsx zostały przetworzone.\n",
      "Dane z AIRWAY.xlsx zostały przetworzone.\n",
      "Dane z ALLEGRO.xlsx zostały przetworzone.\n",
      "Dane z ALUMETAL.xlsx zostały przetworzone.\n",
      "Dane z AMBRA.xlsx zostały przetworzone.\n",
      "Dane z AMICA.xlsx zostały przetworzone.\n",
      "Dane z AMPLI.xlsx zostały przetworzone.\n",
      "Dane z AMREST.xlsx zostały przetworzone.\n",
      "Dane z ANSWEAR.xlsx zostały przetworzone.\n",
      "Dane z APATOR.xlsx zostały przetworzone.\n",
      "Dane z APLISENS.xlsx zostały przetworzone.\n",
      "Dane z APSENERG.xlsx zostały przetworzone.\n",
      "Dane z ARCTIC.xlsx zostały przetworzone.\n",
      "Dane z ARTERIA.xlsx zostały przetworzone.\n",
      "Dane z ARTIFEX.xlsx zostały przetworzone.\n",
      "Dane z ASBIS.xlsx zostały przetworzone.\n",
      "Dane z ASMGROUP.xlsx zostały przetworzone.\n",
      "Dane z ASSECOBS.xlsx zostały przetworzone.\n",
      "Dane z ASSECOP.xlsx zostały przetworzone.\n",
      "Dane z ASSECOSE.xlsx zostały przetworzone.\n",
      "Dane z ASTARTA.xlsx zostały przetworzone.\n",
      "Dane z ATENDE.xlsx zostały przetworzone.\n",
      "Dane z ATLANTA.xlsx zostały przetworzone.\n",
      "Dane z ATMG.xlsx zostały przetworzone.\n",
      "Dane z ATREM.xlsx zostały przetworzone.\n",
      "Dane z AUTOPART.xlsx zostały przetworzone.\n",
      "Dane z AZOTY.xlsx zostały przetworzone.\n",
      "Dane z BAHOLDING.xlsx zostały przetworzone.\n",
      "Dane z BEDZIN.xlsx zostały przetworzone.\n",
      "Dane z BENEFIT.xlsx zostały przetworzone.\n",
      "Dane z BERLING.xlsx zostały przetworzone.\n",
      "Dane z BETACOM.xlsx zostały przetworzone.\n",
      "Dane z BIGCHEESE.xlsx zostały przetworzone.\n",
      "Dane z BIOCELTIX.xlsx zostały przetworzone.\n",
      "Dane z BIOMAXIM.xlsx zostały przetworzone.\n",
      "Dane z BIOMED.xlsx zostały przetworzone.\n",
      "Dane z BIOPLAN.xlsx zostały przetworzone.\n",
      "Dane z BIOTON.xlsx zostały przetworzone.\n",
      "Dane z BMW.xlsx zostały przetworzone.\n",
      "Dane z BOGDANKA.xlsx zostały przetworzone.\n",
      "Dane z BOOMBIT.xlsx zostały przetworzone.\n",
      "Dane z BORYSZEW.xlsx zostały przetworzone.\n",
      "Dane z BOWIM.xlsx zostały przetworzone.\n",
      "Dane z BRAND24.xlsx zostały przetworzone.\n",
      "Dane z BRASTER.xlsx zostały przetworzone.\n",
      "Dane z BUDIMEX.xlsx zostały przetworzone.\n",
      "Dane z BUMECH.xlsx zostały przetworzone.\n",
      "Dane z CAPTORTX.xlsx zostały przetworzone.\n",
      "Dane z CCC.xlsx zostały przetworzone.\n",
      "Dane z CDPROJEK.xlsx zostały przetworzone.\n",
      "Dane z CDRL.xlsx zostały przetworzone.\n",
      "Dane z CENNOWTE.xlsx zostały przetworzone.\n",
      "Dane z CEZ.xlsx zostały przetworzone.\n",
      "Dane z CFIHOL.xlsx zostały przetworzone.\n",
      "Dane z CIECH.xlsx zostały przetworzone.\n",
      "Dane z CIGAMES.xlsx zostały przetworzone.\n",
      "Dane z CITYSERV.xlsx zostały przetworzone.\n",
      "Dane z CLNPHARMA.xlsx zostały przetworzone.\n",
      "Dane z COALENER.xlsx zostały przetworzone.\n",
      "Dane z COGNOR.xlsx zostały przetworzone.\n",
      "Dane z COMARCH.xlsx zostały przetworzone.\n",
      "Dane z COMPERIA.xlsx zostały przetworzone.\n",
      "Dane z COMPREMUM.xlsx zostały przetworzone.\n",
      "Dane z COMP_W.xlsx zostały przetworzone.\n",
      "Dane z CORMAY.xlsx zostały przetworzone.\n",
      "Dane z CREEPYJAR.xlsx zostały przetworzone.\n",
      "Dane z CREOTECH.xlsx zostały przetworzone.\n",
      "Dane z CYFPOLS.xlsx zostały przetworzone.\n",
      "Dane z DADELO.xlsx zostały przetworzone.\n",
      "Dane z DATAWALK.xlsx zostały przetworzone.\n",
      "Dane z DEBICA.xlsx zostały przetworzone.\n",
      "Dane z DECORA.xlsx zostały przetworzone.\n",
      "Dane z DEKPOL.xlsx zostały przetworzone.\n",
      "Dane z DELKO.xlsx zostały przetworzone.\n",
      "Dane z DIGITANET.xlsx zostały przetworzone.\n",
      "Dane z DIGITREE.xlsx zostały przetworzone.\n",
      "Dane z DINOPL.xlsx zostały przetworzone.\n",
      "Dane z DOMDEVEL.xlsx zostały przetworzone.\n",
      "Dane z DREWEX.xlsx zostały przetworzone.\n",
      "Dane z DROZAPOL.xlsx zostały przetworzone.\n",
      "Dane z EDINV.xlsx zostały przetworzone.\n",
      "Dane z EFEKT.xlsx zostały przetworzone.\n",
      "Dane z EKO_EXP.xlsx zostały przetworzone.\n",
      "Dane z ELEKTROT.xlsx zostały przetworzone.\n",
      "Dane z ELZAB.xlsx zostały przetworzone.\n",
      "Dane z EMC.xlsx zostały przetworzone.\n",
      "Dane z ENEA.xlsx zostały przetworzone.\n",
      "Dane z ENEFI.xlsx zostały przetworzone.\n",
      "Dane z ENELMED.xlsx zostały przetworzone.\n",
      "Dane z ENERGA.xlsx zostały przetworzone.\n",
      "Dane z ENERGOAP.xlsx zostały przetworzone.\n",
      "Dane z ENERGOIN.xlsx zostały przetworzone.\n",
      "Dane z ENTER.xlsx zostały przetworzone.\n",
      "Dane z ERBUD.xlsx zostały przetworzone.\n",
      "Dane z ERG.xlsx zostały przetworzone.\n",
      "Dane z ESOTIQ.xlsx zostały przetworzone.\n",
      "Dane z EUROCASH.xlsx zostały przetworzone.\n",
      "Dane z EUROTEL.xlsx zostały przetworzone.\n",
      "Dane z FAMUR.xlsx zostały przetworzone.\n",
      "Dane z FASING.xlsx zostały przetworzone.\n",
      "Dane z FEERUM.xlsx zostały przetworzone.\n",
      "Dane z FERRO.xlsx zostały przetworzone.\n",
      "Dane z FERRUM.xlsx zostały przetworzone.\n",
      "Dane z FORTE.xlsx zostały przetworzone.\n",
      "Dane z GAMEOPS.xlsx zostały przetworzone.\n",
      "Dane z GAMFACTOR.xlsx zostały przetworzone.\n",
      "Dane z GIGROUP.xlsx zostały przetworzone.\n",
      "Dane z GLOBCOSM.xlsx zostały przetworzone.\n",
      "Dane z GOBARTO.xlsx zostały przetworzone.\n",
      "Dane z GREENX.xlsx zostały przetworzone.\n",
      "Dane z GRODNO.xlsx zostały przetworzone.\n",
      "Dane z GRUPRACUJ.xlsx zostały przetworzone.\n",
      "Dane z HARPER.xlsx zostały przetworzone.\n",
      "Dane z HELIO.xlsx zostały przetworzone.\n",
      "Dane z HERKULES.xlsx zostały przetworzone.\n",
      "Dane z HOLLYWOO.xlsx zostały przetworzone.\n",
      "Dane z HUUUGE.xlsx zostały przetworzone.\n",
      "Dane z HYDROTOR.xlsx zostały przetworzone.\n",
      "Dane z IFIRMA.xlsx zostały przetworzone.\n",
      "Dane z IFSA.xlsx zostały przetworzone.\n",
      "Dane z IMCSA.xlsx zostały przetworzone.\n",
      "Dane z INSTAL_K.xlsx zostały przetworzone.\n",
      "Dane z INTERCAR.xlsx zostały przetworzone.\n",
      "Dane z INTERFER.xlsx zostały przetworzone.\n",
      "Dane z INTERLUB.xlsx zostały przetworzone.\n",
      "Dane z INTERMED.xlsx zostały przetworzone.\n",
      "Dane z INTERRAO.xlsx zostały przetworzone.\n",
      "Dane z INTERSPO.xlsx zostały przetworzone.\n",
      "Dane z INTROL.xlsx zostały przetworzone.\n",
      "Dane z ITMTRADE.xlsx zostały przetworzone.\n",
      "Dane z IZOBLOK.xlsx zostały przetworzone.\n",
      "Dane z IZOL_JAR.xlsx zostały przetworzone.\n",
      "Dane z IZOSTAL.xlsx zostały przetworzone.\n",
      "Dane z JSW.xlsx zostały przetworzone.\n",
      "Dane z JWWINV.xlsx zostały przetworzone.\n",
      "Dane z K2HOLDING.xlsx zostały przetworzone.\n",
      "Dane z KCI.xlsx zostały przetworzone.\n",
      "Dane z KDMSHIP.xlsx zostały przetworzone.\n",
      "Dane z KERNEL.xlsx zostały przetworzone.\n",
      "Dane z KETY.xlsx zostały przetworzone.\n",
      "Dane z KGHM.xlsx zostały przetworzone.\n",
      "Dane z KGL.xlsx zostały przetworzone.\n",
      "Dane z KINOPL.xlsx zostały przetworzone.\n",
      "Dane z KOGENER.xlsx zostały przetworzone.\n",
      "Dane z KOMPAP.xlsx zostały przetworzone.\n",
      "Dane z KOMPUTRO.xlsx zostały przetworzone.\n",
      "Dane z KORBUDOM.xlsx zostały przetworzone.\n",
      "Dane z KPPD.xlsx zostały przetworzone.\n",
      "Dane z KRAKCHEM.xlsx zostały przetworzone.\n",
      "Dane z KRKA.xlsx zostały przetworzone.\n",
      "Dane z KRVITAMI.xlsx zostały przetworzone.\n",
      "Dane z KRYNICKI.xlsx zostały przetworzone.\n",
      "Dane z KSGAGRO.xlsx zostały przetworzone.\n",
      "Dane z LABOPRIN.xlsx zostały przetworzone.\n",
      "Dane z LARK.xlsx zostały przetworzone.\n",
      "Dane z LARQ.xlsx zostały przetworzone.\n",
      "Dane z LENA.xlsx zostały przetworzone.\n",
      "Dane z LENTEX.xlsx zostały przetworzone.\n",
      "Dane z LESS.xlsx zostały przetworzone.\n",
      "Dane z LIBET.xlsx zostały przetworzone.\n",
      "Dane z LIVECHAT.xlsx zostały przetworzone.\n",
      "Dane z LOTOS.xlsx zostały przetworzone.\n",
      "Dane z LPP.xlsx zostały przetworzone.\n",
      "Dane z LSISOFT.xlsx zostały przetworzone.\n",
      "Dane z LUBAWA.xlsx zostały przetworzone.\n",
      "Dane z LZPS.xlsx zostały przetworzone.\n",
      "Dane z MABION.xlsx zostały przetworzone.\n",
      "Dane z MAKARONY.xlsx zostały przetworzone.\n",
      "Dane z MANGATA.xlsx zostały przetworzone.\n",
      "Dane z MANYDEV.xlsx zostały przetworzone.\n",
      "Dane z MASTERPH.xlsx zostały przetworzone.\n",
      "Dane z MAXCOM.xlsx zostały przetworzone.\n",
      "Dane z MBWS.xlsx zostały przetworzone.\n",
      "Dane z MDIENERG.xlsx zostały przetworzone.\n",
      "Dane z MEDIACAP.xlsx zostały przetworzone.\n",
      "Dane z MEDICALG.xlsx zostały przetworzone.\n",
      "Dane z MEDINICE.xlsx zostały przetworzone.\n",
      "Dane z MEGAR.xlsx zostały przetworzone.\n",
      "Dane z MENNICA.xlsx zostały przetworzone.\n",
      "Dane z MERCATOR.xlsx zostały przetworzone.\n",
      "Dane z MERCEDES.xlsx zostały przetworzone.\n",
      "Dane z MERCOR.xlsx zostały przetworzone.\n",
      "Dane z MEXPOLSKA.xlsx zostały przetworzone.\n",
      "Dane z MFOSA.xlsx zostały przetworzone.\n",
      "Dane z MILKI.xlsx zostały przetworzone.\n",
      "Dane z MIRACUL.xlsx zostały przetworzone.\n",
      "Dane z MIRBUD.xlsx zostały przetworzone.\n",
      "Dane z MLSYSTEM.xlsx zostały przetworzone.\n",
      "Dane z MOBRUK.xlsx zostały przetworzone.\n",
      "Dane z MOJ.xlsx zostały przetworzone.\n",
      "Dane z MOL.xlsx zostały przetworzone.\n",
      "Dane z MOLECURE.xlsx zostały przetworzone.\n",
      "Dane z MONNARI.xlsx zostały przetworzone.\n",
      "Dane z MOST_PK.xlsx zostały przetworzone.\n",
      "Dane z MOST_WWA.xlsx zostały przetworzone.\n",
      "Dane z MOST_ZAB.xlsx zostały przetworzone.\n",
      "Dane z MUZA.xlsx zostały przetworzone.\n",
      "Dane z NANOGROUP.xlsx zostały przetworzone.\n",
      "Dane z NETIA.xlsx zostały przetworzone.\n",
      "Dane z NEUCA.xlsx zostały przetworzone.\n",
      "Dane z NEWAG.xlsx zostały przetworzone.\n",
      "Dane z NEXITY.xlsx zostały przetworzone.\n",
      "Dane z NOVATURAS.xlsx zostały przetworzone.\n",
      "Dane z NOVITA.xlsx zostały przetworzone.\n",
      "Dane z NTT.xlsx zostały przetworzone.\n",
      "Dane z ODLEWNIE.xlsx zostały przetworzone.\n",
      "Dane z OEX.xlsx zostały przetworzone.\n",
      "Dane z ONDE.xlsx zostały przetworzone.\n",
      "Dane z OPONEO.xlsx zostały przetworzone.\n",
      "Dane z OPTEAM.xlsx zostały przetworzone.\n",
      "Dane z ORANGEPL.xlsx zostały przetworzone.\n",
      "Dane z ORZELBIA.xlsx zostały przetworzone.\n",
      "Dane z OTLOGIS.xlsx zostały przetworzone.\n",
      "Dane z OVOSTAR.xlsx zostały przetworzone.\n",
      "Dane z PAK.xlsx zostały przetworzone.\n",
      "Dane z PAMAPOL.xlsx zostały przetworzone.\n",
      "Dane z PANOVA.xlsx zostały przetworzone.\n",
      "Dane z PATENTUS.xlsx zostały przetworzone.\n",
      "Dane z PBG.xlsx zostały przetworzone.\n",
      "Dane z PBKM.xlsx zostały przetworzone.\n",
      "Dane z PCCEXOL.xlsx zostały przetworzone.\n",
      "Dane z PCCROKIT.xlsx zostały przetworzone.\n",
      "Dane z PCFGROUP.xlsx zostały przetworzone.\n",
      "Dane z PC_GUARD.xlsx zostały przetworzone.\n",
      "Dane z PEKABEX.xlsx zostały przetworzone.\n",
      "Dane z PEP.xlsx zostały przetworzone.\n",
      "Dane z PEPCO.xlsx zostały przetworzone.\n",
      "Dane z PEPEES.xlsx zostały przetworzone.\n",
      "Dane z PGE.xlsx zostały przetworzone.\n",
      "Dane z PGNIG.xlsx zostały przetworzone.\n",
      "Dane z PGSSOFT.xlsx zostały przetworzone.\n",
      "Dane z PHARMENA.xlsx zostały przetworzone.\n",
      "Dane z PHOTON.xlsx zostały przetworzone.\n",
      "Dane z PJPMAKRUM.xlsx zostały przetworzone.\n",
      "Dane z PKNORLEN.xlsx zostały przetworzone.\n",
      "Dane z PKPCARGO.xlsx zostały przetworzone.\n",
      "Dane z PLASTBOX.xlsx zostały przetworzone.\n",
      "Dane z PLAYWAY.xlsx zostały przetworzone.\n",
      "Dane z PMPG.xlsx zostały przetworzone.\n",
      "Dane z POLICE.xlsx zostały przetworzone.\n",
      "Dane z POLIMEX.xlsx zostały przetworzone.\n",
      "Dane z POLTREG.xlsx zostały przetworzone.\n",
      "Dane z POLWAX.xlsx zostały przetworzone.\n",
      "Dane z PRIMAMOD.xlsx zostały przetworzone.\n",
      "Dane z PRIMETECH.xlsx zostały przetworzone.\n",
      "Dane z PROCAD.xlsx zostały przetworzone.\n",
      "Dane z PROCHEM.xlsx zostały przetworzone.\n",
      "Dane z PULAWY.xlsx zostały przetworzone.\n",
      "Dane z PUNKPIRAT.xlsx zostały przetworzone.\n",
      "Dane z PURE.xlsx zostały przetworzone.\n",
      "Dane z QUANTUM.xlsx zostały przetworzone.\n",
      "Dane z R22.xlsx zostały przetworzone.\n",
      "Dane z RADPOL.xlsx zostały przetworzone.\n",
      "Dane z RAFAKO.xlsx zostały przetworzone.\n",
      "Dane z RAFAMET.xlsx zostały przetworzone.\n",
      "Dane z RAINBOW.xlsx zostały przetworzone.\n",
      "Dane z RAWLPLUG.xlsx zostały przetworzone.\n",
      "Dane z REDAN.xlsx zostały przetworzone.\n",
      "Dane z REGNON.xlsx zostały przetworzone.\n",
      "Dane z RELPOL.xlsx zostały przetworzone.\n",
      "Dane z REMAK.xlsx zostały przetworzone.\n",
      "Dane z RESBUD.xlsx zostały przetworzone.\n",
      "Dane z RONSON.xlsx zostały przetworzone.\n",
      "Dane z ROPCZYCE.xlsx zostały przetworzone.\n",
      "Dane z RYVU.xlsx zostały przetworzone.\n",
      "Dane z SADOVAYA.xlsx zostały przetworzone.\n",
      "Dane z SANWIL.xlsx zostały przetworzone.\n",
      "Dane z SATIS.xlsx zostały przetworzone.\n",
      "Dane z SECOWAR.xlsx zostały przetworzone.\n",
      "Dane z SEKO.xlsx zostały przetworzone.\n",
      "Dane z SELENAFM.xlsx zostały przetworzone.\n",
      "Dane z SELVITA.xlsx zostały przetworzone.\n",
      "Dane z SERINUS.xlsx zostały przetworzone.\n",
      "Dane z SESCOM.xlsx zostały przetworzone.\n",
      "Dane z SFINKS.xlsx zostały przetworzone.\n",
      "Dane z SHOPER.xlsx zostały przetworzone.\n",
      "Dane z SILVAIR.xlsx zostały przetworzone.\n",
      "Dane z SILVANO.xlsx zostały przetworzone.\n",
      "Dane z SIMFABRIC.xlsx zostały przetworzone.\n",
      "Dane z SIMPLE.xlsx zostały przetworzone.\n",
      "Dane z SKOTAN.xlsx zostały przetworzone.\n",
      "Dane z SLEEPZAG.xlsx zostały przetworzone.\n",
      "Dane z SNIEZKA.xlsx zostały przetworzone.\n",
      "Dane z SOLAR.xlsx zostały przetworzone.\n",
      "Dane z SONEL.xlsx zostały przetworzone.\n",
      "Dane z SOPHARM.xlsx zostały przetworzone.\n",
      "Dane z SPYROSOFT.xlsx zostały przetworzone.\n",
      "Dane z STALEXP.xlsx zostały przetworzone.\n",
      "Dane z STALPROD.xlsx zostały przetworzone.\n",
      "Dane z STALPROF.xlsx zostały przetworzone.\n",
      "Dane z STOMIL_S.xlsx zostały przetworzone.\n",
      "Dane z STSHOLDING.xlsx zostały przetworzone.\n",
      "Dane z SUNEX.xlsx zostały przetworzone.\n",
      "Dane z SUWARY.xlsx zostały przetworzone.\n",
      "Dane z SWISSMED.xlsx zostały przetworzone.\n",
      "Dane z SYGNITY.xlsx zostały przetworzone.\n",
      "Dane z SYNEKTIK.xlsx zostały przetworzone.\n",
      "Dane z TALEX.xlsx zostały przetworzone.\n",
      "Dane z TARCZYNS.xlsx zostały przetworzone.\n",
      "Dane z TATRMR.xlsx zostały przetworzone.\n",
      "Dane z TAURON.xlsx zostały przetworzone.\n",
      "Dane z TBULL.xlsx zostały przetworzone.\n",
      "Dane z TERMOREX.xlsx zostały przetworzone.\n",
      "Dane z TESGAS.xlsx zostały przetworzone.\n",
      "Dane z TIM.xlsx zostały przetworzone.\n",
      "Dane z TORPOL.xlsx zostały przetworzone.\n",
      "Dane z TOYA.xlsx zostały przetworzone.\n",
      "Dane z TRAKCJA.xlsx zostały przetworzone.\n",
      "Dane z TRANSPOL.xlsx zostały przetworzone.\n",
      "Dane z TSGAMES.xlsx zostały przetworzone.\n",
      "Dane z TXM.xlsx zostały przetworzone.\n",
      "Dane z UFGAMES.xlsx zostały przetworzone.\n",
      "Dane z ULMA.xlsx zostały przetworzone.\n",
      "Dane z ULTGAMES.xlsx zostały przetworzone.\n",
      "Dane z UNIBEP.xlsx zostały przetworzone.\n",
      "Dane z UNIMA.xlsx zostały przetworzone.\n",
      "Dane z UNIMOT.xlsx zostały przetworzone.\n",
      "Dane z URSUS.xlsx zostały przetworzone.\n",
      "Dane z VERCOM.xlsx zostały przetworzone.\n",
      "Dane z VIGOPHOTN.xlsx zostały przetworzone.\n",
      "Dane z VISTAL.xlsx zostały przetworzone.\n",
      "Dane z VIVID.xlsx zostały przetworzone.\n",
      "Dane z VOXEL.xlsx zostały przetworzone.\n",
      "Dane z VRG.xlsx zostały przetworzone.\n",
      "Dane z WASKO.xlsx zostały przetworzone.\n",
      "Dane z WAWEL.xlsx zostały przetworzone.\n",
      "Dane z WIELTON.xlsx zostały przetworzone.\n",
      "Dane z WIRTUALN.xlsx zostały przetworzone.\n",
      "Dane z WITTCHEN.xlsx zostały przetworzone.\n",
      "Dane z WOJAS.xlsx zostały przetworzone.\n",
      "Dane z XTPL.xlsx zostały przetworzone.\n",
      "Dane z ZAMET.xlsx zostały przetworzone.\n",
      "Dane z ZPC_OTM.xlsx zostały przetworzone.\n",
      "Dane z ZPUE.xlsx zostały przetworzone.\n",
      "Dane z ZREMBCH.xlsx zostały przetworzone.\n",
      "Dane z ZUE.xlsx zostały przetworzone.\n",
      "Dane z ZUK.xlsx zostały przetworzone.\n",
      "Dane z ZYWIEC.xlsx zostały przetworzone.\n"
     ]
    }
   ],
   "source": [
    "df_names = process_company_sector(FOLDER_PATH)"
   ],
   "metadata": {
    "collapsed": false,
    "ExecuteTime": {
     "end_time": "2024-05-17T14:46:24.455113700Z",
     "start_time": "2024-05-17T14:45:21.709297300Z"
    }
   },
   "id": "2afe4e6288f0d029",
   "execution_count": 7
  },
  {
   "cell_type": "code",
   "outputs": [],
   "source": [
    "output_csv_path = 'dataframes/names_gpw.csv'\n",
    "df_names.to_csv(output_csv_path, index=False)"
   ],
   "metadata": {
    "collapsed": false,
    "ExecuteTime": {
     "end_time": "2024-05-17T14:46:24.471187300Z",
     "start_time": "2024-05-17T14:46:24.451173700Z"
    }
   },
   "id": "bf5abe1e34f40873",
   "execution_count": 8
  },
  {
   "cell_type": "markdown",
   "source": [
    "# QS DATA"
   ],
   "metadata": {
    "collapsed": false
   },
   "id": "d482586e97436c50"
  },
  {
   "cell_type": "code",
   "outputs": [],
   "source": [
    "def process_excel_data(base_folder):\n",
    "    folder_path = os.path.join(base_folder)\n",
    "    all_data = []\n",
    "\n",
    "    row_ranges = [\n",
    "        range(2, 23),   # Rows 3 to 22 inclusive, zero-indexed\n",
    "        range(30, 60),  # Rows 31 to 59 inclusive\n",
    "        range(60, 94),  # Rows 61 to 93 inclusive\n",
    "        range(254, 276),  # Rows 255 to 275 inclusive\n",
    "        range(278, 284),  # Rows 279 to 283 inclusive\n",
    "        range(290, 294)   # Rows 291 to 293 inclusive\n",
    "    ]\n",
    "\n",
    "    for filename in os.listdir(folder_path):\n",
    "        if filename.endswith('.xlsx'):\n",
    "            file_path = os.path.join(folder_path, filename)\n",
    "            print(f\"Processing file: {filename}\")\n",
    "            try:\n",
    "                data = pd.read_excel(file_path, sheet_name='QS', header=None)\n",
    "\n",
    "                for row_range in row_ranges:\n",
    "                    headers = data.iloc[list(row_range), 2].tolist()\n",
    "                    range_data = data.iloc[list(row_range), 3:102]\n",
    "                    range_data = range_data.replace(0, np.nan)\n",
    "\n",
    "                    transposed_data = range_data.transpose()\n",
    "                    transposed_data.columns = headers\n",
    "                    transposed_data['filename'] = filename\n",
    "\n",
    "                    all_data.append(transposed_data)\n",
    "            except Exception as e:\n",
    "                print(f\"Error processing file {filename}: {e}\")\n",
    "\n",
    "    if all_data:\n",
    "        results_df = pd.concat(all_data, ignore_index=True)\n",
    "        results_df = results_df.dropna(how='all', subset=[col for col in results_df.columns if col != 'filename'])\n",
    "        results_df = results_df.loc[:, ~results_df.columns.isna()]\n",
    "\n",
    "        return results_df\n",
    "    else:\n",
    "        print(\"No data to concatenate\")\n",
    "        return pd.DataFrame()"
   ],
   "metadata": {
    "collapsed": false,
    "ExecuteTime": {
     "end_time": "2024-05-17T14:46:24.481078400Z",
     "start_time": "2024-05-17T14:46:24.473172800Z"
    }
   },
   "id": "5fc4826cd6e3ba66",
   "execution_count": 9
  },
  {
   "cell_type": "code",
   "outputs": [],
   "source": [
    "df_results = process_excel_data(FOLDER_PATH)\n",
    "df_results"
   ],
   "metadata": {
    "collapsed": false
   },
   "id": "f9f0bdc2f9f1d47e",
   "execution_count": null
  },
  {
   "cell_type": "code",
   "outputs": [],
   "source": [
    "df_cleaned_columns = df_results.dropna(how='all', axis=1)"
   ],
   "metadata": {
    "collapsed": false,
    "ExecuteTime": {
     "end_time": "2024-05-17T14:47:43.315508200Z",
     "start_time": "2024-05-17T14:47:42.773536900Z"
    }
   },
   "id": "82323a4f438e0ca4",
   "execution_count": 11
  },
  {
   "cell_type": "code",
   "outputs": [],
   "source": [
    "df_cleaned_columns = df_cleaned_columns.drop(columns='Start of period')"
   ],
   "metadata": {
    "collapsed": false,
    "ExecuteTime": {
     "end_time": "2024-05-17T14:47:43.434726600Z",
     "start_time": "2024-05-17T14:47:43.306619Z"
    }
   },
   "id": "ccd3bdf77d777832",
   "execution_count": 12
  },
  {
   "cell_type": "code",
   "outputs": [
    {
     "name": "stdout",
     "output_type": "stream",
     "text": [
      "After dropping rows with None, NaN or 0 in 'End of period': (19906, 106)\n"
     ]
    }
   ],
   "source": [
    "df_cleaned_columns = df_cleaned_columns.dropna(subset=['End of period'])\n",
    "df_cleaned_columns = df_cleaned_columns[df_cleaned_columns['End of period'] != 0]\n",
    "print(f\"After dropping rows with None, NaN or 0 in 'End of period': {df_cleaned_columns.shape}\")"
   ],
   "metadata": {
    "collapsed": false,
    "ExecuteTime": {
     "end_time": "2024-05-17T14:47:43.518144800Z",
     "start_time": "2024-05-17T14:47:43.434726600Z"
    }
   },
   "id": "f8a9040427d8e4eb",
   "execution_count": 13
  },
  {
   "cell_type": "code",
   "outputs": [
    {
     "data": {
      "text/plain": "       End of period Revenues from sales Operating profit/loss  \\\n48        2010-03-31                  66                   NaN   \n50        2010-09-30                 129                   NaN   \n51        2010-12-31                 228                   NaN   \n52        2011-03-31                 144                   NaN   \n53        2011-06-30                 959                   NaN   \n...              ...                 ...                   ...   \n195460    2021-09-30              995385                103668   \n195461    2021-12-31              733974                 46890   \n195462    2022-03-31              696778                  6649   \n195463    2022-06-30             1209418                101579   \n195464    2022-09-30             1106635                 61538   \n\n       Net profit/loss attributable to equity holders of the parent  \\\n48                                                    -16             \n50                                                    -26             \n51                                                   -198             \n52                                                    -50             \n53                                                    377             \n...                                                   ...             \n195460                                             104744             \n195461                                              32175             \n195462                                              -1246             \n195463                                              92625             \n195464                                              23844             \n\n       Total comprehensive income attributable to equity holders Depreciation  \\\n48                                                    NaN                  29   \n50                                                    NaN                   6   \n51                                                    NaN                 NaN   \n52                                                    NaN                 NaN   \n53                                                    NaN                   7   \n...                                                   ...                 ...   \n195460                                             106250               36985   \n195461                                              42434               42311   \n195462                                              41367               38391   \n195463                                              45386               39932   \n195464                                              18814               40212   \n\n       Cash flow from operating activities  \\\n48                                     NaN   \n50                                     NaN   \n51                                     NaN   \n52                                     NaN   \n53                                     NaN   \n...                                    ...   \n195460                              354390   \n195461                               50929   \n195462                               13967   \n195463                              101877   \n195464                              156461   \n\n       Cash flow from investing activities  \\\n48                                     NaN   \n50                                     NaN   \n51                                     NaN   \n52                                     NaN   \n53                                     NaN   \n...                                    ...   \n195460                              -22037   \n195461                              -65863   \n195462                              -33280   \n195463                              -21179   \n195464                              -24386   \n\n       Cash flow from financing activities   Aktywa  ... Assets ratio  \\\n48                                     NaN      NaN  ...          NaN   \n50                                     NaN     1411  ...          NaN   \n51                                     NaN  1352.36  ...          NaN   \n52                                     NaN     1342  ...          NaN   \n53                                     NaN     1659  ...          NaN   \n...                                    ...      ...  ...          ...   \n195460                             -433167  2649304  ...          NaN   \n195461                               30091  2508447  ...          NaN   \n195462                               57099  2741947  ...          NaN   \n195463                              -81990  2981239  ...          NaN   \n195464                             -117588  2733389  ...          NaN   \n\n       Debt ratio Debt service ratio Rate debt security Leverage (EM)  \\\n48            NaN                NaN                NaN           NaN   \n50            NaN                NaN                NaN           NaN   \n51            NaN                NaN                NaN           NaN   \n52            NaN                NaN                NaN           NaN   \n53            NaN                NaN                NaN           NaN   \n...           ...                ...                ...           ...   \n195460        NaN                NaN                NaN           NaN   \n195461        NaN                NaN                NaN           NaN   \n195462        NaN                NaN                NaN           NaN   \n195463        NaN                NaN                NaN           NaN   \n195464        NaN                NaN                NaN           NaN   \n\n       Asset utilization (AU) Load gross profit Current financial liabilities  \\\n48                        NaN               NaN                           NaN   \n50                        NaN               NaN                           NaN   \n51                        NaN               NaN                           NaN   \n52                        NaN               NaN                           NaN   \n53                        NaN               NaN                           NaN   \n...                       ...               ...                           ...   \n195460                    NaN               NaN                           NaN   \n195461                    NaN               NaN                           NaN   \n195462                    NaN               NaN                           NaN   \n195463                    NaN               NaN                           NaN   \n195464                    NaN               NaN                           NaN   \n\n       Non-current financial liabilities Financial liabilities (total)  \n48                                   NaN                           NaN  \n50                                   NaN                           NaN  \n51                                   NaN                           NaN  \n52                                   NaN                           NaN  \n53                                   NaN                           NaN  \n...                                  ...                           ...  \n195460                               NaN                           NaN  \n195461                               NaN                           NaN  \n195462                               NaN                           NaN  \n195463                               NaN                           NaN  \n195464                               NaN                           NaN  \n\n[19906 rows x 106 columns]",
      "text/html": "<div>\n<style scoped>\n    .dataframe tbody tr th:only-of-type {\n        vertical-align: middle;\n    }\n\n    .dataframe tbody tr th {\n        vertical-align: top;\n    }\n\n    .dataframe thead th {\n        text-align: right;\n    }\n</style>\n<table border=\"1\" class=\"dataframe\">\n  <thead>\n    <tr style=\"text-align: right;\">\n      <th></th>\n      <th>End of period</th>\n      <th>Revenues from sales</th>\n      <th>Operating profit/loss</th>\n      <th>Net profit/loss attributable to equity holders of the parent</th>\n      <th>Total comprehensive income attributable to equity holders</th>\n      <th>Depreciation</th>\n      <th>Cash flow from operating activities</th>\n      <th>Cash flow from investing activities</th>\n      <th>Cash flow from financing activities</th>\n      <th>Aktywa</th>\n      <th>...</th>\n      <th>Assets ratio</th>\n      <th>Debt ratio</th>\n      <th>Debt service ratio</th>\n      <th>Rate debt security</th>\n      <th>Leverage (EM)</th>\n      <th>Asset utilization (AU)</th>\n      <th>Load gross profit</th>\n      <th>Current financial liabilities</th>\n      <th>Non-current financial liabilities</th>\n      <th>Financial liabilities (total)</th>\n    </tr>\n  </thead>\n  <tbody>\n    <tr>\n      <th>48</th>\n      <td>2010-03-31</td>\n      <td>66</td>\n      <td>NaN</td>\n      <td>-16</td>\n      <td>NaN</td>\n      <td>29</td>\n      <td>NaN</td>\n      <td>NaN</td>\n      <td>NaN</td>\n      <td>NaN</td>\n      <td>...</td>\n      <td>NaN</td>\n      <td>NaN</td>\n      <td>NaN</td>\n      <td>NaN</td>\n      <td>NaN</td>\n      <td>NaN</td>\n      <td>NaN</td>\n      <td>NaN</td>\n      <td>NaN</td>\n      <td>NaN</td>\n    </tr>\n    <tr>\n      <th>50</th>\n      <td>2010-09-30</td>\n      <td>129</td>\n      <td>NaN</td>\n      <td>-26</td>\n      <td>NaN</td>\n      <td>6</td>\n      <td>NaN</td>\n      <td>NaN</td>\n      <td>NaN</td>\n      <td>1411</td>\n      <td>...</td>\n      <td>NaN</td>\n      <td>NaN</td>\n      <td>NaN</td>\n      <td>NaN</td>\n      <td>NaN</td>\n      <td>NaN</td>\n      <td>NaN</td>\n      <td>NaN</td>\n      <td>NaN</td>\n      <td>NaN</td>\n    </tr>\n    <tr>\n      <th>51</th>\n      <td>2010-12-31</td>\n      <td>228</td>\n      <td>NaN</td>\n      <td>-198</td>\n      <td>NaN</td>\n      <td>NaN</td>\n      <td>NaN</td>\n      <td>NaN</td>\n      <td>NaN</td>\n      <td>1352.36</td>\n      <td>...</td>\n      <td>NaN</td>\n      <td>NaN</td>\n      <td>NaN</td>\n      <td>NaN</td>\n      <td>NaN</td>\n      <td>NaN</td>\n      <td>NaN</td>\n      <td>NaN</td>\n      <td>NaN</td>\n      <td>NaN</td>\n    </tr>\n    <tr>\n      <th>52</th>\n      <td>2011-03-31</td>\n      <td>144</td>\n      <td>NaN</td>\n      <td>-50</td>\n      <td>NaN</td>\n      <td>NaN</td>\n      <td>NaN</td>\n      <td>NaN</td>\n      <td>NaN</td>\n      <td>1342</td>\n      <td>...</td>\n      <td>NaN</td>\n      <td>NaN</td>\n      <td>NaN</td>\n      <td>NaN</td>\n      <td>NaN</td>\n      <td>NaN</td>\n      <td>NaN</td>\n      <td>NaN</td>\n      <td>NaN</td>\n      <td>NaN</td>\n    </tr>\n    <tr>\n      <th>53</th>\n      <td>2011-06-30</td>\n      <td>959</td>\n      <td>NaN</td>\n      <td>377</td>\n      <td>NaN</td>\n      <td>7</td>\n      <td>NaN</td>\n      <td>NaN</td>\n      <td>NaN</td>\n      <td>1659</td>\n      <td>...</td>\n      <td>NaN</td>\n      <td>NaN</td>\n      <td>NaN</td>\n      <td>NaN</td>\n      <td>NaN</td>\n      <td>NaN</td>\n      <td>NaN</td>\n      <td>NaN</td>\n      <td>NaN</td>\n      <td>NaN</td>\n    </tr>\n    <tr>\n      <th>...</th>\n      <td>...</td>\n      <td>...</td>\n      <td>...</td>\n      <td>...</td>\n      <td>...</td>\n      <td>...</td>\n      <td>...</td>\n      <td>...</td>\n      <td>...</td>\n      <td>...</td>\n      <td>...</td>\n      <td>...</td>\n      <td>...</td>\n      <td>...</td>\n      <td>...</td>\n      <td>...</td>\n      <td>...</td>\n      <td>...</td>\n      <td>...</td>\n      <td>...</td>\n      <td>...</td>\n    </tr>\n    <tr>\n      <th>195460</th>\n      <td>2021-09-30</td>\n      <td>995385</td>\n      <td>103668</td>\n      <td>104744</td>\n      <td>106250</td>\n      <td>36985</td>\n      <td>354390</td>\n      <td>-22037</td>\n      <td>-433167</td>\n      <td>2649304</td>\n      <td>...</td>\n      <td>NaN</td>\n      <td>NaN</td>\n      <td>NaN</td>\n      <td>NaN</td>\n      <td>NaN</td>\n      <td>NaN</td>\n      <td>NaN</td>\n      <td>NaN</td>\n      <td>NaN</td>\n      <td>NaN</td>\n    </tr>\n    <tr>\n      <th>195461</th>\n      <td>2021-12-31</td>\n      <td>733974</td>\n      <td>46890</td>\n      <td>32175</td>\n      <td>42434</td>\n      <td>42311</td>\n      <td>50929</td>\n      <td>-65863</td>\n      <td>30091</td>\n      <td>2508447</td>\n      <td>...</td>\n      <td>NaN</td>\n      <td>NaN</td>\n      <td>NaN</td>\n      <td>NaN</td>\n      <td>NaN</td>\n      <td>NaN</td>\n      <td>NaN</td>\n      <td>NaN</td>\n      <td>NaN</td>\n      <td>NaN</td>\n    </tr>\n    <tr>\n      <th>195462</th>\n      <td>2022-03-31</td>\n      <td>696778</td>\n      <td>6649</td>\n      <td>-1246</td>\n      <td>41367</td>\n      <td>38391</td>\n      <td>13967</td>\n      <td>-33280</td>\n      <td>57099</td>\n      <td>2741947</td>\n      <td>...</td>\n      <td>NaN</td>\n      <td>NaN</td>\n      <td>NaN</td>\n      <td>NaN</td>\n      <td>NaN</td>\n      <td>NaN</td>\n      <td>NaN</td>\n      <td>NaN</td>\n      <td>NaN</td>\n      <td>NaN</td>\n    </tr>\n    <tr>\n      <th>195463</th>\n      <td>2022-06-30</td>\n      <td>1209418</td>\n      <td>101579</td>\n      <td>92625</td>\n      <td>45386</td>\n      <td>39932</td>\n      <td>101877</td>\n      <td>-21179</td>\n      <td>-81990</td>\n      <td>2981239</td>\n      <td>...</td>\n      <td>NaN</td>\n      <td>NaN</td>\n      <td>NaN</td>\n      <td>NaN</td>\n      <td>NaN</td>\n      <td>NaN</td>\n      <td>NaN</td>\n      <td>NaN</td>\n      <td>NaN</td>\n      <td>NaN</td>\n    </tr>\n    <tr>\n      <th>195464</th>\n      <td>2022-09-30</td>\n      <td>1106635</td>\n      <td>61538</td>\n      <td>23844</td>\n      <td>18814</td>\n      <td>40212</td>\n      <td>156461</td>\n      <td>-24386</td>\n      <td>-117588</td>\n      <td>2733389</td>\n      <td>...</td>\n      <td>NaN</td>\n      <td>NaN</td>\n      <td>NaN</td>\n      <td>NaN</td>\n      <td>NaN</td>\n      <td>NaN</td>\n      <td>NaN</td>\n      <td>NaN</td>\n      <td>NaN</td>\n      <td>NaN</td>\n    </tr>\n  </tbody>\n</table>\n<p>19906 rows × 106 columns</p>\n</div>"
     },
     "execution_count": 14,
     "metadata": {},
     "output_type": "execute_result"
    }
   ],
   "source": [
    "df_cleaned_columns"
   ],
   "metadata": {
    "collapsed": false,
    "ExecuteTime": {
     "end_time": "2024-05-17T14:47:43.547939200Z",
     "start_time": "2024-05-17T14:47:43.510430800Z"
    }
   },
   "id": "bb7f3b97ca6d32f4",
   "execution_count": 14
  },
  {
   "cell_type": "code",
   "outputs": [
    {
     "data": {
      "text/plain": "['End of period',\n 'Revenues from sales',\n 'Operating profit/loss',\n 'Net profit/loss attributable to equity holders of the parent',\n 'Total comprehensive income attributable to equity holders',\n 'Depreciation',\n 'Cash flow from operating activities',\n 'Cash flow from investing activities',\n 'Cash flow from financing activities',\n 'Aktywa',\n 'Non-current assets',\n 'Current assets',\n 'Equity shareholders of the parent',\n 'Non-current liabilities',\n 'Current liabilities',\n \"Number of shares ('000)\",\n 'Earnings per share',\n 'Total comprehensive income per share',\n 'Book value per share',\n 'Accounting standard',\n 'filename',\n 'Property, plant and equipment',\n 'Exploration for and evaluation of mineral resources',\n 'Intangible assets',\n 'Goodwill',\n 'Investment property',\n 'Right-of-use assets',\n 'Investment in affiliates',\n 'Non-current financial assets',\n 'Non-current loans and receivables',\n 'Deferred income tax',\n 'Non-current deferred charges and accruals',\n 'Non-current derivative instruments',\n 'Other non-current assets',\n 'Inventories',\n 'Current intangible assets',\n 'Biological assets',\n 'Trade receivables',\n 'Loans and other receivables',\n 'Financial assets',\n 'Cash and cash equivalents',\n 'Accruals',\n 'Assets from current tax',\n 'Derivative instruments',\n 'Other assets',\n 'Assets held for sale and discontinuing operations',\n 'Called up capital',\n 'Own shares',\n 'EQUITY & LIABILITIES',\n 'Share capital',\n 'Called up share capital',\n 'Treasury shares',\n 'Supplementary capital',\n 'Valuation and exchange differences',\n 'Other capitals',\n 'Retained earnings / accumulated losses',\n 'Non-controlling interests',\n 'Non-current liabilities from derivatives',\n 'Non-current loans and borrowings',\n 'Non-current liabilities from bonds',\n 'Non-current liabilities from finance leases',\n 'Non-current trade payables',\n 'Long-term provision for employee benefits',\n 'Deferred tax liabilities',\n 'Non-current provision',\n 'Other non-current liabilities',\n 'Non-current accruals (liability)',\n 'Liabilities from derivatives',\n 'Financial liabilities (loans and borrowings)',\n 'Bond liabilities',\n 'Liabilities from finance leases',\n 'Trade payables',\n 'Employee benefits',\n 'Current tax liabilities',\n 'Provisions',\n 'Other liabilities',\n 'Accruals (liability)',\n 'Liabilities related to assets held for sale and discontinued operations',\n 'Date of publication',\n 'Gross profit margin on sales',\n 'Operating profit margin',\n 'Gross profit margin',\n 'Net profit margin',\n 'Return on equity (ROE)',\n 'Return on assets (ROA)',\n 'Working capital ratio',\n 'Current ratio',\n 'Quick ratio',\n 'Cash ratio',\n 'Receivables turnover',\n 'Inventory turnover',\n 'The operating cycle',\n 'Rotation commitments',\n 'Cash conversion cycle',\n 'Rotation assets',\n 'Rotation of assets',\n 'Assets ratio',\n 'Debt ratio',\n 'Debt service ratio',\n 'Rate debt security',\n 'Leverage (EM)',\n 'Asset utilization (AU)',\n 'Load gross profit',\n 'Current financial liabilities',\n 'Non-current financial liabilities',\n 'Financial liabilities (total)']"
     },
     "execution_count": 15,
     "metadata": {},
     "output_type": "execute_result"
    }
   ],
   "source": [
    "df_cleaned_columns.columns.tolist()"
   ],
   "metadata": {
    "collapsed": false,
    "ExecuteTime": {
     "end_time": "2024-05-17T14:47:43.560046Z",
     "start_time": "2024-05-17T14:47:43.544100Z"
    }
   },
   "id": "887c0a0715dceb4b",
   "execution_count": 15
  },
  {
   "cell_type": "code",
   "outputs": [],
   "source": [
    "output_csv_path = 'dataframes/dataframe_gpw.csv'\n",
    "df_cleaned_columns.to_csv(output_csv_path, index=False)"
   ],
   "metadata": {
    "collapsed": false,
    "ExecuteTime": {
     "end_time": "2024-05-17T14:47:43.812223300Z",
     "start_time": "2024-05-17T14:47:43.550509600Z"
    }
   },
   "id": "a57e712eaef96fd9",
   "execution_count": 16
  },
  {
   "cell_type": "markdown",
   "source": [
    "# nn_gpw_data"
   ],
   "metadata": {
    "collapsed": false
   },
   "id": "e2a8e680a9f753bb"
  },
  {
   "cell_type": "code",
   "outputs": [],
   "source": [
    "columns_to_keep = [\n",
    "    'filename',\n",
    "    # Additional Information\n",
    "    'Current financial liabilities',\n",
    "    'Non-current financial liabilities',\n",
    "    'Financial liabilities (total)',\n",
    "    \n",
    "    # DuPont Indicators\n",
    "    'Return on equity (ROE)',\n",
    "    'Return on assets (ROA)',\n",
    "    'Leverage (EM)',\n",
    "    'Net profit margin',\n",
    "    'Asset utilization (AU)',\n",
    "\n",
    "    # Indicators\n",
    "    'Current ratio',\n",
    "    'Quick ratio',\n",
    "    'Cash ratio',\n",
    "    'Receivables turnover',\n",
    "    'Inventory turnover',\n",
    "    'The operating cycle',\n",
    "    'Rotation commitments',\n",
    "    'Cash conversion cycle',\n",
    "    'Rotation assets',\n",
    "    'Rotation of assets',\n",
    "    'Assets ratio',\n",
    "    'Debt ratio',\n",
    "    'Debt service ratio',\n",
    "    'Rate debt security',\n",
    "    \n",
    "    # Basic Information\n",
    "    'End of period',\n",
    "    \n",
    "    # Aktywa (Assets)\n",
    "    'Non-current assets',\n",
    "    'Current assets',\n",
    "    \n",
    "    # Pasywa (Liabilities)\n",
    "    'Equity shareholders of the parent',\n",
    "    'Non-current liabilities',\n",
    "    'Current liabilities'\n",
    "]"
   ],
   "metadata": {
    "collapsed": false,
    "ExecuteTime": {
     "end_time": "2024-05-17T14:47:43.821075600Z",
     "start_time": "2024-05-17T14:47:43.813704700Z"
    }
   },
   "id": "db1c3ff3054d1028",
   "execution_count": 17
  },
  {
   "cell_type": "code",
   "outputs": [
    {
     "data": {
      "text/plain": "           filename Current financial liabilities  \\\n48       11BIT.xlsx                           NaN   \n50       11BIT.xlsx                           NaN   \n51       11BIT.xlsx                           NaN   \n52       11BIT.xlsx                           NaN   \n53       11BIT.xlsx                           NaN   \n...             ...                           ...   \n195460  ZYWIEC.xlsx                           NaN   \n195461  ZYWIEC.xlsx                           NaN   \n195462  ZYWIEC.xlsx                           NaN   \n195463  ZYWIEC.xlsx                           NaN   \n195464  ZYWIEC.xlsx                           NaN   \n\n       Non-current financial liabilities Financial liabilities (total)  \\\n48                                   NaN                           NaN   \n50                                   NaN                           NaN   \n51                                   NaN                           NaN   \n52                                   NaN                           NaN   \n53                                   NaN                           NaN   \n...                                  ...                           ...   \n195460                               NaN                           NaN   \n195461                               NaN                           NaN   \n195462                               NaN                           NaN   \n195463                               NaN                           NaN   \n195464                               NaN                           NaN   \n\n       Return on equity (ROE) Return on assets (ROA) Leverage (EM)  \\\n48                        NaN                    NaN           NaN   \n50                        NaN                    NaN           NaN   \n51                        NaN                    NaN           NaN   \n52                        NaN                    NaN           NaN   \n53                        NaN                    NaN           NaN   \n...                       ...                    ...           ...   \n195460                    NaN                    NaN           NaN   \n195461                    NaN                    NaN           NaN   \n195462                    NaN                    NaN           NaN   \n195463                    NaN                    NaN           NaN   \n195464                    NaN                    NaN           NaN   \n\n       Net profit margin Asset utilization (AU) Current ratio  ...  \\\n48                   NaN                    NaN           NaN  ...   \n50                   NaN                    NaN           NaN  ...   \n51                   NaN                    NaN           NaN  ...   \n52                   NaN                    NaN           NaN  ...   \n53                   NaN                    NaN           NaN  ...   \n...                  ...                    ...           ...  ...   \n195460               NaN                    NaN           NaN  ...   \n195461               NaN                    NaN           NaN  ...   \n195462               NaN                    NaN           NaN  ...   \n195463               NaN                    NaN           NaN  ...   \n195464               NaN                    NaN           NaN  ...   \n\n       Assets ratio Debt ratio Debt service ratio Rate debt security  \\\n48              NaN        NaN                NaN                NaN   \n50              NaN        NaN                NaN                NaN   \n51              NaN        NaN                NaN                NaN   \n52              NaN        NaN                NaN                NaN   \n53              NaN        NaN                NaN                NaN   \n...             ...        ...                ...                ...   \n195460          NaN        NaN                NaN                NaN   \n195461          NaN        NaN                NaN                NaN   \n195462          NaN        NaN                NaN                NaN   \n195463          NaN        NaN                NaN                NaN   \n195464          NaN        NaN                NaN                NaN   \n\n       End of period Non-current assets Current assets  \\\n48        2010-03-31                NaN            NaN   \n50        2010-09-30                  2           1409   \n51        2010-12-31              55.87        1296.49   \n52        2011-03-31                 86           1256   \n53        2011-06-30                103           1556   \n...              ...                ...            ...   \n195460    2021-09-30            1796783         852521   \n195461    2021-12-31            1726721         781726   \n195462    2022-03-31            1723917        1018030   \n195463    2022-06-30            1730362        1250877   \n195464    2022-09-30            1720912        1012477   \n\n       Equity shareholders of the parent Non-current liabilities  \\\n48                                   NaN                     NaN   \n50                                   709                     NaN   \n51                                1268.2                     NaN   \n52                                  1221                     NaN   \n53                                  1595                     NaN   \n...                                  ...                     ...   \n195460                            395450                   64565   \n195461                            216089                   83037   \n195462                            254238                  620050   \n195463                            288397                 1061326   \n195464                            304293                  960672   \n\n       Current liabilities  \n48                     NaN  \n50                     702  \n51                   84.15  \n52                     110  \n53                      64  \n...                    ...  \n195460             2189289  \n195461             2209321  \n195462             1867659  \n195463             1631516  \n195464             1468424  \n\n[19906 rows x 29 columns]",
      "text/html": "<div>\n<style scoped>\n    .dataframe tbody tr th:only-of-type {\n        vertical-align: middle;\n    }\n\n    .dataframe tbody tr th {\n        vertical-align: top;\n    }\n\n    .dataframe thead th {\n        text-align: right;\n    }\n</style>\n<table border=\"1\" class=\"dataframe\">\n  <thead>\n    <tr style=\"text-align: right;\">\n      <th></th>\n      <th>filename</th>\n      <th>Current financial liabilities</th>\n      <th>Non-current financial liabilities</th>\n      <th>Financial liabilities (total)</th>\n      <th>Return on equity (ROE)</th>\n      <th>Return on assets (ROA)</th>\n      <th>Leverage (EM)</th>\n      <th>Net profit margin</th>\n      <th>Asset utilization (AU)</th>\n      <th>Current ratio</th>\n      <th>...</th>\n      <th>Assets ratio</th>\n      <th>Debt ratio</th>\n      <th>Debt service ratio</th>\n      <th>Rate debt security</th>\n      <th>End of period</th>\n      <th>Non-current assets</th>\n      <th>Current assets</th>\n      <th>Equity shareholders of the parent</th>\n      <th>Non-current liabilities</th>\n      <th>Current liabilities</th>\n    </tr>\n  </thead>\n  <tbody>\n    <tr>\n      <th>48</th>\n      <td>11BIT.xlsx</td>\n      <td>NaN</td>\n      <td>NaN</td>\n      <td>NaN</td>\n      <td>NaN</td>\n      <td>NaN</td>\n      <td>NaN</td>\n      <td>NaN</td>\n      <td>NaN</td>\n      <td>NaN</td>\n      <td>...</td>\n      <td>NaN</td>\n      <td>NaN</td>\n      <td>NaN</td>\n      <td>NaN</td>\n      <td>2010-03-31</td>\n      <td>NaN</td>\n      <td>NaN</td>\n      <td>NaN</td>\n      <td>NaN</td>\n      <td>NaN</td>\n    </tr>\n    <tr>\n      <th>50</th>\n      <td>11BIT.xlsx</td>\n      <td>NaN</td>\n      <td>NaN</td>\n      <td>NaN</td>\n      <td>NaN</td>\n      <td>NaN</td>\n      <td>NaN</td>\n      <td>NaN</td>\n      <td>NaN</td>\n      <td>NaN</td>\n      <td>...</td>\n      <td>NaN</td>\n      <td>NaN</td>\n      <td>NaN</td>\n      <td>NaN</td>\n      <td>2010-09-30</td>\n      <td>2</td>\n      <td>1409</td>\n      <td>709</td>\n      <td>NaN</td>\n      <td>702</td>\n    </tr>\n    <tr>\n      <th>51</th>\n      <td>11BIT.xlsx</td>\n      <td>NaN</td>\n      <td>NaN</td>\n      <td>NaN</td>\n      <td>NaN</td>\n      <td>NaN</td>\n      <td>NaN</td>\n      <td>NaN</td>\n      <td>NaN</td>\n      <td>NaN</td>\n      <td>...</td>\n      <td>NaN</td>\n      <td>NaN</td>\n      <td>NaN</td>\n      <td>NaN</td>\n      <td>2010-12-31</td>\n      <td>55.87</td>\n      <td>1296.49</td>\n      <td>1268.2</td>\n      <td>NaN</td>\n      <td>84.15</td>\n    </tr>\n    <tr>\n      <th>52</th>\n      <td>11BIT.xlsx</td>\n      <td>NaN</td>\n      <td>NaN</td>\n      <td>NaN</td>\n      <td>NaN</td>\n      <td>NaN</td>\n      <td>NaN</td>\n      <td>NaN</td>\n      <td>NaN</td>\n      <td>NaN</td>\n      <td>...</td>\n      <td>NaN</td>\n      <td>NaN</td>\n      <td>NaN</td>\n      <td>NaN</td>\n      <td>2011-03-31</td>\n      <td>86</td>\n      <td>1256</td>\n      <td>1221</td>\n      <td>NaN</td>\n      <td>110</td>\n    </tr>\n    <tr>\n      <th>53</th>\n      <td>11BIT.xlsx</td>\n      <td>NaN</td>\n      <td>NaN</td>\n      <td>NaN</td>\n      <td>NaN</td>\n      <td>NaN</td>\n      <td>NaN</td>\n      <td>NaN</td>\n      <td>NaN</td>\n      <td>NaN</td>\n      <td>...</td>\n      <td>NaN</td>\n      <td>NaN</td>\n      <td>NaN</td>\n      <td>NaN</td>\n      <td>2011-06-30</td>\n      <td>103</td>\n      <td>1556</td>\n      <td>1595</td>\n      <td>NaN</td>\n      <td>64</td>\n    </tr>\n    <tr>\n      <th>...</th>\n      <td>...</td>\n      <td>...</td>\n      <td>...</td>\n      <td>...</td>\n      <td>...</td>\n      <td>...</td>\n      <td>...</td>\n      <td>...</td>\n      <td>...</td>\n      <td>...</td>\n      <td>...</td>\n      <td>...</td>\n      <td>...</td>\n      <td>...</td>\n      <td>...</td>\n      <td>...</td>\n      <td>...</td>\n      <td>...</td>\n      <td>...</td>\n      <td>...</td>\n      <td>...</td>\n    </tr>\n    <tr>\n      <th>195460</th>\n      <td>ZYWIEC.xlsx</td>\n      <td>NaN</td>\n      <td>NaN</td>\n      <td>NaN</td>\n      <td>NaN</td>\n      <td>NaN</td>\n      <td>NaN</td>\n      <td>NaN</td>\n      <td>NaN</td>\n      <td>NaN</td>\n      <td>...</td>\n      <td>NaN</td>\n      <td>NaN</td>\n      <td>NaN</td>\n      <td>NaN</td>\n      <td>2021-09-30</td>\n      <td>1796783</td>\n      <td>852521</td>\n      <td>395450</td>\n      <td>64565</td>\n      <td>2189289</td>\n    </tr>\n    <tr>\n      <th>195461</th>\n      <td>ZYWIEC.xlsx</td>\n      <td>NaN</td>\n      <td>NaN</td>\n      <td>NaN</td>\n      <td>NaN</td>\n      <td>NaN</td>\n      <td>NaN</td>\n      <td>NaN</td>\n      <td>NaN</td>\n      <td>NaN</td>\n      <td>...</td>\n      <td>NaN</td>\n      <td>NaN</td>\n      <td>NaN</td>\n      <td>NaN</td>\n      <td>2021-12-31</td>\n      <td>1726721</td>\n      <td>781726</td>\n      <td>216089</td>\n      <td>83037</td>\n      <td>2209321</td>\n    </tr>\n    <tr>\n      <th>195462</th>\n      <td>ZYWIEC.xlsx</td>\n      <td>NaN</td>\n      <td>NaN</td>\n      <td>NaN</td>\n      <td>NaN</td>\n      <td>NaN</td>\n      <td>NaN</td>\n      <td>NaN</td>\n      <td>NaN</td>\n      <td>NaN</td>\n      <td>...</td>\n      <td>NaN</td>\n      <td>NaN</td>\n      <td>NaN</td>\n      <td>NaN</td>\n      <td>2022-03-31</td>\n      <td>1723917</td>\n      <td>1018030</td>\n      <td>254238</td>\n      <td>620050</td>\n      <td>1867659</td>\n    </tr>\n    <tr>\n      <th>195463</th>\n      <td>ZYWIEC.xlsx</td>\n      <td>NaN</td>\n      <td>NaN</td>\n      <td>NaN</td>\n      <td>NaN</td>\n      <td>NaN</td>\n      <td>NaN</td>\n      <td>NaN</td>\n      <td>NaN</td>\n      <td>NaN</td>\n      <td>...</td>\n      <td>NaN</td>\n      <td>NaN</td>\n      <td>NaN</td>\n      <td>NaN</td>\n      <td>2022-06-30</td>\n      <td>1730362</td>\n      <td>1250877</td>\n      <td>288397</td>\n      <td>1061326</td>\n      <td>1631516</td>\n    </tr>\n    <tr>\n      <th>195464</th>\n      <td>ZYWIEC.xlsx</td>\n      <td>NaN</td>\n      <td>NaN</td>\n      <td>NaN</td>\n      <td>NaN</td>\n      <td>NaN</td>\n      <td>NaN</td>\n      <td>NaN</td>\n      <td>NaN</td>\n      <td>NaN</td>\n      <td>...</td>\n      <td>NaN</td>\n      <td>NaN</td>\n      <td>NaN</td>\n      <td>NaN</td>\n      <td>2022-09-30</td>\n      <td>1720912</td>\n      <td>1012477</td>\n      <td>304293</td>\n      <td>960672</td>\n      <td>1468424</td>\n    </tr>\n  </tbody>\n</table>\n<p>19906 rows × 29 columns</p>\n</div>"
     },
     "execution_count": 18,
     "metadata": {},
     "output_type": "execute_result"
    }
   ],
   "source": [
    "df_second = df_cleaned_columns[columns_to_keep]\n",
    "\n",
    "df_second"
   ],
   "metadata": {
    "collapsed": false,
    "ExecuteTime": {
     "end_time": "2024-05-17T14:47:43.852463200Z",
     "start_time": "2024-05-17T14:47:43.818866Z"
    }
   },
   "id": "6ced1dda1ea8eda9",
   "execution_count": 18
  },
  {
   "cell_type": "code",
   "outputs": [],
   "source": [
    "output_csv_path = 'dataframes/nn_gpw_data.csv'\n",
    "df_second.to_csv(output_csv_path, index=False)"
   ],
   "metadata": {
    "collapsed": false,
    "ExecuteTime": {
     "end_time": "2024-05-17T14:47:43.941958700Z",
     "start_time": "2024-05-17T14:47:43.845844300Z"
    }
   },
   "id": "b5313ea350db8b",
   "execution_count": 19
  }
 ],
 "metadata": {
  "kernelspec": {
   "display_name": "Python 3",
   "language": "python",
   "name": "python3"
  },
  "language_info": {
   "codemirror_mode": {
    "name": "ipython",
    "version": 2
   },
   "file_extension": ".py",
   "mimetype": "text/x-python",
   "name": "python",
   "nbconvert_exporter": "python",
   "pygments_lexer": "ipython2",
   "version": "2.7.6"
  }
 },
 "nbformat": 4,
 "nbformat_minor": 5
}
