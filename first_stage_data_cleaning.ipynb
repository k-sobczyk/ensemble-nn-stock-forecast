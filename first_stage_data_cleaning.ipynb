{
 "cells": [
  {
   "cell_type": "markdown",
   "source": [
    "# Notes\n",
    "WSZYSTKIE PLIKI SĄ IDENTYCZNE. WSZYSTKIE TO EXCEL - 14 kart\n",
    "Czyszczenie:\n",
    "•\tWszystkie NaN na 0\n",
    "•\tSkalowanie przed modelem\n",
    "•\tInżynieria cech (wskaźniki ekonomiczne, różnica miedzy każym z elementów)\n",
    "\n",
    "TESTY DO PRZEPROWADZENIA:\n",
    "•\tUwzglednienie wszystkiego\n",
    "•\tSkupienie sie na zmianach kapitałowych\n",
    "•\tOgraniczenie tylko główne wartości\n",
    "•\tGrupowanie po przedsiębiorstwie? \n",
    "\n",
    "Podsumowanie co wyciągnąć z pliku:\n",
    "Dodatkowa kolumna jako nazwa pliku\n",
    "C – nazwa kolumny w DF\n"
   ],
   "metadata": {
    "collapsed": false
   },
   "id": "748bed7b754d866e"
  },
  {
   "cell_type": "code",
   "outputs": [],
   "source": [
    "import pandas as pd\n",
    "import re\n",
    "from data_utils import *"
   ],
   "metadata": {
    "collapsed": false,
    "ExecuteTime": {
     "end_time": "2024-05-18T14:26:44.595907600Z",
     "start_time": "2024-05-18T14:26:44.488367900Z"
    }
   },
   "id": "d0e00dd47f67dade",
   "execution_count": 235
  },
  {
   "cell_type": "code",
   "outputs": [],
   "source": [
    "names_data = pd.read_csv('dataframes/names_gpw.csv')"
   ],
   "metadata": {
    "collapsed": false,
    "ExecuteTime": {
     "end_time": "2024-05-18T14:26:44.614087800Z",
     "start_time": "2024-05-18T14:26:44.598907300Z"
    }
   },
   "id": "fc9e9aadb88d719a",
   "execution_count": 236
  },
  {
   "cell_type": "code",
   "outputs": [],
   "source": [
    "def clean_column_names(columns):\n",
    "    cleaned_columns = []\n",
    "    for column in columns:\n",
    "        column = column.lower()\n",
    "        column = re.sub(r'\\(.*?\\)', '', column)\n",
    "        column = re.sub(r'[^\\w\\s]', '', column)\n",
    "        column = re.sub(r'\\s+', '_', column)\n",
    "        column = column.rstrip('_')\n",
    "        cleaned_columns.append(column)\n",
    "    return cleaned_columns"
   ],
   "metadata": {
    "collapsed": false,
    "ExecuteTime": {
     "end_time": "2024-05-18T14:26:44.631108100Z",
     "start_time": "2024-05-18T14:26:44.615087900Z"
    }
   },
   "id": "39c0550ebb412fe6",
   "execution_count": 237
  },
  {
   "cell_type": "code",
   "outputs": [],
   "source": [
    "def count_rows_by_filename(df):\n",
    "    counts = df.groupby('filename').size().reset_index(name='count')\n",
    "    return counts"
   ],
   "metadata": {
    "collapsed": false,
    "ExecuteTime": {
     "end_time": "2024-05-18T14:26:44.641753700Z",
     "start_time": "2024-05-18T14:26:44.632108100Z"
    }
   },
   "id": "766384bd5604cbc3",
   "execution_count": 238
  },
  {
   "cell_type": "markdown",
   "source": [
    "# FULL DF CLEARNING"
   ],
   "metadata": {
    "collapsed": false
   },
   "id": "ece792ab9822a192"
  },
  {
   "cell_type": "code",
   "outputs": [],
   "source": [
    "full_data = pd.read_csv(\"dataframes/dataframe_gpw.csv\")"
   ],
   "metadata": {
    "collapsed": false,
    "ExecuteTime": {
     "end_time": "2024-05-18T14:26:44.751792200Z",
     "start_time": "2024-05-18T14:26:44.643754900Z"
    }
   },
   "id": "f91a1aa223ae82ee",
   "execution_count": 239
  },
  {
   "cell_type": "code",
   "outputs": [],
   "source": [
    "data_gpw = pd.merge(full_data, names_data, on='filename')"
   ],
   "metadata": {
    "collapsed": false,
    "ExecuteTime": {
     "end_time": "2024-05-18T14:26:44.766638800Z",
     "start_time": "2024-05-18T14:26:44.748771900Z"
    }
   },
   "id": "b0a2b11f4fa8679a",
   "execution_count": 240
  },
  {
   "cell_type": "code",
   "outputs": [],
   "source": [
    "data_gpw = data_gpw.sort_values(by=['filename', 'End of period'])"
   ],
   "metadata": {
    "collapsed": false,
    "ExecuteTime": {
     "end_time": "2024-05-18T14:26:44.812249700Z",
     "start_time": "2024-05-18T14:26:44.760607800Z"
    }
   },
   "id": "69aadd961210c383",
   "execution_count": 241
  },
  {
   "cell_type": "code",
   "outputs": [],
   "source": [
    "data_gpw.columns = clean_column_names(data_gpw.columns)"
   ],
   "metadata": {
    "collapsed": false,
    "ExecuteTime": {
     "end_time": "2024-05-18T14:26:44.813257100Z",
     "start_time": "2024-05-18T14:26:44.775703600Z"
    }
   },
   "id": "cec52b55198fb780",
   "execution_count": 242
  },
  {
   "cell_type": "code",
   "outputs": [
    {
     "data": {
      "text/plain": "         filename  count\n0      11BIT.xlsx     49\n1      3LPSA.xlsx      6\n2    3RGAMES.xlsx     48\n3         AB.xlsx     70\n4         AC.xlsx     51\n..            ...    ...\n332     ZPUE.xlsx     95\n333  ZREMBCH.xlsx     65\n334      ZUE.xlsx     53\n335      ZUK.xlsx     67\n336   ZYWIEC.xlsx     99\n\n[337 rows x 2 columns]",
      "text/html": "<div>\n<style scoped>\n    .dataframe tbody tr th:only-of-type {\n        vertical-align: middle;\n    }\n\n    .dataframe tbody tr th {\n        vertical-align: top;\n    }\n\n    .dataframe thead th {\n        text-align: right;\n    }\n</style>\n<table border=\"1\" class=\"dataframe\">\n  <thead>\n    <tr style=\"text-align: right;\">\n      <th></th>\n      <th>filename</th>\n      <th>count</th>\n    </tr>\n  </thead>\n  <tbody>\n    <tr>\n      <th>0</th>\n      <td>11BIT.xlsx</td>\n      <td>49</td>\n    </tr>\n    <tr>\n      <th>1</th>\n      <td>3LPSA.xlsx</td>\n      <td>6</td>\n    </tr>\n    <tr>\n      <th>2</th>\n      <td>3RGAMES.xlsx</td>\n      <td>48</td>\n    </tr>\n    <tr>\n      <th>3</th>\n      <td>AB.xlsx</td>\n      <td>70</td>\n    </tr>\n    <tr>\n      <th>4</th>\n      <td>AC.xlsx</td>\n      <td>51</td>\n    </tr>\n    <tr>\n      <th>...</th>\n      <td>...</td>\n      <td>...</td>\n    </tr>\n    <tr>\n      <th>332</th>\n      <td>ZPUE.xlsx</td>\n      <td>95</td>\n    </tr>\n    <tr>\n      <th>333</th>\n      <td>ZREMBCH.xlsx</td>\n      <td>65</td>\n    </tr>\n    <tr>\n      <th>334</th>\n      <td>ZUE.xlsx</td>\n      <td>53</td>\n    </tr>\n    <tr>\n      <th>335</th>\n      <td>ZUK.xlsx</td>\n      <td>67</td>\n    </tr>\n    <tr>\n      <th>336</th>\n      <td>ZYWIEC.xlsx</td>\n      <td>99</td>\n    </tr>\n  </tbody>\n</table>\n<p>337 rows × 2 columns</p>\n</div>"
     },
     "execution_count": 243,
     "metadata": {},
     "output_type": "execute_result"
    }
   ],
   "source": [
    "count_rows_by_filename(data_gpw)"
   ],
   "metadata": {
    "collapsed": false,
    "ExecuteTime": {
     "end_time": "2024-05-18T14:26:44.814255900Z",
     "start_time": "2024-05-18T14:26:44.780941600Z"
    }
   },
   "id": "eed39f421586c0f4",
   "execution_count": 243
  },
  {
   "cell_type": "code",
   "outputs": [],
   "source": [
    "# Delete all companies under 4 because its not enough to cover any change in assets or liabilities\n",
    "filenames_to_remove = [\n",
    "    'SADOVAYA.xlsx',\n",
    "    'BMW.xlsx',\n",
    "    'KERNEL.xlsx',\n",
    "    'SILVANO.xlsx',\n",
    "    'IMCSA.xlsx',\n",
    "    'STSHOLDING.xlsx'\n",
    "]\n",
    "\n",
    "df_filtered = data_gpw[~data_gpw['filename'].isin(filenames_to_remove)]"
   ],
   "metadata": {
    "collapsed": false,
    "ExecuteTime": {
     "end_time": "2024-05-18T14:26:44.828589Z",
     "start_time": "2024-05-18T14:26:44.792228600Z"
    }
   },
   "id": "f8e343b1603a2c69",
   "execution_count": 244
  },
  {
   "cell_type": "markdown",
   "source": [
    "# Missing data"
   ],
   "metadata": {
    "collapsed": false
   },
   "id": "79e48d14f54e4905"
  },
  {
   "cell_type": "code",
   "outputs": [
    {
     "data": {
      "text/plain": "end_of_period                                                      0\nrevenues_from_sales                                              945\noperating_profitloss                                             737\nnet_profitloss_attributable_to_equity_holders_of_the_parent      577\ntotal_comprehensive_income_attributable_to_equity_holders      17723\n                                                               ...  \nnoncurrent_financial_liabilities                               19906\nfinancial_liabilities                                          19906\ncompany_name                                                       0\nsector                                                            13\nticker                                                             0\nLength: 109, dtype: int64"
     },
     "execution_count": 245,
     "metadata": {},
     "output_type": "execute_result"
    }
   ],
   "source": [
    "data_gpw.isnull().sum()"
   ],
   "metadata": {
    "collapsed": false,
    "ExecuteTime": {
     "end_time": "2024-05-18T14:26:44.833589800Z",
     "start_time": "2024-05-18T14:26:44.802827400Z"
    }
   },
   "id": "2466ce68bd13d51e",
   "execution_count": 245
  },
  {
   "cell_type": "code",
   "outputs": [
    {
     "data": {
      "text/plain": "      end_of_period  revenues_from_sales  operating_profitloss  \\\n49       2017-12-31                  NaN                   NaN   \n50       2018-12-31                  NaN                   NaN   \n51       2019-12-31                  NaN                   NaN   \n52       2020-12-31          34515.00000            3929.00000   \n53       2021-09-30                  NaN                   NaN   \n54       2021-12-31          39704.00000            3898.00000   \n2522     2020-12-31                  NaN                   NaN   \n2523     2021-12-31                  NaN                   NaN   \n18362    2019-12-31                  NaN                   NaN   \n18363    2020-12-31                  NaN                   NaN   \n18364    2021-06-30           1141.52579             302.65867   \n18365    2021-12-31                  NaN                   NaN   \n18366    2022-06-30            654.87351            -314.01440   \n\n       net_profitloss_attributable_to_equity_holders_of_the_parent  \\\n49                                                   NaN             \n50                                                   NaN             \n51                                                   NaN             \n52                                             138.00000             \n53                                                   NaN             \n54                                            2169.00000             \n2522                                                 NaN             \n2523                                                 NaN             \n18362                                                NaN             \n18363                                                NaN             \n18364                                          287.68307             \n18365                                                NaN             \n18366                                         -314.96840             \n\n       total_comprehensive_income_attributable_to_equity_holders  \\\n49                                                   NaN           \n50                                                   NaN           \n51                                                   NaN           \n52                                                 138.0           \n53                                                   NaN           \n54                                                2169.0           \n2522                                                 NaN           \n2523                                                 NaN           \n18362                                                NaN           \n18363                                                NaN           \n18364                                                NaN           \n18365                                                NaN           \n18366                                                NaN           \n\n       depreciation  cash_flow_from_operating_activities  \\\n49              NaN                                  NaN   \n50              NaN                                  NaN   \n51              NaN                                  NaN   \n52       4114.00000                           8513.00000   \n53              NaN                                  NaN   \n54       4459.00000                           5831.00000   \n2522            NaN                                  NaN   \n2523            NaN                                  NaN   \n18362           NaN                                  NaN   \n18363           NaN                                  NaN   \n18364           NaN                            466.14407   \n18365           NaN                                  NaN   \n18366       0.42365                           -114.99931   \n\n       cash_flow_from_investing_activities  \\\n49                                     NaN   \n50                                     NaN   \n51                                     NaN   \n52                             -3261.00000   \n53                                     NaN   \n54                             -2718.00000   \n2522                                   NaN   \n2523                                   NaN   \n18362                                  NaN   \n18363                                  NaN   \n18364                                  NaN   \n18365                                  NaN   \n18366                            -10.16748   \n\n       cash_flow_from_financing_activities        aktywa  ...  \\\n49                                     NaN  8.301800e+04  ...   \n50                                     NaN  1.053760e+05  ...   \n51                                     NaN  1.613490e+05  ...   \n52                              -5264.0000  1.640630e+05  ...   \n53                                     NaN  1.547040e+05  ...   \n54                              -3195.0000  1.571200e+05  ...   \n2522                                   NaN  2.166580e+08  ...   \n2523                                   NaN  2.295270e+08  ...   \n18362                                  NaN  1.065330e+03  ...   \n18363                                  NaN  3.348397e+03  ...   \n18364                            -742.2988  2.882571e+03  ...   \n18365                                  NaN  3.526614e+03  ...   \n18366                           -1035.0000  2.461432e+03  ...   \n\n       rate_debt_security  leverage  asset_utilization  load_gross_profit  \\\n49                    NaN       NaN                NaN                NaN   \n50                    NaN       NaN                NaN                NaN   \n51                    NaN       NaN                NaN                NaN   \n52                    NaN       NaN                NaN                NaN   \n53                    NaN       NaN                NaN                NaN   \n54                    NaN       NaN                NaN                NaN   \n2522                  NaN       NaN                NaN                NaN   \n2523                  NaN       NaN                NaN                NaN   \n18362                 NaN       NaN                NaN                NaN   \n18363                 NaN       NaN                NaN                NaN   \n18364                 NaN       NaN                NaN                NaN   \n18365                 NaN       NaN                NaN                NaN   \n18366                 NaN       NaN                NaN                NaN   \n\n       current_financial_liabilities  noncurrent_financial_liabilities  \\\n49                               NaN                               NaN   \n50                               NaN                               NaN   \n51                               NaN                               NaN   \n52                               NaN                               NaN   \n53                               NaN                               NaN   \n54                               NaN                               NaN   \n2522                             NaN                               NaN   \n2523                             NaN                               NaN   \n18362                            NaN                               NaN   \n18363                            NaN                               NaN   \n18364                            NaN                               NaN   \n18365                            NaN                               NaN   \n18366                            NaN                               NaN   \n\n       financial_liabilities  company_name  sector   ticker  \n49                       NaN        3LP SA     NaN  3LP_IPO  \n50                       NaN        3LP SA     NaN  3LP_IPO  \n51                       NaN        3LP SA     NaN  3LP_IPO  \n52                       NaN        3LP SA     NaN  3LP_IPO  \n53                       NaN        3LP SA     NaN  3LP_IPO  \n54                       NaN        3LP SA     NaN  3LP_IPO  \n2522                     NaN        BMW AG     NaN      BMW  \n2523                     NaN        BMW AG     NaN      BMW  \n18362                    NaN   Uf Games SA     NaN  UFG_IPO  \n18363                    NaN   Uf Games SA     NaN  UFG_IPO  \n18364                    NaN   Uf Games SA     NaN  UFG_IPO  \n18365                    NaN   Uf Games SA     NaN  UFG_IPO  \n18366                    NaN   Uf Games SA     NaN  UFG_IPO  \n\n[13 rows x 109 columns]",
      "text/html": "<div>\n<style scoped>\n    .dataframe tbody tr th:only-of-type {\n        vertical-align: middle;\n    }\n\n    .dataframe tbody tr th {\n        vertical-align: top;\n    }\n\n    .dataframe thead th {\n        text-align: right;\n    }\n</style>\n<table border=\"1\" class=\"dataframe\">\n  <thead>\n    <tr style=\"text-align: right;\">\n      <th></th>\n      <th>end_of_period</th>\n      <th>revenues_from_sales</th>\n      <th>operating_profitloss</th>\n      <th>net_profitloss_attributable_to_equity_holders_of_the_parent</th>\n      <th>total_comprehensive_income_attributable_to_equity_holders</th>\n      <th>depreciation</th>\n      <th>cash_flow_from_operating_activities</th>\n      <th>cash_flow_from_investing_activities</th>\n      <th>cash_flow_from_financing_activities</th>\n      <th>aktywa</th>\n      <th>...</th>\n      <th>rate_debt_security</th>\n      <th>leverage</th>\n      <th>asset_utilization</th>\n      <th>load_gross_profit</th>\n      <th>current_financial_liabilities</th>\n      <th>noncurrent_financial_liabilities</th>\n      <th>financial_liabilities</th>\n      <th>company_name</th>\n      <th>sector</th>\n      <th>ticker</th>\n    </tr>\n  </thead>\n  <tbody>\n    <tr>\n      <th>49</th>\n      <td>2017-12-31</td>\n      <td>NaN</td>\n      <td>NaN</td>\n      <td>NaN</td>\n      <td>NaN</td>\n      <td>NaN</td>\n      <td>NaN</td>\n      <td>NaN</td>\n      <td>NaN</td>\n      <td>8.301800e+04</td>\n      <td>...</td>\n      <td>NaN</td>\n      <td>NaN</td>\n      <td>NaN</td>\n      <td>NaN</td>\n      <td>NaN</td>\n      <td>NaN</td>\n      <td>NaN</td>\n      <td>3LP SA</td>\n      <td>NaN</td>\n      <td>3LP_IPO</td>\n    </tr>\n    <tr>\n      <th>50</th>\n      <td>2018-12-31</td>\n      <td>NaN</td>\n      <td>NaN</td>\n      <td>NaN</td>\n      <td>NaN</td>\n      <td>NaN</td>\n      <td>NaN</td>\n      <td>NaN</td>\n      <td>NaN</td>\n      <td>1.053760e+05</td>\n      <td>...</td>\n      <td>NaN</td>\n      <td>NaN</td>\n      <td>NaN</td>\n      <td>NaN</td>\n      <td>NaN</td>\n      <td>NaN</td>\n      <td>NaN</td>\n      <td>3LP SA</td>\n      <td>NaN</td>\n      <td>3LP_IPO</td>\n    </tr>\n    <tr>\n      <th>51</th>\n      <td>2019-12-31</td>\n      <td>NaN</td>\n      <td>NaN</td>\n      <td>NaN</td>\n      <td>NaN</td>\n      <td>NaN</td>\n      <td>NaN</td>\n      <td>NaN</td>\n      <td>NaN</td>\n      <td>1.613490e+05</td>\n      <td>...</td>\n      <td>NaN</td>\n      <td>NaN</td>\n      <td>NaN</td>\n      <td>NaN</td>\n      <td>NaN</td>\n      <td>NaN</td>\n      <td>NaN</td>\n      <td>3LP SA</td>\n      <td>NaN</td>\n      <td>3LP_IPO</td>\n    </tr>\n    <tr>\n      <th>52</th>\n      <td>2020-12-31</td>\n      <td>34515.00000</td>\n      <td>3929.00000</td>\n      <td>138.00000</td>\n      <td>138.0</td>\n      <td>4114.00000</td>\n      <td>8513.00000</td>\n      <td>-3261.00000</td>\n      <td>-5264.0000</td>\n      <td>1.640630e+05</td>\n      <td>...</td>\n      <td>NaN</td>\n      <td>NaN</td>\n      <td>NaN</td>\n      <td>NaN</td>\n      <td>NaN</td>\n      <td>NaN</td>\n      <td>NaN</td>\n      <td>3LP SA</td>\n      <td>NaN</td>\n      <td>3LP_IPO</td>\n    </tr>\n    <tr>\n      <th>53</th>\n      <td>2021-09-30</td>\n      <td>NaN</td>\n      <td>NaN</td>\n      <td>NaN</td>\n      <td>NaN</td>\n      <td>NaN</td>\n      <td>NaN</td>\n      <td>NaN</td>\n      <td>NaN</td>\n      <td>1.547040e+05</td>\n      <td>...</td>\n      <td>NaN</td>\n      <td>NaN</td>\n      <td>NaN</td>\n      <td>NaN</td>\n      <td>NaN</td>\n      <td>NaN</td>\n      <td>NaN</td>\n      <td>3LP SA</td>\n      <td>NaN</td>\n      <td>3LP_IPO</td>\n    </tr>\n    <tr>\n      <th>54</th>\n      <td>2021-12-31</td>\n      <td>39704.00000</td>\n      <td>3898.00000</td>\n      <td>2169.00000</td>\n      <td>2169.0</td>\n      <td>4459.00000</td>\n      <td>5831.00000</td>\n      <td>-2718.00000</td>\n      <td>-3195.0000</td>\n      <td>1.571200e+05</td>\n      <td>...</td>\n      <td>NaN</td>\n      <td>NaN</td>\n      <td>NaN</td>\n      <td>NaN</td>\n      <td>NaN</td>\n      <td>NaN</td>\n      <td>NaN</td>\n      <td>3LP SA</td>\n      <td>NaN</td>\n      <td>3LP_IPO</td>\n    </tr>\n    <tr>\n      <th>2522</th>\n      <td>2020-12-31</td>\n      <td>NaN</td>\n      <td>NaN</td>\n      <td>NaN</td>\n      <td>NaN</td>\n      <td>NaN</td>\n      <td>NaN</td>\n      <td>NaN</td>\n      <td>NaN</td>\n      <td>2.166580e+08</td>\n      <td>...</td>\n      <td>NaN</td>\n      <td>NaN</td>\n      <td>NaN</td>\n      <td>NaN</td>\n      <td>NaN</td>\n      <td>NaN</td>\n      <td>NaN</td>\n      <td>BMW AG</td>\n      <td>NaN</td>\n      <td>BMW</td>\n    </tr>\n    <tr>\n      <th>2523</th>\n      <td>2021-12-31</td>\n      <td>NaN</td>\n      <td>NaN</td>\n      <td>NaN</td>\n      <td>NaN</td>\n      <td>NaN</td>\n      <td>NaN</td>\n      <td>NaN</td>\n      <td>NaN</td>\n      <td>2.295270e+08</td>\n      <td>...</td>\n      <td>NaN</td>\n      <td>NaN</td>\n      <td>NaN</td>\n      <td>NaN</td>\n      <td>NaN</td>\n      <td>NaN</td>\n      <td>NaN</td>\n      <td>BMW AG</td>\n      <td>NaN</td>\n      <td>BMW</td>\n    </tr>\n    <tr>\n      <th>18362</th>\n      <td>2019-12-31</td>\n      <td>NaN</td>\n      <td>NaN</td>\n      <td>NaN</td>\n      <td>NaN</td>\n      <td>NaN</td>\n      <td>NaN</td>\n      <td>NaN</td>\n      <td>NaN</td>\n      <td>1.065330e+03</td>\n      <td>...</td>\n      <td>NaN</td>\n      <td>NaN</td>\n      <td>NaN</td>\n      <td>NaN</td>\n      <td>NaN</td>\n      <td>NaN</td>\n      <td>NaN</td>\n      <td>Uf Games SA</td>\n      <td>NaN</td>\n      <td>UFG_IPO</td>\n    </tr>\n    <tr>\n      <th>18363</th>\n      <td>2020-12-31</td>\n      <td>NaN</td>\n      <td>NaN</td>\n      <td>NaN</td>\n      <td>NaN</td>\n      <td>NaN</td>\n      <td>NaN</td>\n      <td>NaN</td>\n      <td>NaN</td>\n      <td>3.348397e+03</td>\n      <td>...</td>\n      <td>NaN</td>\n      <td>NaN</td>\n      <td>NaN</td>\n      <td>NaN</td>\n      <td>NaN</td>\n      <td>NaN</td>\n      <td>NaN</td>\n      <td>Uf Games SA</td>\n      <td>NaN</td>\n      <td>UFG_IPO</td>\n    </tr>\n    <tr>\n      <th>18364</th>\n      <td>2021-06-30</td>\n      <td>1141.52579</td>\n      <td>302.65867</td>\n      <td>287.68307</td>\n      <td>NaN</td>\n      <td>NaN</td>\n      <td>466.14407</td>\n      <td>NaN</td>\n      <td>-742.2988</td>\n      <td>2.882571e+03</td>\n      <td>...</td>\n      <td>NaN</td>\n      <td>NaN</td>\n      <td>NaN</td>\n      <td>NaN</td>\n      <td>NaN</td>\n      <td>NaN</td>\n      <td>NaN</td>\n      <td>Uf Games SA</td>\n      <td>NaN</td>\n      <td>UFG_IPO</td>\n    </tr>\n    <tr>\n      <th>18365</th>\n      <td>2021-12-31</td>\n      <td>NaN</td>\n      <td>NaN</td>\n      <td>NaN</td>\n      <td>NaN</td>\n      <td>NaN</td>\n      <td>NaN</td>\n      <td>NaN</td>\n      <td>NaN</td>\n      <td>3.526614e+03</td>\n      <td>...</td>\n      <td>NaN</td>\n      <td>NaN</td>\n      <td>NaN</td>\n      <td>NaN</td>\n      <td>NaN</td>\n      <td>NaN</td>\n      <td>NaN</td>\n      <td>Uf Games SA</td>\n      <td>NaN</td>\n      <td>UFG_IPO</td>\n    </tr>\n    <tr>\n      <th>18366</th>\n      <td>2022-06-30</td>\n      <td>654.87351</td>\n      <td>-314.01440</td>\n      <td>-314.96840</td>\n      <td>NaN</td>\n      <td>0.42365</td>\n      <td>-114.99931</td>\n      <td>-10.16748</td>\n      <td>-1035.0000</td>\n      <td>2.461432e+03</td>\n      <td>...</td>\n      <td>NaN</td>\n      <td>NaN</td>\n      <td>NaN</td>\n      <td>NaN</td>\n      <td>NaN</td>\n      <td>NaN</td>\n      <td>NaN</td>\n      <td>Uf Games SA</td>\n      <td>NaN</td>\n      <td>UFG_IPO</td>\n    </tr>\n  </tbody>\n</table>\n<p>13 rows × 109 columns</p>\n</div>"
     },
     "execution_count": 246,
     "metadata": {},
     "output_type": "execute_result"
    }
   ],
   "source": [
    "# Sektor NaN\n",
    "rows_with_nan_in_sektor = data_gpw[data_gpw['sector'].isna()]\n",
    "rows_with_nan_in_sektor"
   ],
   "metadata": {
    "collapsed": false,
    "ExecuteTime": {
     "end_time": "2024-05-18T14:26:44.876566900Z",
     "start_time": "2024-05-18T14:26:44.814255900Z"
    }
   },
   "id": "4e4baa4bf4b7e8fb",
   "execution_count": 246
  },
  {
   "cell_type": "markdown",
   "source": [
    "## Notes\n",
    "Manually checking for each company\n",
    "\n",
    "3LP SA - handel\n",
    "BMW AG - motoryzacja\n",
    "Uf Games SA - gry\n"
   ],
   "metadata": {
    "collapsed": false
   },
   "id": "7456660b0f1bcdf1"
  },
  {
   "cell_type": "code",
   "outputs": [],
   "source": [
    "company_to_sector = {\n",
    "    '3LP SA': 'handel',\n",
    "    'BMW AG': 'motoryzacja',\n",
    "    'Uf Games SA': 'gry'\n",
    "}\n",
    "\n",
    "data_gpw['sector'] = data_gpw.apply(lambda row: company_to_sector[row['company_name']] if pd.isna(row['sector']) else row['sector'], axis=1)"
   ],
   "metadata": {
    "collapsed": false,
    "ExecuteTime": {
     "end_time": "2024-05-18T14:26:45.145087200Z",
     "start_time": "2024-05-18T14:26:44.829587800Z"
    }
   },
   "id": "7319f46aa1372b35",
   "execution_count": 247
  },
  {
   "cell_type": "code",
   "outputs": [],
   "source": [
    "# Rest of financial data - fill NaN with 0 (=no change)\n",
    "data_gpw = data_gpw.fillna(0)"
   ],
   "metadata": {
    "collapsed": false,
    "ExecuteTime": {
     "end_time": "2024-05-18T14:26:45.160820700Z",
     "start_time": "2024-05-18T14:26:45.119661800Z"
    }
   },
   "id": "fb24e9bf335b19e8",
   "execution_count": 248
  },
  {
   "cell_type": "code",
   "outputs": [
    {
     "data": {
      "text/plain": "['end_of_period',\n 'revenues_from_sales',\n 'operating_profitloss',\n 'net_profitloss_attributable_to_equity_holders_of_the_parent',\n 'total_comprehensive_income_attributable_to_equity_holders',\n 'depreciation',\n 'cash_flow_from_operating_activities',\n 'cash_flow_from_investing_activities',\n 'cash_flow_from_financing_activities',\n 'aktywa',\n 'noncurrent_assets',\n 'current_assets',\n 'equity_shareholders_of_the_parent',\n 'noncurrent_liabilities',\n 'current_liabilities',\n 'number_of_shares',\n 'earnings_per_share',\n 'total_comprehensive_income_per_share',\n 'book_value_per_share',\n 'accounting_standard',\n 'filename',\n 'property_plant_and_equipment',\n 'exploration_for_and_evaluation_of_mineral_resources',\n 'intangible_assets',\n 'goodwill',\n 'investment_property',\n 'rightofuse_assets',\n 'investment_in_affiliates',\n 'noncurrent_financial_assets',\n 'noncurrent_loans_and_receivables',\n 'deferred_income_tax',\n 'noncurrent_deferred_charges_and_accruals',\n 'noncurrent_derivative_instruments',\n 'other_noncurrent_assets',\n 'inventories',\n 'current_intangible_assets',\n 'biological_assets',\n 'trade_receivables',\n 'loans_and_other_receivables',\n 'financial_assets',\n 'cash_and_cash_equivalents',\n 'accruals',\n 'assets_from_current_tax',\n 'derivative_instruments',\n 'other_assets',\n 'assets_held_for_sale_and_discontinuing_operations',\n 'called_up_capital',\n 'own_shares',\n 'equity_liabilities',\n 'share_capital',\n 'called_up_share_capital',\n 'treasury_shares',\n 'supplementary_capital',\n 'valuation_and_exchange_differences',\n 'other_capitals',\n 'retained_earnings_accumulated_losses',\n 'noncontrolling_interests',\n 'noncurrent_liabilities_from_derivatives',\n 'noncurrent_loans_and_borrowings',\n 'noncurrent_liabilities_from_bonds',\n 'noncurrent_liabilities_from_finance_leases',\n 'noncurrent_trade_payables',\n 'longterm_provision_for_employee_benefits',\n 'deferred_tax_liabilities',\n 'noncurrent_provision',\n 'other_noncurrent_liabilities',\n 'noncurrent_accruals',\n 'liabilities_from_derivatives',\n 'financial_liabilities',\n 'bond_liabilities',\n 'liabilities_from_finance_leases',\n 'trade_payables',\n 'employee_benefits',\n 'current_tax_liabilities',\n 'provisions',\n 'other_liabilities',\n 'accruals',\n 'liabilities_related_to_assets_held_for_sale_and_discontinued_operations',\n 'date_of_publication',\n 'gross_profit_margin_on_sales',\n 'operating_profit_margin',\n 'gross_profit_margin',\n 'net_profit_margin',\n 'return_on_equity',\n 'return_on_assets',\n 'working_capital_ratio',\n 'current_ratio',\n 'quick_ratio',\n 'cash_ratio',\n 'receivables_turnover',\n 'inventory_turnover',\n 'the_operating_cycle',\n 'rotation_commitments',\n 'cash_conversion_cycle',\n 'rotation_assets',\n 'rotation_of_assets',\n 'assets_ratio',\n 'debt_ratio',\n 'debt_service_ratio',\n 'rate_debt_security',\n 'leverage',\n 'asset_utilization',\n 'load_gross_profit',\n 'current_financial_liabilities',\n 'noncurrent_financial_liabilities',\n 'financial_liabilities',\n 'company_name',\n 'sector',\n 'ticker']"
     },
     "execution_count": 249,
     "metadata": {},
     "output_type": "execute_result"
    }
   ],
   "source": [
    "data_gpw.columns.tolist()"
   ],
   "metadata": {
    "collapsed": false,
    "ExecuteTime": {
     "end_time": "2024-05-18T14:26:45.162819800Z",
     "start_time": "2024-05-18T14:26:45.136823100Z"
    }
   },
   "id": "305de52c586ae28",
   "execution_count": 249
  },
  {
   "cell_type": "markdown",
   "source": [
    "## Change each indicator to % value\n",
    "return_on_equity\n",
    "return_on_assets\n",
    "leverage\n",
    "asset_utilization\n",
    "debt_ratio\n",
    "debt_service_ratio\n",
    "rate_debt_security\n",
    "working_capital_ratio"
   ],
   "metadata": {
    "collapsed": false
   },
   "id": "34318baca8e6e3c5"
  },
  {
   "cell_type": "code",
   "outputs": [],
   "source": [
    "columns_to_convert = [\n",
    "    'return_on_equity',\n",
    "    'return_on_assets',\n",
    "    'leverage',\n",
    "    'asset_utilization',\n",
    "    'debt_ratio',\n",
    "    'debt_service_ratio',\n",
    "    'rate_debt_security',\n",
    "    'working_capital_ratio'\n",
    "]\n",
    "\n",
    "data_gpw[columns_to_convert] = data_gpw[columns_to_convert] / 100"
   ],
   "metadata": {
    "collapsed": false,
    "ExecuteTime": {
     "end_time": "2024-05-18T14:26:45.188742800Z",
     "start_time": "2024-05-18T14:26:45.141093300Z"
    }
   },
   "id": "7650395fd99e90ba",
   "execution_count": 250
  },
  {
   "cell_type": "code",
   "outputs": [],
   "source": [
    "column_mapping = {\n",
    "    'financial_liabilities': 'total_liability',\n",
    "    'aktywa': 'total_assets'\n",
    "}\n",
    "\n",
    "data_gpw = data_gpw.rename(columns=column_mapping)"
   ],
   "metadata": {
    "collapsed": false,
    "ExecuteTime": {
     "end_time": "2024-05-18T14:26:45.199746800Z",
     "start_time": "2024-05-18T14:26:45.150285900Z"
    }
   },
   "id": "54aff99460eba5d8",
   "execution_count": 251
  },
  {
   "cell_type": "code",
   "outputs": [
    {
     "data": {
      "text/plain": "array(['11 bit studios SA', '3LP SA', '3R Games SA', 'AB SA', 'AC SA',\n       'Action SA', 'Adiuvo Investments SA', 'Agora SA', 'Agroton plc.',\n       'AUGA Group AB', 'All in! Games SA', 'Ailleron SA',\n       'Airway Medix SA', 'Alumetal SA', 'Ambra SA', 'Amica SA',\n       'Ampli SA w upadłości układowej', 'AmRest Holdings SE',\n       'Answear.com SA', 'Apator SA', 'Aplisens SA', 'APS Energia SA',\n       'Arctic Paper SA', 'Arteria SA', 'Artifex Mundi SA',\n       'ASBISc Enterprises plc.', 'ASM Group SA', 'Asseco BS SA',\n       'Asseco Poland SA', 'Asseco SEE SA', 'Atende SA',\n       'Atlanta Poland SA', 'ATM Grupa SA', 'Atrem SA', 'Auto Partner SA',\n       'Grupa Azoty SA', 'British Automotive Holding SA',\n       'Elektrociepłownia Będzin SA', 'Benefit Systems SA', 'Berling SA',\n       'Betacom SA', 'Big Cheese Studio SA', 'Bioceltix SA',\n       'BioMaxima SA', 'Biomed Lublin SA', 'Bio Planet SA', 'Bioton SA',\n       'BMW AG', 'LW Bogdanka SA', 'BoomBit SA', 'Boryszew SA',\n       'Bowim SA', 'Brand24 SA', 'Braster SA w restrukturyzacji',\n       'Budimex SA', 'Bumech SA', 'Captor Therapeutics SA', 'CCC SA',\n       'CD Projekt SA', 'CDRL SA', 'CNT SA', 'CEZ a.s.', 'CFI Holding SA',\n       'Ciech SA', 'CI Games SA', 'City Service SE', 'Celon Pharma SA',\n       'Cognor Holding SA', 'ComArch SA', 'Comperia.pl SA',\n       'Compremum SA', 'Comp SA', 'PZ Cormay SA', 'Creepy Jar SA',\n       'Creotech Instruments SA', 'Cyfrowy Polsat SA', 'Dadelo SA',\n       'DataWalk SA', 'Dębica SA', 'Decora SA', 'Dekpol SA', 'Delko SA',\n       'Digital Network SA', 'Digitree Group SA', 'Dino Polska SA',\n       'Dom Development SA', 'Drewex SA w restrukturyzacji ',\n       'Drozapol-Profil SA', 'ED Invest SA', 'Efekt SA', 'Eko Export SA',\n       'Elektrotim SA', 'Elzab SA', 'EMC Instytut Medyczny SA', 'Enea SA',\n       'Enel-Med SA', 'Energa SA', 'Energoaparatura SA',\n       'Energoinstal SA', 'Enter Air SA', 'Erbud SA', 'ERG SA',\n       'Esotiq&Henderson SA', 'Eurocash SA', 'Eurotel SA', 'Famur SA',\n       'Fasing SA', 'Feerum SA', 'Ferro SA', 'Ferrum SA', 'Forte SA',\n       'Games Operators SA', 'Gaming Factory SA', 'GI Group Poland SA',\n       'Global Cosmed SA', 'Gobarto SA', 'Grodno SA', 'Grupa Pracuj SA',\n       'Harper Hygienics SA', 'Helio SA', 'Herkules SA', 'Hollywood SA',\n       'Huuuge, Inc.', 'Hydrotor SA', 'iFirma SA',\n       'Investment Friends SE', 'IMC S.A.', 'Instal Kraków SA',\n       'Inter Cars SA', 'Interferie SA', 'Interbud-Lublin SA', 'IMS SA',\n       'Inter Rao Lietuva AB', 'Intersport Polska SA', 'Introl SA',\n       'Interma Trade SA w likwidacji', 'Izoblok SA',\n       'Izolacja Jarocin SA', 'Izostal SA',\n       'Jastrzębska Spółka Węglowa SA', 'JWW Invest SA', 'K2 Holding SA',\n       'KCI SA', 'KDM Shipping Public Ltd.', 'Kernel Holding S.A.',\n       'Grupa Kęty SA', 'KGHM Polska Miedź SA', 'KGL SA',\n       'Kino Polska TV SA', 'Kogeneracja SA', 'Kompap SA',\n       'Komputronik SA  w restrukturyzacji', 'KB Dom SA w upadłości',\n       'KPPD SA', 'Krakchemia SA', 'KRKA d.d.', 'Krynica Vitamin SA',\n       'Krynicki Recykling SA', 'Labo Print SA', 'Lark.pl SA', 'Larq SA',\n       'Lena Lighting SA', 'Lentex SA', 'Less SA', 'Libet SA',\n       'LiveChat Software SA', 'Grupa Lotos SA', 'LPP SA',\n       'LSI Software SA', 'Lubawa SA', 'Protektor SA', 'Mabion SA',\n       'Makarony Polskie SA', 'Mangata Holding SA', 'ManyDev Studio SE',\n       'Master Pharm SA', 'Maxcom SA', 'MDI Energia SA', 'Mediacap SA',\n       'Medicalgorithmics SA', 'Medinice SA', 'Megaron SA',\n       'Mennica Polska SA', 'Mercator Medical SA', 'Mercor SA',\n       'Mex Polska SA', 'MFO SA', 'Milkiland Foods PLC', 'Miraculum SA',\n       'Mirbud SA', 'ML System SA', 'Mo-Bruk SA', 'MOJ SA', 'Molecure SA',\n       'Monnari Trade SA', 'Mostostal Płock SA', 'Mostostal Warszawa SA',\n       'Mostostal Zabrze SA', 'Muza SA', 'NanoGroup SA', 'Netia SA',\n       'Neuca SA', 'Newag SA', 'Nexity Global SA', 'Novaturas AB',\n       'Novita SA', 'NTT System SA', 'Odlewnie Polskie SA', 'OEX SA',\n       'Onde SA', 'Oponeo.pl SA', 'OPTeam SA', 'Orange Polska SA',\n       'Orzeł Biały SA', 'OT Logistics SA', 'ZE PAK SA', 'Pamapol SA',\n       'PA Nova SA', 'Patentus SA', 'PBG SA w restrukturyzacji',\n       'PBKM SA', 'PCC Exol SA', 'PCC Rokita SA', 'PCF Group SA',\n       'PC Guard SA', 'Pekabex SA', 'Polenergia SA', 'Pepees SA',\n       'PGE SA', 'PGNiG SA', 'PGS Software SA', 'Pharmena SA',\n       'Photon Energy NV', 'PJP Makrum SA', 'PKN Orlen SA',\n       'PKP Cargo SA', 'Plast-Box SA', 'PlayWay SA',\n       'PMPG Polskie Media SA', 'Police SA', 'Polimex Mostostal SA',\n       'Poltreg SA', 'Polwax SA', 'Prima Moda SA', 'Primetech SA',\n       'Procad SA', 'Prochem SA', 'Puławy SA', 'PunkPirates SA',\n       'Pure Biologics SA', 'Quantum Software SA', 'R22 SA', 'Radpol SA',\n       'Rafako SA', 'Rafamet SA', 'Rainbow Tours SA', 'Rawlplug SA',\n       'Redan SA', 'Regnon SA w likwidacji', 'Relpol SA',\n       'Remak-Energomontaż SA', 'Resbud SE', 'Ronson Development SE',\n       'ZM Ropczyce SA', 'Ryvu Therapeutics SA', 'Sadovaya Group SA',\n       'Sanwil SA', 'Satis Group SA', 'Seco/Warwick SA', 'Seko SA',\n       'Selena FM SA', 'Selvita SA', 'Sescom SA', 'Sfinks Polska SA',\n       'Shoper SA', 'Silvair Inc.', 'Silvano Group AS', 'SimFabric SA',\n       'Simple SA', 'Skotan SA', 'Sleepz AG', 'Śnieżka SA',\n       'Solar Company SA', 'Sonel SA', 'Sopharma AD', 'SpyroSoft SA',\n       'Stalexport Autostrady SA', 'Stalprodukt SA', 'Stalprofil SA',\n       'Sanok Rubber Company SA', 'STS Holding SA', 'Sunex SA',\n       'Suwary SA', 'Swissmed Centrum Zdrowia SA', 'Sygnity SA',\n       'Synektik SA', 'Talex SA', 'Tarczyński SA',\n       'Tatry Mountain Resorts a.s.', 'Tauron PE SA', 'T-Bull SA',\n       'Termo-Rex SA', 'Tesgas SA', 'TIM SA', 'Torpol SA', 'Toya SA',\n       'Trakcja SA', 'Trans Polonia SA', 'Ten Square Games SA', 'TXM SA',\n       'Uf Games SA', 'Ulma Construccion Polska SA', 'Ultimate Games SA',\n       'Unibep SA', 'Unima 2000 SA', 'Unimot SA', 'Ursus SA w upadłości',\n       'Vercom SA', 'Vigo Photonics SA', 'Vistal Gdynia SA',\n       'Vivid Games SA', 'Voxel SA', 'VRG SA', 'Wasko SA', 'Wawel SA',\n       'Wielton SA', 'WP Holding SA', 'Wittchen SA', 'Wojas SA',\n       'XTPL SA', 'Zamet SA', 'ZPC Otmuchów SA', 'ZPUE SA',\n       'Zremb-Chojnice SA', 'ZUE SA', 'ZUK Stąporków SA',\n       'Grupa Żywiec SA'], dtype=object)"
     },
     "execution_count": 252,
     "metadata": {},
     "output_type": "execute_result"
    }
   ],
   "source": [
    "data_gpw['company_name'].unique()"
   ],
   "metadata": {
    "collapsed": false,
    "ExecuteTime": {
     "end_time": "2024-05-18T14:26:45.237071600Z",
     "start_time": "2024-05-18T14:26:45.171525700Z"
    }
   },
   "id": "1873644e515c9005",
   "execution_count": 252
  },
  {
   "cell_type": "markdown",
   "source": [
    "# Feature Engineering"
   ],
   "metadata": {
    "collapsed": false
   },
   "id": "232b97bba5331d79"
  },
  {
   "cell_type": "markdown",
   "source": [
    "## Ticket for yahoo finance API"
   ],
   "metadata": {
    "collapsed": false
   },
   "id": "e9d2325711c7a36c"
  },
  {
   "cell_type": "code",
   "outputs": [
    {
     "data": {
      "text/plain": "      end_of_period  revenues_from_sales  operating_profitloss  \\\n0        2010-03-31                 66.0                   0.0   \n1        2010-09-30                129.0                   0.0   \n2        2010-12-31                228.0                   0.0   \n3        2011-03-31                144.0                   0.0   \n4        2011-06-30                959.0                   0.0   \n...             ...                  ...                   ...   \n19901    2021-09-30             995385.0              103668.0   \n19902    2021-12-31             733974.0               46890.0   \n19903    2022-03-31             696778.0                6649.0   \n19904    2022-06-30            1209418.0              101579.0   \n19905    2022-09-30            1106635.0               61538.0   \n\n       net_profitloss_attributable_to_equity_holders_of_the_parent  \\\n0                                                  -16.0             \n1                                                  -26.0             \n2                                                 -198.0             \n3                                                  -50.0             \n4                                                  377.0             \n...                                                  ...             \n19901                                           104744.0             \n19902                                            32175.0             \n19903                                            -1246.0             \n19904                                            92625.0             \n19905                                            23844.0             \n\n       total_comprehensive_income_attributable_to_equity_holders  \\\n0                                                    0.0           \n1                                                    0.0           \n2                                                    0.0           \n3                                                    0.0           \n4                                                    0.0           \n...                                                  ...           \n19901                                           106250.0           \n19902                                            42434.0           \n19903                                            41367.0           \n19904                                            45386.0           \n19905                                            18814.0           \n\n       depreciation  cash_flow_from_operating_activities  \\\n0              29.0                                  0.0   \n1               6.0                                  0.0   \n2               0.0                                  0.0   \n3               0.0                                  0.0   \n4               7.0                                  0.0   \n...             ...                                  ...   \n19901       36985.0                             354390.0   \n19902       42311.0                              50929.0   \n19903       38391.0                              13967.0   \n19904       39932.0                             101877.0   \n19905       40212.0                             156461.0   \n\n       cash_flow_from_investing_activities  \\\n0                                      0.0   \n1                                      0.0   \n2                                      0.0   \n3                                      0.0   \n4                                      0.0   \n...                                    ...   \n19901                             -22037.0   \n19902                             -65863.0   \n19903                             -33280.0   \n19904                             -21179.0   \n19905                             -24386.0   \n\n       cash_flow_from_financing_activities  total_assets  ...  \\\n0                                      0.0          0.00  ...   \n1                                      0.0       1411.00  ...   \n2                                      0.0       1352.36  ...   \n3                                      0.0       1342.00  ...   \n4                                      0.0       1659.00  ...   \n...                                    ...           ...  ...   \n19901                            -433167.0    2649304.00  ...   \n19902                              30091.0    2508447.00  ...   \n19903                              57099.0    2741947.00  ...   \n19904                             -81990.0    2981239.00  ...   \n19905                            -117588.0    2733389.00  ...   \n\n       rate_debt_security  leverage  asset_utilization  load_gross_profit  \\\n0                     0.0       0.0                0.0                0.0   \n1                     0.0       0.0                0.0                0.0   \n2                     0.0       0.0                0.0                0.0   \n3                     0.0       0.0                0.0                0.0   \n4                     0.0       0.0                0.0                0.0   \n...                   ...       ...                ...                ...   \n19901                 0.0       0.0                0.0                0.0   \n19902                 0.0       0.0                0.0                0.0   \n19903                 0.0       0.0                0.0                0.0   \n19904                 0.0       0.0                0.0                0.0   \n19905                 0.0       0.0                0.0                0.0   \n\n       current_financial_liabilities  noncurrent_financial_liabilities  \\\n0                                0.0                               0.0   \n1                                0.0                               0.0   \n2                                0.0                               0.0   \n3                                0.0                               0.0   \n4                                0.0                               0.0   \n...                              ...                               ...   \n19901                            0.0                               0.0   \n19902                            0.0                               0.0   \n19903                            0.0                               0.0   \n19904                            0.0                               0.0   \n19905                            0.0                               0.0   \n\n       total_liability       company_name  sector ticker  \n0                  0.0  11 bit studios SA     gry    11B  \n1                  0.0  11 bit studios SA     gry    11B  \n2                  0.0  11 bit studios SA     gry    11B  \n3                  0.0  11 bit studios SA     gry    11B  \n4                  0.0  11 bit studios SA     gry    11B  \n...                ...                ...     ...    ...  \n19901              0.0    Grupa Żywiec SA  napoje    ZWC  \n19902              0.0    Grupa Żywiec SA  napoje    ZWC  \n19903              0.0    Grupa Żywiec SA  napoje    ZWC  \n19904              0.0    Grupa Żywiec SA  napoje    ZWC  \n19905              0.0    Grupa Żywiec SA  napoje    ZWC  \n\n[19906 rows x 109 columns]",
      "text/html": "<div>\n<style scoped>\n    .dataframe tbody tr th:only-of-type {\n        vertical-align: middle;\n    }\n\n    .dataframe tbody tr th {\n        vertical-align: top;\n    }\n\n    .dataframe thead th {\n        text-align: right;\n    }\n</style>\n<table border=\"1\" class=\"dataframe\">\n  <thead>\n    <tr style=\"text-align: right;\">\n      <th></th>\n      <th>end_of_period</th>\n      <th>revenues_from_sales</th>\n      <th>operating_profitloss</th>\n      <th>net_profitloss_attributable_to_equity_holders_of_the_parent</th>\n      <th>total_comprehensive_income_attributable_to_equity_holders</th>\n      <th>depreciation</th>\n      <th>cash_flow_from_operating_activities</th>\n      <th>cash_flow_from_investing_activities</th>\n      <th>cash_flow_from_financing_activities</th>\n      <th>total_assets</th>\n      <th>...</th>\n      <th>rate_debt_security</th>\n      <th>leverage</th>\n      <th>asset_utilization</th>\n      <th>load_gross_profit</th>\n      <th>current_financial_liabilities</th>\n      <th>noncurrent_financial_liabilities</th>\n      <th>total_liability</th>\n      <th>company_name</th>\n      <th>sector</th>\n      <th>ticker</th>\n    </tr>\n  </thead>\n  <tbody>\n    <tr>\n      <th>0</th>\n      <td>2010-03-31</td>\n      <td>66.0</td>\n      <td>0.0</td>\n      <td>-16.0</td>\n      <td>0.0</td>\n      <td>29.0</td>\n      <td>0.0</td>\n      <td>0.0</td>\n      <td>0.0</td>\n      <td>0.00</td>\n      <td>...</td>\n      <td>0.0</td>\n      <td>0.0</td>\n      <td>0.0</td>\n      <td>0.0</td>\n      <td>0.0</td>\n      <td>0.0</td>\n      <td>0.0</td>\n      <td>11 bit studios SA</td>\n      <td>gry</td>\n      <td>11B</td>\n    </tr>\n    <tr>\n      <th>1</th>\n      <td>2010-09-30</td>\n      <td>129.0</td>\n      <td>0.0</td>\n      <td>-26.0</td>\n      <td>0.0</td>\n      <td>6.0</td>\n      <td>0.0</td>\n      <td>0.0</td>\n      <td>0.0</td>\n      <td>1411.00</td>\n      <td>...</td>\n      <td>0.0</td>\n      <td>0.0</td>\n      <td>0.0</td>\n      <td>0.0</td>\n      <td>0.0</td>\n      <td>0.0</td>\n      <td>0.0</td>\n      <td>11 bit studios SA</td>\n      <td>gry</td>\n      <td>11B</td>\n    </tr>\n    <tr>\n      <th>2</th>\n      <td>2010-12-31</td>\n      <td>228.0</td>\n      <td>0.0</td>\n      <td>-198.0</td>\n      <td>0.0</td>\n      <td>0.0</td>\n      <td>0.0</td>\n      <td>0.0</td>\n      <td>0.0</td>\n      <td>1352.36</td>\n      <td>...</td>\n      <td>0.0</td>\n      <td>0.0</td>\n      <td>0.0</td>\n      <td>0.0</td>\n      <td>0.0</td>\n      <td>0.0</td>\n      <td>0.0</td>\n      <td>11 bit studios SA</td>\n      <td>gry</td>\n      <td>11B</td>\n    </tr>\n    <tr>\n      <th>3</th>\n      <td>2011-03-31</td>\n      <td>144.0</td>\n      <td>0.0</td>\n      <td>-50.0</td>\n      <td>0.0</td>\n      <td>0.0</td>\n      <td>0.0</td>\n      <td>0.0</td>\n      <td>0.0</td>\n      <td>1342.00</td>\n      <td>...</td>\n      <td>0.0</td>\n      <td>0.0</td>\n      <td>0.0</td>\n      <td>0.0</td>\n      <td>0.0</td>\n      <td>0.0</td>\n      <td>0.0</td>\n      <td>11 bit studios SA</td>\n      <td>gry</td>\n      <td>11B</td>\n    </tr>\n    <tr>\n      <th>4</th>\n      <td>2011-06-30</td>\n      <td>959.0</td>\n      <td>0.0</td>\n      <td>377.0</td>\n      <td>0.0</td>\n      <td>7.0</td>\n      <td>0.0</td>\n      <td>0.0</td>\n      <td>0.0</td>\n      <td>1659.00</td>\n      <td>...</td>\n      <td>0.0</td>\n      <td>0.0</td>\n      <td>0.0</td>\n      <td>0.0</td>\n      <td>0.0</td>\n      <td>0.0</td>\n      <td>0.0</td>\n      <td>11 bit studios SA</td>\n      <td>gry</td>\n      <td>11B</td>\n    </tr>\n    <tr>\n      <th>...</th>\n      <td>...</td>\n      <td>...</td>\n      <td>...</td>\n      <td>...</td>\n      <td>...</td>\n      <td>...</td>\n      <td>...</td>\n      <td>...</td>\n      <td>...</td>\n      <td>...</td>\n      <td>...</td>\n      <td>...</td>\n      <td>...</td>\n      <td>...</td>\n      <td>...</td>\n      <td>...</td>\n      <td>...</td>\n      <td>...</td>\n      <td>...</td>\n      <td>...</td>\n      <td>...</td>\n    </tr>\n    <tr>\n      <th>19901</th>\n      <td>2021-09-30</td>\n      <td>995385.0</td>\n      <td>103668.0</td>\n      <td>104744.0</td>\n      <td>106250.0</td>\n      <td>36985.0</td>\n      <td>354390.0</td>\n      <td>-22037.0</td>\n      <td>-433167.0</td>\n      <td>2649304.00</td>\n      <td>...</td>\n      <td>0.0</td>\n      <td>0.0</td>\n      <td>0.0</td>\n      <td>0.0</td>\n      <td>0.0</td>\n      <td>0.0</td>\n      <td>0.0</td>\n      <td>Grupa Żywiec SA</td>\n      <td>napoje</td>\n      <td>ZWC</td>\n    </tr>\n    <tr>\n      <th>19902</th>\n      <td>2021-12-31</td>\n      <td>733974.0</td>\n      <td>46890.0</td>\n      <td>32175.0</td>\n      <td>42434.0</td>\n      <td>42311.0</td>\n      <td>50929.0</td>\n      <td>-65863.0</td>\n      <td>30091.0</td>\n      <td>2508447.00</td>\n      <td>...</td>\n      <td>0.0</td>\n      <td>0.0</td>\n      <td>0.0</td>\n      <td>0.0</td>\n      <td>0.0</td>\n      <td>0.0</td>\n      <td>0.0</td>\n      <td>Grupa Żywiec SA</td>\n      <td>napoje</td>\n      <td>ZWC</td>\n    </tr>\n    <tr>\n      <th>19903</th>\n      <td>2022-03-31</td>\n      <td>696778.0</td>\n      <td>6649.0</td>\n      <td>-1246.0</td>\n      <td>41367.0</td>\n      <td>38391.0</td>\n      <td>13967.0</td>\n      <td>-33280.0</td>\n      <td>57099.0</td>\n      <td>2741947.00</td>\n      <td>...</td>\n      <td>0.0</td>\n      <td>0.0</td>\n      <td>0.0</td>\n      <td>0.0</td>\n      <td>0.0</td>\n      <td>0.0</td>\n      <td>0.0</td>\n      <td>Grupa Żywiec SA</td>\n      <td>napoje</td>\n      <td>ZWC</td>\n    </tr>\n    <tr>\n      <th>19904</th>\n      <td>2022-06-30</td>\n      <td>1209418.0</td>\n      <td>101579.0</td>\n      <td>92625.0</td>\n      <td>45386.0</td>\n      <td>39932.0</td>\n      <td>101877.0</td>\n      <td>-21179.0</td>\n      <td>-81990.0</td>\n      <td>2981239.00</td>\n      <td>...</td>\n      <td>0.0</td>\n      <td>0.0</td>\n      <td>0.0</td>\n      <td>0.0</td>\n      <td>0.0</td>\n      <td>0.0</td>\n      <td>0.0</td>\n      <td>Grupa Żywiec SA</td>\n      <td>napoje</td>\n      <td>ZWC</td>\n    </tr>\n    <tr>\n      <th>19905</th>\n      <td>2022-09-30</td>\n      <td>1106635.0</td>\n      <td>61538.0</td>\n      <td>23844.0</td>\n      <td>18814.0</td>\n      <td>40212.0</td>\n      <td>156461.0</td>\n      <td>-24386.0</td>\n      <td>-117588.0</td>\n      <td>2733389.00</td>\n      <td>...</td>\n      <td>0.0</td>\n      <td>0.0</td>\n      <td>0.0</td>\n      <td>0.0</td>\n      <td>0.0</td>\n      <td>0.0</td>\n      <td>0.0</td>\n      <td>Grupa Żywiec SA</td>\n      <td>napoje</td>\n      <td>ZWC</td>\n    </tr>\n  </tbody>\n</table>\n<p>19906 rows × 109 columns</p>\n</div>"
     },
     "execution_count": 253,
     "metadata": {},
     "output_type": "execute_result"
    }
   ],
   "source": [
    "data_gpw"
   ],
   "metadata": {
    "collapsed": false,
    "ExecuteTime": {
     "end_time": "2024-05-18T14:26:45.255144200Z",
     "start_time": "2024-05-18T14:26:45.179409200Z"
    }
   },
   "id": "5995746311725b04",
   "execution_count": 253
  },
  {
   "cell_type": "code",
   "outputs": [],
   "source": [
    "def add_suffix_to_ticker(df):\n",
    "    df['ticker'] = df['ticker'].astype(str) + '.WA'\n",
    "    return df\n",
    "\n",
    "df = add_suffix_to_ticker(data_gpw)"
   ],
   "metadata": {
    "collapsed": false,
    "ExecuteTime": {
     "end_time": "2024-05-18T14:26:45.256147Z",
     "start_time": "2024-05-18T14:26:45.205375500Z"
    }
   },
   "id": "eeaf73eb1d0e4963",
   "execution_count": 254
  },
  {
   "cell_type": "code",
   "outputs": [],
   "source": [
    "failed_tickers = [] #do zapisanie tych do nie przechodzą\n",
    "\n",
    "def fetch_market_value(row):\n",
    "    market_value = get_market_value(row['ticker'], row['end_of_period'])\n",
    "    if market_value is None:\n",
    "        failed_tickers.append(row['ticker'])\n",
    "    return market_value\n",
    "\n",
    "# df['market_value'] = df.apply(fetch_market_value, axis=1) - failed (no data in yahoo finance)"
   ],
   "metadata": {
    "collapsed": false,
    "ExecuteTime": {
     "end_time": "2024-05-18T14:26:45.256147Z",
     "start_time": "2024-05-18T14:26:45.210612400Z"
    }
   },
   "id": "43b92a5dffd646a0",
   "execution_count": 255
  },
  {
   "cell_type": "markdown",
   "source": [
    "## Market Value directly from files"
   ],
   "metadata": {
    "collapsed": false
   },
   "id": "1f32bb9984507e67"
  },
  {
   "cell_type": "code",
   "outputs": [],
   "source": [
    "market_value = pd.read_csv('marketvalue_data/company_market_value.csv')"
   ],
   "metadata": {
    "collapsed": false,
    "ExecuteTime": {
     "end_time": "2024-05-18T14:26:45.257145700Z",
     "start_time": "2024-05-18T14:26:45.216595800Z"
    }
   },
   "id": "28cb6399a0c21611",
   "execution_count": 256
  },
  {
   "cell_type": "code",
   "outputs": [],
   "source": [
    "market_df = pd.DataFrame(market_value)"
   ],
   "metadata": {
    "collapsed": false,
    "ExecuteTime": {
     "end_time": "2024-05-18T14:26:45.288822600Z",
     "start_time": "2024-05-18T14:26:45.225173900Z"
    }
   },
   "id": "9a69a13c6d7aade2",
   "execution_count": 257
  },
  {
   "cell_type": "code",
   "outputs": [
    {
     "data": {
      "text/plain": "         Name  Market value  Period end\n0     06MAGNA  2.784000e+07  2013-12-31\n1     06MAGNA  2.951000e+07  2014-12-31\n2     06MAGNA  2.534000e+07  2015-12-31\n3     06MAGNA  1.058000e+07  2016-12-31\n4     06MAGNA  5.150000e+06  2017-12-31\n...       ...           ...         ...\n4140   ZYWIEC  4.848070e+09  2017-12-31\n4141   ZYWIEC  4.745360e+09  2018-12-31\n4142   ZYWIEC  5.032960e+09  2019-12-31\n4143   ZYWIEC  4.971330e+09  2020-12-31\n4144   ZYWIEC  5.197300e+09  2021-12-31\n\n[4145 rows x 3 columns]",
      "text/html": "<div>\n<style scoped>\n    .dataframe tbody tr th:only-of-type {\n        vertical-align: middle;\n    }\n\n    .dataframe tbody tr th {\n        vertical-align: top;\n    }\n\n    .dataframe thead th {\n        text-align: right;\n    }\n</style>\n<table border=\"1\" class=\"dataframe\">\n  <thead>\n    <tr style=\"text-align: right;\">\n      <th></th>\n      <th>Name</th>\n      <th>Market value</th>\n      <th>Period end</th>\n    </tr>\n  </thead>\n  <tbody>\n    <tr>\n      <th>0</th>\n      <td>06MAGNA</td>\n      <td>2.784000e+07</td>\n      <td>2013-12-31</td>\n    </tr>\n    <tr>\n      <th>1</th>\n      <td>06MAGNA</td>\n      <td>2.951000e+07</td>\n      <td>2014-12-31</td>\n    </tr>\n    <tr>\n      <th>2</th>\n      <td>06MAGNA</td>\n      <td>2.534000e+07</td>\n      <td>2015-12-31</td>\n    </tr>\n    <tr>\n      <th>3</th>\n      <td>06MAGNA</td>\n      <td>1.058000e+07</td>\n      <td>2016-12-31</td>\n    </tr>\n    <tr>\n      <th>4</th>\n      <td>06MAGNA</td>\n      <td>5.150000e+06</td>\n      <td>2017-12-31</td>\n    </tr>\n    <tr>\n      <th>...</th>\n      <td>...</td>\n      <td>...</td>\n      <td>...</td>\n    </tr>\n    <tr>\n      <th>4140</th>\n      <td>ZYWIEC</td>\n      <td>4.848070e+09</td>\n      <td>2017-12-31</td>\n    </tr>\n    <tr>\n      <th>4141</th>\n      <td>ZYWIEC</td>\n      <td>4.745360e+09</td>\n      <td>2018-12-31</td>\n    </tr>\n    <tr>\n      <th>4142</th>\n      <td>ZYWIEC</td>\n      <td>5.032960e+09</td>\n      <td>2019-12-31</td>\n    </tr>\n    <tr>\n      <th>4143</th>\n      <td>ZYWIEC</td>\n      <td>4.971330e+09</td>\n      <td>2020-12-31</td>\n    </tr>\n    <tr>\n      <th>4144</th>\n      <td>ZYWIEC</td>\n      <td>5.197300e+09</td>\n      <td>2021-12-31</td>\n    </tr>\n  </tbody>\n</table>\n<p>4145 rows × 3 columns</p>\n</div>"
     },
     "execution_count": 258,
     "metadata": {},
     "output_type": "execute_result"
    }
   ],
   "source": [
    "market_df"
   ],
   "metadata": {
    "collapsed": false,
    "ExecuteTime": {
     "end_time": "2024-05-18T14:26:45.291822700Z",
     "start_time": "2024-05-18T14:26:45.229870400Z"
    }
   },
   "id": "62352af941addf1c",
   "execution_count": 258
  },
  {
   "cell_type": "code",
   "outputs": [],
   "source": [
    "def add_suffix_to_market(df):\n",
    "    df['Name'] = df['Name'].astype(str) + '.xlsx'\n",
    "    df['filename'] = df['Name']\n",
    "    df['end_of_period'] = df['Period end']\n",
    "    return df\n",
    "\n",
    "market_df = add_suffix_to_market(market_df)"
   ],
   "metadata": {
    "collapsed": false,
    "ExecuteTime": {
     "end_time": "2024-05-18T14:26:45.292821800Z",
     "start_time": "2024-05-18T14:26:45.241027900Z"
    }
   },
   "id": "da45754e29ca6fd2",
   "execution_count": 259
  },
  {
   "cell_type": "code",
   "outputs": [],
   "source": [
    "if 'filename' not in df.columns or 'end_of_period' not in df.columns:\n",
    "    raise ValueError(\"Brakuje kolumn 'company' lub 'end_of_period' w załadowanym DataFrame\")\n",
    "\n",
    "merged_df = pd.merge(df, market_df, on=[\"filename\", \"end_of_period\"], how=\"left\")"
   ],
   "metadata": {
    "collapsed": false,
    "ExecuteTime": {
     "end_time": "2024-05-18T14:26:45.303020800Z",
     "start_time": "2024-05-18T14:26:45.248627700Z"
    }
   },
   "id": "ab6f21a4eb9d7b91",
   "execution_count": 260
  },
  {
   "cell_type": "code",
   "outputs": [
    {
     "data": {
      "text/plain": "      end_of_period  revenues_from_sales  operating_profitloss  \\\n0        2010-03-31                 66.0                   0.0   \n1        2010-09-30                129.0                   0.0   \n2        2010-12-31                228.0                   0.0   \n3        2011-03-31                144.0                   0.0   \n4        2011-06-30                959.0                   0.0   \n...             ...                  ...                   ...   \n19901    2021-09-30             995385.0              103668.0   \n19902    2021-12-31             733974.0               46890.0   \n19903    2022-03-31             696778.0                6649.0   \n19904    2022-06-30            1209418.0              101579.0   \n19905    2022-09-30            1106635.0               61538.0   \n\n       net_profitloss_attributable_to_equity_holders_of_the_parent  \\\n0                                                  -16.0             \n1                                                  -26.0             \n2                                                 -198.0             \n3                                                  -50.0             \n4                                                  377.0             \n...                                                  ...             \n19901                                           104744.0             \n19902                                            32175.0             \n19903                                            -1246.0             \n19904                                            92625.0             \n19905                                            23844.0             \n\n       total_comprehensive_income_attributable_to_equity_holders  \\\n0                                                    0.0           \n1                                                    0.0           \n2                                                    0.0           \n3                                                    0.0           \n4                                                    0.0           \n...                                                  ...           \n19901                                           106250.0           \n19902                                            42434.0           \n19903                                            41367.0           \n19904                                            45386.0           \n19905                                            18814.0           \n\n       depreciation  cash_flow_from_operating_activities  \\\n0              29.0                                  0.0   \n1               6.0                                  0.0   \n2               0.0                                  0.0   \n3               0.0                                  0.0   \n4               7.0                                  0.0   \n...             ...                                  ...   \n19901       36985.0                             354390.0   \n19902       42311.0                              50929.0   \n19903       38391.0                              13967.0   \n19904       39932.0                             101877.0   \n19905       40212.0                             156461.0   \n\n       cash_flow_from_investing_activities  \\\n0                                      0.0   \n1                                      0.0   \n2                                      0.0   \n3                                      0.0   \n4                                      0.0   \n...                                    ...   \n19901                             -22037.0   \n19902                             -65863.0   \n19903                             -33280.0   \n19904                             -21179.0   \n19905                             -24386.0   \n\n       cash_flow_from_financing_activities  total_assets  ...  \\\n0                                      0.0          0.00  ...   \n1                                      0.0       1411.00  ...   \n2                                      0.0       1352.36  ...   \n3                                      0.0       1342.00  ...   \n4                                      0.0       1659.00  ...   \n...                                    ...           ...  ...   \n19901                            -433167.0    2649304.00  ...   \n19902                              30091.0    2508447.00  ...   \n19903                              57099.0    2741947.00  ...   \n19904                             -81990.0    2981239.00  ...   \n19905                            -117588.0    2733389.00  ...   \n\n       load_gross_profit  current_financial_liabilities  \\\n0                    0.0                            0.0   \n1                    0.0                            0.0   \n2                    0.0                            0.0   \n3                    0.0                            0.0   \n4                    0.0                            0.0   \n...                  ...                            ...   \n19901                0.0                            0.0   \n19902                0.0                            0.0   \n19903                0.0                            0.0   \n19904                0.0                            0.0   \n19905                0.0                            0.0   \n\n       noncurrent_financial_liabilities  total_liability       company_name  \\\n0                                   0.0              0.0  11 bit studios SA   \n1                                   0.0              0.0  11 bit studios SA   \n2                                   0.0              0.0  11 bit studios SA   \n3                                   0.0              0.0  11 bit studios SA   \n4                                   0.0              0.0  11 bit studios SA   \n...                                 ...              ...                ...   \n19901                               0.0              0.0    Grupa Żywiec SA   \n19902                               0.0              0.0    Grupa Żywiec SA   \n19903                               0.0              0.0    Grupa Żywiec SA   \n19904                               0.0              0.0    Grupa Żywiec SA   \n19905                               0.0              0.0    Grupa Żywiec SA   \n\n       sector  ticker         Name  Market value  Period end  \n0         gry  11B.WA          NaN           NaN         NaN  \n1         gry  11B.WA          NaN           NaN         NaN  \n2         gry  11B.WA          NaN           NaN         NaN  \n3         gry  11B.WA          NaN           NaN         NaN  \n4         gry  11B.WA          NaN           NaN         NaN  \n...       ...     ...          ...           ...         ...  \n19901  napoje  ZWC.WA          NaN           NaN         NaN  \n19902  napoje  ZWC.WA  ZYWIEC.xlsx  5.197300e+09  2021-12-31  \n19903  napoje  ZWC.WA          NaN           NaN         NaN  \n19904  napoje  ZWC.WA          NaN           NaN         NaN  \n19905  napoje  ZWC.WA          NaN           NaN         NaN  \n\n[19906 rows x 112 columns]",
      "text/html": "<div>\n<style scoped>\n    .dataframe tbody tr th:only-of-type {\n        vertical-align: middle;\n    }\n\n    .dataframe tbody tr th {\n        vertical-align: top;\n    }\n\n    .dataframe thead th {\n        text-align: right;\n    }\n</style>\n<table border=\"1\" class=\"dataframe\">\n  <thead>\n    <tr style=\"text-align: right;\">\n      <th></th>\n      <th>end_of_period</th>\n      <th>revenues_from_sales</th>\n      <th>operating_profitloss</th>\n      <th>net_profitloss_attributable_to_equity_holders_of_the_parent</th>\n      <th>total_comprehensive_income_attributable_to_equity_holders</th>\n      <th>depreciation</th>\n      <th>cash_flow_from_operating_activities</th>\n      <th>cash_flow_from_investing_activities</th>\n      <th>cash_flow_from_financing_activities</th>\n      <th>total_assets</th>\n      <th>...</th>\n      <th>load_gross_profit</th>\n      <th>current_financial_liabilities</th>\n      <th>noncurrent_financial_liabilities</th>\n      <th>total_liability</th>\n      <th>company_name</th>\n      <th>sector</th>\n      <th>ticker</th>\n      <th>Name</th>\n      <th>Market value</th>\n      <th>Period end</th>\n    </tr>\n  </thead>\n  <tbody>\n    <tr>\n      <th>0</th>\n      <td>2010-03-31</td>\n      <td>66.0</td>\n      <td>0.0</td>\n      <td>-16.0</td>\n      <td>0.0</td>\n      <td>29.0</td>\n      <td>0.0</td>\n      <td>0.0</td>\n      <td>0.0</td>\n      <td>0.00</td>\n      <td>...</td>\n      <td>0.0</td>\n      <td>0.0</td>\n      <td>0.0</td>\n      <td>0.0</td>\n      <td>11 bit studios SA</td>\n      <td>gry</td>\n      <td>11B.WA</td>\n      <td>NaN</td>\n      <td>NaN</td>\n      <td>NaN</td>\n    </tr>\n    <tr>\n      <th>1</th>\n      <td>2010-09-30</td>\n      <td>129.0</td>\n      <td>0.0</td>\n      <td>-26.0</td>\n      <td>0.0</td>\n      <td>6.0</td>\n      <td>0.0</td>\n      <td>0.0</td>\n      <td>0.0</td>\n      <td>1411.00</td>\n      <td>...</td>\n      <td>0.0</td>\n      <td>0.0</td>\n      <td>0.0</td>\n      <td>0.0</td>\n      <td>11 bit studios SA</td>\n      <td>gry</td>\n      <td>11B.WA</td>\n      <td>NaN</td>\n      <td>NaN</td>\n      <td>NaN</td>\n    </tr>\n    <tr>\n      <th>2</th>\n      <td>2010-12-31</td>\n      <td>228.0</td>\n      <td>0.0</td>\n      <td>-198.0</td>\n      <td>0.0</td>\n      <td>0.0</td>\n      <td>0.0</td>\n      <td>0.0</td>\n      <td>0.0</td>\n      <td>1352.36</td>\n      <td>...</td>\n      <td>0.0</td>\n      <td>0.0</td>\n      <td>0.0</td>\n      <td>0.0</td>\n      <td>11 bit studios SA</td>\n      <td>gry</td>\n      <td>11B.WA</td>\n      <td>NaN</td>\n      <td>NaN</td>\n      <td>NaN</td>\n    </tr>\n    <tr>\n      <th>3</th>\n      <td>2011-03-31</td>\n      <td>144.0</td>\n      <td>0.0</td>\n      <td>-50.0</td>\n      <td>0.0</td>\n      <td>0.0</td>\n      <td>0.0</td>\n      <td>0.0</td>\n      <td>0.0</td>\n      <td>1342.00</td>\n      <td>...</td>\n      <td>0.0</td>\n      <td>0.0</td>\n      <td>0.0</td>\n      <td>0.0</td>\n      <td>11 bit studios SA</td>\n      <td>gry</td>\n      <td>11B.WA</td>\n      <td>NaN</td>\n      <td>NaN</td>\n      <td>NaN</td>\n    </tr>\n    <tr>\n      <th>4</th>\n      <td>2011-06-30</td>\n      <td>959.0</td>\n      <td>0.0</td>\n      <td>377.0</td>\n      <td>0.0</td>\n      <td>7.0</td>\n      <td>0.0</td>\n      <td>0.0</td>\n      <td>0.0</td>\n      <td>1659.00</td>\n      <td>...</td>\n      <td>0.0</td>\n      <td>0.0</td>\n      <td>0.0</td>\n      <td>0.0</td>\n      <td>11 bit studios SA</td>\n      <td>gry</td>\n      <td>11B.WA</td>\n      <td>NaN</td>\n      <td>NaN</td>\n      <td>NaN</td>\n    </tr>\n    <tr>\n      <th>...</th>\n      <td>...</td>\n      <td>...</td>\n      <td>...</td>\n      <td>...</td>\n      <td>...</td>\n      <td>...</td>\n      <td>...</td>\n      <td>...</td>\n      <td>...</td>\n      <td>...</td>\n      <td>...</td>\n      <td>...</td>\n      <td>...</td>\n      <td>...</td>\n      <td>...</td>\n      <td>...</td>\n      <td>...</td>\n      <td>...</td>\n      <td>...</td>\n      <td>...</td>\n      <td>...</td>\n    </tr>\n    <tr>\n      <th>19901</th>\n      <td>2021-09-30</td>\n      <td>995385.0</td>\n      <td>103668.0</td>\n      <td>104744.0</td>\n      <td>106250.0</td>\n      <td>36985.0</td>\n      <td>354390.0</td>\n      <td>-22037.0</td>\n      <td>-433167.0</td>\n      <td>2649304.00</td>\n      <td>...</td>\n      <td>0.0</td>\n      <td>0.0</td>\n      <td>0.0</td>\n      <td>0.0</td>\n      <td>Grupa Żywiec SA</td>\n      <td>napoje</td>\n      <td>ZWC.WA</td>\n      <td>NaN</td>\n      <td>NaN</td>\n      <td>NaN</td>\n    </tr>\n    <tr>\n      <th>19902</th>\n      <td>2021-12-31</td>\n      <td>733974.0</td>\n      <td>46890.0</td>\n      <td>32175.0</td>\n      <td>42434.0</td>\n      <td>42311.0</td>\n      <td>50929.0</td>\n      <td>-65863.0</td>\n      <td>30091.0</td>\n      <td>2508447.00</td>\n      <td>...</td>\n      <td>0.0</td>\n      <td>0.0</td>\n      <td>0.0</td>\n      <td>0.0</td>\n      <td>Grupa Żywiec SA</td>\n      <td>napoje</td>\n      <td>ZWC.WA</td>\n      <td>ZYWIEC.xlsx</td>\n      <td>5.197300e+09</td>\n      <td>2021-12-31</td>\n    </tr>\n    <tr>\n      <th>19903</th>\n      <td>2022-03-31</td>\n      <td>696778.0</td>\n      <td>6649.0</td>\n      <td>-1246.0</td>\n      <td>41367.0</td>\n      <td>38391.0</td>\n      <td>13967.0</td>\n      <td>-33280.0</td>\n      <td>57099.0</td>\n      <td>2741947.00</td>\n      <td>...</td>\n      <td>0.0</td>\n      <td>0.0</td>\n      <td>0.0</td>\n      <td>0.0</td>\n      <td>Grupa Żywiec SA</td>\n      <td>napoje</td>\n      <td>ZWC.WA</td>\n      <td>NaN</td>\n      <td>NaN</td>\n      <td>NaN</td>\n    </tr>\n    <tr>\n      <th>19904</th>\n      <td>2022-06-30</td>\n      <td>1209418.0</td>\n      <td>101579.0</td>\n      <td>92625.0</td>\n      <td>45386.0</td>\n      <td>39932.0</td>\n      <td>101877.0</td>\n      <td>-21179.0</td>\n      <td>-81990.0</td>\n      <td>2981239.00</td>\n      <td>...</td>\n      <td>0.0</td>\n      <td>0.0</td>\n      <td>0.0</td>\n      <td>0.0</td>\n      <td>Grupa Żywiec SA</td>\n      <td>napoje</td>\n      <td>ZWC.WA</td>\n      <td>NaN</td>\n      <td>NaN</td>\n      <td>NaN</td>\n    </tr>\n    <tr>\n      <th>19905</th>\n      <td>2022-09-30</td>\n      <td>1106635.0</td>\n      <td>61538.0</td>\n      <td>23844.0</td>\n      <td>18814.0</td>\n      <td>40212.0</td>\n      <td>156461.0</td>\n      <td>-24386.0</td>\n      <td>-117588.0</td>\n      <td>2733389.00</td>\n      <td>...</td>\n      <td>0.0</td>\n      <td>0.0</td>\n      <td>0.0</td>\n      <td>0.0</td>\n      <td>Grupa Żywiec SA</td>\n      <td>napoje</td>\n      <td>ZWC.WA</td>\n      <td>NaN</td>\n      <td>NaN</td>\n      <td>NaN</td>\n    </tr>\n  </tbody>\n</table>\n<p>19906 rows × 112 columns</p>\n</div>"
     },
     "execution_count": 261,
     "metadata": {},
     "output_type": "execute_result"
    }
   ],
   "source": [
    "merged_df"
   ],
   "metadata": {
    "collapsed": false,
    "ExecuteTime": {
     "end_time": "2024-05-18T14:26:45.320341800Z",
     "start_time": "2024-05-18T14:26:45.262297900Z"
    }
   },
   "id": "bb83d6f9c58ca3f0",
   "execution_count": 261
  },
  {
   "cell_type": "code",
   "outputs": [],
   "source": [
    "# Removing everything without target\n",
    "\n",
    "# Sprawdź, czy kolumna 'Market value' istnieje w załadowanym DataFrame\n",
    "if 'Market value' not in merged_df.columns:\n",
    "    raise ValueError(\"Kolumna 'Market value' nie istnieje w załadowanym DataFrame\")\n",
    "\n",
    "# Usuń wiersze z NaN w kolumnie 'Market value'\n",
    "filtered_df = merged_df.dropna(subset=['Market value'])\n",
    "\n",
    "# Usuń wiersze z 0 w kolumnie 'Market value'\n",
    "filtered_df = filtered_df[filtered_df['Market value'] != 0]"
   ],
   "metadata": {
    "collapsed": false,
    "ExecuteTime": {
     "end_time": "2024-05-18T14:26:45.358450800Z",
     "start_time": "2024-05-18T14:26:45.289822300Z"
    }
   },
   "id": "c8fb2b0461d66a81",
   "execution_count": 262
  },
  {
   "cell_type": "code",
   "outputs": [
    {
     "data": {
      "text/plain": "      end_of_period  revenues_from_sales  operating_profitloss  \\\n22       2015-12-31             7118.055              3766.639   \n26       2016-12-31             9255.686              5223.702   \n30       2017-12-31             7749.556              5271.914   \n34       2018-12-31            22493.025             11724.432   \n38       2019-12-31            21791.225             14140.468   \n...             ...                  ...                   ...   \n19886    2017-12-31           640925.000             40794.000   \n19890    2018-12-31           725450.000             91325.000   \n19894    2019-12-31           651502.000             40236.000   \n19898    2020-12-31           770024.000             96982.000   \n19902    2021-12-31           733974.000             46890.000   \n\n       net_profitloss_attributable_to_equity_holders_of_the_parent  \\\n22                                              3131.438             \n26                                              3752.445             \n30                                              3976.657             \n34                                              9031.812             \n38                                             15218.158             \n...                                                  ...             \n19886                                          31137.000             \n19890                                          70684.000             \n19894                                          30791.000             \n19898                                          69584.000             \n19902                                          32175.000             \n\n       total_comprehensive_income_attributable_to_equity_holders  \\\n22                                                 0.000           \n26                                                 0.000           \n30                                                 0.000           \n34                                             37549.897           \n38                                             15218.158           \n...                                                  ...           \n19886                                              0.000           \n19890                                              0.000           \n19894                                         335501.000           \n19898                                          75207.000           \n19902                                          42434.000           \n\n       depreciation  cash_flow_from_operating_activities  \\\n22          479.143                             3600.039   \n26          635.822                             5357.262   \n30          367.638                             4117.506   \n34         1590.751                             4319.939   \n38         1843.751                             5013.209   \n...             ...                                  ...   \n19886     28418.000                            69027.000   \n19890     28672.000                            20399.000   \n19894     31722.000                           145523.000   \n19898     37321.000                             6740.000   \n19902     42311.000                            50929.000   \n\n       cash_flow_from_investing_activities  \\\n22                                -161.750   \n26                               -3043.810   \n30                               -3352.652   \n34                              -22251.450   \n38                               -3565.279   \n...                                    ...   \n19886                           -38611.000   \n19890                           -52414.000   \n19894                           -78807.000   \n19898                            85060.000   \n19902                           -65863.000   \n\n       cash_flow_from_financing_activities  total_assets  ...  \\\n22                                 386.591     33895.516  ...   \n26                                -305.956     45350.347  ...   \n30                                   0.000     48649.817  ...   \n34                               12600.000    109262.821  ...   \n38                                -414.282    155668.388  ...   \n...                                    ...           ...  ...   \n19886                           -16068.000   1778284.000  ...   \n19890                            -1149.000   1790063.000  ...   \n19894                           -13101.000   2479535.000  ...   \n19898                           -18936.000   2513606.000  ...   \n19902                            30091.000   2508447.000  ...   \n\n       load_gross_profit  current_financial_liabilities  \\\n22                   0.0                            0.0   \n26                   0.0                            0.0   \n30                   0.0                            0.0   \n34                   0.0                            0.0   \n38                   0.0                            0.0   \n...                  ...                            ...   \n19886                0.0                            0.0   \n19890                0.0                            0.0   \n19894                0.0                            0.0   \n19898                0.0                            0.0   \n19902                0.0                            0.0   \n\n       noncurrent_financial_liabilities  total_liability       company_name  \\\n22                                  0.0              0.0  11 bit studios SA   \n26                                  0.0              0.0  11 bit studios SA   \n30                                  0.0              0.0  11 bit studios SA   \n34                                  0.0              0.0  11 bit studios SA   \n38                                  0.0              0.0  11 bit studios SA   \n...                                 ...              ...                ...   \n19886                               0.0              0.0    Grupa Żywiec SA   \n19890                               0.0              0.0    Grupa Żywiec SA   \n19894                               0.0              0.0    Grupa Żywiec SA   \n19898                               0.0              0.0    Grupa Żywiec SA   \n19902                               0.0              0.0    Grupa Żywiec SA   \n\n       sector  ticker         Name  Market value  Period end  \n22        gry  11B.WA   11BIT.xlsx  1.565300e+08  2015-12-31  \n26        gry  11B.WA   11BIT.xlsx  3.254800e+08  2016-12-31  \n30        gry  11B.WA   11BIT.xlsx  4.528700e+08  2017-12-31  \n34        gry  11B.WA   11BIT.xlsx  5.580800e+08  2018-12-31  \n38        gry  11B.WA   11BIT.xlsx  9.148800e+08  2019-12-31  \n...       ...     ...          ...           ...         ...  \n19886  napoje  ZWC.WA  ZYWIEC.xlsx  4.848070e+09  2017-12-31  \n19890  napoje  ZWC.WA  ZYWIEC.xlsx  4.745360e+09  2018-12-31  \n19894  napoje  ZWC.WA  ZYWIEC.xlsx  5.032960e+09  2019-12-31  \n19898  napoje  ZWC.WA  ZYWIEC.xlsx  4.971330e+09  2020-12-31  \n19902  napoje  ZWC.WA  ZYWIEC.xlsx  5.197300e+09  2021-12-31  \n\n[1711 rows x 112 columns]",
      "text/html": "<div>\n<style scoped>\n    .dataframe tbody tr th:only-of-type {\n        vertical-align: middle;\n    }\n\n    .dataframe tbody tr th {\n        vertical-align: top;\n    }\n\n    .dataframe thead th {\n        text-align: right;\n    }\n</style>\n<table border=\"1\" class=\"dataframe\">\n  <thead>\n    <tr style=\"text-align: right;\">\n      <th></th>\n      <th>end_of_period</th>\n      <th>revenues_from_sales</th>\n      <th>operating_profitloss</th>\n      <th>net_profitloss_attributable_to_equity_holders_of_the_parent</th>\n      <th>total_comprehensive_income_attributable_to_equity_holders</th>\n      <th>depreciation</th>\n      <th>cash_flow_from_operating_activities</th>\n      <th>cash_flow_from_investing_activities</th>\n      <th>cash_flow_from_financing_activities</th>\n      <th>total_assets</th>\n      <th>...</th>\n      <th>load_gross_profit</th>\n      <th>current_financial_liabilities</th>\n      <th>noncurrent_financial_liabilities</th>\n      <th>total_liability</th>\n      <th>company_name</th>\n      <th>sector</th>\n      <th>ticker</th>\n      <th>Name</th>\n      <th>Market value</th>\n      <th>Period end</th>\n    </tr>\n  </thead>\n  <tbody>\n    <tr>\n      <th>22</th>\n      <td>2015-12-31</td>\n      <td>7118.055</td>\n      <td>3766.639</td>\n      <td>3131.438</td>\n      <td>0.000</td>\n      <td>479.143</td>\n      <td>3600.039</td>\n      <td>-161.750</td>\n      <td>386.591</td>\n      <td>33895.516</td>\n      <td>...</td>\n      <td>0.0</td>\n      <td>0.0</td>\n      <td>0.0</td>\n      <td>0.0</td>\n      <td>11 bit studios SA</td>\n      <td>gry</td>\n      <td>11B.WA</td>\n      <td>11BIT.xlsx</td>\n      <td>1.565300e+08</td>\n      <td>2015-12-31</td>\n    </tr>\n    <tr>\n      <th>26</th>\n      <td>2016-12-31</td>\n      <td>9255.686</td>\n      <td>5223.702</td>\n      <td>3752.445</td>\n      <td>0.000</td>\n      <td>635.822</td>\n      <td>5357.262</td>\n      <td>-3043.810</td>\n      <td>-305.956</td>\n      <td>45350.347</td>\n      <td>...</td>\n      <td>0.0</td>\n      <td>0.0</td>\n      <td>0.0</td>\n      <td>0.0</td>\n      <td>11 bit studios SA</td>\n      <td>gry</td>\n      <td>11B.WA</td>\n      <td>11BIT.xlsx</td>\n      <td>3.254800e+08</td>\n      <td>2016-12-31</td>\n    </tr>\n    <tr>\n      <th>30</th>\n      <td>2017-12-31</td>\n      <td>7749.556</td>\n      <td>5271.914</td>\n      <td>3976.657</td>\n      <td>0.000</td>\n      <td>367.638</td>\n      <td>4117.506</td>\n      <td>-3352.652</td>\n      <td>0.000</td>\n      <td>48649.817</td>\n      <td>...</td>\n      <td>0.0</td>\n      <td>0.0</td>\n      <td>0.0</td>\n      <td>0.0</td>\n      <td>11 bit studios SA</td>\n      <td>gry</td>\n      <td>11B.WA</td>\n      <td>11BIT.xlsx</td>\n      <td>4.528700e+08</td>\n      <td>2017-12-31</td>\n    </tr>\n    <tr>\n      <th>34</th>\n      <td>2018-12-31</td>\n      <td>22493.025</td>\n      <td>11724.432</td>\n      <td>9031.812</td>\n      <td>37549.897</td>\n      <td>1590.751</td>\n      <td>4319.939</td>\n      <td>-22251.450</td>\n      <td>12600.000</td>\n      <td>109262.821</td>\n      <td>...</td>\n      <td>0.0</td>\n      <td>0.0</td>\n      <td>0.0</td>\n      <td>0.0</td>\n      <td>11 bit studios SA</td>\n      <td>gry</td>\n      <td>11B.WA</td>\n      <td>11BIT.xlsx</td>\n      <td>5.580800e+08</td>\n      <td>2018-12-31</td>\n    </tr>\n    <tr>\n      <th>38</th>\n      <td>2019-12-31</td>\n      <td>21791.225</td>\n      <td>14140.468</td>\n      <td>15218.158</td>\n      <td>15218.158</td>\n      <td>1843.751</td>\n      <td>5013.209</td>\n      <td>-3565.279</td>\n      <td>-414.282</td>\n      <td>155668.388</td>\n      <td>...</td>\n      <td>0.0</td>\n      <td>0.0</td>\n      <td>0.0</td>\n      <td>0.0</td>\n      <td>11 bit studios SA</td>\n      <td>gry</td>\n      <td>11B.WA</td>\n      <td>11BIT.xlsx</td>\n      <td>9.148800e+08</td>\n      <td>2019-12-31</td>\n    </tr>\n    <tr>\n      <th>...</th>\n      <td>...</td>\n      <td>...</td>\n      <td>...</td>\n      <td>...</td>\n      <td>...</td>\n      <td>...</td>\n      <td>...</td>\n      <td>...</td>\n      <td>...</td>\n      <td>...</td>\n      <td>...</td>\n      <td>...</td>\n      <td>...</td>\n      <td>...</td>\n      <td>...</td>\n      <td>...</td>\n      <td>...</td>\n      <td>...</td>\n      <td>...</td>\n      <td>...</td>\n      <td>...</td>\n    </tr>\n    <tr>\n      <th>19886</th>\n      <td>2017-12-31</td>\n      <td>640925.000</td>\n      <td>40794.000</td>\n      <td>31137.000</td>\n      <td>0.000</td>\n      <td>28418.000</td>\n      <td>69027.000</td>\n      <td>-38611.000</td>\n      <td>-16068.000</td>\n      <td>1778284.000</td>\n      <td>...</td>\n      <td>0.0</td>\n      <td>0.0</td>\n      <td>0.0</td>\n      <td>0.0</td>\n      <td>Grupa Żywiec SA</td>\n      <td>napoje</td>\n      <td>ZWC.WA</td>\n      <td>ZYWIEC.xlsx</td>\n      <td>4.848070e+09</td>\n      <td>2017-12-31</td>\n    </tr>\n    <tr>\n      <th>19890</th>\n      <td>2018-12-31</td>\n      <td>725450.000</td>\n      <td>91325.000</td>\n      <td>70684.000</td>\n      <td>0.000</td>\n      <td>28672.000</td>\n      <td>20399.000</td>\n      <td>-52414.000</td>\n      <td>-1149.000</td>\n      <td>1790063.000</td>\n      <td>...</td>\n      <td>0.0</td>\n      <td>0.0</td>\n      <td>0.0</td>\n      <td>0.0</td>\n      <td>Grupa Żywiec SA</td>\n      <td>napoje</td>\n      <td>ZWC.WA</td>\n      <td>ZYWIEC.xlsx</td>\n      <td>4.745360e+09</td>\n      <td>2018-12-31</td>\n    </tr>\n    <tr>\n      <th>19894</th>\n      <td>2019-12-31</td>\n      <td>651502.000</td>\n      <td>40236.000</td>\n      <td>30791.000</td>\n      <td>335501.000</td>\n      <td>31722.000</td>\n      <td>145523.000</td>\n      <td>-78807.000</td>\n      <td>-13101.000</td>\n      <td>2479535.000</td>\n      <td>...</td>\n      <td>0.0</td>\n      <td>0.0</td>\n      <td>0.0</td>\n      <td>0.0</td>\n      <td>Grupa Żywiec SA</td>\n      <td>napoje</td>\n      <td>ZWC.WA</td>\n      <td>ZYWIEC.xlsx</td>\n      <td>5.032960e+09</td>\n      <td>2019-12-31</td>\n    </tr>\n    <tr>\n      <th>19898</th>\n      <td>2020-12-31</td>\n      <td>770024.000</td>\n      <td>96982.000</td>\n      <td>69584.000</td>\n      <td>75207.000</td>\n      <td>37321.000</td>\n      <td>6740.000</td>\n      <td>85060.000</td>\n      <td>-18936.000</td>\n      <td>2513606.000</td>\n      <td>...</td>\n      <td>0.0</td>\n      <td>0.0</td>\n      <td>0.0</td>\n      <td>0.0</td>\n      <td>Grupa Żywiec SA</td>\n      <td>napoje</td>\n      <td>ZWC.WA</td>\n      <td>ZYWIEC.xlsx</td>\n      <td>4.971330e+09</td>\n      <td>2020-12-31</td>\n    </tr>\n    <tr>\n      <th>19902</th>\n      <td>2021-12-31</td>\n      <td>733974.000</td>\n      <td>46890.000</td>\n      <td>32175.000</td>\n      <td>42434.000</td>\n      <td>42311.000</td>\n      <td>50929.000</td>\n      <td>-65863.000</td>\n      <td>30091.000</td>\n      <td>2508447.000</td>\n      <td>...</td>\n      <td>0.0</td>\n      <td>0.0</td>\n      <td>0.0</td>\n      <td>0.0</td>\n      <td>Grupa Żywiec SA</td>\n      <td>napoje</td>\n      <td>ZWC.WA</td>\n      <td>ZYWIEC.xlsx</td>\n      <td>5.197300e+09</td>\n      <td>2021-12-31</td>\n    </tr>\n  </tbody>\n</table>\n<p>1711 rows × 112 columns</p>\n</div>"
     },
     "execution_count": 263,
     "metadata": {},
     "output_type": "execute_result"
    }
   ],
   "source": [
    "filtered_df"
   ],
   "metadata": {
    "collapsed": false,
    "ExecuteTime": {
     "end_time": "2024-05-18T14:26:45.384026900Z",
     "start_time": "2024-05-18T14:26:45.298739Z"
    }
   },
   "id": "4ef3b19159e997c1",
   "execution_count": 263
  },
  {
   "cell_type": "code",
   "outputs": [],
   "source": [
    "filtered_df.to_csv(\"dataframes/data_with_target.csv\", index=False)"
   ],
   "metadata": {
    "collapsed": false,
    "ExecuteTime": {
     "end_time": "2024-05-18T14:27:00.821746800Z",
     "start_time": "2024-05-18T14:27:00.753333400Z"
    }
   },
   "id": "e1f39c0767d73d5",
   "execution_count": 265
  }
 ],
 "metadata": {
  "kernelspec": {
   "display_name": "Python 3",
   "language": "python",
   "name": "python3"
  },
  "language_info": {
   "codemirror_mode": {
    "name": "ipython",
    "version": 2
   },
   "file_extension": ".py",
   "mimetype": "text/x-python",
   "name": "python",
   "nbconvert_exporter": "python",
   "pygments_lexer": "ipython2",
   "version": "2.7.6"
  }
 },
 "nbformat": 4,
 "nbformat_minor": 5
}
