{
 "cells": [
  {
   "cell_type": "markdown",
   "source": [
    "# Notes\n",
    "WSZYSTKIE PLIKI SĄ IDENTYCZNE. WSZYSTKIE TO EXCEL - 14 kart\n",
    "Czyszczenie:\n",
    "•\tWszystkie NaN na 0\n",
    "•\tSkalowanie przed modelem\n",
    "•\tInżynieria cech (wskaźniki ekonomiczne, różnica miedzy każym z elementów)\n",
    "\n",
    "TESTY DO PRZEPROWADZENIA:\n",
    "•\tUwzglednienie wszystkiego\n",
    "•\tSkupienie sie na zmianach kapitałowych\n",
    "•\tOgraniczenie tylko główne wartości\n",
    "•\tGrupowanie po przedsiębiorstwie? \n",
    "\n",
    "Podsumowanie co wyciągnąć z pliku:\n",
    "Dodatkowa kolumna jako nazwa pliku\n",
    "C – nazwa kolumny w DF\n"
   ],
   "metadata": {
    "collapsed": false
   },
   "id": "748bed7b754d866e"
  },
  {
   "cell_type": "code",
   "outputs": [],
   "source": [
    "import pandas as pd\n",
    "import re"
   ],
   "metadata": {
    "collapsed": false,
    "ExecuteTime": {
     "end_time": "2024-05-17T15:50:25.196816500Z",
     "start_time": "2024-05-17T15:50:25.116037200Z"
    }
   },
   "id": "d0e00dd47f67dade",
   "execution_count": 266
  },
  {
   "cell_type": "code",
   "outputs": [],
   "source": [
    "names_data = pd.read_csv('dataframes/names_gpw.csv')"
   ],
   "metadata": {
    "collapsed": false,
    "ExecuteTime": {
     "end_time": "2024-05-17T15:50:25.215005300Z",
     "start_time": "2024-05-17T15:50:25.197909800Z"
    }
   },
   "id": "fc9e9aadb88d719a",
   "execution_count": 267
  },
  {
   "cell_type": "code",
   "outputs": [],
   "source": [
    "def clean_column_names(columns):\n",
    "    cleaned_columns = []\n",
    "    for column in columns:\n",
    "        column = column.lower()\n",
    "        column = re.sub(r'\\(.*?\\)', '', column)\n",
    "        column = re.sub(r'[^\\w\\s]', '', column)\n",
    "        column = re.sub(r'\\s+', '_', column)\n",
    "        cleaned_columns.append(column)\n",
    "    return cleaned_columns"
   ],
   "metadata": {
    "collapsed": false,
    "ExecuteTime": {
     "end_time": "2024-05-17T15:50:25.216119300Z",
     "start_time": "2024-05-17T15:50:25.203839100Z"
    }
   },
   "id": "39c0550ebb412fe6",
   "execution_count": 268
  },
  {
   "cell_type": "code",
   "outputs": [],
   "source": [
    "def count_rows_by_filename(df):\n",
    "    counts = df.groupby('filename').size().reset_index(name='count')\n",
    "    return counts"
   ],
   "metadata": {
    "collapsed": false,
    "ExecuteTime": {
     "end_time": "2024-05-17T15:50:25.232771600Z",
     "start_time": "2024-05-17T15:50:25.218382600Z"
    }
   },
   "id": "766384bd5604cbc3",
   "execution_count": 269
  },
  {
   "cell_type": "markdown",
   "source": [
    "# FULL DF CLEARNING"
   ],
   "metadata": {
    "collapsed": false
   },
   "id": "ece792ab9822a192"
  },
  {
   "cell_type": "code",
   "outputs": [],
   "source": [
    "full_data = pd.read_csv(\"dataframes/dataframe_gpw.csv\")"
   ],
   "metadata": {
    "collapsed": false,
    "ExecuteTime": {
     "end_time": "2024-05-17T15:50:25.325243900Z",
     "start_time": "2024-05-17T15:50:25.233922400Z"
    }
   },
   "id": "f91a1aa223ae82ee",
   "execution_count": 270
  },
  {
   "cell_type": "code",
   "outputs": [],
   "source": [
    "full_merged_df = pd.merge(full_data, names_data, on='filename')"
   ],
   "metadata": {
    "collapsed": false,
    "ExecuteTime": {
     "end_time": "2024-05-17T15:50:25.335881900Z",
     "start_time": "2024-05-17T15:50:25.318640700Z"
    }
   },
   "id": "b0a2b11f4fa8679a",
   "execution_count": 271
  },
  {
   "cell_type": "code",
   "outputs": [],
   "source": [
    "full_merged_df = full_merged_df.sort_values(by=['filename', 'End of period'])"
   ],
   "metadata": {
    "collapsed": false,
    "ExecuteTime": {
     "end_time": "2024-05-17T15:50:25.348286900Z",
     "start_time": "2024-05-17T15:50:25.330341600Z"
    }
   },
   "id": "69aadd961210c383",
   "execution_count": 272
  },
  {
   "cell_type": "code",
   "outputs": [],
   "source": [
    "full_merged_df.columns = clean_column_names(full_merged_df.columns)"
   ],
   "metadata": {
    "collapsed": false,
    "ExecuteTime": {
     "end_time": "2024-05-17T15:50:25.348286900Z",
     "start_time": "2024-05-17T15:50:25.343756400Z"
    }
   },
   "id": "cec52b55198fb780",
   "execution_count": 273
  },
  {
   "cell_type": "code",
   "outputs": [
    {
     "data": {
      "text/plain": "         filename  count\n0      11BIT.xlsx     49\n1      3LPSA.xlsx      6\n2    3RGAMES.xlsx     48\n3         AB.xlsx     70\n4         AC.xlsx     51\n..            ...    ...\n332     ZPUE.xlsx     95\n333  ZREMBCH.xlsx     65\n334      ZUE.xlsx     53\n335      ZUK.xlsx     67\n336   ZYWIEC.xlsx     99\n\n[337 rows x 2 columns]",
      "text/html": "<div>\n<style scoped>\n    .dataframe tbody tr th:only-of-type {\n        vertical-align: middle;\n    }\n\n    .dataframe tbody tr th {\n        vertical-align: top;\n    }\n\n    .dataframe thead th {\n        text-align: right;\n    }\n</style>\n<table border=\"1\" class=\"dataframe\">\n  <thead>\n    <tr style=\"text-align: right;\">\n      <th></th>\n      <th>filename</th>\n      <th>count</th>\n    </tr>\n  </thead>\n  <tbody>\n    <tr>\n      <th>0</th>\n      <td>11BIT.xlsx</td>\n      <td>49</td>\n    </tr>\n    <tr>\n      <th>1</th>\n      <td>3LPSA.xlsx</td>\n      <td>6</td>\n    </tr>\n    <tr>\n      <th>2</th>\n      <td>3RGAMES.xlsx</td>\n      <td>48</td>\n    </tr>\n    <tr>\n      <th>3</th>\n      <td>AB.xlsx</td>\n      <td>70</td>\n    </tr>\n    <tr>\n      <th>4</th>\n      <td>AC.xlsx</td>\n      <td>51</td>\n    </tr>\n    <tr>\n      <th>...</th>\n      <td>...</td>\n      <td>...</td>\n    </tr>\n    <tr>\n      <th>332</th>\n      <td>ZPUE.xlsx</td>\n      <td>95</td>\n    </tr>\n    <tr>\n      <th>333</th>\n      <td>ZREMBCH.xlsx</td>\n      <td>65</td>\n    </tr>\n    <tr>\n      <th>334</th>\n      <td>ZUE.xlsx</td>\n      <td>53</td>\n    </tr>\n    <tr>\n      <th>335</th>\n      <td>ZUK.xlsx</td>\n      <td>67</td>\n    </tr>\n    <tr>\n      <th>336</th>\n      <td>ZYWIEC.xlsx</td>\n      <td>99</td>\n    </tr>\n  </tbody>\n</table>\n<p>337 rows × 2 columns</p>\n</div>"
     },
     "execution_count": 274,
     "metadata": {},
     "output_type": "execute_result"
    }
   ],
   "source": [
    "count_rows_by_filename(full_merged_df)"
   ],
   "metadata": {
    "collapsed": false,
    "ExecuteTime": {
     "end_time": "2024-05-17T15:50:25.365877900Z",
     "start_time": "2024-05-17T15:50:25.347216800Z"
    }
   },
   "id": "eed39f421586c0f4",
   "execution_count": 274
  },
  {
   "cell_type": "code",
   "outputs": [],
   "source": [
    "# Delete all companies under 4 because its not enough to cover any change in assets or liabilities\n",
    "filenames_to_remove = [\n",
    "    'SADOVAYA.xlsx',\n",
    "    'BMW.xlsx',\n",
    "    'KERNEL.xlsx',\n",
    "    'SILVANO.xlsx',\n",
    "    'IMCSA.xlsx',\n",
    "    'STSHOLDING.xlsx'\n",
    "]\n",
    "\n",
    "df_filtered = full_merged_df[~full_merged_df['filename'].isin(filenames_to_remove)]"
   ],
   "metadata": {
    "collapsed": false,
    "ExecuteTime": {
     "end_time": "2024-05-17T15:50:25.368128900Z",
     "start_time": "2024-05-17T15:50:25.357473500Z"
    }
   },
   "id": "f8e343b1603a2c69",
   "execution_count": 275
  },
  {
   "cell_type": "markdown",
   "source": [
    "## Missing data"
   ],
   "metadata": {
    "collapsed": false
   },
   "id": "79e48d14f54e4905"
  },
  {
   "cell_type": "code",
   "outputs": [
    {
     "data": {
      "text/plain": "end_of_period                                                      0\nrevenues_from_sales                                              945\noperating_profitloss                                             737\nnet_profitloss_attributable_to_equity_holders_of_the_parent      577\ntotal_comprehensive_income_attributable_to_equity_holders      17723\n                                                               ...  \ncurrent_financial_liabilities                                  19906\nnoncurrent_financial_liabilities                               19906\nfinancial_liabilities_                                         19906\ncompany_name                                                       0\nsector                                                            13\nLength: 108, dtype: int64"
     },
     "execution_count": 276,
     "metadata": {},
     "output_type": "execute_result"
    }
   ],
   "source": [
    "full_merged_df.isnull().sum()"
   ],
   "metadata": {
    "collapsed": false,
    "ExecuteTime": {
     "end_time": "2024-05-17T15:50:25.378134200Z",
     "start_time": "2024-05-17T15:50:25.369131700Z"
    }
   },
   "id": "2466ce68bd13d51e",
   "execution_count": 276
  },
  {
   "cell_type": "code",
   "outputs": [
    {
     "data": {
      "text/plain": "      end_of_period  revenues_from_sales  operating_profitloss  \\\n49       2017-12-31                  NaN                   NaN   \n50       2018-12-31                  NaN                   NaN   \n51       2019-12-31                  NaN                   NaN   \n52       2020-12-31          34515.00000            3929.00000   \n53       2021-09-30                  NaN                   NaN   \n54       2021-12-31          39704.00000            3898.00000   \n2522     2020-12-31                  NaN                   NaN   \n2523     2021-12-31                  NaN                   NaN   \n18362    2019-12-31                  NaN                   NaN   \n18363    2020-12-31                  NaN                   NaN   \n18364    2021-06-30           1141.52579             302.65867   \n18365    2021-12-31                  NaN                   NaN   \n18366    2022-06-30            654.87351            -314.01440   \n\n       net_profitloss_attributable_to_equity_holders_of_the_parent  \\\n49                                                   NaN             \n50                                                   NaN             \n51                                                   NaN             \n52                                             138.00000             \n53                                                   NaN             \n54                                            2169.00000             \n2522                                                 NaN             \n2523                                                 NaN             \n18362                                                NaN             \n18363                                                NaN             \n18364                                          287.68307             \n18365                                                NaN             \n18366                                         -314.96840             \n\n       total_comprehensive_income_attributable_to_equity_holders  \\\n49                                                   NaN           \n50                                                   NaN           \n51                                                   NaN           \n52                                                 138.0           \n53                                                   NaN           \n54                                                2169.0           \n2522                                                 NaN           \n2523                                                 NaN           \n18362                                                NaN           \n18363                                                NaN           \n18364                                                NaN           \n18365                                                NaN           \n18366                                                NaN           \n\n       depreciation  cash_flow_from_operating_activities  \\\n49              NaN                                  NaN   \n50              NaN                                  NaN   \n51              NaN                                  NaN   \n52       4114.00000                           8513.00000   \n53              NaN                                  NaN   \n54       4459.00000                           5831.00000   \n2522            NaN                                  NaN   \n2523            NaN                                  NaN   \n18362           NaN                                  NaN   \n18363           NaN                                  NaN   \n18364           NaN                            466.14407   \n18365           NaN                                  NaN   \n18366       0.42365                           -114.99931   \n\n       cash_flow_from_investing_activities  \\\n49                                     NaN   \n50                                     NaN   \n51                                     NaN   \n52                             -3261.00000   \n53                                     NaN   \n54                             -2718.00000   \n2522                                   NaN   \n2523                                   NaN   \n18362                                  NaN   \n18363                                  NaN   \n18364                                  NaN   \n18365                                  NaN   \n18366                            -10.16748   \n\n       cash_flow_from_financing_activities        aktywa  ...  \\\n49                                     NaN  8.301800e+04  ...   \n50                                     NaN  1.053760e+05  ...   \n51                                     NaN  1.613490e+05  ...   \n52                              -5264.0000  1.640630e+05  ...   \n53                                     NaN  1.547040e+05  ...   \n54                              -3195.0000  1.571200e+05  ...   \n2522                                   NaN  2.166580e+08  ...   \n2523                                   NaN  2.295270e+08  ...   \n18362                                  NaN  1.065330e+03  ...   \n18363                                  NaN  3.348397e+03  ...   \n18364                            -742.2988  2.882571e+03  ...   \n18365                                  NaN  3.526614e+03  ...   \n18366                           -1035.0000  2.461432e+03  ...   \n\n       debt_service_ratio  rate_debt_security  leverage_  asset_utilization_  \\\n49                    NaN                 NaN        NaN                 NaN   \n50                    NaN                 NaN        NaN                 NaN   \n51                    NaN                 NaN        NaN                 NaN   \n52                    NaN                 NaN        NaN                 NaN   \n53                    NaN                 NaN        NaN                 NaN   \n54                    NaN                 NaN        NaN                 NaN   \n2522                  NaN                 NaN        NaN                 NaN   \n2523                  NaN                 NaN        NaN                 NaN   \n18362                 NaN                 NaN        NaN                 NaN   \n18363                 NaN                 NaN        NaN                 NaN   \n18364                 NaN                 NaN        NaN                 NaN   \n18365                 NaN                 NaN        NaN                 NaN   \n18366                 NaN                 NaN        NaN                 NaN   \n\n       load_gross_profit  current_financial_liabilities  \\\n49                   NaN                            NaN   \n50                   NaN                            NaN   \n51                   NaN                            NaN   \n52                   NaN                            NaN   \n53                   NaN                            NaN   \n54                   NaN                            NaN   \n2522                 NaN                            NaN   \n2523                 NaN                            NaN   \n18362                NaN                            NaN   \n18363                NaN                            NaN   \n18364                NaN                            NaN   \n18365                NaN                            NaN   \n18366                NaN                            NaN   \n\n       noncurrent_financial_liabilities  financial_liabilities_  company_name  \\\n49                                  NaN                     NaN        3LP SA   \n50                                  NaN                     NaN        3LP SA   \n51                                  NaN                     NaN        3LP SA   \n52                                  NaN                     NaN        3LP SA   \n53                                  NaN                     NaN        3LP SA   \n54                                  NaN                     NaN        3LP SA   \n2522                                NaN                     NaN        BMW AG   \n2523                                NaN                     NaN        BMW AG   \n18362                               NaN                     NaN   Uf Games SA   \n18363                               NaN                     NaN   Uf Games SA   \n18364                               NaN                     NaN   Uf Games SA   \n18365                               NaN                     NaN   Uf Games SA   \n18366                               NaN                     NaN   Uf Games SA   \n\n      sector  \n49       NaN  \n50       NaN  \n51       NaN  \n52       NaN  \n53       NaN  \n54       NaN  \n2522     NaN  \n2523     NaN  \n18362    NaN  \n18363    NaN  \n18364    NaN  \n18365    NaN  \n18366    NaN  \n\n[13 rows x 108 columns]",
      "text/html": "<div>\n<style scoped>\n    .dataframe tbody tr th:only-of-type {\n        vertical-align: middle;\n    }\n\n    .dataframe tbody tr th {\n        vertical-align: top;\n    }\n\n    .dataframe thead th {\n        text-align: right;\n    }\n</style>\n<table border=\"1\" class=\"dataframe\">\n  <thead>\n    <tr style=\"text-align: right;\">\n      <th></th>\n      <th>end_of_period</th>\n      <th>revenues_from_sales</th>\n      <th>operating_profitloss</th>\n      <th>net_profitloss_attributable_to_equity_holders_of_the_parent</th>\n      <th>total_comprehensive_income_attributable_to_equity_holders</th>\n      <th>depreciation</th>\n      <th>cash_flow_from_operating_activities</th>\n      <th>cash_flow_from_investing_activities</th>\n      <th>cash_flow_from_financing_activities</th>\n      <th>aktywa</th>\n      <th>...</th>\n      <th>debt_service_ratio</th>\n      <th>rate_debt_security</th>\n      <th>leverage_</th>\n      <th>asset_utilization_</th>\n      <th>load_gross_profit</th>\n      <th>current_financial_liabilities</th>\n      <th>noncurrent_financial_liabilities</th>\n      <th>financial_liabilities_</th>\n      <th>company_name</th>\n      <th>sector</th>\n    </tr>\n  </thead>\n  <tbody>\n    <tr>\n      <th>49</th>\n      <td>2017-12-31</td>\n      <td>NaN</td>\n      <td>NaN</td>\n      <td>NaN</td>\n      <td>NaN</td>\n      <td>NaN</td>\n      <td>NaN</td>\n      <td>NaN</td>\n      <td>NaN</td>\n      <td>8.301800e+04</td>\n      <td>...</td>\n      <td>NaN</td>\n      <td>NaN</td>\n      <td>NaN</td>\n      <td>NaN</td>\n      <td>NaN</td>\n      <td>NaN</td>\n      <td>NaN</td>\n      <td>NaN</td>\n      <td>3LP SA</td>\n      <td>NaN</td>\n    </tr>\n    <tr>\n      <th>50</th>\n      <td>2018-12-31</td>\n      <td>NaN</td>\n      <td>NaN</td>\n      <td>NaN</td>\n      <td>NaN</td>\n      <td>NaN</td>\n      <td>NaN</td>\n      <td>NaN</td>\n      <td>NaN</td>\n      <td>1.053760e+05</td>\n      <td>...</td>\n      <td>NaN</td>\n      <td>NaN</td>\n      <td>NaN</td>\n      <td>NaN</td>\n      <td>NaN</td>\n      <td>NaN</td>\n      <td>NaN</td>\n      <td>NaN</td>\n      <td>3LP SA</td>\n      <td>NaN</td>\n    </tr>\n    <tr>\n      <th>51</th>\n      <td>2019-12-31</td>\n      <td>NaN</td>\n      <td>NaN</td>\n      <td>NaN</td>\n      <td>NaN</td>\n      <td>NaN</td>\n      <td>NaN</td>\n      <td>NaN</td>\n      <td>NaN</td>\n      <td>1.613490e+05</td>\n      <td>...</td>\n      <td>NaN</td>\n      <td>NaN</td>\n      <td>NaN</td>\n      <td>NaN</td>\n      <td>NaN</td>\n      <td>NaN</td>\n      <td>NaN</td>\n      <td>NaN</td>\n      <td>3LP SA</td>\n      <td>NaN</td>\n    </tr>\n    <tr>\n      <th>52</th>\n      <td>2020-12-31</td>\n      <td>34515.00000</td>\n      <td>3929.00000</td>\n      <td>138.00000</td>\n      <td>138.0</td>\n      <td>4114.00000</td>\n      <td>8513.00000</td>\n      <td>-3261.00000</td>\n      <td>-5264.0000</td>\n      <td>1.640630e+05</td>\n      <td>...</td>\n      <td>NaN</td>\n      <td>NaN</td>\n      <td>NaN</td>\n      <td>NaN</td>\n      <td>NaN</td>\n      <td>NaN</td>\n      <td>NaN</td>\n      <td>NaN</td>\n      <td>3LP SA</td>\n      <td>NaN</td>\n    </tr>\n    <tr>\n      <th>53</th>\n      <td>2021-09-30</td>\n      <td>NaN</td>\n      <td>NaN</td>\n      <td>NaN</td>\n      <td>NaN</td>\n      <td>NaN</td>\n      <td>NaN</td>\n      <td>NaN</td>\n      <td>NaN</td>\n      <td>1.547040e+05</td>\n      <td>...</td>\n      <td>NaN</td>\n      <td>NaN</td>\n      <td>NaN</td>\n      <td>NaN</td>\n      <td>NaN</td>\n      <td>NaN</td>\n      <td>NaN</td>\n      <td>NaN</td>\n      <td>3LP SA</td>\n      <td>NaN</td>\n    </tr>\n    <tr>\n      <th>54</th>\n      <td>2021-12-31</td>\n      <td>39704.00000</td>\n      <td>3898.00000</td>\n      <td>2169.00000</td>\n      <td>2169.0</td>\n      <td>4459.00000</td>\n      <td>5831.00000</td>\n      <td>-2718.00000</td>\n      <td>-3195.0000</td>\n      <td>1.571200e+05</td>\n      <td>...</td>\n      <td>NaN</td>\n      <td>NaN</td>\n      <td>NaN</td>\n      <td>NaN</td>\n      <td>NaN</td>\n      <td>NaN</td>\n      <td>NaN</td>\n      <td>NaN</td>\n      <td>3LP SA</td>\n      <td>NaN</td>\n    </tr>\n    <tr>\n      <th>2522</th>\n      <td>2020-12-31</td>\n      <td>NaN</td>\n      <td>NaN</td>\n      <td>NaN</td>\n      <td>NaN</td>\n      <td>NaN</td>\n      <td>NaN</td>\n      <td>NaN</td>\n      <td>NaN</td>\n      <td>2.166580e+08</td>\n      <td>...</td>\n      <td>NaN</td>\n      <td>NaN</td>\n      <td>NaN</td>\n      <td>NaN</td>\n      <td>NaN</td>\n      <td>NaN</td>\n      <td>NaN</td>\n      <td>NaN</td>\n      <td>BMW AG</td>\n      <td>NaN</td>\n    </tr>\n    <tr>\n      <th>2523</th>\n      <td>2021-12-31</td>\n      <td>NaN</td>\n      <td>NaN</td>\n      <td>NaN</td>\n      <td>NaN</td>\n      <td>NaN</td>\n      <td>NaN</td>\n      <td>NaN</td>\n      <td>NaN</td>\n      <td>2.295270e+08</td>\n      <td>...</td>\n      <td>NaN</td>\n      <td>NaN</td>\n      <td>NaN</td>\n      <td>NaN</td>\n      <td>NaN</td>\n      <td>NaN</td>\n      <td>NaN</td>\n      <td>NaN</td>\n      <td>BMW AG</td>\n      <td>NaN</td>\n    </tr>\n    <tr>\n      <th>18362</th>\n      <td>2019-12-31</td>\n      <td>NaN</td>\n      <td>NaN</td>\n      <td>NaN</td>\n      <td>NaN</td>\n      <td>NaN</td>\n      <td>NaN</td>\n      <td>NaN</td>\n      <td>NaN</td>\n      <td>1.065330e+03</td>\n      <td>...</td>\n      <td>NaN</td>\n      <td>NaN</td>\n      <td>NaN</td>\n      <td>NaN</td>\n      <td>NaN</td>\n      <td>NaN</td>\n      <td>NaN</td>\n      <td>NaN</td>\n      <td>Uf Games SA</td>\n      <td>NaN</td>\n    </tr>\n    <tr>\n      <th>18363</th>\n      <td>2020-12-31</td>\n      <td>NaN</td>\n      <td>NaN</td>\n      <td>NaN</td>\n      <td>NaN</td>\n      <td>NaN</td>\n      <td>NaN</td>\n      <td>NaN</td>\n      <td>NaN</td>\n      <td>3.348397e+03</td>\n      <td>...</td>\n      <td>NaN</td>\n      <td>NaN</td>\n      <td>NaN</td>\n      <td>NaN</td>\n      <td>NaN</td>\n      <td>NaN</td>\n      <td>NaN</td>\n      <td>NaN</td>\n      <td>Uf Games SA</td>\n      <td>NaN</td>\n    </tr>\n    <tr>\n      <th>18364</th>\n      <td>2021-06-30</td>\n      <td>1141.52579</td>\n      <td>302.65867</td>\n      <td>287.68307</td>\n      <td>NaN</td>\n      <td>NaN</td>\n      <td>466.14407</td>\n      <td>NaN</td>\n      <td>-742.2988</td>\n      <td>2.882571e+03</td>\n      <td>...</td>\n      <td>NaN</td>\n      <td>NaN</td>\n      <td>NaN</td>\n      <td>NaN</td>\n      <td>NaN</td>\n      <td>NaN</td>\n      <td>NaN</td>\n      <td>NaN</td>\n      <td>Uf Games SA</td>\n      <td>NaN</td>\n    </tr>\n    <tr>\n      <th>18365</th>\n      <td>2021-12-31</td>\n      <td>NaN</td>\n      <td>NaN</td>\n      <td>NaN</td>\n      <td>NaN</td>\n      <td>NaN</td>\n      <td>NaN</td>\n      <td>NaN</td>\n      <td>NaN</td>\n      <td>3.526614e+03</td>\n      <td>...</td>\n      <td>NaN</td>\n      <td>NaN</td>\n      <td>NaN</td>\n      <td>NaN</td>\n      <td>NaN</td>\n      <td>NaN</td>\n      <td>NaN</td>\n      <td>NaN</td>\n      <td>Uf Games SA</td>\n      <td>NaN</td>\n    </tr>\n    <tr>\n      <th>18366</th>\n      <td>2022-06-30</td>\n      <td>654.87351</td>\n      <td>-314.01440</td>\n      <td>-314.96840</td>\n      <td>NaN</td>\n      <td>0.42365</td>\n      <td>-114.99931</td>\n      <td>-10.16748</td>\n      <td>-1035.0000</td>\n      <td>2.461432e+03</td>\n      <td>...</td>\n      <td>NaN</td>\n      <td>NaN</td>\n      <td>NaN</td>\n      <td>NaN</td>\n      <td>NaN</td>\n      <td>NaN</td>\n      <td>NaN</td>\n      <td>NaN</td>\n      <td>Uf Games SA</td>\n      <td>NaN</td>\n    </tr>\n  </tbody>\n</table>\n<p>13 rows × 108 columns</p>\n</div>"
     },
     "execution_count": 277,
     "metadata": {},
     "output_type": "execute_result"
    }
   ],
   "source": [
    "# Sektor NaN\n",
    "rows_with_nan_in_sektor = full_merged_df[full_merged_df['sector'].isna()]\n",
    "rows_with_nan_in_sektor"
   ],
   "metadata": {
    "collapsed": false,
    "ExecuteTime": {
     "end_time": "2024-05-17T15:50:25.417779800Z",
     "start_time": "2024-05-17T15:50:25.379136400Z"
    }
   },
   "id": "4e4baa4bf4b7e8fb",
   "execution_count": 277
  },
  {
   "cell_type": "markdown",
   "source": [
    "# Notes\n",
    "Manually checking for each company\n",
    "\n",
    "3LP SA - handel\n",
    "BMW AG - motoryzacja\n",
    "Uf Games SA - gry\n"
   ],
   "metadata": {
    "collapsed": false
   },
   "id": "7456660b0f1bcdf1"
  },
  {
   "cell_type": "code",
   "outputs": [],
   "source": [
    "company_to_sector = {\n",
    "    '3LP SA': 'handel',\n",
    "    'BMW AG': 'motoryzacja',\n",
    "    'Uf Games SA': 'gry'\n",
    "}\n",
    "\n",
    "full_merged_df['sector'] = full_merged_df.apply(lambda row: company_to_sector[row['company_name']] if pd.isna(row['sector']) else row['sector'], axis=1)"
   ],
   "metadata": {
    "collapsed": false,
    "ExecuteTime": {
     "end_time": "2024-05-17T15:50:25.639260500Z",
     "start_time": "2024-05-17T15:50:25.395880900Z"
    }
   },
   "id": "7319f46aa1372b35",
   "execution_count": 278
  },
  {
   "cell_type": "code",
   "outputs": [],
   "source": [
    "# Rest of financial data - fill NaN with 0 (= no change)\n",
    "full_merged_df = full_merged_df.fillna(0)"
   ],
   "metadata": {
    "collapsed": false,
    "ExecuteTime": {
     "end_time": "2024-05-17T15:50:25.666867700Z",
     "start_time": "2024-05-17T15:50:25.640725600Z"
    }
   },
   "id": "fb24e9bf335b19e8",
   "execution_count": 279
  },
  {
   "cell_type": "code",
   "outputs": [
    {
     "data": {
      "text/plain": "      end_of_period  revenues_from_sales  operating_profitloss  \\\n0        2010-03-31                 66.0                   0.0   \n1        2010-09-30                129.0                   0.0   \n2        2010-12-31                228.0                   0.0   \n3        2011-03-31                144.0                   0.0   \n4        2011-06-30                959.0                   0.0   \n...             ...                  ...                   ...   \n19901    2021-09-30             995385.0              103668.0   \n19902    2021-12-31             733974.0               46890.0   \n19903    2022-03-31             696778.0                6649.0   \n19904    2022-06-30            1209418.0              101579.0   \n19905    2022-09-30            1106635.0               61538.0   \n\n       net_profitloss_attributable_to_equity_holders_of_the_parent  \\\n0                                                  -16.0             \n1                                                  -26.0             \n2                                                 -198.0             \n3                                                  -50.0             \n4                                                  377.0             \n...                                                  ...             \n19901                                           104744.0             \n19902                                            32175.0             \n19903                                            -1246.0             \n19904                                            92625.0             \n19905                                            23844.0             \n\n       total_comprehensive_income_attributable_to_equity_holders  \\\n0                                                    0.0           \n1                                                    0.0           \n2                                                    0.0           \n3                                                    0.0           \n4                                                    0.0           \n...                                                  ...           \n19901                                           106250.0           \n19902                                            42434.0           \n19903                                            41367.0           \n19904                                            45386.0           \n19905                                            18814.0           \n\n       depreciation  cash_flow_from_operating_activities  \\\n0              29.0                                  0.0   \n1               6.0                                  0.0   \n2               0.0                                  0.0   \n3               0.0                                  0.0   \n4               7.0                                  0.0   \n...             ...                                  ...   \n19901       36985.0                             354390.0   \n19902       42311.0                              50929.0   \n19903       38391.0                              13967.0   \n19904       39932.0                             101877.0   \n19905       40212.0                             156461.0   \n\n       cash_flow_from_investing_activities  \\\n0                                      0.0   \n1                                      0.0   \n2                                      0.0   \n3                                      0.0   \n4                                      0.0   \n...                                    ...   \n19901                             -22037.0   \n19902                             -65863.0   \n19903                             -33280.0   \n19904                             -21179.0   \n19905                             -24386.0   \n\n       cash_flow_from_financing_activities      aktywa  ...  \\\n0                                      0.0        0.00  ...   \n1                                      0.0     1411.00  ...   \n2                                      0.0     1352.36  ...   \n3                                      0.0     1342.00  ...   \n4                                      0.0     1659.00  ...   \n...                                    ...         ...  ...   \n19901                            -433167.0  2649304.00  ...   \n19902                              30091.0  2508447.00  ...   \n19903                              57099.0  2741947.00  ...   \n19904                             -81990.0  2981239.00  ...   \n19905                            -117588.0  2733389.00  ...   \n\n       debt_service_ratio  rate_debt_security  leverage_  asset_utilization_  \\\n0                     0.0                 0.0        0.0                 0.0   \n1                     0.0                 0.0        0.0                 0.0   \n2                     0.0                 0.0        0.0                 0.0   \n3                     0.0                 0.0        0.0                 0.0   \n4                     0.0                 0.0        0.0                 0.0   \n...                   ...                 ...        ...                 ...   \n19901                 0.0                 0.0        0.0                 0.0   \n19902                 0.0                 0.0        0.0                 0.0   \n19903                 0.0                 0.0        0.0                 0.0   \n19904                 0.0                 0.0        0.0                 0.0   \n19905                 0.0                 0.0        0.0                 0.0   \n\n       load_gross_profit  current_financial_liabilities  \\\n0                    0.0                            0.0   \n1                    0.0                            0.0   \n2                    0.0                            0.0   \n3                    0.0                            0.0   \n4                    0.0                            0.0   \n...                  ...                            ...   \n19901                0.0                            0.0   \n19902                0.0                            0.0   \n19903                0.0                            0.0   \n19904                0.0                            0.0   \n19905                0.0                            0.0   \n\n       noncurrent_financial_liabilities  financial_liabilities_  \\\n0                                   0.0                     0.0   \n1                                   0.0                     0.0   \n2                                   0.0                     0.0   \n3                                   0.0                     0.0   \n4                                   0.0                     0.0   \n...                                 ...                     ...   \n19901                               0.0                     0.0   \n19902                               0.0                     0.0   \n19903                               0.0                     0.0   \n19904                               0.0                     0.0   \n19905                               0.0                     0.0   \n\n            company_name  sector  \n0      11 bit studios SA     gry  \n1      11 bit studios SA     gry  \n2      11 bit studios SA     gry  \n3      11 bit studios SA     gry  \n4      11 bit studios SA     gry  \n...                  ...     ...  \n19901    Grupa Żywiec SA  napoje  \n19902    Grupa Żywiec SA  napoje  \n19903    Grupa Żywiec SA  napoje  \n19904    Grupa Żywiec SA  napoje  \n19905    Grupa Żywiec SA  napoje  \n\n[19906 rows x 108 columns]",
      "text/html": "<div>\n<style scoped>\n    .dataframe tbody tr th:only-of-type {\n        vertical-align: middle;\n    }\n\n    .dataframe tbody tr th {\n        vertical-align: top;\n    }\n\n    .dataframe thead th {\n        text-align: right;\n    }\n</style>\n<table border=\"1\" class=\"dataframe\">\n  <thead>\n    <tr style=\"text-align: right;\">\n      <th></th>\n      <th>end_of_period</th>\n      <th>revenues_from_sales</th>\n      <th>operating_profitloss</th>\n      <th>net_profitloss_attributable_to_equity_holders_of_the_parent</th>\n      <th>total_comprehensive_income_attributable_to_equity_holders</th>\n      <th>depreciation</th>\n      <th>cash_flow_from_operating_activities</th>\n      <th>cash_flow_from_investing_activities</th>\n      <th>cash_flow_from_financing_activities</th>\n      <th>aktywa</th>\n      <th>...</th>\n      <th>debt_service_ratio</th>\n      <th>rate_debt_security</th>\n      <th>leverage_</th>\n      <th>asset_utilization_</th>\n      <th>load_gross_profit</th>\n      <th>current_financial_liabilities</th>\n      <th>noncurrent_financial_liabilities</th>\n      <th>financial_liabilities_</th>\n      <th>company_name</th>\n      <th>sector</th>\n    </tr>\n  </thead>\n  <tbody>\n    <tr>\n      <th>0</th>\n      <td>2010-03-31</td>\n      <td>66.0</td>\n      <td>0.0</td>\n      <td>-16.0</td>\n      <td>0.0</td>\n      <td>29.0</td>\n      <td>0.0</td>\n      <td>0.0</td>\n      <td>0.0</td>\n      <td>0.00</td>\n      <td>...</td>\n      <td>0.0</td>\n      <td>0.0</td>\n      <td>0.0</td>\n      <td>0.0</td>\n      <td>0.0</td>\n      <td>0.0</td>\n      <td>0.0</td>\n      <td>0.0</td>\n      <td>11 bit studios SA</td>\n      <td>gry</td>\n    </tr>\n    <tr>\n      <th>1</th>\n      <td>2010-09-30</td>\n      <td>129.0</td>\n      <td>0.0</td>\n      <td>-26.0</td>\n      <td>0.0</td>\n      <td>6.0</td>\n      <td>0.0</td>\n      <td>0.0</td>\n      <td>0.0</td>\n      <td>1411.00</td>\n      <td>...</td>\n      <td>0.0</td>\n      <td>0.0</td>\n      <td>0.0</td>\n      <td>0.0</td>\n      <td>0.0</td>\n      <td>0.0</td>\n      <td>0.0</td>\n      <td>0.0</td>\n      <td>11 bit studios SA</td>\n      <td>gry</td>\n    </tr>\n    <tr>\n      <th>2</th>\n      <td>2010-12-31</td>\n      <td>228.0</td>\n      <td>0.0</td>\n      <td>-198.0</td>\n      <td>0.0</td>\n      <td>0.0</td>\n      <td>0.0</td>\n      <td>0.0</td>\n      <td>0.0</td>\n      <td>1352.36</td>\n      <td>...</td>\n      <td>0.0</td>\n      <td>0.0</td>\n      <td>0.0</td>\n      <td>0.0</td>\n      <td>0.0</td>\n      <td>0.0</td>\n      <td>0.0</td>\n      <td>0.0</td>\n      <td>11 bit studios SA</td>\n      <td>gry</td>\n    </tr>\n    <tr>\n      <th>3</th>\n      <td>2011-03-31</td>\n      <td>144.0</td>\n      <td>0.0</td>\n      <td>-50.0</td>\n      <td>0.0</td>\n      <td>0.0</td>\n      <td>0.0</td>\n      <td>0.0</td>\n      <td>0.0</td>\n      <td>1342.00</td>\n      <td>...</td>\n      <td>0.0</td>\n      <td>0.0</td>\n      <td>0.0</td>\n      <td>0.0</td>\n      <td>0.0</td>\n      <td>0.0</td>\n      <td>0.0</td>\n      <td>0.0</td>\n      <td>11 bit studios SA</td>\n      <td>gry</td>\n    </tr>\n    <tr>\n      <th>4</th>\n      <td>2011-06-30</td>\n      <td>959.0</td>\n      <td>0.0</td>\n      <td>377.0</td>\n      <td>0.0</td>\n      <td>7.0</td>\n      <td>0.0</td>\n      <td>0.0</td>\n      <td>0.0</td>\n      <td>1659.00</td>\n      <td>...</td>\n      <td>0.0</td>\n      <td>0.0</td>\n      <td>0.0</td>\n      <td>0.0</td>\n      <td>0.0</td>\n      <td>0.0</td>\n      <td>0.0</td>\n      <td>0.0</td>\n      <td>11 bit studios SA</td>\n      <td>gry</td>\n    </tr>\n    <tr>\n      <th>...</th>\n      <td>...</td>\n      <td>...</td>\n      <td>...</td>\n      <td>...</td>\n      <td>...</td>\n      <td>...</td>\n      <td>...</td>\n      <td>...</td>\n      <td>...</td>\n      <td>...</td>\n      <td>...</td>\n      <td>...</td>\n      <td>...</td>\n      <td>...</td>\n      <td>...</td>\n      <td>...</td>\n      <td>...</td>\n      <td>...</td>\n      <td>...</td>\n      <td>...</td>\n      <td>...</td>\n    </tr>\n    <tr>\n      <th>19901</th>\n      <td>2021-09-30</td>\n      <td>995385.0</td>\n      <td>103668.0</td>\n      <td>104744.0</td>\n      <td>106250.0</td>\n      <td>36985.0</td>\n      <td>354390.0</td>\n      <td>-22037.0</td>\n      <td>-433167.0</td>\n      <td>2649304.00</td>\n      <td>...</td>\n      <td>0.0</td>\n      <td>0.0</td>\n      <td>0.0</td>\n      <td>0.0</td>\n      <td>0.0</td>\n      <td>0.0</td>\n      <td>0.0</td>\n      <td>0.0</td>\n      <td>Grupa Żywiec SA</td>\n      <td>napoje</td>\n    </tr>\n    <tr>\n      <th>19902</th>\n      <td>2021-12-31</td>\n      <td>733974.0</td>\n      <td>46890.0</td>\n      <td>32175.0</td>\n      <td>42434.0</td>\n      <td>42311.0</td>\n      <td>50929.0</td>\n      <td>-65863.0</td>\n      <td>30091.0</td>\n      <td>2508447.00</td>\n      <td>...</td>\n      <td>0.0</td>\n      <td>0.0</td>\n      <td>0.0</td>\n      <td>0.0</td>\n      <td>0.0</td>\n      <td>0.0</td>\n      <td>0.0</td>\n      <td>0.0</td>\n      <td>Grupa Żywiec SA</td>\n      <td>napoje</td>\n    </tr>\n    <tr>\n      <th>19903</th>\n      <td>2022-03-31</td>\n      <td>696778.0</td>\n      <td>6649.0</td>\n      <td>-1246.0</td>\n      <td>41367.0</td>\n      <td>38391.0</td>\n      <td>13967.0</td>\n      <td>-33280.0</td>\n      <td>57099.0</td>\n      <td>2741947.00</td>\n      <td>...</td>\n      <td>0.0</td>\n      <td>0.0</td>\n      <td>0.0</td>\n      <td>0.0</td>\n      <td>0.0</td>\n      <td>0.0</td>\n      <td>0.0</td>\n      <td>0.0</td>\n      <td>Grupa Żywiec SA</td>\n      <td>napoje</td>\n    </tr>\n    <tr>\n      <th>19904</th>\n      <td>2022-06-30</td>\n      <td>1209418.0</td>\n      <td>101579.0</td>\n      <td>92625.0</td>\n      <td>45386.0</td>\n      <td>39932.0</td>\n      <td>101877.0</td>\n      <td>-21179.0</td>\n      <td>-81990.0</td>\n      <td>2981239.00</td>\n      <td>...</td>\n      <td>0.0</td>\n      <td>0.0</td>\n      <td>0.0</td>\n      <td>0.0</td>\n      <td>0.0</td>\n      <td>0.0</td>\n      <td>0.0</td>\n      <td>0.0</td>\n      <td>Grupa Żywiec SA</td>\n      <td>napoje</td>\n    </tr>\n    <tr>\n      <th>19905</th>\n      <td>2022-09-30</td>\n      <td>1106635.0</td>\n      <td>61538.0</td>\n      <td>23844.0</td>\n      <td>18814.0</td>\n      <td>40212.0</td>\n      <td>156461.0</td>\n      <td>-24386.0</td>\n      <td>-117588.0</td>\n      <td>2733389.00</td>\n      <td>...</td>\n      <td>0.0</td>\n      <td>0.0</td>\n      <td>0.0</td>\n      <td>0.0</td>\n      <td>0.0</td>\n      <td>0.0</td>\n      <td>0.0</td>\n      <td>0.0</td>\n      <td>Grupa Żywiec SA</td>\n      <td>napoje</td>\n    </tr>\n  </tbody>\n</table>\n<p>19906 rows × 108 columns</p>\n</div>"
     },
     "execution_count": 280,
     "metadata": {},
     "output_type": "execute_result"
    }
   ],
   "source": [
    "full_merged_df"
   ],
   "metadata": {
    "collapsed": false,
    "ExecuteTime": {
     "end_time": "2024-05-17T15:50:25.685291100Z",
     "start_time": "2024-05-17T15:50:25.659199700Z"
    }
   },
   "id": "da142006b95a55a",
   "execution_count": 280
  },
  {
   "cell_type": "code",
   "outputs": [],
   "source": [
    "# Change each indicator to % value\n"
   ],
   "metadata": {
    "collapsed": false,
    "ExecuteTime": {
     "end_time": "2024-05-17T15:50:25.695767600Z",
     "start_time": "2024-05-17T15:50:25.685291100Z"
    }
   },
   "id": "7215865c0630099c",
   "execution_count": 281
  },
  {
   "cell_type": "markdown",
   "source": [
    "## Feature Engineering"
   ],
   "metadata": {
    "collapsed": false
   },
   "id": "232b97bba5331d79"
  },
  {
   "cell_type": "code",
   "outputs": [],
   "source": [
    "# Change in capital or assets structure\n",
    "# feature: change in last quarter for each company (every major data attribute)\n",
    "# feature: change in last two quarters for each company (every major data attribute)\n",
    "# feature: change in last four quarters for each company (every major data attribute)\n",
    "# feature: sum of liability \n",
    "# feature: sum of assets"
   ],
   "metadata": {
    "collapsed": false,
    "ExecuteTime": {
     "end_time": "2024-05-17T15:50:25.695767600Z",
     "start_time": "2024-05-17T15:50:25.689226800Z"
    }
   },
   "id": "a9220dabd71b54d3",
   "execution_count": 282
  },
  {
   "cell_type": "code",
   "outputs": [],
   "source": [],
   "metadata": {
    "collapsed": false,
    "ExecuteTime": {
     "end_time": "2024-05-17T15:50:25.705014400Z",
     "start_time": "2024-05-17T15:50:25.695767600Z"
    }
   },
   "id": "eaa81b022d78ea03",
   "execution_count": 282
  },
  {
   "cell_type": "code",
   "outputs": [],
   "source": [],
   "metadata": {
    "collapsed": false,
    "ExecuteTime": {
     "end_time": "2024-05-17T15:50:25.706000600Z",
     "start_time": "2024-05-17T15:50:25.699931400Z"
    }
   },
   "id": "82ee3c3842bcb3e8",
   "execution_count": 282
  },
  {
   "cell_type": "code",
   "outputs": [],
   "source": [],
   "metadata": {
    "collapsed": false,
    "ExecuteTime": {
     "end_time": "2024-05-17T15:50:25.706947400Z",
     "start_time": "2024-05-17T15:50:25.703501600Z"
    }
   },
   "id": "154e0341400d0d80",
   "execution_count": 282
  },
  {
   "cell_type": "code",
   "outputs": [],
   "source": [],
   "metadata": {
    "collapsed": false,
    "ExecuteTime": {
     "end_time": "2024-05-17T15:50:25.710126400Z",
     "start_time": "2024-05-17T15:50:25.705109800Z"
    }
   },
   "id": "7bd146ba0b11c15d",
   "execution_count": 282
  },
  {
   "cell_type": "markdown",
   "source": [
    "# NN DATA CLEANING"
   ],
   "metadata": {
    "collapsed": false
   },
   "id": "35095269fa863206"
  },
  {
   "cell_type": "code",
   "outputs": [],
   "source": [
    "nn_data = pd.read_csv(\"dataframes/nn_gpw_data.csv\")"
   ],
   "metadata": {
    "collapsed": false,
    "ExecuteTime": {
     "end_time": "2024-05-17T15:50:25.762438800Z",
     "start_time": "2024-05-17T15:50:25.708042500Z"
    }
   },
   "id": "e845adae4b4aa5b5",
   "execution_count": 283
  },
  {
   "cell_type": "code",
   "outputs": [],
   "source": [
    "nn_merged_df = pd.merge(nn_data, names_data, on='filename')"
   ],
   "metadata": {
    "collapsed": false,
    "ExecuteTime": {
     "end_time": "2024-05-17T15:50:25.764502Z",
     "start_time": "2024-05-17T15:50:25.740101800Z"
    }
   },
   "id": "2d05c7e25ae1ce43",
   "execution_count": 284
  },
  {
   "cell_type": "code",
   "outputs": [],
   "source": [
    "nn_merged_df = nn_merged_df.sort_values(by=['filename', 'End of period'])"
   ],
   "metadata": {
    "collapsed": false,
    "ExecuteTime": {
     "end_time": "2024-05-17T15:50:25.786866400Z",
     "start_time": "2024-05-17T15:50:25.747153100Z"
    }
   },
   "id": "a79ea712937983d0",
   "execution_count": 285
  },
  {
   "cell_type": "code",
   "outputs": [],
   "source": [
    "nn_merged_df.columns = clean_column_names(nn_merged_df.columns)"
   ],
   "metadata": {
    "collapsed": false,
    "ExecuteTime": {
     "end_time": "2024-05-17T15:50:25.808769300Z",
     "start_time": "2024-05-17T15:50:25.756459100Z"
    }
   },
   "id": "5f77c7e864901848",
   "execution_count": 286
  }
 ],
 "metadata": {
  "kernelspec": {
   "display_name": "Python 3",
   "language": "python",
   "name": "python3"
  },
  "language_info": {
   "codemirror_mode": {
    "name": "ipython",
    "version": 2
   },
   "file_extension": ".py",
   "mimetype": "text/x-python",
   "name": "python",
   "nbconvert_exporter": "python",
   "pygments_lexer": "ipython2",
   "version": "2.7.6"
  }
 },
 "nbformat": 4,
 "nbformat_minor": 5
}
