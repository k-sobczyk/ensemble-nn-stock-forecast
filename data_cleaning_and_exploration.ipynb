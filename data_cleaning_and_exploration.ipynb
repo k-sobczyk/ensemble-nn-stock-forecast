{
 "cells": [
  {
   "cell_type": "markdown",
   "source": [
    "# Notes\n",
    "WSZYSTKIE PLIKI SĄ IDENTYCZNE. WSZYSTKIE TO EXCEL - 14 kart\n",
    "Czyszczenie:\n",
    "•\tWszystkie NaN na 0\n",
    "•\tSkalowanie przed modelem\n",
    "•\tInżynieria cech (wskaźniki ekonomiczne, różnica miedzy każym z elementów)\n",
    "\n",
    "TESTY DO PRZEPROWADZENIA:\n",
    "•\tUwzglednienie wszystkiego\n",
    "•\tSkupienie sie na zmianach kapitałowych\n",
    "•\tOgraniczenie tylko główne wartości\n",
    "•\tGrupowanie po przedsiębiorstwie? \n",
    "\n",
    "Podsumowanie co wyciągnąć z pliku:\n",
    "Dodatkowa kolumna jako nazwa pliku\n",
    "C – nazwa kolumny w DF\n"
   ],
   "metadata": {
    "collapsed": false
   },
   "id": "748bed7b754d866e"
  },
  {
   "cell_type": "code",
   "outputs": [],
   "source": [
    "import pandas as pd\n",
    "import re\n",
    "from data_utils import *"
   ],
   "metadata": {
    "collapsed": false,
    "ExecuteTime": {
     "end_time": "2024-05-17T17:46:26.406048700Z",
     "start_time": "2024-05-17T17:46:26.376259300Z"
    }
   },
   "id": "d0e00dd47f67dade",
   "execution_count": 427
  },
  {
   "cell_type": "code",
   "outputs": [],
   "source": [
    "names_data = pd.read_csv('dataframes/names_gpw.csv')"
   ],
   "metadata": {
    "collapsed": false,
    "ExecuteTime": {
     "end_time": "2024-05-17T17:46:26.444436700Z",
     "start_time": "2024-05-17T17:46:26.408693800Z"
    }
   },
   "id": "fc9e9aadb88d719a",
   "execution_count": 428
  },
  {
   "cell_type": "code",
   "outputs": [],
   "source": [
    "def clean_column_names(columns):\n",
    "    cleaned_columns = []\n",
    "    for column in columns:\n",
    "        column = column.lower()\n",
    "        column = re.sub(r'\\(.*?\\)', '', column)\n",
    "        column = re.sub(r'[^\\w\\s]', '', column)\n",
    "        column = re.sub(r'\\s+', '_', column)\n",
    "        column = column.rstrip('_')\n",
    "        cleaned_columns.append(column)\n",
    "    return cleaned_columns"
   ],
   "metadata": {
    "collapsed": false,
    "ExecuteTime": {
     "end_time": "2024-05-17T17:46:26.466265600Z",
     "start_time": "2024-05-17T17:46:26.446111700Z"
    }
   },
   "id": "39c0550ebb412fe6",
   "execution_count": 429
  },
  {
   "cell_type": "code",
   "outputs": [],
   "source": [
    "def count_rows_by_filename(df):\n",
    "    counts = df.groupby('filename').size().reset_index(name='count')\n",
    "    return counts"
   ],
   "metadata": {
    "collapsed": false,
    "ExecuteTime": {
     "end_time": "2024-05-17T17:46:26.497571800Z",
     "start_time": "2024-05-17T17:46:26.468415900Z"
    }
   },
   "id": "766384bd5604cbc3",
   "execution_count": 430
  },
  {
   "cell_type": "markdown",
   "source": [
    "# FULL DF CLEARNING"
   ],
   "metadata": {
    "collapsed": false
   },
   "id": "ece792ab9822a192"
  },
  {
   "cell_type": "code",
   "outputs": [],
   "source": [
    "full_data = pd.read_csv(\"dataframes/dataframe_gpw.csv\")"
   ],
   "metadata": {
    "collapsed": false,
    "ExecuteTime": {
     "end_time": "2024-05-17T17:46:26.563915800Z",
     "start_time": "2024-05-17T17:46:26.471260800Z"
    }
   },
   "id": "f91a1aa223ae82ee",
   "execution_count": 431
  },
  {
   "cell_type": "code",
   "outputs": [],
   "source": [
    "full_merged_df = pd.merge(full_data, names_data, on='filename')"
   ],
   "metadata": {
    "collapsed": false,
    "ExecuteTime": {
     "end_time": "2024-05-17T17:46:26.582246100Z",
     "start_time": "2024-05-17T17:46:26.555436700Z"
    }
   },
   "id": "b0a2b11f4fa8679a",
   "execution_count": 432
  },
  {
   "cell_type": "code",
   "outputs": [],
   "source": [
    "full_merged_df = full_merged_df.sort_values(by=['filename', 'End of period'])"
   ],
   "metadata": {
    "collapsed": false,
    "ExecuteTime": {
     "end_time": "2024-05-17T17:46:26.583403900Z",
     "start_time": "2024-05-17T17:46:26.567349Z"
    }
   },
   "id": "69aadd961210c383",
   "execution_count": 433
  },
  {
   "cell_type": "code",
   "outputs": [],
   "source": [
    "full_merged_df.columns = clean_column_names(full_merged_df.columns)"
   ],
   "metadata": {
    "collapsed": false,
    "ExecuteTime": {
     "end_time": "2024-05-17T17:46:26.586222500Z",
     "start_time": "2024-05-17T17:46:26.579471800Z"
    }
   },
   "id": "cec52b55198fb780",
   "execution_count": 434
  },
  {
   "cell_type": "code",
   "outputs": [
    {
     "data": {
      "text/plain": "         filename  count\n0      11BIT.xlsx     49\n1      3LPSA.xlsx      6\n2    3RGAMES.xlsx     48\n3         AB.xlsx     70\n4         AC.xlsx     51\n..            ...    ...\n332     ZPUE.xlsx     95\n333  ZREMBCH.xlsx     65\n334      ZUE.xlsx     53\n335      ZUK.xlsx     67\n336   ZYWIEC.xlsx     99\n\n[337 rows x 2 columns]",
      "text/html": "<div>\n<style scoped>\n    .dataframe tbody tr th:only-of-type {\n        vertical-align: middle;\n    }\n\n    .dataframe tbody tr th {\n        vertical-align: top;\n    }\n\n    .dataframe thead th {\n        text-align: right;\n    }\n</style>\n<table border=\"1\" class=\"dataframe\">\n  <thead>\n    <tr style=\"text-align: right;\">\n      <th></th>\n      <th>filename</th>\n      <th>count</th>\n    </tr>\n  </thead>\n  <tbody>\n    <tr>\n      <th>0</th>\n      <td>11BIT.xlsx</td>\n      <td>49</td>\n    </tr>\n    <tr>\n      <th>1</th>\n      <td>3LPSA.xlsx</td>\n      <td>6</td>\n    </tr>\n    <tr>\n      <th>2</th>\n      <td>3RGAMES.xlsx</td>\n      <td>48</td>\n    </tr>\n    <tr>\n      <th>3</th>\n      <td>AB.xlsx</td>\n      <td>70</td>\n    </tr>\n    <tr>\n      <th>4</th>\n      <td>AC.xlsx</td>\n      <td>51</td>\n    </tr>\n    <tr>\n      <th>...</th>\n      <td>...</td>\n      <td>...</td>\n    </tr>\n    <tr>\n      <th>332</th>\n      <td>ZPUE.xlsx</td>\n      <td>95</td>\n    </tr>\n    <tr>\n      <th>333</th>\n      <td>ZREMBCH.xlsx</td>\n      <td>65</td>\n    </tr>\n    <tr>\n      <th>334</th>\n      <td>ZUE.xlsx</td>\n      <td>53</td>\n    </tr>\n    <tr>\n      <th>335</th>\n      <td>ZUK.xlsx</td>\n      <td>67</td>\n    </tr>\n    <tr>\n      <th>336</th>\n      <td>ZYWIEC.xlsx</td>\n      <td>99</td>\n    </tr>\n  </tbody>\n</table>\n<p>337 rows × 2 columns</p>\n</div>"
     },
     "execution_count": 435,
     "metadata": {},
     "output_type": "execute_result"
    }
   ],
   "source": [
    "count_rows_by_filename(full_merged_df)"
   ],
   "metadata": {
    "collapsed": false,
    "ExecuteTime": {
     "end_time": "2024-05-17T17:46:26.614276700Z",
     "start_time": "2024-05-17T17:46:26.583403900Z"
    }
   },
   "id": "eed39f421586c0f4",
   "execution_count": 435
  },
  {
   "cell_type": "code",
   "outputs": [],
   "source": [
    "# Delete all companies under 4 because its not enough to cover any change in assets or liabilities\n",
    "filenames_to_remove = [\n",
    "    'SADOVAYA.xlsx',\n",
    "    'BMW.xlsx',\n",
    "    'KERNEL.xlsx',\n",
    "    'SILVANO.xlsx',\n",
    "    'IMCSA.xlsx',\n",
    "    'STSHOLDING.xlsx'\n",
    "]\n",
    "\n",
    "df_filtered = full_merged_df[~full_merged_df['filename'].isin(filenames_to_remove)]"
   ],
   "metadata": {
    "collapsed": false,
    "ExecuteTime": {
     "end_time": "2024-05-17T17:46:26.616445900Z",
     "start_time": "2024-05-17T17:46:26.593352500Z"
    }
   },
   "id": "f8e343b1603a2c69",
   "execution_count": 436
  },
  {
   "cell_type": "markdown",
   "source": [
    "## Missing data"
   ],
   "metadata": {
    "collapsed": false
   },
   "id": "79e48d14f54e4905"
  },
  {
   "cell_type": "code",
   "outputs": [
    {
     "data": {
      "text/plain": "end_of_period                                                      0\nrevenues_from_sales                                              945\noperating_profitloss                                             737\nnet_profitloss_attributable_to_equity_holders_of_the_parent      577\ntotal_comprehensive_income_attributable_to_equity_holders      17723\n                                                               ...  \ncurrent_financial_liabilities                                  19906\nnoncurrent_financial_liabilities                               19906\nfinancial_liabilities                                          19906\ncompany_name                                                       0\nsector                                                            13\nLength: 108, dtype: int64"
     },
     "execution_count": 437,
     "metadata": {},
     "output_type": "execute_result"
    }
   ],
   "source": [
    "full_merged_df.isnull().sum()"
   ],
   "metadata": {
    "collapsed": false,
    "ExecuteTime": {
     "end_time": "2024-05-17T17:46:26.618518400Z",
     "start_time": "2024-05-17T17:46:26.603020500Z"
    }
   },
   "id": "2466ce68bd13d51e",
   "execution_count": 437
  },
  {
   "cell_type": "code",
   "outputs": [
    {
     "data": {
      "text/plain": "      end_of_period  revenues_from_sales  operating_profitloss  \\\n49       2017-12-31                  NaN                   NaN   \n50       2018-12-31                  NaN                   NaN   \n51       2019-12-31                  NaN                   NaN   \n52       2020-12-31          34515.00000            3929.00000   \n53       2021-09-30                  NaN                   NaN   \n54       2021-12-31          39704.00000            3898.00000   \n2522     2020-12-31                  NaN                   NaN   \n2523     2021-12-31                  NaN                   NaN   \n18362    2019-12-31                  NaN                   NaN   \n18363    2020-12-31                  NaN                   NaN   \n18364    2021-06-30           1141.52579             302.65867   \n18365    2021-12-31                  NaN                   NaN   \n18366    2022-06-30            654.87351            -314.01440   \n\n       net_profitloss_attributable_to_equity_holders_of_the_parent  \\\n49                                                   NaN             \n50                                                   NaN             \n51                                                   NaN             \n52                                             138.00000             \n53                                                   NaN             \n54                                            2169.00000             \n2522                                                 NaN             \n2523                                                 NaN             \n18362                                                NaN             \n18363                                                NaN             \n18364                                          287.68307             \n18365                                                NaN             \n18366                                         -314.96840             \n\n       total_comprehensive_income_attributable_to_equity_holders  \\\n49                                                   NaN           \n50                                                   NaN           \n51                                                   NaN           \n52                                                 138.0           \n53                                                   NaN           \n54                                                2169.0           \n2522                                                 NaN           \n2523                                                 NaN           \n18362                                                NaN           \n18363                                                NaN           \n18364                                                NaN           \n18365                                                NaN           \n18366                                                NaN           \n\n       depreciation  cash_flow_from_operating_activities  \\\n49              NaN                                  NaN   \n50              NaN                                  NaN   \n51              NaN                                  NaN   \n52       4114.00000                           8513.00000   \n53              NaN                                  NaN   \n54       4459.00000                           5831.00000   \n2522            NaN                                  NaN   \n2523            NaN                                  NaN   \n18362           NaN                                  NaN   \n18363           NaN                                  NaN   \n18364           NaN                            466.14407   \n18365           NaN                                  NaN   \n18366       0.42365                           -114.99931   \n\n       cash_flow_from_investing_activities  \\\n49                                     NaN   \n50                                     NaN   \n51                                     NaN   \n52                             -3261.00000   \n53                                     NaN   \n54                             -2718.00000   \n2522                                   NaN   \n2523                                   NaN   \n18362                                  NaN   \n18363                                  NaN   \n18364                                  NaN   \n18365                                  NaN   \n18366                            -10.16748   \n\n       cash_flow_from_financing_activities        aktywa  ...  \\\n49                                     NaN  8.301800e+04  ...   \n50                                     NaN  1.053760e+05  ...   \n51                                     NaN  1.613490e+05  ...   \n52                              -5264.0000  1.640630e+05  ...   \n53                                     NaN  1.547040e+05  ...   \n54                              -3195.0000  1.571200e+05  ...   \n2522                                   NaN  2.166580e+08  ...   \n2523                                   NaN  2.295270e+08  ...   \n18362                                  NaN  1.065330e+03  ...   \n18363                                  NaN  3.348397e+03  ...   \n18364                            -742.2988  2.882571e+03  ...   \n18365                                  NaN  3.526614e+03  ...   \n18366                           -1035.0000  2.461432e+03  ...   \n\n       debt_service_ratio  rate_debt_security  leverage  asset_utilization  \\\n49                    NaN                 NaN       NaN                NaN   \n50                    NaN                 NaN       NaN                NaN   \n51                    NaN                 NaN       NaN                NaN   \n52                    NaN                 NaN       NaN                NaN   \n53                    NaN                 NaN       NaN                NaN   \n54                    NaN                 NaN       NaN                NaN   \n2522                  NaN                 NaN       NaN                NaN   \n2523                  NaN                 NaN       NaN                NaN   \n18362                 NaN                 NaN       NaN                NaN   \n18363                 NaN                 NaN       NaN                NaN   \n18364                 NaN                 NaN       NaN                NaN   \n18365                 NaN                 NaN       NaN                NaN   \n18366                 NaN                 NaN       NaN                NaN   \n\n       load_gross_profit  current_financial_liabilities  \\\n49                   NaN                            NaN   \n50                   NaN                            NaN   \n51                   NaN                            NaN   \n52                   NaN                            NaN   \n53                   NaN                            NaN   \n54                   NaN                            NaN   \n2522                 NaN                            NaN   \n2523                 NaN                            NaN   \n18362                NaN                            NaN   \n18363                NaN                            NaN   \n18364                NaN                            NaN   \n18365                NaN                            NaN   \n18366                NaN                            NaN   \n\n       noncurrent_financial_liabilities  financial_liabilities  company_name  \\\n49                                  NaN                    NaN        3LP SA   \n50                                  NaN                    NaN        3LP SA   \n51                                  NaN                    NaN        3LP SA   \n52                                  NaN                    NaN        3LP SA   \n53                                  NaN                    NaN        3LP SA   \n54                                  NaN                    NaN        3LP SA   \n2522                                NaN                    NaN        BMW AG   \n2523                                NaN                    NaN        BMW AG   \n18362                               NaN                    NaN   Uf Games SA   \n18363                               NaN                    NaN   Uf Games SA   \n18364                               NaN                    NaN   Uf Games SA   \n18365                               NaN                    NaN   Uf Games SA   \n18366                               NaN                    NaN   Uf Games SA   \n\n      sector  \n49       NaN  \n50       NaN  \n51       NaN  \n52       NaN  \n53       NaN  \n54       NaN  \n2522     NaN  \n2523     NaN  \n18362    NaN  \n18363    NaN  \n18364    NaN  \n18365    NaN  \n18366    NaN  \n\n[13 rows x 108 columns]",
      "text/html": "<div>\n<style scoped>\n    .dataframe tbody tr th:only-of-type {\n        vertical-align: middle;\n    }\n\n    .dataframe tbody tr th {\n        vertical-align: top;\n    }\n\n    .dataframe thead th {\n        text-align: right;\n    }\n</style>\n<table border=\"1\" class=\"dataframe\">\n  <thead>\n    <tr style=\"text-align: right;\">\n      <th></th>\n      <th>end_of_period</th>\n      <th>revenues_from_sales</th>\n      <th>operating_profitloss</th>\n      <th>net_profitloss_attributable_to_equity_holders_of_the_parent</th>\n      <th>total_comprehensive_income_attributable_to_equity_holders</th>\n      <th>depreciation</th>\n      <th>cash_flow_from_operating_activities</th>\n      <th>cash_flow_from_investing_activities</th>\n      <th>cash_flow_from_financing_activities</th>\n      <th>aktywa</th>\n      <th>...</th>\n      <th>debt_service_ratio</th>\n      <th>rate_debt_security</th>\n      <th>leverage</th>\n      <th>asset_utilization</th>\n      <th>load_gross_profit</th>\n      <th>current_financial_liabilities</th>\n      <th>noncurrent_financial_liabilities</th>\n      <th>financial_liabilities</th>\n      <th>company_name</th>\n      <th>sector</th>\n    </tr>\n  </thead>\n  <tbody>\n    <tr>\n      <th>49</th>\n      <td>2017-12-31</td>\n      <td>NaN</td>\n      <td>NaN</td>\n      <td>NaN</td>\n      <td>NaN</td>\n      <td>NaN</td>\n      <td>NaN</td>\n      <td>NaN</td>\n      <td>NaN</td>\n      <td>8.301800e+04</td>\n      <td>...</td>\n      <td>NaN</td>\n      <td>NaN</td>\n      <td>NaN</td>\n      <td>NaN</td>\n      <td>NaN</td>\n      <td>NaN</td>\n      <td>NaN</td>\n      <td>NaN</td>\n      <td>3LP SA</td>\n      <td>NaN</td>\n    </tr>\n    <tr>\n      <th>50</th>\n      <td>2018-12-31</td>\n      <td>NaN</td>\n      <td>NaN</td>\n      <td>NaN</td>\n      <td>NaN</td>\n      <td>NaN</td>\n      <td>NaN</td>\n      <td>NaN</td>\n      <td>NaN</td>\n      <td>1.053760e+05</td>\n      <td>...</td>\n      <td>NaN</td>\n      <td>NaN</td>\n      <td>NaN</td>\n      <td>NaN</td>\n      <td>NaN</td>\n      <td>NaN</td>\n      <td>NaN</td>\n      <td>NaN</td>\n      <td>3LP SA</td>\n      <td>NaN</td>\n    </tr>\n    <tr>\n      <th>51</th>\n      <td>2019-12-31</td>\n      <td>NaN</td>\n      <td>NaN</td>\n      <td>NaN</td>\n      <td>NaN</td>\n      <td>NaN</td>\n      <td>NaN</td>\n      <td>NaN</td>\n      <td>NaN</td>\n      <td>1.613490e+05</td>\n      <td>...</td>\n      <td>NaN</td>\n      <td>NaN</td>\n      <td>NaN</td>\n      <td>NaN</td>\n      <td>NaN</td>\n      <td>NaN</td>\n      <td>NaN</td>\n      <td>NaN</td>\n      <td>3LP SA</td>\n      <td>NaN</td>\n    </tr>\n    <tr>\n      <th>52</th>\n      <td>2020-12-31</td>\n      <td>34515.00000</td>\n      <td>3929.00000</td>\n      <td>138.00000</td>\n      <td>138.0</td>\n      <td>4114.00000</td>\n      <td>8513.00000</td>\n      <td>-3261.00000</td>\n      <td>-5264.0000</td>\n      <td>1.640630e+05</td>\n      <td>...</td>\n      <td>NaN</td>\n      <td>NaN</td>\n      <td>NaN</td>\n      <td>NaN</td>\n      <td>NaN</td>\n      <td>NaN</td>\n      <td>NaN</td>\n      <td>NaN</td>\n      <td>3LP SA</td>\n      <td>NaN</td>\n    </tr>\n    <tr>\n      <th>53</th>\n      <td>2021-09-30</td>\n      <td>NaN</td>\n      <td>NaN</td>\n      <td>NaN</td>\n      <td>NaN</td>\n      <td>NaN</td>\n      <td>NaN</td>\n      <td>NaN</td>\n      <td>NaN</td>\n      <td>1.547040e+05</td>\n      <td>...</td>\n      <td>NaN</td>\n      <td>NaN</td>\n      <td>NaN</td>\n      <td>NaN</td>\n      <td>NaN</td>\n      <td>NaN</td>\n      <td>NaN</td>\n      <td>NaN</td>\n      <td>3LP SA</td>\n      <td>NaN</td>\n    </tr>\n    <tr>\n      <th>54</th>\n      <td>2021-12-31</td>\n      <td>39704.00000</td>\n      <td>3898.00000</td>\n      <td>2169.00000</td>\n      <td>2169.0</td>\n      <td>4459.00000</td>\n      <td>5831.00000</td>\n      <td>-2718.00000</td>\n      <td>-3195.0000</td>\n      <td>1.571200e+05</td>\n      <td>...</td>\n      <td>NaN</td>\n      <td>NaN</td>\n      <td>NaN</td>\n      <td>NaN</td>\n      <td>NaN</td>\n      <td>NaN</td>\n      <td>NaN</td>\n      <td>NaN</td>\n      <td>3LP SA</td>\n      <td>NaN</td>\n    </tr>\n    <tr>\n      <th>2522</th>\n      <td>2020-12-31</td>\n      <td>NaN</td>\n      <td>NaN</td>\n      <td>NaN</td>\n      <td>NaN</td>\n      <td>NaN</td>\n      <td>NaN</td>\n      <td>NaN</td>\n      <td>NaN</td>\n      <td>2.166580e+08</td>\n      <td>...</td>\n      <td>NaN</td>\n      <td>NaN</td>\n      <td>NaN</td>\n      <td>NaN</td>\n      <td>NaN</td>\n      <td>NaN</td>\n      <td>NaN</td>\n      <td>NaN</td>\n      <td>BMW AG</td>\n      <td>NaN</td>\n    </tr>\n    <tr>\n      <th>2523</th>\n      <td>2021-12-31</td>\n      <td>NaN</td>\n      <td>NaN</td>\n      <td>NaN</td>\n      <td>NaN</td>\n      <td>NaN</td>\n      <td>NaN</td>\n      <td>NaN</td>\n      <td>NaN</td>\n      <td>2.295270e+08</td>\n      <td>...</td>\n      <td>NaN</td>\n      <td>NaN</td>\n      <td>NaN</td>\n      <td>NaN</td>\n      <td>NaN</td>\n      <td>NaN</td>\n      <td>NaN</td>\n      <td>NaN</td>\n      <td>BMW AG</td>\n      <td>NaN</td>\n    </tr>\n    <tr>\n      <th>18362</th>\n      <td>2019-12-31</td>\n      <td>NaN</td>\n      <td>NaN</td>\n      <td>NaN</td>\n      <td>NaN</td>\n      <td>NaN</td>\n      <td>NaN</td>\n      <td>NaN</td>\n      <td>NaN</td>\n      <td>1.065330e+03</td>\n      <td>...</td>\n      <td>NaN</td>\n      <td>NaN</td>\n      <td>NaN</td>\n      <td>NaN</td>\n      <td>NaN</td>\n      <td>NaN</td>\n      <td>NaN</td>\n      <td>NaN</td>\n      <td>Uf Games SA</td>\n      <td>NaN</td>\n    </tr>\n    <tr>\n      <th>18363</th>\n      <td>2020-12-31</td>\n      <td>NaN</td>\n      <td>NaN</td>\n      <td>NaN</td>\n      <td>NaN</td>\n      <td>NaN</td>\n      <td>NaN</td>\n      <td>NaN</td>\n      <td>NaN</td>\n      <td>3.348397e+03</td>\n      <td>...</td>\n      <td>NaN</td>\n      <td>NaN</td>\n      <td>NaN</td>\n      <td>NaN</td>\n      <td>NaN</td>\n      <td>NaN</td>\n      <td>NaN</td>\n      <td>NaN</td>\n      <td>Uf Games SA</td>\n      <td>NaN</td>\n    </tr>\n    <tr>\n      <th>18364</th>\n      <td>2021-06-30</td>\n      <td>1141.52579</td>\n      <td>302.65867</td>\n      <td>287.68307</td>\n      <td>NaN</td>\n      <td>NaN</td>\n      <td>466.14407</td>\n      <td>NaN</td>\n      <td>-742.2988</td>\n      <td>2.882571e+03</td>\n      <td>...</td>\n      <td>NaN</td>\n      <td>NaN</td>\n      <td>NaN</td>\n      <td>NaN</td>\n      <td>NaN</td>\n      <td>NaN</td>\n      <td>NaN</td>\n      <td>NaN</td>\n      <td>Uf Games SA</td>\n      <td>NaN</td>\n    </tr>\n    <tr>\n      <th>18365</th>\n      <td>2021-12-31</td>\n      <td>NaN</td>\n      <td>NaN</td>\n      <td>NaN</td>\n      <td>NaN</td>\n      <td>NaN</td>\n      <td>NaN</td>\n      <td>NaN</td>\n      <td>NaN</td>\n      <td>3.526614e+03</td>\n      <td>...</td>\n      <td>NaN</td>\n      <td>NaN</td>\n      <td>NaN</td>\n      <td>NaN</td>\n      <td>NaN</td>\n      <td>NaN</td>\n      <td>NaN</td>\n      <td>NaN</td>\n      <td>Uf Games SA</td>\n      <td>NaN</td>\n    </tr>\n    <tr>\n      <th>18366</th>\n      <td>2022-06-30</td>\n      <td>654.87351</td>\n      <td>-314.01440</td>\n      <td>-314.96840</td>\n      <td>NaN</td>\n      <td>0.42365</td>\n      <td>-114.99931</td>\n      <td>-10.16748</td>\n      <td>-1035.0000</td>\n      <td>2.461432e+03</td>\n      <td>...</td>\n      <td>NaN</td>\n      <td>NaN</td>\n      <td>NaN</td>\n      <td>NaN</td>\n      <td>NaN</td>\n      <td>NaN</td>\n      <td>NaN</td>\n      <td>NaN</td>\n      <td>Uf Games SA</td>\n      <td>NaN</td>\n    </tr>\n  </tbody>\n</table>\n<p>13 rows × 108 columns</p>\n</div>"
     },
     "execution_count": 438,
     "metadata": {},
     "output_type": "execute_result"
    }
   ],
   "source": [
    "# Sektor NaN\n",
    "rows_with_nan_in_sektor = full_merged_df[full_merged_df['sector'].isna()]\n",
    "rows_with_nan_in_sektor"
   ],
   "metadata": {
    "collapsed": false,
    "ExecuteTime": {
     "end_time": "2024-05-17T17:46:26.633469Z",
     "start_time": "2024-05-17T17:46:26.616445900Z"
    }
   },
   "id": "4e4baa4bf4b7e8fb",
   "execution_count": 438
  },
  {
   "cell_type": "markdown",
   "source": [
    "# Notes\n",
    "Manually checking for each company\n",
    "\n",
    "3LP SA - handel\n",
    "BMW AG - motoryzacja\n",
    "Uf Games SA - gry\n"
   ],
   "metadata": {
    "collapsed": false
   },
   "id": "7456660b0f1bcdf1"
  },
  {
   "cell_type": "code",
   "outputs": [],
   "source": [
    "company_to_sector = {\n",
    "    '3LP SA': 'handel',\n",
    "    'BMW AG': 'motoryzacja',\n",
    "    'Uf Games SA': 'gry'\n",
    "}\n",
    "\n",
    "full_merged_df['sector'] = full_merged_df.apply(lambda row: company_to_sector[row['company_name']] if pd.isna(row['sector']) else row['sector'], axis=1)"
   ],
   "metadata": {
    "collapsed": false,
    "ExecuteTime": {
     "end_time": "2024-05-17T17:46:26.868582700Z",
     "start_time": "2024-05-17T17:46:26.632412700Z"
    }
   },
   "id": "7319f46aa1372b35",
   "execution_count": 439
  },
  {
   "cell_type": "code",
   "outputs": [],
   "source": [
    "# Rest of financial data - fill NaN with 0 (= no change)\n",
    "full_merged_df = full_merged_df.fillna(0)"
   ],
   "metadata": {
    "collapsed": false,
    "ExecuteTime": {
     "end_time": "2024-05-17T17:46:26.891985Z",
     "start_time": "2024-05-17T17:46:26.870741200Z"
    }
   },
   "id": "fb24e9bf335b19e8",
   "execution_count": 440
  },
  {
   "cell_type": "code",
   "outputs": [
    {
     "data": {
      "text/plain": "['end_of_period',\n 'revenues_from_sales',\n 'operating_profitloss',\n 'net_profitloss_attributable_to_equity_holders_of_the_parent',\n 'total_comprehensive_income_attributable_to_equity_holders',\n 'depreciation',\n 'cash_flow_from_operating_activities',\n 'cash_flow_from_investing_activities',\n 'cash_flow_from_financing_activities',\n 'aktywa',\n 'noncurrent_assets',\n 'current_assets',\n 'equity_shareholders_of_the_parent',\n 'noncurrent_liabilities',\n 'current_liabilities',\n 'number_of_shares',\n 'earnings_per_share',\n 'total_comprehensive_income_per_share',\n 'book_value_per_share',\n 'accounting_standard',\n 'filename',\n 'property_plant_and_equipment',\n 'exploration_for_and_evaluation_of_mineral_resources',\n 'intangible_assets',\n 'goodwill',\n 'investment_property',\n 'rightofuse_assets',\n 'investment_in_affiliates',\n 'noncurrent_financial_assets',\n 'noncurrent_loans_and_receivables',\n 'deferred_income_tax',\n 'noncurrent_deferred_charges_and_accruals',\n 'noncurrent_derivative_instruments',\n 'other_noncurrent_assets',\n 'inventories',\n 'current_intangible_assets',\n 'biological_assets',\n 'trade_receivables',\n 'loans_and_other_receivables',\n 'financial_assets',\n 'cash_and_cash_equivalents',\n 'accruals',\n 'assets_from_current_tax',\n 'derivative_instruments',\n 'other_assets',\n 'assets_held_for_sale_and_discontinuing_operations',\n 'called_up_capital',\n 'own_shares',\n 'equity_liabilities',\n 'share_capital',\n 'called_up_share_capital',\n 'treasury_shares',\n 'supplementary_capital',\n 'valuation_and_exchange_differences',\n 'other_capitals',\n 'retained_earnings_accumulated_losses',\n 'noncontrolling_interests',\n 'noncurrent_liabilities_from_derivatives',\n 'noncurrent_loans_and_borrowings',\n 'noncurrent_liabilities_from_bonds',\n 'noncurrent_liabilities_from_finance_leases',\n 'noncurrent_trade_payables',\n 'longterm_provision_for_employee_benefits',\n 'deferred_tax_liabilities',\n 'noncurrent_provision',\n 'other_noncurrent_liabilities',\n 'noncurrent_accruals',\n 'liabilities_from_derivatives',\n 'financial_liabilities',\n 'bond_liabilities',\n 'liabilities_from_finance_leases',\n 'trade_payables',\n 'employee_benefits',\n 'current_tax_liabilities',\n 'provisions',\n 'other_liabilities',\n 'accruals',\n 'liabilities_related_to_assets_held_for_sale_and_discontinued_operations',\n 'date_of_publication',\n 'gross_profit_margin_on_sales',\n 'operating_profit_margin',\n 'gross_profit_margin',\n 'net_profit_margin',\n 'return_on_equity',\n 'return_on_assets',\n 'working_capital_ratio',\n 'current_ratio',\n 'quick_ratio',\n 'cash_ratio',\n 'receivables_turnover',\n 'inventory_turnover',\n 'the_operating_cycle',\n 'rotation_commitments',\n 'cash_conversion_cycle',\n 'rotation_assets',\n 'rotation_of_assets',\n 'assets_ratio',\n 'debt_ratio',\n 'debt_service_ratio',\n 'rate_debt_security',\n 'leverage',\n 'asset_utilization',\n 'load_gross_profit',\n 'current_financial_liabilities',\n 'noncurrent_financial_liabilities',\n 'financial_liabilities',\n 'company_name',\n 'sector']"
     },
     "execution_count": 441,
     "metadata": {},
     "output_type": "execute_result"
    }
   ],
   "source": [
    "full_merged_df.columns.tolist()"
   ],
   "metadata": {
    "collapsed": false,
    "ExecuteTime": {
     "end_time": "2024-05-17T17:46:26.894119100Z",
     "start_time": "2024-05-17T17:46:26.885308100Z"
    }
   },
   "id": "305de52c586ae28",
   "execution_count": 441
  },
  {
   "cell_type": "markdown",
   "source": [
    "# Change each indicator to % value\n",
    "return_on_equity\n",
    "return_on_assets\n",
    "leverage\n",
    "asset_utilization\n",
    "debt_ratio\n",
    "debt_service_ratio\n",
    "rate_debt_security\n",
    "working_capital_ratio"
   ],
   "metadata": {
    "collapsed": false
   },
   "id": "34318baca8e6e3c5"
  },
  {
   "cell_type": "code",
   "outputs": [],
   "source": [
    "columns_to_convert = [\n",
    "    'return_on_equity',\n",
    "    'return_on_assets',\n",
    "    'leverage',\n",
    "    'asset_utilization',\n",
    "    'debt_ratio',\n",
    "    'debt_service_ratio',\n",
    "    'rate_debt_security',\n",
    "    'working_capital_ratio'\n",
    "]\n",
    "\n",
    "# Konwersja wartości w kolumnach na format dziesiętny\n",
    "full_merged_df[columns_to_convert] = full_merged_df[columns_to_convert] / 100"
   ],
   "metadata": {
    "collapsed": false,
    "ExecuteTime": {
     "end_time": "2024-05-17T17:46:26.906617900Z",
     "start_time": "2024-05-17T17:46:26.890916100Z"
    }
   },
   "id": "7650395fd99e90ba",
   "execution_count": 442
  },
  {
   "cell_type": "code",
   "outputs": [],
   "source": [
    "column_mapping = {\n",
    "    'financial_liabilities': 'total_liability',\n",
    "    'aktywa': 'total_assets'\n",
    "}\n",
    "\n",
    "full_merged_df = full_merged_df.rename(columns=column_mapping)"
   ],
   "metadata": {
    "collapsed": false,
    "ExecuteTime": {
     "end_time": "2024-05-17T17:46:26.921989Z",
     "start_time": "2024-05-17T17:46:26.899583600Z"
    }
   },
   "id": "54aff99460eba5d8",
   "execution_count": 443
  },
  {
   "cell_type": "code",
   "outputs": [
    {
     "data": {
      "text/plain": "array(['11 bit studios SA', '3LP SA', '3R Games SA', 'AB SA', 'AC SA',\n       'Action SA', 'Adiuvo Investments SA', 'Agora SA', 'Agroton plc.',\n       'AUGA Group AB', 'All in! Games SA', 'Ailleron SA',\n       'Airway Medix SA', 'Alumetal SA', 'Ambra SA', 'Amica SA',\n       'Ampli SA w upadłości układowej', 'AmRest Holdings SE',\n       'Answear.com SA', 'Apator SA', 'Aplisens SA', 'APS Energia SA',\n       'Arctic Paper SA', 'Arteria SA', 'Artifex Mundi SA',\n       'ASBISc Enterprises plc.', 'ASM Group SA', 'Asseco BS SA',\n       'Asseco Poland SA', 'Asseco SEE SA', 'Atende SA',\n       'Atlanta Poland SA', 'ATM Grupa SA', 'Atrem SA', 'Auto Partner SA',\n       'Grupa Azoty SA', 'British Automotive Holding SA',\n       'Elektrociepłownia Będzin SA', 'Benefit Systems SA', 'Berling SA',\n       'Betacom SA', 'Big Cheese Studio SA', 'Bioceltix SA',\n       'BioMaxima SA', 'Biomed Lublin SA', 'Bio Planet SA', 'Bioton SA',\n       'BMW AG', 'LW Bogdanka SA', 'BoomBit SA', 'Boryszew SA',\n       'Bowim SA', 'Brand24 SA', 'Braster SA w restrukturyzacji',\n       'Budimex SA', 'Bumech SA', 'Captor Therapeutics SA', 'CCC SA',\n       'CD Projekt SA', 'CDRL SA', 'CNT SA', 'CEZ a.s.', 'CFI Holding SA',\n       'Ciech SA', 'CI Games SA', 'City Service SE', 'Celon Pharma SA',\n       'Cognor Holding SA', 'ComArch SA', 'Comperia.pl SA',\n       'Compremum SA', 'Comp SA', 'PZ Cormay SA', 'Creepy Jar SA',\n       'Creotech Instruments SA', 'Cyfrowy Polsat SA', 'Dadelo SA',\n       'DataWalk SA', 'Dębica SA', 'Decora SA', 'Dekpol SA', 'Delko SA',\n       'Digital Network SA', 'Digitree Group SA', 'Dino Polska SA',\n       'Dom Development SA', 'Drewex SA w restrukturyzacji ',\n       'Drozapol-Profil SA', 'ED Invest SA', 'Efekt SA', 'Eko Export SA',\n       'Elektrotim SA', 'Elzab SA', 'EMC Instytut Medyczny SA', 'Enea SA',\n       'Enel-Med SA', 'Energa SA', 'Energoaparatura SA',\n       'Energoinstal SA', 'Enter Air SA', 'Erbud SA', 'ERG SA',\n       'Esotiq&Henderson SA', 'Eurocash SA', 'Eurotel SA', 'Famur SA',\n       'Fasing SA', 'Feerum SA', 'Ferro SA', 'Ferrum SA', 'Forte SA',\n       'Games Operators SA', 'Gaming Factory SA', 'GI Group Poland SA',\n       'Global Cosmed SA', 'Gobarto SA', 'Grodno SA', 'Grupa Pracuj SA',\n       'Harper Hygienics SA', 'Helio SA', 'Herkules SA', 'Hollywood SA',\n       'Huuuge, Inc.', 'Hydrotor SA', 'iFirma SA',\n       'Investment Friends SE', 'IMC S.A.', 'Instal Kraków SA',\n       'Inter Cars SA', 'Interferie SA', 'Interbud-Lublin SA', 'IMS SA',\n       'Inter Rao Lietuva AB', 'Intersport Polska SA', 'Introl SA',\n       'Interma Trade SA w likwidacji', 'Izoblok SA',\n       'Izolacja Jarocin SA', 'Izostal SA',\n       'Jastrzębska Spółka Węglowa SA', 'JWW Invest SA', 'K2 Holding SA',\n       'KCI SA', 'KDM Shipping Public Ltd.', 'Kernel Holding S.A.',\n       'Grupa Kęty SA', 'KGHM Polska Miedź SA', 'KGL SA',\n       'Kino Polska TV SA', 'Kogeneracja SA', 'Kompap SA',\n       'Komputronik SA  w restrukturyzacji', 'KB Dom SA w upadłości',\n       'KPPD SA', 'Krakchemia SA', 'KRKA d.d.', 'Krynica Vitamin SA',\n       'Krynicki Recykling SA', 'Labo Print SA', 'Lark.pl SA', 'Larq SA',\n       'Lena Lighting SA', 'Lentex SA', 'Less SA', 'Libet SA',\n       'LiveChat Software SA', 'Grupa Lotos SA', 'LPP SA',\n       'LSI Software SA', 'Lubawa SA', 'Protektor SA', 'Mabion SA',\n       'Makarony Polskie SA', 'Mangata Holding SA', 'ManyDev Studio SE',\n       'Master Pharm SA', 'Maxcom SA', 'MDI Energia SA', 'Mediacap SA',\n       'Medicalgorithmics SA', 'Medinice SA', 'Megaron SA',\n       'Mennica Polska SA', 'Mercator Medical SA', 'Mercor SA',\n       'Mex Polska SA', 'MFO SA', 'Milkiland Foods PLC', 'Miraculum SA',\n       'Mirbud SA', 'ML System SA', 'Mo-Bruk SA', 'MOJ SA', 'Molecure SA',\n       'Monnari Trade SA', 'Mostostal Płock SA', 'Mostostal Warszawa SA',\n       'Mostostal Zabrze SA', 'Muza SA', 'NanoGroup SA', 'Netia SA',\n       'Neuca SA', 'Newag SA', 'Nexity Global SA', 'Novaturas AB',\n       'Novita SA', 'NTT System SA', 'Odlewnie Polskie SA', 'OEX SA',\n       'Onde SA', 'Oponeo.pl SA', 'OPTeam SA', 'Orange Polska SA',\n       'Orzeł Biały SA', 'OT Logistics SA', 'ZE PAK SA', 'Pamapol SA',\n       'PA Nova SA', 'Patentus SA', 'PBG SA w restrukturyzacji',\n       'PBKM SA', 'PCC Exol SA', 'PCC Rokita SA', 'PCF Group SA',\n       'PC Guard SA', 'Pekabex SA', 'Polenergia SA', 'Pepees SA',\n       'PGE SA', 'PGNiG SA', 'PGS Software SA', 'Pharmena SA',\n       'Photon Energy NV', 'PJP Makrum SA', 'PKN Orlen SA',\n       'PKP Cargo SA', 'Plast-Box SA', 'PlayWay SA',\n       'PMPG Polskie Media SA', 'Police SA', 'Polimex Mostostal SA',\n       'Poltreg SA', 'Polwax SA', 'Prima Moda SA', 'Primetech SA',\n       'Procad SA', 'Prochem SA', 'Puławy SA', 'PunkPirates SA',\n       'Pure Biologics SA', 'Quantum Software SA', 'R22 SA', 'Radpol SA',\n       'Rafako SA', 'Rafamet SA', 'Rainbow Tours SA', 'Rawlplug SA',\n       'Redan SA', 'Regnon SA w likwidacji', 'Relpol SA',\n       'Remak-Energomontaż SA', 'Resbud SE', 'Ronson Development SE',\n       'ZM Ropczyce SA', 'Ryvu Therapeutics SA', 'Sadovaya Group SA',\n       'Sanwil SA', 'Satis Group SA', 'Seco/Warwick SA', 'Seko SA',\n       'Selena FM SA', 'Selvita SA', 'Sescom SA', 'Sfinks Polska SA',\n       'Shoper SA', 'Silvair Inc.', 'Silvano Group AS', 'SimFabric SA',\n       'Simple SA', 'Skotan SA', 'Sleepz AG', 'Śnieżka SA',\n       'Solar Company SA', 'Sonel SA', 'Sopharma AD', 'SpyroSoft SA',\n       'Stalexport Autostrady SA', 'Stalprodukt SA', 'Stalprofil SA',\n       'Sanok Rubber Company SA', 'STS Holding SA', 'Sunex SA',\n       'Suwary SA', 'Swissmed Centrum Zdrowia SA', 'Sygnity SA',\n       'Synektik SA', 'Talex SA', 'Tarczyński SA',\n       'Tatry Mountain Resorts a.s.', 'Tauron PE SA', 'T-Bull SA',\n       'Termo-Rex SA', 'Tesgas SA', 'TIM SA', 'Torpol SA', 'Toya SA',\n       'Trakcja SA', 'Trans Polonia SA', 'Ten Square Games SA', 'TXM SA',\n       'Uf Games SA', 'Ulma Construccion Polska SA', 'Ultimate Games SA',\n       'Unibep SA', 'Unima 2000 SA', 'Unimot SA', 'Ursus SA w upadłości',\n       'Vercom SA', 'Vigo Photonics SA', 'Vistal Gdynia SA',\n       'Vivid Games SA', 'Voxel SA', 'VRG SA', 'Wasko SA', 'Wawel SA',\n       'Wielton SA', 'WP Holding SA', 'Wittchen SA', 'Wojas SA',\n       'XTPL SA', 'Zamet SA', 'ZPC Otmuchów SA', 'ZPUE SA',\n       'Zremb-Chojnice SA', 'ZUE SA', 'ZUK Stąporków SA',\n       'Grupa Żywiec SA'], dtype=object)"
     },
     "execution_count": 447,
     "metadata": {},
     "output_type": "execute_result"
    }
   ],
   "source": [
    "full_merged_df['company_name'].unique()"
   ],
   "metadata": {
    "collapsed": false,
    "ExecuteTime": {
     "end_time": "2024-05-17T17:47:29.602392Z",
     "start_time": "2024-05-17T17:47:29.584566100Z"
    }
   },
   "id": "1873644e515c9005",
   "execution_count": 447
  },
  {
   "cell_type": "markdown",
   "source": [
    "## Feature Engineering"
   ],
   "metadata": {
    "collapsed": false
   },
   "id": "232b97bba5331d79"
  },
  {
   "cell_type": "code",
   "outputs": [],
   "source": [
    "# Change in capital or assets structure\n",
    "# feature: change in last quarter for each company (every major data attribute)\n",
    "# feature: change in last two quarters for each company (every major data attribute)\n",
    "# feature: change in last four quarters for each company (every major data attribute)"
   ],
   "metadata": {
    "collapsed": false,
    "ExecuteTime": {
     "end_time": "2024-05-17T17:46:26.942747800Z",
     "start_time": "2024-05-17T17:46:26.939393500Z"
    }
   },
   "id": "a9220dabd71b54d3",
   "execution_count": 445
  },
  {
   "cell_type": "code",
   "outputs": [],
   "source": [
    "full_merged_df"
   ],
   "metadata": {
    "collapsed": false,
    "ExecuteTime": {
     "start_time": "2024-05-17T17:46:34.208857400Z"
    }
   },
   "id": "5995746311725b04",
   "execution_count": null
  },
  {
   "cell_type": "markdown",
   "source": [
    "# NN DATA CLEANING (to póki co nieistotne - trzeba skończyć pelny plik, a potem wybrać sobie odpowiednie kolumny)"
   ],
   "metadata": {
    "collapsed": false
   },
   "id": "35095269fa863206"
  },
  {
   "cell_type": "code",
   "outputs": [],
   "source": [
    "columns_to_keep = [\n",
    "    'filename',\n",
    "    # Additional Information\n",
    "    'Current financial liabilities',\n",
    "    'Non-current financial liabilities',\n",
    "    'Financial liabilities (total)',\n",
    "    \n",
    "    # DuPont Indicators\n",
    "    'Return on equity (ROE)',\n",
    "    'Return on assets (ROA)',\n",
    "    'Leverage (EM)',\n",
    "    'Net profit margin',\n",
    "    'Asset utilization (AU)',\n",
    "\n",
    "    # Indicators\n",
    "    'Current ratio',\n",
    "    'Quick ratio',\n",
    "    'Cash ratio',\n",
    "    'Receivables turnover',\n",
    "    'Inventory turnover',\n",
    "    'The operating cycle',\n",
    "    'Rotation commitments',\n",
    "    'Cash conversion cycle',\n",
    "    'Rotation assets',\n",
    "    'Rotation of assets',\n",
    "    'Assets ratio',\n",
    "    'Debt ratio',\n",
    "    'Debt service ratio',\n",
    "    'Rate debt security',\n",
    "    \n",
    "    # Basic Information\n",
    "    'End of period',\n",
    "    \n",
    "    # Aktywa (Assets)\n",
    "    'Non-current assets',\n",
    "    'Current assets',\n",
    "    \n",
    "    # Pasywa (Liabilities)\n",
    "    'Equity shareholders of the parent',\n",
    "    'Non-current liabilities',\n",
    "    'Current liabilities'\n",
    "]"
   ],
   "metadata": {
    "collapsed": false
   },
   "id": "cdff237650b9046d"
  },
  {
   "cell_type": "code",
   "outputs": [],
   "source": [
    "nn_data = pd.read_csv(\"dataframes/nn_gpw_data.csv\")"
   ],
   "metadata": {
    "collapsed": false,
    "ExecuteTime": {
     "end_time": "2024-05-17T17:46:34.214294700Z",
     "start_time": "2024-05-17T17:46:34.209920300Z"
    }
   },
   "id": "e845adae4b4aa5b5",
   "execution_count": null
  },
  {
   "cell_type": "code",
   "outputs": [],
   "source": [
    "nn_merged_df = pd.merge(nn_data, names_data, on='filename')"
   ],
   "metadata": {
    "collapsed": false,
    "ExecuteTime": {
     "start_time": "2024-05-17T17:46:34.210922400Z"
    }
   },
   "id": "2d05c7e25ae1ce43",
   "execution_count": null
  },
  {
   "cell_type": "code",
   "outputs": [],
   "source": [
    "nn_merged_df = nn_merged_df.sort_values(by=['filename', 'End of period'])"
   ],
   "metadata": {
    "collapsed": false,
    "ExecuteTime": {
     "start_time": "2024-05-17T17:46:34.211967900Z"
    }
   },
   "id": "a79ea712937983d0",
   "execution_count": null
  },
  {
   "cell_type": "code",
   "outputs": [],
   "source": [
    "nn_merged_df.columns = clean_column_names(nn_merged_df.columns)"
   ],
   "metadata": {
    "collapsed": false,
    "ExecuteTime": {
     "start_time": "2024-05-17T17:46:34.213101500Z"
    }
   },
   "id": "5f77c7e864901848",
   "execution_count": null
  },
  {
   "cell_type": "code",
   "outputs": [],
   "source": [],
   "metadata": {
    "collapsed": false,
    "ExecuteTime": {
     "end_time": "2024-05-17T17:46:34.215131500Z",
     "start_time": "2024-05-17T17:46:34.214294700Z"
    }
   },
   "id": "23cd54e98f195d5b",
   "execution_count": null
  },
  {
   "cell_type": "code",
   "outputs": [],
   "source": [],
   "metadata": {
    "collapsed": false,
    "ExecuteTime": {
     "start_time": "2024-05-17T17:46:34.215131500Z"
    }
   },
   "id": "4d9a6d34aa30c75a",
   "execution_count": null
  },
  {
   "cell_type": "markdown",
   "source": [
    "# MINI DATAFRAME"
   ],
   "metadata": {
    "collapsed": false
   },
   "id": "4cf8add9d959a0a3"
  },
  {
   "cell_type": "code",
   "outputs": [],
   "source": [],
   "metadata": {
    "collapsed": false,
    "ExecuteTime": {
     "start_time": "2024-05-17T17:46:34.216436100Z"
    }
   },
   "id": "7e9820595929574b",
   "execution_count": null
  }
 ],
 "metadata": {
  "kernelspec": {
   "display_name": "Python 3",
   "language": "python",
   "name": "python3"
  },
  "language_info": {
   "codemirror_mode": {
    "name": "ipython",
    "version": 2
   },
   "file_extension": ".py",
   "mimetype": "text/x-python",
   "name": "python",
   "nbconvert_exporter": "python",
   "pygments_lexer": "ipython2",
   "version": "2.7.6"
  }
 },
 "nbformat": 4,
 "nbformat_minor": 5
}
