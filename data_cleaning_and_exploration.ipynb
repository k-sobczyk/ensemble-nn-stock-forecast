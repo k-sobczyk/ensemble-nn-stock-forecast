{
 "cells": [
  {
   "cell_type": "markdown",
   "source": [
    "# Notes\n",
    "WSZYSTKIE PLIKI SĄ IDENTYCZNE. WSZYSTKIE TO EXCEL - 14 kart\n",
    "Czyszczenie:\n",
    "•\tWszystkie NaN na 0\n",
    "•\tSkalowanie przed modelem\n",
    "•\tInżynieria cech (wskaźniki ekonomiczne, różnica miedzy każym z elementów)\n",
    "\n",
    "TESTY DO PRZEPROWADZENIA:\n",
    "•\tUwzglednienie wszystkiego\n",
    "•\tSkupienie sie na zmianach kapitałowych\n",
    "•\tOgraniczenie tylko główne wartości\n",
    "•\tGrupowanie po przedsiębiorstwie? \n",
    "\n",
    "Podsumowanie co wyciągnąć z pliku:\n",
    "Dodatkowa kolumna jako nazwa pliku\n",
    "C – nazwa kolumny w DF\n"
   ],
   "metadata": {
    "collapsed": false
   },
   "id": "748bed7b754d866e"
  },
  {
   "cell_type": "code",
   "outputs": [],
   "source": [
    "import pandas as pd"
   ],
   "metadata": {
    "collapsed": false,
    "ExecuteTime": {
     "end_time": "2024-05-17T11:19:24.539107100Z",
     "start_time": "2024-05-17T11:19:23.973849200Z"
    }
   },
   "id": "d0e00dd47f67dade",
   "execution_count": 2
  },
  {
   "cell_type": "code",
   "outputs": [],
   "source": [
    "names_data = pd.read_csv('dataframes/names_gpw.csv')"
   ],
   "metadata": {
    "collapsed": false,
    "ExecuteTime": {
     "end_time": "2024-05-17T11:19:24.546441600Z",
     "start_time": "2024-05-17T11:19:24.540140900Z"
    }
   },
   "id": "fc9e9aadb88d719a",
   "execution_count": 3
  },
  {
   "cell_type": "markdown",
   "source": [
    "# FULL DF CLEARNING"
   ],
   "metadata": {
    "collapsed": false
   },
   "id": "ece792ab9822a192"
  },
  {
   "cell_type": "code",
   "outputs": [],
   "source": [
    "full_data = pd.read_csv(\"dataframes/dataframe_gpw.csv\")"
   ],
   "metadata": {
    "collapsed": false,
    "ExecuteTime": {
     "end_time": "2024-05-17T11:19:24.632565400Z",
     "start_time": "2024-05-17T11:19:24.548591900Z"
    }
   },
   "id": "f91a1aa223ae82ee",
   "execution_count": 4
  },
  {
   "cell_type": "code",
   "outputs": [],
   "source": [],
   "metadata": {
    "collapsed": false,
    "ExecuteTime": {
     "end_time": "2024-05-17T11:19:24.637320500Z",
     "start_time": "2024-05-17T11:19:24.632565400Z"
    }
   },
   "id": "b0a2b11f4fa8679a",
   "execution_count": 4
  },
  {
   "cell_type": "markdown",
   "source": [
    "# NN DATA CLEANING"
   ],
   "metadata": {
    "collapsed": false
   },
   "id": "35095269fa863206"
  },
  {
   "cell_type": "code",
   "outputs": [],
   "source": [
    "nn_data = pd.read_csv(\"dataframes/nn_gpw_data.csv\")"
   ],
   "metadata": {
    "collapsed": false,
    "ExecuteTime": {
     "end_time": "2024-05-17T11:19:24.665467800Z",
     "start_time": "2024-05-17T11:19:24.635201500Z"
    }
   },
   "id": "e845adae4b4aa5b5",
   "execution_count": 5
  },
  {
   "cell_type": "code",
   "outputs": [],
   "source": [],
   "metadata": {
    "collapsed": false,
    "ExecuteTime": {
     "end_time": "2024-05-17T11:19:24.670761900Z",
     "start_time": "2024-05-17T11:19:24.664962Z"
    }
   },
   "id": "2d05c7e25ae1ce43",
   "execution_count": 5
  }
 ],
 "metadata": {
  "kernelspec": {
   "display_name": "Python 3",
   "language": "python",
   "name": "python3"
  },
  "language_info": {
   "codemirror_mode": {
    "name": "ipython",
    "version": 2
   },
   "file_extension": ".py",
   "mimetype": "text/x-python",
   "name": "python",
   "nbconvert_exporter": "python",
   "pygments_lexer": "ipython2",
   "version": "2.7.6"
  }
 },
 "nbformat": 4,
 "nbformat_minor": 5
}
