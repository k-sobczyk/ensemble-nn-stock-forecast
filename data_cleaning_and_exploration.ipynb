{
 "cells": [
  {
   "cell_type": "markdown",
   "source": [
    "# Notes\n",
    "WSZYSTKIE PLIKI SĄ IDENTYCZNE. WSZYSTKIE TO EXCEL - 14 kart\n",
    "Czyszczenie:\n",
    "•\tWszystkie NaN na 0\n",
    "•\tSkalowanie przed modelem\n",
    "•\tInżynieria cech (wskaźniki ekonomiczne, różnica miedzy każym z elementów)\n",
    "\n",
    "TESTY DO PRZEPROWADZENIA:\n",
    "•\tUwzglednienie wszystkiego\n",
    "•\tSkupienie sie na zmianach kapitałowych\n",
    "•\tOgraniczenie tylko główne wartości\n",
    "•\tGrupowanie po przedsiębiorstwie? \n",
    "\n",
    "Podsumowanie co wyciągnąć z pliku:\n",
    "Dodatkowa kolumna jako nazwa pliku\n",
    "C – nazwa kolumny w DF\n"
   ],
   "metadata": {
    "collapsed": false
   },
   "id": "748bed7b754d866e"
  },
  {
   "cell_type": "code",
   "outputs": [],
   "source": [
    "import pandas as pd\n",
    "import re\n",
    "from data_utils import *"
   ],
   "metadata": {
    "collapsed": false,
    "ExecuteTime": {
     "end_time": "2024-05-17T18:09:47.966149400Z",
     "start_time": "2024-05-17T18:09:47.742028800Z"
    }
   },
   "id": "d0e00dd47f67dade",
   "execution_count": 476
  },
  {
   "cell_type": "code",
   "outputs": [],
   "source": [
    "names_data = pd.read_csv('dataframes/names_gpw.csv')"
   ],
   "metadata": {
    "collapsed": false,
    "ExecuteTime": {
     "end_time": "2024-05-17T18:09:48.017312Z",
     "start_time": "2024-05-17T18:09:47.969149400Z"
    }
   },
   "id": "fc9e9aadb88d719a",
   "execution_count": 477
  },
  {
   "cell_type": "code",
   "outputs": [],
   "source": [
    "def clean_column_names(columns):\n",
    "    cleaned_columns = []\n",
    "    for column in columns:\n",
    "        column = column.lower()\n",
    "        column = re.sub(r'\\(.*?\\)', '', column)\n",
    "        column = re.sub(r'[^\\w\\s]', '', column)\n",
    "        column = re.sub(r'\\s+', '_', column)\n",
    "        column = column.rstrip('_')\n",
    "        cleaned_columns.append(column)\n",
    "    return cleaned_columns"
   ],
   "metadata": {
    "collapsed": false,
    "ExecuteTime": {
     "end_time": "2024-05-17T18:09:48.049325900Z",
     "start_time": "2024-05-17T18:09:48.019312200Z"
    }
   },
   "id": "39c0550ebb412fe6",
   "execution_count": 478
  },
  {
   "cell_type": "code",
   "outputs": [],
   "source": [
    "def count_rows_by_filename(df):\n",
    "    counts = df.groupby('filename').size().reset_index(name='count')\n",
    "    return counts"
   ],
   "metadata": {
    "collapsed": false,
    "ExecuteTime": {
     "end_time": "2024-05-17T18:09:48.052324100Z",
     "start_time": "2024-05-17T18:09:48.036105100Z"
    }
   },
   "id": "766384bd5604cbc3",
   "execution_count": 479
  },
  {
   "cell_type": "markdown",
   "source": [
    "# FULL DF CLEARNING"
   ],
   "metadata": {
    "collapsed": false
   },
   "id": "ece792ab9822a192"
  },
  {
   "cell_type": "code",
   "outputs": [],
   "source": [
    "full_data = pd.read_csv(\"dataframes/dataframe_gpw.csv\")"
   ],
   "metadata": {
    "collapsed": false,
    "ExecuteTime": {
     "end_time": "2024-05-17T18:09:48.165638500Z",
     "start_time": "2024-05-17T18:09:48.055841100Z"
    }
   },
   "id": "f91a1aa223ae82ee",
   "execution_count": 480
  },
  {
   "cell_type": "code",
   "outputs": [],
   "source": [
    "full_merged_df = pd.merge(full_data, names_data, on='filename')"
   ],
   "metadata": {
    "collapsed": false,
    "ExecuteTime": {
     "end_time": "2024-05-17T18:09:48.181386300Z",
     "start_time": "2024-05-17T18:09:48.165638500Z"
    }
   },
   "id": "b0a2b11f4fa8679a",
   "execution_count": 481
  },
  {
   "cell_type": "code",
   "outputs": [],
   "source": [
    "full_merged_df = full_merged_df.sort_values(by=['filename', 'End of period'])"
   ],
   "metadata": {
    "collapsed": false,
    "ExecuteTime": {
     "end_time": "2024-05-17T18:09:48.224583200Z",
     "start_time": "2024-05-17T18:09:48.177390Z"
    }
   },
   "id": "69aadd961210c383",
   "execution_count": 482
  },
  {
   "cell_type": "code",
   "outputs": [],
   "source": [
    "full_merged_df.columns = clean_column_names(full_merged_df.columns)"
   ],
   "metadata": {
    "collapsed": false,
    "ExecuteTime": {
     "end_time": "2024-05-17T18:09:48.232200900Z",
     "start_time": "2024-05-17T18:09:48.193877300Z"
    }
   },
   "id": "cec52b55198fb780",
   "execution_count": 483
  },
  {
   "cell_type": "code",
   "outputs": [
    {
     "data": {
      "text/plain": "         filename  count\n0      11BIT.xlsx     49\n1      3LPSA.xlsx      6\n2    3RGAMES.xlsx     48\n3         AB.xlsx     70\n4         AC.xlsx     51\n..            ...    ...\n332     ZPUE.xlsx     95\n333  ZREMBCH.xlsx     65\n334      ZUE.xlsx     53\n335      ZUK.xlsx     67\n336   ZYWIEC.xlsx     99\n\n[337 rows x 2 columns]",
      "text/html": "<div>\n<style scoped>\n    .dataframe tbody tr th:only-of-type {\n        vertical-align: middle;\n    }\n\n    .dataframe tbody tr th {\n        vertical-align: top;\n    }\n\n    .dataframe thead th {\n        text-align: right;\n    }\n</style>\n<table border=\"1\" class=\"dataframe\">\n  <thead>\n    <tr style=\"text-align: right;\">\n      <th></th>\n      <th>filename</th>\n      <th>count</th>\n    </tr>\n  </thead>\n  <tbody>\n    <tr>\n      <th>0</th>\n      <td>11BIT.xlsx</td>\n      <td>49</td>\n    </tr>\n    <tr>\n      <th>1</th>\n      <td>3LPSA.xlsx</td>\n      <td>6</td>\n    </tr>\n    <tr>\n      <th>2</th>\n      <td>3RGAMES.xlsx</td>\n      <td>48</td>\n    </tr>\n    <tr>\n      <th>3</th>\n      <td>AB.xlsx</td>\n      <td>70</td>\n    </tr>\n    <tr>\n      <th>4</th>\n      <td>AC.xlsx</td>\n      <td>51</td>\n    </tr>\n    <tr>\n      <th>...</th>\n      <td>...</td>\n      <td>...</td>\n    </tr>\n    <tr>\n      <th>332</th>\n      <td>ZPUE.xlsx</td>\n      <td>95</td>\n    </tr>\n    <tr>\n      <th>333</th>\n      <td>ZREMBCH.xlsx</td>\n      <td>65</td>\n    </tr>\n    <tr>\n      <th>334</th>\n      <td>ZUE.xlsx</td>\n      <td>53</td>\n    </tr>\n    <tr>\n      <th>335</th>\n      <td>ZUK.xlsx</td>\n      <td>67</td>\n    </tr>\n    <tr>\n      <th>336</th>\n      <td>ZYWIEC.xlsx</td>\n      <td>99</td>\n    </tr>\n  </tbody>\n</table>\n<p>337 rows × 2 columns</p>\n</div>"
     },
     "execution_count": 484,
     "metadata": {},
     "output_type": "execute_result"
    }
   ],
   "source": [
    "count_rows_by_filename(full_merged_df)"
   ],
   "metadata": {
    "collapsed": false,
    "ExecuteTime": {
     "end_time": "2024-05-17T18:09:48.234712700Z",
     "start_time": "2024-05-17T18:09:48.198090100Z"
    }
   },
   "id": "eed39f421586c0f4",
   "execution_count": 484
  },
  {
   "cell_type": "code",
   "outputs": [],
   "source": [
    "# Delete all companies under 4 because its not enough to cover any change in assets or liabilities\n",
    "filenames_to_remove = [\n",
    "    'SADOVAYA.xlsx',\n",
    "    'BMW.xlsx',\n",
    "    'KERNEL.xlsx',\n",
    "    'SILVANO.xlsx',\n",
    "    'IMCSA.xlsx',\n",
    "    'STSHOLDING.xlsx'\n",
    "]\n",
    "\n",
    "df_filtered = full_merged_df[~full_merged_df['filename'].isin(filenames_to_remove)]"
   ],
   "metadata": {
    "collapsed": false,
    "ExecuteTime": {
     "end_time": "2024-05-17T18:09:48.235714800Z",
     "start_time": "2024-05-17T18:09:48.208382Z"
    }
   },
   "id": "f8e343b1603a2c69",
   "execution_count": 485
  },
  {
   "cell_type": "markdown",
   "source": [
    "## Missing data"
   ],
   "metadata": {
    "collapsed": false
   },
   "id": "79e48d14f54e4905"
  },
  {
   "cell_type": "code",
   "outputs": [
    {
     "data": {
      "text/plain": "end_of_period                                                      0\nrevenues_from_sales                                              945\noperating_profitloss                                             737\nnet_profitloss_attributable_to_equity_holders_of_the_parent      577\ntotal_comprehensive_income_attributable_to_equity_holders      17723\n                                                               ...  \ncurrent_financial_liabilities                                  19906\nnoncurrent_financial_liabilities                               19906\nfinancial_liabilities                                          19906\ncompany_name                                                       0\nsector                                                            13\nLength: 108, dtype: int64"
     },
     "execution_count": 486,
     "metadata": {},
     "output_type": "execute_result"
    }
   ],
   "source": [
    "full_merged_df.isnull().sum()"
   ],
   "metadata": {
    "collapsed": false,
    "ExecuteTime": {
     "end_time": "2024-05-17T18:09:48.270773900Z",
     "start_time": "2024-05-17T18:09:48.219064Z"
    }
   },
   "id": "2466ce68bd13d51e",
   "execution_count": 486
  },
  {
   "cell_type": "code",
   "outputs": [
    {
     "data": {
      "text/plain": "      end_of_period  revenues_from_sales  operating_profitloss  \\\n49       2017-12-31                  NaN                   NaN   \n50       2018-12-31                  NaN                   NaN   \n51       2019-12-31                  NaN                   NaN   \n52       2020-12-31          34515.00000            3929.00000   \n53       2021-09-30                  NaN                   NaN   \n54       2021-12-31          39704.00000            3898.00000   \n2522     2020-12-31                  NaN                   NaN   \n2523     2021-12-31                  NaN                   NaN   \n18362    2019-12-31                  NaN                   NaN   \n18363    2020-12-31                  NaN                   NaN   \n18364    2021-06-30           1141.52579             302.65867   \n18365    2021-12-31                  NaN                   NaN   \n18366    2022-06-30            654.87351            -314.01440   \n\n       net_profitloss_attributable_to_equity_holders_of_the_parent  \\\n49                                                   NaN             \n50                                                   NaN             \n51                                                   NaN             \n52                                             138.00000             \n53                                                   NaN             \n54                                            2169.00000             \n2522                                                 NaN             \n2523                                                 NaN             \n18362                                                NaN             \n18363                                                NaN             \n18364                                          287.68307             \n18365                                                NaN             \n18366                                         -314.96840             \n\n       total_comprehensive_income_attributable_to_equity_holders  \\\n49                                                   NaN           \n50                                                   NaN           \n51                                                   NaN           \n52                                                 138.0           \n53                                                   NaN           \n54                                                2169.0           \n2522                                                 NaN           \n2523                                                 NaN           \n18362                                                NaN           \n18363                                                NaN           \n18364                                                NaN           \n18365                                                NaN           \n18366                                                NaN           \n\n       depreciation  cash_flow_from_operating_activities  \\\n49              NaN                                  NaN   \n50              NaN                                  NaN   \n51              NaN                                  NaN   \n52       4114.00000                           8513.00000   \n53              NaN                                  NaN   \n54       4459.00000                           5831.00000   \n2522            NaN                                  NaN   \n2523            NaN                                  NaN   \n18362           NaN                                  NaN   \n18363           NaN                                  NaN   \n18364           NaN                            466.14407   \n18365           NaN                                  NaN   \n18366       0.42365                           -114.99931   \n\n       cash_flow_from_investing_activities  \\\n49                                     NaN   \n50                                     NaN   \n51                                     NaN   \n52                             -3261.00000   \n53                                     NaN   \n54                             -2718.00000   \n2522                                   NaN   \n2523                                   NaN   \n18362                                  NaN   \n18363                                  NaN   \n18364                                  NaN   \n18365                                  NaN   \n18366                            -10.16748   \n\n       cash_flow_from_financing_activities        aktywa  ...  \\\n49                                     NaN  8.301800e+04  ...   \n50                                     NaN  1.053760e+05  ...   \n51                                     NaN  1.613490e+05  ...   \n52                              -5264.0000  1.640630e+05  ...   \n53                                     NaN  1.547040e+05  ...   \n54                              -3195.0000  1.571200e+05  ...   \n2522                                   NaN  2.166580e+08  ...   \n2523                                   NaN  2.295270e+08  ...   \n18362                                  NaN  1.065330e+03  ...   \n18363                                  NaN  3.348397e+03  ...   \n18364                            -742.2988  2.882571e+03  ...   \n18365                                  NaN  3.526614e+03  ...   \n18366                           -1035.0000  2.461432e+03  ...   \n\n       debt_service_ratio  rate_debt_security  leverage  asset_utilization  \\\n49                    NaN                 NaN       NaN                NaN   \n50                    NaN                 NaN       NaN                NaN   \n51                    NaN                 NaN       NaN                NaN   \n52                    NaN                 NaN       NaN                NaN   \n53                    NaN                 NaN       NaN                NaN   \n54                    NaN                 NaN       NaN                NaN   \n2522                  NaN                 NaN       NaN                NaN   \n2523                  NaN                 NaN       NaN                NaN   \n18362                 NaN                 NaN       NaN                NaN   \n18363                 NaN                 NaN       NaN                NaN   \n18364                 NaN                 NaN       NaN                NaN   \n18365                 NaN                 NaN       NaN                NaN   \n18366                 NaN                 NaN       NaN                NaN   \n\n       load_gross_profit  current_financial_liabilities  \\\n49                   NaN                            NaN   \n50                   NaN                            NaN   \n51                   NaN                            NaN   \n52                   NaN                            NaN   \n53                   NaN                            NaN   \n54                   NaN                            NaN   \n2522                 NaN                            NaN   \n2523                 NaN                            NaN   \n18362                NaN                            NaN   \n18363                NaN                            NaN   \n18364                NaN                            NaN   \n18365                NaN                            NaN   \n18366                NaN                            NaN   \n\n       noncurrent_financial_liabilities  financial_liabilities  company_name  \\\n49                                  NaN                    NaN        3LP SA   \n50                                  NaN                    NaN        3LP SA   \n51                                  NaN                    NaN        3LP SA   \n52                                  NaN                    NaN        3LP SA   \n53                                  NaN                    NaN        3LP SA   \n54                                  NaN                    NaN        3LP SA   \n2522                                NaN                    NaN        BMW AG   \n2523                                NaN                    NaN        BMW AG   \n18362                               NaN                    NaN   Uf Games SA   \n18363                               NaN                    NaN   Uf Games SA   \n18364                               NaN                    NaN   Uf Games SA   \n18365                               NaN                    NaN   Uf Games SA   \n18366                               NaN                    NaN   Uf Games SA   \n\n      sector  \n49       NaN  \n50       NaN  \n51       NaN  \n52       NaN  \n53       NaN  \n54       NaN  \n2522     NaN  \n2523     NaN  \n18362    NaN  \n18363    NaN  \n18364    NaN  \n18365    NaN  \n18366    NaN  \n\n[13 rows x 108 columns]",
      "text/html": "<div>\n<style scoped>\n    .dataframe tbody tr th:only-of-type {\n        vertical-align: middle;\n    }\n\n    .dataframe tbody tr th {\n        vertical-align: top;\n    }\n\n    .dataframe thead th {\n        text-align: right;\n    }\n</style>\n<table border=\"1\" class=\"dataframe\">\n  <thead>\n    <tr style=\"text-align: right;\">\n      <th></th>\n      <th>end_of_period</th>\n      <th>revenues_from_sales</th>\n      <th>operating_profitloss</th>\n      <th>net_profitloss_attributable_to_equity_holders_of_the_parent</th>\n      <th>total_comprehensive_income_attributable_to_equity_holders</th>\n      <th>depreciation</th>\n      <th>cash_flow_from_operating_activities</th>\n      <th>cash_flow_from_investing_activities</th>\n      <th>cash_flow_from_financing_activities</th>\n      <th>aktywa</th>\n      <th>...</th>\n      <th>debt_service_ratio</th>\n      <th>rate_debt_security</th>\n      <th>leverage</th>\n      <th>asset_utilization</th>\n      <th>load_gross_profit</th>\n      <th>current_financial_liabilities</th>\n      <th>noncurrent_financial_liabilities</th>\n      <th>financial_liabilities</th>\n      <th>company_name</th>\n      <th>sector</th>\n    </tr>\n  </thead>\n  <tbody>\n    <tr>\n      <th>49</th>\n      <td>2017-12-31</td>\n      <td>NaN</td>\n      <td>NaN</td>\n      <td>NaN</td>\n      <td>NaN</td>\n      <td>NaN</td>\n      <td>NaN</td>\n      <td>NaN</td>\n      <td>NaN</td>\n      <td>8.301800e+04</td>\n      <td>...</td>\n      <td>NaN</td>\n      <td>NaN</td>\n      <td>NaN</td>\n      <td>NaN</td>\n      <td>NaN</td>\n      <td>NaN</td>\n      <td>NaN</td>\n      <td>NaN</td>\n      <td>3LP SA</td>\n      <td>NaN</td>\n    </tr>\n    <tr>\n      <th>50</th>\n      <td>2018-12-31</td>\n      <td>NaN</td>\n      <td>NaN</td>\n      <td>NaN</td>\n      <td>NaN</td>\n      <td>NaN</td>\n      <td>NaN</td>\n      <td>NaN</td>\n      <td>NaN</td>\n      <td>1.053760e+05</td>\n      <td>...</td>\n      <td>NaN</td>\n      <td>NaN</td>\n      <td>NaN</td>\n      <td>NaN</td>\n      <td>NaN</td>\n      <td>NaN</td>\n      <td>NaN</td>\n      <td>NaN</td>\n      <td>3LP SA</td>\n      <td>NaN</td>\n    </tr>\n    <tr>\n      <th>51</th>\n      <td>2019-12-31</td>\n      <td>NaN</td>\n      <td>NaN</td>\n      <td>NaN</td>\n      <td>NaN</td>\n      <td>NaN</td>\n      <td>NaN</td>\n      <td>NaN</td>\n      <td>NaN</td>\n      <td>1.613490e+05</td>\n      <td>...</td>\n      <td>NaN</td>\n      <td>NaN</td>\n      <td>NaN</td>\n      <td>NaN</td>\n      <td>NaN</td>\n      <td>NaN</td>\n      <td>NaN</td>\n      <td>NaN</td>\n      <td>3LP SA</td>\n      <td>NaN</td>\n    </tr>\n    <tr>\n      <th>52</th>\n      <td>2020-12-31</td>\n      <td>34515.00000</td>\n      <td>3929.00000</td>\n      <td>138.00000</td>\n      <td>138.0</td>\n      <td>4114.00000</td>\n      <td>8513.00000</td>\n      <td>-3261.00000</td>\n      <td>-5264.0000</td>\n      <td>1.640630e+05</td>\n      <td>...</td>\n      <td>NaN</td>\n      <td>NaN</td>\n      <td>NaN</td>\n      <td>NaN</td>\n      <td>NaN</td>\n      <td>NaN</td>\n      <td>NaN</td>\n      <td>NaN</td>\n      <td>3LP SA</td>\n      <td>NaN</td>\n    </tr>\n    <tr>\n      <th>53</th>\n      <td>2021-09-30</td>\n      <td>NaN</td>\n      <td>NaN</td>\n      <td>NaN</td>\n      <td>NaN</td>\n      <td>NaN</td>\n      <td>NaN</td>\n      <td>NaN</td>\n      <td>NaN</td>\n      <td>1.547040e+05</td>\n      <td>...</td>\n      <td>NaN</td>\n      <td>NaN</td>\n      <td>NaN</td>\n      <td>NaN</td>\n      <td>NaN</td>\n      <td>NaN</td>\n      <td>NaN</td>\n      <td>NaN</td>\n      <td>3LP SA</td>\n      <td>NaN</td>\n    </tr>\n    <tr>\n      <th>54</th>\n      <td>2021-12-31</td>\n      <td>39704.00000</td>\n      <td>3898.00000</td>\n      <td>2169.00000</td>\n      <td>2169.0</td>\n      <td>4459.00000</td>\n      <td>5831.00000</td>\n      <td>-2718.00000</td>\n      <td>-3195.0000</td>\n      <td>1.571200e+05</td>\n      <td>...</td>\n      <td>NaN</td>\n      <td>NaN</td>\n      <td>NaN</td>\n      <td>NaN</td>\n      <td>NaN</td>\n      <td>NaN</td>\n      <td>NaN</td>\n      <td>NaN</td>\n      <td>3LP SA</td>\n      <td>NaN</td>\n    </tr>\n    <tr>\n      <th>2522</th>\n      <td>2020-12-31</td>\n      <td>NaN</td>\n      <td>NaN</td>\n      <td>NaN</td>\n      <td>NaN</td>\n      <td>NaN</td>\n      <td>NaN</td>\n      <td>NaN</td>\n      <td>NaN</td>\n      <td>2.166580e+08</td>\n      <td>...</td>\n      <td>NaN</td>\n      <td>NaN</td>\n      <td>NaN</td>\n      <td>NaN</td>\n      <td>NaN</td>\n      <td>NaN</td>\n      <td>NaN</td>\n      <td>NaN</td>\n      <td>BMW AG</td>\n      <td>NaN</td>\n    </tr>\n    <tr>\n      <th>2523</th>\n      <td>2021-12-31</td>\n      <td>NaN</td>\n      <td>NaN</td>\n      <td>NaN</td>\n      <td>NaN</td>\n      <td>NaN</td>\n      <td>NaN</td>\n      <td>NaN</td>\n      <td>NaN</td>\n      <td>2.295270e+08</td>\n      <td>...</td>\n      <td>NaN</td>\n      <td>NaN</td>\n      <td>NaN</td>\n      <td>NaN</td>\n      <td>NaN</td>\n      <td>NaN</td>\n      <td>NaN</td>\n      <td>NaN</td>\n      <td>BMW AG</td>\n      <td>NaN</td>\n    </tr>\n    <tr>\n      <th>18362</th>\n      <td>2019-12-31</td>\n      <td>NaN</td>\n      <td>NaN</td>\n      <td>NaN</td>\n      <td>NaN</td>\n      <td>NaN</td>\n      <td>NaN</td>\n      <td>NaN</td>\n      <td>NaN</td>\n      <td>1.065330e+03</td>\n      <td>...</td>\n      <td>NaN</td>\n      <td>NaN</td>\n      <td>NaN</td>\n      <td>NaN</td>\n      <td>NaN</td>\n      <td>NaN</td>\n      <td>NaN</td>\n      <td>NaN</td>\n      <td>Uf Games SA</td>\n      <td>NaN</td>\n    </tr>\n    <tr>\n      <th>18363</th>\n      <td>2020-12-31</td>\n      <td>NaN</td>\n      <td>NaN</td>\n      <td>NaN</td>\n      <td>NaN</td>\n      <td>NaN</td>\n      <td>NaN</td>\n      <td>NaN</td>\n      <td>NaN</td>\n      <td>3.348397e+03</td>\n      <td>...</td>\n      <td>NaN</td>\n      <td>NaN</td>\n      <td>NaN</td>\n      <td>NaN</td>\n      <td>NaN</td>\n      <td>NaN</td>\n      <td>NaN</td>\n      <td>NaN</td>\n      <td>Uf Games SA</td>\n      <td>NaN</td>\n    </tr>\n    <tr>\n      <th>18364</th>\n      <td>2021-06-30</td>\n      <td>1141.52579</td>\n      <td>302.65867</td>\n      <td>287.68307</td>\n      <td>NaN</td>\n      <td>NaN</td>\n      <td>466.14407</td>\n      <td>NaN</td>\n      <td>-742.2988</td>\n      <td>2.882571e+03</td>\n      <td>...</td>\n      <td>NaN</td>\n      <td>NaN</td>\n      <td>NaN</td>\n      <td>NaN</td>\n      <td>NaN</td>\n      <td>NaN</td>\n      <td>NaN</td>\n      <td>NaN</td>\n      <td>Uf Games SA</td>\n      <td>NaN</td>\n    </tr>\n    <tr>\n      <th>18365</th>\n      <td>2021-12-31</td>\n      <td>NaN</td>\n      <td>NaN</td>\n      <td>NaN</td>\n      <td>NaN</td>\n      <td>NaN</td>\n      <td>NaN</td>\n      <td>NaN</td>\n      <td>NaN</td>\n      <td>3.526614e+03</td>\n      <td>...</td>\n      <td>NaN</td>\n      <td>NaN</td>\n      <td>NaN</td>\n      <td>NaN</td>\n      <td>NaN</td>\n      <td>NaN</td>\n      <td>NaN</td>\n      <td>NaN</td>\n      <td>Uf Games SA</td>\n      <td>NaN</td>\n    </tr>\n    <tr>\n      <th>18366</th>\n      <td>2022-06-30</td>\n      <td>654.87351</td>\n      <td>-314.01440</td>\n      <td>-314.96840</td>\n      <td>NaN</td>\n      <td>0.42365</td>\n      <td>-114.99931</td>\n      <td>-10.16748</td>\n      <td>-1035.0000</td>\n      <td>2.461432e+03</td>\n      <td>...</td>\n      <td>NaN</td>\n      <td>NaN</td>\n      <td>NaN</td>\n      <td>NaN</td>\n      <td>NaN</td>\n      <td>NaN</td>\n      <td>NaN</td>\n      <td>NaN</td>\n      <td>Uf Games SA</td>\n      <td>NaN</td>\n    </tr>\n  </tbody>\n</table>\n<p>13 rows × 108 columns</p>\n</div>"
     },
     "execution_count": 487,
     "metadata": {},
     "output_type": "execute_result"
    }
   ],
   "source": [
    "# Sektor NaN\n",
    "rows_with_nan_in_sektor = full_merged_df[full_merged_df['sector'].isna()]\n",
    "rows_with_nan_in_sektor"
   ],
   "metadata": {
    "collapsed": false,
    "ExecuteTime": {
     "end_time": "2024-05-17T18:09:48.286832200Z",
     "start_time": "2024-05-17T18:09:48.229201700Z"
    }
   },
   "id": "4e4baa4bf4b7e8fb",
   "execution_count": 487
  },
  {
   "cell_type": "markdown",
   "source": [
    "# Notes\n",
    "Manually checking for each company\n",
    "\n",
    "3LP SA - handel\n",
    "BMW AG - motoryzacja\n",
    "Uf Games SA - gry\n"
   ],
   "metadata": {
    "collapsed": false
   },
   "id": "7456660b0f1bcdf1"
  },
  {
   "cell_type": "code",
   "outputs": [],
   "source": [
    "company_to_sector = {\n",
    "    '3LP SA': 'handel',\n",
    "    'BMW AG': 'motoryzacja',\n",
    "    'Uf Games SA': 'gry'\n",
    "}\n",
    "\n",
    "full_merged_df['sector'] = full_merged_df.apply(lambda row: company_to_sector[row['company_name']] if pd.isna(row['sector']) else row['sector'], axis=1)"
   ],
   "metadata": {
    "collapsed": false,
    "ExecuteTime": {
     "end_time": "2024-05-17T18:09:48.544005600Z",
     "start_time": "2024-05-17T18:09:48.244747400Z"
    }
   },
   "id": "7319f46aa1372b35",
   "execution_count": 488
  },
  {
   "cell_type": "code",
   "outputs": [],
   "source": [
    "# Rest of financial data - fill NaN with 0 (=no change)\n",
    "full_merged_df = full_merged_df.fillna(0)"
   ],
   "metadata": {
    "collapsed": false,
    "ExecuteTime": {
     "end_time": "2024-05-17T18:09:48.545085Z",
     "start_time": "2024-05-17T18:09:48.491947200Z"
    }
   },
   "id": "fb24e9bf335b19e8",
   "execution_count": 489
  },
  {
   "cell_type": "code",
   "outputs": [
    {
     "data": {
      "text/plain": "['end_of_period',\n 'revenues_from_sales',\n 'operating_profitloss',\n 'net_profitloss_attributable_to_equity_holders_of_the_parent',\n 'total_comprehensive_income_attributable_to_equity_holders',\n 'depreciation',\n 'cash_flow_from_operating_activities',\n 'cash_flow_from_investing_activities',\n 'cash_flow_from_financing_activities',\n 'aktywa',\n 'noncurrent_assets',\n 'current_assets',\n 'equity_shareholders_of_the_parent',\n 'noncurrent_liabilities',\n 'current_liabilities',\n 'number_of_shares',\n 'earnings_per_share',\n 'total_comprehensive_income_per_share',\n 'book_value_per_share',\n 'accounting_standard',\n 'filename',\n 'property_plant_and_equipment',\n 'exploration_for_and_evaluation_of_mineral_resources',\n 'intangible_assets',\n 'goodwill',\n 'investment_property',\n 'rightofuse_assets',\n 'investment_in_affiliates',\n 'noncurrent_financial_assets',\n 'noncurrent_loans_and_receivables',\n 'deferred_income_tax',\n 'noncurrent_deferred_charges_and_accruals',\n 'noncurrent_derivative_instruments',\n 'other_noncurrent_assets',\n 'inventories',\n 'current_intangible_assets',\n 'biological_assets',\n 'trade_receivables',\n 'loans_and_other_receivables',\n 'financial_assets',\n 'cash_and_cash_equivalents',\n 'accruals',\n 'assets_from_current_tax',\n 'derivative_instruments',\n 'other_assets',\n 'assets_held_for_sale_and_discontinuing_operations',\n 'called_up_capital',\n 'own_shares',\n 'equity_liabilities',\n 'share_capital',\n 'called_up_share_capital',\n 'treasury_shares',\n 'supplementary_capital',\n 'valuation_and_exchange_differences',\n 'other_capitals',\n 'retained_earnings_accumulated_losses',\n 'noncontrolling_interests',\n 'noncurrent_liabilities_from_derivatives',\n 'noncurrent_loans_and_borrowings',\n 'noncurrent_liabilities_from_bonds',\n 'noncurrent_liabilities_from_finance_leases',\n 'noncurrent_trade_payables',\n 'longterm_provision_for_employee_benefits',\n 'deferred_tax_liabilities',\n 'noncurrent_provision',\n 'other_noncurrent_liabilities',\n 'noncurrent_accruals',\n 'liabilities_from_derivatives',\n 'financial_liabilities',\n 'bond_liabilities',\n 'liabilities_from_finance_leases',\n 'trade_payables',\n 'employee_benefits',\n 'current_tax_liabilities',\n 'provisions',\n 'other_liabilities',\n 'accruals',\n 'liabilities_related_to_assets_held_for_sale_and_discontinued_operations',\n 'date_of_publication',\n 'gross_profit_margin_on_sales',\n 'operating_profit_margin',\n 'gross_profit_margin',\n 'net_profit_margin',\n 'return_on_equity',\n 'return_on_assets',\n 'working_capital_ratio',\n 'current_ratio',\n 'quick_ratio',\n 'cash_ratio',\n 'receivables_turnover',\n 'inventory_turnover',\n 'the_operating_cycle',\n 'rotation_commitments',\n 'cash_conversion_cycle',\n 'rotation_assets',\n 'rotation_of_assets',\n 'assets_ratio',\n 'debt_ratio',\n 'debt_service_ratio',\n 'rate_debt_security',\n 'leverage',\n 'asset_utilization',\n 'load_gross_profit',\n 'current_financial_liabilities',\n 'noncurrent_financial_liabilities',\n 'financial_liabilities',\n 'company_name',\n 'sector']"
     },
     "execution_count": 490,
     "metadata": {},
     "output_type": "execute_result"
    }
   ],
   "source": [
    "full_merged_df.columns.tolist()"
   ],
   "metadata": {
    "collapsed": false,
    "ExecuteTime": {
     "end_time": "2024-05-17T18:09:48.546092400Z",
     "start_time": "2024-05-17T18:09:48.510356900Z"
    }
   },
   "id": "305de52c586ae28",
   "execution_count": 490
  },
  {
   "cell_type": "markdown",
   "source": [
    "# Change each indicator to % value\n",
    "return_on_equity\n",
    "return_on_assets\n",
    "leverage\n",
    "asset_utilization\n",
    "debt_ratio\n",
    "debt_service_ratio\n",
    "rate_debt_security\n",
    "working_capital_ratio"
   ],
   "metadata": {
    "collapsed": false
   },
   "id": "34318baca8e6e3c5"
  },
  {
   "cell_type": "code",
   "outputs": [],
   "source": [
    "columns_to_convert = [\n",
    "    'return_on_equity',\n",
    "    'return_on_assets',\n",
    "    'leverage',\n",
    "    'asset_utilization',\n",
    "    'debt_ratio',\n",
    "    'debt_service_ratio',\n",
    "    'rate_debt_security',\n",
    "    'working_capital_ratio'\n",
    "]\n",
    "\n",
    "full_merged_df[columns_to_convert] = full_merged_df[columns_to_convert] / 100"
   ],
   "metadata": {
    "collapsed": false,
    "ExecuteTime": {
     "end_time": "2024-05-17T18:09:48.546092400Z",
     "start_time": "2024-05-17T18:09:48.515921200Z"
    }
   },
   "id": "7650395fd99e90ba",
   "execution_count": 491
  },
  {
   "cell_type": "code",
   "outputs": [],
   "source": [
    "column_mapping = {\n",
    "    'financial_liabilities': 'total_liability',\n",
    "    'aktywa': 'total_assets'\n",
    "}\n",
    "\n",
    "full_merged_df = full_merged_df.rename(columns=column_mapping)"
   ],
   "metadata": {
    "collapsed": false,
    "ExecuteTime": {
     "end_time": "2024-05-17T18:09:48.576868600Z",
     "start_time": "2024-05-17T18:09:48.526969900Z"
    }
   },
   "id": "54aff99460eba5d8",
   "execution_count": 492
  },
  {
   "cell_type": "code",
   "outputs": [
    {
     "data": {
      "text/plain": "array(['11 bit studios SA', '3LP SA', '3R Games SA', 'AB SA', 'AC SA',\n       'Action SA', 'Adiuvo Investments SA', 'Agora SA', 'Agroton plc.',\n       'AUGA Group AB', 'All in! Games SA', 'Ailleron SA',\n       'Airway Medix SA', 'Alumetal SA', 'Ambra SA', 'Amica SA',\n       'Ampli SA w upadłości układowej', 'AmRest Holdings SE',\n       'Answear.com SA', 'Apator SA', 'Aplisens SA', 'APS Energia SA',\n       'Arctic Paper SA', 'Arteria SA', 'Artifex Mundi SA',\n       'ASBISc Enterprises plc.', 'ASM Group SA', 'Asseco BS SA',\n       'Asseco Poland SA', 'Asseco SEE SA', 'Atende SA',\n       'Atlanta Poland SA', 'ATM Grupa SA', 'Atrem SA', 'Auto Partner SA',\n       'Grupa Azoty SA', 'British Automotive Holding SA',\n       'Elektrociepłownia Będzin SA', 'Benefit Systems SA', 'Berling SA',\n       'Betacom SA', 'Big Cheese Studio SA', 'Bioceltix SA',\n       'BioMaxima SA', 'Biomed Lublin SA', 'Bio Planet SA', 'Bioton SA',\n       'BMW AG', 'LW Bogdanka SA', 'BoomBit SA', 'Boryszew SA',\n       'Bowim SA', 'Brand24 SA', 'Braster SA w restrukturyzacji',\n       'Budimex SA', 'Bumech SA', 'Captor Therapeutics SA', 'CCC SA',\n       'CD Projekt SA', 'CDRL SA', 'CNT SA', 'CEZ a.s.', 'CFI Holding SA',\n       'Ciech SA', 'CI Games SA', 'City Service SE', 'Celon Pharma SA',\n       'Cognor Holding SA', 'ComArch SA', 'Comperia.pl SA',\n       'Compremum SA', 'Comp SA', 'PZ Cormay SA', 'Creepy Jar SA',\n       'Creotech Instruments SA', 'Cyfrowy Polsat SA', 'Dadelo SA',\n       'DataWalk SA', 'Dębica SA', 'Decora SA', 'Dekpol SA', 'Delko SA',\n       'Digital Network SA', 'Digitree Group SA', 'Dino Polska SA',\n       'Dom Development SA', 'Drewex SA w restrukturyzacji ',\n       'Drozapol-Profil SA', 'ED Invest SA', 'Efekt SA', 'Eko Export SA',\n       'Elektrotim SA', 'Elzab SA', 'EMC Instytut Medyczny SA', 'Enea SA',\n       'Enel-Med SA', 'Energa SA', 'Energoaparatura SA',\n       'Energoinstal SA', 'Enter Air SA', 'Erbud SA', 'ERG SA',\n       'Esotiq&Henderson SA', 'Eurocash SA', 'Eurotel SA', 'Famur SA',\n       'Fasing SA', 'Feerum SA', 'Ferro SA', 'Ferrum SA', 'Forte SA',\n       'Games Operators SA', 'Gaming Factory SA', 'GI Group Poland SA',\n       'Global Cosmed SA', 'Gobarto SA', 'Grodno SA', 'Grupa Pracuj SA',\n       'Harper Hygienics SA', 'Helio SA', 'Herkules SA', 'Hollywood SA',\n       'Huuuge, Inc.', 'Hydrotor SA', 'iFirma SA',\n       'Investment Friends SE', 'IMC S.A.', 'Instal Kraków SA',\n       'Inter Cars SA', 'Interferie SA', 'Interbud-Lublin SA', 'IMS SA',\n       'Inter Rao Lietuva AB', 'Intersport Polska SA', 'Introl SA',\n       'Interma Trade SA w likwidacji', 'Izoblok SA',\n       'Izolacja Jarocin SA', 'Izostal SA',\n       'Jastrzębska Spółka Węglowa SA', 'JWW Invest SA', 'K2 Holding SA',\n       'KCI SA', 'KDM Shipping Public Ltd.', 'Kernel Holding S.A.',\n       'Grupa Kęty SA', 'KGHM Polska Miedź SA', 'KGL SA',\n       'Kino Polska TV SA', 'Kogeneracja SA', 'Kompap SA',\n       'Komputronik SA  w restrukturyzacji', 'KB Dom SA w upadłości',\n       'KPPD SA', 'Krakchemia SA', 'KRKA d.d.', 'Krynica Vitamin SA',\n       'Krynicki Recykling SA', 'Labo Print SA', 'Lark.pl SA', 'Larq SA',\n       'Lena Lighting SA', 'Lentex SA', 'Less SA', 'Libet SA',\n       'LiveChat Software SA', 'Grupa Lotos SA', 'LPP SA',\n       'LSI Software SA', 'Lubawa SA', 'Protektor SA', 'Mabion SA',\n       'Makarony Polskie SA', 'Mangata Holding SA', 'ManyDev Studio SE',\n       'Master Pharm SA', 'Maxcom SA', 'MDI Energia SA', 'Mediacap SA',\n       'Medicalgorithmics SA', 'Medinice SA', 'Megaron SA',\n       'Mennica Polska SA', 'Mercator Medical SA', 'Mercor SA',\n       'Mex Polska SA', 'MFO SA', 'Milkiland Foods PLC', 'Miraculum SA',\n       'Mirbud SA', 'ML System SA', 'Mo-Bruk SA', 'MOJ SA', 'Molecure SA',\n       'Monnari Trade SA', 'Mostostal Płock SA', 'Mostostal Warszawa SA',\n       'Mostostal Zabrze SA', 'Muza SA', 'NanoGroup SA', 'Netia SA',\n       'Neuca SA', 'Newag SA', 'Nexity Global SA', 'Novaturas AB',\n       'Novita SA', 'NTT System SA', 'Odlewnie Polskie SA', 'OEX SA',\n       'Onde SA', 'Oponeo.pl SA', 'OPTeam SA', 'Orange Polska SA',\n       'Orzeł Biały SA', 'OT Logistics SA', 'ZE PAK SA', 'Pamapol SA',\n       'PA Nova SA', 'Patentus SA', 'PBG SA w restrukturyzacji',\n       'PBKM SA', 'PCC Exol SA', 'PCC Rokita SA', 'PCF Group SA',\n       'PC Guard SA', 'Pekabex SA', 'Polenergia SA', 'Pepees SA',\n       'PGE SA', 'PGNiG SA', 'PGS Software SA', 'Pharmena SA',\n       'Photon Energy NV', 'PJP Makrum SA', 'PKN Orlen SA',\n       'PKP Cargo SA', 'Plast-Box SA', 'PlayWay SA',\n       'PMPG Polskie Media SA', 'Police SA', 'Polimex Mostostal SA',\n       'Poltreg SA', 'Polwax SA', 'Prima Moda SA', 'Primetech SA',\n       'Procad SA', 'Prochem SA', 'Puławy SA', 'PunkPirates SA',\n       'Pure Biologics SA', 'Quantum Software SA', 'R22 SA', 'Radpol SA',\n       'Rafako SA', 'Rafamet SA', 'Rainbow Tours SA', 'Rawlplug SA',\n       'Redan SA', 'Regnon SA w likwidacji', 'Relpol SA',\n       'Remak-Energomontaż SA', 'Resbud SE', 'Ronson Development SE',\n       'ZM Ropczyce SA', 'Ryvu Therapeutics SA', 'Sadovaya Group SA',\n       'Sanwil SA', 'Satis Group SA', 'Seco/Warwick SA', 'Seko SA',\n       'Selena FM SA', 'Selvita SA', 'Sescom SA', 'Sfinks Polska SA',\n       'Shoper SA', 'Silvair Inc.', 'Silvano Group AS', 'SimFabric SA',\n       'Simple SA', 'Skotan SA', 'Sleepz AG', 'Śnieżka SA',\n       'Solar Company SA', 'Sonel SA', 'Sopharma AD', 'SpyroSoft SA',\n       'Stalexport Autostrady SA', 'Stalprodukt SA', 'Stalprofil SA',\n       'Sanok Rubber Company SA', 'STS Holding SA', 'Sunex SA',\n       'Suwary SA', 'Swissmed Centrum Zdrowia SA', 'Sygnity SA',\n       'Synektik SA', 'Talex SA', 'Tarczyński SA',\n       'Tatry Mountain Resorts a.s.', 'Tauron PE SA', 'T-Bull SA',\n       'Termo-Rex SA', 'Tesgas SA', 'TIM SA', 'Torpol SA', 'Toya SA',\n       'Trakcja SA', 'Trans Polonia SA', 'Ten Square Games SA', 'TXM SA',\n       'Uf Games SA', 'Ulma Construccion Polska SA', 'Ultimate Games SA',\n       'Unibep SA', 'Unima 2000 SA', 'Unimot SA', 'Ursus SA w upadłości',\n       'Vercom SA', 'Vigo Photonics SA', 'Vistal Gdynia SA',\n       'Vivid Games SA', 'Voxel SA', 'VRG SA', 'Wasko SA', 'Wawel SA',\n       'Wielton SA', 'WP Holding SA', 'Wittchen SA', 'Wojas SA',\n       'XTPL SA', 'Zamet SA', 'ZPC Otmuchów SA', 'ZPUE SA',\n       'Zremb-Chojnice SA', 'ZUE SA', 'ZUK Stąporków SA',\n       'Grupa Żywiec SA'], dtype=object)"
     },
     "execution_count": 493,
     "metadata": {},
     "output_type": "execute_result"
    }
   ],
   "source": [
    "full_merged_df['company_name'].unique()"
   ],
   "metadata": {
    "collapsed": false,
    "ExecuteTime": {
     "end_time": "2024-05-17T18:09:48.580293700Z",
     "start_time": "2024-05-17T18:09:48.545085Z"
    }
   },
   "id": "1873644e515c9005",
   "execution_count": 493
  },
  {
   "cell_type": "markdown",
   "source": [
    "## Feature Engineering"
   ],
   "metadata": {
    "collapsed": false
   },
   "id": "232b97bba5331d79"
  },
  {
   "cell_type": "code",
   "outputs": [
    {
     "data": {
      "text/plain": "      end_of_period  revenues_from_sales  operating_profitloss  \\\n0        2010-03-31                 66.0                   0.0   \n1        2010-09-30                129.0                   0.0   \n2        2010-12-31                228.0                   0.0   \n3        2011-03-31                144.0                   0.0   \n4        2011-06-30                959.0                   0.0   \n...             ...                  ...                   ...   \n19901    2021-09-30             995385.0              103668.0   \n19902    2021-12-31             733974.0               46890.0   \n19903    2022-03-31             696778.0                6649.0   \n19904    2022-06-30            1209418.0              101579.0   \n19905    2022-09-30            1106635.0               61538.0   \n\n       net_profitloss_attributable_to_equity_holders_of_the_parent  \\\n0                                                  -16.0             \n1                                                  -26.0             \n2                                                 -198.0             \n3                                                  -50.0             \n4                                                  377.0             \n...                                                  ...             \n19901                                           104744.0             \n19902                                            32175.0             \n19903                                            -1246.0             \n19904                                            92625.0             \n19905                                            23844.0             \n\n       total_comprehensive_income_attributable_to_equity_holders  \\\n0                                                    0.0           \n1                                                    0.0           \n2                                                    0.0           \n3                                                    0.0           \n4                                                    0.0           \n...                                                  ...           \n19901                                           106250.0           \n19902                                            42434.0           \n19903                                            41367.0           \n19904                                            45386.0           \n19905                                            18814.0           \n\n       depreciation  cash_flow_from_operating_activities  \\\n0              29.0                                  0.0   \n1               6.0                                  0.0   \n2               0.0                                  0.0   \n3               0.0                                  0.0   \n4               7.0                                  0.0   \n...             ...                                  ...   \n19901       36985.0                             354390.0   \n19902       42311.0                              50929.0   \n19903       38391.0                              13967.0   \n19904       39932.0                             101877.0   \n19905       40212.0                             156461.0   \n\n       cash_flow_from_investing_activities  \\\n0                                      0.0   \n1                                      0.0   \n2                                      0.0   \n3                                      0.0   \n4                                      0.0   \n...                                    ...   \n19901                             -22037.0   \n19902                             -65863.0   \n19903                             -33280.0   \n19904                             -21179.0   \n19905                             -24386.0   \n\n       cash_flow_from_financing_activities  total_assets  ...  \\\n0                                      0.0          0.00  ...   \n1                                      0.0       1411.00  ...   \n2                                      0.0       1352.36  ...   \n3                                      0.0       1342.00  ...   \n4                                      0.0       1659.00  ...   \n...                                    ...           ...  ...   \n19901                            -433167.0    2649304.00  ...   \n19902                              30091.0    2508447.00  ...   \n19903                              57099.0    2741947.00  ...   \n19904                             -81990.0    2981239.00  ...   \n19905                            -117588.0    2733389.00  ...   \n\n       debt_service_ratio  rate_debt_security  leverage  asset_utilization  \\\n0                     0.0                 0.0       0.0                0.0   \n1                     0.0                 0.0       0.0                0.0   \n2                     0.0                 0.0       0.0                0.0   \n3                     0.0                 0.0       0.0                0.0   \n4                     0.0                 0.0       0.0                0.0   \n...                   ...                 ...       ...                ...   \n19901                 0.0                 0.0       0.0                0.0   \n19902                 0.0                 0.0       0.0                0.0   \n19903                 0.0                 0.0       0.0                0.0   \n19904                 0.0                 0.0       0.0                0.0   \n19905                 0.0                 0.0       0.0                0.0   \n\n       load_gross_profit  current_financial_liabilities  \\\n0                    0.0                            0.0   \n1                    0.0                            0.0   \n2                    0.0                            0.0   \n3                    0.0                            0.0   \n4                    0.0                            0.0   \n...                  ...                            ...   \n19901                0.0                            0.0   \n19902                0.0                            0.0   \n19903                0.0                            0.0   \n19904                0.0                            0.0   \n19905                0.0                            0.0   \n\n       noncurrent_financial_liabilities  total_liability       company_name  \\\n0                                   0.0              0.0  11 bit studios SA   \n1                                   0.0              0.0  11 bit studios SA   \n2                                   0.0              0.0  11 bit studios SA   \n3                                   0.0              0.0  11 bit studios SA   \n4                                   0.0              0.0  11 bit studios SA   \n...                                 ...              ...                ...   \n19901                               0.0              0.0    Grupa Żywiec SA   \n19902                               0.0              0.0    Grupa Żywiec SA   \n19903                               0.0              0.0    Grupa Żywiec SA   \n19904                               0.0              0.0    Grupa Żywiec SA   \n19905                               0.0              0.0    Grupa Żywiec SA   \n\n       sector  \n0         gry  \n1         gry  \n2         gry  \n3         gry  \n4         gry  \n...       ...  \n19901  napoje  \n19902  napoje  \n19903  napoje  \n19904  napoje  \n19905  napoje  \n\n[19906 rows x 108 columns]",
      "text/html": "<div>\n<style scoped>\n    .dataframe tbody tr th:only-of-type {\n        vertical-align: middle;\n    }\n\n    .dataframe tbody tr th {\n        vertical-align: top;\n    }\n\n    .dataframe thead th {\n        text-align: right;\n    }\n</style>\n<table border=\"1\" class=\"dataframe\">\n  <thead>\n    <tr style=\"text-align: right;\">\n      <th></th>\n      <th>end_of_period</th>\n      <th>revenues_from_sales</th>\n      <th>operating_profitloss</th>\n      <th>net_profitloss_attributable_to_equity_holders_of_the_parent</th>\n      <th>total_comprehensive_income_attributable_to_equity_holders</th>\n      <th>depreciation</th>\n      <th>cash_flow_from_operating_activities</th>\n      <th>cash_flow_from_investing_activities</th>\n      <th>cash_flow_from_financing_activities</th>\n      <th>total_assets</th>\n      <th>...</th>\n      <th>debt_service_ratio</th>\n      <th>rate_debt_security</th>\n      <th>leverage</th>\n      <th>asset_utilization</th>\n      <th>load_gross_profit</th>\n      <th>current_financial_liabilities</th>\n      <th>noncurrent_financial_liabilities</th>\n      <th>total_liability</th>\n      <th>company_name</th>\n      <th>sector</th>\n    </tr>\n  </thead>\n  <tbody>\n    <tr>\n      <th>0</th>\n      <td>2010-03-31</td>\n      <td>66.0</td>\n      <td>0.0</td>\n      <td>-16.0</td>\n      <td>0.0</td>\n      <td>29.0</td>\n      <td>0.0</td>\n      <td>0.0</td>\n      <td>0.0</td>\n      <td>0.00</td>\n      <td>...</td>\n      <td>0.0</td>\n      <td>0.0</td>\n      <td>0.0</td>\n      <td>0.0</td>\n      <td>0.0</td>\n      <td>0.0</td>\n      <td>0.0</td>\n      <td>0.0</td>\n      <td>11 bit studios SA</td>\n      <td>gry</td>\n    </tr>\n    <tr>\n      <th>1</th>\n      <td>2010-09-30</td>\n      <td>129.0</td>\n      <td>0.0</td>\n      <td>-26.0</td>\n      <td>0.0</td>\n      <td>6.0</td>\n      <td>0.0</td>\n      <td>0.0</td>\n      <td>0.0</td>\n      <td>1411.00</td>\n      <td>...</td>\n      <td>0.0</td>\n      <td>0.0</td>\n      <td>0.0</td>\n      <td>0.0</td>\n      <td>0.0</td>\n      <td>0.0</td>\n      <td>0.0</td>\n      <td>0.0</td>\n      <td>11 bit studios SA</td>\n      <td>gry</td>\n    </tr>\n    <tr>\n      <th>2</th>\n      <td>2010-12-31</td>\n      <td>228.0</td>\n      <td>0.0</td>\n      <td>-198.0</td>\n      <td>0.0</td>\n      <td>0.0</td>\n      <td>0.0</td>\n      <td>0.0</td>\n      <td>0.0</td>\n      <td>1352.36</td>\n      <td>...</td>\n      <td>0.0</td>\n      <td>0.0</td>\n      <td>0.0</td>\n      <td>0.0</td>\n      <td>0.0</td>\n      <td>0.0</td>\n      <td>0.0</td>\n      <td>0.0</td>\n      <td>11 bit studios SA</td>\n      <td>gry</td>\n    </tr>\n    <tr>\n      <th>3</th>\n      <td>2011-03-31</td>\n      <td>144.0</td>\n      <td>0.0</td>\n      <td>-50.0</td>\n      <td>0.0</td>\n      <td>0.0</td>\n      <td>0.0</td>\n      <td>0.0</td>\n      <td>0.0</td>\n      <td>1342.00</td>\n      <td>...</td>\n      <td>0.0</td>\n      <td>0.0</td>\n      <td>0.0</td>\n      <td>0.0</td>\n      <td>0.0</td>\n      <td>0.0</td>\n      <td>0.0</td>\n      <td>0.0</td>\n      <td>11 bit studios SA</td>\n      <td>gry</td>\n    </tr>\n    <tr>\n      <th>4</th>\n      <td>2011-06-30</td>\n      <td>959.0</td>\n      <td>0.0</td>\n      <td>377.0</td>\n      <td>0.0</td>\n      <td>7.0</td>\n      <td>0.0</td>\n      <td>0.0</td>\n      <td>0.0</td>\n      <td>1659.00</td>\n      <td>...</td>\n      <td>0.0</td>\n      <td>0.0</td>\n      <td>0.0</td>\n      <td>0.0</td>\n      <td>0.0</td>\n      <td>0.0</td>\n      <td>0.0</td>\n      <td>0.0</td>\n      <td>11 bit studios SA</td>\n      <td>gry</td>\n    </tr>\n    <tr>\n      <th>...</th>\n      <td>...</td>\n      <td>...</td>\n      <td>...</td>\n      <td>...</td>\n      <td>...</td>\n      <td>...</td>\n      <td>...</td>\n      <td>...</td>\n      <td>...</td>\n      <td>...</td>\n      <td>...</td>\n      <td>...</td>\n      <td>...</td>\n      <td>...</td>\n      <td>...</td>\n      <td>...</td>\n      <td>...</td>\n      <td>...</td>\n      <td>...</td>\n      <td>...</td>\n      <td>...</td>\n    </tr>\n    <tr>\n      <th>19901</th>\n      <td>2021-09-30</td>\n      <td>995385.0</td>\n      <td>103668.0</td>\n      <td>104744.0</td>\n      <td>106250.0</td>\n      <td>36985.0</td>\n      <td>354390.0</td>\n      <td>-22037.0</td>\n      <td>-433167.0</td>\n      <td>2649304.00</td>\n      <td>...</td>\n      <td>0.0</td>\n      <td>0.0</td>\n      <td>0.0</td>\n      <td>0.0</td>\n      <td>0.0</td>\n      <td>0.0</td>\n      <td>0.0</td>\n      <td>0.0</td>\n      <td>Grupa Żywiec SA</td>\n      <td>napoje</td>\n    </tr>\n    <tr>\n      <th>19902</th>\n      <td>2021-12-31</td>\n      <td>733974.0</td>\n      <td>46890.0</td>\n      <td>32175.0</td>\n      <td>42434.0</td>\n      <td>42311.0</td>\n      <td>50929.0</td>\n      <td>-65863.0</td>\n      <td>30091.0</td>\n      <td>2508447.00</td>\n      <td>...</td>\n      <td>0.0</td>\n      <td>0.0</td>\n      <td>0.0</td>\n      <td>0.0</td>\n      <td>0.0</td>\n      <td>0.0</td>\n      <td>0.0</td>\n      <td>0.0</td>\n      <td>Grupa Żywiec SA</td>\n      <td>napoje</td>\n    </tr>\n    <tr>\n      <th>19903</th>\n      <td>2022-03-31</td>\n      <td>696778.0</td>\n      <td>6649.0</td>\n      <td>-1246.0</td>\n      <td>41367.0</td>\n      <td>38391.0</td>\n      <td>13967.0</td>\n      <td>-33280.0</td>\n      <td>57099.0</td>\n      <td>2741947.00</td>\n      <td>...</td>\n      <td>0.0</td>\n      <td>0.0</td>\n      <td>0.0</td>\n      <td>0.0</td>\n      <td>0.0</td>\n      <td>0.0</td>\n      <td>0.0</td>\n      <td>0.0</td>\n      <td>Grupa Żywiec SA</td>\n      <td>napoje</td>\n    </tr>\n    <tr>\n      <th>19904</th>\n      <td>2022-06-30</td>\n      <td>1209418.0</td>\n      <td>101579.0</td>\n      <td>92625.0</td>\n      <td>45386.0</td>\n      <td>39932.0</td>\n      <td>101877.0</td>\n      <td>-21179.0</td>\n      <td>-81990.0</td>\n      <td>2981239.00</td>\n      <td>...</td>\n      <td>0.0</td>\n      <td>0.0</td>\n      <td>0.0</td>\n      <td>0.0</td>\n      <td>0.0</td>\n      <td>0.0</td>\n      <td>0.0</td>\n      <td>0.0</td>\n      <td>Grupa Żywiec SA</td>\n      <td>napoje</td>\n    </tr>\n    <tr>\n      <th>19905</th>\n      <td>2022-09-30</td>\n      <td>1106635.0</td>\n      <td>61538.0</td>\n      <td>23844.0</td>\n      <td>18814.0</td>\n      <td>40212.0</td>\n      <td>156461.0</td>\n      <td>-24386.0</td>\n      <td>-117588.0</td>\n      <td>2733389.00</td>\n      <td>...</td>\n      <td>0.0</td>\n      <td>0.0</td>\n      <td>0.0</td>\n      <td>0.0</td>\n      <td>0.0</td>\n      <td>0.0</td>\n      <td>0.0</td>\n      <td>0.0</td>\n      <td>Grupa Żywiec SA</td>\n      <td>napoje</td>\n    </tr>\n  </tbody>\n</table>\n<p>19906 rows × 108 columns</p>\n</div>"
     },
     "execution_count": 495,
     "metadata": {},
     "output_type": "execute_result"
    }
   ],
   "source": [
    "full_merged_df"
   ],
   "metadata": {
    "collapsed": false,
    "ExecuteTime": {
     "end_time": "2024-05-17T18:09:48.619486800Z",
     "start_time": "2024-05-17T18:09:48.559193200Z"
    }
   },
   "id": "5995746311725b04",
   "execution_count": 495
  },
  {
   "cell_type": "code",
   "outputs": [],
   "source": [
    "#TODO do kolumny ticker dodać string '.WA'"
   ],
   "metadata": {
    "collapsed": false
   },
   "id": "6e58ffc1280aa84c"
  },
  {
   "cell_type": "code",
   "outputs": [],
   "source": [],
   "metadata": {
    "collapsed": false
   },
   "id": "33ff678d7be6f288"
  },
  {
   "cell_type": "code",
   "outputs": [],
   "source": [
    "#TODO wywołać funkcję get_market_value i dodać tą wartość do nowej kolumny 'target'"
   ],
   "metadata": {
    "collapsed": false
   },
   "id": "43b92a5dffd646a0"
  },
  {
   "cell_type": "code",
   "outputs": [],
   "source": [],
   "metadata": {
    "collapsed": false
   },
   "id": "8c46cf3ea45e1970"
  },
  {
   "cell_type": "code",
   "outputs": [],
   "source": [
    "#TODO sortujesz wartość w df'ie po nazwie firmy i dacie\n",
    "# wygodnie będzie przełożyć nazwe firmy i end_of_period na przednie kolumny\n",
    "full_merged_df = full_merged_df.sort_values(by=['filename', 'end_of_period'])"
   ],
   "metadata": {
    "collapsed": false
   },
   "id": "8a6f76b5f536bb9"
  },
  {
   "cell_type": "code",
   "outputs": [],
   "source": [
    "#TODO FEATURE ENGINEERING trzeba dodać kolumne, która liczy wartości z poprzedniego kwartału, roku, 2 lat\n",
    "# UWAGA: \n",
    "\n",
    "# Change in capital or assets structure\n",
    "# feature: change in last quarter for each company (every major data attribute)\n",
    "# feature: change in last two quarters for each company (every major data attribute)\n",
    "# feature: change in last four quarters for each company (every major data attribute)"
   ],
   "metadata": {
    "collapsed": false
   },
   "id": "5533231f276316c4"
  },
  {
   "cell_type": "code",
   "outputs": [],
   "source": [],
   "metadata": {
    "collapsed": false
   },
   "id": "152cccb127139c8e"
  },
  {
   "cell_type": "markdown",
   "source": [
    "# NN DATA CLEANING (to póki co nieistotne - trzeba skończyć pelny plik, a potem wybrać sobie odpowiednie kolumny)"
   ],
   "metadata": {
    "collapsed": false
   },
   "id": "35095269fa863206"
  },
  {
   "cell_type": "code",
   "outputs": [],
   "source": [
    "#TODO tu będzie mniejszy dataframe z bardzie dokładnymi danymi do testowania wyników (pewnie da lepsze bo unikamy dużo szumu ze zbędnych kolumn)\n",
    "#TODO ten df ma być zrobiony z kolumn poniżej\n",
    "\n",
    "#column_mapping = {\n",
    "#    'financial_liabilities': 'total_liability',\n",
    "#    'aktywa': 'total_assets'\n",
    "#}"
   ],
   "metadata": {
    "collapsed": false
   },
   "id": "4bead22b0ea15848"
  },
  {
   "cell_type": "code",
   "outputs": [],
   "source": [
    "columns_to_keep = [\n",
    "    'filename',\n",
    "    # Additional Information\n",
    "    'Current financial liabilities',\n",
    "    'Non-current financial liabilities',\n",
    "    'Financial liabilities (total)',\n",
    "    \n",
    "    # DuPont Indicators\n",
    "    'Return on equity (ROE)',\n",
    "    'Return on assets (ROA)',\n",
    "    'Leverage (EM)',\n",
    "    'Net profit margin',\n",
    "    'Asset utilization (AU)', # assets_utilization\n",
    "\n",
    "    # Indicators\n",
    "    'Current ratio', #curent_ratio\n",
    "    'Quick ratio',\n",
    "    'Cash ratio',\n",
    "    'Receivables turnover',\n",
    "    'Inventory turnover',\n",
    "    'The operating cycle',\n",
    "    'Rotation commitments',\n",
    "    'Cash conversion cycle',\n",
    "    'Rotation assets',\n",
    "    'Rotation of assets',\n",
    "    'Assets ratio',\n",
    "    'Debt ratio',\n",
    "    'Debt service ratio',\n",
    "    'Rate debt security',\n",
    "    \n",
    "    # Basic Information\n",
    "    'End of period',\n",
    "    \n",
    "    # Aktywa (Assets)\n",
    "    'Non-current assets',\n",
    "    'Current assets',\n",
    "    \n",
    "    # Pasywa (Liabilities)\n",
    "    'Equity shareholders of the parent',\n",
    "    'Non-current liabilities',\n",
    "    'Current liabilities'\n",
    "]"
   ],
   "metadata": {
    "collapsed": false,
    "ExecuteTime": {
     "end_time": "2024-05-17T18:09:48.621487200Z",
     "start_time": "2024-05-17T18:09:48.585810700Z"
    }
   },
   "id": "cdff237650b9046d",
   "execution_count": 496
  },
  {
   "cell_type": "code",
   "outputs": [
    {
     "ename": "FileNotFoundError",
     "evalue": "[Errno 2] No such file or directory: 'dataframes/nn_gpw_data.csv'",
     "output_type": "error",
     "traceback": [
      "\u001B[1;31m---------------------------------------------------------------------------\u001B[0m",
      "\u001B[1;31mFileNotFoundError\u001B[0m                         Traceback (most recent call last)",
      "Cell \u001B[1;32mIn[497], line 1\u001B[0m\n\u001B[1;32m----> 1\u001B[0m nn_data \u001B[38;5;241m=\u001B[39m \u001B[43mpd\u001B[49m\u001B[38;5;241;43m.\u001B[39;49m\u001B[43mread_csv\u001B[49m\u001B[43m(\u001B[49m\u001B[38;5;124;43m\"\u001B[39;49m\u001B[38;5;124;43mdataframes/nn_gpw_data.csv\u001B[39;49m\u001B[38;5;124;43m\"\u001B[39;49m\u001B[43m)\u001B[49m\n",
      "File \u001B[1;32m~\\PycharmProjects\\financial-forecast-cnn-lstm\\.venv\\Lib\\site-packages\\pandas\\io\\parsers\\readers.py:1026\u001B[0m, in \u001B[0;36mread_csv\u001B[1;34m(filepath_or_buffer, sep, delimiter, header, names, index_col, usecols, dtype, engine, converters, true_values, false_values, skipinitialspace, skiprows, skipfooter, nrows, na_values, keep_default_na, na_filter, verbose, skip_blank_lines, parse_dates, infer_datetime_format, keep_date_col, date_parser, date_format, dayfirst, cache_dates, iterator, chunksize, compression, thousands, decimal, lineterminator, quotechar, quoting, doublequote, escapechar, comment, encoding, encoding_errors, dialect, on_bad_lines, delim_whitespace, low_memory, memory_map, float_precision, storage_options, dtype_backend)\u001B[0m\n\u001B[0;32m   1013\u001B[0m kwds_defaults \u001B[38;5;241m=\u001B[39m _refine_defaults_read(\n\u001B[0;32m   1014\u001B[0m     dialect,\n\u001B[0;32m   1015\u001B[0m     delimiter,\n\u001B[1;32m   (...)\u001B[0m\n\u001B[0;32m   1022\u001B[0m     dtype_backend\u001B[38;5;241m=\u001B[39mdtype_backend,\n\u001B[0;32m   1023\u001B[0m )\n\u001B[0;32m   1024\u001B[0m kwds\u001B[38;5;241m.\u001B[39mupdate(kwds_defaults)\n\u001B[1;32m-> 1026\u001B[0m \u001B[38;5;28;01mreturn\u001B[39;00m \u001B[43m_read\u001B[49m\u001B[43m(\u001B[49m\u001B[43mfilepath_or_buffer\u001B[49m\u001B[43m,\u001B[49m\u001B[43m \u001B[49m\u001B[43mkwds\u001B[49m\u001B[43m)\u001B[49m\n",
      "File \u001B[1;32m~\\PycharmProjects\\financial-forecast-cnn-lstm\\.venv\\Lib\\site-packages\\pandas\\io\\parsers\\readers.py:620\u001B[0m, in \u001B[0;36m_read\u001B[1;34m(filepath_or_buffer, kwds)\u001B[0m\n\u001B[0;32m    617\u001B[0m _validate_names(kwds\u001B[38;5;241m.\u001B[39mget(\u001B[38;5;124m\"\u001B[39m\u001B[38;5;124mnames\u001B[39m\u001B[38;5;124m\"\u001B[39m, \u001B[38;5;28;01mNone\u001B[39;00m))\n\u001B[0;32m    619\u001B[0m \u001B[38;5;66;03m# Create the parser.\u001B[39;00m\n\u001B[1;32m--> 620\u001B[0m parser \u001B[38;5;241m=\u001B[39m \u001B[43mTextFileReader\u001B[49m\u001B[43m(\u001B[49m\u001B[43mfilepath_or_buffer\u001B[49m\u001B[43m,\u001B[49m\u001B[43m \u001B[49m\u001B[38;5;241;43m*\u001B[39;49m\u001B[38;5;241;43m*\u001B[39;49m\u001B[43mkwds\u001B[49m\u001B[43m)\u001B[49m\n\u001B[0;32m    622\u001B[0m \u001B[38;5;28;01mif\u001B[39;00m chunksize \u001B[38;5;129;01mor\u001B[39;00m iterator:\n\u001B[0;32m    623\u001B[0m     \u001B[38;5;28;01mreturn\u001B[39;00m parser\n",
      "File \u001B[1;32m~\\PycharmProjects\\financial-forecast-cnn-lstm\\.venv\\Lib\\site-packages\\pandas\\io\\parsers\\readers.py:1620\u001B[0m, in \u001B[0;36mTextFileReader.__init__\u001B[1;34m(self, f, engine, **kwds)\u001B[0m\n\u001B[0;32m   1617\u001B[0m     \u001B[38;5;28mself\u001B[39m\u001B[38;5;241m.\u001B[39moptions[\u001B[38;5;124m\"\u001B[39m\u001B[38;5;124mhas_index_names\u001B[39m\u001B[38;5;124m\"\u001B[39m] \u001B[38;5;241m=\u001B[39m kwds[\u001B[38;5;124m\"\u001B[39m\u001B[38;5;124mhas_index_names\u001B[39m\u001B[38;5;124m\"\u001B[39m]\n\u001B[0;32m   1619\u001B[0m \u001B[38;5;28mself\u001B[39m\u001B[38;5;241m.\u001B[39mhandles: IOHandles \u001B[38;5;241m|\u001B[39m \u001B[38;5;28;01mNone\u001B[39;00m \u001B[38;5;241m=\u001B[39m \u001B[38;5;28;01mNone\u001B[39;00m\n\u001B[1;32m-> 1620\u001B[0m \u001B[38;5;28mself\u001B[39m\u001B[38;5;241m.\u001B[39m_engine \u001B[38;5;241m=\u001B[39m \u001B[38;5;28;43mself\u001B[39;49m\u001B[38;5;241;43m.\u001B[39;49m\u001B[43m_make_engine\u001B[49m\u001B[43m(\u001B[49m\u001B[43mf\u001B[49m\u001B[43m,\u001B[49m\u001B[43m \u001B[49m\u001B[38;5;28;43mself\u001B[39;49m\u001B[38;5;241;43m.\u001B[39;49m\u001B[43mengine\u001B[49m\u001B[43m)\u001B[49m\n",
      "File \u001B[1;32m~\\PycharmProjects\\financial-forecast-cnn-lstm\\.venv\\Lib\\site-packages\\pandas\\io\\parsers\\readers.py:1880\u001B[0m, in \u001B[0;36mTextFileReader._make_engine\u001B[1;34m(self, f, engine)\u001B[0m\n\u001B[0;32m   1878\u001B[0m     \u001B[38;5;28;01mif\u001B[39;00m \u001B[38;5;124m\"\u001B[39m\u001B[38;5;124mb\u001B[39m\u001B[38;5;124m\"\u001B[39m \u001B[38;5;129;01mnot\u001B[39;00m \u001B[38;5;129;01min\u001B[39;00m mode:\n\u001B[0;32m   1879\u001B[0m         mode \u001B[38;5;241m+\u001B[39m\u001B[38;5;241m=\u001B[39m \u001B[38;5;124m\"\u001B[39m\u001B[38;5;124mb\u001B[39m\u001B[38;5;124m\"\u001B[39m\n\u001B[1;32m-> 1880\u001B[0m \u001B[38;5;28mself\u001B[39m\u001B[38;5;241m.\u001B[39mhandles \u001B[38;5;241m=\u001B[39m \u001B[43mget_handle\u001B[49m\u001B[43m(\u001B[49m\n\u001B[0;32m   1881\u001B[0m \u001B[43m    \u001B[49m\u001B[43mf\u001B[49m\u001B[43m,\u001B[49m\n\u001B[0;32m   1882\u001B[0m \u001B[43m    \u001B[49m\u001B[43mmode\u001B[49m\u001B[43m,\u001B[49m\n\u001B[0;32m   1883\u001B[0m \u001B[43m    \u001B[49m\u001B[43mencoding\u001B[49m\u001B[38;5;241;43m=\u001B[39;49m\u001B[38;5;28;43mself\u001B[39;49m\u001B[38;5;241;43m.\u001B[39;49m\u001B[43moptions\u001B[49m\u001B[38;5;241;43m.\u001B[39;49m\u001B[43mget\u001B[49m\u001B[43m(\u001B[49m\u001B[38;5;124;43m\"\u001B[39;49m\u001B[38;5;124;43mencoding\u001B[39;49m\u001B[38;5;124;43m\"\u001B[39;49m\u001B[43m,\u001B[49m\u001B[43m \u001B[49m\u001B[38;5;28;43;01mNone\u001B[39;49;00m\u001B[43m)\u001B[49m\u001B[43m,\u001B[49m\n\u001B[0;32m   1884\u001B[0m \u001B[43m    \u001B[49m\u001B[43mcompression\u001B[49m\u001B[38;5;241;43m=\u001B[39;49m\u001B[38;5;28;43mself\u001B[39;49m\u001B[38;5;241;43m.\u001B[39;49m\u001B[43moptions\u001B[49m\u001B[38;5;241;43m.\u001B[39;49m\u001B[43mget\u001B[49m\u001B[43m(\u001B[49m\u001B[38;5;124;43m\"\u001B[39;49m\u001B[38;5;124;43mcompression\u001B[39;49m\u001B[38;5;124;43m\"\u001B[39;49m\u001B[43m,\u001B[49m\u001B[43m \u001B[49m\u001B[38;5;28;43;01mNone\u001B[39;49;00m\u001B[43m)\u001B[49m\u001B[43m,\u001B[49m\n\u001B[0;32m   1885\u001B[0m \u001B[43m    \u001B[49m\u001B[43mmemory_map\u001B[49m\u001B[38;5;241;43m=\u001B[39;49m\u001B[38;5;28;43mself\u001B[39;49m\u001B[38;5;241;43m.\u001B[39;49m\u001B[43moptions\u001B[49m\u001B[38;5;241;43m.\u001B[39;49m\u001B[43mget\u001B[49m\u001B[43m(\u001B[49m\u001B[38;5;124;43m\"\u001B[39;49m\u001B[38;5;124;43mmemory_map\u001B[39;49m\u001B[38;5;124;43m\"\u001B[39;49m\u001B[43m,\u001B[49m\u001B[43m \u001B[49m\u001B[38;5;28;43;01mFalse\u001B[39;49;00m\u001B[43m)\u001B[49m\u001B[43m,\u001B[49m\n\u001B[0;32m   1886\u001B[0m \u001B[43m    \u001B[49m\u001B[43mis_text\u001B[49m\u001B[38;5;241;43m=\u001B[39;49m\u001B[43mis_text\u001B[49m\u001B[43m,\u001B[49m\n\u001B[0;32m   1887\u001B[0m \u001B[43m    \u001B[49m\u001B[43merrors\u001B[49m\u001B[38;5;241;43m=\u001B[39;49m\u001B[38;5;28;43mself\u001B[39;49m\u001B[38;5;241;43m.\u001B[39;49m\u001B[43moptions\u001B[49m\u001B[38;5;241;43m.\u001B[39;49m\u001B[43mget\u001B[49m\u001B[43m(\u001B[49m\u001B[38;5;124;43m\"\u001B[39;49m\u001B[38;5;124;43mencoding_errors\u001B[39;49m\u001B[38;5;124;43m\"\u001B[39;49m\u001B[43m,\u001B[49m\u001B[43m \u001B[49m\u001B[38;5;124;43m\"\u001B[39;49m\u001B[38;5;124;43mstrict\u001B[39;49m\u001B[38;5;124;43m\"\u001B[39;49m\u001B[43m)\u001B[49m\u001B[43m,\u001B[49m\n\u001B[0;32m   1888\u001B[0m \u001B[43m    \u001B[49m\u001B[43mstorage_options\u001B[49m\u001B[38;5;241;43m=\u001B[39;49m\u001B[38;5;28;43mself\u001B[39;49m\u001B[38;5;241;43m.\u001B[39;49m\u001B[43moptions\u001B[49m\u001B[38;5;241;43m.\u001B[39;49m\u001B[43mget\u001B[49m\u001B[43m(\u001B[49m\u001B[38;5;124;43m\"\u001B[39;49m\u001B[38;5;124;43mstorage_options\u001B[39;49m\u001B[38;5;124;43m\"\u001B[39;49m\u001B[43m,\u001B[49m\u001B[43m \u001B[49m\u001B[38;5;28;43;01mNone\u001B[39;49;00m\u001B[43m)\u001B[49m\u001B[43m,\u001B[49m\n\u001B[0;32m   1889\u001B[0m \u001B[43m\u001B[49m\u001B[43m)\u001B[49m\n\u001B[0;32m   1890\u001B[0m \u001B[38;5;28;01massert\u001B[39;00m \u001B[38;5;28mself\u001B[39m\u001B[38;5;241m.\u001B[39mhandles \u001B[38;5;129;01mis\u001B[39;00m \u001B[38;5;129;01mnot\u001B[39;00m \u001B[38;5;28;01mNone\u001B[39;00m\n\u001B[0;32m   1891\u001B[0m f \u001B[38;5;241m=\u001B[39m \u001B[38;5;28mself\u001B[39m\u001B[38;5;241m.\u001B[39mhandles\u001B[38;5;241m.\u001B[39mhandle\n",
      "File \u001B[1;32m~\\PycharmProjects\\financial-forecast-cnn-lstm\\.venv\\Lib\\site-packages\\pandas\\io\\common.py:873\u001B[0m, in \u001B[0;36mget_handle\u001B[1;34m(path_or_buf, mode, encoding, compression, memory_map, is_text, errors, storage_options)\u001B[0m\n\u001B[0;32m    868\u001B[0m \u001B[38;5;28;01melif\u001B[39;00m \u001B[38;5;28misinstance\u001B[39m(handle, \u001B[38;5;28mstr\u001B[39m):\n\u001B[0;32m    869\u001B[0m     \u001B[38;5;66;03m# Check whether the filename is to be opened in binary mode.\u001B[39;00m\n\u001B[0;32m    870\u001B[0m     \u001B[38;5;66;03m# Binary mode does not support 'encoding' and 'newline'.\u001B[39;00m\n\u001B[0;32m    871\u001B[0m     \u001B[38;5;28;01mif\u001B[39;00m ioargs\u001B[38;5;241m.\u001B[39mencoding \u001B[38;5;129;01mand\u001B[39;00m \u001B[38;5;124m\"\u001B[39m\u001B[38;5;124mb\u001B[39m\u001B[38;5;124m\"\u001B[39m \u001B[38;5;129;01mnot\u001B[39;00m \u001B[38;5;129;01min\u001B[39;00m ioargs\u001B[38;5;241m.\u001B[39mmode:\n\u001B[0;32m    872\u001B[0m         \u001B[38;5;66;03m# Encoding\u001B[39;00m\n\u001B[1;32m--> 873\u001B[0m         handle \u001B[38;5;241m=\u001B[39m \u001B[38;5;28;43mopen\u001B[39;49m\u001B[43m(\u001B[49m\n\u001B[0;32m    874\u001B[0m \u001B[43m            \u001B[49m\u001B[43mhandle\u001B[49m\u001B[43m,\u001B[49m\n\u001B[0;32m    875\u001B[0m \u001B[43m            \u001B[49m\u001B[43mioargs\u001B[49m\u001B[38;5;241;43m.\u001B[39;49m\u001B[43mmode\u001B[49m\u001B[43m,\u001B[49m\n\u001B[0;32m    876\u001B[0m \u001B[43m            \u001B[49m\u001B[43mencoding\u001B[49m\u001B[38;5;241;43m=\u001B[39;49m\u001B[43mioargs\u001B[49m\u001B[38;5;241;43m.\u001B[39;49m\u001B[43mencoding\u001B[49m\u001B[43m,\u001B[49m\n\u001B[0;32m    877\u001B[0m \u001B[43m            \u001B[49m\u001B[43merrors\u001B[49m\u001B[38;5;241;43m=\u001B[39;49m\u001B[43merrors\u001B[49m\u001B[43m,\u001B[49m\n\u001B[0;32m    878\u001B[0m \u001B[43m            \u001B[49m\u001B[43mnewline\u001B[49m\u001B[38;5;241;43m=\u001B[39;49m\u001B[38;5;124;43m\"\u001B[39;49m\u001B[38;5;124;43m\"\u001B[39;49m\u001B[43m,\u001B[49m\n\u001B[0;32m    879\u001B[0m \u001B[43m        \u001B[49m\u001B[43m)\u001B[49m\n\u001B[0;32m    880\u001B[0m     \u001B[38;5;28;01melse\u001B[39;00m:\n\u001B[0;32m    881\u001B[0m         \u001B[38;5;66;03m# Binary mode\u001B[39;00m\n\u001B[0;32m    882\u001B[0m         handle \u001B[38;5;241m=\u001B[39m \u001B[38;5;28mopen\u001B[39m(handle, ioargs\u001B[38;5;241m.\u001B[39mmode)\n",
      "\u001B[1;31mFileNotFoundError\u001B[0m: [Errno 2] No such file or directory: 'dataframes/nn_gpw_data.csv'"
     ]
    }
   ],
   "source": [
    "nn_data = pd.read_csv(\"dataframes/nn_gpw_data.csv\")"
   ],
   "metadata": {
    "collapsed": false,
    "ExecuteTime": {
     "end_time": "2024-05-17T18:09:48.675303900Z",
     "start_time": "2024-05-17T18:09:48.591837800Z"
    }
   },
   "id": "e845adae4b4aa5b5",
   "execution_count": 497
  },
  {
   "cell_type": "code",
   "outputs": [],
   "source": [
    "nn_merged_df = pd.merge(nn_data, names_data, on='filename')"
   ],
   "metadata": {
    "collapsed": false,
    "ExecuteTime": {
     "start_time": "2024-05-17T18:09:48.652476300Z"
    }
   },
   "id": "2d05c7e25ae1ce43",
   "execution_count": null
  },
  {
   "cell_type": "code",
   "outputs": [],
   "source": [
    "nn_merged_df = nn_merged_df.sort_values(by=['filename', 'End of period'])"
   ],
   "metadata": {
    "collapsed": false,
    "ExecuteTime": {
     "start_time": "2024-05-17T18:09:48.654665600Z"
    }
   },
   "id": "a79ea712937983d0",
   "execution_count": null
  },
  {
   "cell_type": "code",
   "outputs": [],
   "source": [
    "nn_merged_df.columns = clean_column_names(nn_merged_df.columns)"
   ],
   "metadata": {
    "collapsed": false,
    "ExecuteTime": {
     "start_time": "2024-05-17T18:09:48.656147200Z"
    }
   },
   "id": "5f77c7e864901848",
   "execution_count": null
  },
  {
   "cell_type": "code",
   "outputs": [],
   "source": [],
   "metadata": {
    "collapsed": false,
    "ExecuteTime": {
     "start_time": "2024-05-17T18:09:48.658154800Z"
    }
   },
   "id": "23cd54e98f195d5b",
   "execution_count": null
  },
  {
   "cell_type": "code",
   "outputs": [],
   "source": [],
   "metadata": {
    "collapsed": false,
    "ExecuteTime": {
     "start_time": "2024-05-17T18:09:48.659154300Z"
    }
   },
   "id": "4d9a6d34aa30c75a",
   "execution_count": null
  },
  {
   "cell_type": "markdown",
   "source": [
    "# MINI DATAFRAME"
   ],
   "metadata": {
    "collapsed": false
   },
   "id": "4cf8add9d959a0a3"
  },
  {
   "cell_type": "code",
   "outputs": [],
   "source": [
    "#TODO tu będzie jeszcze mniej informacji, tylko te absolutnie najważniejsze (liczę że da najlepsze wyniki)"
   ],
   "metadata": {
    "collapsed": false,
    "ExecuteTime": {
     "start_time": "2024-05-17T18:09:48.660154700Z"
    }
   },
   "id": "7e9820595929574b",
   "execution_count": null
  },
  {
   "cell_type": "code",
   "outputs": [],
   "source": [
    "#TODO jeszcze muszę ogarnąć jakie kolumny tu będą"
   ],
   "metadata": {
    "collapsed": false
   },
   "id": "ce698e6505ca7b8"
  }
 ],
 "metadata": {
  "kernelspec": {
   "display_name": "Python 3",
   "language": "python",
   "name": "python3"
  },
  "language_info": {
   "codemirror_mode": {
    "name": "ipython",
    "version": 2
   },
   "file_extension": ".py",
   "mimetype": "text/x-python",
   "name": "python",
   "nbconvert_exporter": "python",
   "pygments_lexer": "ipython2",
   "version": "2.7.6"
  }
 },
 "nbformat": 4,
 "nbformat_minor": 5
}
