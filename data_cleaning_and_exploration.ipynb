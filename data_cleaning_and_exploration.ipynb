{
 "cells": [
  {
   "cell_type": "markdown",
   "source": [
    "# Notes\n",
    "WSZYSTKIE PLIKI SĄ IDENTYCZNE. WSZYSTKIE TO EXCEL - 14 kart\n",
    "Czyszczenie:\n",
    "•\tWszystkie NaN na 0\n",
    "•\tSkalowanie przed modelem\n",
    "•\tInżynieria cech (wskaźniki ekonomiczne, różnica miedzy każym z elementów)\n",
    "\n",
    "TESTY DO PRZEPROWADZENIA:\n",
    "•\tUwzglednienie wszystkiego\n",
    "•\tSkupienie sie na zmianach kapitałowych\n",
    "•\tOgraniczenie tylko główne wartości\n",
    "•\tGrupowanie po przedsiębiorstwie? \n",
    "\n",
    "Podsumowanie co wyciągnąć z pliku:\n",
    "Dodatkowa kolumna jako nazwa pliku\n",
    "C – nazwa kolumny w DF\n"
   ],
   "metadata": {
    "collapsed": false
   },
   "id": "748bed7b754d866e"
  },
  {
   "cell_type": "code",
   "outputs": [],
   "source": [
    "import pandas as pd\n",
    "import re\n",
    "from data_utils import *"
   ],
   "metadata": {
    "collapsed": false,
    "ExecuteTime": {
     "end_time": "2024-05-18T09:40:03.564787600Z",
     "start_time": "2024-05-18T09:40:03.365663700Z"
    }
   },
   "id": "d0e00dd47f67dade",
   "execution_count": 100
  },
  {
   "cell_type": "code",
   "outputs": [],
   "source": [
    "names_data = pd.read_csv('dataframes/names_gpw.csv')"
   ],
   "metadata": {
    "collapsed": false,
    "ExecuteTime": {
     "end_time": "2024-05-18T09:40:03.589192100Z",
     "start_time": "2024-05-18T09:40:03.566917400Z"
    }
   },
   "id": "fc9e9aadb88d719a",
   "execution_count": 101
  },
  {
   "cell_type": "code",
   "outputs": [],
   "source": [
    "def clean_column_names(columns):\n",
    "    cleaned_columns = []\n",
    "    for column in columns:\n",
    "        column = column.lower()\n",
    "        column = re.sub(r'\\(.*?\\)', '', column)\n",
    "        column = re.sub(r'[^\\w\\s]', '', column)\n",
    "        column = re.sub(r'\\s+', '_', column)\n",
    "        column = column.rstrip('_')\n",
    "        cleaned_columns.append(column)\n",
    "    return cleaned_columns"
   ],
   "metadata": {
    "collapsed": false,
    "ExecuteTime": {
     "end_time": "2024-05-18T09:40:03.593043200Z",
     "start_time": "2024-05-18T09:40:03.577101900Z"
    }
   },
   "id": "39c0550ebb412fe6",
   "execution_count": 102
  },
  {
   "cell_type": "code",
   "outputs": [],
   "source": [
    "def count_rows_by_filename(df):\n",
    "    counts = df.groupby('filename').size().reset_index(name='count')\n",
    "    return counts"
   ],
   "metadata": {
    "collapsed": false,
    "ExecuteTime": {
     "end_time": "2024-05-18T09:40:03.616263700Z",
     "start_time": "2024-05-18T09:40:03.595944900Z"
    }
   },
   "id": "766384bd5604cbc3",
   "execution_count": 103
  },
  {
   "cell_type": "markdown",
   "source": [
    "# FULL DF CLEARNING"
   ],
   "metadata": {
    "collapsed": false
   },
   "id": "ece792ab9822a192"
  },
  {
   "cell_type": "code",
   "outputs": [],
   "source": [
    "full_data = pd.read_csv(\"dataframes/dataframe_gpw.csv\")"
   ],
   "metadata": {
    "collapsed": false,
    "ExecuteTime": {
     "end_time": "2024-05-18T09:40:03.743695200Z",
     "start_time": "2024-05-18T09:40:03.618437800Z"
    }
   },
   "id": "f91a1aa223ae82ee",
   "execution_count": 104
  },
  {
   "cell_type": "code",
   "outputs": [],
   "source": [
    "data_gpw = pd.merge(full_data, names_data, on='filename')"
   ],
   "metadata": {
    "collapsed": false,
    "ExecuteTime": {
     "end_time": "2024-05-18T09:40:03.745879900Z",
     "start_time": "2024-05-18T09:40:03.722419100Z"
    }
   },
   "id": "b0a2b11f4fa8679a",
   "execution_count": 105
  },
  {
   "cell_type": "code",
   "outputs": [],
   "source": [
    "data_gpw = data_gpw.sort_values(by=['filename', 'End of period'])"
   ],
   "metadata": {
    "collapsed": false,
    "ExecuteTime": {
     "end_time": "2024-05-18T09:40:03.765045600Z",
     "start_time": "2024-05-18T09:40:03.733684200Z"
    }
   },
   "id": "69aadd961210c383",
   "execution_count": 106
  },
  {
   "cell_type": "code",
   "outputs": [],
   "source": [
    "data_gpw.columns = clean_column_names(data_gpw.columns)"
   ],
   "metadata": {
    "collapsed": false,
    "ExecuteTime": {
     "end_time": "2024-05-18T09:40:03.766164600Z",
     "start_time": "2024-05-18T09:40:03.747986200Z"
    }
   },
   "id": "cec52b55198fb780",
   "execution_count": 107
  },
  {
   "cell_type": "code",
   "outputs": [
    {
     "data": {
      "text/plain": "         filename  count\n0      11BIT.xlsx     49\n1      3LPSA.xlsx      6\n2    3RGAMES.xlsx     48\n3         AB.xlsx     70\n4         AC.xlsx     51\n..            ...    ...\n332     ZPUE.xlsx     95\n333  ZREMBCH.xlsx     65\n334      ZUE.xlsx     53\n335      ZUK.xlsx     67\n336   ZYWIEC.xlsx     99\n\n[337 rows x 2 columns]",
      "text/html": "<div>\n<style scoped>\n    .dataframe tbody tr th:only-of-type {\n        vertical-align: middle;\n    }\n\n    .dataframe tbody tr th {\n        vertical-align: top;\n    }\n\n    .dataframe thead th {\n        text-align: right;\n    }\n</style>\n<table border=\"1\" class=\"dataframe\">\n  <thead>\n    <tr style=\"text-align: right;\">\n      <th></th>\n      <th>filename</th>\n      <th>count</th>\n    </tr>\n  </thead>\n  <tbody>\n    <tr>\n      <th>0</th>\n      <td>11BIT.xlsx</td>\n      <td>49</td>\n    </tr>\n    <tr>\n      <th>1</th>\n      <td>3LPSA.xlsx</td>\n      <td>6</td>\n    </tr>\n    <tr>\n      <th>2</th>\n      <td>3RGAMES.xlsx</td>\n      <td>48</td>\n    </tr>\n    <tr>\n      <th>3</th>\n      <td>AB.xlsx</td>\n      <td>70</td>\n    </tr>\n    <tr>\n      <th>4</th>\n      <td>AC.xlsx</td>\n      <td>51</td>\n    </tr>\n    <tr>\n      <th>...</th>\n      <td>...</td>\n      <td>...</td>\n    </tr>\n    <tr>\n      <th>332</th>\n      <td>ZPUE.xlsx</td>\n      <td>95</td>\n    </tr>\n    <tr>\n      <th>333</th>\n      <td>ZREMBCH.xlsx</td>\n      <td>65</td>\n    </tr>\n    <tr>\n      <th>334</th>\n      <td>ZUE.xlsx</td>\n      <td>53</td>\n    </tr>\n    <tr>\n      <th>335</th>\n      <td>ZUK.xlsx</td>\n      <td>67</td>\n    </tr>\n    <tr>\n      <th>336</th>\n      <td>ZYWIEC.xlsx</td>\n      <td>99</td>\n    </tr>\n  </tbody>\n</table>\n<p>337 rows × 2 columns</p>\n</div>"
     },
     "execution_count": 108,
     "metadata": {},
     "output_type": "execute_result"
    }
   ],
   "source": [
    "count_rows_by_filename(data_gpw)"
   ],
   "metadata": {
    "collapsed": false,
    "ExecuteTime": {
     "end_time": "2024-05-18T09:40:03.768730700Z",
     "start_time": "2024-05-18T09:40:03.752317300Z"
    }
   },
   "id": "eed39f421586c0f4",
   "execution_count": 108
  },
  {
   "cell_type": "code",
   "outputs": [],
   "source": [
    "# Delete all companies under 4 because its not enough to cover any change in assets or liabilities\n",
    "filenames_to_remove = [\n",
    "    'SADOVAYA.xlsx',\n",
    "    'BMW.xlsx',\n",
    "    'KERNEL.xlsx',\n",
    "    'SILVANO.xlsx',\n",
    "    'IMCSA.xlsx',\n",
    "    'STSHOLDING.xlsx'\n",
    "]\n",
    "\n",
    "df_filtered = data_gpw[~data_gpw['filename'].isin(filenames_to_remove)]"
   ],
   "metadata": {
    "collapsed": false,
    "ExecuteTime": {
     "end_time": "2024-05-18T09:40:03.790669200Z",
     "start_time": "2024-05-18T09:40:03.768730700Z"
    }
   },
   "id": "f8e343b1603a2c69",
   "execution_count": 109
  },
  {
   "cell_type": "markdown",
   "source": [
    "## Missing data"
   ],
   "metadata": {
    "collapsed": false
   },
   "id": "79e48d14f54e4905"
  },
  {
   "cell_type": "code",
   "outputs": [
    {
     "data": {
      "text/plain": "end_of_period                                                      0\nrevenues_from_sales                                              945\noperating_profitloss                                             737\nnet_profitloss_attributable_to_equity_holders_of_the_parent      577\ntotal_comprehensive_income_attributable_to_equity_holders      17723\n                                                               ...  \nnoncurrent_financial_liabilities                               19906\nfinancial_liabilities                                          19906\ncompany_name                                                       0\nsector                                                            13\nticker                                                             0\nLength: 109, dtype: int64"
     },
     "execution_count": 110,
     "metadata": {},
     "output_type": "execute_result"
    }
   ],
   "source": [
    "data_gpw.isnull().sum()"
   ],
   "metadata": {
    "collapsed": false,
    "ExecuteTime": {
     "end_time": "2024-05-18T09:40:03.828507400Z",
     "start_time": "2024-05-18T09:40:03.776557Z"
    }
   },
   "id": "2466ce68bd13d51e",
   "execution_count": 110
  },
  {
   "cell_type": "code",
   "outputs": [
    {
     "data": {
      "text/plain": "      end_of_period  revenues_from_sales  operating_profitloss  \\\n49       2017-12-31                  NaN                   NaN   \n50       2018-12-31                  NaN                   NaN   \n51       2019-12-31                  NaN                   NaN   \n52       2020-12-31          34515.00000            3929.00000   \n53       2021-09-30                  NaN                   NaN   \n54       2021-12-31          39704.00000            3898.00000   \n2522     2020-12-31                  NaN                   NaN   \n2523     2021-12-31                  NaN                   NaN   \n18362    2019-12-31                  NaN                   NaN   \n18363    2020-12-31                  NaN                   NaN   \n18364    2021-06-30           1141.52579             302.65867   \n18365    2021-12-31                  NaN                   NaN   \n18366    2022-06-30            654.87351            -314.01440   \n\n       net_profitloss_attributable_to_equity_holders_of_the_parent  \\\n49                                                   NaN             \n50                                                   NaN             \n51                                                   NaN             \n52                                             138.00000             \n53                                                   NaN             \n54                                            2169.00000             \n2522                                                 NaN             \n2523                                                 NaN             \n18362                                                NaN             \n18363                                                NaN             \n18364                                          287.68307             \n18365                                                NaN             \n18366                                         -314.96840             \n\n       total_comprehensive_income_attributable_to_equity_holders  \\\n49                                                   NaN           \n50                                                   NaN           \n51                                                   NaN           \n52                                                 138.0           \n53                                                   NaN           \n54                                                2169.0           \n2522                                                 NaN           \n2523                                                 NaN           \n18362                                                NaN           \n18363                                                NaN           \n18364                                                NaN           \n18365                                                NaN           \n18366                                                NaN           \n\n       depreciation  cash_flow_from_operating_activities  \\\n49              NaN                                  NaN   \n50              NaN                                  NaN   \n51              NaN                                  NaN   \n52       4114.00000                           8513.00000   \n53              NaN                                  NaN   \n54       4459.00000                           5831.00000   \n2522            NaN                                  NaN   \n2523            NaN                                  NaN   \n18362           NaN                                  NaN   \n18363           NaN                                  NaN   \n18364           NaN                            466.14407   \n18365           NaN                                  NaN   \n18366       0.42365                           -114.99931   \n\n       cash_flow_from_investing_activities  \\\n49                                     NaN   \n50                                     NaN   \n51                                     NaN   \n52                             -3261.00000   \n53                                     NaN   \n54                             -2718.00000   \n2522                                   NaN   \n2523                                   NaN   \n18362                                  NaN   \n18363                                  NaN   \n18364                                  NaN   \n18365                                  NaN   \n18366                            -10.16748   \n\n       cash_flow_from_financing_activities        aktywa  ...  \\\n49                                     NaN  8.301800e+04  ...   \n50                                     NaN  1.053760e+05  ...   \n51                                     NaN  1.613490e+05  ...   \n52                              -5264.0000  1.640630e+05  ...   \n53                                     NaN  1.547040e+05  ...   \n54                              -3195.0000  1.571200e+05  ...   \n2522                                   NaN  2.166580e+08  ...   \n2523                                   NaN  2.295270e+08  ...   \n18362                                  NaN  1.065330e+03  ...   \n18363                                  NaN  3.348397e+03  ...   \n18364                            -742.2988  2.882571e+03  ...   \n18365                                  NaN  3.526614e+03  ...   \n18366                           -1035.0000  2.461432e+03  ...   \n\n       rate_debt_security  leverage  asset_utilization  load_gross_profit  \\\n49                    NaN       NaN                NaN                NaN   \n50                    NaN       NaN                NaN                NaN   \n51                    NaN       NaN                NaN                NaN   \n52                    NaN       NaN                NaN                NaN   \n53                    NaN       NaN                NaN                NaN   \n54                    NaN       NaN                NaN                NaN   \n2522                  NaN       NaN                NaN                NaN   \n2523                  NaN       NaN                NaN                NaN   \n18362                 NaN       NaN                NaN                NaN   \n18363                 NaN       NaN                NaN                NaN   \n18364                 NaN       NaN                NaN                NaN   \n18365                 NaN       NaN                NaN                NaN   \n18366                 NaN       NaN                NaN                NaN   \n\n       current_financial_liabilities  noncurrent_financial_liabilities  \\\n49                               NaN                               NaN   \n50                               NaN                               NaN   \n51                               NaN                               NaN   \n52                               NaN                               NaN   \n53                               NaN                               NaN   \n54                               NaN                               NaN   \n2522                             NaN                               NaN   \n2523                             NaN                               NaN   \n18362                            NaN                               NaN   \n18363                            NaN                               NaN   \n18364                            NaN                               NaN   \n18365                            NaN                               NaN   \n18366                            NaN                               NaN   \n\n       financial_liabilities  company_name  sector   ticker  \n49                       NaN        3LP SA     NaN  3LP_IPO  \n50                       NaN        3LP SA     NaN  3LP_IPO  \n51                       NaN        3LP SA     NaN  3LP_IPO  \n52                       NaN        3LP SA     NaN  3LP_IPO  \n53                       NaN        3LP SA     NaN  3LP_IPO  \n54                       NaN        3LP SA     NaN  3LP_IPO  \n2522                     NaN        BMW AG     NaN      BMW  \n2523                     NaN        BMW AG     NaN      BMW  \n18362                    NaN   Uf Games SA     NaN  UFG_IPO  \n18363                    NaN   Uf Games SA     NaN  UFG_IPO  \n18364                    NaN   Uf Games SA     NaN  UFG_IPO  \n18365                    NaN   Uf Games SA     NaN  UFG_IPO  \n18366                    NaN   Uf Games SA     NaN  UFG_IPO  \n\n[13 rows x 109 columns]",
      "text/html": "<div>\n<style scoped>\n    .dataframe tbody tr th:only-of-type {\n        vertical-align: middle;\n    }\n\n    .dataframe tbody tr th {\n        vertical-align: top;\n    }\n\n    .dataframe thead th {\n        text-align: right;\n    }\n</style>\n<table border=\"1\" class=\"dataframe\">\n  <thead>\n    <tr style=\"text-align: right;\">\n      <th></th>\n      <th>end_of_period</th>\n      <th>revenues_from_sales</th>\n      <th>operating_profitloss</th>\n      <th>net_profitloss_attributable_to_equity_holders_of_the_parent</th>\n      <th>total_comprehensive_income_attributable_to_equity_holders</th>\n      <th>depreciation</th>\n      <th>cash_flow_from_operating_activities</th>\n      <th>cash_flow_from_investing_activities</th>\n      <th>cash_flow_from_financing_activities</th>\n      <th>aktywa</th>\n      <th>...</th>\n      <th>rate_debt_security</th>\n      <th>leverage</th>\n      <th>asset_utilization</th>\n      <th>load_gross_profit</th>\n      <th>current_financial_liabilities</th>\n      <th>noncurrent_financial_liabilities</th>\n      <th>financial_liabilities</th>\n      <th>company_name</th>\n      <th>sector</th>\n      <th>ticker</th>\n    </tr>\n  </thead>\n  <tbody>\n    <tr>\n      <th>49</th>\n      <td>2017-12-31</td>\n      <td>NaN</td>\n      <td>NaN</td>\n      <td>NaN</td>\n      <td>NaN</td>\n      <td>NaN</td>\n      <td>NaN</td>\n      <td>NaN</td>\n      <td>NaN</td>\n      <td>8.301800e+04</td>\n      <td>...</td>\n      <td>NaN</td>\n      <td>NaN</td>\n      <td>NaN</td>\n      <td>NaN</td>\n      <td>NaN</td>\n      <td>NaN</td>\n      <td>NaN</td>\n      <td>3LP SA</td>\n      <td>NaN</td>\n      <td>3LP_IPO</td>\n    </tr>\n    <tr>\n      <th>50</th>\n      <td>2018-12-31</td>\n      <td>NaN</td>\n      <td>NaN</td>\n      <td>NaN</td>\n      <td>NaN</td>\n      <td>NaN</td>\n      <td>NaN</td>\n      <td>NaN</td>\n      <td>NaN</td>\n      <td>1.053760e+05</td>\n      <td>...</td>\n      <td>NaN</td>\n      <td>NaN</td>\n      <td>NaN</td>\n      <td>NaN</td>\n      <td>NaN</td>\n      <td>NaN</td>\n      <td>NaN</td>\n      <td>3LP SA</td>\n      <td>NaN</td>\n      <td>3LP_IPO</td>\n    </tr>\n    <tr>\n      <th>51</th>\n      <td>2019-12-31</td>\n      <td>NaN</td>\n      <td>NaN</td>\n      <td>NaN</td>\n      <td>NaN</td>\n      <td>NaN</td>\n      <td>NaN</td>\n      <td>NaN</td>\n      <td>NaN</td>\n      <td>1.613490e+05</td>\n      <td>...</td>\n      <td>NaN</td>\n      <td>NaN</td>\n      <td>NaN</td>\n      <td>NaN</td>\n      <td>NaN</td>\n      <td>NaN</td>\n      <td>NaN</td>\n      <td>3LP SA</td>\n      <td>NaN</td>\n      <td>3LP_IPO</td>\n    </tr>\n    <tr>\n      <th>52</th>\n      <td>2020-12-31</td>\n      <td>34515.00000</td>\n      <td>3929.00000</td>\n      <td>138.00000</td>\n      <td>138.0</td>\n      <td>4114.00000</td>\n      <td>8513.00000</td>\n      <td>-3261.00000</td>\n      <td>-5264.0000</td>\n      <td>1.640630e+05</td>\n      <td>...</td>\n      <td>NaN</td>\n      <td>NaN</td>\n      <td>NaN</td>\n      <td>NaN</td>\n      <td>NaN</td>\n      <td>NaN</td>\n      <td>NaN</td>\n      <td>3LP SA</td>\n      <td>NaN</td>\n      <td>3LP_IPO</td>\n    </tr>\n    <tr>\n      <th>53</th>\n      <td>2021-09-30</td>\n      <td>NaN</td>\n      <td>NaN</td>\n      <td>NaN</td>\n      <td>NaN</td>\n      <td>NaN</td>\n      <td>NaN</td>\n      <td>NaN</td>\n      <td>NaN</td>\n      <td>1.547040e+05</td>\n      <td>...</td>\n      <td>NaN</td>\n      <td>NaN</td>\n      <td>NaN</td>\n      <td>NaN</td>\n      <td>NaN</td>\n      <td>NaN</td>\n      <td>NaN</td>\n      <td>3LP SA</td>\n      <td>NaN</td>\n      <td>3LP_IPO</td>\n    </tr>\n    <tr>\n      <th>54</th>\n      <td>2021-12-31</td>\n      <td>39704.00000</td>\n      <td>3898.00000</td>\n      <td>2169.00000</td>\n      <td>2169.0</td>\n      <td>4459.00000</td>\n      <td>5831.00000</td>\n      <td>-2718.00000</td>\n      <td>-3195.0000</td>\n      <td>1.571200e+05</td>\n      <td>...</td>\n      <td>NaN</td>\n      <td>NaN</td>\n      <td>NaN</td>\n      <td>NaN</td>\n      <td>NaN</td>\n      <td>NaN</td>\n      <td>NaN</td>\n      <td>3LP SA</td>\n      <td>NaN</td>\n      <td>3LP_IPO</td>\n    </tr>\n    <tr>\n      <th>2522</th>\n      <td>2020-12-31</td>\n      <td>NaN</td>\n      <td>NaN</td>\n      <td>NaN</td>\n      <td>NaN</td>\n      <td>NaN</td>\n      <td>NaN</td>\n      <td>NaN</td>\n      <td>NaN</td>\n      <td>2.166580e+08</td>\n      <td>...</td>\n      <td>NaN</td>\n      <td>NaN</td>\n      <td>NaN</td>\n      <td>NaN</td>\n      <td>NaN</td>\n      <td>NaN</td>\n      <td>NaN</td>\n      <td>BMW AG</td>\n      <td>NaN</td>\n      <td>BMW</td>\n    </tr>\n    <tr>\n      <th>2523</th>\n      <td>2021-12-31</td>\n      <td>NaN</td>\n      <td>NaN</td>\n      <td>NaN</td>\n      <td>NaN</td>\n      <td>NaN</td>\n      <td>NaN</td>\n      <td>NaN</td>\n      <td>NaN</td>\n      <td>2.295270e+08</td>\n      <td>...</td>\n      <td>NaN</td>\n      <td>NaN</td>\n      <td>NaN</td>\n      <td>NaN</td>\n      <td>NaN</td>\n      <td>NaN</td>\n      <td>NaN</td>\n      <td>BMW AG</td>\n      <td>NaN</td>\n      <td>BMW</td>\n    </tr>\n    <tr>\n      <th>18362</th>\n      <td>2019-12-31</td>\n      <td>NaN</td>\n      <td>NaN</td>\n      <td>NaN</td>\n      <td>NaN</td>\n      <td>NaN</td>\n      <td>NaN</td>\n      <td>NaN</td>\n      <td>NaN</td>\n      <td>1.065330e+03</td>\n      <td>...</td>\n      <td>NaN</td>\n      <td>NaN</td>\n      <td>NaN</td>\n      <td>NaN</td>\n      <td>NaN</td>\n      <td>NaN</td>\n      <td>NaN</td>\n      <td>Uf Games SA</td>\n      <td>NaN</td>\n      <td>UFG_IPO</td>\n    </tr>\n    <tr>\n      <th>18363</th>\n      <td>2020-12-31</td>\n      <td>NaN</td>\n      <td>NaN</td>\n      <td>NaN</td>\n      <td>NaN</td>\n      <td>NaN</td>\n      <td>NaN</td>\n      <td>NaN</td>\n      <td>NaN</td>\n      <td>3.348397e+03</td>\n      <td>...</td>\n      <td>NaN</td>\n      <td>NaN</td>\n      <td>NaN</td>\n      <td>NaN</td>\n      <td>NaN</td>\n      <td>NaN</td>\n      <td>NaN</td>\n      <td>Uf Games SA</td>\n      <td>NaN</td>\n      <td>UFG_IPO</td>\n    </tr>\n    <tr>\n      <th>18364</th>\n      <td>2021-06-30</td>\n      <td>1141.52579</td>\n      <td>302.65867</td>\n      <td>287.68307</td>\n      <td>NaN</td>\n      <td>NaN</td>\n      <td>466.14407</td>\n      <td>NaN</td>\n      <td>-742.2988</td>\n      <td>2.882571e+03</td>\n      <td>...</td>\n      <td>NaN</td>\n      <td>NaN</td>\n      <td>NaN</td>\n      <td>NaN</td>\n      <td>NaN</td>\n      <td>NaN</td>\n      <td>NaN</td>\n      <td>Uf Games SA</td>\n      <td>NaN</td>\n      <td>UFG_IPO</td>\n    </tr>\n    <tr>\n      <th>18365</th>\n      <td>2021-12-31</td>\n      <td>NaN</td>\n      <td>NaN</td>\n      <td>NaN</td>\n      <td>NaN</td>\n      <td>NaN</td>\n      <td>NaN</td>\n      <td>NaN</td>\n      <td>NaN</td>\n      <td>3.526614e+03</td>\n      <td>...</td>\n      <td>NaN</td>\n      <td>NaN</td>\n      <td>NaN</td>\n      <td>NaN</td>\n      <td>NaN</td>\n      <td>NaN</td>\n      <td>NaN</td>\n      <td>Uf Games SA</td>\n      <td>NaN</td>\n      <td>UFG_IPO</td>\n    </tr>\n    <tr>\n      <th>18366</th>\n      <td>2022-06-30</td>\n      <td>654.87351</td>\n      <td>-314.01440</td>\n      <td>-314.96840</td>\n      <td>NaN</td>\n      <td>0.42365</td>\n      <td>-114.99931</td>\n      <td>-10.16748</td>\n      <td>-1035.0000</td>\n      <td>2.461432e+03</td>\n      <td>...</td>\n      <td>NaN</td>\n      <td>NaN</td>\n      <td>NaN</td>\n      <td>NaN</td>\n      <td>NaN</td>\n      <td>NaN</td>\n      <td>NaN</td>\n      <td>Uf Games SA</td>\n      <td>NaN</td>\n      <td>UFG_IPO</td>\n    </tr>\n  </tbody>\n</table>\n<p>13 rows × 109 columns</p>\n</div>"
     },
     "execution_count": 111,
     "metadata": {},
     "output_type": "execute_result"
    }
   ],
   "source": [
    "# Sektor NaN\n",
    "rows_with_nan_in_sektor = data_gpw[data_gpw['sector'].isna()]\n",
    "rows_with_nan_in_sektor"
   ],
   "metadata": {
    "collapsed": false,
    "ExecuteTime": {
     "end_time": "2024-05-18T09:40:03.857381Z",
     "start_time": "2024-05-18T09:40:03.805498200Z"
    }
   },
   "id": "4e4baa4bf4b7e8fb",
   "execution_count": 111
  },
  {
   "cell_type": "markdown",
   "source": [
    "# Notes\n",
    "Manually checking for each company\n",
    "\n",
    "3LP SA - handel\n",
    "BMW AG - motoryzacja\n",
    "Uf Games SA - gry\n"
   ],
   "metadata": {
    "collapsed": false
   },
   "id": "7456660b0f1bcdf1"
  },
  {
   "cell_type": "code",
   "outputs": [],
   "source": [
    "company_to_sector = {\n",
    "    '3LP SA': 'handel',\n",
    "    'BMW AG': 'motoryzacja',\n",
    "    'Uf Games SA': 'gry'\n",
    "}\n",
    "\n",
    "data_gpw['sector'] = data_gpw.apply(lambda row: company_to_sector[row['company_name']] if pd.isna(row['sector']) else row['sector'], axis=1)"
   ],
   "metadata": {
    "collapsed": false,
    "ExecuteTime": {
     "end_time": "2024-05-18T09:40:04.088996900Z",
     "start_time": "2024-05-18T09:40:03.834855600Z"
    }
   },
   "id": "7319f46aa1372b35",
   "execution_count": 112
  },
  {
   "cell_type": "code",
   "outputs": [],
   "source": [
    "# Rest of financial data - fill NaN with 0 (=no change)\n",
    "data_gpw = data_gpw.fillna(0)"
   ],
   "metadata": {
    "collapsed": false,
    "ExecuteTime": {
     "end_time": "2024-05-18T09:40:04.124047500Z",
     "start_time": "2024-05-18T09:40:04.080400100Z"
    }
   },
   "id": "fb24e9bf335b19e8",
   "execution_count": 113
  },
  {
   "cell_type": "code",
   "outputs": [
    {
     "data": {
      "text/plain": "['end_of_period',\n 'revenues_from_sales',\n 'operating_profitloss',\n 'net_profitloss_attributable_to_equity_holders_of_the_parent',\n 'total_comprehensive_income_attributable_to_equity_holders',\n 'depreciation',\n 'cash_flow_from_operating_activities',\n 'cash_flow_from_investing_activities',\n 'cash_flow_from_financing_activities',\n 'aktywa',\n 'noncurrent_assets',\n 'current_assets',\n 'equity_shareholders_of_the_parent',\n 'noncurrent_liabilities',\n 'current_liabilities',\n 'number_of_shares',\n 'earnings_per_share',\n 'total_comprehensive_income_per_share',\n 'book_value_per_share',\n 'accounting_standard',\n 'filename',\n 'property_plant_and_equipment',\n 'exploration_for_and_evaluation_of_mineral_resources',\n 'intangible_assets',\n 'goodwill',\n 'investment_property',\n 'rightofuse_assets',\n 'investment_in_affiliates',\n 'noncurrent_financial_assets',\n 'noncurrent_loans_and_receivables',\n 'deferred_income_tax',\n 'noncurrent_deferred_charges_and_accruals',\n 'noncurrent_derivative_instruments',\n 'other_noncurrent_assets',\n 'inventories',\n 'current_intangible_assets',\n 'biological_assets',\n 'trade_receivables',\n 'loans_and_other_receivables',\n 'financial_assets',\n 'cash_and_cash_equivalents',\n 'accruals',\n 'assets_from_current_tax',\n 'derivative_instruments',\n 'other_assets',\n 'assets_held_for_sale_and_discontinuing_operations',\n 'called_up_capital',\n 'own_shares',\n 'equity_liabilities',\n 'share_capital',\n 'called_up_share_capital',\n 'treasury_shares',\n 'supplementary_capital',\n 'valuation_and_exchange_differences',\n 'other_capitals',\n 'retained_earnings_accumulated_losses',\n 'noncontrolling_interests',\n 'noncurrent_liabilities_from_derivatives',\n 'noncurrent_loans_and_borrowings',\n 'noncurrent_liabilities_from_bonds',\n 'noncurrent_liabilities_from_finance_leases',\n 'noncurrent_trade_payables',\n 'longterm_provision_for_employee_benefits',\n 'deferred_tax_liabilities',\n 'noncurrent_provision',\n 'other_noncurrent_liabilities',\n 'noncurrent_accruals',\n 'liabilities_from_derivatives',\n 'financial_liabilities',\n 'bond_liabilities',\n 'liabilities_from_finance_leases',\n 'trade_payables',\n 'employee_benefits',\n 'current_tax_liabilities',\n 'provisions',\n 'other_liabilities',\n 'accruals',\n 'liabilities_related_to_assets_held_for_sale_and_discontinued_operations',\n 'date_of_publication',\n 'gross_profit_margin_on_sales',\n 'operating_profit_margin',\n 'gross_profit_margin',\n 'net_profit_margin',\n 'return_on_equity',\n 'return_on_assets',\n 'working_capital_ratio',\n 'current_ratio',\n 'quick_ratio',\n 'cash_ratio',\n 'receivables_turnover',\n 'inventory_turnover',\n 'the_operating_cycle',\n 'rotation_commitments',\n 'cash_conversion_cycle',\n 'rotation_assets',\n 'rotation_of_assets',\n 'assets_ratio',\n 'debt_ratio',\n 'debt_service_ratio',\n 'rate_debt_security',\n 'leverage',\n 'asset_utilization',\n 'load_gross_profit',\n 'current_financial_liabilities',\n 'noncurrent_financial_liabilities',\n 'financial_liabilities',\n 'company_name',\n 'sector',\n 'ticker']"
     },
     "execution_count": 114,
     "metadata": {},
     "output_type": "execute_result"
    }
   ],
   "source": [
    "data_gpw.columns.tolist()"
   ],
   "metadata": {
    "collapsed": false,
    "ExecuteTime": {
     "end_time": "2024-05-18T09:40:04.126843600Z",
     "start_time": "2024-05-18T09:40:04.098536400Z"
    }
   },
   "id": "305de52c586ae28",
   "execution_count": 114
  },
  {
   "cell_type": "markdown",
   "source": [
    "# Change each indicator to % value\n",
    "return_on_equity\n",
    "return_on_assets\n",
    "leverage\n",
    "asset_utilization\n",
    "debt_ratio\n",
    "debt_service_ratio\n",
    "rate_debt_security\n",
    "working_capital_ratio"
   ],
   "metadata": {
    "collapsed": false
   },
   "id": "34318baca8e6e3c5"
  },
  {
   "cell_type": "code",
   "outputs": [],
   "source": [
    "columns_to_convert = [\n",
    "    'return_on_equity',\n",
    "    'return_on_assets',\n",
    "    'leverage',\n",
    "    'asset_utilization',\n",
    "    'debt_ratio',\n",
    "    'debt_service_ratio',\n",
    "    'rate_debt_security',\n",
    "    'working_capital_ratio'\n",
    "]\n",
    "\n",
    "data_gpw[columns_to_convert] = data_gpw[columns_to_convert] / 100"
   ],
   "metadata": {
    "collapsed": false,
    "ExecuteTime": {
     "end_time": "2024-05-18T09:40:04.128327500Z",
     "start_time": "2024-05-18T09:40:04.104378300Z"
    }
   },
   "id": "7650395fd99e90ba",
   "execution_count": 115
  },
  {
   "cell_type": "code",
   "outputs": [],
   "source": [
    "column_mapping = {\n",
    "    'financial_liabilities': 'total_liability',\n",
    "    'aktywa': 'total_assets'\n",
    "}\n",
    "\n",
    "data_gpw = data_gpw.rename(columns=column_mapping)"
   ],
   "metadata": {
    "collapsed": false,
    "ExecuteTime": {
     "end_time": "2024-05-18T09:40:04.190705800Z",
     "start_time": "2024-05-18T09:40:04.111588500Z"
    }
   },
   "id": "54aff99460eba5d8",
   "execution_count": 116
  },
  {
   "cell_type": "code",
   "outputs": [
    {
     "data": {
      "text/plain": "array(['11 bit studios SA', '3LP SA', '3R Games SA', 'AB SA', 'AC SA',\n       'Action SA', 'Adiuvo Investments SA', 'Agora SA', 'Agroton plc.',\n       'AUGA Group AB', 'All in! Games SA', 'Ailleron SA',\n       'Airway Medix SA', 'Alumetal SA', 'Ambra SA', 'Amica SA',\n       'Ampli SA w upadłości układowej', 'AmRest Holdings SE',\n       'Answear.com SA', 'Apator SA', 'Aplisens SA', 'APS Energia SA',\n       'Arctic Paper SA', 'Arteria SA', 'Artifex Mundi SA',\n       'ASBISc Enterprises plc.', 'ASM Group SA', 'Asseco BS SA',\n       'Asseco Poland SA', 'Asseco SEE SA', 'Atende SA',\n       'Atlanta Poland SA', 'ATM Grupa SA', 'Atrem SA', 'Auto Partner SA',\n       'Grupa Azoty SA', 'British Automotive Holding SA',\n       'Elektrociepłownia Będzin SA', 'Benefit Systems SA', 'Berling SA',\n       'Betacom SA', 'Big Cheese Studio SA', 'Bioceltix SA',\n       'BioMaxima SA', 'Biomed Lublin SA', 'Bio Planet SA', 'Bioton SA',\n       'BMW AG', 'LW Bogdanka SA', 'BoomBit SA', 'Boryszew SA',\n       'Bowim SA', 'Brand24 SA', 'Braster SA w restrukturyzacji',\n       'Budimex SA', 'Bumech SA', 'Captor Therapeutics SA', 'CCC SA',\n       'CD Projekt SA', 'CDRL SA', 'CNT SA', 'CEZ a.s.', 'CFI Holding SA',\n       'Ciech SA', 'CI Games SA', 'City Service SE', 'Celon Pharma SA',\n       'Cognor Holding SA', 'ComArch SA', 'Comperia.pl SA',\n       'Compremum SA', 'Comp SA', 'PZ Cormay SA', 'Creepy Jar SA',\n       'Creotech Instruments SA', 'Cyfrowy Polsat SA', 'Dadelo SA',\n       'DataWalk SA', 'Dębica SA', 'Decora SA', 'Dekpol SA', 'Delko SA',\n       'Digital Network SA', 'Digitree Group SA', 'Dino Polska SA',\n       'Dom Development SA', 'Drewex SA w restrukturyzacji ',\n       'Drozapol-Profil SA', 'ED Invest SA', 'Efekt SA', 'Eko Export SA',\n       'Elektrotim SA', 'Elzab SA', 'EMC Instytut Medyczny SA', 'Enea SA',\n       'Enel-Med SA', 'Energa SA', 'Energoaparatura SA',\n       'Energoinstal SA', 'Enter Air SA', 'Erbud SA', 'ERG SA',\n       'Esotiq&Henderson SA', 'Eurocash SA', 'Eurotel SA', 'Famur SA',\n       'Fasing SA', 'Feerum SA', 'Ferro SA', 'Ferrum SA', 'Forte SA',\n       'Games Operators SA', 'Gaming Factory SA', 'GI Group Poland SA',\n       'Global Cosmed SA', 'Gobarto SA', 'Grodno SA', 'Grupa Pracuj SA',\n       'Harper Hygienics SA', 'Helio SA', 'Herkules SA', 'Hollywood SA',\n       'Huuuge, Inc.', 'Hydrotor SA', 'iFirma SA',\n       'Investment Friends SE', 'IMC S.A.', 'Instal Kraków SA',\n       'Inter Cars SA', 'Interferie SA', 'Interbud-Lublin SA', 'IMS SA',\n       'Inter Rao Lietuva AB', 'Intersport Polska SA', 'Introl SA',\n       'Interma Trade SA w likwidacji', 'Izoblok SA',\n       'Izolacja Jarocin SA', 'Izostal SA',\n       'Jastrzębska Spółka Węglowa SA', 'JWW Invest SA', 'K2 Holding SA',\n       'KCI SA', 'KDM Shipping Public Ltd.', 'Kernel Holding S.A.',\n       'Grupa Kęty SA', 'KGHM Polska Miedź SA', 'KGL SA',\n       'Kino Polska TV SA', 'Kogeneracja SA', 'Kompap SA',\n       'Komputronik SA  w restrukturyzacji', 'KB Dom SA w upadłości',\n       'KPPD SA', 'Krakchemia SA', 'KRKA d.d.', 'Krynica Vitamin SA',\n       'Krynicki Recykling SA', 'Labo Print SA', 'Lark.pl SA', 'Larq SA',\n       'Lena Lighting SA', 'Lentex SA', 'Less SA', 'Libet SA',\n       'LiveChat Software SA', 'Grupa Lotos SA', 'LPP SA',\n       'LSI Software SA', 'Lubawa SA', 'Protektor SA', 'Mabion SA',\n       'Makarony Polskie SA', 'Mangata Holding SA', 'ManyDev Studio SE',\n       'Master Pharm SA', 'Maxcom SA', 'MDI Energia SA', 'Mediacap SA',\n       'Medicalgorithmics SA', 'Medinice SA', 'Megaron SA',\n       'Mennica Polska SA', 'Mercator Medical SA', 'Mercor SA',\n       'Mex Polska SA', 'MFO SA', 'Milkiland Foods PLC', 'Miraculum SA',\n       'Mirbud SA', 'ML System SA', 'Mo-Bruk SA', 'MOJ SA', 'Molecure SA',\n       'Monnari Trade SA', 'Mostostal Płock SA', 'Mostostal Warszawa SA',\n       'Mostostal Zabrze SA', 'Muza SA', 'NanoGroup SA', 'Netia SA',\n       'Neuca SA', 'Newag SA', 'Nexity Global SA', 'Novaturas AB',\n       'Novita SA', 'NTT System SA', 'Odlewnie Polskie SA', 'OEX SA',\n       'Onde SA', 'Oponeo.pl SA', 'OPTeam SA', 'Orange Polska SA',\n       'Orzeł Biały SA', 'OT Logistics SA', 'ZE PAK SA', 'Pamapol SA',\n       'PA Nova SA', 'Patentus SA', 'PBG SA w restrukturyzacji',\n       'PBKM SA', 'PCC Exol SA', 'PCC Rokita SA', 'PCF Group SA',\n       'PC Guard SA', 'Pekabex SA', 'Polenergia SA', 'Pepees SA',\n       'PGE SA', 'PGNiG SA', 'PGS Software SA', 'Pharmena SA',\n       'Photon Energy NV', 'PJP Makrum SA', 'PKN Orlen SA',\n       'PKP Cargo SA', 'Plast-Box SA', 'PlayWay SA',\n       'PMPG Polskie Media SA', 'Police SA', 'Polimex Mostostal SA',\n       'Poltreg SA', 'Polwax SA', 'Prima Moda SA', 'Primetech SA',\n       'Procad SA', 'Prochem SA', 'Puławy SA', 'PunkPirates SA',\n       'Pure Biologics SA', 'Quantum Software SA', 'R22 SA', 'Radpol SA',\n       'Rafako SA', 'Rafamet SA', 'Rainbow Tours SA', 'Rawlplug SA',\n       'Redan SA', 'Regnon SA w likwidacji', 'Relpol SA',\n       'Remak-Energomontaż SA', 'Resbud SE', 'Ronson Development SE',\n       'ZM Ropczyce SA', 'Ryvu Therapeutics SA', 'Sadovaya Group SA',\n       'Sanwil SA', 'Satis Group SA', 'Seco/Warwick SA', 'Seko SA',\n       'Selena FM SA', 'Selvita SA', 'Sescom SA', 'Sfinks Polska SA',\n       'Shoper SA', 'Silvair Inc.', 'Silvano Group AS', 'SimFabric SA',\n       'Simple SA', 'Skotan SA', 'Sleepz AG', 'Śnieżka SA',\n       'Solar Company SA', 'Sonel SA', 'Sopharma AD', 'SpyroSoft SA',\n       'Stalexport Autostrady SA', 'Stalprodukt SA', 'Stalprofil SA',\n       'Sanok Rubber Company SA', 'STS Holding SA', 'Sunex SA',\n       'Suwary SA', 'Swissmed Centrum Zdrowia SA', 'Sygnity SA',\n       'Synektik SA', 'Talex SA', 'Tarczyński SA',\n       'Tatry Mountain Resorts a.s.', 'Tauron PE SA', 'T-Bull SA',\n       'Termo-Rex SA', 'Tesgas SA', 'TIM SA', 'Torpol SA', 'Toya SA',\n       'Trakcja SA', 'Trans Polonia SA', 'Ten Square Games SA', 'TXM SA',\n       'Uf Games SA', 'Ulma Construccion Polska SA', 'Ultimate Games SA',\n       'Unibep SA', 'Unima 2000 SA', 'Unimot SA', 'Ursus SA w upadłości',\n       'Vercom SA', 'Vigo Photonics SA', 'Vistal Gdynia SA',\n       'Vivid Games SA', 'Voxel SA', 'VRG SA', 'Wasko SA', 'Wawel SA',\n       'Wielton SA', 'WP Holding SA', 'Wittchen SA', 'Wojas SA',\n       'XTPL SA', 'Zamet SA', 'ZPC Otmuchów SA', 'ZPUE SA',\n       'Zremb-Chojnice SA', 'ZUE SA', 'ZUK Stąporków SA',\n       'Grupa Żywiec SA'], dtype=object)"
     },
     "execution_count": 117,
     "metadata": {},
     "output_type": "execute_result"
    }
   ],
   "source": [
    "data_gpw['company_name'].unique()"
   ],
   "metadata": {
    "collapsed": false,
    "ExecuteTime": {
     "end_time": "2024-05-18T09:40:04.202563800Z",
     "start_time": "2024-05-18T09:40:04.132174900Z"
    }
   },
   "id": "1873644e515c9005",
   "execution_count": 117
  },
  {
   "cell_type": "markdown",
   "source": [
    "## Feature Engineering"
   ],
   "metadata": {
    "collapsed": false
   },
   "id": "232b97bba5331d79"
  },
  {
   "cell_type": "code",
   "outputs": [
    {
     "data": {
      "text/plain": "      end_of_period  revenues_from_sales  operating_profitloss  \\\n0        2010-03-31                 66.0                   0.0   \n1        2010-09-30                129.0                   0.0   \n2        2010-12-31                228.0                   0.0   \n3        2011-03-31                144.0                   0.0   \n4        2011-06-30                959.0                   0.0   \n...             ...                  ...                   ...   \n19901    2021-09-30             995385.0              103668.0   \n19902    2021-12-31             733974.0               46890.0   \n19903    2022-03-31             696778.0                6649.0   \n19904    2022-06-30            1209418.0              101579.0   \n19905    2022-09-30            1106635.0               61538.0   \n\n       net_profitloss_attributable_to_equity_holders_of_the_parent  \\\n0                                                  -16.0             \n1                                                  -26.0             \n2                                                 -198.0             \n3                                                  -50.0             \n4                                                  377.0             \n...                                                  ...             \n19901                                           104744.0             \n19902                                            32175.0             \n19903                                            -1246.0             \n19904                                            92625.0             \n19905                                            23844.0             \n\n       total_comprehensive_income_attributable_to_equity_holders  \\\n0                                                    0.0           \n1                                                    0.0           \n2                                                    0.0           \n3                                                    0.0           \n4                                                    0.0           \n...                                                  ...           \n19901                                           106250.0           \n19902                                            42434.0           \n19903                                            41367.0           \n19904                                            45386.0           \n19905                                            18814.0           \n\n       depreciation  cash_flow_from_operating_activities  \\\n0              29.0                                  0.0   \n1               6.0                                  0.0   \n2               0.0                                  0.0   \n3               0.0                                  0.0   \n4               7.0                                  0.0   \n...             ...                                  ...   \n19901       36985.0                             354390.0   \n19902       42311.0                              50929.0   \n19903       38391.0                              13967.0   \n19904       39932.0                             101877.0   \n19905       40212.0                             156461.0   \n\n       cash_flow_from_investing_activities  \\\n0                                      0.0   \n1                                      0.0   \n2                                      0.0   \n3                                      0.0   \n4                                      0.0   \n...                                    ...   \n19901                             -22037.0   \n19902                             -65863.0   \n19903                             -33280.0   \n19904                             -21179.0   \n19905                             -24386.0   \n\n       cash_flow_from_financing_activities  total_assets  ...  \\\n0                                      0.0          0.00  ...   \n1                                      0.0       1411.00  ...   \n2                                      0.0       1352.36  ...   \n3                                      0.0       1342.00  ...   \n4                                      0.0       1659.00  ...   \n...                                    ...           ...  ...   \n19901                            -433167.0    2649304.00  ...   \n19902                              30091.0    2508447.00  ...   \n19903                              57099.0    2741947.00  ...   \n19904                             -81990.0    2981239.00  ...   \n19905                            -117588.0    2733389.00  ...   \n\n       rate_debt_security  leverage  asset_utilization  load_gross_profit  \\\n0                     0.0       0.0                0.0                0.0   \n1                     0.0       0.0                0.0                0.0   \n2                     0.0       0.0                0.0                0.0   \n3                     0.0       0.0                0.0                0.0   \n4                     0.0       0.0                0.0                0.0   \n...                   ...       ...                ...                ...   \n19901                 0.0       0.0                0.0                0.0   \n19902                 0.0       0.0                0.0                0.0   \n19903                 0.0       0.0                0.0                0.0   \n19904                 0.0       0.0                0.0                0.0   \n19905                 0.0       0.0                0.0                0.0   \n\n       current_financial_liabilities  noncurrent_financial_liabilities  \\\n0                                0.0                               0.0   \n1                                0.0                               0.0   \n2                                0.0                               0.0   \n3                                0.0                               0.0   \n4                                0.0                               0.0   \n...                              ...                               ...   \n19901                            0.0                               0.0   \n19902                            0.0                               0.0   \n19903                            0.0                               0.0   \n19904                            0.0                               0.0   \n19905                            0.0                               0.0   \n\n       total_liability       company_name  sector ticker  \n0                  0.0  11 bit studios SA     gry    11B  \n1                  0.0  11 bit studios SA     gry    11B  \n2                  0.0  11 bit studios SA     gry    11B  \n3                  0.0  11 bit studios SA     gry    11B  \n4                  0.0  11 bit studios SA     gry    11B  \n...                ...                ...     ...    ...  \n19901              0.0    Grupa Żywiec SA  napoje    ZWC  \n19902              0.0    Grupa Żywiec SA  napoje    ZWC  \n19903              0.0    Grupa Żywiec SA  napoje    ZWC  \n19904              0.0    Grupa Żywiec SA  napoje    ZWC  \n19905              0.0    Grupa Żywiec SA  napoje    ZWC  \n\n[19906 rows x 109 columns]",
      "text/html": "<div>\n<style scoped>\n    .dataframe tbody tr th:only-of-type {\n        vertical-align: middle;\n    }\n\n    .dataframe tbody tr th {\n        vertical-align: top;\n    }\n\n    .dataframe thead th {\n        text-align: right;\n    }\n</style>\n<table border=\"1\" class=\"dataframe\">\n  <thead>\n    <tr style=\"text-align: right;\">\n      <th></th>\n      <th>end_of_period</th>\n      <th>revenues_from_sales</th>\n      <th>operating_profitloss</th>\n      <th>net_profitloss_attributable_to_equity_holders_of_the_parent</th>\n      <th>total_comprehensive_income_attributable_to_equity_holders</th>\n      <th>depreciation</th>\n      <th>cash_flow_from_operating_activities</th>\n      <th>cash_flow_from_investing_activities</th>\n      <th>cash_flow_from_financing_activities</th>\n      <th>total_assets</th>\n      <th>...</th>\n      <th>rate_debt_security</th>\n      <th>leverage</th>\n      <th>asset_utilization</th>\n      <th>load_gross_profit</th>\n      <th>current_financial_liabilities</th>\n      <th>noncurrent_financial_liabilities</th>\n      <th>total_liability</th>\n      <th>company_name</th>\n      <th>sector</th>\n      <th>ticker</th>\n    </tr>\n  </thead>\n  <tbody>\n    <tr>\n      <th>0</th>\n      <td>2010-03-31</td>\n      <td>66.0</td>\n      <td>0.0</td>\n      <td>-16.0</td>\n      <td>0.0</td>\n      <td>29.0</td>\n      <td>0.0</td>\n      <td>0.0</td>\n      <td>0.0</td>\n      <td>0.00</td>\n      <td>...</td>\n      <td>0.0</td>\n      <td>0.0</td>\n      <td>0.0</td>\n      <td>0.0</td>\n      <td>0.0</td>\n      <td>0.0</td>\n      <td>0.0</td>\n      <td>11 bit studios SA</td>\n      <td>gry</td>\n      <td>11B</td>\n    </tr>\n    <tr>\n      <th>1</th>\n      <td>2010-09-30</td>\n      <td>129.0</td>\n      <td>0.0</td>\n      <td>-26.0</td>\n      <td>0.0</td>\n      <td>6.0</td>\n      <td>0.0</td>\n      <td>0.0</td>\n      <td>0.0</td>\n      <td>1411.00</td>\n      <td>...</td>\n      <td>0.0</td>\n      <td>0.0</td>\n      <td>0.0</td>\n      <td>0.0</td>\n      <td>0.0</td>\n      <td>0.0</td>\n      <td>0.0</td>\n      <td>11 bit studios SA</td>\n      <td>gry</td>\n      <td>11B</td>\n    </tr>\n    <tr>\n      <th>2</th>\n      <td>2010-12-31</td>\n      <td>228.0</td>\n      <td>0.0</td>\n      <td>-198.0</td>\n      <td>0.0</td>\n      <td>0.0</td>\n      <td>0.0</td>\n      <td>0.0</td>\n      <td>0.0</td>\n      <td>1352.36</td>\n      <td>...</td>\n      <td>0.0</td>\n      <td>0.0</td>\n      <td>0.0</td>\n      <td>0.0</td>\n      <td>0.0</td>\n      <td>0.0</td>\n      <td>0.0</td>\n      <td>11 bit studios SA</td>\n      <td>gry</td>\n      <td>11B</td>\n    </tr>\n    <tr>\n      <th>3</th>\n      <td>2011-03-31</td>\n      <td>144.0</td>\n      <td>0.0</td>\n      <td>-50.0</td>\n      <td>0.0</td>\n      <td>0.0</td>\n      <td>0.0</td>\n      <td>0.0</td>\n      <td>0.0</td>\n      <td>1342.00</td>\n      <td>...</td>\n      <td>0.0</td>\n      <td>0.0</td>\n      <td>0.0</td>\n      <td>0.0</td>\n      <td>0.0</td>\n      <td>0.0</td>\n      <td>0.0</td>\n      <td>11 bit studios SA</td>\n      <td>gry</td>\n      <td>11B</td>\n    </tr>\n    <tr>\n      <th>4</th>\n      <td>2011-06-30</td>\n      <td>959.0</td>\n      <td>0.0</td>\n      <td>377.0</td>\n      <td>0.0</td>\n      <td>7.0</td>\n      <td>0.0</td>\n      <td>0.0</td>\n      <td>0.0</td>\n      <td>1659.00</td>\n      <td>...</td>\n      <td>0.0</td>\n      <td>0.0</td>\n      <td>0.0</td>\n      <td>0.0</td>\n      <td>0.0</td>\n      <td>0.0</td>\n      <td>0.0</td>\n      <td>11 bit studios SA</td>\n      <td>gry</td>\n      <td>11B</td>\n    </tr>\n    <tr>\n      <th>...</th>\n      <td>...</td>\n      <td>...</td>\n      <td>...</td>\n      <td>...</td>\n      <td>...</td>\n      <td>...</td>\n      <td>...</td>\n      <td>...</td>\n      <td>...</td>\n      <td>...</td>\n      <td>...</td>\n      <td>...</td>\n      <td>...</td>\n      <td>...</td>\n      <td>...</td>\n      <td>...</td>\n      <td>...</td>\n      <td>...</td>\n      <td>...</td>\n      <td>...</td>\n      <td>...</td>\n    </tr>\n    <tr>\n      <th>19901</th>\n      <td>2021-09-30</td>\n      <td>995385.0</td>\n      <td>103668.0</td>\n      <td>104744.0</td>\n      <td>106250.0</td>\n      <td>36985.0</td>\n      <td>354390.0</td>\n      <td>-22037.0</td>\n      <td>-433167.0</td>\n      <td>2649304.00</td>\n      <td>...</td>\n      <td>0.0</td>\n      <td>0.0</td>\n      <td>0.0</td>\n      <td>0.0</td>\n      <td>0.0</td>\n      <td>0.0</td>\n      <td>0.0</td>\n      <td>Grupa Żywiec SA</td>\n      <td>napoje</td>\n      <td>ZWC</td>\n    </tr>\n    <tr>\n      <th>19902</th>\n      <td>2021-12-31</td>\n      <td>733974.0</td>\n      <td>46890.0</td>\n      <td>32175.0</td>\n      <td>42434.0</td>\n      <td>42311.0</td>\n      <td>50929.0</td>\n      <td>-65863.0</td>\n      <td>30091.0</td>\n      <td>2508447.00</td>\n      <td>...</td>\n      <td>0.0</td>\n      <td>0.0</td>\n      <td>0.0</td>\n      <td>0.0</td>\n      <td>0.0</td>\n      <td>0.0</td>\n      <td>0.0</td>\n      <td>Grupa Żywiec SA</td>\n      <td>napoje</td>\n      <td>ZWC</td>\n    </tr>\n    <tr>\n      <th>19903</th>\n      <td>2022-03-31</td>\n      <td>696778.0</td>\n      <td>6649.0</td>\n      <td>-1246.0</td>\n      <td>41367.0</td>\n      <td>38391.0</td>\n      <td>13967.0</td>\n      <td>-33280.0</td>\n      <td>57099.0</td>\n      <td>2741947.00</td>\n      <td>...</td>\n      <td>0.0</td>\n      <td>0.0</td>\n      <td>0.0</td>\n      <td>0.0</td>\n      <td>0.0</td>\n      <td>0.0</td>\n      <td>0.0</td>\n      <td>Grupa Żywiec SA</td>\n      <td>napoje</td>\n      <td>ZWC</td>\n    </tr>\n    <tr>\n      <th>19904</th>\n      <td>2022-06-30</td>\n      <td>1209418.0</td>\n      <td>101579.0</td>\n      <td>92625.0</td>\n      <td>45386.0</td>\n      <td>39932.0</td>\n      <td>101877.0</td>\n      <td>-21179.0</td>\n      <td>-81990.0</td>\n      <td>2981239.00</td>\n      <td>...</td>\n      <td>0.0</td>\n      <td>0.0</td>\n      <td>0.0</td>\n      <td>0.0</td>\n      <td>0.0</td>\n      <td>0.0</td>\n      <td>0.0</td>\n      <td>Grupa Żywiec SA</td>\n      <td>napoje</td>\n      <td>ZWC</td>\n    </tr>\n    <tr>\n      <th>19905</th>\n      <td>2022-09-30</td>\n      <td>1106635.0</td>\n      <td>61538.0</td>\n      <td>23844.0</td>\n      <td>18814.0</td>\n      <td>40212.0</td>\n      <td>156461.0</td>\n      <td>-24386.0</td>\n      <td>-117588.0</td>\n      <td>2733389.00</td>\n      <td>...</td>\n      <td>0.0</td>\n      <td>0.0</td>\n      <td>0.0</td>\n      <td>0.0</td>\n      <td>0.0</td>\n      <td>0.0</td>\n      <td>0.0</td>\n      <td>Grupa Żywiec SA</td>\n      <td>napoje</td>\n      <td>ZWC</td>\n    </tr>\n  </tbody>\n</table>\n<p>19906 rows × 109 columns</p>\n</div>"
     },
     "execution_count": 118,
     "metadata": {},
     "output_type": "execute_result"
    }
   ],
   "source": [
    "data_gpw"
   ],
   "metadata": {
    "collapsed": false,
    "ExecuteTime": {
     "end_time": "2024-05-18T09:40:04.221278900Z",
     "start_time": "2024-05-18T09:40:04.138140100Z"
    }
   },
   "id": "5995746311725b04",
   "execution_count": 118
  },
  {
   "cell_type": "code",
   "outputs": [],
   "source": [
    "def add_suffix_to_ticker(df):\n",
    "    df['ticker'] = df['ticker'].astype(str) + '.WA'\n",
    "    return df\n",
    "\n",
    "df = add_suffix_to_ticker(data_gpw)"
   ],
   "metadata": {
    "collapsed": false,
    "ExecuteTime": {
     "end_time": "2024-05-18T09:40:04.222446900Z",
     "start_time": "2024-05-18T09:40:04.163170Z"
    }
   },
   "id": "eeaf73eb1d0e4963",
   "execution_count": 119
  },
  {
   "cell_type": "code",
   "outputs": [
    {
     "name": "stderr",
     "output_type": "stream",
     "text": [
      "11B.WA: Data doesn't exist for startDate = 1269986400, endDate = 1269986400\n",
      "11B.WA: Data doesn't exist for startDate = 1285797600, endDate = 1285797600\n",
      "11B.WA: Data doesn't exist for startDate = 1293750000, endDate = 1293750000\n",
      "11B.WA: No price data found, symbol may be delisted (1d 2011-03-31 -> 2011-03-31)\n",
      "11B.WA: No price data found, symbol may be delisted (1d 2011-06-30 -> 2011-06-30)\n",
      "11B.WA: No price data found, symbol may be delisted (1d 2011-09-30 -> 2011-09-30)\n",
      "11B.WA: No price data found, symbol may be delisted (1d 2011-12-31 -> 2011-12-31)\n",
      "11B.WA: No price data found, symbol may be delisted (1d 2012-03-31 -> 2012-03-31)\n",
      "11B.WA: No price data found, symbol may be delisted (1d 2012-06-30 -> 2012-06-30)\n",
      "11B.WA: No price data found, symbol may be delisted (1d 2012-09-30 -> 2012-09-30)\n",
      "11B.WA: No price data found, symbol may be delisted (1d 2012-12-31 -> 2012-12-31)\n",
      "11B.WA: No price data found, symbol may be delisted (1d 2013-03-31 -> 2013-03-31)\n",
      "11B.WA: No price data found, symbol may be delisted (1d 2013-06-30 -> 2013-06-30)\n",
      "11B.WA: No price data found, symbol may be delisted (1d 2013-09-30 -> 2013-09-30)\n",
      "11B.WA: No price data found, symbol may be delisted (1d 2013-12-31 -> 2013-12-31)\n",
      "11B.WA: No price data found, symbol may be delisted (1d 2014-03-31 -> 2014-03-31)\n",
      "11B.WA: No price data found, symbol may be delisted (1d 2014-06-30 -> 2014-06-30)\n",
      "11B.WA: No price data found, symbol may be delisted (1d 2014-09-30 -> 2014-09-30)\n",
      "11B.WA: No price data found, symbol may be delisted (1d 2014-12-31 -> 2014-12-31)\n",
      "11B.WA: No price data found, symbol may be delisted (1d 2015-03-31 -> 2015-03-31)\n",
      "11B.WA: No price data found, symbol may be delisted (1d 2015-06-30 -> 2015-06-30)\n",
      "11B.WA: No price data found, symbol may be delisted (1d 2015-09-30 -> 2015-09-30)\n",
      "11B.WA: No price data found, symbol may be delisted (1d 2015-12-31 -> 2015-12-31)\n"
     ]
    },
    {
     "ename": "KeyboardInterrupt",
     "evalue": "",
     "output_type": "error",
     "traceback": [
      "\u001B[1;31m---------------------------------------------------------------------------\u001B[0m",
      "\u001B[1;31mKeyboardInterrupt\u001B[0m                         Traceback (most recent call last)",
      "Cell \u001B[1;32mIn[120], line 9\u001B[0m\n\u001B[0;32m      6\u001B[0m         failed_tickers\u001B[38;5;241m.\u001B[39mappend(row[\u001B[38;5;124m'\u001B[39m\u001B[38;5;124mticker\u001B[39m\u001B[38;5;124m'\u001B[39m])\n\u001B[0;32m      7\u001B[0m     \u001B[38;5;28;01mreturn\u001B[39;00m market_value\n\u001B[1;32m----> 9\u001B[0m df[\u001B[38;5;124m'\u001B[39m\u001B[38;5;124mmarket_value\u001B[39m\u001B[38;5;124m'\u001B[39m] \u001B[38;5;241m=\u001B[39m \u001B[43mdf\u001B[49m\u001B[38;5;241;43m.\u001B[39;49m\u001B[43mapply\u001B[49m\u001B[43m(\u001B[49m\u001B[43mfetch_market_value\u001B[49m\u001B[43m,\u001B[49m\u001B[43m \u001B[49m\u001B[43maxis\u001B[49m\u001B[38;5;241;43m=\u001B[39;49m\u001B[38;5;241;43m1\u001B[39;49m\u001B[43m)\u001B[49m\n",
      "File \u001B[1;32m~\\PycharmProjects\\financial-forecast-cnn-lstm\\.venv\\Lib\\site-packages\\pandas\\core\\frame.py:10374\u001B[0m, in \u001B[0;36mDataFrame.apply\u001B[1;34m(self, func, axis, raw, result_type, args, by_row, engine, engine_kwargs, **kwargs)\u001B[0m\n\u001B[0;32m  10360\u001B[0m \u001B[38;5;28;01mfrom\u001B[39;00m \u001B[38;5;21;01mpandas\u001B[39;00m\u001B[38;5;21;01m.\u001B[39;00m\u001B[38;5;21;01mcore\u001B[39;00m\u001B[38;5;21;01m.\u001B[39;00m\u001B[38;5;21;01mapply\u001B[39;00m \u001B[38;5;28;01mimport\u001B[39;00m frame_apply\n\u001B[0;32m  10362\u001B[0m op \u001B[38;5;241m=\u001B[39m frame_apply(\n\u001B[0;32m  10363\u001B[0m     \u001B[38;5;28mself\u001B[39m,\n\u001B[0;32m  10364\u001B[0m     func\u001B[38;5;241m=\u001B[39mfunc,\n\u001B[1;32m   (...)\u001B[0m\n\u001B[0;32m  10372\u001B[0m     kwargs\u001B[38;5;241m=\u001B[39mkwargs,\n\u001B[0;32m  10373\u001B[0m )\n\u001B[1;32m> 10374\u001B[0m \u001B[38;5;28;01mreturn\u001B[39;00m \u001B[43mop\u001B[49m\u001B[38;5;241;43m.\u001B[39;49m\u001B[43mapply\u001B[49m\u001B[43m(\u001B[49m\u001B[43m)\u001B[49m\u001B[38;5;241m.\u001B[39m__finalize__(\u001B[38;5;28mself\u001B[39m, method\u001B[38;5;241m=\u001B[39m\u001B[38;5;124m\"\u001B[39m\u001B[38;5;124mapply\u001B[39m\u001B[38;5;124m\"\u001B[39m)\n",
      "File \u001B[1;32m~\\PycharmProjects\\financial-forecast-cnn-lstm\\.venv\\Lib\\site-packages\\pandas\\core\\apply.py:916\u001B[0m, in \u001B[0;36mFrameApply.apply\u001B[1;34m(self)\u001B[0m\n\u001B[0;32m    913\u001B[0m \u001B[38;5;28;01melif\u001B[39;00m \u001B[38;5;28mself\u001B[39m\u001B[38;5;241m.\u001B[39mraw:\n\u001B[0;32m    914\u001B[0m     \u001B[38;5;28;01mreturn\u001B[39;00m \u001B[38;5;28mself\u001B[39m\u001B[38;5;241m.\u001B[39mapply_raw(engine\u001B[38;5;241m=\u001B[39m\u001B[38;5;28mself\u001B[39m\u001B[38;5;241m.\u001B[39mengine, engine_kwargs\u001B[38;5;241m=\u001B[39m\u001B[38;5;28mself\u001B[39m\u001B[38;5;241m.\u001B[39mengine_kwargs)\n\u001B[1;32m--> 916\u001B[0m \u001B[38;5;28;01mreturn\u001B[39;00m \u001B[38;5;28;43mself\u001B[39;49m\u001B[38;5;241;43m.\u001B[39;49m\u001B[43mapply_standard\u001B[49m\u001B[43m(\u001B[49m\u001B[43m)\u001B[49m\n",
      "File \u001B[1;32m~\\PycharmProjects\\financial-forecast-cnn-lstm\\.venv\\Lib\\site-packages\\pandas\\core\\apply.py:1063\u001B[0m, in \u001B[0;36mFrameApply.apply_standard\u001B[1;34m(self)\u001B[0m\n\u001B[0;32m   1061\u001B[0m \u001B[38;5;28;01mdef\u001B[39;00m \u001B[38;5;21mapply_standard\u001B[39m(\u001B[38;5;28mself\u001B[39m):\n\u001B[0;32m   1062\u001B[0m     \u001B[38;5;28;01mif\u001B[39;00m \u001B[38;5;28mself\u001B[39m\u001B[38;5;241m.\u001B[39mengine \u001B[38;5;241m==\u001B[39m \u001B[38;5;124m\"\u001B[39m\u001B[38;5;124mpython\u001B[39m\u001B[38;5;124m\"\u001B[39m:\n\u001B[1;32m-> 1063\u001B[0m         results, res_index \u001B[38;5;241m=\u001B[39m \u001B[38;5;28;43mself\u001B[39;49m\u001B[38;5;241;43m.\u001B[39;49m\u001B[43mapply_series_generator\u001B[49m\u001B[43m(\u001B[49m\u001B[43m)\u001B[49m\n\u001B[0;32m   1064\u001B[0m     \u001B[38;5;28;01melse\u001B[39;00m:\n\u001B[0;32m   1065\u001B[0m         results, res_index \u001B[38;5;241m=\u001B[39m \u001B[38;5;28mself\u001B[39m\u001B[38;5;241m.\u001B[39mapply_series_numba()\n",
      "File \u001B[1;32m~\\PycharmProjects\\financial-forecast-cnn-lstm\\.venv\\Lib\\site-packages\\pandas\\core\\apply.py:1081\u001B[0m, in \u001B[0;36mFrameApply.apply_series_generator\u001B[1;34m(self)\u001B[0m\n\u001B[0;32m   1078\u001B[0m \u001B[38;5;28;01mwith\u001B[39;00m option_context(\u001B[38;5;124m\"\u001B[39m\u001B[38;5;124mmode.chained_assignment\u001B[39m\u001B[38;5;124m\"\u001B[39m, \u001B[38;5;28;01mNone\u001B[39;00m):\n\u001B[0;32m   1079\u001B[0m     \u001B[38;5;28;01mfor\u001B[39;00m i, v \u001B[38;5;129;01min\u001B[39;00m \u001B[38;5;28menumerate\u001B[39m(series_gen):\n\u001B[0;32m   1080\u001B[0m         \u001B[38;5;66;03m# ignore SettingWithCopy here in case the user mutates\u001B[39;00m\n\u001B[1;32m-> 1081\u001B[0m         results[i] \u001B[38;5;241m=\u001B[39m \u001B[38;5;28;43mself\u001B[39;49m\u001B[38;5;241;43m.\u001B[39;49m\u001B[43mfunc\u001B[49m\u001B[43m(\u001B[49m\u001B[43mv\u001B[49m\u001B[43m,\u001B[49m\u001B[43m \u001B[49m\u001B[38;5;241;43m*\u001B[39;49m\u001B[38;5;28;43mself\u001B[39;49m\u001B[38;5;241;43m.\u001B[39;49m\u001B[43margs\u001B[49m\u001B[43m,\u001B[49m\u001B[43m \u001B[49m\u001B[38;5;241;43m*\u001B[39;49m\u001B[38;5;241;43m*\u001B[39;49m\u001B[38;5;28;43mself\u001B[39;49m\u001B[38;5;241;43m.\u001B[39;49m\u001B[43mkwargs\u001B[49m\u001B[43m)\u001B[49m\n\u001B[0;32m   1082\u001B[0m         \u001B[38;5;28;01mif\u001B[39;00m \u001B[38;5;28misinstance\u001B[39m(results[i], ABCSeries):\n\u001B[0;32m   1083\u001B[0m             \u001B[38;5;66;03m# If we have a view on v, we need to make a copy because\u001B[39;00m\n\u001B[0;32m   1084\u001B[0m             \u001B[38;5;66;03m#  series_generator will swap out the underlying data\u001B[39;00m\n\u001B[0;32m   1085\u001B[0m             results[i] \u001B[38;5;241m=\u001B[39m results[i]\u001B[38;5;241m.\u001B[39mcopy(deep\u001B[38;5;241m=\u001B[39m\u001B[38;5;28;01mFalse\u001B[39;00m)\n",
      "Cell \u001B[1;32mIn[120], line 4\u001B[0m, in \u001B[0;36mfetch_market_value\u001B[1;34m(row)\u001B[0m\n\u001B[0;32m      3\u001B[0m \u001B[38;5;28;01mdef\u001B[39;00m \u001B[38;5;21mfetch_market_value\u001B[39m(row):\n\u001B[1;32m----> 4\u001B[0m     market_value \u001B[38;5;241m=\u001B[39m \u001B[43mget_market_value\u001B[49m\u001B[43m(\u001B[49m\u001B[43mrow\u001B[49m\u001B[43m[\u001B[49m\u001B[38;5;124;43m'\u001B[39;49m\u001B[38;5;124;43mticker\u001B[39;49m\u001B[38;5;124;43m'\u001B[39;49m\u001B[43m]\u001B[49m\u001B[43m,\u001B[49m\u001B[43m \u001B[49m\u001B[43mrow\u001B[49m\u001B[43m[\u001B[49m\u001B[38;5;124;43m'\u001B[39;49m\u001B[38;5;124;43mend_of_period\u001B[39;49m\u001B[38;5;124;43m'\u001B[39;49m\u001B[43m]\u001B[49m\u001B[43m)\u001B[49m\n\u001B[0;32m      5\u001B[0m     \u001B[38;5;28;01mif\u001B[39;00m market_value \u001B[38;5;129;01mis\u001B[39;00m \u001B[38;5;28;01mNone\u001B[39;00m:\n\u001B[0;32m      6\u001B[0m         failed_tickers\u001B[38;5;241m.\u001B[39mappend(row[\u001B[38;5;124m'\u001B[39m\u001B[38;5;124mticker\u001B[39m\u001B[38;5;124m'\u001B[39m])\n",
      "File \u001B[1;32m~\\PycharmProjects\\financial-forecast-cnn-lstm\\data_utils.py:19\u001B[0m, in \u001B[0;36mget_market_value\u001B[1;34m(ticker, date)\u001B[0m\n\u001B[0;32m     17\u001B[0m stock \u001B[38;5;241m=\u001B[39m yf\u001B[38;5;241m.\u001B[39mTicker(ticker)\n\u001B[0;32m     18\u001B[0m \u001B[38;5;28;01mtry\u001B[39;00m:\n\u001B[1;32m---> 19\u001B[0m     data \u001B[38;5;241m=\u001B[39m \u001B[43mstock\u001B[49m\u001B[38;5;241;43m.\u001B[39;49m\u001B[43mhistory\u001B[49m\u001B[43m(\u001B[49m\u001B[43mstart\u001B[49m\u001B[38;5;241;43m=\u001B[39;49m\u001B[43mdate\u001B[49m\u001B[43m,\u001B[49m\u001B[43m \u001B[49m\u001B[43mend\u001B[49m\u001B[38;5;241;43m=\u001B[39;49m\u001B[43mdate\u001B[49m\u001B[43m)\u001B[49m\n\u001B[0;32m     20\u001B[0m     \u001B[38;5;28;01mif\u001B[39;00m \u001B[38;5;129;01mnot\u001B[39;00m data\u001B[38;5;241m.\u001B[39mempty:\n\u001B[0;32m     21\u001B[0m         open_price \u001B[38;5;241m=\u001B[39m data[\u001B[38;5;124m'\u001B[39m\u001B[38;5;124mOpen\u001B[39m\u001B[38;5;124m'\u001B[39m]\u001B[38;5;241m.\u001B[39miloc[\u001B[38;5;241m0\u001B[39m]\n",
      "File \u001B[1;32m~\\PycharmProjects\\financial-forecast-cnn-lstm\\.venv\\Lib\\site-packages\\yfinance\\utils.py:103\u001B[0m, in \u001B[0;36mlog_indent_decorator.<locals>.wrapper\u001B[1;34m(*args, **kwargs)\u001B[0m\n\u001B[0;32m    100\u001B[0m logger\u001B[38;5;241m.\u001B[39mdebug(\u001B[38;5;124mf\u001B[39m\u001B[38;5;124m'\u001B[39m\u001B[38;5;124mEntering \u001B[39m\u001B[38;5;132;01m{\u001B[39;00mfunc\u001B[38;5;241m.\u001B[39m\u001B[38;5;18m__name__\u001B[39m\u001B[38;5;132;01m}\u001B[39;00m\u001B[38;5;124m()\u001B[39m\u001B[38;5;124m'\u001B[39m)\n\u001B[0;32m    102\u001B[0m \u001B[38;5;28;01mwith\u001B[39;00m IndentationContext():\n\u001B[1;32m--> 103\u001B[0m     result \u001B[38;5;241m=\u001B[39m \u001B[43mfunc\u001B[49m\u001B[43m(\u001B[49m\u001B[38;5;241;43m*\u001B[39;49m\u001B[43margs\u001B[49m\u001B[43m,\u001B[49m\u001B[43m \u001B[49m\u001B[38;5;241;43m*\u001B[39;49m\u001B[38;5;241;43m*\u001B[39;49m\u001B[43mkwargs\u001B[49m\u001B[43m)\u001B[49m\n\u001B[0;32m    105\u001B[0m logger\u001B[38;5;241m.\u001B[39mdebug(\u001B[38;5;124mf\u001B[39m\u001B[38;5;124m'\u001B[39m\u001B[38;5;124mExiting \u001B[39m\u001B[38;5;132;01m{\u001B[39;00mfunc\u001B[38;5;241m.\u001B[39m\u001B[38;5;18m__name__\u001B[39m\u001B[38;5;132;01m}\u001B[39;00m\u001B[38;5;124m()\u001B[39m\u001B[38;5;124m'\u001B[39m)\n\u001B[0;32m    106\u001B[0m \u001B[38;5;28;01mreturn\u001B[39;00m result\n",
      "File \u001B[1;32m~\\PycharmProjects\\financial-forecast-cnn-lstm\\.venv\\Lib\\site-packages\\yfinance\\base.py:77\u001B[0m, in \u001B[0;36mTickerBase.history\u001B[1;34m(self, *args, **kwargs)\u001B[0m\n\u001B[0;32m     75\u001B[0m \u001B[38;5;129m@utils\u001B[39m\u001B[38;5;241m.\u001B[39mlog_indent_decorator\n\u001B[0;32m     76\u001B[0m \u001B[38;5;28;01mdef\u001B[39;00m \u001B[38;5;21mhistory\u001B[39m(\u001B[38;5;28mself\u001B[39m, \u001B[38;5;241m*\u001B[39margs, \u001B[38;5;241m*\u001B[39m\u001B[38;5;241m*\u001B[39mkwargs) \u001B[38;5;241m-\u001B[39m\u001B[38;5;241m>\u001B[39m pd\u001B[38;5;241m.\u001B[39mDataFrame:\n\u001B[1;32m---> 77\u001B[0m     \u001B[38;5;28;01mreturn\u001B[39;00m \u001B[38;5;28;43mself\u001B[39;49m\u001B[38;5;241;43m.\u001B[39;49m\u001B[43m_lazy_load_price_history\u001B[49m\u001B[43m(\u001B[49m\u001B[43m)\u001B[49m\u001B[38;5;241;43m.\u001B[39;49m\u001B[43mhistory\u001B[49m\u001B[43m(\u001B[49m\u001B[38;5;241;43m*\u001B[39;49m\u001B[43margs\u001B[49m\u001B[43m,\u001B[49m\u001B[43m \u001B[49m\u001B[38;5;241;43m*\u001B[39;49m\u001B[38;5;241;43m*\u001B[39;49m\u001B[43mkwargs\u001B[49m\u001B[43m)\u001B[49m\n",
      "File \u001B[1;32m~\\PycharmProjects\\financial-forecast-cnn-lstm\\.venv\\Lib\\site-packages\\yfinance\\utils.py:103\u001B[0m, in \u001B[0;36mlog_indent_decorator.<locals>.wrapper\u001B[1;34m(*args, **kwargs)\u001B[0m\n\u001B[0;32m    100\u001B[0m logger\u001B[38;5;241m.\u001B[39mdebug(\u001B[38;5;124mf\u001B[39m\u001B[38;5;124m'\u001B[39m\u001B[38;5;124mEntering \u001B[39m\u001B[38;5;132;01m{\u001B[39;00mfunc\u001B[38;5;241m.\u001B[39m\u001B[38;5;18m__name__\u001B[39m\u001B[38;5;132;01m}\u001B[39;00m\u001B[38;5;124m()\u001B[39m\u001B[38;5;124m'\u001B[39m)\n\u001B[0;32m    102\u001B[0m \u001B[38;5;28;01mwith\u001B[39;00m IndentationContext():\n\u001B[1;32m--> 103\u001B[0m     result \u001B[38;5;241m=\u001B[39m \u001B[43mfunc\u001B[49m\u001B[43m(\u001B[49m\u001B[38;5;241;43m*\u001B[39;49m\u001B[43margs\u001B[49m\u001B[43m,\u001B[49m\u001B[43m \u001B[49m\u001B[38;5;241;43m*\u001B[39;49m\u001B[38;5;241;43m*\u001B[39;49m\u001B[43mkwargs\u001B[49m\u001B[43m)\u001B[49m\n\u001B[0;32m    105\u001B[0m logger\u001B[38;5;241m.\u001B[39mdebug(\u001B[38;5;124mf\u001B[39m\u001B[38;5;124m'\u001B[39m\u001B[38;5;124mExiting \u001B[39m\u001B[38;5;132;01m{\u001B[39;00mfunc\u001B[38;5;241m.\u001B[39m\u001B[38;5;18m__name__\u001B[39m\u001B[38;5;132;01m}\u001B[39;00m\u001B[38;5;124m()\u001B[39m\u001B[38;5;124m'\u001B[39m)\n\u001B[0;32m    106\u001B[0m \u001B[38;5;28;01mreturn\u001B[39;00m result\n",
      "File \u001B[1;32m~\\PycharmProjects\\financial-forecast-cnn-lstm\\.venv\\Lib\\site-packages\\yfinance\\scrapers\\history.py:139\u001B[0m, in \u001B[0;36mPriceHistory.history\u001B[1;34m(self, period, interval, start, end, prepost, actions, auto_adjust, back_adjust, repair, keepna, proxy, rounding, timeout, raise_errors)\u001B[0m\n\u001B[0;32m    137\u001B[0m         get_fn \u001B[38;5;241m=\u001B[39m \u001B[38;5;28mself\u001B[39m\u001B[38;5;241m.\u001B[39m_data\u001B[38;5;241m.\u001B[39mcache_get\n\u001B[0;32m    138\u001B[0m \u001B[38;5;28;01mtry\u001B[39;00m:\n\u001B[1;32m--> 139\u001B[0m     data \u001B[38;5;241m=\u001B[39m \u001B[43mget_fn\u001B[49m\u001B[43m(\u001B[49m\n\u001B[0;32m    140\u001B[0m \u001B[43m        \u001B[49m\u001B[43murl\u001B[49m\u001B[38;5;241;43m=\u001B[39;49m\u001B[43murl\u001B[49m\u001B[43m,\u001B[49m\n\u001B[0;32m    141\u001B[0m \u001B[43m        \u001B[49m\u001B[43mparams\u001B[49m\u001B[38;5;241;43m=\u001B[39;49m\u001B[43mparams\u001B[49m\u001B[43m,\u001B[49m\n\u001B[0;32m    142\u001B[0m \u001B[43m        \u001B[49m\u001B[43mproxy\u001B[49m\u001B[38;5;241;43m=\u001B[39;49m\u001B[43mproxy\u001B[49m\u001B[43m,\u001B[49m\n\u001B[0;32m    143\u001B[0m \u001B[43m        \u001B[49m\u001B[43mtimeout\u001B[49m\u001B[38;5;241;43m=\u001B[39;49m\u001B[43mtimeout\u001B[49m\n\u001B[0;32m    144\u001B[0m \u001B[43m    \u001B[49m\u001B[43m)\u001B[49m\n\u001B[0;32m    145\u001B[0m     \u001B[38;5;28;01mif\u001B[39;00m \u001B[38;5;124m\"\u001B[39m\u001B[38;5;124mWill be right back\u001B[39m\u001B[38;5;124m\"\u001B[39m \u001B[38;5;129;01min\u001B[39;00m data\u001B[38;5;241m.\u001B[39mtext \u001B[38;5;129;01mor\u001B[39;00m data \u001B[38;5;129;01mis\u001B[39;00m \u001B[38;5;28;01mNone\u001B[39;00m:\n\u001B[0;32m    146\u001B[0m         \u001B[38;5;28;01mraise\u001B[39;00m \u001B[38;5;167;01mRuntimeError\u001B[39;00m(\u001B[38;5;124m\"\u001B[39m\u001B[38;5;124m*** YAHOO! FINANCE IS CURRENTLY DOWN! ***\u001B[39m\u001B[38;5;130;01m\\n\u001B[39;00m\u001B[38;5;124m\"\u001B[39m\n\u001B[0;32m    147\u001B[0m                            \u001B[38;5;124m\"\u001B[39m\u001B[38;5;124mOur engineers are working quickly to resolve \u001B[39m\u001B[38;5;124m\"\u001B[39m\n\u001B[0;32m    148\u001B[0m                            \u001B[38;5;124m\"\u001B[39m\u001B[38;5;124mthe issue. Thank you for your patience.\u001B[39m\u001B[38;5;124m\"\u001B[39m)\n",
      "File \u001B[1;32m~\\PycharmProjects\\financial-forecast-cnn-lstm\\.venv\\Lib\\site-packages\\yfinance\\data.py:28\u001B[0m, in \u001B[0;36mlru_cache_freezeargs.<locals>.wrapped\u001B[1;34m(*args, **kwargs)\u001B[0m\n\u001B[0;32m     26\u001B[0m args \u001B[38;5;241m=\u001B[39m \u001B[38;5;28mtuple\u001B[39m([\u001B[38;5;28mtuple\u001B[39m(arg) \u001B[38;5;28;01mif\u001B[39;00m \u001B[38;5;28misinstance\u001B[39m(arg, \u001B[38;5;28mlist\u001B[39m) \u001B[38;5;28;01melse\u001B[39;00m arg \u001B[38;5;28;01mfor\u001B[39;00m arg \u001B[38;5;129;01min\u001B[39;00m args])\n\u001B[0;32m     27\u001B[0m kwargs \u001B[38;5;241m=\u001B[39m {k: \u001B[38;5;28mtuple\u001B[39m(v) \u001B[38;5;28;01mif\u001B[39;00m \u001B[38;5;28misinstance\u001B[39m(v, \u001B[38;5;28mlist\u001B[39m) \u001B[38;5;28;01melse\u001B[39;00m v \u001B[38;5;28;01mfor\u001B[39;00m k, v \u001B[38;5;129;01min\u001B[39;00m kwargs\u001B[38;5;241m.\u001B[39mitems()}\n\u001B[1;32m---> 28\u001B[0m \u001B[38;5;28;01mreturn\u001B[39;00m \u001B[43mfunc\u001B[49m\u001B[43m(\u001B[49m\u001B[38;5;241;43m*\u001B[39;49m\u001B[43margs\u001B[49m\u001B[43m,\u001B[49m\u001B[43m \u001B[49m\u001B[38;5;241;43m*\u001B[39;49m\u001B[38;5;241;43m*\u001B[39;49m\u001B[43mkwargs\u001B[49m\u001B[43m)\u001B[49m\n",
      "File \u001B[1;32m~\\PycharmProjects\\financial-forecast-cnn-lstm\\.venv\\Lib\\site-packages\\yfinance\\data.py:387\u001B[0m, in \u001B[0;36mYfData.cache_get\u001B[1;34m(self, url, user_agent_headers, params, proxy, timeout)\u001B[0m\n\u001B[0;32m    384\u001B[0m \u001B[38;5;129m@lru_cache_freezeargs\u001B[39m\n\u001B[0;32m    385\u001B[0m \u001B[38;5;129m@lru_cache\u001B[39m(maxsize\u001B[38;5;241m=\u001B[39mcache_maxsize)\n\u001B[0;32m    386\u001B[0m \u001B[38;5;28;01mdef\u001B[39;00m \u001B[38;5;21mcache_get\u001B[39m(\u001B[38;5;28mself\u001B[39m, url, user_agent_headers\u001B[38;5;241m=\u001B[39m\u001B[38;5;28;01mNone\u001B[39;00m, params\u001B[38;5;241m=\u001B[39m\u001B[38;5;28;01mNone\u001B[39;00m, proxy\u001B[38;5;241m=\u001B[39m\u001B[38;5;28;01mNone\u001B[39;00m, timeout\u001B[38;5;241m=\u001B[39m\u001B[38;5;241m30\u001B[39m):\n\u001B[1;32m--> 387\u001B[0m     \u001B[38;5;28;01mreturn\u001B[39;00m \u001B[38;5;28;43mself\u001B[39;49m\u001B[38;5;241;43m.\u001B[39;49m\u001B[43mget\u001B[49m\u001B[43m(\u001B[49m\u001B[43murl\u001B[49m\u001B[43m,\u001B[49m\u001B[43m \u001B[49m\u001B[43muser_agent_headers\u001B[49m\u001B[43m,\u001B[49m\u001B[43m \u001B[49m\u001B[43mparams\u001B[49m\u001B[43m,\u001B[49m\u001B[43m \u001B[49m\u001B[43mproxy\u001B[49m\u001B[43m,\u001B[49m\u001B[43m \u001B[49m\u001B[43mtimeout\u001B[49m\u001B[43m)\u001B[49m\n",
      "File \u001B[1;32m~\\PycharmProjects\\financial-forecast-cnn-lstm\\.venv\\Lib\\site-packages\\yfinance\\utils.py:103\u001B[0m, in \u001B[0;36mlog_indent_decorator.<locals>.wrapper\u001B[1;34m(*args, **kwargs)\u001B[0m\n\u001B[0;32m    100\u001B[0m logger\u001B[38;5;241m.\u001B[39mdebug(\u001B[38;5;124mf\u001B[39m\u001B[38;5;124m'\u001B[39m\u001B[38;5;124mEntering \u001B[39m\u001B[38;5;132;01m{\u001B[39;00mfunc\u001B[38;5;241m.\u001B[39m\u001B[38;5;18m__name__\u001B[39m\u001B[38;5;132;01m}\u001B[39;00m\u001B[38;5;124m()\u001B[39m\u001B[38;5;124m'\u001B[39m)\n\u001B[0;32m    102\u001B[0m \u001B[38;5;28;01mwith\u001B[39;00m IndentationContext():\n\u001B[1;32m--> 103\u001B[0m     result \u001B[38;5;241m=\u001B[39m \u001B[43mfunc\u001B[49m\u001B[43m(\u001B[49m\u001B[38;5;241;43m*\u001B[39;49m\u001B[43margs\u001B[49m\u001B[43m,\u001B[49m\u001B[43m \u001B[49m\u001B[38;5;241;43m*\u001B[39;49m\u001B[38;5;241;43m*\u001B[39;49m\u001B[43mkwargs\u001B[49m\u001B[43m)\u001B[49m\n\u001B[0;32m    105\u001B[0m logger\u001B[38;5;241m.\u001B[39mdebug(\u001B[38;5;124mf\u001B[39m\u001B[38;5;124m'\u001B[39m\u001B[38;5;124mExiting \u001B[39m\u001B[38;5;132;01m{\u001B[39;00mfunc\u001B[38;5;241m.\u001B[39m\u001B[38;5;18m__name__\u001B[39m\u001B[38;5;132;01m}\u001B[39;00m\u001B[38;5;124m()\u001B[39m\u001B[38;5;124m'\u001B[39m)\n\u001B[0;32m    106\u001B[0m \u001B[38;5;28;01mreturn\u001B[39;00m result\n",
      "File \u001B[1;32m~\\PycharmProjects\\financial-forecast-cnn-lstm\\.venv\\Lib\\site-packages\\yfinance\\data.py:367\u001B[0m, in \u001B[0;36mYfData.get\u001B[1;34m(self, url, user_agent_headers, params, proxy, timeout)\u001B[0m\n\u001B[0;32m    357\u001B[0m     cookies \u001B[38;5;241m=\u001B[39m \u001B[38;5;28;01mNone\u001B[39;00m\n\u001B[0;32m    359\u001B[0m request_args \u001B[38;5;241m=\u001B[39m {\n\u001B[0;32m    360\u001B[0m     \u001B[38;5;124m'\u001B[39m\u001B[38;5;124murl\u001B[39m\u001B[38;5;124m'\u001B[39m: url,\n\u001B[0;32m    361\u001B[0m     \u001B[38;5;124m'\u001B[39m\u001B[38;5;124mparams\u001B[39m\u001B[38;5;124m'\u001B[39m: {\u001B[38;5;241m*\u001B[39m\u001B[38;5;241m*\u001B[39mparams, \u001B[38;5;241m*\u001B[39m\u001B[38;5;241m*\u001B[39mcrumbs},\n\u001B[1;32m   (...)\u001B[0m\n\u001B[0;32m    365\u001B[0m     \u001B[38;5;124m'\u001B[39m\u001B[38;5;124mheaders\u001B[39m\u001B[38;5;124m'\u001B[39m: user_agent_headers \u001B[38;5;129;01mor\u001B[39;00m \u001B[38;5;28mself\u001B[39m\u001B[38;5;241m.\u001B[39muser_agent_headers\n\u001B[0;32m    366\u001B[0m }\n\u001B[1;32m--> 367\u001B[0m response \u001B[38;5;241m=\u001B[39m \u001B[38;5;28;43mself\u001B[39;49m\u001B[38;5;241;43m.\u001B[39;49m\u001B[43m_session\u001B[49m\u001B[38;5;241;43m.\u001B[39;49m\u001B[43mget\u001B[49m\u001B[43m(\u001B[49m\u001B[38;5;241;43m*\u001B[39;49m\u001B[38;5;241;43m*\u001B[39;49m\u001B[43mrequest_args\u001B[49m\u001B[43m)\u001B[49m\n\u001B[0;32m    368\u001B[0m utils\u001B[38;5;241m.\u001B[39mget_yf_logger()\u001B[38;5;241m.\u001B[39mdebug(\u001B[38;5;124mf\u001B[39m\u001B[38;5;124m'\u001B[39m\u001B[38;5;124mresponse code=\u001B[39m\u001B[38;5;132;01m{\u001B[39;00mresponse\u001B[38;5;241m.\u001B[39mstatus_code\u001B[38;5;132;01m}\u001B[39;00m\u001B[38;5;124m'\u001B[39m)\n\u001B[0;32m    369\u001B[0m \u001B[38;5;28;01mif\u001B[39;00m response\u001B[38;5;241m.\u001B[39mstatus_code \u001B[38;5;241m>\u001B[39m\u001B[38;5;241m=\u001B[39m \u001B[38;5;241m400\u001B[39m:\n\u001B[0;32m    370\u001B[0m     \u001B[38;5;66;03m# Retry with other cookie strategy\u001B[39;00m\n",
      "File \u001B[1;32m~\\PycharmProjects\\financial-forecast-cnn-lstm\\.venv\\Lib\\site-packages\\requests\\sessions.py:602\u001B[0m, in \u001B[0;36mSession.get\u001B[1;34m(self, url, **kwargs)\u001B[0m\n\u001B[0;32m    594\u001B[0m \u001B[38;5;250m\u001B[39m\u001B[38;5;124mr\u001B[39m\u001B[38;5;124;03m\"\"\"Sends a GET request. Returns :class:`Response` object.\u001B[39;00m\n\u001B[0;32m    595\u001B[0m \n\u001B[0;32m    596\u001B[0m \u001B[38;5;124;03m:param url: URL for the new :class:`Request` object.\u001B[39;00m\n\u001B[0;32m    597\u001B[0m \u001B[38;5;124;03m:param \\*\\*kwargs: Optional arguments that ``request`` takes.\u001B[39;00m\n\u001B[0;32m    598\u001B[0m \u001B[38;5;124;03m:rtype: requests.Response\u001B[39;00m\n\u001B[0;32m    599\u001B[0m \u001B[38;5;124;03m\"\"\"\u001B[39;00m\n\u001B[0;32m    601\u001B[0m kwargs\u001B[38;5;241m.\u001B[39msetdefault(\u001B[38;5;124m\"\u001B[39m\u001B[38;5;124mallow_redirects\u001B[39m\u001B[38;5;124m\"\u001B[39m, \u001B[38;5;28;01mTrue\u001B[39;00m)\n\u001B[1;32m--> 602\u001B[0m \u001B[38;5;28;01mreturn\u001B[39;00m \u001B[38;5;28;43mself\u001B[39;49m\u001B[38;5;241;43m.\u001B[39;49m\u001B[43mrequest\u001B[49m\u001B[43m(\u001B[49m\u001B[38;5;124;43m\"\u001B[39;49m\u001B[38;5;124;43mGET\u001B[39;49m\u001B[38;5;124;43m\"\u001B[39;49m\u001B[43m,\u001B[49m\u001B[43m \u001B[49m\u001B[43murl\u001B[49m\u001B[43m,\u001B[49m\u001B[43m \u001B[49m\u001B[38;5;241;43m*\u001B[39;49m\u001B[38;5;241;43m*\u001B[39;49m\u001B[43mkwargs\u001B[49m\u001B[43m)\u001B[49m\n",
      "File \u001B[1;32m~\\PycharmProjects\\financial-forecast-cnn-lstm\\.venv\\Lib\\site-packages\\requests\\sessions.py:589\u001B[0m, in \u001B[0;36mSession.request\u001B[1;34m(self, method, url, params, data, headers, cookies, files, auth, timeout, allow_redirects, proxies, hooks, stream, verify, cert, json)\u001B[0m\n\u001B[0;32m    584\u001B[0m send_kwargs \u001B[38;5;241m=\u001B[39m {\n\u001B[0;32m    585\u001B[0m     \u001B[38;5;124m\"\u001B[39m\u001B[38;5;124mtimeout\u001B[39m\u001B[38;5;124m\"\u001B[39m: timeout,\n\u001B[0;32m    586\u001B[0m     \u001B[38;5;124m\"\u001B[39m\u001B[38;5;124mallow_redirects\u001B[39m\u001B[38;5;124m\"\u001B[39m: allow_redirects,\n\u001B[0;32m    587\u001B[0m }\n\u001B[0;32m    588\u001B[0m send_kwargs\u001B[38;5;241m.\u001B[39mupdate(settings)\n\u001B[1;32m--> 589\u001B[0m resp \u001B[38;5;241m=\u001B[39m \u001B[38;5;28;43mself\u001B[39;49m\u001B[38;5;241;43m.\u001B[39;49m\u001B[43msend\u001B[49m\u001B[43m(\u001B[49m\u001B[43mprep\u001B[49m\u001B[43m,\u001B[49m\u001B[43m \u001B[49m\u001B[38;5;241;43m*\u001B[39;49m\u001B[38;5;241;43m*\u001B[39;49m\u001B[43msend_kwargs\u001B[49m\u001B[43m)\u001B[49m\n\u001B[0;32m    591\u001B[0m \u001B[38;5;28;01mreturn\u001B[39;00m resp\n",
      "File \u001B[1;32m~\\PycharmProjects\\financial-forecast-cnn-lstm\\.venv\\Lib\\site-packages\\requests\\sessions.py:703\u001B[0m, in \u001B[0;36mSession.send\u001B[1;34m(self, request, **kwargs)\u001B[0m\n\u001B[0;32m    700\u001B[0m start \u001B[38;5;241m=\u001B[39m preferred_clock()\n\u001B[0;32m    702\u001B[0m \u001B[38;5;66;03m# Send the request\u001B[39;00m\n\u001B[1;32m--> 703\u001B[0m r \u001B[38;5;241m=\u001B[39m \u001B[43madapter\u001B[49m\u001B[38;5;241;43m.\u001B[39;49m\u001B[43msend\u001B[49m\u001B[43m(\u001B[49m\u001B[43mrequest\u001B[49m\u001B[43m,\u001B[49m\u001B[43m \u001B[49m\u001B[38;5;241;43m*\u001B[39;49m\u001B[38;5;241;43m*\u001B[39;49m\u001B[43mkwargs\u001B[49m\u001B[43m)\u001B[49m\n\u001B[0;32m    705\u001B[0m \u001B[38;5;66;03m# Total elapsed time of the request (approximately)\u001B[39;00m\n\u001B[0;32m    706\u001B[0m elapsed \u001B[38;5;241m=\u001B[39m preferred_clock() \u001B[38;5;241m-\u001B[39m start\n",
      "File \u001B[1;32m~\\PycharmProjects\\financial-forecast-cnn-lstm\\.venv\\Lib\\site-packages\\requests\\adapters.py:486\u001B[0m, in \u001B[0;36mHTTPAdapter.send\u001B[1;34m(self, request, stream, timeout, verify, cert, proxies)\u001B[0m\n\u001B[0;32m    483\u001B[0m     timeout \u001B[38;5;241m=\u001B[39m TimeoutSauce(connect\u001B[38;5;241m=\u001B[39mtimeout, read\u001B[38;5;241m=\u001B[39mtimeout)\n\u001B[0;32m    485\u001B[0m \u001B[38;5;28;01mtry\u001B[39;00m:\n\u001B[1;32m--> 486\u001B[0m     resp \u001B[38;5;241m=\u001B[39m \u001B[43mconn\u001B[49m\u001B[38;5;241;43m.\u001B[39;49m\u001B[43murlopen\u001B[49m\u001B[43m(\u001B[49m\n\u001B[0;32m    487\u001B[0m \u001B[43m        \u001B[49m\u001B[43mmethod\u001B[49m\u001B[38;5;241;43m=\u001B[39;49m\u001B[43mrequest\u001B[49m\u001B[38;5;241;43m.\u001B[39;49m\u001B[43mmethod\u001B[49m\u001B[43m,\u001B[49m\n\u001B[0;32m    488\u001B[0m \u001B[43m        \u001B[49m\u001B[43murl\u001B[49m\u001B[38;5;241;43m=\u001B[39;49m\u001B[43murl\u001B[49m\u001B[43m,\u001B[49m\n\u001B[0;32m    489\u001B[0m \u001B[43m        \u001B[49m\u001B[43mbody\u001B[49m\u001B[38;5;241;43m=\u001B[39;49m\u001B[43mrequest\u001B[49m\u001B[38;5;241;43m.\u001B[39;49m\u001B[43mbody\u001B[49m\u001B[43m,\u001B[49m\n\u001B[0;32m    490\u001B[0m \u001B[43m        \u001B[49m\u001B[43mheaders\u001B[49m\u001B[38;5;241;43m=\u001B[39;49m\u001B[43mrequest\u001B[49m\u001B[38;5;241;43m.\u001B[39;49m\u001B[43mheaders\u001B[49m\u001B[43m,\u001B[49m\n\u001B[0;32m    491\u001B[0m \u001B[43m        \u001B[49m\u001B[43mredirect\u001B[49m\u001B[38;5;241;43m=\u001B[39;49m\u001B[38;5;28;43;01mFalse\u001B[39;49;00m\u001B[43m,\u001B[49m\n\u001B[0;32m    492\u001B[0m \u001B[43m        \u001B[49m\u001B[43massert_same_host\u001B[49m\u001B[38;5;241;43m=\u001B[39;49m\u001B[38;5;28;43;01mFalse\u001B[39;49;00m\u001B[43m,\u001B[49m\n\u001B[0;32m    493\u001B[0m \u001B[43m        \u001B[49m\u001B[43mpreload_content\u001B[49m\u001B[38;5;241;43m=\u001B[39;49m\u001B[38;5;28;43;01mFalse\u001B[39;49;00m\u001B[43m,\u001B[49m\n\u001B[0;32m    494\u001B[0m \u001B[43m        \u001B[49m\u001B[43mdecode_content\u001B[49m\u001B[38;5;241;43m=\u001B[39;49m\u001B[38;5;28;43;01mFalse\u001B[39;49;00m\u001B[43m,\u001B[49m\n\u001B[0;32m    495\u001B[0m \u001B[43m        \u001B[49m\u001B[43mretries\u001B[49m\u001B[38;5;241;43m=\u001B[39;49m\u001B[38;5;28;43mself\u001B[39;49m\u001B[38;5;241;43m.\u001B[39;49m\u001B[43mmax_retries\u001B[49m\u001B[43m,\u001B[49m\n\u001B[0;32m    496\u001B[0m \u001B[43m        \u001B[49m\u001B[43mtimeout\u001B[49m\u001B[38;5;241;43m=\u001B[39;49m\u001B[43mtimeout\u001B[49m\u001B[43m,\u001B[49m\n\u001B[0;32m    497\u001B[0m \u001B[43m        \u001B[49m\u001B[43mchunked\u001B[49m\u001B[38;5;241;43m=\u001B[39;49m\u001B[43mchunked\u001B[49m\u001B[43m,\u001B[49m\n\u001B[0;32m    498\u001B[0m \u001B[43m    \u001B[49m\u001B[43m)\u001B[49m\n\u001B[0;32m    500\u001B[0m \u001B[38;5;28;01mexcept\u001B[39;00m (ProtocolError, \u001B[38;5;167;01mOSError\u001B[39;00m) \u001B[38;5;28;01mas\u001B[39;00m err:\n\u001B[0;32m    501\u001B[0m     \u001B[38;5;28;01mraise\u001B[39;00m \u001B[38;5;167;01mConnectionError\u001B[39;00m(err, request\u001B[38;5;241m=\u001B[39mrequest)\n",
      "File \u001B[1;32m~\\PycharmProjects\\financial-forecast-cnn-lstm\\.venv\\Lib\\site-packages\\urllib3\\connectionpool.py:715\u001B[0m, in \u001B[0;36mHTTPConnectionPool.urlopen\u001B[1;34m(self, method, url, body, headers, retries, redirect, assert_same_host, timeout, pool_timeout, release_conn, chunked, body_pos, **response_kw)\u001B[0m\n\u001B[0;32m    712\u001B[0m     \u001B[38;5;28mself\u001B[39m\u001B[38;5;241m.\u001B[39m_prepare_proxy(conn)\n\u001B[0;32m    714\u001B[0m \u001B[38;5;66;03m# Make the request on the httplib connection object.\u001B[39;00m\n\u001B[1;32m--> 715\u001B[0m httplib_response \u001B[38;5;241m=\u001B[39m \u001B[38;5;28;43mself\u001B[39;49m\u001B[38;5;241;43m.\u001B[39;49m\u001B[43m_make_request\u001B[49m\u001B[43m(\u001B[49m\n\u001B[0;32m    716\u001B[0m \u001B[43m    \u001B[49m\u001B[43mconn\u001B[49m\u001B[43m,\u001B[49m\n\u001B[0;32m    717\u001B[0m \u001B[43m    \u001B[49m\u001B[43mmethod\u001B[49m\u001B[43m,\u001B[49m\n\u001B[0;32m    718\u001B[0m \u001B[43m    \u001B[49m\u001B[43murl\u001B[49m\u001B[43m,\u001B[49m\n\u001B[0;32m    719\u001B[0m \u001B[43m    \u001B[49m\u001B[43mtimeout\u001B[49m\u001B[38;5;241;43m=\u001B[39;49m\u001B[43mtimeout_obj\u001B[49m\u001B[43m,\u001B[49m\n\u001B[0;32m    720\u001B[0m \u001B[43m    \u001B[49m\u001B[43mbody\u001B[49m\u001B[38;5;241;43m=\u001B[39;49m\u001B[43mbody\u001B[49m\u001B[43m,\u001B[49m\n\u001B[0;32m    721\u001B[0m \u001B[43m    \u001B[49m\u001B[43mheaders\u001B[49m\u001B[38;5;241;43m=\u001B[39;49m\u001B[43mheaders\u001B[49m\u001B[43m,\u001B[49m\n\u001B[0;32m    722\u001B[0m \u001B[43m    \u001B[49m\u001B[43mchunked\u001B[49m\u001B[38;5;241;43m=\u001B[39;49m\u001B[43mchunked\u001B[49m\u001B[43m,\u001B[49m\n\u001B[0;32m    723\u001B[0m \u001B[43m\u001B[49m\u001B[43m)\u001B[49m\n\u001B[0;32m    725\u001B[0m \u001B[38;5;66;03m# If we're going to release the connection in ``finally:``, then\u001B[39;00m\n\u001B[0;32m    726\u001B[0m \u001B[38;5;66;03m# the response doesn't need to know about the connection. Otherwise\u001B[39;00m\n\u001B[0;32m    727\u001B[0m \u001B[38;5;66;03m# it will also try to release it and we'll have a double-release\u001B[39;00m\n\u001B[0;32m    728\u001B[0m \u001B[38;5;66;03m# mess.\u001B[39;00m\n\u001B[0;32m    729\u001B[0m response_conn \u001B[38;5;241m=\u001B[39m conn \u001B[38;5;28;01mif\u001B[39;00m \u001B[38;5;129;01mnot\u001B[39;00m release_conn \u001B[38;5;28;01melse\u001B[39;00m \u001B[38;5;28;01mNone\u001B[39;00m\n",
      "File \u001B[1;32m~\\PycharmProjects\\financial-forecast-cnn-lstm\\.venv\\Lib\\site-packages\\urllib3\\connectionpool.py:467\u001B[0m, in \u001B[0;36mHTTPConnectionPool._make_request\u001B[1;34m(self, conn, method, url, timeout, chunked, **httplib_request_kw)\u001B[0m\n\u001B[0;32m    462\u001B[0m             httplib_response \u001B[38;5;241m=\u001B[39m conn\u001B[38;5;241m.\u001B[39mgetresponse()\n\u001B[0;32m    463\u001B[0m         \u001B[38;5;28;01mexcept\u001B[39;00m \u001B[38;5;167;01mBaseException\u001B[39;00m \u001B[38;5;28;01mas\u001B[39;00m e:\n\u001B[0;32m    464\u001B[0m             \u001B[38;5;66;03m# Remove the TypeError from the exception chain in\u001B[39;00m\n\u001B[0;32m    465\u001B[0m             \u001B[38;5;66;03m# Python 3 (including for exceptions like SystemExit).\u001B[39;00m\n\u001B[0;32m    466\u001B[0m             \u001B[38;5;66;03m# Otherwise it looks like a bug in the code.\u001B[39;00m\n\u001B[1;32m--> 467\u001B[0m             \u001B[43msix\u001B[49m\u001B[38;5;241;43m.\u001B[39;49m\u001B[43mraise_from\u001B[49m\u001B[43m(\u001B[49m\u001B[43me\u001B[49m\u001B[43m,\u001B[49m\u001B[43m \u001B[49m\u001B[38;5;28;43;01mNone\u001B[39;49;00m\u001B[43m)\u001B[49m\n\u001B[0;32m    468\u001B[0m \u001B[38;5;28;01mexcept\u001B[39;00m (SocketTimeout, BaseSSLError, SocketError) \u001B[38;5;28;01mas\u001B[39;00m e:\n\u001B[0;32m    469\u001B[0m     \u001B[38;5;28mself\u001B[39m\u001B[38;5;241m.\u001B[39m_raise_timeout(err\u001B[38;5;241m=\u001B[39me, url\u001B[38;5;241m=\u001B[39murl, timeout_value\u001B[38;5;241m=\u001B[39mread_timeout)\n",
      "File \u001B[1;32m<string>:3\u001B[0m, in \u001B[0;36mraise_from\u001B[1;34m(value, from_value)\u001B[0m\n",
      "File \u001B[1;32m~\\PycharmProjects\\financial-forecast-cnn-lstm\\.venv\\Lib\\site-packages\\urllib3\\connectionpool.py:462\u001B[0m, in \u001B[0;36mHTTPConnectionPool._make_request\u001B[1;34m(self, conn, method, url, timeout, chunked, **httplib_request_kw)\u001B[0m\n\u001B[0;32m    459\u001B[0m \u001B[38;5;28;01mexcept\u001B[39;00m \u001B[38;5;167;01mTypeError\u001B[39;00m:\n\u001B[0;32m    460\u001B[0m     \u001B[38;5;66;03m# Python 3\u001B[39;00m\n\u001B[0;32m    461\u001B[0m     \u001B[38;5;28;01mtry\u001B[39;00m:\n\u001B[1;32m--> 462\u001B[0m         httplib_response \u001B[38;5;241m=\u001B[39m \u001B[43mconn\u001B[49m\u001B[38;5;241;43m.\u001B[39;49m\u001B[43mgetresponse\u001B[49m\u001B[43m(\u001B[49m\u001B[43m)\u001B[49m\n\u001B[0;32m    463\u001B[0m     \u001B[38;5;28;01mexcept\u001B[39;00m \u001B[38;5;167;01mBaseException\u001B[39;00m \u001B[38;5;28;01mas\u001B[39;00m e:\n\u001B[0;32m    464\u001B[0m         \u001B[38;5;66;03m# Remove the TypeError from the exception chain in\u001B[39;00m\n\u001B[0;32m    465\u001B[0m         \u001B[38;5;66;03m# Python 3 (including for exceptions like SystemExit).\u001B[39;00m\n\u001B[0;32m    466\u001B[0m         \u001B[38;5;66;03m# Otherwise it looks like a bug in the code.\u001B[39;00m\n\u001B[0;32m    467\u001B[0m         six\u001B[38;5;241m.\u001B[39mraise_from(e, \u001B[38;5;28;01mNone\u001B[39;00m)\n",
      "File \u001B[1;32m~\\AppData\\Local\\Programs\\Python\\Python312\\Lib\\http\\client.py:1419\u001B[0m, in \u001B[0;36mHTTPConnection.getresponse\u001B[1;34m(self)\u001B[0m\n\u001B[0;32m   1417\u001B[0m \u001B[38;5;28;01mtry\u001B[39;00m:\n\u001B[0;32m   1418\u001B[0m     \u001B[38;5;28;01mtry\u001B[39;00m:\n\u001B[1;32m-> 1419\u001B[0m         \u001B[43mresponse\u001B[49m\u001B[38;5;241;43m.\u001B[39;49m\u001B[43mbegin\u001B[49m\u001B[43m(\u001B[49m\u001B[43m)\u001B[49m\n\u001B[0;32m   1420\u001B[0m     \u001B[38;5;28;01mexcept\u001B[39;00m \u001B[38;5;167;01mConnectionError\u001B[39;00m:\n\u001B[0;32m   1421\u001B[0m         \u001B[38;5;28mself\u001B[39m\u001B[38;5;241m.\u001B[39mclose()\n",
      "File \u001B[1;32m~\\AppData\\Local\\Programs\\Python\\Python312\\Lib\\http\\client.py:331\u001B[0m, in \u001B[0;36mHTTPResponse.begin\u001B[1;34m(self)\u001B[0m\n\u001B[0;32m    329\u001B[0m \u001B[38;5;66;03m# read until we get a non-100 response\u001B[39;00m\n\u001B[0;32m    330\u001B[0m \u001B[38;5;28;01mwhile\u001B[39;00m \u001B[38;5;28;01mTrue\u001B[39;00m:\n\u001B[1;32m--> 331\u001B[0m     version, status, reason \u001B[38;5;241m=\u001B[39m \u001B[38;5;28;43mself\u001B[39;49m\u001B[38;5;241;43m.\u001B[39;49m\u001B[43m_read_status\u001B[49m\u001B[43m(\u001B[49m\u001B[43m)\u001B[49m\n\u001B[0;32m    332\u001B[0m     \u001B[38;5;28;01mif\u001B[39;00m status \u001B[38;5;241m!=\u001B[39m CONTINUE:\n\u001B[0;32m    333\u001B[0m         \u001B[38;5;28;01mbreak\u001B[39;00m\n",
      "File \u001B[1;32m~\\AppData\\Local\\Programs\\Python\\Python312\\Lib\\http\\client.py:292\u001B[0m, in \u001B[0;36mHTTPResponse._read_status\u001B[1;34m(self)\u001B[0m\n\u001B[0;32m    291\u001B[0m \u001B[38;5;28;01mdef\u001B[39;00m \u001B[38;5;21m_read_status\u001B[39m(\u001B[38;5;28mself\u001B[39m):\n\u001B[1;32m--> 292\u001B[0m     line \u001B[38;5;241m=\u001B[39m \u001B[38;5;28mstr\u001B[39m(\u001B[38;5;28;43mself\u001B[39;49m\u001B[38;5;241;43m.\u001B[39;49m\u001B[43mfp\u001B[49m\u001B[38;5;241;43m.\u001B[39;49m\u001B[43mreadline\u001B[49m\u001B[43m(\u001B[49m\u001B[43m_MAXLINE\u001B[49m\u001B[43m \u001B[49m\u001B[38;5;241;43m+\u001B[39;49m\u001B[43m \u001B[49m\u001B[38;5;241;43m1\u001B[39;49m\u001B[43m)\u001B[49m, \u001B[38;5;124m\"\u001B[39m\u001B[38;5;124miso-8859-1\u001B[39m\u001B[38;5;124m\"\u001B[39m)\n\u001B[0;32m    293\u001B[0m     \u001B[38;5;28;01mif\u001B[39;00m \u001B[38;5;28mlen\u001B[39m(line) \u001B[38;5;241m>\u001B[39m _MAXLINE:\n\u001B[0;32m    294\u001B[0m         \u001B[38;5;28;01mraise\u001B[39;00m LineTooLong(\u001B[38;5;124m\"\u001B[39m\u001B[38;5;124mstatus line\u001B[39m\u001B[38;5;124m\"\u001B[39m)\n",
      "File \u001B[1;32m~\\AppData\\Local\\Programs\\Python\\Python312\\Lib\\socket.py:707\u001B[0m, in \u001B[0;36mSocketIO.readinto\u001B[1;34m(self, b)\u001B[0m\n\u001B[0;32m    705\u001B[0m \u001B[38;5;28;01mwhile\u001B[39;00m \u001B[38;5;28;01mTrue\u001B[39;00m:\n\u001B[0;32m    706\u001B[0m     \u001B[38;5;28;01mtry\u001B[39;00m:\n\u001B[1;32m--> 707\u001B[0m         \u001B[38;5;28;01mreturn\u001B[39;00m \u001B[38;5;28;43mself\u001B[39;49m\u001B[38;5;241;43m.\u001B[39;49m\u001B[43m_sock\u001B[49m\u001B[38;5;241;43m.\u001B[39;49m\u001B[43mrecv_into\u001B[49m\u001B[43m(\u001B[49m\u001B[43mb\u001B[49m\u001B[43m)\u001B[49m\n\u001B[0;32m    708\u001B[0m     \u001B[38;5;28;01mexcept\u001B[39;00m timeout:\n\u001B[0;32m    709\u001B[0m         \u001B[38;5;28mself\u001B[39m\u001B[38;5;241m.\u001B[39m_timeout_occurred \u001B[38;5;241m=\u001B[39m \u001B[38;5;28;01mTrue\u001B[39;00m\n",
      "File \u001B[1;32m~\\AppData\\Local\\Programs\\Python\\Python312\\Lib\\ssl.py:1253\u001B[0m, in \u001B[0;36mSSLSocket.recv_into\u001B[1;34m(self, buffer, nbytes, flags)\u001B[0m\n\u001B[0;32m   1249\u001B[0m     \u001B[38;5;28;01mif\u001B[39;00m flags \u001B[38;5;241m!=\u001B[39m \u001B[38;5;241m0\u001B[39m:\n\u001B[0;32m   1250\u001B[0m         \u001B[38;5;28;01mraise\u001B[39;00m \u001B[38;5;167;01mValueError\u001B[39;00m(\n\u001B[0;32m   1251\u001B[0m           \u001B[38;5;124m\"\u001B[39m\u001B[38;5;124mnon-zero flags not allowed in calls to recv_into() on \u001B[39m\u001B[38;5;132;01m%s\u001B[39;00m\u001B[38;5;124m\"\u001B[39m \u001B[38;5;241m%\u001B[39m\n\u001B[0;32m   1252\u001B[0m           \u001B[38;5;28mself\u001B[39m\u001B[38;5;241m.\u001B[39m\u001B[38;5;18m__class__\u001B[39m)\n\u001B[1;32m-> 1253\u001B[0m     \u001B[38;5;28;01mreturn\u001B[39;00m \u001B[38;5;28;43mself\u001B[39;49m\u001B[38;5;241;43m.\u001B[39;49m\u001B[43mread\u001B[49m\u001B[43m(\u001B[49m\u001B[43mnbytes\u001B[49m\u001B[43m,\u001B[49m\u001B[43m \u001B[49m\u001B[43mbuffer\u001B[49m\u001B[43m)\u001B[49m\n\u001B[0;32m   1254\u001B[0m \u001B[38;5;28;01melse\u001B[39;00m:\n\u001B[0;32m   1255\u001B[0m     \u001B[38;5;28;01mreturn\u001B[39;00m \u001B[38;5;28msuper\u001B[39m()\u001B[38;5;241m.\u001B[39mrecv_into(buffer, nbytes, flags)\n",
      "File \u001B[1;32m~\\AppData\\Local\\Programs\\Python\\Python312\\Lib\\ssl.py:1105\u001B[0m, in \u001B[0;36mSSLSocket.read\u001B[1;34m(self, len, buffer)\u001B[0m\n\u001B[0;32m   1103\u001B[0m \u001B[38;5;28;01mtry\u001B[39;00m:\n\u001B[0;32m   1104\u001B[0m     \u001B[38;5;28;01mif\u001B[39;00m buffer \u001B[38;5;129;01mis\u001B[39;00m \u001B[38;5;129;01mnot\u001B[39;00m \u001B[38;5;28;01mNone\u001B[39;00m:\n\u001B[1;32m-> 1105\u001B[0m         \u001B[38;5;28;01mreturn\u001B[39;00m \u001B[38;5;28;43mself\u001B[39;49m\u001B[38;5;241;43m.\u001B[39;49m\u001B[43m_sslobj\u001B[49m\u001B[38;5;241;43m.\u001B[39;49m\u001B[43mread\u001B[49m\u001B[43m(\u001B[49m\u001B[38;5;28;43mlen\u001B[39;49m\u001B[43m,\u001B[49m\u001B[43m \u001B[49m\u001B[43mbuffer\u001B[49m\u001B[43m)\u001B[49m\n\u001B[0;32m   1106\u001B[0m     \u001B[38;5;28;01melse\u001B[39;00m:\n\u001B[0;32m   1107\u001B[0m         \u001B[38;5;28;01mreturn\u001B[39;00m \u001B[38;5;28mself\u001B[39m\u001B[38;5;241m.\u001B[39m_sslobj\u001B[38;5;241m.\u001B[39mread(\u001B[38;5;28mlen\u001B[39m)\n",
      "\u001B[1;31mKeyboardInterrupt\u001B[0m: "
     ]
    }
   ],
   "source": [
    "failed_tickers = [] #do zapisanie tych do nie przechodzą\n",
    "\n",
    "def fetch_market_value(row):\n",
    "    market_value = get_market_value(row['ticker'], row['end_of_period'])\n",
    "    if market_value is None:\n",
    "        failed_tickers.append(row['ticker'])\n",
    "    return market_value\n",
    "\n",
    "df['market_value'] = df.apply(fetch_market_value, axis=1)"
   ],
   "metadata": {
    "collapsed": false,
    "ExecuteTime": {
     "end_time": "2024-05-18T09:40:09.934466Z",
     "start_time": "2024-05-18T09:40:04.169760200Z"
    }
   },
   "id": "43b92a5dffd646a0",
   "execution_count": 120
  },
  {
   "cell_type": "code",
   "outputs": [],
   "source": [
    "df"
   ],
   "metadata": {
    "collapsed": false,
    "ExecuteTime": {
     "end_time": "2024-05-18T09:40:09.953798800Z",
     "start_time": "2024-05-18T09:40:09.935569700Z"
    }
   },
   "id": "edc65d5530fd8853"
  },
  {
   "cell_type": "code",
   "outputs": [],
   "source": [
    "print(\"Failed tickers:\", failed_tickers)"
   ],
   "metadata": {
    "collapsed": false,
    "ExecuteTime": {
     "start_time": "2024-05-18T09:40:09.936588800Z"
    }
   },
   "id": "abf3d103503c869d"
  },
  {
   "cell_type": "code",
   "outputs": [],
   "source": [
    "#TODO sortujesz wartość w df'ie po nazwie firmy i dacie\n",
    "# wygodnie będzie przełożyć nazwe firmy i end_of_period na przednie kolumny\n",
    "df = df.sort_values(by=['filename', 'end_of_period'])"
   ],
   "metadata": {
    "collapsed": false,
    "ExecuteTime": {
     "start_time": "2024-05-18T09:40:09.937726900Z"
    }
   },
   "id": "8a6f76b5f536bb9",
   "execution_count": null
  },
  {
   "cell_type": "code",
   "outputs": [],
   "source": [
    "#TODO FEATURE ENGINEERING trzeba dodać kolumne, która liczy wartości z poprzedniego kwartału, roku, 2 lat\n",
    "# UWAGA: \n",
    "\n",
    "# Change in capital or assets structure\n",
    "# feature: change in last quarter for each company (every major data attribute)\n",
    "# feature: change in last two quarters for each company (every major data attribute)\n",
    "# feature: change in last four quarters for each company (every major data attribute)"
   ],
   "metadata": {
    "collapsed": false,
    "ExecuteTime": {
     "start_time": "2024-05-18T09:40:09.937726900Z"
    }
   },
   "id": "5533231f276316c4",
   "execution_count": null
  },
  {
   "cell_type": "code",
   "outputs": [],
   "source": [],
   "metadata": {
    "collapsed": false,
    "ExecuteTime": {
     "start_time": "2024-05-18T09:40:09.938746400Z"
    }
   },
   "id": "152cccb127139c8e",
   "execution_count": null
  },
  {
   "cell_type": "markdown",
   "source": [
    "# NN DATA CLEANING (to póki co nieistotne - trzeba skończyć pelny plik, a potem wybrać sobie odpowiednie kolumny)"
   ],
   "metadata": {
    "collapsed": false
   },
   "id": "35095269fa863206"
  },
  {
   "cell_type": "code",
   "outputs": [],
   "source": [
    "#TODO tu będzie mniejszy dataframe z bardzie dokładnymi danymi do testowania wyników (pewnie da lepsze bo unikamy dużo szumu ze zbędnych kolumn)\n",
    "#TODO ten df ma być zrobiony z kolumn poniżej\n",
    "\n",
    "#column_mapping = {\n",
    "#    'financial_liabilities': 'total_liability',\n",
    "#    'aktywa': 'total_assets'\n",
    "#}"
   ],
   "metadata": {
    "collapsed": false,
    "ExecuteTime": {
     "start_time": "2024-05-18T09:40:09.939785600Z"
    }
   },
   "id": "4bead22b0ea15848",
   "execution_count": null
  },
  {
   "cell_type": "code",
   "outputs": [],
   "source": [
    "columns_to_keep = [\n",
    "    'filename',\n",
    "    # Additional Information\n",
    "    'Current financial liabilities',\n",
    "    'Non-current financial liabilities',\n",
    "    'Financial liabilities (total)',\n",
    "    \n",
    "    # DuPont Indicators\n",
    "    'Return on equity (ROE)',\n",
    "    'Return on assets (ROA)',\n",
    "    'Leverage (EM)',\n",
    "    'Net profit margin',\n",
    "    'Asset utilization (AU)', # assets_utilization\n",
    "\n",
    "    # Indicators\n",
    "    'Current ratio', #curent_ratio\n",
    "    'Quick ratio',\n",
    "    'Cash ratio',\n",
    "    'Receivables turnover',\n",
    "    'Inventory turnover',\n",
    "    'The operating cycle',\n",
    "    'Rotation commitments',\n",
    "    'Cash conversion cycle',\n",
    "    'Rotation assets',\n",
    "    'Rotation of assets',\n",
    "    'Assets ratio',\n",
    "    'Debt ratio',\n",
    "    'Debt service ratio',\n",
    "    'Rate debt security',\n",
    "    \n",
    "    # Basic Information\n",
    "    'End of period',\n",
    "    \n",
    "    # Aktywa (Assets)\n",
    "    'Non-current assets',\n",
    "    'Current assets',\n",
    "    \n",
    "    # Pasywa (Liabilities)\n",
    "    'Equity shareholders of the parent',\n",
    "    'Non-current liabilities',\n",
    "    'Current liabilities'\n",
    "]"
   ],
   "metadata": {
    "collapsed": false,
    "ExecuteTime": {
     "start_time": "2024-05-18T09:40:09.940885600Z"
    }
   },
   "id": "cdff237650b9046d",
   "execution_count": null
  },
  {
   "cell_type": "code",
   "outputs": [],
   "source": [
    "nn_data = pd.read_csv(\"dataframes/nn_gpw_data.csv\")"
   ],
   "metadata": {
    "collapsed": false,
    "ExecuteTime": {
     "start_time": "2024-05-18T09:40:09.943048900Z"
    }
   },
   "id": "e845adae4b4aa5b5",
   "execution_count": null
  },
  {
   "cell_type": "code",
   "outputs": [],
   "source": [
    "nn_merged_df = pd.merge(nn_data, names_data, on='filename')"
   ],
   "metadata": {
    "collapsed": false,
    "ExecuteTime": {
     "start_time": "2024-05-18T09:40:09.944096300Z"
    }
   },
   "id": "2d05c7e25ae1ce43",
   "execution_count": null
  },
  {
   "cell_type": "code",
   "outputs": [],
   "source": [
    "nn_merged_df = nn_merged_df.sort_values(by=['filename', 'End of period'])"
   ],
   "metadata": {
    "collapsed": false,
    "ExecuteTime": {
     "start_time": "2024-05-18T09:40:09.946162700Z"
    }
   },
   "id": "a79ea712937983d0",
   "execution_count": null
  },
  {
   "cell_type": "code",
   "outputs": [],
   "source": [
    "nn_merged_df.columns = clean_column_names(nn_merged_df.columns)"
   ],
   "metadata": {
    "collapsed": false,
    "ExecuteTime": {
     "start_time": "2024-05-18T09:40:09.948249500Z"
    }
   },
   "id": "5f77c7e864901848",
   "execution_count": null
  },
  {
   "cell_type": "code",
   "outputs": [],
   "source": [],
   "metadata": {
    "collapsed": false,
    "ExecuteTime": {
     "start_time": "2024-05-18T09:40:09.949306600Z"
    }
   },
   "id": "23cd54e98f195d5b",
   "execution_count": null
  },
  {
   "cell_type": "code",
   "outputs": [],
   "source": [],
   "metadata": {
    "collapsed": false,
    "ExecuteTime": {
     "start_time": "2024-05-18T09:40:09.950382500Z"
    }
   },
   "id": "4d9a6d34aa30c75a",
   "execution_count": null
  },
  {
   "cell_type": "markdown",
   "source": [
    "# MINI DATAFRAME"
   ],
   "metadata": {
    "collapsed": false
   },
   "id": "4cf8add9d959a0a3"
  },
  {
   "cell_type": "code",
   "outputs": [],
   "source": [
    "#TODO tu będzie jeszcze mniej informacji, tylko te absolutnie najważniejsze (liczę że da najlepsze wyniki)"
   ],
   "metadata": {
    "collapsed": false,
    "ExecuteTime": {
     "start_time": "2024-05-18T09:40:09.950502Z"
    }
   },
   "id": "7e9820595929574b",
   "execution_count": null
  },
  {
   "cell_type": "code",
   "outputs": [],
   "source": [
    "#TODO jeszcze muszę ogarnąć jakie kolumny tu będą"
   ],
   "metadata": {
    "collapsed": false,
    "ExecuteTime": {
     "start_time": "2024-05-18T09:40:09.951520800Z"
    }
   },
   "id": "ce698e6505ca7b8",
   "execution_count": null
  }
 ],
 "metadata": {
  "kernelspec": {
   "display_name": "Python 3",
   "language": "python",
   "name": "python3"
  },
  "language_info": {
   "codemirror_mode": {
    "name": "ipython",
    "version": 2
   },
   "file_extension": ".py",
   "mimetype": "text/x-python",
   "name": "python",
   "nbconvert_exporter": "python",
   "pygments_lexer": "ipython2",
   "version": "2.7.6"
  }
 },
 "nbformat": 4,
 "nbformat_minor": 5
}
