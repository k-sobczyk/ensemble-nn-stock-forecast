{
 "cells": [
  {
   "cell_type": "markdown",
   "source": [
    "# Notes\n",
    "WSZYSTKIE PLIKI SĄ IDENTYCZNE. WSZYSTKIE TO EXCEL - 14 kart\n",
    "Czyszczenie:\n",
    "•\tWszystkie NaN na 0\n",
    "•\tSkalowanie przed modelem\n",
    "•\tInżynieria cech (wskaźniki ekonomiczne, różnica miedzy każym z elementów)\n",
    "\n",
    "TESTY DO PRZEPROWADZENIA:\n",
    "•\tUwzglednienie wszystkiego\n",
    "•\tSkupienie sie na zmianach kapitałowych\n",
    "•\tOgraniczenie tylko główne wartości\n",
    "•\tGrupowanie po przedsiębiorstwie? \n",
    "\n",
    "Podsumowanie co wyciągnąć z pliku:\n",
    "Dodatkowa kolumna jako nazwa pliku\n",
    "C – nazwa kolumny w DF\n"
   ],
   "metadata": {
    "collapsed": false
   },
   "id": "748bed7b754d866e"
  },
  {
   "cell_type": "code",
   "outputs": [],
   "source": [
    "import pandas as pd\n",
    "import re\n",
    "from data_utils import *"
   ],
   "metadata": {
    "collapsed": false,
    "ExecuteTime": {
     "end_time": "2024-05-17T23:59:06.683894Z",
     "start_time": "2024-05-17T23:59:06.407921Z"
    }
   },
   "id": "d0e00dd47f67dade",
   "execution_count": 50
  },
  {
   "cell_type": "code",
   "outputs": [],
   "source": [
    "names_data = pd.read_csv('dataframes/names_gpw.csv')"
   ],
   "metadata": {
    "collapsed": false,
    "ExecuteTime": {
     "end_time": "2024-05-17T23:59:06.966359Z",
     "start_time": "2024-05-17T23:59:06.414520Z"
    }
   },
   "id": "fc9e9aadb88d719a",
   "execution_count": 51
  },
  {
   "cell_type": "code",
   "outputs": [],
   "source": [
    "def clean_column_names(columns):\n",
    "    cleaned_columns = []\n",
    "    for column in columns:\n",
    "        column = column.lower()\n",
    "        column = re.sub(r'\\(.*?\\)', '', column)\n",
    "        column = re.sub(r'[^\\w\\s]', '', column)\n",
    "        column = re.sub(r'\\s+', '_', column)\n",
    "        column = column.rstrip('_')\n",
    "        cleaned_columns.append(column)\n",
    "    return cleaned_columns"
   ],
   "metadata": {
    "collapsed": false,
    "ExecuteTime": {
     "end_time": "2024-05-17T23:59:06.966699Z",
     "start_time": "2024-05-17T23:59:06.427613Z"
    }
   },
   "id": "39c0550ebb412fe6",
   "execution_count": 52
  },
  {
   "cell_type": "code",
   "outputs": [],
   "source": [
    "def count_rows_by_filename(df):\n",
    "    counts = df.groupby('filename').size().reset_index(name='count')\n",
    "    return counts"
   ],
   "metadata": {
    "collapsed": false,
    "ExecuteTime": {
     "end_time": "2024-05-17T23:59:07.135665Z",
     "start_time": "2024-05-17T23:59:06.435633Z"
    }
   },
   "id": "766384bd5604cbc3",
   "execution_count": 53
  },
  {
   "cell_type": "markdown",
   "source": [
    "# FULL DF CLEARNING"
   ],
   "metadata": {
    "collapsed": false
   },
   "id": "ece792ab9822a192"
  },
  {
   "cell_type": "code",
   "outputs": [],
   "source": [
    "full_data = pd.read_csv(\"dataframes/dataframe_gpw.csv\")"
   ],
   "metadata": {
    "collapsed": false,
    "ExecuteTime": {
     "end_time": "2024-05-17T23:59:07.651492Z",
     "start_time": "2024-05-17T23:59:06.442482Z"
    }
   },
   "id": "f91a1aa223ae82ee",
   "execution_count": 54
  },
  {
   "cell_type": "code",
   "outputs": [],
   "source": [
    "data_gpw = pd.merge(full_data, names_data, on='filename')"
   ],
   "metadata": {
    "collapsed": false,
    "ExecuteTime": {
     "end_time": "2024-05-17T23:59:07.667802Z",
     "start_time": "2024-05-17T23:59:06.791850Z"
    }
   },
   "id": "b0a2b11f4fa8679a",
   "execution_count": 55
  },
  {
   "cell_type": "code",
   "outputs": [],
   "source": [
    "data_gpw = data_gpw.sort_values(by=['filename', 'End of period'])"
   ],
   "metadata": {
    "collapsed": false,
    "ExecuteTime": {
     "end_time": "2024-05-17T23:59:07.669912Z",
     "start_time": "2024-05-17T23:59:06.821858Z"
    }
   },
   "id": "69aadd961210c383",
   "execution_count": 56
  },
  {
   "cell_type": "code",
   "outputs": [],
   "source": [
    "data_gpw.columns = clean_column_names(data_gpw.columns)"
   ],
   "metadata": {
    "collapsed": false,
    "ExecuteTime": {
     "end_time": "2024-05-17T23:59:07.670235Z",
     "start_time": "2024-05-17T23:59:06.854302Z"
    }
   },
   "id": "cec52b55198fb780",
   "execution_count": 57
  },
  {
   "cell_type": "code",
   "outputs": [
    {
     "data": {
      "text/plain": "         filename  count\n0      11BIT.xlsx     49\n1      3LPSA.xlsx      6\n2    3RGAMES.xlsx     48\n3         AB.xlsx     70\n4         AC.xlsx     51\n..            ...    ...\n332     ZPUE.xlsx     95\n333  ZREMBCH.xlsx     65\n334      ZUE.xlsx     53\n335      ZUK.xlsx     67\n336   ZYWIEC.xlsx     99\n\n[337 rows x 2 columns]",
      "text/html": "<div>\n<style scoped>\n    .dataframe tbody tr th:only-of-type {\n        vertical-align: middle;\n    }\n\n    .dataframe tbody tr th {\n        vertical-align: top;\n    }\n\n    .dataframe thead th {\n        text-align: right;\n    }\n</style>\n<table border=\"1\" class=\"dataframe\">\n  <thead>\n    <tr style=\"text-align: right;\">\n      <th></th>\n      <th>filename</th>\n      <th>count</th>\n    </tr>\n  </thead>\n  <tbody>\n    <tr>\n      <th>0</th>\n      <td>11BIT.xlsx</td>\n      <td>49</td>\n    </tr>\n    <tr>\n      <th>1</th>\n      <td>3LPSA.xlsx</td>\n      <td>6</td>\n    </tr>\n    <tr>\n      <th>2</th>\n      <td>3RGAMES.xlsx</td>\n      <td>48</td>\n    </tr>\n    <tr>\n      <th>3</th>\n      <td>AB.xlsx</td>\n      <td>70</td>\n    </tr>\n    <tr>\n      <th>4</th>\n      <td>AC.xlsx</td>\n      <td>51</td>\n    </tr>\n    <tr>\n      <th>...</th>\n      <td>...</td>\n      <td>...</td>\n    </tr>\n    <tr>\n      <th>332</th>\n      <td>ZPUE.xlsx</td>\n      <td>95</td>\n    </tr>\n    <tr>\n      <th>333</th>\n      <td>ZREMBCH.xlsx</td>\n      <td>65</td>\n    </tr>\n    <tr>\n      <th>334</th>\n      <td>ZUE.xlsx</td>\n      <td>53</td>\n    </tr>\n    <tr>\n      <th>335</th>\n      <td>ZUK.xlsx</td>\n      <td>67</td>\n    </tr>\n    <tr>\n      <th>336</th>\n      <td>ZYWIEC.xlsx</td>\n      <td>99</td>\n    </tr>\n  </tbody>\n</table>\n<p>337 rows × 2 columns</p>\n</div>"
     },
     "execution_count": 58,
     "metadata": {},
     "output_type": "execute_result"
    }
   ],
   "source": [
    "count_rows_by_filename(data_gpw)"
   ],
   "metadata": {
    "collapsed": false,
    "ExecuteTime": {
     "end_time": "2024-05-17T23:59:07.671391Z",
     "start_time": "2024-05-17T23:59:06.862456Z"
    }
   },
   "id": "eed39f421586c0f4",
   "execution_count": 58
  },
  {
   "cell_type": "code",
   "outputs": [],
   "source": [
    "# Delete all companies under 4 because its not enough to cover any change in assets or liabilities\n",
    "filenames_to_remove = [\n",
    "    'SADOVAYA.xlsx',\n",
    "    'BMW.xlsx',\n",
    "    'KERNEL.xlsx',\n",
    "    'SILVANO.xlsx',\n",
    "    'IMCSA.xlsx',\n",
    "    'STSHOLDING.xlsx'\n",
    "]\n",
    "\n",
    "df_filtered = data_gpw[~data_gpw['filename'].isin(filenames_to_remove)]"
   ],
   "metadata": {
    "collapsed": false,
    "ExecuteTime": {
     "end_time": "2024-05-17T23:59:07.671615Z",
     "start_time": "2024-05-17T23:59:06.885130Z"
    }
   },
   "id": "f8e343b1603a2c69",
   "execution_count": 59
  },
  {
   "cell_type": "markdown",
   "source": [
    "## Missing data"
   ],
   "metadata": {
    "collapsed": false
   },
   "id": "79e48d14f54e4905"
  },
  {
   "cell_type": "code",
   "outputs": [
    {
     "data": {
      "text/plain": "end_of_period                                                      0\nrevenues_from_sales                                              945\noperating_profitloss                                             737\nnet_profitloss_attributable_to_equity_holders_of_the_parent      577\ntotal_comprehensive_income_attributable_to_equity_holders      17723\n                                                               ...  \nnoncurrent_financial_liabilities                               19906\nfinancial_liabilities                                          19906\ncompany_name                                                       0\nsector                                                            13\nticker                                                             0\nLength: 109, dtype: int64"
     },
     "execution_count": 60,
     "metadata": {},
     "output_type": "execute_result"
    }
   ],
   "source": [
    "data_gpw.isnull().sum()"
   ],
   "metadata": {
    "collapsed": false,
    "ExecuteTime": {
     "end_time": "2024-05-17T23:59:07.672150Z",
     "start_time": "2024-05-17T23:59:06.901173Z"
    }
   },
   "id": "2466ce68bd13d51e",
   "execution_count": 60
  },
  {
   "cell_type": "code",
   "outputs": [
    {
     "data": {
      "text/plain": "     end_of_period  revenues_from_sales  operating_profitloss  \\\n5461    2017-12-31                  NaN                   NaN   \n5462    2018-12-31                  NaN                   NaN   \n5463    2019-12-31                  NaN                   NaN   \n5464    2020-12-31          34515.00000            3929.00000   \n5465    2021-09-30                  NaN                   NaN   \n5466    2021-12-31          39704.00000            3898.00000   \n3071    2020-12-31                  NaN                   NaN   \n3072    2021-12-31                  NaN                   NaN   \n5869    2019-12-31                  NaN                   NaN   \n5870    2020-12-31                  NaN                   NaN   \n5871    2021-06-30           1141.52579             302.65867   \n5872    2021-12-31                  NaN                   NaN   \n5873    2022-06-30            654.87351            -314.01440   \n\n      net_profitloss_attributable_to_equity_holders_of_the_parent  \\\n5461                                                NaN             \n5462                                                NaN             \n5463                                                NaN             \n5464                                          138.00000             \n5465                                                NaN             \n5466                                         2169.00000             \n3071                                                NaN             \n3072                                                NaN             \n5869                                                NaN             \n5870                                                NaN             \n5871                                          287.68307             \n5872                                                NaN             \n5873                                         -314.96840             \n\n      total_comprehensive_income_attributable_to_equity_holders  depreciation  \\\n5461                                                NaN                   NaN   \n5462                                                NaN                   NaN   \n5463                                                NaN                   NaN   \n5464                                              138.0            4114.00000   \n5465                                                NaN                   NaN   \n5466                                             2169.0            4459.00000   \n3071                                                NaN                   NaN   \n3072                                                NaN                   NaN   \n5869                                                NaN                   NaN   \n5870                                                NaN                   NaN   \n5871                                                NaN                   NaN   \n5872                                                NaN                   NaN   \n5873                                                NaN               0.42365   \n\n      cash_flow_from_operating_activities  \\\n5461                                  NaN   \n5462                                  NaN   \n5463                                  NaN   \n5464                           8513.00000   \n5465                                  NaN   \n5466                           5831.00000   \n3071                                  NaN   \n3072                                  NaN   \n5869                                  NaN   \n5870                                  NaN   \n5871                            466.14407   \n5872                                  NaN   \n5873                           -114.99931   \n\n      cash_flow_from_investing_activities  \\\n5461                                  NaN   \n5462                                  NaN   \n5463                                  NaN   \n5464                          -3261.00000   \n5465                                  NaN   \n5466                          -2718.00000   \n3071                                  NaN   \n3072                                  NaN   \n5869                                  NaN   \n5870                                  NaN   \n5871                                  NaN   \n5872                                  NaN   \n5873                            -10.16748   \n\n      cash_flow_from_financing_activities        aktywa  ...  \\\n5461                                  NaN  8.301800e+04  ...   \n5462                                  NaN  1.053760e+05  ...   \n5463                                  NaN  1.613490e+05  ...   \n5464                           -5264.0000  1.640630e+05  ...   \n5465                                  NaN  1.547040e+05  ...   \n5466                           -3195.0000  1.571200e+05  ...   \n3071                                  NaN  2.166580e+08  ...   \n3072                                  NaN  2.295270e+08  ...   \n5869                                  NaN  1.065330e+03  ...   \n5870                                  NaN  3.348397e+03  ...   \n5871                            -742.2988  2.882571e+03  ...   \n5872                                  NaN  3.526614e+03  ...   \n5873                           -1035.0000  2.461432e+03  ...   \n\n      rate_debt_security  leverage  asset_utilization  load_gross_profit  \\\n5461                 NaN       NaN                NaN                NaN   \n5462                 NaN       NaN                NaN                NaN   \n5463                 NaN       NaN                NaN                NaN   \n5464                 NaN       NaN                NaN                NaN   \n5465                 NaN       NaN                NaN                NaN   \n5466                 NaN       NaN                NaN                NaN   \n3071                 NaN       NaN                NaN                NaN   \n3072                 NaN       NaN                NaN                NaN   \n5869                 NaN       NaN                NaN                NaN   \n5870                 NaN       NaN                NaN                NaN   \n5871                 NaN       NaN                NaN                NaN   \n5872                 NaN       NaN                NaN                NaN   \n5873                 NaN       NaN                NaN                NaN   \n\n      current_financial_liabilities  noncurrent_financial_liabilities  \\\n5461                            NaN                               NaN   \n5462                            NaN                               NaN   \n5463                            NaN                               NaN   \n5464                            NaN                               NaN   \n5465                            NaN                               NaN   \n5466                            NaN                               NaN   \n3071                            NaN                               NaN   \n3072                            NaN                               NaN   \n5869                            NaN                               NaN   \n5870                            NaN                               NaN   \n5871                            NaN                               NaN   \n5872                            NaN                               NaN   \n5873                            NaN                               NaN   \n\n      financial_liabilities  company_name  sector   ticker  \n5461                    NaN        3LP SA     NaN  3LP_IPO  \n5462                    NaN        3LP SA     NaN  3LP_IPO  \n5463                    NaN        3LP SA     NaN  3LP_IPO  \n5464                    NaN        3LP SA     NaN  3LP_IPO  \n5465                    NaN        3LP SA     NaN  3LP_IPO  \n5466                    NaN        3LP SA     NaN  3LP_IPO  \n3071                    NaN        BMW AG     NaN      BMW  \n3072                    NaN        BMW AG     NaN      BMW  \n5869                    NaN   Uf Games SA     NaN  UFG_IPO  \n5870                    NaN   Uf Games SA     NaN  UFG_IPO  \n5871                    NaN   Uf Games SA     NaN  UFG_IPO  \n5872                    NaN   Uf Games SA     NaN  UFG_IPO  \n5873                    NaN   Uf Games SA     NaN  UFG_IPO  \n\n[13 rows x 109 columns]",
      "text/html": "<div>\n<style scoped>\n    .dataframe tbody tr th:only-of-type {\n        vertical-align: middle;\n    }\n\n    .dataframe tbody tr th {\n        vertical-align: top;\n    }\n\n    .dataframe thead th {\n        text-align: right;\n    }\n</style>\n<table border=\"1\" class=\"dataframe\">\n  <thead>\n    <tr style=\"text-align: right;\">\n      <th></th>\n      <th>end_of_period</th>\n      <th>revenues_from_sales</th>\n      <th>operating_profitloss</th>\n      <th>net_profitloss_attributable_to_equity_holders_of_the_parent</th>\n      <th>total_comprehensive_income_attributable_to_equity_holders</th>\n      <th>depreciation</th>\n      <th>cash_flow_from_operating_activities</th>\n      <th>cash_flow_from_investing_activities</th>\n      <th>cash_flow_from_financing_activities</th>\n      <th>aktywa</th>\n      <th>...</th>\n      <th>rate_debt_security</th>\n      <th>leverage</th>\n      <th>asset_utilization</th>\n      <th>load_gross_profit</th>\n      <th>current_financial_liabilities</th>\n      <th>noncurrent_financial_liabilities</th>\n      <th>financial_liabilities</th>\n      <th>company_name</th>\n      <th>sector</th>\n      <th>ticker</th>\n    </tr>\n  </thead>\n  <tbody>\n    <tr>\n      <th>5461</th>\n      <td>2017-12-31</td>\n      <td>NaN</td>\n      <td>NaN</td>\n      <td>NaN</td>\n      <td>NaN</td>\n      <td>NaN</td>\n      <td>NaN</td>\n      <td>NaN</td>\n      <td>NaN</td>\n      <td>8.301800e+04</td>\n      <td>...</td>\n      <td>NaN</td>\n      <td>NaN</td>\n      <td>NaN</td>\n      <td>NaN</td>\n      <td>NaN</td>\n      <td>NaN</td>\n      <td>NaN</td>\n      <td>3LP SA</td>\n      <td>NaN</td>\n      <td>3LP_IPO</td>\n    </tr>\n    <tr>\n      <th>5462</th>\n      <td>2018-12-31</td>\n      <td>NaN</td>\n      <td>NaN</td>\n      <td>NaN</td>\n      <td>NaN</td>\n      <td>NaN</td>\n      <td>NaN</td>\n      <td>NaN</td>\n      <td>NaN</td>\n      <td>1.053760e+05</td>\n      <td>...</td>\n      <td>NaN</td>\n      <td>NaN</td>\n      <td>NaN</td>\n      <td>NaN</td>\n      <td>NaN</td>\n      <td>NaN</td>\n      <td>NaN</td>\n      <td>3LP SA</td>\n      <td>NaN</td>\n      <td>3LP_IPO</td>\n    </tr>\n    <tr>\n      <th>5463</th>\n      <td>2019-12-31</td>\n      <td>NaN</td>\n      <td>NaN</td>\n      <td>NaN</td>\n      <td>NaN</td>\n      <td>NaN</td>\n      <td>NaN</td>\n      <td>NaN</td>\n      <td>NaN</td>\n      <td>1.613490e+05</td>\n      <td>...</td>\n      <td>NaN</td>\n      <td>NaN</td>\n      <td>NaN</td>\n      <td>NaN</td>\n      <td>NaN</td>\n      <td>NaN</td>\n      <td>NaN</td>\n      <td>3LP SA</td>\n      <td>NaN</td>\n      <td>3LP_IPO</td>\n    </tr>\n    <tr>\n      <th>5464</th>\n      <td>2020-12-31</td>\n      <td>34515.00000</td>\n      <td>3929.00000</td>\n      <td>138.00000</td>\n      <td>138.0</td>\n      <td>4114.00000</td>\n      <td>8513.00000</td>\n      <td>-3261.00000</td>\n      <td>-5264.0000</td>\n      <td>1.640630e+05</td>\n      <td>...</td>\n      <td>NaN</td>\n      <td>NaN</td>\n      <td>NaN</td>\n      <td>NaN</td>\n      <td>NaN</td>\n      <td>NaN</td>\n      <td>NaN</td>\n      <td>3LP SA</td>\n      <td>NaN</td>\n      <td>3LP_IPO</td>\n    </tr>\n    <tr>\n      <th>5465</th>\n      <td>2021-09-30</td>\n      <td>NaN</td>\n      <td>NaN</td>\n      <td>NaN</td>\n      <td>NaN</td>\n      <td>NaN</td>\n      <td>NaN</td>\n      <td>NaN</td>\n      <td>NaN</td>\n      <td>1.547040e+05</td>\n      <td>...</td>\n      <td>NaN</td>\n      <td>NaN</td>\n      <td>NaN</td>\n      <td>NaN</td>\n      <td>NaN</td>\n      <td>NaN</td>\n      <td>NaN</td>\n      <td>3LP SA</td>\n      <td>NaN</td>\n      <td>3LP_IPO</td>\n    </tr>\n    <tr>\n      <th>5466</th>\n      <td>2021-12-31</td>\n      <td>39704.00000</td>\n      <td>3898.00000</td>\n      <td>2169.00000</td>\n      <td>2169.0</td>\n      <td>4459.00000</td>\n      <td>5831.00000</td>\n      <td>-2718.00000</td>\n      <td>-3195.0000</td>\n      <td>1.571200e+05</td>\n      <td>...</td>\n      <td>NaN</td>\n      <td>NaN</td>\n      <td>NaN</td>\n      <td>NaN</td>\n      <td>NaN</td>\n      <td>NaN</td>\n      <td>NaN</td>\n      <td>3LP SA</td>\n      <td>NaN</td>\n      <td>3LP_IPO</td>\n    </tr>\n    <tr>\n      <th>3071</th>\n      <td>2020-12-31</td>\n      <td>NaN</td>\n      <td>NaN</td>\n      <td>NaN</td>\n      <td>NaN</td>\n      <td>NaN</td>\n      <td>NaN</td>\n      <td>NaN</td>\n      <td>NaN</td>\n      <td>2.166580e+08</td>\n      <td>...</td>\n      <td>NaN</td>\n      <td>NaN</td>\n      <td>NaN</td>\n      <td>NaN</td>\n      <td>NaN</td>\n      <td>NaN</td>\n      <td>NaN</td>\n      <td>BMW AG</td>\n      <td>NaN</td>\n      <td>BMW</td>\n    </tr>\n    <tr>\n      <th>3072</th>\n      <td>2021-12-31</td>\n      <td>NaN</td>\n      <td>NaN</td>\n      <td>NaN</td>\n      <td>NaN</td>\n      <td>NaN</td>\n      <td>NaN</td>\n      <td>NaN</td>\n      <td>NaN</td>\n      <td>2.295270e+08</td>\n      <td>...</td>\n      <td>NaN</td>\n      <td>NaN</td>\n      <td>NaN</td>\n      <td>NaN</td>\n      <td>NaN</td>\n      <td>NaN</td>\n      <td>NaN</td>\n      <td>BMW AG</td>\n      <td>NaN</td>\n      <td>BMW</td>\n    </tr>\n    <tr>\n      <th>5869</th>\n      <td>2019-12-31</td>\n      <td>NaN</td>\n      <td>NaN</td>\n      <td>NaN</td>\n      <td>NaN</td>\n      <td>NaN</td>\n      <td>NaN</td>\n      <td>NaN</td>\n      <td>NaN</td>\n      <td>1.065330e+03</td>\n      <td>...</td>\n      <td>NaN</td>\n      <td>NaN</td>\n      <td>NaN</td>\n      <td>NaN</td>\n      <td>NaN</td>\n      <td>NaN</td>\n      <td>NaN</td>\n      <td>Uf Games SA</td>\n      <td>NaN</td>\n      <td>UFG_IPO</td>\n    </tr>\n    <tr>\n      <th>5870</th>\n      <td>2020-12-31</td>\n      <td>NaN</td>\n      <td>NaN</td>\n      <td>NaN</td>\n      <td>NaN</td>\n      <td>NaN</td>\n      <td>NaN</td>\n      <td>NaN</td>\n      <td>NaN</td>\n      <td>3.348397e+03</td>\n      <td>...</td>\n      <td>NaN</td>\n      <td>NaN</td>\n      <td>NaN</td>\n      <td>NaN</td>\n      <td>NaN</td>\n      <td>NaN</td>\n      <td>NaN</td>\n      <td>Uf Games SA</td>\n      <td>NaN</td>\n      <td>UFG_IPO</td>\n    </tr>\n    <tr>\n      <th>5871</th>\n      <td>2021-06-30</td>\n      <td>1141.52579</td>\n      <td>302.65867</td>\n      <td>287.68307</td>\n      <td>NaN</td>\n      <td>NaN</td>\n      <td>466.14407</td>\n      <td>NaN</td>\n      <td>-742.2988</td>\n      <td>2.882571e+03</td>\n      <td>...</td>\n      <td>NaN</td>\n      <td>NaN</td>\n      <td>NaN</td>\n      <td>NaN</td>\n      <td>NaN</td>\n      <td>NaN</td>\n      <td>NaN</td>\n      <td>Uf Games SA</td>\n      <td>NaN</td>\n      <td>UFG_IPO</td>\n    </tr>\n    <tr>\n      <th>5872</th>\n      <td>2021-12-31</td>\n      <td>NaN</td>\n      <td>NaN</td>\n      <td>NaN</td>\n      <td>NaN</td>\n      <td>NaN</td>\n      <td>NaN</td>\n      <td>NaN</td>\n      <td>NaN</td>\n      <td>3.526614e+03</td>\n      <td>...</td>\n      <td>NaN</td>\n      <td>NaN</td>\n      <td>NaN</td>\n      <td>NaN</td>\n      <td>NaN</td>\n      <td>NaN</td>\n      <td>NaN</td>\n      <td>Uf Games SA</td>\n      <td>NaN</td>\n      <td>UFG_IPO</td>\n    </tr>\n    <tr>\n      <th>5873</th>\n      <td>2022-06-30</td>\n      <td>654.87351</td>\n      <td>-314.01440</td>\n      <td>-314.96840</td>\n      <td>NaN</td>\n      <td>0.42365</td>\n      <td>-114.99931</td>\n      <td>-10.16748</td>\n      <td>-1035.0000</td>\n      <td>2.461432e+03</td>\n      <td>...</td>\n      <td>NaN</td>\n      <td>NaN</td>\n      <td>NaN</td>\n      <td>NaN</td>\n      <td>NaN</td>\n      <td>NaN</td>\n      <td>NaN</td>\n      <td>Uf Games SA</td>\n      <td>NaN</td>\n      <td>UFG_IPO</td>\n    </tr>\n  </tbody>\n</table>\n<p>13 rows × 109 columns</p>\n</div>"
     },
     "execution_count": 61,
     "metadata": {},
     "output_type": "execute_result"
    }
   ],
   "source": [
    "# Sektor NaN\n",
    "rows_with_nan_in_sektor = data_gpw[data_gpw['sector'].isna()]\n",
    "rows_with_nan_in_sektor"
   ],
   "metadata": {
    "collapsed": false,
    "ExecuteTime": {
     "end_time": "2024-05-17T23:59:07.677329Z",
     "start_time": "2024-05-17T23:59:06.951067Z"
    }
   },
   "id": "4e4baa4bf4b7e8fb",
   "execution_count": 61
  },
  {
   "cell_type": "markdown",
   "source": [
    "# Notes\n",
    "Manually checking for each company\n",
    "\n",
    "3LP SA - handel\n",
    "BMW AG - motoryzacja\n",
    "Uf Games SA - gry\n"
   ],
   "metadata": {
    "collapsed": false
   },
   "id": "7456660b0f1bcdf1"
  },
  {
   "cell_type": "code",
   "outputs": [],
   "source": [
    "company_to_sector = {\n",
    "    '3LP SA': 'handel',\n",
    "    'BMW AG': 'motoryzacja',\n",
    "    'Uf Games SA': 'gry'\n",
    "}\n",
    "\n",
    "data_gpw['sector'] = data_gpw.apply(lambda row: company_to_sector[row['company_name']] if pd.isna(row['sector']) else row['sector'], axis=1)"
   ],
   "metadata": {
    "collapsed": false,
    "ExecuteTime": {
     "end_time": "2024-05-17T23:59:07.902572Z",
     "start_time": "2024-05-17T23:59:06.980302Z"
    }
   },
   "id": "7319f46aa1372b35",
   "execution_count": 62
  },
  {
   "cell_type": "code",
   "outputs": [],
   "source": [
    "# Rest of financial data - fill NaN with 0 (=no change)\n",
    "data_gpw = data_gpw.fillna(0)"
   ],
   "metadata": {
    "collapsed": false,
    "ExecuteTime": {
     "end_time": "2024-05-17T23:59:07.914962Z",
     "start_time": "2024-05-17T23:59:07.749480Z"
    }
   },
   "id": "fb24e9bf335b19e8",
   "execution_count": 63
  },
  {
   "cell_type": "code",
   "outputs": [
    {
     "data": {
      "text/plain": "['end_of_period',\n 'revenues_from_sales',\n 'operating_profitloss',\n 'net_profitloss_attributable_to_equity_holders_of_the_parent',\n 'total_comprehensive_income_attributable_to_equity_holders',\n 'depreciation',\n 'cash_flow_from_operating_activities',\n 'cash_flow_from_investing_activities',\n 'cash_flow_from_financing_activities',\n 'aktywa',\n 'noncurrent_assets',\n 'current_assets',\n 'equity_shareholders_of_the_parent',\n 'noncurrent_liabilities',\n 'current_liabilities',\n 'number_of_shares',\n 'earnings_per_share',\n 'total_comprehensive_income_per_share',\n 'book_value_per_share',\n 'accounting_standard',\n 'filename',\n 'property_plant_and_equipment',\n 'exploration_for_and_evaluation_of_mineral_resources',\n 'intangible_assets',\n 'goodwill',\n 'investment_property',\n 'rightofuse_assets',\n 'investment_in_affiliates',\n 'noncurrent_financial_assets',\n 'noncurrent_loans_and_receivables',\n 'deferred_income_tax',\n 'noncurrent_deferred_charges_and_accruals',\n 'noncurrent_derivative_instruments',\n 'other_noncurrent_assets',\n 'inventories',\n 'current_intangible_assets',\n 'biological_assets',\n 'trade_receivables',\n 'loans_and_other_receivables',\n 'financial_assets',\n 'cash_and_cash_equivalents',\n 'accruals',\n 'assets_from_current_tax',\n 'derivative_instruments',\n 'other_assets',\n 'assets_held_for_sale_and_discontinuing_operations',\n 'called_up_capital',\n 'own_shares',\n 'equity_liabilities',\n 'share_capital',\n 'called_up_share_capital',\n 'treasury_shares',\n 'supplementary_capital',\n 'valuation_and_exchange_differences',\n 'other_capitals',\n 'retained_earnings_accumulated_losses',\n 'noncontrolling_interests',\n 'noncurrent_liabilities_from_derivatives',\n 'noncurrent_loans_and_borrowings',\n 'noncurrent_liabilities_from_bonds',\n 'noncurrent_liabilities_from_finance_leases',\n 'noncurrent_trade_payables',\n 'longterm_provision_for_employee_benefits',\n 'deferred_tax_liabilities',\n 'noncurrent_provision',\n 'other_noncurrent_liabilities',\n 'noncurrent_accruals',\n 'liabilities_from_derivatives',\n 'financial_liabilities',\n 'bond_liabilities',\n 'liabilities_from_finance_leases',\n 'trade_payables',\n 'employee_benefits',\n 'current_tax_liabilities',\n 'provisions',\n 'other_liabilities',\n 'accruals',\n 'liabilities_related_to_assets_held_for_sale_and_discontinued_operations',\n 'date_of_publication',\n 'gross_profit_margin_on_sales',\n 'operating_profit_margin',\n 'gross_profit_margin',\n 'net_profit_margin',\n 'return_on_equity',\n 'return_on_assets',\n 'working_capital_ratio',\n 'current_ratio',\n 'quick_ratio',\n 'cash_ratio',\n 'receivables_turnover',\n 'inventory_turnover',\n 'the_operating_cycle',\n 'rotation_commitments',\n 'cash_conversion_cycle',\n 'rotation_assets',\n 'rotation_of_assets',\n 'assets_ratio',\n 'debt_ratio',\n 'debt_service_ratio',\n 'rate_debt_security',\n 'leverage',\n 'asset_utilization',\n 'load_gross_profit',\n 'current_financial_liabilities',\n 'noncurrent_financial_liabilities',\n 'financial_liabilities',\n 'company_name',\n 'sector',\n 'ticker']"
     },
     "execution_count": 64,
     "metadata": {},
     "output_type": "execute_result"
    }
   ],
   "source": [
    "data_gpw.columns.tolist()"
   ],
   "metadata": {
    "collapsed": false,
    "ExecuteTime": {
     "end_time": "2024-05-17T23:59:07.964921Z",
     "start_time": "2024-05-17T23:59:07.782905Z"
    }
   },
   "id": "305de52c586ae28",
   "execution_count": 64
  },
  {
   "cell_type": "markdown",
   "source": [
    "# Change each indicator to % value\n",
    "return_on_equity\n",
    "return_on_assets\n",
    "leverage\n",
    "asset_utilization\n",
    "debt_ratio\n",
    "debt_service_ratio\n",
    "rate_debt_security\n",
    "working_capital_ratio"
   ],
   "metadata": {
    "collapsed": false
   },
   "id": "34318baca8e6e3c5"
  },
  {
   "cell_type": "code",
   "outputs": [],
   "source": [
    "columns_to_convert = [\n",
    "    'return_on_equity',\n",
    "    'return_on_assets',\n",
    "    'leverage',\n",
    "    'asset_utilization',\n",
    "    'debt_ratio',\n",
    "    'debt_service_ratio',\n",
    "    'rate_debt_security',\n",
    "    'working_capital_ratio'\n",
    "]\n",
    "\n",
    "data_gpw[columns_to_convert] = data_gpw[columns_to_convert] / 100"
   ],
   "metadata": {
    "collapsed": false,
    "ExecuteTime": {
     "end_time": "2024-05-17T23:59:07.965396Z",
     "start_time": "2024-05-17T23:59:07.792226Z"
    }
   },
   "id": "7650395fd99e90ba",
   "execution_count": 65
  },
  {
   "cell_type": "code",
   "outputs": [],
   "source": [
    "column_mapping = {\n",
    "    'financial_liabilities': 'total_liability',\n",
    "    'aktywa': 'total_assets'\n",
    "}\n",
    "\n",
    "data_gpw = data_gpw.rename(columns=column_mapping)"
   ],
   "metadata": {
    "collapsed": false,
    "ExecuteTime": {
     "end_time": "2024-05-17T23:59:07.965669Z",
     "start_time": "2024-05-17T23:59:07.808108Z"
    }
   },
   "id": "54aff99460eba5d8",
   "execution_count": 66
  },
  {
   "cell_type": "code",
   "outputs": [
    {
     "data": {
      "text/plain": "array(['11 bit studios SA', '3LP SA', '3R Games SA', 'AB SA', 'AC SA',\n       'Action SA', 'Adiuvo Investments SA', 'Agora SA', 'Agroton plc.',\n       'AUGA Group AB', 'All in! Games SA', 'Ailleron SA',\n       'Airway Medix SA', 'Alumetal SA', 'Ambra SA', 'Amica SA',\n       'Ampli SA w upadłości układowej', 'AmRest Holdings SE',\n       'Answear.com SA', 'Apator SA', 'Aplisens SA', 'APS Energia SA',\n       'Arctic Paper SA', 'Arteria SA', 'Artifex Mundi SA',\n       'ASBISc Enterprises plc.', 'ASM Group SA', 'Asseco BS SA',\n       'Asseco Poland SA', 'Asseco SEE SA', 'Atende SA',\n       'Atlanta Poland SA', 'ATM Grupa SA', 'Atrem SA', 'Auto Partner SA',\n       'Grupa Azoty SA', 'British Automotive Holding SA',\n       'Elektrociepłownia Będzin SA', 'Benefit Systems SA', 'Berling SA',\n       'Betacom SA', 'Big Cheese Studio SA', 'Bioceltix SA',\n       'BioMaxima SA', 'Biomed Lublin SA', 'Bio Planet SA', 'Bioton SA',\n       'BMW AG', 'LW Bogdanka SA', 'BoomBit SA', 'Boryszew SA',\n       'Bowim SA', 'Brand24 SA', 'Braster SA w restrukturyzacji',\n       'Budimex SA', 'Bumech SA', 'Captor Therapeutics SA', 'CCC SA',\n       'CD Projekt SA', 'CDRL SA', 'CNT SA', 'CEZ a.s.', 'CFI Holding SA',\n       'Ciech SA', 'CI Games SA', 'City Service SE', 'Celon Pharma SA',\n       'Cognor Holding SA', 'ComArch SA', 'Comperia.pl SA',\n       'Compremum SA', 'Comp SA', 'PZ Cormay SA', 'Creepy Jar SA',\n       'Creotech Instruments SA', 'Cyfrowy Polsat SA', 'Dadelo SA',\n       'DataWalk SA', 'Dębica SA', 'Decora SA', 'Dekpol SA', 'Delko SA',\n       'Digital Network SA', 'Digitree Group SA', 'Dino Polska SA',\n       'Dom Development SA', 'Drewex SA w restrukturyzacji ',\n       'Drozapol-Profil SA', 'ED Invest SA', 'Efekt SA', 'Eko Export SA',\n       'Elektrotim SA', 'Elzab SA', 'EMC Instytut Medyczny SA', 'Enea SA',\n       'Enel-Med SA', 'Energa SA', 'Energoaparatura SA',\n       'Energoinstal SA', 'Enter Air SA', 'Erbud SA', 'ERG SA',\n       'Esotiq&Henderson SA', 'Eurocash SA', 'Eurotel SA', 'Famur SA',\n       'Fasing SA', 'Feerum SA', 'Ferro SA', 'Ferrum SA', 'Forte SA',\n       'Games Operators SA', 'Gaming Factory SA', 'GI Group Poland SA',\n       'Global Cosmed SA', 'Gobarto SA', 'Grodno SA', 'Grupa Pracuj SA',\n       'Harper Hygienics SA', 'Helio SA', 'Herkules SA', 'Hollywood SA',\n       'Huuuge, Inc.', 'Hydrotor SA', 'iFirma SA',\n       'Investment Friends SE', 'IMC S.A.', 'Instal Kraków SA',\n       'Inter Cars SA', 'Interferie SA', 'Interbud-Lublin SA', 'IMS SA',\n       'Inter Rao Lietuva AB', 'Intersport Polska SA', 'Introl SA',\n       'Interma Trade SA w likwidacji', 'Izoblok SA',\n       'Izolacja Jarocin SA', 'Izostal SA',\n       'Jastrzębska Spółka Węglowa SA', 'JWW Invest SA', 'K2 Holding SA',\n       'KCI SA', 'KDM Shipping Public Ltd.', 'Kernel Holding S.A.',\n       'Grupa Kęty SA', 'KGHM Polska Miedź SA', 'KGL SA',\n       'Kino Polska TV SA', 'Kogeneracja SA', 'Kompap SA',\n       'Komputronik SA  w restrukturyzacji', 'KB Dom SA w upadłości',\n       'KPPD SA', 'Krakchemia SA', 'KRKA d.d.', 'Krynica Vitamin SA',\n       'Krynicki Recykling SA', 'Labo Print SA', 'Lark.pl SA', 'Larq SA',\n       'Lena Lighting SA', 'Lentex SA', 'Less SA', 'Libet SA',\n       'LiveChat Software SA', 'Grupa Lotos SA', 'LPP SA',\n       'LSI Software SA', 'Lubawa SA', 'Protektor SA', 'Mabion SA',\n       'Makarony Polskie SA', 'Mangata Holding SA', 'ManyDev Studio SE',\n       'Master Pharm SA', 'Maxcom SA', 'MDI Energia SA', 'Mediacap SA',\n       'Medicalgorithmics SA', 'Medinice SA', 'Megaron SA',\n       'Mennica Polska SA', 'Mercator Medical SA', 'Mercor SA',\n       'Mex Polska SA', 'MFO SA', 'Milkiland Foods PLC', 'Miraculum SA',\n       'Mirbud SA', 'ML System SA', 'Mo-Bruk SA', 'MOJ SA', 'Molecure SA',\n       'Monnari Trade SA', 'Mostostal Płock SA', 'Mostostal Warszawa SA',\n       'Mostostal Zabrze SA', 'Muza SA', 'NanoGroup SA', 'Netia SA',\n       'Neuca SA', 'Newag SA', 'Nexity Global SA', 'Novaturas AB',\n       'Novita SA', 'NTT System SA', 'Odlewnie Polskie SA', 'OEX SA',\n       'Onde SA', 'Oponeo.pl SA', 'OPTeam SA', 'Orange Polska SA',\n       'Orzeł Biały SA', 'OT Logistics SA', 'ZE PAK SA', 'Pamapol SA',\n       'PA Nova SA', 'Patentus SA', 'PBG SA w restrukturyzacji',\n       'PBKM SA', 'PCC Exol SA', 'PCC Rokita SA', 'PCF Group SA',\n       'PC Guard SA', 'Pekabex SA', 'Polenergia SA', 'Pepees SA',\n       'PGE SA', 'PGNiG SA', 'PGS Software SA', 'Pharmena SA',\n       'Photon Energy NV', 'PJP Makrum SA', 'PKN Orlen SA',\n       'PKP Cargo SA', 'Plast-Box SA', 'PlayWay SA',\n       'PMPG Polskie Media SA', 'Police SA', 'Polimex Mostostal SA',\n       'Poltreg SA', 'Polwax SA', 'Prima Moda SA', 'Primetech SA',\n       'Procad SA', 'Prochem SA', 'Puławy SA', 'PunkPirates SA',\n       'Pure Biologics SA', 'Quantum Software SA', 'R22 SA', 'Radpol SA',\n       'Rafako SA', 'Rafamet SA', 'Rainbow Tours SA', 'Rawlplug SA',\n       'Redan SA', 'Regnon SA w likwidacji', 'Relpol SA',\n       'Remak-Energomontaż SA', 'Resbud SE', 'Ronson Development SE',\n       'ZM Ropczyce SA', 'Ryvu Therapeutics SA', 'Sadovaya Group SA',\n       'Sanwil SA', 'Satis Group SA', 'Seco/Warwick SA', 'Seko SA',\n       'Selena FM SA', 'Selvita SA', 'Sescom SA', 'Sfinks Polska SA',\n       'Shoper SA', 'Silvair Inc.', 'Silvano Group AS', 'SimFabric SA',\n       'Simple SA', 'Skotan SA', 'Sleepz AG', 'Śnieżka SA',\n       'Solar Company SA', 'Sonel SA', 'Sopharma AD', 'SpyroSoft SA',\n       'Stalexport Autostrady SA', 'Stalprodukt SA', 'Stalprofil SA',\n       'Sanok Rubber Company SA', 'STS Holding SA', 'Sunex SA',\n       'Suwary SA', 'Swissmed Centrum Zdrowia SA', 'Sygnity SA',\n       'Synektik SA', 'Talex SA', 'Tarczyński SA',\n       'Tatry Mountain Resorts a.s.', 'Tauron PE SA', 'T-Bull SA',\n       'Termo-Rex SA', 'Tesgas SA', 'TIM SA', 'Torpol SA', 'Toya SA',\n       'Trakcja SA', 'Trans Polonia SA', 'Ten Square Games SA', 'TXM SA',\n       'Uf Games SA', 'Ulma Construccion Polska SA', 'Ultimate Games SA',\n       'Unibep SA', 'Unima 2000 SA', 'Unimot SA', 'Ursus SA w upadłości',\n       'Vercom SA', 'Vigo Photonics SA', 'Vistal Gdynia SA',\n       'Vivid Games SA', 'Voxel SA', 'VRG SA', 'Wasko SA', 'Wawel SA',\n       'Wielton SA', 'WP Holding SA', 'Wittchen SA', 'Wojas SA',\n       'XTPL SA', 'Zamet SA', 'ZPC Otmuchów SA', 'ZPUE SA',\n       'Zremb-Chojnice SA', 'ZUE SA', 'ZUK Stąporków SA',\n       'Grupa Żywiec SA'], dtype=object)"
     },
     "execution_count": 67,
     "metadata": {},
     "output_type": "execute_result"
    }
   ],
   "source": [
    "data_gpw['company_name'].unique()"
   ],
   "metadata": {
    "collapsed": false,
    "ExecuteTime": {
     "end_time": "2024-05-17T23:59:07.967744Z",
     "start_time": "2024-05-17T23:59:07.850147Z"
    }
   },
   "id": "1873644e515c9005",
   "execution_count": 67
  },
  {
   "cell_type": "markdown",
   "source": [
    "## Feature Engineering"
   ],
   "metadata": {
    "collapsed": false
   },
   "id": "232b97bba5331d79"
  },
  {
   "cell_type": "code",
   "outputs": [
    {
     "data": {
      "text/plain": "     end_of_period  revenues_from_sales  operating_profitloss  \\\n6855    2010-03-31                 66.0                   0.0   \n6856    2010-09-30                129.0                   0.0   \n6857    2010-12-31                228.0                   0.0   \n6858    2011-03-31                144.0                   0.0   \n6859    2011-06-30                959.0                   0.0   \n...            ...                  ...                   ...   \n7374    2021-09-30             995385.0              103668.0   \n7375    2021-12-31             733974.0               46890.0   \n7376    2022-03-31             696778.0                6649.0   \n7377    2022-06-30            1209418.0              101579.0   \n7378    2022-09-30            1106635.0               61538.0   \n\n      net_profitloss_attributable_to_equity_holders_of_the_parent  \\\n6855                                              -16.0             \n6856                                              -26.0             \n6857                                             -198.0             \n6858                                              -50.0             \n6859                                              377.0             \n...                                                 ...             \n7374                                           104744.0             \n7375                                            32175.0             \n7376                                            -1246.0             \n7377                                            92625.0             \n7378                                            23844.0             \n\n      total_comprehensive_income_attributable_to_equity_holders  depreciation  \\\n6855                                                0.0                  29.0   \n6856                                                0.0                   6.0   \n6857                                                0.0                   0.0   \n6858                                                0.0                   0.0   \n6859                                                0.0                   7.0   \n...                                                 ...                   ...   \n7374                                           106250.0               36985.0   \n7375                                            42434.0               42311.0   \n7376                                            41367.0               38391.0   \n7377                                            45386.0               39932.0   \n7378                                            18814.0               40212.0   \n\n      cash_flow_from_operating_activities  \\\n6855                                  0.0   \n6856                                  0.0   \n6857                                  0.0   \n6858                                  0.0   \n6859                                  0.0   \n...                                   ...   \n7374                             354390.0   \n7375                              50929.0   \n7376                              13967.0   \n7377                             101877.0   \n7378                             156461.0   \n\n      cash_flow_from_investing_activities  \\\n6855                                  0.0   \n6856                                  0.0   \n6857                                  0.0   \n6858                                  0.0   \n6859                                  0.0   \n...                                   ...   \n7374                             -22037.0   \n7375                             -65863.0   \n7376                             -33280.0   \n7377                             -21179.0   \n7378                             -24386.0   \n\n      cash_flow_from_financing_activities  total_assets  ...  \\\n6855                                  0.0          0.00  ...   \n6856                                  0.0       1411.00  ...   \n6857                                  0.0       1352.36  ...   \n6858                                  0.0       1342.00  ...   \n6859                                  0.0       1659.00  ...   \n...                                   ...           ...  ...   \n7374                            -433167.0    2649304.00  ...   \n7375                              30091.0    2508447.00  ...   \n7376                              57099.0    2741947.00  ...   \n7377                             -81990.0    2981239.00  ...   \n7378                            -117588.0    2733389.00  ...   \n\n      rate_debt_security  leverage  asset_utilization  load_gross_profit  \\\n6855                 0.0       0.0                0.0                0.0   \n6856                 0.0       0.0                0.0                0.0   \n6857                 0.0       0.0                0.0                0.0   \n6858                 0.0       0.0                0.0                0.0   \n6859                 0.0       0.0                0.0                0.0   \n...                  ...       ...                ...                ...   \n7374                 0.0       0.0                0.0                0.0   \n7375                 0.0       0.0                0.0                0.0   \n7376                 0.0       0.0                0.0                0.0   \n7377                 0.0       0.0                0.0                0.0   \n7378                 0.0       0.0                0.0                0.0   \n\n      current_financial_liabilities  noncurrent_financial_liabilities  \\\n6855                            0.0                               0.0   \n6856                            0.0                               0.0   \n6857                            0.0                               0.0   \n6858                            0.0                               0.0   \n6859                            0.0                               0.0   \n...                             ...                               ...   \n7374                            0.0                               0.0   \n7375                            0.0                               0.0   \n7376                            0.0                               0.0   \n7377                            0.0                               0.0   \n7378                            0.0                               0.0   \n\n      total_liability       company_name  sector ticker  \n6855              0.0  11 bit studios SA     gry    11B  \n6856              0.0  11 bit studios SA     gry    11B  \n6857              0.0  11 bit studios SA     gry    11B  \n6858              0.0  11 bit studios SA     gry    11B  \n6859              0.0  11 bit studios SA     gry    11B  \n...               ...                ...     ...    ...  \n7374              0.0    Grupa Żywiec SA  napoje    ZWC  \n7375              0.0    Grupa Żywiec SA  napoje    ZWC  \n7376              0.0    Grupa Żywiec SA  napoje    ZWC  \n7377              0.0    Grupa Żywiec SA  napoje    ZWC  \n7378              0.0    Grupa Żywiec SA  napoje    ZWC  \n\n[19906 rows x 109 columns]",
      "text/html": "<div>\n<style scoped>\n    .dataframe tbody tr th:only-of-type {\n        vertical-align: middle;\n    }\n\n    .dataframe tbody tr th {\n        vertical-align: top;\n    }\n\n    .dataframe thead th {\n        text-align: right;\n    }\n</style>\n<table border=\"1\" class=\"dataframe\">\n  <thead>\n    <tr style=\"text-align: right;\">\n      <th></th>\n      <th>end_of_period</th>\n      <th>revenues_from_sales</th>\n      <th>operating_profitloss</th>\n      <th>net_profitloss_attributable_to_equity_holders_of_the_parent</th>\n      <th>total_comprehensive_income_attributable_to_equity_holders</th>\n      <th>depreciation</th>\n      <th>cash_flow_from_operating_activities</th>\n      <th>cash_flow_from_investing_activities</th>\n      <th>cash_flow_from_financing_activities</th>\n      <th>total_assets</th>\n      <th>...</th>\n      <th>rate_debt_security</th>\n      <th>leverage</th>\n      <th>asset_utilization</th>\n      <th>load_gross_profit</th>\n      <th>current_financial_liabilities</th>\n      <th>noncurrent_financial_liabilities</th>\n      <th>total_liability</th>\n      <th>company_name</th>\n      <th>sector</th>\n      <th>ticker</th>\n    </tr>\n  </thead>\n  <tbody>\n    <tr>\n      <th>6855</th>\n      <td>2010-03-31</td>\n      <td>66.0</td>\n      <td>0.0</td>\n      <td>-16.0</td>\n      <td>0.0</td>\n      <td>29.0</td>\n      <td>0.0</td>\n      <td>0.0</td>\n      <td>0.0</td>\n      <td>0.00</td>\n      <td>...</td>\n      <td>0.0</td>\n      <td>0.0</td>\n      <td>0.0</td>\n      <td>0.0</td>\n      <td>0.0</td>\n      <td>0.0</td>\n      <td>0.0</td>\n      <td>11 bit studios SA</td>\n      <td>gry</td>\n      <td>11B</td>\n    </tr>\n    <tr>\n      <th>6856</th>\n      <td>2010-09-30</td>\n      <td>129.0</td>\n      <td>0.0</td>\n      <td>-26.0</td>\n      <td>0.0</td>\n      <td>6.0</td>\n      <td>0.0</td>\n      <td>0.0</td>\n      <td>0.0</td>\n      <td>1411.00</td>\n      <td>...</td>\n      <td>0.0</td>\n      <td>0.0</td>\n      <td>0.0</td>\n      <td>0.0</td>\n      <td>0.0</td>\n      <td>0.0</td>\n      <td>0.0</td>\n      <td>11 bit studios SA</td>\n      <td>gry</td>\n      <td>11B</td>\n    </tr>\n    <tr>\n      <th>6857</th>\n      <td>2010-12-31</td>\n      <td>228.0</td>\n      <td>0.0</td>\n      <td>-198.0</td>\n      <td>0.0</td>\n      <td>0.0</td>\n      <td>0.0</td>\n      <td>0.0</td>\n      <td>0.0</td>\n      <td>1352.36</td>\n      <td>...</td>\n      <td>0.0</td>\n      <td>0.0</td>\n      <td>0.0</td>\n      <td>0.0</td>\n      <td>0.0</td>\n      <td>0.0</td>\n      <td>0.0</td>\n      <td>11 bit studios SA</td>\n      <td>gry</td>\n      <td>11B</td>\n    </tr>\n    <tr>\n      <th>6858</th>\n      <td>2011-03-31</td>\n      <td>144.0</td>\n      <td>0.0</td>\n      <td>-50.0</td>\n      <td>0.0</td>\n      <td>0.0</td>\n      <td>0.0</td>\n      <td>0.0</td>\n      <td>0.0</td>\n      <td>1342.00</td>\n      <td>...</td>\n      <td>0.0</td>\n      <td>0.0</td>\n      <td>0.0</td>\n      <td>0.0</td>\n      <td>0.0</td>\n      <td>0.0</td>\n      <td>0.0</td>\n      <td>11 bit studios SA</td>\n      <td>gry</td>\n      <td>11B</td>\n    </tr>\n    <tr>\n      <th>6859</th>\n      <td>2011-06-30</td>\n      <td>959.0</td>\n      <td>0.0</td>\n      <td>377.0</td>\n      <td>0.0</td>\n      <td>7.0</td>\n      <td>0.0</td>\n      <td>0.0</td>\n      <td>0.0</td>\n      <td>1659.00</td>\n      <td>...</td>\n      <td>0.0</td>\n      <td>0.0</td>\n      <td>0.0</td>\n      <td>0.0</td>\n      <td>0.0</td>\n      <td>0.0</td>\n      <td>0.0</td>\n      <td>11 bit studios SA</td>\n      <td>gry</td>\n      <td>11B</td>\n    </tr>\n    <tr>\n      <th>...</th>\n      <td>...</td>\n      <td>...</td>\n      <td>...</td>\n      <td>...</td>\n      <td>...</td>\n      <td>...</td>\n      <td>...</td>\n      <td>...</td>\n      <td>...</td>\n      <td>...</td>\n      <td>...</td>\n      <td>...</td>\n      <td>...</td>\n      <td>...</td>\n      <td>...</td>\n      <td>...</td>\n      <td>...</td>\n      <td>...</td>\n      <td>...</td>\n      <td>...</td>\n      <td>...</td>\n    </tr>\n    <tr>\n      <th>7374</th>\n      <td>2021-09-30</td>\n      <td>995385.0</td>\n      <td>103668.0</td>\n      <td>104744.0</td>\n      <td>106250.0</td>\n      <td>36985.0</td>\n      <td>354390.0</td>\n      <td>-22037.0</td>\n      <td>-433167.0</td>\n      <td>2649304.00</td>\n      <td>...</td>\n      <td>0.0</td>\n      <td>0.0</td>\n      <td>0.0</td>\n      <td>0.0</td>\n      <td>0.0</td>\n      <td>0.0</td>\n      <td>0.0</td>\n      <td>Grupa Żywiec SA</td>\n      <td>napoje</td>\n      <td>ZWC</td>\n    </tr>\n    <tr>\n      <th>7375</th>\n      <td>2021-12-31</td>\n      <td>733974.0</td>\n      <td>46890.0</td>\n      <td>32175.0</td>\n      <td>42434.0</td>\n      <td>42311.0</td>\n      <td>50929.0</td>\n      <td>-65863.0</td>\n      <td>30091.0</td>\n      <td>2508447.00</td>\n      <td>...</td>\n      <td>0.0</td>\n      <td>0.0</td>\n      <td>0.0</td>\n      <td>0.0</td>\n      <td>0.0</td>\n      <td>0.0</td>\n      <td>0.0</td>\n      <td>Grupa Żywiec SA</td>\n      <td>napoje</td>\n      <td>ZWC</td>\n    </tr>\n    <tr>\n      <th>7376</th>\n      <td>2022-03-31</td>\n      <td>696778.0</td>\n      <td>6649.0</td>\n      <td>-1246.0</td>\n      <td>41367.0</td>\n      <td>38391.0</td>\n      <td>13967.0</td>\n      <td>-33280.0</td>\n      <td>57099.0</td>\n      <td>2741947.00</td>\n      <td>...</td>\n      <td>0.0</td>\n      <td>0.0</td>\n      <td>0.0</td>\n      <td>0.0</td>\n      <td>0.0</td>\n      <td>0.0</td>\n      <td>0.0</td>\n      <td>Grupa Żywiec SA</td>\n      <td>napoje</td>\n      <td>ZWC</td>\n    </tr>\n    <tr>\n      <th>7377</th>\n      <td>2022-06-30</td>\n      <td>1209418.0</td>\n      <td>101579.0</td>\n      <td>92625.0</td>\n      <td>45386.0</td>\n      <td>39932.0</td>\n      <td>101877.0</td>\n      <td>-21179.0</td>\n      <td>-81990.0</td>\n      <td>2981239.00</td>\n      <td>...</td>\n      <td>0.0</td>\n      <td>0.0</td>\n      <td>0.0</td>\n      <td>0.0</td>\n      <td>0.0</td>\n      <td>0.0</td>\n      <td>0.0</td>\n      <td>Grupa Żywiec SA</td>\n      <td>napoje</td>\n      <td>ZWC</td>\n    </tr>\n    <tr>\n      <th>7378</th>\n      <td>2022-09-30</td>\n      <td>1106635.0</td>\n      <td>61538.0</td>\n      <td>23844.0</td>\n      <td>18814.0</td>\n      <td>40212.0</td>\n      <td>156461.0</td>\n      <td>-24386.0</td>\n      <td>-117588.0</td>\n      <td>2733389.00</td>\n      <td>...</td>\n      <td>0.0</td>\n      <td>0.0</td>\n      <td>0.0</td>\n      <td>0.0</td>\n      <td>0.0</td>\n      <td>0.0</td>\n      <td>0.0</td>\n      <td>Grupa Żywiec SA</td>\n      <td>napoje</td>\n      <td>ZWC</td>\n    </tr>\n  </tbody>\n</table>\n<p>19906 rows × 109 columns</p>\n</div>"
     },
     "execution_count": 68,
     "metadata": {},
     "output_type": "execute_result"
    }
   ],
   "source": [
    "data_gpw"
   ],
   "metadata": {
    "collapsed": false,
    "ExecuteTime": {
     "end_time": "2024-05-17T23:59:08.065355Z",
     "start_time": "2024-05-17T23:59:07.857137Z"
    }
   },
   "id": "5995746311725b04",
   "execution_count": 68
  },
  {
   "cell_type": "code",
   "outputs": [
    {
     "data": {
      "text/plain": "\"The file has been written with '.WA' appended to the 'ticker' column.\""
     },
     "execution_count": 69,
     "metadata": {},
     "output_type": "execute_result"
    }
   ],
   "source": [
    "#TODO do kolumny ticker dodać string '.WA'\n",
    "\n",
    "file_path = 'dataframes/names_gpw.csv'\n",
    "data_gpw = pd.read_csv(file_path)\n",
    "\n",
    "if 'Ticker' in data_gpw.columns:\n",
    "     data_gpw['Ticker'] = data_gpw['Ticker'].astype(str) + \".WA\"\n",
    "     data_gpw.to_csv('dataframes/changed_names_gpw.csv', index=False)\n",
    "     result = \"The file has been written with '.WA' appended to the 'ticker' column.\"\n",
    "else:\n",
    "     result = \"Column 'ticker' does not exist in the DataFrame.\"\n",
    "\n",
    "result"
   ],
   "metadata": {
    "collapsed": false,
    "ExecuteTime": {
     "end_time": "2024-05-17T23:59:08.166946Z",
     "start_time": "2024-05-17T23:59:07.913181Z"
    }
   },
   "id": "6e58ffc1280aa84c",
   "execution_count": 69
  },
  {
   "cell_type": "code",
   "outputs": [],
   "source": [],
   "metadata": {
    "collapsed": false,
    "ExecuteTime": {
     "end_time": "2024-05-17T23:59:08.167256Z",
     "start_time": "2024-05-17T23:59:07.931269Z"
    }
   },
   "id": "33ff678d7be6f288",
   "execution_count": 69
  },
  {
   "cell_type": "code",
   "outputs": [],
   "source": [
    "#TODO wywołać funkcję get_market_value i dodać tą wartość do nowej kolumny 'target'"
   ],
   "metadata": {
    "collapsed": false,
    "ExecuteTime": {
     "end_time": "2024-05-17T23:59:08.167454Z",
     "start_time": "2024-05-17T23:59:07.937780Z"
    }
   },
   "id": "43b92a5dffd646a0",
   "execution_count": 70
  },
  {
   "cell_type": "code",
   "outputs": [],
   "source": [],
   "metadata": {
    "collapsed": false,
    "ExecuteTime": {
     "end_time": "2024-05-17T23:59:08.167868Z",
     "start_time": "2024-05-17T23:59:07.941385Z"
    }
   },
   "id": "8c46cf3ea45e1970",
   "execution_count": 70
  },
  {
   "cell_type": "code",
   "outputs": [
    {
     "ename": "KeyError",
     "evalue": "'end_of_period'",
     "output_type": "error",
     "traceback": [
      "\u001B[0;31m---------------------------------------------------------------------------\u001B[0m",
      "\u001B[0;31mKeyError\u001B[0m                                  Traceback (most recent call last)",
      "\u001B[0;32m/var/folders/dh/xy853v6969d25m5d35x8gwj80000gn/T/ipykernel_2657/1518466282.py\u001B[0m in \u001B[0;36m?\u001B[0;34m()\u001B[0m\n\u001B[1;32m      1\u001B[0m \u001B[0;31m#TODO sortujesz wartość w df'ie po nazwie firmy i dacie\u001B[0m\u001B[0;34m\u001B[0m\u001B[0;34m\u001B[0m\u001B[0m\n\u001B[1;32m      2\u001B[0m \u001B[0;31m# wygodnie będzie przełożyć nazwe firmy i end_of_period na przednie kolumny\u001B[0m\u001B[0;34m\u001B[0m\u001B[0;34m\u001B[0m\u001B[0m\n\u001B[0;32m----> 3\u001B[0;31m \u001B[0mdata_gpw\u001B[0m \u001B[0;34m=\u001B[0m \u001B[0mdata_gpw\u001B[0m\u001B[0;34m.\u001B[0m\u001B[0msort_values\u001B[0m\u001B[0;34m(\u001B[0m\u001B[0mby\u001B[0m\u001B[0;34m=\u001B[0m\u001B[0;34m[\u001B[0m\u001B[0;34m'filename'\u001B[0m\u001B[0;34m,\u001B[0m \u001B[0;34m'end_of_period'\u001B[0m\u001B[0;34m]\u001B[0m\u001B[0;34m)\u001B[0m\u001B[0;34m\u001B[0m\u001B[0;34m\u001B[0m\u001B[0m\n\u001B[0m",
      "\u001B[0;32m~/Desktop/financial-forecast-cnn-lstm/venv/lib/python3.12/site-packages/pandas/core/frame.py\u001B[0m in \u001B[0;36m?\u001B[0;34m(self, by, axis, ascending, inplace, kind, na_position, ignore_index, key)\u001B[0m\n\u001B[1;32m   7168\u001B[0m                 \u001B[0;34mf\"\u001B[0m\u001B[0;34mLength of ascending (\u001B[0m\u001B[0;34m{\u001B[0m\u001B[0mlen\u001B[0m\u001B[0;34m(\u001B[0m\u001B[0mascending\u001B[0m\u001B[0;34m)\u001B[0m\u001B[0;34m}\u001B[0m\u001B[0;34m)\u001B[0m\u001B[0;34m\"\u001B[0m  \u001B[0;31m# type: ignore[arg-type]\u001B[0m\u001B[0;34m\u001B[0m\u001B[0;34m\u001B[0m\u001B[0m\n\u001B[1;32m   7169\u001B[0m                 \u001B[0;34mf\"\u001B[0m\u001B[0;34m != length of by (\u001B[0m\u001B[0;34m{\u001B[0m\u001B[0mlen\u001B[0m\u001B[0;34m(\u001B[0m\u001B[0mby\u001B[0m\u001B[0;34m)\u001B[0m\u001B[0;34m}\u001B[0m\u001B[0;34m)\u001B[0m\u001B[0;34m\"\u001B[0m\u001B[0;34m\u001B[0m\u001B[0;34m\u001B[0m\u001B[0m\n\u001B[1;32m   7170\u001B[0m             \u001B[0;34m)\u001B[0m\u001B[0;34m\u001B[0m\u001B[0;34m\u001B[0m\u001B[0m\n\u001B[1;32m   7171\u001B[0m         \u001B[0;32mif\u001B[0m \u001B[0mlen\u001B[0m\u001B[0;34m(\u001B[0m\u001B[0mby\u001B[0m\u001B[0;34m)\u001B[0m \u001B[0;34m>\u001B[0m \u001B[0;36m1\u001B[0m\u001B[0;34m:\u001B[0m\u001B[0;34m\u001B[0m\u001B[0;34m\u001B[0m\u001B[0m\n\u001B[0;32m-> 7172\u001B[0;31m             \u001B[0mkeys\u001B[0m \u001B[0;34m=\u001B[0m \u001B[0;34m[\u001B[0m\u001B[0mself\u001B[0m\u001B[0;34m.\u001B[0m\u001B[0m_get_label_or_level_values\u001B[0m\u001B[0;34m(\u001B[0m\u001B[0mx\u001B[0m\u001B[0;34m,\u001B[0m \u001B[0maxis\u001B[0m\u001B[0;34m=\u001B[0m\u001B[0maxis\u001B[0m\u001B[0;34m)\u001B[0m \u001B[0;32mfor\u001B[0m \u001B[0mx\u001B[0m \u001B[0;32min\u001B[0m \u001B[0mby\u001B[0m\u001B[0;34m]\u001B[0m\u001B[0;34m\u001B[0m\u001B[0;34m\u001B[0m\u001B[0m\n\u001B[0m\u001B[1;32m   7173\u001B[0m \u001B[0;34m\u001B[0m\u001B[0m\n\u001B[1;32m   7174\u001B[0m             \u001B[0;31m# need to rewrap columns in Series to apply key function\u001B[0m\u001B[0;34m\u001B[0m\u001B[0;34m\u001B[0m\u001B[0m\n\u001B[1;32m   7175\u001B[0m             \u001B[0;32mif\u001B[0m \u001B[0mkey\u001B[0m \u001B[0;32mis\u001B[0m \u001B[0;32mnot\u001B[0m \u001B[0;32mNone\u001B[0m\u001B[0;34m:\u001B[0m\u001B[0;34m\u001B[0m\u001B[0;34m\u001B[0m\u001B[0m\n",
      "\u001B[0;32m~/Desktop/financial-forecast-cnn-lstm/venv/lib/python3.12/site-packages/pandas/core/generic.py\u001B[0m in \u001B[0;36m?\u001B[0;34m(self, key, axis)\u001B[0m\n\u001B[1;32m   1907\u001B[0m             \u001B[0mvalues\u001B[0m \u001B[0;34m=\u001B[0m \u001B[0mself\u001B[0m\u001B[0;34m.\u001B[0m\u001B[0mxs\u001B[0m\u001B[0;34m(\u001B[0m\u001B[0mkey\u001B[0m\u001B[0;34m,\u001B[0m \u001B[0maxis\u001B[0m\u001B[0;34m=\u001B[0m\u001B[0mother_axes\u001B[0m\u001B[0;34m[\u001B[0m\u001B[0;36m0\u001B[0m\u001B[0;34m]\u001B[0m\u001B[0;34m)\u001B[0m\u001B[0;34m.\u001B[0m\u001B[0m_values\u001B[0m\u001B[0;34m\u001B[0m\u001B[0;34m\u001B[0m\u001B[0m\n\u001B[1;32m   1908\u001B[0m         \u001B[0;32melif\u001B[0m \u001B[0mself\u001B[0m\u001B[0;34m.\u001B[0m\u001B[0m_is_level_reference\u001B[0m\u001B[0;34m(\u001B[0m\u001B[0mkey\u001B[0m\u001B[0;34m,\u001B[0m \u001B[0maxis\u001B[0m\u001B[0;34m=\u001B[0m\u001B[0maxis\u001B[0m\u001B[0;34m)\u001B[0m\u001B[0;34m:\u001B[0m\u001B[0;34m\u001B[0m\u001B[0;34m\u001B[0m\u001B[0m\n\u001B[1;32m   1909\u001B[0m             \u001B[0mvalues\u001B[0m \u001B[0;34m=\u001B[0m \u001B[0mself\u001B[0m\u001B[0;34m.\u001B[0m\u001B[0maxes\u001B[0m\u001B[0;34m[\u001B[0m\u001B[0maxis\u001B[0m\u001B[0;34m]\u001B[0m\u001B[0;34m.\u001B[0m\u001B[0mget_level_values\u001B[0m\u001B[0;34m(\u001B[0m\u001B[0mkey\u001B[0m\u001B[0;34m)\u001B[0m\u001B[0;34m.\u001B[0m\u001B[0m_values\u001B[0m\u001B[0;34m\u001B[0m\u001B[0;34m\u001B[0m\u001B[0m\n\u001B[1;32m   1910\u001B[0m         \u001B[0;32melse\u001B[0m\u001B[0;34m:\u001B[0m\u001B[0;34m\u001B[0m\u001B[0;34m\u001B[0m\u001B[0m\n\u001B[0;32m-> 1911\u001B[0;31m             \u001B[0;32mraise\u001B[0m \u001B[0mKeyError\u001B[0m\u001B[0;34m(\u001B[0m\u001B[0mkey\u001B[0m\u001B[0;34m)\u001B[0m\u001B[0;34m\u001B[0m\u001B[0;34m\u001B[0m\u001B[0m\n\u001B[0m\u001B[1;32m   1912\u001B[0m \u001B[0;34m\u001B[0m\u001B[0m\n\u001B[1;32m   1913\u001B[0m         \u001B[0;31m# Check for duplicates\u001B[0m\u001B[0;34m\u001B[0m\u001B[0;34m\u001B[0m\u001B[0m\n\u001B[1;32m   1914\u001B[0m         \u001B[0;32mif\u001B[0m \u001B[0mvalues\u001B[0m\u001B[0;34m.\u001B[0m\u001B[0mndim\u001B[0m \u001B[0;34m>\u001B[0m \u001B[0;36m1\u001B[0m\u001B[0;34m:\u001B[0m\u001B[0;34m\u001B[0m\u001B[0;34m\u001B[0m\u001B[0m\n",
      "\u001B[0;31mKeyError\u001B[0m: 'end_of_period'"
     ]
    }
   ],
   "source": [
    "#TODO sortujesz wartość w df'ie po nazwie firmy i dacie\n",
    "# wygodnie będzie przełożyć nazwe firmy i end_of_period na przednie kolumny\n",
    "data_gpw = data_gpw.sort_values(by=['filename', 'end_of_period'])"
   ],
   "metadata": {
    "collapsed": false,
    "ExecuteTime": {
     "end_time": "2024-05-17T23:59:08.265292Z",
     "start_time": "2024-05-17T23:59:07.983408Z"
    }
   },
   "id": "8a6f76b5f536bb9",
   "execution_count": 71
  },
  {
   "cell_type": "code",
   "outputs": [],
   "source": [
    "#TODO FEATURE ENGINEERING trzeba dodać kolumne, która liczy wartości z poprzedniego kwartału, roku, 2 lat\n",
    "# UWAGA: \n",
    "\n",
    "# Change in capital or assets structure\n",
    "# feature: change in last quarter for each company (every major data attribute)\n",
    "# feature: change in last two quarters for each company (every major data attribute)\n",
    "# feature: change in last four quarters for each company (every major data attribute)"
   ],
   "metadata": {
    "collapsed": false,
    "ExecuteTime": {
     "start_time": "2024-05-17T23:59:08.005210Z"
    }
   },
   "id": "5533231f276316c4"
  },
  {
   "cell_type": "code",
   "outputs": [],
   "source": [],
   "metadata": {
    "collapsed": false,
    "ExecuteTime": {
     "start_time": "2024-05-17T23:59:08.009692Z"
    }
   },
   "id": "152cccb127139c8e"
  },
  {
   "cell_type": "markdown",
   "source": [
    "# NN DATA CLEANING (to póki co nieistotne - trzeba skończyć pelny plik, a potem wybrać sobie odpowiednie kolumny)"
   ],
   "metadata": {
    "collapsed": false
   },
   "id": "35095269fa863206"
  },
  {
   "cell_type": "code",
   "outputs": [],
   "source": [
    "#TODO tu będzie mniejszy dataframe z bardzie dokładnymi danymi do testowania wyników (pewnie da lepsze bo unikamy dużo szumu ze zbędnych kolumn)\n",
    "#TODO ten df ma być zrobiony z kolumn poniżej\n",
    "\n",
    "#column_mapping = {\n",
    "#    'financial_liabilities': 'total_liability',\n",
    "#    'aktywa': 'total_assets'\n",
    "#}"
   ],
   "metadata": {
    "collapsed": false,
    "ExecuteTime": {
     "start_time": "2024-05-17T23:59:08.015088Z"
    }
   },
   "id": "4bead22b0ea15848"
  },
  {
   "cell_type": "code",
   "outputs": [],
   "source": [
    "columns_to_keep = [\n",
    "    'filename',\n",
    "    # Additional Information\n",
    "    'Current financial liabilities',\n",
    "    'Non-current financial liabilities',\n",
    "    'Financial liabilities (total)',\n",
    "    \n",
    "    # DuPont Indicators\n",
    "    'Return on equity (ROE)',\n",
    "    'Return on assets (ROA)',\n",
    "    'Leverage (EM)',\n",
    "    'Net profit margin',\n",
    "    'Asset utilization (AU)', # assets_utilization\n",
    "\n",
    "    # Indicators\n",
    "    'Current ratio', #curent_ratio\n",
    "    'Quick ratio',\n",
    "    'Cash ratio',\n",
    "    'Receivables turnover',\n",
    "    'Inventory turnover',\n",
    "    'The operating cycle',\n",
    "    'Rotation commitments',\n",
    "    'Cash conversion cycle',\n",
    "    'Rotation assets',\n",
    "    'Rotation of assets',\n",
    "    'Assets ratio',\n",
    "    'Debt ratio',\n",
    "    'Debt service ratio',\n",
    "    'Rate debt security',\n",
    "    \n",
    "    # Basic Information\n",
    "    'End of period',\n",
    "    \n",
    "    # Aktywa (Assets)\n",
    "    'Non-current assets',\n",
    "    'Current assets',\n",
    "    \n",
    "    # Pasywa (Liabilities)\n",
    "    'Equity shareholders of the parent',\n",
    "    'Non-current liabilities',\n",
    "    'Current liabilities'\n",
    "]"
   ],
   "metadata": {
    "collapsed": false,
    "ExecuteTime": {
     "start_time": "2024-05-17T23:59:08.021220Z"
    }
   },
   "id": "cdff237650b9046d",
   "execution_count": null
  },
  {
   "cell_type": "code",
   "outputs": [],
   "source": [
    "nn_data = pd.read_csv(\"dataframes/nn_gpw_data.csv\")"
   ],
   "metadata": {
    "collapsed": false,
    "ExecuteTime": {
     "start_time": "2024-05-17T23:59:08.025855Z"
    }
   },
   "id": "e845adae4b4aa5b5",
   "execution_count": null
  },
  {
   "cell_type": "code",
   "outputs": [],
   "source": [
    "nn_merged_df = pd.merge(nn_data, names_data, on='filename')"
   ],
   "metadata": {
    "collapsed": false,
    "ExecuteTime": {
     "start_time": "2024-05-17T23:59:08.030702Z"
    }
   },
   "id": "2d05c7e25ae1ce43",
   "execution_count": null
  },
  {
   "cell_type": "code",
   "outputs": [],
   "source": [
    "nn_merged_df = nn_merged_df.sort_values(by=['filename', 'End of period'])"
   ],
   "metadata": {
    "collapsed": false,
    "ExecuteTime": {
     "start_time": "2024-05-17T23:59:08.036219Z"
    }
   },
   "id": "a79ea712937983d0",
   "execution_count": null
  },
  {
   "cell_type": "code",
   "outputs": [],
   "source": [
    "nn_merged_df.columns = clean_column_names(nn_merged_df.columns)"
   ],
   "metadata": {
    "collapsed": false,
    "ExecuteTime": {
     "start_time": "2024-05-17T23:59:08.038860Z"
    }
   },
   "id": "5f77c7e864901848",
   "execution_count": null
  },
  {
   "cell_type": "code",
   "outputs": [],
   "source": [],
   "metadata": {
    "collapsed": false,
    "ExecuteTime": {
     "start_time": "2024-05-17T23:59:08.041413Z"
    }
   },
   "id": "23cd54e98f195d5b",
   "execution_count": null
  },
  {
   "cell_type": "code",
   "outputs": [],
   "source": [],
   "metadata": {
    "collapsed": false,
    "ExecuteTime": {
     "start_time": "2024-05-17T23:59:08.044820Z"
    }
   },
   "id": "4d9a6d34aa30c75a",
   "execution_count": null
  },
  {
   "cell_type": "markdown",
   "source": [
    "# MINI DATAFRAME"
   ],
   "metadata": {
    "collapsed": false
   },
   "id": "4cf8add9d959a0a3"
  },
  {
   "cell_type": "code",
   "outputs": [],
   "source": [
    "#TODO tu będzie jeszcze mniej informacji, tylko te absolutnie najważniejsze (liczę że da najlepsze wyniki)"
   ],
   "metadata": {
    "collapsed": false,
    "ExecuteTime": {
     "start_time": "2024-05-17T23:59:08.047359Z"
    }
   },
   "id": "7e9820595929574b",
   "execution_count": null
  },
  {
   "cell_type": "code",
   "outputs": [],
   "source": [
    "#TODO jeszcze muszę ogarnąć jakie kolumny tu będą"
   ],
   "metadata": {
    "collapsed": false,
    "ExecuteTime": {
     "start_time": "2024-05-17T23:59:08.050426Z"
    }
   },
   "id": "ce698e6505ca7b8"
  }
 ],
 "metadata": {
  "kernelspec": {
   "display_name": "Python 3",
   "language": "python",
   "name": "python3"
  },
  "language_info": {
   "codemirror_mode": {
    "name": "ipython",
    "version": 2
   },
   "file_extension": ".py",
   "mimetype": "text/x-python",
   "name": "python",
   "nbconvert_exporter": "python",
   "pygments_lexer": "ipython2",
   "version": "2.7.6"
  }
 },
 "nbformat": 4,
 "nbformat_minor": 5
}
