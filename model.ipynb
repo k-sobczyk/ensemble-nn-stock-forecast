{
 "cells": [
  {
   "cell_type": "code",
   "execution_count": 144,
   "id": "initial_id",
   "metadata": {
    "collapsed": true,
    "ExecuteTime": {
     "end_time": "2024-05-19T08:03:47.324867400Z",
     "start_time": "2024-05-19T08:03:47.277587Z"
    }
   },
   "outputs": [],
   "source": [
    "import pandas as pd\n",
    "from sklearn.preprocessing import StandardScaler\n",
    "from sklearn.model_selection import train_test_split\n",
    "import torch\n",
    "import torch.nn as nn\n",
    "import torch.optim as optim\n",
    "from torch.utils.data import DataLoader, TensorDataset\n",
    "from sklearn.metrics import mean_squared_error, mean_absolute_error, r2_score\n",
    "import numpy as np"
   ]
  },
  {
   "cell_type": "code",
   "outputs": [],
   "source": [
    "mini_df = pd.read_csv('data/nn_data/mini_df.csv')\n",
    "mini_df_fill = pd.read_csv('data/nn_data/mini_df_fill.csv')\n",
    "nn_df = pd.read_csv('data/nn_data/nn_df.csv')"
   ],
   "metadata": {
    "collapsed": false,
    "ExecuteTime": {
     "end_time": "2024-05-19T08:03:47.347859700Z",
     "start_time": "2024-05-19T08:03:47.317184400Z"
    }
   },
   "id": "36cf67032a86d274",
   "execution_count": 145
  },
  {
   "cell_type": "code",
   "outputs": [],
   "source": [
    "dataframes = [mini_df, nn_df, mini_df_fill]"
   ],
   "metadata": {
    "collapsed": false,
    "ExecuteTime": {
     "end_time": "2024-05-19T08:03:47.353494Z",
     "start_time": "2024-05-19T08:03:47.347132800Z"
    }
   },
   "id": "faa63f41a1fa3291",
   "execution_count": 146
  },
  {
   "cell_type": "code",
   "outputs": [],
   "source": [
    "# OneHotEncoding\n",
    "\n",
    "encoded_dataframes = []\n",
    "\n",
    "for df in dataframes:\n",
    "    encoded_df = pd.get_dummies(df)\n",
    "    encoded_dataframes.append(encoded_df)"
   ],
   "metadata": {
    "collapsed": false,
    "ExecuteTime": {
     "end_time": "2024-05-19T08:03:47.360393900Z",
     "start_time": "2024-05-19T08:03:47.347859700Z"
    }
   },
   "id": "c8312f1f99e2f1f8",
   "execution_count": 147
  },
  {
   "cell_type": "code",
   "outputs": [],
   "source": [
    "# Scaling\n",
    "\n",
    "scaler = StandardScaler()\n",
    "\n",
    "scaled_dataframes = []\n",
    "for encoded_df in encoded_dataframes:\n",
    "    scaled_array = scaler.fit_transform(encoded_df)\n",
    "    scaled_df = pd.DataFrame(scaled_array, columns=encoded_df.columns)\n",
    "    scaled_dataframes.append(scaled_df)"
   ],
   "metadata": {
    "collapsed": false,
    "ExecuteTime": {
     "end_time": "2024-05-19T08:03:47.392169500Z",
     "start_time": "2024-05-19T08:03:47.360393900Z"
    }
   },
   "id": "a459af6b9a5563eb",
   "execution_count": 148
  },
  {
   "cell_type": "code",
   "outputs": [],
   "source": [
    "mini_df_scaled_path = \"data/ready_dataframes/mini_df_scaled.csv\"\n",
    "nn_df_scaled_path = \"data/ready_dataframes/nn_df_scaled.csv\"\n",
    "mini_df_fill_scaled_path = \"data/ready_dataframes/mini_df_fill_scaled.csv\"\n",
    "\n",
    "scaled_dataframes[0].to_csv(mini_df_scaled_path, index=False)\n",
    "scaled_dataframes[1].to_csv(nn_df_scaled_path, index=False)\n",
    "scaled_dataframes[2].to_csv(mini_df_fill_scaled_path, index=False)"
   ],
   "metadata": {
    "collapsed": false,
    "ExecuteTime": {
     "end_time": "2024-05-19T08:03:47.737507100Z",
     "start_time": "2024-05-19T08:03:47.385133300Z"
    }
   },
   "id": "6e5e0c69fb11a213",
   "execution_count": 149
  },
  {
   "cell_type": "code",
   "outputs": [],
   "source": [
    "# Model-ready files\n",
    "nn_df = pd.read_csv(nn_df_scaled_path)\n",
    "mini_df = pd.read_csv(mini_df_scaled_path)\n",
    "mini_df_fill = pd.read_csv(mini_df_fill_scaled_path)"
   ],
   "metadata": {
    "collapsed": false,
    "ExecuteTime": {
     "end_time": "2024-05-19T08:03:47.813696200Z",
     "start_time": "2024-05-19T08:03:47.737507100Z"
    }
   },
   "id": "b07d406002a4d4e0",
   "execution_count": 150
  },
  {
   "cell_type": "code",
   "outputs": [],
   "source": [
    "# Data Split\n",
    "\n",
    "# nn_df\n",
    "target_column = 'Market value'\n",
    "X = nn_df.drop(columns=[target_column])\n",
    "y = nn_df[target_column]\n",
    "\n",
    "# mini_df\n",
    "# target_column = 'Market value'\n",
    "# X = mini_df.drop(columns=[target_column])\n",
    "# y = mini_df[target_column]\n",
    "\n",
    "# mini_df_fill\n",
    "# target_column = 'Market value'\n",
    "# X = mini_df_fill.drop(columns=[target_column])\n",
    "# y = mini_df_fill[target_column]\n",
    "\n",
    "X_train, X_test, y_train, y_test = train_test_split(X, y, test_size=0.2, random_state=42)"
   ],
   "metadata": {
    "collapsed": false,
    "ExecuteTime": {
     "end_time": "2024-05-19T08:03:47.820693700Z",
     "start_time": "2024-05-19T08:03:47.813696200Z"
    }
   },
   "id": "2fbb11f20864c198",
   "execution_count": 151
  },
  {
   "cell_type": "code",
   "outputs": [
    {
     "name": "stdout",
     "output_type": "stream",
     "text": [
      "Using device: cpu\n"
     ]
    }
   ],
   "source": [
    "device = torch.device('cuda' if torch.cuda.is_available() else 'cpu')\n",
    "print(f'Using device: {device}')"
   ],
   "metadata": {
    "collapsed": false,
    "ExecuteTime": {
     "end_time": "2024-05-19T08:03:47.827130400Z",
     "start_time": "2024-05-19T08:03:47.820693700Z"
    }
   },
   "id": "944680d8f0d8798e",
   "execution_count": 152
  },
  {
   "cell_type": "code",
   "outputs": [],
   "source": [
    "# data conversion - to tensor\n",
    "X_train = torch.tensor(X_train.values, dtype=torch.float32).unsqueeze(1).to(device)\n",
    "X_test = torch.tensor(X_test.values, dtype=torch.float32).unsqueeze(1).to(device)\n",
    "y_train = torch.tensor(y_train.values, dtype=torch.float32).unsqueeze(1).to(device)\n",
    "y_test = torch.tensor(y_test.values, dtype=torch.float32).unsqueeze(1).to(device)\n",
    "\n",
    "\n",
    "# dataloader creation\n",
    "train_dataset = TensorDataset(X_train, y_train)\n",
    "test_dataset = TensorDataset(X_test, y_test)\n",
    "train_loader = DataLoader(train_dataset, batch_size=32, shuffle=True)\n",
    "test_loader = DataLoader(test_dataset, batch_size=32, shuffle=False)"
   ],
   "metadata": {
    "collapsed": false,
    "ExecuteTime": {
     "end_time": "2024-05-19T08:03:47.837555100Z",
     "start_time": "2024-05-19T08:03:47.827130400Z"
    }
   },
   "id": "323c9f210b5d0ef3",
   "execution_count": 153
  },
  {
   "cell_type": "markdown",
   "source": [
    "# LSTM"
   ],
   "metadata": {
    "collapsed": false
   },
   "id": "d65c50fee5c4e2b4"
  },
  {
   "cell_type": "code",
   "outputs": [],
   "source": [
    "class LSTMModel(nn.Module):\n",
    "    def __init__(self, input_size, hidden_size, num_layers):\n",
    "        super(LSTMModel, self).__init__()\n",
    "        self.hidden_size = hidden_size\n",
    "        self.num_layers = num_layers\n",
    "        self.lstm = nn.LSTM(input_size, hidden_size, num_layers, batch_first=True)\n",
    "        self.fc = nn.Linear(hidden_size, 1)\n",
    "    \n",
    "    def forward(self, x):\n",
    "        h0 = torch.zeros(self.num_layers, x.size(0), self.hidden_size).to(x.device)\n",
    "        c0 = torch.zeros(self.num_layers, x.size(0), self.hidden_size).to(x.device)\n",
    "        out, _ = self.lstm(x, (h0, c0))\n",
    "        out = self.fc(out[:, -1, :])\n",
    "        return out\n",
    "\n",
    "input_size = X_train.shape[2]\n",
    "hidden_size = 50\n",
    "num_layers = 2\n",
    "\n",
    "model = LSTMModel(input_size, hidden_size, num_layers).to(device)\n",
    "criterion = nn.MSELoss()\n",
    "optimizer = optim.Adam(model.parameters(), lr=0.001)"
   ],
   "metadata": {
    "collapsed": false,
    "ExecuteTime": {
     "end_time": "2024-05-19T08:03:47.850836800Z",
     "start_time": "2024-05-19T08:03:47.837555100Z"
    }
   },
   "id": "192ff5e9944c5918",
   "execution_count": 154
  },
  {
   "cell_type": "code",
   "outputs": [],
   "source": [
    "# model training\n",
    "def train_model(model, train_loader, test_loader, criterion, optimizer, epochs=50):\n",
    "    train_losses = []\n",
    "    test_losses = []\n",
    "    \n",
    "    for epoch in range(epochs):\n",
    "        model.train()\n",
    "        running_loss = 0.0\n",
    "        for inputs, targets in train_loader:\n",
    "            optimizer.zero_grad()\n",
    "            outputs = model(inputs)\n",
    "            loss = criterion(outputs, targets)\n",
    "            loss.backward()\n",
    "            optimizer.step()\n",
    "            running_loss += loss.item() * inputs.size(0)\n",
    "        epoch_loss = running_loss / len(train_loader.dataset)\n",
    "        \n",
    "        train_losses.append(epoch_loss)\n",
    "        \n",
    "        model.eval()\n",
    "        test_loss = 0.0\n",
    "        with torch.no_grad():\n",
    "            for inputs, targets in test_loader:\n",
    "                outputs = model(inputs)\n",
    "                loss = criterion(outputs, targets)\n",
    "                test_loss += loss.item() * inputs.size(0)\n",
    "        test_loss = test_loss / len(test_loader.dataset)\n",
    "        test_losses.append(test_loss)\n",
    "        \n",
    "        print(f'Epoch {epoch+1}/{epochs}, Train Loss: {epoch_loss:.4f}, Test Loss: {test_loss:.4f}')\n",
    "    \n",
    "    loss_df = pd.DataFrame({'Epoch': list(range(1, epochs + 1)), 'Train Loss': train_losses, 'Test Loss': test_losses})\n",
    "    loss_df.to_csv(\"lstm_training_results.csv\", index=False)"
   ],
   "metadata": {
    "collapsed": false,
    "ExecuteTime": {
     "end_time": "2024-05-19T08:03:47.922392100Z",
     "start_time": "2024-05-19T08:03:47.848846400Z"
    }
   },
   "id": "e68c563b33c1314",
   "execution_count": 155
  },
  {
   "cell_type": "code",
   "outputs": [
    {
     "name": "stdout",
     "output_type": "stream",
     "text": [
      "Epoch 1/50, Train Loss: 0.8456, Test Loss: 1.3417\n",
      "Epoch 2/50, Train Loss: 0.6563, Test Loss: 0.7708\n",
      "Epoch 3/50, Train Loss: 0.3463, Test Loss: 0.3089\n",
      "Epoch 4/50, Train Loss: 0.2279, Test Loss: 0.2044\n",
      "Epoch 5/50, Train Loss: 0.1831, Test Loss: 0.1734\n",
      "Epoch 6/50, Train Loss: 0.1580, Test Loss: 0.1604\n",
      "Epoch 7/50, Train Loss: 0.1380, Test Loss: 0.1578\n",
      "Epoch 8/50, Train Loss: 0.1219, Test Loss: 0.1424\n",
      "Epoch 9/50, Train Loss: 0.1101, Test Loss: 0.1384\n",
      "Epoch 10/50, Train Loss: 0.0971, Test Loss: 0.1347\n",
      "Epoch 11/50, Train Loss: 0.0928, Test Loss: 0.1471\n",
      "Epoch 12/50, Train Loss: 0.0842, Test Loss: 0.1356\n",
      "Epoch 13/50, Train Loss: 0.0749, Test Loss: 0.1344\n",
      "Epoch 14/50, Train Loss: 0.0694, Test Loss: 0.1436\n",
      "Epoch 15/50, Train Loss: 0.0654, Test Loss: 0.1492\n",
      "Epoch 16/50, Train Loss: 0.0620, Test Loss: 0.1495\n",
      "Epoch 17/50, Train Loss: 0.0573, Test Loss: 0.1432\n",
      "Epoch 18/50, Train Loss: 0.0526, Test Loss: 0.1471\n",
      "Epoch 19/50, Train Loss: 0.0507, Test Loss: 0.1441\n",
      "Epoch 20/50, Train Loss: 0.0497, Test Loss: 0.1619\n",
      "Epoch 21/50, Train Loss: 0.0454, Test Loss: 0.1507\n",
      "Epoch 22/50, Train Loss: 0.0426, Test Loss: 0.1506\n",
      "Epoch 23/50, Train Loss: 0.0401, Test Loss: 0.1625\n",
      "Epoch 24/50, Train Loss: 0.0389, Test Loss: 0.1512\n",
      "Epoch 25/50, Train Loss: 0.0349, Test Loss: 0.1515\n",
      "Epoch 26/50, Train Loss: 0.0350, Test Loss: 0.1509\n",
      "Epoch 27/50, Train Loss: 0.0328, Test Loss: 0.1615\n",
      "Epoch 28/50, Train Loss: 0.0318, Test Loss: 0.1534\n",
      "Epoch 29/50, Train Loss: 0.0293, Test Loss: 0.1691\n",
      "Epoch 30/50, Train Loss: 0.0274, Test Loss: 0.1553\n",
      "Epoch 31/50, Train Loss: 0.0280, Test Loss: 0.1687\n",
      "Epoch 32/50, Train Loss: 0.0314, Test Loss: 0.1443\n",
      "Epoch 33/50, Train Loss: 0.0239, Test Loss: 0.1511\n",
      "Epoch 34/50, Train Loss: 0.0225, Test Loss: 0.1355\n",
      "Epoch 35/50, Train Loss: 0.0226, Test Loss: 0.1530\n",
      "Epoch 36/50, Train Loss: 0.0220, Test Loss: 0.1574\n",
      "Epoch 37/50, Train Loss: 0.0211, Test Loss: 0.1508\n",
      "Epoch 38/50, Train Loss: 0.0204, Test Loss: 0.1562\n",
      "Epoch 39/50, Train Loss: 0.0182, Test Loss: 0.1538\n",
      "Epoch 40/50, Train Loss: 0.0180, Test Loss: 0.1566\n",
      "Epoch 41/50, Train Loss: 0.0176, Test Loss: 0.1464\n",
      "Epoch 42/50, Train Loss: 0.0165, Test Loss: 0.1525\n",
      "Epoch 43/50, Train Loss: 0.0161, Test Loss: 0.1591\n",
      "Epoch 44/50, Train Loss: 0.0157, Test Loss: 0.1468\n",
      "Epoch 45/50, Train Loss: 0.0141, Test Loss: 0.1546\n",
      "Epoch 46/50, Train Loss: 0.0145, Test Loss: 0.1525\n",
      "Epoch 47/50, Train Loss: 0.0148, Test Loss: 0.1625\n",
      "Epoch 48/50, Train Loss: 0.0145, Test Loss: 0.1459\n",
      "Epoch 49/50, Train Loss: 0.0180, Test Loss: 0.1447\n",
      "Epoch 50/50, Train Loss: 0.0192, Test Loss: 0.1518\n"
     ]
    }
   ],
   "source": [
    "train_model(model, train_loader, test_loader, criterion, optimizer, epochs=50)"
   ],
   "metadata": {
    "collapsed": false,
    "ExecuteTime": {
     "end_time": "2024-05-19T08:03:56.529968Z",
     "start_time": "2024-05-19T08:03:47.850836800Z"
    }
   },
   "id": "cf6aedc79278929b",
   "execution_count": 156
  },
  {
   "cell_type": "code",
   "outputs": [
    {
     "name": "stdout",
     "output_type": "stream",
     "text": [
      "RMSE: 0.38958266377449036\n",
      "MAE: 0.12814141809940338\n",
      "R²: 0.8988246041030987\n"
     ]
    }
   ],
   "source": [
    "# model evaluation\n",
    "def evaluate_model(model, test_loader):\n",
    "    model.eval()\n",
    "    predictions, actuals = [], []\n",
    "    with torch.no_grad():\n",
    "        for inputs, targets in test_loader:\n",
    "            outputs = model(inputs)\n",
    "            predictions.extend(outputs.numpy())\n",
    "            actuals.extend(targets.numpy())\n",
    "    return np.array(predictions), np.array(actuals)\n",
    "\n",
    "y_pred, y_true = evaluate_model(model, test_loader)\n",
    "\n",
    "rmse = np.sqrt(mean_squared_error(y_true, y_pred))\n",
    "mae = mean_absolute_error(y_true, y_pred)\n",
    "r2 = r2_score(y_true, y_pred)\n",
    "\n",
    "print(f'RMSE: {rmse}')\n",
    "print(f'MAE: {mae}')\n",
    "print(f'R²: {r2}')"
   ],
   "metadata": {
    "collapsed": false,
    "ExecuteTime": {
     "end_time": "2024-05-19T08:03:56.544579400Z",
     "start_time": "2024-05-19T08:03:56.532147700Z"
    }
   },
   "id": "3a2e498f284432de",
   "execution_count": 157
  },
  {
   "cell_type": "markdown",
   "source": [
    "# CNN"
   ],
   "metadata": {
    "collapsed": false
   },
   "id": "a4cffededfb6550e"
  },
  {
   "cell_type": "code",
   "outputs": [
    {
     "name": "stdout",
     "output_type": "stream",
     "text": [
      "Shapes before tensor conversion:\n",
      "X_train: torch.Size([1358, 1, 107])\n",
      "X_test: torch.Size([340, 1, 107])\n",
      "y_train: torch.Size([1358, 1])\n",
      "y_test: torch.Size([340, 1])\n"
     ]
    },
    {
     "ename": "TypeError",
     "evalue": "expected np.ndarray (got Tensor)",
     "output_type": "error",
     "traceback": [
      "\u001B[1;31m---------------------------------------------------------------------------\u001B[0m",
      "\u001B[1;31mTypeError\u001B[0m                                 Traceback (most recent call last)",
      "Cell \u001B[1;32mIn[158], line 7\u001B[0m\n\u001B[0;32m      4\u001B[0m \u001B[38;5;28mprint\u001B[39m(\u001B[38;5;124m\"\u001B[39m\u001B[38;5;124my_train:\u001B[39m\u001B[38;5;124m\"\u001B[39m, y_train\u001B[38;5;241m.\u001B[39mshape)\n\u001B[0;32m      5\u001B[0m \u001B[38;5;28mprint\u001B[39m(\u001B[38;5;124m\"\u001B[39m\u001B[38;5;124my_test:\u001B[39m\u001B[38;5;124m\"\u001B[39m, y_test\u001B[38;5;241m.\u001B[39mshape)\n\u001B[1;32m----> 7\u001B[0m X_train_tensor \u001B[38;5;241m=\u001B[39m \u001B[43mtorch\u001B[49m\u001B[38;5;241;43m.\u001B[39;49m\u001B[43mfrom_numpy\u001B[49m\u001B[43m(\u001B[49m\u001B[43mX_train\u001B[49m\u001B[43m)\u001B[49m\u001B[38;5;241m.\u001B[39mfloat()\u001B[38;5;241m.\u001B[39munsqueeze(\u001B[38;5;241m1\u001B[39m)\u001B[38;5;241m.\u001B[39mto(device)\n\u001B[0;32m      8\u001B[0m X_test_tensor \u001B[38;5;241m=\u001B[39m torch\u001B[38;5;241m.\u001B[39mfrom_numpy(X_test)\u001B[38;5;241m.\u001B[39mfloat()\u001B[38;5;241m.\u001B[39munsqueeze(\u001B[38;5;241m1\u001B[39m)\u001B[38;5;241m.\u001B[39mto(device)\n\u001B[0;32m      9\u001B[0m y_train_tensor \u001B[38;5;241m=\u001B[39m torch\u001B[38;5;241m.\u001B[39mfrom_numpy(y_train)\u001B[38;5;241m.\u001B[39mfloat()\u001B[38;5;241m.\u001B[39munsqueeze(\u001B[38;5;241m1\u001B[39m)\u001B[38;5;241m.\u001B[39mto(device)\n",
      "\u001B[1;31mTypeError\u001B[0m: expected np.ndarray (got Tensor)"
     ]
    }
   ],
   "source": [
    "print(\"Shapes before tensor conversion:\")\n",
    "print(\"X_train:\", X_train.shape)\n",
    "print(\"X_test:\", X_test.shape)\n",
    "print(\"y_train:\", y_train.shape)\n",
    "print(\"y_test:\", y_test.shape)\n",
    "\n",
    "X_train_tensor = torch.from_numpy(X_train).float().unsqueeze(1).to(device)\n",
    "X_test_tensor = torch.from_numpy(X_test).float().unsqueeze(1).to(device)\n",
    "y_train_tensor = torch.from_numpy(y_train).float().unsqueeze(1).to(device)\n",
    "y_test_tensor = torch.from_numpy(y_test).float().unsqueeze(1).to(device)"
   ],
   "metadata": {
    "collapsed": false,
    "ExecuteTime": {
     "end_time": "2024-05-19T08:03:56.577170700Z",
     "start_time": "2024-05-19T08:03:56.544579400Z"
    }
   },
   "id": "b930627b3ec99d84",
   "execution_count": 158
  },
  {
   "cell_type": "code",
   "outputs": [],
   "source": [
    "print(\"Shapes after tensor conversion:\")\n",
    "print(\"X_train_tensor:\", X_train_tensor.shape)\n",
    "print(\"X_test_tensor:\", X_test_tensor.shape)\n",
    "print(\"y_train_tensor:\", y_train_tensor.shape)\n",
    "print(\"y_test_tensor:\", y_test_tensor.shape)\n",
    "\n",
    "train_dataset = TensorDataset(X_train_tensor, y_train_tensor)\n",
    "test_dataset = TensorDataset(X_test_tensor, y_test_tensor)\n",
    "train_loader = DataLoader(train_dataset, batch_size=32, shuffle=True)\n",
    "test_loader = DataLoader(test_dataset, batch_size=32, shuffle=False)"
   ],
   "metadata": {
    "collapsed": false,
    "ExecuteTime": {
     "start_time": "2024-05-19T08:03:56.565927200Z"
    }
   },
   "id": "98ccc2fa4aabff77"
  },
  {
   "cell_type": "code",
   "outputs": [],
   "source": [
    "class CNNModel(nn.Module):\n",
    "    def __init__(self, input_length):\n",
    "        super(CNNModel, self).__init__()\n",
    "        self.conv1 = nn.Conv1d(in_channels=1, out_channels=64, kernel_size=2)\n",
    "        self.pool = nn.MaxPool1d(kernel_size=2, stride=2)\n",
    "        self.dropout = nn.Dropout(0.2)\n",
    "        self.flatten = nn.Flatten()\n",
    "\n",
    "        conv_output_size = (input_length - 1) // 2\n",
    "        self.fc1 = nn.Linear(64 * conv_output_size, 50)\n",
    "        self.fc2 = nn.Linear(50, 1)\n",
    "    \n",
    "    def forward(self, x):\n",
    "        x = torch.relu(self.conv1(x))\n",
    "        x = self.pool(x)\n",
    "        x = self.dropout(x)\n",
    "        x = self.flatten(x)\n",
    "        x = torch.relu(self.fc1(x))\n",
    "        x = self.fc2(x)\n",
    "        return x\n",
    "\n",
    "input_length = X_train_tensor.shape[2]\n",
    "model = CNNModel(input_length).to(device)\n",
    "criterion = nn.MSELoss()\n",
    "optimizer = optim.Adam(model.parameters(), lr=0.001)"
   ],
   "metadata": {
    "collapsed": false,
    "ExecuteTime": {
     "start_time": "2024-05-19T08:03:56.567530700Z"
    }
   },
   "id": "e28f53ce3eda9e05",
   "execution_count": null
  },
  {
   "cell_type": "code",
   "outputs": [],
   "source": [
    "# model training\n",
    "def train_model(model, train_loader, test_loader, criterion, optimizer, epochs=50):\n",
    "    train_losses = []\n",
    "    test_losses = []\n",
    "    \n",
    "    for epoch in range(epochs):\n",
    "        model.train()\n",
    "        running_loss = 0.0\n",
    "        for inputs, targets in train_loader:\n",
    "            optimizer.zero_grad()\n",
    "            outputs = model(inputs)\n",
    "            loss = criterion(outputs, targets)\n",
    "            loss.backward()\n",
    "            optimizer.step()\n",
    "            running_loss += loss.item() * inputs.size(0)\n",
    "        epoch_loss = running_loss / len(train_loader.dataset)\n",
    "        \n",
    "        train_losses.append(epoch_loss)\n",
    "        \n",
    "        # Ewaluacja na zbiorze testowym\n",
    "        model.eval()\n",
    "        test_loss = 0.0\n",
    "        with torch.no_grad():\n",
    "            for inputs, targets in test_loader:\n",
    "                outputs = model(inputs)\n",
    "                loss = criterion(outputs, targets)\n",
    "                test_loss += loss.item() * inputs.size(0)\n",
    "        test_loss = test_loss / len(test_loader.dataset)\n",
    "        test_losses.append(test_loss)\n",
    "        \n",
    "        print(f'Epoch {epoch+1}/{epochs}, Train Loss: {epoch_loss:.4f}, Test Loss: {test_loss:.4f}')\n",
    "    \n",
    "    # Zapisz wyniki do pliku CSV\n",
    "    loss_df = pd.DataFrame({'Epoch': list(range(1, epochs + 1)), 'Train Loss': train_losses, 'Test Loss': test_losses})\n",
    "    loss_df.to_csv(\"cnn_training_results.csv\", index=False)"
   ],
   "metadata": {
    "collapsed": false,
    "ExecuteTime": {
     "start_time": "2024-05-19T08:03:56.569531Z"
    }
   },
   "id": "758446236608f6a4",
   "execution_count": null
  },
  {
   "cell_type": "code",
   "outputs": [],
   "source": [
    "train_model(model, train_loader, test_loader, criterion, optimizer, epochs=50)"
   ],
   "metadata": {
    "collapsed": false,
    "ExecuteTime": {
     "start_time": "2024-05-19T08:03:56.570582100Z"
    }
   },
   "id": "ca1a4c554cf78605",
   "execution_count": null
  },
  {
   "cell_type": "code",
   "outputs": [],
   "source": [
    "def evaluate_model(model, test_loader):\n",
    "    model.eval()\n",
    "    predictions, actuals = [], []\n",
    "    with torch.no_grad():\n",
    "        for inputs, targets in test_loader:\n",
    "            outputs = model(inputs)\n",
    "            predictions.extend(outputs.cpu().numpy())  # Przenieś dane z GPU na CPU przed konwersją na numpy\n",
    "            actuals.extend(targets.cpu().numpy())  # Przenieś dane z GPU na CPU przed konwersją na numpy\n",
    "    return np.array(predictions), np.array(actuals)\n",
    "\n",
    "# model evaluation\n",
    "y_pred, y_true = evaluate_model(model, test_loader)\n",
    "\n",
    "rmse = np.sqrt(mean_squared_error(y_true, y_pred))\n",
    "mae = mean_absolute_error(y_true, y_pred)\n",
    "r2 = r2_score(y_true, y_pred)\n",
    "\n",
    "print(f'RMSE: {rmse}')\n",
    "print(f'MAE: {mae}')\n",
    "print(f'R²: {r2}')"
   ],
   "metadata": {
    "collapsed": false,
    "ExecuteTime": {
     "start_time": "2024-05-19T08:03:56.572863100Z"
    }
   },
   "id": "7397e5e98b0bd7a7"
  },
  {
   "cell_type": "markdown",
   "source": [
    "# Results Summary and Comparison"
   ],
   "metadata": {
    "collapsed": false
   },
   "id": "cbf688bac6549ae8"
  },
  {
   "cell_type": "code",
   "outputs": [],
   "source": [],
   "metadata": {
    "collapsed": false,
    "ExecuteTime": {
     "start_time": "2024-05-19T08:03:56.573955800Z"
    }
   },
   "id": "37574d793a7d8046",
   "execution_count": null
  },
  {
   "cell_type": "code",
   "outputs": [],
   "source": [],
   "metadata": {
    "collapsed": false,
    "ExecuteTime": {
     "start_time": "2024-05-19T08:03:56.576063200Z"
    }
   },
   "id": "9e742789e631e898",
   "execution_count": null
  }
 ],
 "metadata": {
  "kernelspec": {
   "display_name": "Python 3",
   "language": "python",
   "name": "python3"
  },
  "language_info": {
   "codemirror_mode": {
    "name": "ipython",
    "version": 2
   },
   "file_extension": ".py",
   "mimetype": "text/x-python",
   "name": "python",
   "nbconvert_exporter": "python",
   "pygments_lexer": "ipython2",
   "version": "2.7.6"
  }
 },
 "nbformat": 4,
 "nbformat_minor": 5
}
