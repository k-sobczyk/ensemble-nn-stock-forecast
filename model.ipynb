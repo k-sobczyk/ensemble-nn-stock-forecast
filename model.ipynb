{
 "cells": [
  {
   "cell_type": "code",
   "execution_count": 1,
   "id": "initial_id",
   "metadata": {
    "collapsed": true,
    "ExecuteTime": {
     "end_time": "2024-05-25T09:07:08.204370300Z",
     "start_time": "2024-05-25T09:07:01.639862300Z"
    }
   },
   "outputs": [],
   "source": [
    "import pandas as pd\n",
    "from sklearn.preprocessing import StandardScaler\n",
    "from sklearn.model_selection import train_test_split\n",
    "import torch\n",
    "import torch.nn as nn\n",
    "import torch.optim as optim\n",
    "from torch.utils.data import DataLoader, TensorDataset, Dataset\n",
    "from sklearn.metrics import mean_squared_error, mean_absolute_error, r2_score\n",
    "import numpy as np"
   ]
  },
  {
   "cell_type": "code",
   "outputs": [],
   "source": [
    "mini_df = pd.read_csv('model_data/mini_df.csv')\n",
    "mini_df_fill = pd.read_csv('model_data/mini_df_fill.csv')\n",
    "nn_df = pd.read_csv('model_data/nn_df.csv')"
   ],
   "metadata": {
    "collapsed": false,
    "ExecuteTime": {
     "end_time": "2024-05-25T09:07:08.479775800Z",
     "start_time": "2024-05-25T09:07:08.202259700Z"
    }
   },
   "id": "36cf67032a86d274",
   "execution_count": 2
  },
  {
   "cell_type": "code",
   "outputs": [
    {
     "data": {
      "text/plain": "      end_of_period  total_assets  noncurrent_assets  current_assets  \\\n0        2011-03-31        1342.0               86.0          1256.0   \n1        2011-03-31        1342.0               86.0          1256.0   \n2        2011-06-30        1659.0              103.0          1556.0   \n3        2011-06-30        1659.0              103.0          1556.0   \n4        2011-09-30        2141.0               85.0          2055.0   \n...             ...           ...                ...             ...   \n16535    2022-03-31     2741947.0          1723917.0       1018030.0   \n16536    2022-06-30     2981239.0          1730362.0       1250877.0   \n16537    2022-06-30     2981239.0          1730362.0       1250877.0   \n16538    2022-09-30     2733389.0          1720912.0       1012477.0   \n16539    2022-09-30     2733389.0          1720912.0       1012477.0   \n\n       equity_shareholders_of_the_parent  noncurrent_liabilities  \\\n0                                 1221.0                     0.0   \n1                                 1221.0                     0.0   \n2                                 1595.0                     0.0   \n3                                 1595.0                     0.0   \n4                                 2060.0                     0.0   \n...                                  ...                     ...   \n16535                           254238.0                620050.0   \n16536                           288397.0               1061326.0   \n16537                           288397.0               1061326.0   \n16538                           304293.0                960672.0   \n16539                           304293.0                960672.0   \n\n       current_liabilities  number_of_shares  sector      target  ...  \\\n0                    110.0           1870.76     gry    41881.66  ...   \n1                    110.0           1870.76     gry    41881.66  ...   \n2                     64.0           1870.76     gry    26705.11  ...   \n3                     64.0           1870.76     gry    26705.11  ...   \n4                     81.0           1870.76     gry    12955.02  ...   \n...                    ...               ...     ...         ...  ...   \n16535            1867659.0          10271.34  napoje  5228110.53  ...   \n16536            1631516.0          10271.34  napoje  5040658.63  ...   \n16537            1631516.0          10271.34  napoje  5040658.63  ...   \n16538            1468424.0          10271.34  napoje  4884020.74  ...   \n16539            1468424.0          10271.34  napoje  4884020.74  ...   \n\n       noncurrent_assets_change_1y  noncurrent_assets_change_2y  \\\n0                            30.13                        30.13   \n1                             0.00                        30.13   \n2                            17.00                        17.00   \n3                             0.00                        17.00   \n4                           -18.00                       -18.00   \n...                            ...                          ...   \n16535                         0.00                    -72866.00   \n16536                      6445.00                      6445.00   \n16537                         0.00                      6445.00   \n16538                     -9450.00                     -9450.00   \n16539                         0.00                     -9450.00   \n\n       current_assets_change_1y  current_assets_change_2y  \\\n0                        -40.49                    -40.49   \n1                          0.00                    -40.49   \n2                        300.00                    300.00   \n3                          0.00                    300.00   \n4                        499.00                    499.00   \n...                         ...                       ...   \n16535                      0.00                 165509.00   \n16536                 232847.00                 232847.00   \n16537                      0.00                 232847.00   \n16538                -238400.00                -238400.00   \n16539                      0.00                -238400.00   \n\n       total_liabilities_change_1y  total_liabilities_change_2y  \\\n0                            25.85                        25.85   \n1                             0.00                        25.85   \n2                           -46.00                       -46.00   \n3                             0.00                       -46.00   \n4                            17.00                        17.00   \n...                            ...                          ...   \n16535                         0.00                    233855.00   \n16536                    205133.00                    205133.00   \n16537                         0.00                    205133.00   \n16538                   -263746.00                   -263746.00   \n16539                         0.00                   -263746.00   \n\n       current_liabilities_change_1y  current_liabilities_change_2y  \\\n0                              25.85                          25.85   \n1                               0.00                          25.85   \n2                             -46.00                         -46.00   \n3                               0.00                         -46.00   \n4                              17.00                          17.00   \n...                              ...                            ...   \n16535                           0.00                     -321630.00   \n16536                     -236143.00                     -236143.00   \n16537                           0.00                     -236143.00   \n16538                     -163092.00                     -163092.00   \n16539                           0.00                     -163092.00   \n\n       noncurrent_liabilities_change_1y  noncurrent_liabilities_change_2y  \n0                                   0.0                               0.0  \n1                                   0.0                               0.0  \n2                                   0.0                               0.0  \n3                                   0.0                               0.0  \n4                                   0.0                               0.0  \n...                                 ...                               ...  \n16535                               0.0                          555485.0  \n16536                          441276.0                          441276.0  \n16537                               0.0                          441276.0  \n16538                         -100654.0                         -100654.0  \n16539                               0.0                         -100654.0  \n\n[16540 rows x 23 columns]",
      "text/html": "<div>\n<style scoped>\n    .dataframe tbody tr th:only-of-type {\n        vertical-align: middle;\n    }\n\n    .dataframe tbody tr th {\n        vertical-align: top;\n    }\n\n    .dataframe thead th {\n        text-align: right;\n    }\n</style>\n<table border=\"1\" class=\"dataframe\">\n  <thead>\n    <tr style=\"text-align: right;\">\n      <th></th>\n      <th>end_of_period</th>\n      <th>total_assets</th>\n      <th>noncurrent_assets</th>\n      <th>current_assets</th>\n      <th>equity_shareholders_of_the_parent</th>\n      <th>noncurrent_liabilities</th>\n      <th>current_liabilities</th>\n      <th>number_of_shares</th>\n      <th>sector</th>\n      <th>target</th>\n      <th>...</th>\n      <th>noncurrent_assets_change_1y</th>\n      <th>noncurrent_assets_change_2y</th>\n      <th>current_assets_change_1y</th>\n      <th>current_assets_change_2y</th>\n      <th>total_liabilities_change_1y</th>\n      <th>total_liabilities_change_2y</th>\n      <th>current_liabilities_change_1y</th>\n      <th>current_liabilities_change_2y</th>\n      <th>noncurrent_liabilities_change_1y</th>\n      <th>noncurrent_liabilities_change_2y</th>\n    </tr>\n  </thead>\n  <tbody>\n    <tr>\n      <th>0</th>\n      <td>2011-03-31</td>\n      <td>1342.0</td>\n      <td>86.0</td>\n      <td>1256.0</td>\n      <td>1221.0</td>\n      <td>0.0</td>\n      <td>110.0</td>\n      <td>1870.76</td>\n      <td>gry</td>\n      <td>41881.66</td>\n      <td>...</td>\n      <td>30.13</td>\n      <td>30.13</td>\n      <td>-40.49</td>\n      <td>-40.49</td>\n      <td>25.85</td>\n      <td>25.85</td>\n      <td>25.85</td>\n      <td>25.85</td>\n      <td>0.0</td>\n      <td>0.0</td>\n    </tr>\n    <tr>\n      <th>1</th>\n      <td>2011-03-31</td>\n      <td>1342.0</td>\n      <td>86.0</td>\n      <td>1256.0</td>\n      <td>1221.0</td>\n      <td>0.0</td>\n      <td>110.0</td>\n      <td>1870.76</td>\n      <td>gry</td>\n      <td>41881.66</td>\n      <td>...</td>\n      <td>0.00</td>\n      <td>30.13</td>\n      <td>0.00</td>\n      <td>-40.49</td>\n      <td>0.00</td>\n      <td>25.85</td>\n      <td>0.00</td>\n      <td>25.85</td>\n      <td>0.0</td>\n      <td>0.0</td>\n    </tr>\n    <tr>\n      <th>2</th>\n      <td>2011-06-30</td>\n      <td>1659.0</td>\n      <td>103.0</td>\n      <td>1556.0</td>\n      <td>1595.0</td>\n      <td>0.0</td>\n      <td>64.0</td>\n      <td>1870.76</td>\n      <td>gry</td>\n      <td>26705.11</td>\n      <td>...</td>\n      <td>17.00</td>\n      <td>17.00</td>\n      <td>300.00</td>\n      <td>300.00</td>\n      <td>-46.00</td>\n      <td>-46.00</td>\n      <td>-46.00</td>\n      <td>-46.00</td>\n      <td>0.0</td>\n      <td>0.0</td>\n    </tr>\n    <tr>\n      <th>3</th>\n      <td>2011-06-30</td>\n      <td>1659.0</td>\n      <td>103.0</td>\n      <td>1556.0</td>\n      <td>1595.0</td>\n      <td>0.0</td>\n      <td>64.0</td>\n      <td>1870.76</td>\n      <td>gry</td>\n      <td>26705.11</td>\n      <td>...</td>\n      <td>0.00</td>\n      <td>17.00</td>\n      <td>0.00</td>\n      <td>300.00</td>\n      <td>0.00</td>\n      <td>-46.00</td>\n      <td>0.00</td>\n      <td>-46.00</td>\n      <td>0.0</td>\n      <td>0.0</td>\n    </tr>\n    <tr>\n      <th>4</th>\n      <td>2011-09-30</td>\n      <td>2141.0</td>\n      <td>85.0</td>\n      <td>2055.0</td>\n      <td>2060.0</td>\n      <td>0.0</td>\n      <td>81.0</td>\n      <td>1870.76</td>\n      <td>gry</td>\n      <td>12955.02</td>\n      <td>...</td>\n      <td>-18.00</td>\n      <td>-18.00</td>\n      <td>499.00</td>\n      <td>499.00</td>\n      <td>17.00</td>\n      <td>17.00</td>\n      <td>17.00</td>\n      <td>17.00</td>\n      <td>0.0</td>\n      <td>0.0</td>\n    </tr>\n    <tr>\n      <th>...</th>\n      <td>...</td>\n      <td>...</td>\n      <td>...</td>\n      <td>...</td>\n      <td>...</td>\n      <td>...</td>\n      <td>...</td>\n      <td>...</td>\n      <td>...</td>\n      <td>...</td>\n      <td>...</td>\n      <td>...</td>\n      <td>...</td>\n      <td>...</td>\n      <td>...</td>\n      <td>...</td>\n      <td>...</td>\n      <td>...</td>\n      <td>...</td>\n      <td>...</td>\n      <td>...</td>\n    </tr>\n    <tr>\n      <th>16535</th>\n      <td>2022-03-31</td>\n      <td>2741947.0</td>\n      <td>1723917.0</td>\n      <td>1018030.0</td>\n      <td>254238.0</td>\n      <td>620050.0</td>\n      <td>1867659.0</td>\n      <td>10271.34</td>\n      <td>napoje</td>\n      <td>5228110.53</td>\n      <td>...</td>\n      <td>0.00</td>\n      <td>-72866.00</td>\n      <td>0.00</td>\n      <td>165509.00</td>\n      <td>0.00</td>\n      <td>233855.00</td>\n      <td>0.00</td>\n      <td>-321630.00</td>\n      <td>0.0</td>\n      <td>555485.0</td>\n    </tr>\n    <tr>\n      <th>16536</th>\n      <td>2022-06-30</td>\n      <td>2981239.0</td>\n      <td>1730362.0</td>\n      <td>1250877.0</td>\n      <td>288397.0</td>\n      <td>1061326.0</td>\n      <td>1631516.0</td>\n      <td>10271.34</td>\n      <td>napoje</td>\n      <td>5040658.63</td>\n      <td>...</td>\n      <td>6445.00</td>\n      <td>6445.00</td>\n      <td>232847.00</td>\n      <td>232847.00</td>\n      <td>205133.00</td>\n      <td>205133.00</td>\n      <td>-236143.00</td>\n      <td>-236143.00</td>\n      <td>441276.0</td>\n      <td>441276.0</td>\n    </tr>\n    <tr>\n      <th>16537</th>\n      <td>2022-06-30</td>\n      <td>2981239.0</td>\n      <td>1730362.0</td>\n      <td>1250877.0</td>\n      <td>288397.0</td>\n      <td>1061326.0</td>\n      <td>1631516.0</td>\n      <td>10271.34</td>\n      <td>napoje</td>\n      <td>5040658.63</td>\n      <td>...</td>\n      <td>0.00</td>\n      <td>6445.00</td>\n      <td>0.00</td>\n      <td>232847.00</td>\n      <td>0.00</td>\n      <td>205133.00</td>\n      <td>0.00</td>\n      <td>-236143.00</td>\n      <td>0.0</td>\n      <td>441276.0</td>\n    </tr>\n    <tr>\n      <th>16538</th>\n      <td>2022-09-30</td>\n      <td>2733389.0</td>\n      <td>1720912.0</td>\n      <td>1012477.0</td>\n      <td>304293.0</td>\n      <td>960672.0</td>\n      <td>1468424.0</td>\n      <td>10271.34</td>\n      <td>napoje</td>\n      <td>4884020.74</td>\n      <td>...</td>\n      <td>-9450.00</td>\n      <td>-9450.00</td>\n      <td>-238400.00</td>\n      <td>-238400.00</td>\n      <td>-263746.00</td>\n      <td>-263746.00</td>\n      <td>-163092.00</td>\n      <td>-163092.00</td>\n      <td>-100654.0</td>\n      <td>-100654.0</td>\n    </tr>\n    <tr>\n      <th>16539</th>\n      <td>2022-09-30</td>\n      <td>2733389.0</td>\n      <td>1720912.0</td>\n      <td>1012477.0</td>\n      <td>304293.0</td>\n      <td>960672.0</td>\n      <td>1468424.0</td>\n      <td>10271.34</td>\n      <td>napoje</td>\n      <td>4884020.74</td>\n      <td>...</td>\n      <td>0.00</td>\n      <td>-9450.00</td>\n      <td>0.00</td>\n      <td>-238400.00</td>\n      <td>0.00</td>\n      <td>-263746.00</td>\n      <td>0.00</td>\n      <td>-163092.00</td>\n      <td>0.0</td>\n      <td>-100654.0</td>\n    </tr>\n  </tbody>\n</table>\n<p>16540 rows × 23 columns</p>\n</div>"
     },
     "execution_count": 3,
     "metadata": {},
     "output_type": "execute_result"
    }
   ],
   "source": [
    "mini_df"
   ],
   "metadata": {
    "collapsed": false,
    "ExecuteTime": {
     "end_time": "2024-05-25T09:07:08.529810100Z",
     "start_time": "2024-05-25T09:07:08.480771600Z"
    }
   },
   "id": "104ea090b25af067",
   "execution_count": 3
  },
  {
   "cell_type": "code",
   "outputs": [
    {
     "data": {
      "text/plain": "      end_of_period  total_assets  noncurrent_assets  current_assets  \\\n0        2010-12-31       1352.36              55.87         1296.49   \n1        2010-12-31       1352.36              55.87         1296.49   \n2        2011-03-31       1342.00              86.00         1256.00   \n3        2011-03-31       1342.00              86.00         1256.00   \n4        2011-06-30       1659.00             103.00         1556.00   \n...             ...           ...                ...             ...   \n17123    2022-03-31    2741947.00         1723917.00      1018030.00   \n17124    2022-06-30    2981239.00         1730362.00      1250877.00   \n17125    2022-06-30    2981239.00         1730362.00      1250877.00   \n17126    2022-09-30    2733389.00         1720912.00      1012477.00   \n17127    2022-09-30    2733389.00         1720912.00      1012477.00   \n\n       equity_shareholders_of_the_parent  noncurrent_liabilities  \\\n0                                 1268.2                     0.0   \n1                                 1268.2                     0.0   \n2                                 1221.0                     0.0   \n3                                 1221.0                     0.0   \n4                                 1595.0                     0.0   \n...                                  ...                     ...   \n17123                           254238.0                620050.0   \n17124                           288397.0               1061326.0   \n17125                           288397.0               1061326.0   \n17126                           304293.0                960672.0   \n17127                           304293.0                960672.0   \n\n       current_liabilities  number_of_shares  sector      target  ...  \\\n0                    84.15           1870.76     gry    14208.43  ...   \n1                    84.15           1870.76     gry    14208.43  ...   \n2                   110.00           1870.76     gry    41881.66  ...   \n3                   110.00           1870.76     gry    41881.66  ...   \n4                    64.00           1870.76     gry    26705.11  ...   \n...                    ...               ...     ...         ...  ...   \n17123           1867659.00          10271.34  napoje  5228110.53  ...   \n17124           1631516.00          10271.34  napoje  5040658.63  ...   \n17125           1631516.00          10271.34  napoje  5040658.63  ...   \n17126           1468424.00          10271.34  napoje  4884020.74  ...   \n17127           1468424.00          10271.34  napoje  4884020.74  ...   \n\n       noncurrent_assets_change_1y  noncurrent_assets_change_2y  \\\n0                             0.00                        30.13   \n1                             0.00                        30.13   \n2                            30.13                        30.13   \n3                             0.00                        30.13   \n4                            17.00                        17.00   \n...                            ...                          ...   \n17123                         0.00                    -72866.00   \n17124                      6445.00                      6445.00   \n17125                         0.00                      6445.00   \n17126                     -9450.00                     -9450.00   \n17127                         0.00                     -9450.00   \n\n       current_assets_change_1y  current_assets_change_2y  \\\n0                          0.00                    -40.49   \n1                          0.00                    -40.49   \n2                        -40.49                    -40.49   \n3                          0.00                    -40.49   \n4                        300.00                    300.00   \n...                         ...                       ...   \n17123                      0.00                 165509.00   \n17124                 232847.00                 232847.00   \n17125                      0.00                 232847.00   \n17126                -238400.00                -238400.00   \n17127                      0.00                -238400.00   \n\n       total_liabilities_change_1y  total_liabilities_change_2y  \\\n0                             0.00                        25.85   \n1                             0.00                        25.85   \n2                            25.85                        25.85   \n3                             0.00                        25.85   \n4                           -46.00                       -46.00   \n...                            ...                          ...   \n17123                         0.00                    233855.00   \n17124                    205133.00                    205133.00   \n17125                         0.00                    205133.00   \n17126                   -263746.00                   -263746.00   \n17127                         0.00                   -263746.00   \n\n       current_liabilities_change_1y  current_liabilities_change_2y  \\\n0                               0.00                          25.85   \n1                               0.00                          25.85   \n2                              25.85                          25.85   \n3                               0.00                          25.85   \n4                             -46.00                         -46.00   \n...                              ...                            ...   \n17123                           0.00                     -321630.00   \n17124                     -236143.00                     -236143.00   \n17125                           0.00                     -236143.00   \n17126                     -163092.00                     -163092.00   \n17127                           0.00                     -163092.00   \n\n       noncurrent_liabilities_change_1y  noncurrent_liabilities_change_2y  \n0                                   0.0                               0.0  \n1                                   0.0                               0.0  \n2                                   0.0                               0.0  \n3                                   0.0                               0.0  \n4                                   0.0                               0.0  \n...                                 ...                               ...  \n17123                               0.0                          555485.0  \n17124                          441276.0                          441276.0  \n17125                               0.0                          441276.0  \n17126                         -100654.0                         -100654.0  \n17127                               0.0                         -100654.0  \n\n[17128 rows x 23 columns]",
      "text/html": "<div>\n<style scoped>\n    .dataframe tbody tr th:only-of-type {\n        vertical-align: middle;\n    }\n\n    .dataframe tbody tr th {\n        vertical-align: top;\n    }\n\n    .dataframe thead th {\n        text-align: right;\n    }\n</style>\n<table border=\"1\" class=\"dataframe\">\n  <thead>\n    <tr style=\"text-align: right;\">\n      <th></th>\n      <th>end_of_period</th>\n      <th>total_assets</th>\n      <th>noncurrent_assets</th>\n      <th>current_assets</th>\n      <th>equity_shareholders_of_the_parent</th>\n      <th>noncurrent_liabilities</th>\n      <th>current_liabilities</th>\n      <th>number_of_shares</th>\n      <th>sector</th>\n      <th>target</th>\n      <th>...</th>\n      <th>noncurrent_assets_change_1y</th>\n      <th>noncurrent_assets_change_2y</th>\n      <th>current_assets_change_1y</th>\n      <th>current_assets_change_2y</th>\n      <th>total_liabilities_change_1y</th>\n      <th>total_liabilities_change_2y</th>\n      <th>current_liabilities_change_1y</th>\n      <th>current_liabilities_change_2y</th>\n      <th>noncurrent_liabilities_change_1y</th>\n      <th>noncurrent_liabilities_change_2y</th>\n    </tr>\n  </thead>\n  <tbody>\n    <tr>\n      <th>0</th>\n      <td>2010-12-31</td>\n      <td>1352.36</td>\n      <td>55.87</td>\n      <td>1296.49</td>\n      <td>1268.2</td>\n      <td>0.0</td>\n      <td>84.15</td>\n      <td>1870.76</td>\n      <td>gry</td>\n      <td>14208.43</td>\n      <td>...</td>\n      <td>0.00</td>\n      <td>30.13</td>\n      <td>0.00</td>\n      <td>-40.49</td>\n      <td>0.00</td>\n      <td>25.85</td>\n      <td>0.00</td>\n      <td>25.85</td>\n      <td>0.0</td>\n      <td>0.0</td>\n    </tr>\n    <tr>\n      <th>1</th>\n      <td>2010-12-31</td>\n      <td>1352.36</td>\n      <td>55.87</td>\n      <td>1296.49</td>\n      <td>1268.2</td>\n      <td>0.0</td>\n      <td>84.15</td>\n      <td>1870.76</td>\n      <td>gry</td>\n      <td>14208.43</td>\n      <td>...</td>\n      <td>0.00</td>\n      <td>30.13</td>\n      <td>0.00</td>\n      <td>-40.49</td>\n      <td>0.00</td>\n      <td>25.85</td>\n      <td>0.00</td>\n      <td>25.85</td>\n      <td>0.0</td>\n      <td>0.0</td>\n    </tr>\n    <tr>\n      <th>2</th>\n      <td>2011-03-31</td>\n      <td>1342.00</td>\n      <td>86.00</td>\n      <td>1256.00</td>\n      <td>1221.0</td>\n      <td>0.0</td>\n      <td>110.00</td>\n      <td>1870.76</td>\n      <td>gry</td>\n      <td>41881.66</td>\n      <td>...</td>\n      <td>30.13</td>\n      <td>30.13</td>\n      <td>-40.49</td>\n      <td>-40.49</td>\n      <td>25.85</td>\n      <td>25.85</td>\n      <td>25.85</td>\n      <td>25.85</td>\n      <td>0.0</td>\n      <td>0.0</td>\n    </tr>\n    <tr>\n      <th>3</th>\n      <td>2011-03-31</td>\n      <td>1342.00</td>\n      <td>86.00</td>\n      <td>1256.00</td>\n      <td>1221.0</td>\n      <td>0.0</td>\n      <td>110.00</td>\n      <td>1870.76</td>\n      <td>gry</td>\n      <td>41881.66</td>\n      <td>...</td>\n      <td>0.00</td>\n      <td>30.13</td>\n      <td>0.00</td>\n      <td>-40.49</td>\n      <td>0.00</td>\n      <td>25.85</td>\n      <td>0.00</td>\n      <td>25.85</td>\n      <td>0.0</td>\n      <td>0.0</td>\n    </tr>\n    <tr>\n      <th>4</th>\n      <td>2011-06-30</td>\n      <td>1659.00</td>\n      <td>103.00</td>\n      <td>1556.00</td>\n      <td>1595.0</td>\n      <td>0.0</td>\n      <td>64.00</td>\n      <td>1870.76</td>\n      <td>gry</td>\n      <td>26705.11</td>\n      <td>...</td>\n      <td>17.00</td>\n      <td>17.00</td>\n      <td>300.00</td>\n      <td>300.00</td>\n      <td>-46.00</td>\n      <td>-46.00</td>\n      <td>-46.00</td>\n      <td>-46.00</td>\n      <td>0.0</td>\n      <td>0.0</td>\n    </tr>\n    <tr>\n      <th>...</th>\n      <td>...</td>\n      <td>...</td>\n      <td>...</td>\n      <td>...</td>\n      <td>...</td>\n      <td>...</td>\n      <td>...</td>\n      <td>...</td>\n      <td>...</td>\n      <td>...</td>\n      <td>...</td>\n      <td>...</td>\n      <td>...</td>\n      <td>...</td>\n      <td>...</td>\n      <td>...</td>\n      <td>...</td>\n      <td>...</td>\n      <td>...</td>\n      <td>...</td>\n      <td>...</td>\n    </tr>\n    <tr>\n      <th>17123</th>\n      <td>2022-03-31</td>\n      <td>2741947.00</td>\n      <td>1723917.00</td>\n      <td>1018030.00</td>\n      <td>254238.0</td>\n      <td>620050.0</td>\n      <td>1867659.00</td>\n      <td>10271.34</td>\n      <td>napoje</td>\n      <td>5228110.53</td>\n      <td>...</td>\n      <td>0.00</td>\n      <td>-72866.00</td>\n      <td>0.00</td>\n      <td>165509.00</td>\n      <td>0.00</td>\n      <td>233855.00</td>\n      <td>0.00</td>\n      <td>-321630.00</td>\n      <td>0.0</td>\n      <td>555485.0</td>\n    </tr>\n    <tr>\n      <th>17124</th>\n      <td>2022-06-30</td>\n      <td>2981239.00</td>\n      <td>1730362.00</td>\n      <td>1250877.00</td>\n      <td>288397.0</td>\n      <td>1061326.0</td>\n      <td>1631516.00</td>\n      <td>10271.34</td>\n      <td>napoje</td>\n      <td>5040658.63</td>\n      <td>...</td>\n      <td>6445.00</td>\n      <td>6445.00</td>\n      <td>232847.00</td>\n      <td>232847.00</td>\n      <td>205133.00</td>\n      <td>205133.00</td>\n      <td>-236143.00</td>\n      <td>-236143.00</td>\n      <td>441276.0</td>\n      <td>441276.0</td>\n    </tr>\n    <tr>\n      <th>17125</th>\n      <td>2022-06-30</td>\n      <td>2981239.00</td>\n      <td>1730362.00</td>\n      <td>1250877.00</td>\n      <td>288397.0</td>\n      <td>1061326.0</td>\n      <td>1631516.00</td>\n      <td>10271.34</td>\n      <td>napoje</td>\n      <td>5040658.63</td>\n      <td>...</td>\n      <td>0.00</td>\n      <td>6445.00</td>\n      <td>0.00</td>\n      <td>232847.00</td>\n      <td>0.00</td>\n      <td>205133.00</td>\n      <td>0.00</td>\n      <td>-236143.00</td>\n      <td>0.0</td>\n      <td>441276.0</td>\n    </tr>\n    <tr>\n      <th>17126</th>\n      <td>2022-09-30</td>\n      <td>2733389.00</td>\n      <td>1720912.00</td>\n      <td>1012477.00</td>\n      <td>304293.0</td>\n      <td>960672.0</td>\n      <td>1468424.00</td>\n      <td>10271.34</td>\n      <td>napoje</td>\n      <td>4884020.74</td>\n      <td>...</td>\n      <td>-9450.00</td>\n      <td>-9450.00</td>\n      <td>-238400.00</td>\n      <td>-238400.00</td>\n      <td>-263746.00</td>\n      <td>-263746.00</td>\n      <td>-163092.00</td>\n      <td>-163092.00</td>\n      <td>-100654.0</td>\n      <td>-100654.0</td>\n    </tr>\n    <tr>\n      <th>17127</th>\n      <td>2022-09-30</td>\n      <td>2733389.00</td>\n      <td>1720912.00</td>\n      <td>1012477.00</td>\n      <td>304293.0</td>\n      <td>960672.0</td>\n      <td>1468424.00</td>\n      <td>10271.34</td>\n      <td>napoje</td>\n      <td>4884020.74</td>\n      <td>...</td>\n      <td>0.00</td>\n      <td>-9450.00</td>\n      <td>0.00</td>\n      <td>-238400.00</td>\n      <td>0.00</td>\n      <td>-263746.00</td>\n      <td>0.00</td>\n      <td>-163092.00</td>\n      <td>0.0</td>\n      <td>-100654.0</td>\n    </tr>\n  </tbody>\n</table>\n<p>17128 rows × 23 columns</p>\n</div>"
     },
     "execution_count": 4,
     "metadata": {},
     "output_type": "execute_result"
    }
   ],
   "source": [
    "mini_df_fill"
   ],
   "metadata": {
    "collapsed": false,
    "ExecuteTime": {
     "end_time": "2024-05-25T09:07:08.547040300Z",
     "start_time": "2024-05-25T09:07:08.518157200Z"
    }
   },
   "id": "12090cd413284590",
   "execution_count": 4
  },
  {
   "cell_type": "code",
   "outputs": [
    {
     "data": {
      "text/plain": "      end_of_period  revenues_from_sales  operating_profitloss  \\\n0        2010-12-31                228.0                   0.0   \n1        2010-12-31                228.0                   0.0   \n2        2011-03-31                144.0                   0.0   \n3        2011-03-31                144.0                   0.0   \n4        2011-06-30                959.0                   0.0   \n...             ...                  ...                   ...   \n17123    2022-03-31             696778.0                6649.0   \n17124    2022-06-30            1209418.0              101579.0   \n17125    2022-06-30            1209418.0              101579.0   \n17126    2022-09-30            1106635.0               61538.0   \n17127    2022-09-30            1106635.0               61538.0   \n\n       net_profitloss_attributable_to_equity_holders_of_the_parent  \\\n0                                                 -198.0             \n1                                                 -198.0             \n2                                                  -50.0             \n3                                                  -50.0             \n4                                                  377.0             \n...                                                  ...             \n17123                                            -1246.0             \n17124                                            92625.0             \n17125                                            92625.0             \n17126                                            23844.0             \n17127                                            23844.0             \n\n       depreciation  cash_flow_from_operating_activities  \\\n0               0.0                                  0.0   \n1               0.0                                  0.0   \n2               0.0                                  0.0   \n3               0.0                                  0.0   \n4               7.0                                  0.0   \n...             ...                                  ...   \n17123       38391.0                              13967.0   \n17124       39932.0                             101877.0   \n17125       39932.0                             101877.0   \n17126       40212.0                             156461.0   \n17127       40212.0                             156461.0   \n\n       cash_flow_from_investing_activities  \\\n0                                      0.0   \n1                                      0.0   \n2                                      0.0   \n3                                      0.0   \n4                                      0.0   \n...                                    ...   \n17123                             -33280.0   \n17124                             -21179.0   \n17125                             -21179.0   \n17126                             -24386.0   \n17127                             -24386.0   \n\n       cash_flow_from_financing_activities  total_assets  noncurrent_assets  \\\n0                                      0.0       1352.36              55.87   \n1                                      0.0       1352.36              55.87   \n2                                      0.0       1342.00              86.00   \n3                                      0.0       1342.00              86.00   \n4                                      0.0       1659.00             103.00   \n...                                    ...           ...                ...   \n17123                              57099.0    2741947.00         1723917.00   \n17124                             -81990.0    2981239.00         1730362.00   \n17125                             -81990.0    2981239.00         1730362.00   \n17126                            -117588.0    2733389.00         1720912.00   \n17127                            -117588.0    2733389.00         1720912.00   \n\n       ...  noncurrent_assets_change_1y  noncurrent_assets_change_2y  \\\n0      ...                         0.00                        30.13   \n1      ...                         0.00                        30.13   \n2      ...                        30.13                        30.13   \n3      ...                         0.00                        30.13   \n4      ...                        17.00                        17.00   \n...    ...                          ...                          ...   \n17123  ...                         0.00                    -72866.00   \n17124  ...                      6445.00                      6445.00   \n17125  ...                         0.00                      6445.00   \n17126  ...                     -9450.00                     -9450.00   \n17127  ...                         0.00                     -9450.00   \n\n       current_assets_change_1y  current_assets_change_2y  \\\n0                          0.00                    -40.49   \n1                          0.00                    -40.49   \n2                        -40.49                    -40.49   \n3                          0.00                    -40.49   \n4                        300.00                    300.00   \n...                         ...                       ...   \n17123                      0.00                 165509.00   \n17124                 232847.00                 232847.00   \n17125                      0.00                 232847.00   \n17126                -238400.00                -238400.00   \n17127                      0.00                -238400.00   \n\n       total_liabilities_change_1y  total_liabilities_change_2y  \\\n0                             0.00                        25.85   \n1                             0.00                        25.85   \n2                            25.85                        25.85   \n3                             0.00                        25.85   \n4                           -46.00                       -46.00   \n...                            ...                          ...   \n17123                         0.00                    233855.00   \n17124                    205133.00                    205133.00   \n17125                         0.00                    205133.00   \n17126                   -263746.00                   -263746.00   \n17127                         0.00                   -263746.00   \n\n      current_liabilities_change_1y  current_liabilities_change_2y  \\\n0                              0.00                          25.85   \n1                              0.00                          25.85   \n2                             25.85                          25.85   \n3                              0.00                          25.85   \n4                            -46.00                         -46.00   \n...                             ...                            ...   \n17123                          0.00                     -321630.00   \n17124                    -236143.00                     -236143.00   \n17125                          0.00                     -236143.00   \n17126                    -163092.00                     -163092.00   \n17127                          0.00                     -163092.00   \n\n       noncurrent_liabilities_change_1y  noncurrent_liabilities_change_2y  \n0                                   0.0                               0.0  \n1                                   0.0                               0.0  \n2                                   0.0                               0.0  \n3                                   0.0                               0.0  \n4                                   0.0                               0.0  \n...                                 ...                               ...  \n17123                               0.0                          555485.0  \n17124                          441276.0                          441276.0  \n17125                               0.0                          441276.0  \n17126                         -100654.0                         -100654.0  \n17127                               0.0                         -100654.0  \n\n[17128 rows x 31 columns]",
      "text/html": "<div>\n<style scoped>\n    .dataframe tbody tr th:only-of-type {\n        vertical-align: middle;\n    }\n\n    .dataframe tbody tr th {\n        vertical-align: top;\n    }\n\n    .dataframe thead th {\n        text-align: right;\n    }\n</style>\n<table border=\"1\" class=\"dataframe\">\n  <thead>\n    <tr style=\"text-align: right;\">\n      <th></th>\n      <th>end_of_period</th>\n      <th>revenues_from_sales</th>\n      <th>operating_profitloss</th>\n      <th>net_profitloss_attributable_to_equity_holders_of_the_parent</th>\n      <th>depreciation</th>\n      <th>cash_flow_from_operating_activities</th>\n      <th>cash_flow_from_investing_activities</th>\n      <th>cash_flow_from_financing_activities</th>\n      <th>total_assets</th>\n      <th>noncurrent_assets</th>\n      <th>...</th>\n      <th>noncurrent_assets_change_1y</th>\n      <th>noncurrent_assets_change_2y</th>\n      <th>current_assets_change_1y</th>\n      <th>current_assets_change_2y</th>\n      <th>total_liabilities_change_1y</th>\n      <th>total_liabilities_change_2y</th>\n      <th>current_liabilities_change_1y</th>\n      <th>current_liabilities_change_2y</th>\n      <th>noncurrent_liabilities_change_1y</th>\n      <th>noncurrent_liabilities_change_2y</th>\n    </tr>\n  </thead>\n  <tbody>\n    <tr>\n      <th>0</th>\n      <td>2010-12-31</td>\n      <td>228.0</td>\n      <td>0.0</td>\n      <td>-198.0</td>\n      <td>0.0</td>\n      <td>0.0</td>\n      <td>0.0</td>\n      <td>0.0</td>\n      <td>1352.36</td>\n      <td>55.87</td>\n      <td>...</td>\n      <td>0.00</td>\n      <td>30.13</td>\n      <td>0.00</td>\n      <td>-40.49</td>\n      <td>0.00</td>\n      <td>25.85</td>\n      <td>0.00</td>\n      <td>25.85</td>\n      <td>0.0</td>\n      <td>0.0</td>\n    </tr>\n    <tr>\n      <th>1</th>\n      <td>2010-12-31</td>\n      <td>228.0</td>\n      <td>0.0</td>\n      <td>-198.0</td>\n      <td>0.0</td>\n      <td>0.0</td>\n      <td>0.0</td>\n      <td>0.0</td>\n      <td>1352.36</td>\n      <td>55.87</td>\n      <td>...</td>\n      <td>0.00</td>\n      <td>30.13</td>\n      <td>0.00</td>\n      <td>-40.49</td>\n      <td>0.00</td>\n      <td>25.85</td>\n      <td>0.00</td>\n      <td>25.85</td>\n      <td>0.0</td>\n      <td>0.0</td>\n    </tr>\n    <tr>\n      <th>2</th>\n      <td>2011-03-31</td>\n      <td>144.0</td>\n      <td>0.0</td>\n      <td>-50.0</td>\n      <td>0.0</td>\n      <td>0.0</td>\n      <td>0.0</td>\n      <td>0.0</td>\n      <td>1342.00</td>\n      <td>86.00</td>\n      <td>...</td>\n      <td>30.13</td>\n      <td>30.13</td>\n      <td>-40.49</td>\n      <td>-40.49</td>\n      <td>25.85</td>\n      <td>25.85</td>\n      <td>25.85</td>\n      <td>25.85</td>\n      <td>0.0</td>\n      <td>0.0</td>\n    </tr>\n    <tr>\n      <th>3</th>\n      <td>2011-03-31</td>\n      <td>144.0</td>\n      <td>0.0</td>\n      <td>-50.0</td>\n      <td>0.0</td>\n      <td>0.0</td>\n      <td>0.0</td>\n      <td>0.0</td>\n      <td>1342.00</td>\n      <td>86.00</td>\n      <td>...</td>\n      <td>0.00</td>\n      <td>30.13</td>\n      <td>0.00</td>\n      <td>-40.49</td>\n      <td>0.00</td>\n      <td>25.85</td>\n      <td>0.00</td>\n      <td>25.85</td>\n      <td>0.0</td>\n      <td>0.0</td>\n    </tr>\n    <tr>\n      <th>4</th>\n      <td>2011-06-30</td>\n      <td>959.0</td>\n      <td>0.0</td>\n      <td>377.0</td>\n      <td>7.0</td>\n      <td>0.0</td>\n      <td>0.0</td>\n      <td>0.0</td>\n      <td>1659.00</td>\n      <td>103.00</td>\n      <td>...</td>\n      <td>17.00</td>\n      <td>17.00</td>\n      <td>300.00</td>\n      <td>300.00</td>\n      <td>-46.00</td>\n      <td>-46.00</td>\n      <td>-46.00</td>\n      <td>-46.00</td>\n      <td>0.0</td>\n      <td>0.0</td>\n    </tr>\n    <tr>\n      <th>...</th>\n      <td>...</td>\n      <td>...</td>\n      <td>...</td>\n      <td>...</td>\n      <td>...</td>\n      <td>...</td>\n      <td>...</td>\n      <td>...</td>\n      <td>...</td>\n      <td>...</td>\n      <td>...</td>\n      <td>...</td>\n      <td>...</td>\n      <td>...</td>\n      <td>...</td>\n      <td>...</td>\n      <td>...</td>\n      <td>...</td>\n      <td>...</td>\n      <td>...</td>\n      <td>...</td>\n    </tr>\n    <tr>\n      <th>17123</th>\n      <td>2022-03-31</td>\n      <td>696778.0</td>\n      <td>6649.0</td>\n      <td>-1246.0</td>\n      <td>38391.0</td>\n      <td>13967.0</td>\n      <td>-33280.0</td>\n      <td>57099.0</td>\n      <td>2741947.00</td>\n      <td>1723917.00</td>\n      <td>...</td>\n      <td>0.00</td>\n      <td>-72866.00</td>\n      <td>0.00</td>\n      <td>165509.00</td>\n      <td>0.00</td>\n      <td>233855.00</td>\n      <td>0.00</td>\n      <td>-321630.00</td>\n      <td>0.0</td>\n      <td>555485.0</td>\n    </tr>\n    <tr>\n      <th>17124</th>\n      <td>2022-06-30</td>\n      <td>1209418.0</td>\n      <td>101579.0</td>\n      <td>92625.0</td>\n      <td>39932.0</td>\n      <td>101877.0</td>\n      <td>-21179.0</td>\n      <td>-81990.0</td>\n      <td>2981239.00</td>\n      <td>1730362.00</td>\n      <td>...</td>\n      <td>6445.00</td>\n      <td>6445.00</td>\n      <td>232847.00</td>\n      <td>232847.00</td>\n      <td>205133.00</td>\n      <td>205133.00</td>\n      <td>-236143.00</td>\n      <td>-236143.00</td>\n      <td>441276.0</td>\n      <td>441276.0</td>\n    </tr>\n    <tr>\n      <th>17125</th>\n      <td>2022-06-30</td>\n      <td>1209418.0</td>\n      <td>101579.0</td>\n      <td>92625.0</td>\n      <td>39932.0</td>\n      <td>101877.0</td>\n      <td>-21179.0</td>\n      <td>-81990.0</td>\n      <td>2981239.00</td>\n      <td>1730362.00</td>\n      <td>...</td>\n      <td>0.00</td>\n      <td>6445.00</td>\n      <td>0.00</td>\n      <td>232847.00</td>\n      <td>0.00</td>\n      <td>205133.00</td>\n      <td>0.00</td>\n      <td>-236143.00</td>\n      <td>0.0</td>\n      <td>441276.0</td>\n    </tr>\n    <tr>\n      <th>17126</th>\n      <td>2022-09-30</td>\n      <td>1106635.0</td>\n      <td>61538.0</td>\n      <td>23844.0</td>\n      <td>40212.0</td>\n      <td>156461.0</td>\n      <td>-24386.0</td>\n      <td>-117588.0</td>\n      <td>2733389.00</td>\n      <td>1720912.00</td>\n      <td>...</td>\n      <td>-9450.00</td>\n      <td>-9450.00</td>\n      <td>-238400.00</td>\n      <td>-238400.00</td>\n      <td>-263746.00</td>\n      <td>-263746.00</td>\n      <td>-163092.00</td>\n      <td>-163092.00</td>\n      <td>-100654.0</td>\n      <td>-100654.0</td>\n    </tr>\n    <tr>\n      <th>17127</th>\n      <td>2022-09-30</td>\n      <td>1106635.0</td>\n      <td>61538.0</td>\n      <td>23844.0</td>\n      <td>40212.0</td>\n      <td>156461.0</td>\n      <td>-24386.0</td>\n      <td>-117588.0</td>\n      <td>2733389.00</td>\n      <td>1720912.00</td>\n      <td>...</td>\n      <td>0.00</td>\n      <td>-9450.00</td>\n      <td>0.00</td>\n      <td>-238400.00</td>\n      <td>0.00</td>\n      <td>-263746.00</td>\n      <td>0.00</td>\n      <td>-163092.00</td>\n      <td>0.0</td>\n      <td>-100654.0</td>\n    </tr>\n  </tbody>\n</table>\n<p>17128 rows × 31 columns</p>\n</div>"
     },
     "execution_count": 5,
     "metadata": {},
     "output_type": "execute_result"
    }
   ],
   "source": [
    "nn_df"
   ],
   "metadata": {
    "collapsed": false,
    "ExecuteTime": {
     "end_time": "2024-05-25T09:07:08.621230300Z",
     "start_time": "2024-05-25T09:07:08.540509500Z"
    }
   },
   "id": "d697c53660fe3603",
   "execution_count": 5
  },
  {
   "cell_type": "code",
   "outputs": [],
   "source": [
    "dataframes = [mini_df, nn_df, mini_df_fill]"
   ],
   "metadata": {
    "collapsed": false,
    "ExecuteTime": {
     "end_time": "2024-05-25T09:07:08.674461400Z",
     "start_time": "2024-05-25T09:07:08.572766Z"
    }
   },
   "id": "faa63f41a1fa3291",
   "execution_count": 6
  },
  {
   "cell_type": "code",
   "outputs": [],
   "source": [
    "# OneHotEncoding\n",
    "encoded_dataframes = []\n",
    "\n",
    "for df in dataframes:\n",
    "    encoded_df = pd.get_dummies(df)\n",
    "    encoded_dataframes.append(encoded_df)"
   ],
   "metadata": {
    "collapsed": false,
    "ExecuteTime": {
     "end_time": "2024-05-25T09:07:08.803274600Z",
     "start_time": "2024-05-25T09:07:08.577681900Z"
    }
   },
   "id": "c8312f1f99e2f1f8",
   "execution_count": 7
  },
  {
   "cell_type": "code",
   "outputs": [],
   "source": [
    "# Scaling\n",
    "scaler = StandardScaler()\n",
    "\n",
    "scaled_dataframes = []\n",
    "for encoded_df in encoded_dataframes:\n",
    "    scaled_array = scaler.fit_transform(encoded_df)\n",
    "    scaled_df = pd.DataFrame(scaled_array, columns=encoded_df.columns)\n",
    "    scaled_dataframes.append(scaled_df)"
   ],
   "metadata": {
    "collapsed": false,
    "ExecuteTime": {
     "end_time": "2024-05-25T09:07:09.033677700Z",
     "start_time": "2024-05-25T09:07:08.618228800Z"
    }
   },
   "id": "a459af6b9a5563eb",
   "execution_count": 8
  },
  {
   "cell_type": "code",
   "outputs": [],
   "source": [
    "mini_df_scaled_path = \"mini_df_scaled.csv\"\n",
    "nn_df_scaled_path = \"nn_df_scaled.csv\"\n",
    "mini_df_fill_scaled_path = \"mini_df_fill_scaled.csv\"\n",
    "\n",
    "scaled_dataframes[0].to_csv(mini_df_scaled_path, index=False)\n",
    "scaled_dataframes[1].to_csv(nn_df_scaled_path, index=False)\n",
    "scaled_dataframes[2].to_csv(mini_df_fill_scaled_path, index=False)"
   ],
   "metadata": {
    "collapsed": false,
    "ExecuteTime": {
     "end_time": "2024-05-25T09:07:21.571342100Z",
     "start_time": "2024-05-25T09:07:09.020338600Z"
    }
   },
   "id": "6e5e0c69fb11a213",
   "execution_count": 9
  },
  {
   "cell_type": "code",
   "outputs": [],
   "source": [
    "# Model-ready files\n",
    "nn_df = pd.read_csv(nn_df_scaled_path)\n",
    "mini_df = pd.read_csv(mini_df_scaled_path)\n",
    "mini_df_fill = pd.read_csv(mini_df_fill_scaled_path)"
   ],
   "metadata": {
    "collapsed": false,
    "ExecuteTime": {
     "end_time": "2024-05-25T09:07:23.480344600Z",
     "start_time": "2024-05-25T09:07:21.573302600Z"
    }
   },
   "id": "b07d406002a4d4e0",
   "execution_count": 10
  },
  {
   "cell_type": "code",
   "outputs": [],
   "source": [
    "# Data Split\n",
    "\n",
    "# nn_df\n",
    "# target_column = 'target'\n",
    "# X = nn_df.drop(columns=[target_column])\n",
    "# y = nn_df[target_column]\n",
    "\n",
    "# mini_df\n",
    "# target_column = 'target'\n",
    "# X = mini_df.drop(columns=[target_column])\n",
    "# y = mini_df[target_column]\n",
    "\n",
    "# mini_df_fill\n",
    "target_column = 'target'\n",
    "X = mini_df_fill.drop(columns=[target_column])\n",
    "y = mini_df_fill[target_column]\n",
    "\n",
    "X_train, X_test, y_train, y_test = train_test_split(X, y, test_size=0.2, random_state=42)"
   ],
   "metadata": {
    "collapsed": false,
    "ExecuteTime": {
     "end_time": "2024-05-25T09:07:23.516488Z",
     "start_time": "2024-05-25T09:07:23.481328100Z"
    }
   },
   "id": "2fbb11f20864c198",
   "execution_count": 11
  },
  {
   "cell_type": "code",
   "outputs": [],
   "source": [
    "# data conversion - to tensor\n",
    "X_train = torch.tensor(X_train.values, dtype=torch.float32).unsqueeze(1)\n",
    "X_test = torch.tensor(X_test.values, dtype=torch.float32).unsqueeze(1)\n",
    "y_train = torch.tensor(y_train.values, dtype=torch.float32).unsqueeze(1)\n",
    "y_test = torch.tensor(y_test.values, dtype=torch.float32).unsqueeze(1)\n",
    "\n",
    "\n",
    "# dataloader creation\n",
    "train_dataset = TensorDataset(X_train, y_train)\n",
    "test_dataset = TensorDataset(X_test, y_test)\n",
    "train_loader = DataLoader(train_dataset, batch_size=32, shuffle=True)\n",
    "test_loader = DataLoader(test_dataset, batch_size=32, shuffle=False)"
   ],
   "metadata": {
    "collapsed": false,
    "ExecuteTime": {
     "end_time": "2024-05-25T09:07:23.546538900Z",
     "start_time": "2024-05-25T09:07:23.508966100Z"
    }
   },
   "id": "323c9f210b5d0ef3",
   "execution_count": 12
  },
  {
   "cell_type": "markdown",
   "source": [
    "# LSTM"
   ],
   "metadata": {
    "collapsed": false
   },
   "id": "d65c50fee5c4e2b4"
  },
  {
   "cell_type": "code",
   "outputs": [],
   "source": [
    "class LSTMModel(nn.Module):\n",
    "    def __init__(self, input_size, hidden_size, num_layers):\n",
    "        super(LSTMModel, self).__init__()\n",
    "        self.hidden_size = hidden_size\n",
    "        self.num_layers = num_layers\n",
    "        self.lstm = nn.LSTM(input_size, hidden_size, num_layers, batch_first=True)\n",
    "        self.fc = nn.Linear(hidden_size, 1)\n",
    "    \n",
    "    def forward(self, x):\n",
    "        h0 = torch.zeros(self.num_layers, x.size(0), self.hidden_size).to(x.device)\n",
    "        c0 = torch.zeros(self.num_layers, x.size(0), self.hidden_size).to(x.device)\n",
    "        out, _ = self.lstm(x, (h0, c0))\n",
    "        out = self.fc(out[:, -1, :])\n",
    "        return out\n",
    "\n",
    "input_size = X_train.shape[2]\n",
    "hidden_size = 50\n",
    "num_layers = 2\n",
    "\n",
    "model = LSTMModel(input_size, hidden_size, num_layers)\n",
    "criterion = nn.MSELoss()\n",
    "optimizer = optim.Adam(model.parameters(), lr=0.001)"
   ],
   "metadata": {
    "collapsed": false,
    "ExecuteTime": {
     "end_time": "2024-05-25T09:07:26.300846300Z",
     "start_time": "2024-05-25T09:07:23.545536700Z"
    }
   },
   "id": "192ff5e9944c5918",
   "execution_count": 13
  },
  {
   "cell_type": "code",
   "outputs": [],
   "source": [
    "# model training\n",
    "def train_model(model, train_loader, test_loader, criterion, optimizer, epochs=50):\n",
    "    train_losses = []\n",
    "    test_losses = []\n",
    "    \n",
    "    for epoch in range(epochs):\n",
    "        model.train()\n",
    "        running_loss = 0.0\n",
    "        for inputs, targets in train_loader:\n",
    "            optimizer.zero_grad()\n",
    "            outputs = model(inputs)\n",
    "            loss = criterion(outputs, targets)\n",
    "            loss.backward()\n",
    "            optimizer.step()\n",
    "            running_loss += loss.item() * inputs.size(0)\n",
    "        epoch_loss = running_loss / len(train_loader.dataset)\n",
    "        \n",
    "        train_losses.append(epoch_loss)\n",
    "        \n",
    "        model.eval()\n",
    "        test_loss = 0.0\n",
    "        with torch.no_grad():\n",
    "            for inputs, targets in test_loader:\n",
    "                outputs = model(inputs)\n",
    "                loss = criterion(outputs, targets)\n",
    "                test_loss += loss.item() * inputs.size(0)\n",
    "        test_loss = test_loss / len(test_loader.dataset)\n",
    "        test_losses.append(test_loss)\n",
    "        \n",
    "        print(f'Epoch {epoch+1}/{epochs}, Train Loss: {epoch_loss:.4f}, Test Loss: {test_loss:.4f}')\n",
    "    \n",
    "    loss_df = pd.DataFrame({'Epoch': list(range(1, epochs + 1)), 'Train Loss': train_losses, 'Test Loss': test_losses})\n",
    "    loss_df.to_csv(\"lstm_training_results.csv\", index=False)"
   ],
   "metadata": {
    "collapsed": false,
    "ExecuteTime": {
     "end_time": "2024-05-25T09:07:26.307141900Z",
     "start_time": "2024-05-25T09:07:26.302205600Z"
    }
   },
   "id": "e68c563b33c1314",
   "execution_count": 14
  },
  {
   "cell_type": "code",
   "outputs": [
    {
     "name": "stdout",
     "output_type": "stream",
     "text": [
      "Epoch 1/50, Train Loss: 0.7249, Test Loss: 0.6354\n",
      "Epoch 2/50, Train Loss: 0.4994, Test Loss: 0.5828\n",
      "Epoch 3/50, Train Loss: 0.4452, Test Loss: 0.5652\n",
      "Epoch 4/50, Train Loss: 0.4079, Test Loss: 0.5533\n",
      "Epoch 5/50, Train Loss: 0.3649, Test Loss: 0.4752\n",
      "Epoch 6/50, Train Loss: 0.2667, Test Loss: 0.3923\n",
      "Epoch 7/50, Train Loss: 0.1853, Test Loss: 0.3134\n",
      "Epoch 8/50, Train Loss: 0.1380, Test Loss: 0.2866\n",
      "Epoch 9/50, Train Loss: 0.1005, Test Loss: 0.1884\n",
      "Epoch 10/50, Train Loss: 0.0677, Test Loss: 0.1837\n",
      "Epoch 11/50, Train Loss: 0.0555, Test Loss: 0.1885\n",
      "Epoch 12/50, Train Loss: 0.0466, Test Loss: 0.1452\n",
      "Epoch 13/50, Train Loss: 0.0435, Test Loss: 0.1562\n",
      "Epoch 14/50, Train Loss: 0.0385, Test Loss: 0.1456\n",
      "Epoch 15/50, Train Loss: 0.0356, Test Loss: 0.1551\n",
      "Epoch 16/50, Train Loss: 0.0360, Test Loss: 0.1488\n",
      "Epoch 17/50, Train Loss: 0.0336, Test Loss: 0.1428\n",
      "Epoch 18/50, Train Loss: 0.0264, Test Loss: 0.1230\n",
      "Epoch 19/50, Train Loss: 0.0241, Test Loss: 0.1453\n",
      "Epoch 20/50, Train Loss: 0.0264, Test Loss: 0.1387\n",
      "Epoch 21/50, Train Loss: 0.0236, Test Loss: 0.1170\n",
      "Epoch 22/50, Train Loss: 0.0203, Test Loss: 0.1106\n",
      "Epoch 23/50, Train Loss: 0.0250, Test Loss: 0.1055\n",
      "Epoch 24/50, Train Loss: 0.0260, Test Loss: 0.1085\n",
      "Epoch 25/50, Train Loss: 0.0163, Test Loss: 0.1116\n",
      "Epoch 26/50, Train Loss: 0.0151, Test Loss: 0.1014\n",
      "Epoch 27/50, Train Loss: 0.0129, Test Loss: 0.1083\n",
      "Epoch 28/50, Train Loss: 0.0144, Test Loss: 0.0954\n",
      "Epoch 29/50, Train Loss: 0.0175, Test Loss: 0.1013\n",
      "Epoch 30/50, Train Loss: 0.0153, Test Loss: 0.0932\n",
      "Epoch 31/50, Train Loss: 0.0115, Test Loss: 0.0832\n",
      "Epoch 32/50, Train Loss: 0.0124, Test Loss: 0.0977\n",
      "Epoch 33/50, Train Loss: 0.0158, Test Loss: 0.0876\n",
      "Epoch 34/50, Train Loss: 0.0129, Test Loss: 0.0866\n",
      "Epoch 35/50, Train Loss: 0.0115, Test Loss: 0.0846\n",
      "Epoch 36/50, Train Loss: 0.0113, Test Loss: 0.0732\n",
      "Epoch 37/50, Train Loss: 0.0102, Test Loss: 0.0823\n",
      "Epoch 38/50, Train Loss: 0.0110, Test Loss: 0.0751\n",
      "Epoch 39/50, Train Loss: 0.0097, Test Loss: 0.0768\n",
      "Epoch 40/50, Train Loss: 0.0134, Test Loss: 0.0764\n",
      "Epoch 41/50, Train Loss: 0.0117, Test Loss: 0.0709\n",
      "Epoch 42/50, Train Loss: 0.0069, Test Loss: 0.0646\n",
      "Epoch 43/50, Train Loss: 0.0079, Test Loss: 0.0690\n",
      "Epoch 44/50, Train Loss: 0.0081, Test Loss: 0.0717\n",
      "Epoch 45/50, Train Loss: 0.0083, Test Loss: 0.0662\n",
      "Epoch 46/50, Train Loss: 0.0078, Test Loss: 0.0600\n",
      "Epoch 47/50, Train Loss: 0.0073, Test Loss: 0.0550\n",
      "Epoch 48/50, Train Loss: 0.0087, Test Loss: 0.0605\n",
      "Epoch 49/50, Train Loss: 0.0080, Test Loss: 0.0649\n",
      "Epoch 50/50, Train Loss: 0.0073, Test Loss: 0.0596\n"
     ]
    }
   ],
   "source": [
    "train_model(model, train_loader, test_loader, criterion, optimizer, epochs=50)"
   ],
   "metadata": {
    "collapsed": false,
    "ExecuteTime": {
     "end_time": "2024-05-25T09:08:59.430911700Z",
     "start_time": "2024-05-25T09:07:26.307141900Z"
    }
   },
   "id": "cf6aedc79278929b",
   "execution_count": 15
  },
  {
   "cell_type": "code",
   "outputs": [
    {
     "name": "stdout",
     "output_type": "stream",
     "text": [
      "RMSE: 0.24416862428188324\n",
      "MAE: 0.049858417361974716\n",
      "R²: 0.9422182315559285\n"
     ]
    }
   ],
   "source": [
    "# model evaluation\n",
    "def evaluate_model(model, test_loader):\n",
    "    model.eval()\n",
    "    predictions, actuals = [], []\n",
    "    with torch.no_grad():\n",
    "        for inputs, targets in test_loader:\n",
    "            outputs = model(inputs)\n",
    "            predictions.extend(outputs.numpy())\n",
    "            actuals.extend(targets.numpy())\n",
    "    return np.array(predictions), np.array(actuals)\n",
    "\n",
    "y_pred, y_true = evaluate_model(model, test_loader)\n",
    "\n",
    "rmse = np.sqrt(mean_squared_error(y_true, y_pred))\n",
    "mae = mean_absolute_error(y_true, y_pred)\n",
    "r2 = r2_score(y_true, y_pred)\n",
    "\n",
    "print(f'RMSE: {rmse}')\n",
    "print(f'MAE: {mae}')\n",
    "print(f'R²: {r2}')"
   ],
   "metadata": {
    "collapsed": false,
    "ExecuteTime": {
     "end_time": "2024-05-25T09:08:59.533586300Z",
     "start_time": "2024-05-25T09:08:59.432911100Z"
    }
   },
   "id": "3a2e498f284432de",
   "execution_count": 16
  },
  {
   "cell_type": "markdown",
   "source": [
    "# CNN"
   ],
   "metadata": {
    "collapsed": false
   },
   "id": "a4cffededfb6550e"
  },
  {
   "cell_type": "code",
   "outputs": [],
   "source": [
    "# nn_df\n",
    "# target_column = 'target'\n",
    "# X = nn_df.drop(columns=[target_column]).values\n",
    "# y = nn_df[target_column].values\n",
    "\n",
    "# mini_df\n",
    "# target_column = 'target'\n",
    "# X = mini_df.drop(columns=[target_column]).values\n",
    "# y = mini_df[target_column].values\n",
    "\n",
    "# mini_df_fill\n",
    "target_column = 'target'\n",
    "X = mini_df_fill.drop(columns=[target_column]).values\n",
    "y = mini_df_fill[target_column].values\n",
    "\n",
    "X_train, X_test, y_train, y_test = train_test_split(X, y, test_size=0.2, random_state=42)"
   ],
   "metadata": {
    "collapsed": false,
    "ExecuteTime": {
     "end_time": "2024-05-25T09:08:59.609686800Z",
     "start_time": "2024-05-25T09:08:59.535087900Z"
    }
   },
   "id": "ad3407a4d18cb1d6",
   "execution_count": 17
  },
  {
   "cell_type": "code",
   "outputs": [],
   "source": [
    "X_train = X_train.reshape(-1, 1, X_train.shape[1], 1)\n",
    "X_test = X_test.reshape(-1, 1, X_test.shape[1], 1)\n",
    "y_train = y_train.reshape(-1, 1)\n",
    "y_test = y_test.reshape(-1, 1)"
   ],
   "metadata": {
    "collapsed": false,
    "ExecuteTime": {
     "end_time": "2024-05-25T09:08:59.612691600Z",
     "start_time": "2024-05-25T09:08:59.577185100Z"
    }
   },
   "id": "1bcb10afa39dc790",
   "execution_count": 18
  },
  {
   "cell_type": "code",
   "outputs": [],
   "source": [
    "class StockDataset(Dataset):\n",
    "    def __init__(self, X, y):\n",
    "        self.X = torch.tensor(X, dtype=torch.float32)\n",
    "        self.y = torch.tensor(y, dtype=torch.float32)\n",
    "        \n",
    "    def __len__(self):\n",
    "        return len(self.X)\n",
    "    \n",
    "    def __getitem__(self, idx):\n",
    "        return self.X[idx], self.y[idx]\n",
    "\n",
    "train_dataset = StockDataset(X_train, y_train)\n",
    "test_dataset = StockDataset(X_test, y_test)\n",
    "\n",
    "train_loader = DataLoader(train_dataset, batch_size=32, shuffle=True)\n",
    "test_loader = DataLoader(test_dataset, batch_size=32, shuffle=False)"
   ],
   "metadata": {
    "collapsed": false,
    "ExecuteTime": {
     "end_time": "2024-05-25T09:08:59.614690400Z",
     "start_time": "2024-05-25T09:08:59.582607400Z"
    }
   },
   "id": "955676695774368c",
   "execution_count": 19
  },
  {
   "cell_type": "code",
   "outputs": [],
   "source": [
    "class ModelCNN(nn.Module):\n",
    "    def __init__(self):\n",
    "        super(ModelCNN, self).__init__()\n",
    "        self.conv1 = nn.Conv2d(1, 16, kernel_size=(3, 1))\n",
    "        self.conv2 = nn.Conv2d(16, 32, kernel_size=(3, 1))\n",
    "        self.fc1 = nn.Linear(32 * (X_train.shape[2] - 4), 50)\n",
    "        self.fc2 = nn.Linear(50, 1)\n",
    "        \n",
    "    def forward(self, x):\n",
    "        x = torch.relu(self.conv1(x))\n",
    "        x = torch.relu(self.conv2(x))\n",
    "        x = x.view(x.size(0), -1)\n",
    "        x = torch.relu(self.fc1(x))\n",
    "        x = self.fc2(x)\n",
    "        return x\n",
    "\n",
    "model = ModelCNN()\n",
    "criterion = nn.MSELoss()\n",
    "optimizer = optim.Adam(model.parameters(), lr=0.001)"
   ],
   "metadata": {
    "collapsed": false,
    "ExecuteTime": {
     "end_time": "2024-05-25T09:08:59.646738100Z",
     "start_time": "2024-05-25T09:08:59.595368800Z"
    }
   },
   "id": "e28f53ce3eda9e05",
   "execution_count": 20
  },
  {
   "cell_type": "code",
   "outputs": [],
   "source": [
    "# model training\n",
    "def train_model(model, train_loader, test_loader, criterion, optimizer, epochs=50):\n",
    "    train_losses = []\n",
    "    test_losses = []\n",
    "    \n",
    "    for epoch in range(epochs):\n",
    "        model.train()\n",
    "        running_loss = 0.0\n",
    "        for inputs, targets in train_loader:\n",
    "            optimizer.zero_grad()\n",
    "            outputs = model(inputs).squeeze()\n",
    "            loss = criterion(outputs, targets.squeeze())\n",
    "            loss.backward()\n",
    "            optimizer.step()\n",
    "            running_loss += loss.item() * inputs.size(0)\n",
    "        epoch_loss = running_loss / len(train_loader.dataset)\n",
    "        \n",
    "        train_losses.append(epoch_loss)\n",
    "        \n",
    "        model.eval()\n",
    "        test_loss = 0.0\n",
    "        with torch.no_grad():\n",
    "            for inputs, targets in test_loader:\n",
    "                outputs = model(inputs).squeeze()\n",
    "                loss = criterion(outputs, targets.squeeze())\n",
    "                test_loss += loss.item() * inputs.size(0)\n",
    "        test_loss = test_loss / len(test_loader.dataset)\n",
    "        test_losses.append(test_loss)\n",
    "        \n",
    "        print(f'Epoch {epoch+1}/{epochs}, Train Loss: {epoch_loss:.4f}, Test Loss: {test_loss:.4f}')\n",
    "\n",
    "    \n",
    "    loss_df = pd.DataFrame({'Epoch': list(range(1, epochs + 1)), 'Train Loss': train_losses, 'Test Loss': test_losses})\n",
    "    loss_df.to_csv(\"cnn_training_results.csv\", index=False)"
   ],
   "metadata": {
    "collapsed": false,
    "ExecuteTime": {
     "end_time": "2024-05-25T09:08:59.648738500Z",
     "start_time": "2024-05-25T09:08:59.606438600Z"
    }
   },
   "id": "758446236608f6a4",
   "execution_count": 21
  },
  {
   "cell_type": "code",
   "outputs": [
    {
     "name": "stdout",
     "output_type": "stream",
     "text": [
      "Epoch 1/50, Train Loss: 0.6639, Test Loss: 0.7408\n",
      "Epoch 2/50, Train Loss: 0.6019, Test Loss: 0.6630\n",
      "Epoch 3/50, Train Loss: 0.5315, Test Loss: 0.7311\n",
      "Epoch 4/50, Train Loss: 0.4673, Test Loss: 0.5525\n",
      "Epoch 5/50, Train Loss: 0.4075, Test Loss: 0.4396\n",
      "Epoch 6/50, Train Loss: 0.3441, Test Loss: 0.4157\n",
      "Epoch 7/50, Train Loss: 0.2377, Test Loss: 0.3960\n",
      "Epoch 8/50, Train Loss: 0.1860, Test Loss: 0.2332\n",
      "Epoch 9/50, Train Loss: 0.1637, Test Loss: 0.2304\n",
      "Epoch 10/50, Train Loss: 0.1439, Test Loss: 0.2241\n",
      "Epoch 11/50, Train Loss: 0.1253, Test Loss: 0.2126\n",
      "Epoch 12/50, Train Loss: 0.1198, Test Loss: 0.2021\n",
      "Epoch 13/50, Train Loss: 0.0979, Test Loss: 0.2546\n",
      "Epoch 14/50, Train Loss: 0.0859, Test Loss: 0.1951\n",
      "Epoch 15/50, Train Loss: 0.0858, Test Loss: 0.1637\n",
      "Epoch 16/50, Train Loss: 0.0605, Test Loss: 0.1581\n",
      "Epoch 17/50, Train Loss: 0.0527, Test Loss: 0.1949\n",
      "Epoch 18/50, Train Loss: 0.0468, Test Loss: 0.1454\n",
      "Epoch 19/50, Train Loss: 0.0409, Test Loss: 0.1314\n",
      "Epoch 20/50, Train Loss: 0.0382, Test Loss: 0.1367\n",
      "Epoch 21/50, Train Loss: 0.0327, Test Loss: 0.1406\n",
      "Epoch 22/50, Train Loss: 0.0347, Test Loss: 0.1435\n",
      "Epoch 23/50, Train Loss: 0.0361, Test Loss: 0.1379\n",
      "Epoch 24/50, Train Loss: 0.0343, Test Loss: 0.2281\n",
      "Epoch 25/50, Train Loss: 0.0368, Test Loss: 0.1352\n",
      "Epoch 26/50, Train Loss: 0.0323, Test Loss: 0.1324\n",
      "Epoch 27/50, Train Loss: 0.0315, Test Loss: 0.1464\n",
      "Epoch 28/50, Train Loss: 0.0303, Test Loss: 0.1328\n",
      "Epoch 29/50, Train Loss: 0.0315, Test Loss: 0.1312\n",
      "Epoch 30/50, Train Loss: 0.0263, Test Loss: 0.1509\n",
      "Epoch 31/50, Train Loss: 0.0248, Test Loss: 0.1272\n",
      "Epoch 32/50, Train Loss: 0.0264, Test Loss: 0.1274\n",
      "Epoch 33/50, Train Loss: 0.0259, Test Loss: 0.1357\n",
      "Epoch 34/50, Train Loss: 0.0257, Test Loss: 0.1345\n",
      "Epoch 35/50, Train Loss: 0.0287, Test Loss: 0.1638\n",
      "Epoch 36/50, Train Loss: 0.0229, Test Loss: 0.1500\n",
      "Epoch 37/50, Train Loss: 0.0260, Test Loss: 0.1273\n",
      "Epoch 38/50, Train Loss: 0.0234, Test Loss: 0.1456\n",
      "Epoch 39/50, Train Loss: 0.0225, Test Loss: 0.1463\n",
      "Epoch 40/50, Train Loss: 0.0209, Test Loss: 0.1424\n",
      "Epoch 41/50, Train Loss: 0.0198, Test Loss: 0.1346\n",
      "Epoch 42/50, Train Loss: 0.0225, Test Loss: 0.1259\n",
      "Epoch 43/50, Train Loss: 0.0213, Test Loss: 0.1312\n",
      "Epoch 44/50, Train Loss: 0.0225, Test Loss: 0.1540\n",
      "Epoch 45/50, Train Loss: 0.0215, Test Loss: 0.1363\n",
      "Epoch 46/50, Train Loss: 0.0292, Test Loss: 0.1439\n",
      "Epoch 47/50, Train Loss: 0.0216, Test Loss: 0.1538\n",
      "Epoch 48/50, Train Loss: 0.0185, Test Loss: 0.1516\n",
      "Epoch 49/50, Train Loss: 0.0171, Test Loss: 0.1470\n",
      "Epoch 50/50, Train Loss: 0.0203, Test Loss: 0.1391\n"
     ]
    }
   ],
   "source": [
    "train_model(model, train_loader, test_loader, criterion, optimizer, epochs=50)"
   ],
   "metadata": {
    "collapsed": false,
    "ExecuteTime": {
     "end_time": "2024-05-25T09:12:51.300594500Z",
     "start_time": "2024-05-25T09:08:59.612691600Z"
    }
   },
   "id": "ca1a4c554cf78605",
   "execution_count": 22
  },
  {
   "cell_type": "code",
   "outputs": [
    {
     "name": "stdout",
     "output_type": "stream",
     "text": [
      "RMSE: 0.3729096055030823\n",
      "MAE: 0.07796270400285721\n",
      "R²: 0.86522224288545\n"
     ]
    }
   ],
   "source": [
    "def evaluate_model(model, test_loader):\n",
    "    model.eval()\n",
    "    predictions, actuals = [], []\n",
    "    with torch.no_grad():\n",
    "        for inputs, targets in test_loader:\n",
    "            outputs = model(inputs).squeeze()\n",
    "            predictions.extend(outputs.cpu().numpy())\n",
    "            actuals.extend(targets.cpu().numpy())\n",
    "    return np.array(predictions), np.array(actuals)\n",
    "\n",
    "# model evaluation\n",
    "y_pred, y_true = evaluate_model(model, test_loader)\n",
    "\n",
    "rmse = np.sqrt(mean_squared_error(y_true, y_pred))\n",
    "mae = mean_absolute_error(y_true, y_pred)\n",
    "r2 = r2_score(y_true, y_pred)\n",
    "\n",
    "print(f'RMSE: {rmse}')\n",
    "print(f'MAE: {mae}')\n",
    "print(f'R²: {r2}')"
   ],
   "metadata": {
    "collapsed": false,
    "ExecuteTime": {
     "end_time": "2024-05-25T09:12:51.477283200Z",
     "start_time": "2024-05-25T09:12:51.302593600Z"
    }
   },
   "id": "7397e5e98b0bd7a7",
   "execution_count": 23
  },
  {
   "cell_type": "markdown",
   "source": [
    "# Results Summary and Comparison"
   ],
   "metadata": {
    "collapsed": false
   },
   "id": "cbf688bac6549ae8"
  },
  {
   "cell_type": "code",
   "outputs": [],
   "source": [
    "import matplotlib.pyplot as plt"
   ],
   "metadata": {
    "collapsed": false,
    "ExecuteTime": {
     "end_time": "2024-05-25T09:12:51.958967800Z",
     "start_time": "2024-05-25T09:12:51.478729300Z"
    }
   },
   "id": "37574d793a7d8046",
   "execution_count": 24
  },
  {
   "cell_type": "code",
   "outputs": [],
   "source": [
    "# Complete DF with everything connected to assets and capital (+additional columns for change)"
   ],
   "metadata": {
    "collapsed": false,
    "ExecuteTime": {
     "end_time": "2024-05-25T09:12:51.969494200Z",
     "start_time": "2024-05-25T09:12:51.958967800Z"
    }
   },
   "id": "e7a3ed86787c388d",
   "execution_count": 25
  },
  {
   "cell_type": "code",
   "outputs": [],
   "source": [
    "lstm_data = pd.read_csv('lstm_training_results.csv')\n",
    "cnn_data = pd.read_csv('cnn_training_results.csv')"
   ],
   "metadata": {
    "collapsed": false,
    "ExecuteTime": {
     "end_time": "2024-05-25T09:12:51.978231700Z",
     "start_time": "2024-05-25T09:12:51.962983300Z"
    }
   },
   "id": "579355070b1eb478",
   "execution_count": 26
  },
  {
   "cell_type": "code",
   "outputs": [],
   "source": [
    "lstm_data.columns = ['Epoch', 'Train_Loss', 'Test_Loss']\n",
    "cnn_data.columns = ['Epoch', 'Train_Loss', 'Test_Loss']"
   ],
   "metadata": {
    "collapsed": false,
    "ExecuteTime": {
     "end_time": "2024-05-25T09:12:51.979232600Z",
     "start_time": "2024-05-25T09:12:51.972712Z"
    }
   },
   "id": "9bafd1038261bdef",
   "execution_count": 27
  },
  {
   "cell_type": "code",
   "outputs": [
    {
     "data": {
      "text/plain": "<Figure size 1200x600 with 1 Axes>",
      "image/png": "[encoded data removed]"
     },
     "metadata": {},
     "output_type": "display_data"
    }
   ],
   "source": [
    "plt.figure(figsize=(12, 6))\n",
    "\n",
    "plt.subplot(1, 2, 1)\n",
    "plt.plot(lstm_data['Epoch'], lstm_data['Train_Loss'], label='LSTM Train Loss', marker='o')\n",
    "plt.plot(lstm_data['Epoch'], lstm_data['Test_Loss'], label='LSTM Test Loss', marker='o')\n",
    "plt.xlabel('Epoch')\n",
    "plt.ylabel('Loss')\n",
    "plt.title('LSTM Training and Test Loss over Epochs')\n",
    "plt.legend()\n",
    "plt.grid(True)\n",
    "\n",
    "plt.tight_layout()\n",
    "plt.show()"
   ],
   "metadata": {
    "collapsed": false,
    "ExecuteTime": {
     "end_time": "2024-05-25T09:12:52.121632700Z",
     "start_time": "2024-05-25T09:12:51.979232600Z"
    }
   },
   "id": "ea53d2b1612a9f51",
   "execution_count": 28
  },
  {
   "cell_type": "code",
   "outputs": [
    {
     "data": {
      "text/plain": "<Figure size 1200x600 with 1 Axes>",
      "image/png": "[encoded data removed]"
     },
     "metadata": {},
     "output_type": "display_data"
    }
   ],
   "source": [
    "plt.figure(figsize=(12, 6))\n",
    "\n",
    "plt.subplot(1, 2, 2)\n",
    "plt.plot(cnn_data['Epoch'], cnn_data['Train_Loss'], label='CNN Train Loss', marker='o')\n",
    "plt.plot(cnn_data['Epoch'], cnn_data['Test_Loss'], label='CNN Test Loss', marker='o')\n",
    "plt.xlabel('Epoch')\n",
    "plt.ylabel('Loss')\n",
    "plt.title('CNN Training and Test Loss over Epochs')\n",
    "plt.legend()\n",
    "plt.grid(True)\n",
    "\n",
    "plt.tight_layout()\n",
    "plt.show()"
   ],
   "metadata": {
    "collapsed": false,
    "ExecuteTime": {
     "end_time": "2024-05-25T09:12:52.241362700Z",
     "start_time": "2024-05-25T09:12:52.121632700Z"
    }
   },
   "id": "ae479760c0e99d28",
   "execution_count": 29
  },
  {
   "cell_type": "code",
   "outputs": [],
   "source": [
    "# Restricted DF with only main assets and capital values (+ additional columns for change)"
   ],
   "metadata": {
    "collapsed": false,
    "ExecuteTime": {
     "end_time": "2024-05-25T09:12:52.251878900Z",
     "start_time": "2024-05-25T09:12:52.242363Z"
    }
   },
   "id": "39c8c6ff162ab797",
   "execution_count": 30
  },
  {
   "cell_type": "markdown",
   "source": [
    "# lstm_results\n",
    "RMSE: 0.3462441861629486\n",
    "MAE: 0.14099374413490295\n",
    "R²: 0.9200827409988592"
   ],
   "metadata": {
    "collapsed": false
   },
   "id": "3c8f2ef8eff08e77"
  },
  {
   "cell_type": "markdown",
   "source": [
    "# cnn_results\n",
    "RMSE: 0.3420768976211548\n",
    "MAE: 0.12758944928646088\n",
    "R²: 0.9219948847835346"
   ],
   "metadata": {
    "collapsed": false
   },
   "id": "e3ec4051f5b7c7d8"
  },
  {
   "cell_type": "code",
   "outputs": [
    {
     "ename": "FileNotFoundError",
     "evalue": "[Errno 2] No such file or directory: 'mini/lstm_training_results.csv'",
     "output_type": "error",
     "traceback": [
      "\u001B[1;31m---------------------------------------------------------------------------\u001B[0m",
      "\u001B[1;31mFileNotFoundError\u001B[0m                         Traceback (most recent call last)",
      "Cell \u001B[1;32mIn[31], line 1\u001B[0m\n\u001B[1;32m----> 1\u001B[0m lstm_data \u001B[38;5;241m=\u001B[39m \u001B[43mpd\u001B[49m\u001B[38;5;241;43m.\u001B[39;49m\u001B[43mread_csv\u001B[49m\u001B[43m(\u001B[49m\u001B[38;5;124;43m'\u001B[39;49m\u001B[38;5;124;43mmini/lstm_training_results.csv\u001B[39;49m\u001B[38;5;124;43m'\u001B[39;49m\u001B[43m)\u001B[49m\n\u001B[0;32m      2\u001B[0m cnn_data \u001B[38;5;241m=\u001B[39m pd\u001B[38;5;241m.\u001B[39mread_csv(\u001B[38;5;124m'\u001B[39m\u001B[38;5;124mmini/cnn_training_results.csv\u001B[39m\u001B[38;5;124m'\u001B[39m)\n",
      "File \u001B[1;32m~\\PycharmProjects\\financial-forecast-cnn-lstm\\.venv\\Lib\\site-packages\\pandas\\io\\parsers\\readers.py:1026\u001B[0m, in \u001B[0;36mread_csv\u001B[1;34m(filepath_or_buffer, sep, delimiter, header, names, index_col, usecols, dtype, engine, converters, true_values, false_values, skipinitialspace, skiprows, skipfooter, nrows, na_values, keep_default_na, na_filter, verbose, skip_blank_lines, parse_dates, infer_datetime_format, keep_date_col, date_parser, date_format, dayfirst, cache_dates, iterator, chunksize, compression, thousands, decimal, lineterminator, quotechar, quoting, doublequote, escapechar, comment, encoding, encoding_errors, dialect, on_bad_lines, delim_whitespace, low_memory, memory_map, float_precision, storage_options, dtype_backend)\u001B[0m\n\u001B[0;32m   1013\u001B[0m kwds_defaults \u001B[38;5;241m=\u001B[39m _refine_defaults_read(\n\u001B[0;32m   1014\u001B[0m     dialect,\n\u001B[0;32m   1015\u001B[0m     delimiter,\n\u001B[1;32m   (...)\u001B[0m\n\u001B[0;32m   1022\u001B[0m     dtype_backend\u001B[38;5;241m=\u001B[39mdtype_backend,\n\u001B[0;32m   1023\u001B[0m )\n\u001B[0;32m   1024\u001B[0m kwds\u001B[38;5;241m.\u001B[39mupdate(kwds_defaults)\n\u001B[1;32m-> 1026\u001B[0m \u001B[38;5;28;01mreturn\u001B[39;00m \u001B[43m_read\u001B[49m\u001B[43m(\u001B[49m\u001B[43mfilepath_or_buffer\u001B[49m\u001B[43m,\u001B[49m\u001B[43m \u001B[49m\u001B[43mkwds\u001B[49m\u001B[43m)\u001B[49m\n",
      "File \u001B[1;32m~\\PycharmProjects\\financial-forecast-cnn-lstm\\.venv\\Lib\\site-packages\\pandas\\io\\parsers\\readers.py:620\u001B[0m, in \u001B[0;36m_read\u001B[1;34m(filepath_or_buffer, kwds)\u001B[0m\n\u001B[0;32m    617\u001B[0m _validate_names(kwds\u001B[38;5;241m.\u001B[39mget(\u001B[38;5;124m\"\u001B[39m\u001B[38;5;124mnames\u001B[39m\u001B[38;5;124m\"\u001B[39m, \u001B[38;5;28;01mNone\u001B[39;00m))\n\u001B[0;32m    619\u001B[0m \u001B[38;5;66;03m# Create the parser.\u001B[39;00m\n\u001B[1;32m--> 620\u001B[0m parser \u001B[38;5;241m=\u001B[39m \u001B[43mTextFileReader\u001B[49m\u001B[43m(\u001B[49m\u001B[43mfilepath_or_buffer\u001B[49m\u001B[43m,\u001B[49m\u001B[43m \u001B[49m\u001B[38;5;241;43m*\u001B[39;49m\u001B[38;5;241;43m*\u001B[39;49m\u001B[43mkwds\u001B[49m\u001B[43m)\u001B[49m\n\u001B[0;32m    622\u001B[0m \u001B[38;5;28;01mif\u001B[39;00m chunksize \u001B[38;5;129;01mor\u001B[39;00m iterator:\n\u001B[0;32m    623\u001B[0m     \u001B[38;5;28;01mreturn\u001B[39;00m parser\n",
      "File \u001B[1;32m~\\PycharmProjects\\financial-forecast-cnn-lstm\\.venv\\Lib\\site-packages\\pandas\\io\\parsers\\readers.py:1620\u001B[0m, in \u001B[0;36mTextFileReader.__init__\u001B[1;34m(self, f, engine, **kwds)\u001B[0m\n\u001B[0;32m   1617\u001B[0m     \u001B[38;5;28mself\u001B[39m\u001B[38;5;241m.\u001B[39moptions[\u001B[38;5;124m\"\u001B[39m\u001B[38;5;124mhas_index_names\u001B[39m\u001B[38;5;124m\"\u001B[39m] \u001B[38;5;241m=\u001B[39m kwds[\u001B[38;5;124m\"\u001B[39m\u001B[38;5;124mhas_index_names\u001B[39m\u001B[38;5;124m\"\u001B[39m]\n\u001B[0;32m   1619\u001B[0m \u001B[38;5;28mself\u001B[39m\u001B[38;5;241m.\u001B[39mhandles: IOHandles \u001B[38;5;241m|\u001B[39m \u001B[38;5;28;01mNone\u001B[39;00m \u001B[38;5;241m=\u001B[39m \u001B[38;5;28;01mNone\u001B[39;00m\n\u001B[1;32m-> 1620\u001B[0m \u001B[38;5;28mself\u001B[39m\u001B[38;5;241m.\u001B[39m_engine \u001B[38;5;241m=\u001B[39m \u001B[38;5;28;43mself\u001B[39;49m\u001B[38;5;241;43m.\u001B[39;49m\u001B[43m_make_engine\u001B[49m\u001B[43m(\u001B[49m\u001B[43mf\u001B[49m\u001B[43m,\u001B[49m\u001B[43m \u001B[49m\u001B[38;5;28;43mself\u001B[39;49m\u001B[38;5;241;43m.\u001B[39;49m\u001B[43mengine\u001B[49m\u001B[43m)\u001B[49m\n",
      "File \u001B[1;32m~\\PycharmProjects\\financial-forecast-cnn-lstm\\.venv\\Lib\\site-packages\\pandas\\io\\parsers\\readers.py:1880\u001B[0m, in \u001B[0;36mTextFileReader._make_engine\u001B[1;34m(self, f, engine)\u001B[0m\n\u001B[0;32m   1878\u001B[0m     \u001B[38;5;28;01mif\u001B[39;00m \u001B[38;5;124m\"\u001B[39m\u001B[38;5;124mb\u001B[39m\u001B[38;5;124m\"\u001B[39m \u001B[38;5;129;01mnot\u001B[39;00m \u001B[38;5;129;01min\u001B[39;00m mode:\n\u001B[0;32m   1879\u001B[0m         mode \u001B[38;5;241m+\u001B[39m\u001B[38;5;241m=\u001B[39m \u001B[38;5;124m\"\u001B[39m\u001B[38;5;124mb\u001B[39m\u001B[38;5;124m\"\u001B[39m\n\u001B[1;32m-> 1880\u001B[0m \u001B[38;5;28mself\u001B[39m\u001B[38;5;241m.\u001B[39mhandles \u001B[38;5;241m=\u001B[39m \u001B[43mget_handle\u001B[49m\u001B[43m(\u001B[49m\n\u001B[0;32m   1881\u001B[0m \u001B[43m    \u001B[49m\u001B[43mf\u001B[49m\u001B[43m,\u001B[49m\n\u001B[0;32m   1882\u001B[0m \u001B[43m    \u001B[49m\u001B[43mmode\u001B[49m\u001B[43m,\u001B[49m\n\u001B[0;32m   1883\u001B[0m \u001B[43m    \u001B[49m\u001B[43mencoding\u001B[49m\u001B[38;5;241;43m=\u001B[39;49m\u001B[38;5;28;43mself\u001B[39;49m\u001B[38;5;241;43m.\u001B[39;49m\u001B[43moptions\u001B[49m\u001B[38;5;241;43m.\u001B[39;49m\u001B[43mget\u001B[49m\u001B[43m(\u001B[49m\u001B[38;5;124;43m\"\u001B[39;49m\u001B[38;5;124;43mencoding\u001B[39;49m\u001B[38;5;124;43m\"\u001B[39;49m\u001B[43m,\u001B[49m\u001B[43m \u001B[49m\u001B[38;5;28;43;01mNone\u001B[39;49;00m\u001B[43m)\u001B[49m\u001B[43m,\u001B[49m\n\u001B[0;32m   1884\u001B[0m \u001B[43m    \u001B[49m\u001B[43mcompression\u001B[49m\u001B[38;5;241;43m=\u001B[39;49m\u001B[38;5;28;43mself\u001B[39;49m\u001B[38;5;241;43m.\u001B[39;49m\u001B[43moptions\u001B[49m\u001B[38;5;241;43m.\u001B[39;49m\u001B[43mget\u001B[49m\u001B[43m(\u001B[49m\u001B[38;5;124;43m\"\u001B[39;49m\u001B[38;5;124;43mcompression\u001B[39;49m\u001B[38;5;124;43m\"\u001B[39;49m\u001B[43m,\u001B[49m\u001B[43m \u001B[49m\u001B[38;5;28;43;01mNone\u001B[39;49;00m\u001B[43m)\u001B[49m\u001B[43m,\u001B[49m\n\u001B[0;32m   1885\u001B[0m \u001B[43m    \u001B[49m\u001B[43mmemory_map\u001B[49m\u001B[38;5;241;43m=\u001B[39;49m\u001B[38;5;28;43mself\u001B[39;49m\u001B[38;5;241;43m.\u001B[39;49m\u001B[43moptions\u001B[49m\u001B[38;5;241;43m.\u001B[39;49m\u001B[43mget\u001B[49m\u001B[43m(\u001B[49m\u001B[38;5;124;43m\"\u001B[39;49m\u001B[38;5;124;43mmemory_map\u001B[39;49m\u001B[38;5;124;43m\"\u001B[39;49m\u001B[43m,\u001B[49m\u001B[43m \u001B[49m\u001B[38;5;28;43;01mFalse\u001B[39;49;00m\u001B[43m)\u001B[49m\u001B[43m,\u001B[49m\n\u001B[0;32m   1886\u001B[0m \u001B[43m    \u001B[49m\u001B[43mis_text\u001B[49m\u001B[38;5;241;43m=\u001B[39;49m\u001B[43mis_text\u001B[49m\u001B[43m,\u001B[49m\n\u001B[0;32m   1887\u001B[0m \u001B[43m    \u001B[49m\u001B[43merrors\u001B[49m\u001B[38;5;241;43m=\u001B[39;49m\u001B[38;5;28;43mself\u001B[39;49m\u001B[38;5;241;43m.\u001B[39;49m\u001B[43moptions\u001B[49m\u001B[38;5;241;43m.\u001B[39;49m\u001B[43mget\u001B[49m\u001B[43m(\u001B[49m\u001B[38;5;124;43m\"\u001B[39;49m\u001B[38;5;124;43mencoding_errors\u001B[39;49m\u001B[38;5;124;43m\"\u001B[39;49m\u001B[43m,\u001B[49m\u001B[43m \u001B[49m\u001B[38;5;124;43m\"\u001B[39;49m\u001B[38;5;124;43mstrict\u001B[39;49m\u001B[38;5;124;43m\"\u001B[39;49m\u001B[43m)\u001B[49m\u001B[43m,\u001B[49m\n\u001B[0;32m   1888\u001B[0m \u001B[43m    \u001B[49m\u001B[43mstorage_options\u001B[49m\u001B[38;5;241;43m=\u001B[39;49m\u001B[38;5;28;43mself\u001B[39;49m\u001B[38;5;241;43m.\u001B[39;49m\u001B[43moptions\u001B[49m\u001B[38;5;241;43m.\u001B[39;49m\u001B[43mget\u001B[49m\u001B[43m(\u001B[49m\u001B[38;5;124;43m\"\u001B[39;49m\u001B[38;5;124;43mstorage_options\u001B[39;49m\u001B[38;5;124;43m\"\u001B[39;49m\u001B[43m,\u001B[49m\u001B[43m \u001B[49m\u001B[38;5;28;43;01mNone\u001B[39;49;00m\u001B[43m)\u001B[49m\u001B[43m,\u001B[49m\n\u001B[0;32m   1889\u001B[0m \u001B[43m\u001B[49m\u001B[43m)\u001B[49m\n\u001B[0;32m   1890\u001B[0m \u001B[38;5;28;01massert\u001B[39;00m \u001B[38;5;28mself\u001B[39m\u001B[38;5;241m.\u001B[39mhandles \u001B[38;5;129;01mis\u001B[39;00m \u001B[38;5;129;01mnot\u001B[39;00m \u001B[38;5;28;01mNone\u001B[39;00m\n\u001B[0;32m   1891\u001B[0m f \u001B[38;5;241m=\u001B[39m \u001B[38;5;28mself\u001B[39m\u001B[38;5;241m.\u001B[39mhandles\u001B[38;5;241m.\u001B[39mhandle\n",
      "File \u001B[1;32m~\\PycharmProjects\\financial-forecast-cnn-lstm\\.venv\\Lib\\site-packages\\pandas\\io\\common.py:873\u001B[0m, in \u001B[0;36mget_handle\u001B[1;34m(path_or_buf, mode, encoding, compression, memory_map, is_text, errors, storage_options)\u001B[0m\n\u001B[0;32m    868\u001B[0m \u001B[38;5;28;01melif\u001B[39;00m \u001B[38;5;28misinstance\u001B[39m(handle, \u001B[38;5;28mstr\u001B[39m):\n\u001B[0;32m    869\u001B[0m     \u001B[38;5;66;03m# Check whether the filename is to be opened in binary mode.\u001B[39;00m\n\u001B[0;32m    870\u001B[0m     \u001B[38;5;66;03m# Binary mode does not support 'encoding' and 'newline'.\u001B[39;00m\n\u001B[0;32m    871\u001B[0m     \u001B[38;5;28;01mif\u001B[39;00m ioargs\u001B[38;5;241m.\u001B[39mencoding \u001B[38;5;129;01mand\u001B[39;00m \u001B[38;5;124m\"\u001B[39m\u001B[38;5;124mb\u001B[39m\u001B[38;5;124m\"\u001B[39m \u001B[38;5;129;01mnot\u001B[39;00m \u001B[38;5;129;01min\u001B[39;00m ioargs\u001B[38;5;241m.\u001B[39mmode:\n\u001B[0;32m    872\u001B[0m         \u001B[38;5;66;03m# Encoding\u001B[39;00m\n\u001B[1;32m--> 873\u001B[0m         handle \u001B[38;5;241m=\u001B[39m \u001B[38;5;28;43mopen\u001B[39;49m\u001B[43m(\u001B[49m\n\u001B[0;32m    874\u001B[0m \u001B[43m            \u001B[49m\u001B[43mhandle\u001B[49m\u001B[43m,\u001B[49m\n\u001B[0;32m    875\u001B[0m \u001B[43m            \u001B[49m\u001B[43mioargs\u001B[49m\u001B[38;5;241;43m.\u001B[39;49m\u001B[43mmode\u001B[49m\u001B[43m,\u001B[49m\n\u001B[0;32m    876\u001B[0m \u001B[43m            \u001B[49m\u001B[43mencoding\u001B[49m\u001B[38;5;241;43m=\u001B[39;49m\u001B[43mioargs\u001B[49m\u001B[38;5;241;43m.\u001B[39;49m\u001B[43mencoding\u001B[49m\u001B[43m,\u001B[49m\n\u001B[0;32m    877\u001B[0m \u001B[43m            \u001B[49m\u001B[43merrors\u001B[49m\u001B[38;5;241;43m=\u001B[39;49m\u001B[43merrors\u001B[49m\u001B[43m,\u001B[49m\n\u001B[0;32m    878\u001B[0m \u001B[43m            \u001B[49m\u001B[43mnewline\u001B[49m\u001B[38;5;241;43m=\u001B[39;49m\u001B[38;5;124;43m\"\u001B[39;49m\u001B[38;5;124;43m\"\u001B[39;49m\u001B[43m,\u001B[49m\n\u001B[0;32m    879\u001B[0m \u001B[43m        \u001B[49m\u001B[43m)\u001B[49m\n\u001B[0;32m    880\u001B[0m     \u001B[38;5;28;01melse\u001B[39;00m:\n\u001B[0;32m    881\u001B[0m         \u001B[38;5;66;03m# Binary mode\u001B[39;00m\n\u001B[0;32m    882\u001B[0m         handle \u001B[38;5;241m=\u001B[39m \u001B[38;5;28mopen\u001B[39m(handle, ioargs\u001B[38;5;241m.\u001B[39mmode)\n",
      "\u001B[1;31mFileNotFoundError\u001B[0m: [Errno 2] No such file or directory: 'mini/lstm_training_results.csv'"
     ]
    }
   ],
   "source": [
    "lstm_data = pd.read_csv('mini/lstm_training_results.csv')\n",
    "cnn_data = pd.read_csv('mini/cnn_training_results.csv')"
   ],
   "metadata": {
    "collapsed": false,
    "ExecuteTime": {
     "end_time": "2024-05-25T09:12:52.629827600Z",
     "start_time": "2024-05-25T09:12:52.247878300Z"
    }
   },
   "id": "3958219056808c5",
   "execution_count": 31
  },
  {
   "cell_type": "code",
   "outputs": [],
   "source": [
    "lstm_data.columns = ['Epoch', 'Train_Loss', 'Test_Loss']\n",
    "cnn_data.columns = ['Epoch', 'Train_Loss', 'Test_Loss']"
   ],
   "metadata": {
    "collapsed": false,
    "ExecuteTime": {
     "start_time": "2024-05-25T09:12:52.630828600Z"
    }
   },
   "id": "a6a92cc4ad77561a",
   "execution_count": null
  },
  {
   "cell_type": "code",
   "outputs": [],
   "source": [
    "plt.figure(figsize=(12, 6))\n",
    "\n",
    "plt.subplot(1, 2, 1)\n",
    "plt.plot(lstm_data['Epoch'], lstm_data['Train_Loss'], label='LSTM Train Loss', marker='o')\n",
    "plt.plot(lstm_data['Epoch'], lstm_data['Test_Loss'], label='LSTM Test Loss', marker='o')\n",
    "plt.xlabel('Epoch')\n",
    "plt.ylabel('Loss')\n",
    "plt.title('LSTM Training and Test Loss over Epochs')\n",
    "plt.legend()\n",
    "plt.grid(True)\n",
    "\n",
    "plt.tight_layout()\n",
    "plt.show()"
   ],
   "metadata": {
    "collapsed": false,
    "ExecuteTime": {
     "end_time": "2024-05-25T09:12:52.633828100Z",
     "start_time": "2024-05-25T09:12:52.631827600Z"
    }
   },
   "id": "9042458dff06e09e",
   "execution_count": null
  },
  {
   "cell_type": "code",
   "outputs": [],
   "source": [
    "plt.figure(figsize=(12, 6))\n",
    "\n",
    "plt.subplot(1, 2, 2)\n",
    "plt.plot(cnn_data['Epoch'], cnn_data['Train_Loss'], label='CNN Train Loss', marker='o')\n",
    "plt.plot(cnn_data['Epoch'], cnn_data['Test_Loss'], label='CNN Test Loss', marker='o')\n",
    "plt.xlabel('Epoch')\n",
    "plt.ylabel('Loss')\n",
    "plt.title('CNN Training and Test Loss over Epochs')\n",
    "plt.legend()\n",
    "plt.grid(True)\n",
    "\n",
    "plt.tight_layout()\n",
    "plt.show()"
   ],
   "metadata": {
    "collapsed": false,
    "ExecuteTime": {
     "start_time": "2024-05-25T09:12:52.633828100Z"
    }
   },
   "id": "6b2efbd604679d7c",
   "execution_count": null
  }
 ],
 "metadata": {
  "kernelspec": {
   "display_name": "Python 3",
   "language": "python",
   "name": "python3"
  },
  "language_info": {
   "codemirror_mode": {
    "name": "ipython",
    "version": 2
   },
   "file_extension": ".py",
   "mimetype": "text/x-python",
   "name": "python",
   "nbconvert_exporter": "python",
   "pygments_lexer": "ipython2",
   "version": "2.7.6"
  }
 },
 "nbformat": 4,
 "nbformat_minor": 5
}
