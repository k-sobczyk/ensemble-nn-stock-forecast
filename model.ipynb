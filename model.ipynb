{
 "cells": [
  {
   "cell_type": "code",
   "execution_count": 22,
   "id": "initial_id",
   "metadata": {
    "collapsed": true,
    "ExecuteTime": {
     "end_time": "2024-05-18T16:58:54.879945300Z",
     "start_time": "2024-05-18T16:58:54.839965600Z"
    }
   },
   "outputs": [],
   "source": [
    "import pandas as pd\n",
    "from sklearn.preprocessing import StandardScaler\n",
    "from sklearn.model_selection import train_test_split\n",
    "import torch\n",
    "import torch.nn as nn\n",
    "import torch.optim as optim\n",
    "from torch.utils.data import DataLoader, TensorDataset\n",
    "from sklearn.metrics import mean_squared_error, mean_absolute_error, r2_score\n",
    "import numpy as np"
   ]
  },
  {
   "cell_type": "code",
   "outputs": [],
   "source": [
    "mini_df = pd.read_csv('data/nn_data/mini_df.csv')\n",
    "mini_df_fill = pd.read_csv('data/nn_data/mini_df_fill.csv')\n",
    "nn_df = pd.read_csv('data/nn_data/nn_df.csv')"
   ],
   "metadata": {
    "collapsed": false,
    "ExecuteTime": {
     "end_time": "2024-05-18T16:58:54.882781Z",
     "start_time": "2024-05-18T16:58:54.860025900Z"
    }
   },
   "id": "36cf67032a86d274",
   "execution_count": 23
  },
  {
   "cell_type": "code",
   "outputs": [],
   "source": [
    "dataframes = [mini_df, nn_df, mini_df_fill]"
   ],
   "metadata": {
    "collapsed": false,
    "ExecuteTime": {
     "end_time": "2024-05-18T16:58:54.898041Z",
     "start_time": "2024-05-18T16:58:54.884918Z"
    }
   },
   "id": "faa63f41a1fa3291",
   "execution_count": 24
  },
  {
   "cell_type": "code",
   "outputs": [],
   "source": [
    "# OneHotEncoding\n",
    "\n",
    "encoded_dataframes = []\n",
    "\n",
    "for df in dataframes:\n",
    "    encoded_df = pd.get_dummies(df)\n",
    "    encoded_dataframes.append(encoded_df)"
   ],
   "metadata": {
    "collapsed": false,
    "ExecuteTime": {
     "end_time": "2024-05-18T16:58:54.912441800Z",
     "start_time": "2024-05-18T16:58:54.888431200Z"
    }
   },
   "id": "c8312f1f99e2f1f8",
   "execution_count": 25
  },
  {
   "cell_type": "code",
   "outputs": [],
   "source": [
    "# Scaling\n",
    "\n",
    "scaler = StandardScaler()\n",
    "\n",
    "scaled_dataframes = []\n",
    "for encoded_df in encoded_dataframes:\n",
    "    scaled_array = scaler.fit_transform(encoded_df)\n",
    "    scaled_df = pd.DataFrame(scaled_array, columns=encoded_df.columns)\n",
    "    scaled_dataframes.append(scaled_df)"
   ],
   "metadata": {
    "collapsed": false,
    "ExecuteTime": {
     "end_time": "2024-05-18T16:58:54.930803800Z",
     "start_time": "2024-05-18T16:58:54.899040700Z"
    }
   },
   "id": "a459af6b9a5563eb",
   "execution_count": 26
  },
  {
   "cell_type": "code",
   "outputs": [],
   "source": [
    "mini_df_scaled_path = \"data/ready_dataframes/mini_df_scaled.csv\"\n",
    "nn_df_scaled_path = \"data/ready_dataframes/nn_df_scaled.csv\"\n",
    "mini_df_fill_scaled_path = \"data/ready_dataframes/mini_df_fill_scaled.csv\"\n",
    "\n",
    "scaled_dataframes[0].to_csv(mini_df_scaled_path, index=False)\n",
    "scaled_dataframes[1].to_csv(nn_df_scaled_path, index=False)\n",
    "scaled_dataframes[2].to_csv(mini_df_fill_scaled_path, index=False)"
   ],
   "metadata": {
    "collapsed": false,
    "ExecuteTime": {
     "end_time": "2024-05-18T16:58:55.321028900Z",
     "start_time": "2024-05-18T16:58:54.922804900Z"
    }
   },
   "id": "6e5e0c69fb11a213",
   "execution_count": 27
  },
  {
   "cell_type": "code",
   "outputs": [],
   "source": [
    "# Model-ready files\n",
    "nn_df = pd.read_csv(nn_df_scaled_path)\n",
    "mini_df = pd.read_csv(mini_df_scaled_path)\n",
    "mini_df_fill = pd.read_csv(mini_df_fill_scaled_path)"
   ],
   "metadata": {
    "collapsed": false,
    "ExecuteTime": {
     "end_time": "2024-05-18T17:01:14.610169600Z",
     "start_time": "2024-05-18T17:01:14.607657100Z"
    }
   },
   "id": "b07d406002a4d4e0",
   "execution_count": 29
  },
  {
   "cell_type": "code",
   "outputs": [],
   "source": [
    "# Data Split\n",
    "\n",
    "# nn_df\n",
    "target_column = 'Market value'\n",
    "X = nn_df.drop(columns=[target_column])\n",
    "y = nn_df[target_column]\n",
    "\n",
    "# mini_df\n",
    "# target_column = 'Market value'\n",
    "# X = mini_df.drop(columns=[target_column])\n",
    "# y = mini_df[target_column]\n",
    "\n",
    "# mini_df_fill\n",
    "# target_column = 'Market value'\n",
    "# X = mini_df_fill.drop(columns=[target_column])\n",
    "# y = mini_df_fill[target_column]\n",
    "\n",
    "X_train, X_test, y_train, y_test = train_test_split(X, y, test_size=0.2, random_state=42)"
   ],
   "metadata": {
    "collapsed": false,
    "ExecuteTime": {
     "end_time": "2024-05-18T16:58:55.327870200Z",
     "start_time": "2024-05-18T16:58:55.323145400Z"
    }
   },
   "id": "2fbb11f20864c198",
   "execution_count": 28
  },
  {
   "cell_type": "code",
   "outputs": [],
   "source": [
    "# data conversion - to tensor\n",
    "X_train = torch.tensor(X_train, dtype=torch.float32).unsqueeze(2)\n",
    "X_test = torch.tensor(X_test, dtype=torch.float32).unsqueeze(2)\n",
    "y_train = torch.tensor(y_train.values, dtype=torch.float32).unsqueeze(1)\n",
    "y_test = torch.tensor(y_test.values, dtype=torch.float32).unsqueeze(1)\n",
    "\n",
    "# dataloader creation\n",
    "train_dataset = TensorDataset(X_train, y_train)\n",
    "test_dataset = TensorDataset(X_test, y_test)\n",
    "train_loader = DataLoader(train_dataset, batch_size=32, shuffle=True)\n",
    "test_loader = DataLoader(test_dataset, batch_size=32, shuffle=False)"
   ],
   "metadata": {
    "collapsed": false
   },
   "id": "323c9f210b5d0ef3"
  },
  {
   "cell_type": "markdown",
   "source": [
    "# LSTM"
   ],
   "metadata": {
    "collapsed": false
   },
   "id": "d65c50fee5c4e2b4"
  },
  {
   "cell_type": "code",
   "outputs": [],
   "source": [
    "class LSTMModel(nn.Module):\n",
    "    def __init__(self, input_size, hidden_size, num_layers):\n",
    "        super(LSTMModel, self).__init__()\n",
    "        self.hidden_size = hidden_size\n",
    "        self.num_layers = num_layers\n",
    "        self.lstm = nn.LSTM(input_size, hidden_size, num_layers, batch_first=True)\n",
    "        self.fc = nn.Linear(hidden_size, 1)\n",
    "    \n",
    "    def forward(self, x):\n",
    "        h0 = torch.zeros(self.num_layers, x.size(0), self.hidden_size).to(x.device)\n",
    "        c0 = torch.zeros(self.num_layers, x.size(0), self.hidden_size).to(x.device)\n",
    "        out, _ = self.lstm(x, (h0, c0))\n",
    "        out = self.fc(out[:, -1, :])\n",
    "        return out\n",
    "\n",
    "input_size = X_train.shape[2]\n",
    "hidden_size = 50\n",
    "num_layers = 2\n",
    "\n",
    "model = LSTMModel(input_size, hidden_size, num_layers)\n",
    "criterion = nn.MSELoss()\n",
    "optimizer = optim.Adam(model.parameters(), lr=0.001)"
   ],
   "metadata": {
    "collapsed": false
   },
   "id": "192ff5e9944c5918"
  },
  {
   "cell_type": "code",
   "outputs": [],
   "source": [
    "# model training\n",
    "def train_model(model, train_loader, criterion, optimizer, epochs=50):\n",
    "    model.train()\n",
    "    for epoch in range(epochs):\n",
    "        running_loss = 0.0\n",
    "        for inputs, targets in train_loader:\n",
    "            optimizer.zero_grad()\n",
    "            outputs = model(inputs)\n",
    "            loss = criterion(outputs, targets)\n",
    "            loss.backward()\n",
    "            optimizer.step()\n",
    "            running_loss += loss.item() * inputs.size(0)\n",
    "        epoch_loss = running_loss / len(train_loader.dataset)\n",
    "        print(f'Epoch {epoch+1}/{epochs}, Loss: {epoch_loss:.4f}')\n",
    "\n",
    "train_model(model, train_loader, criterion, optimizer, epochs=50)"
   ],
   "metadata": {
    "collapsed": false
   },
   "id": "e68c563b33c1314"
  },
  {
   "cell_type": "code",
   "outputs": [],
   "source": [
    "# model evaluation\n",
    "def evaluate_model(model, test_loader):\n",
    "    model.eval()\n",
    "    predictions, actuals = [], []\n",
    "    with torch.no_grad():\n",
    "        for inputs, targets in test_loader:\n",
    "            outputs = model(inputs)\n",
    "            predictions.extend(outputs.numpy())\n",
    "            actuals.extend(targets.numpy())\n",
    "    return np.array(predictions), np.array(actuals)\n",
    "\n",
    "y_pred, y_true = evaluate_model(model, test_loader)\n",
    "\n",
    "rmse = np.sqrt(mean_squared_error(y_true, y_pred))\n",
    "mae = mean_absolute_error(y_true, y_pred)\n",
    "r2 = r2_score(y_true, y_pred)\n",
    "\n",
    "print(f'RMSE: {rmse}')\n",
    "print(f'MAE: {mae}')\n",
    "print(f'R²: {r2}')"
   ],
   "metadata": {
    "collapsed": false
   },
   "id": "3a2e498f284432de"
  },
  {
   "cell_type": "markdown",
   "source": [
    "# CNN"
   ],
   "metadata": {
    "collapsed": false
   },
   "id": "a4cffededfb6550e"
  },
  {
   "cell_type": "code",
   "outputs": [],
   "source": [
    "class CNNModel(nn.Module):\n",
    "    def __init__(self):\n",
    "        super(CNNModel, self).__init__()\n",
    "        self.conv1 = nn.Conv1d(in_channels=1, out_channels=64, kernel_size=2)\n",
    "        self.dropout = nn.Dropout(0.2)\n",
    "        self.flatten = nn.Flatten()\n",
    "        self.fc1 = nn.Linear(64 * (X_train.shape[1] - 1), 50)\n",
    "        self.fc2 = nn.Linear(50, 1)\n",
    "    \n",
    "    def forward(self, x):\n",
    "        x = torch.relu(self.conv1(x))\n",
    "        x = self.dropout(x)\n",
    "        x = self.flatten(x)\n",
    "        x = torch.relu(self.fc1(x))\n",
    "        x = self.fc2(x)\n",
    "        return x\n",
    "\n",
    "model = CNNModel()\n",
    "criterion = nn.MSELoss()\n",
    "optimizer = optim.Adam(model.parameters(), lr=0.001)"
   ],
   "metadata": {
    "collapsed": false,
    "ExecuteTime": {
     "end_time": "2024-05-18T16:58:55.336329500Z",
     "start_time": "2024-05-18T16:58:55.332589800Z"
    }
   },
   "id": "e28f53ce3eda9e05",
   "execution_count": 28
  },
  {
   "cell_type": "code",
   "outputs": [],
   "source": [
    "# model training\n",
    "def train_model(model, train_loader, criterion, optimizer, epochs=50):\n",
    "    model.train()\n",
    "    for epoch in range(epochs):\n",
    "        running_loss = 0.0\n",
    "        for inputs, targets in train_loader:\n",
    "            optimizer.zero_grad()\n",
    "            outputs = model(inputs)\n",
    "            loss = criterion(outputs, targets)\n",
    "            loss.backward()\n",
    "            optimizer.step()\n",
    "            running_loss += loss.item() * inputs.size(0)\n",
    "        epoch_loss = running_loss / len(train_loader.dataset)\n",
    "        print(f'Epoch {epoch+1}/{epochs}, Loss: {epoch_loss:.4f}')\n",
    "\n",
    "train_model(model, train_loader, criterion, optimizer, epochs=50)"
   ],
   "metadata": {
    "collapsed": false,
    "ExecuteTime": {
     "end_time": "2024-05-18T16:58:55.337328900Z",
     "start_time": "2024-05-18T16:58:55.333598600Z"
    }
   },
   "id": "758446236608f6a4",
   "execution_count": 28
  },
  {
   "cell_type": "code",
   "outputs": [],
   "source": [
    "def evaluate_model(model, test_loader):\n",
    "    model.eval()\n",
    "    predictions, actuals = [], []\n",
    "    with torch.no_grad():\n",
    "        for inputs, targets in test_loader:\n",
    "            outputs = model(inputs)\n",
    "            predictions.extend(outputs.numpy())\n",
    "            actuals.extend(targets.numpy())\n",
    "    return np.array(predictions), np.array(actuals)\n",
    "\n",
    "# model evaluation\n",
    "y_pred, y_true = evaluate_model(model, test_loader)\n",
    "\n",
    "rmse = np.sqrt(mean_squared_error(y_true, y_pred))\n",
    "mae = mean_absolute_error(y_true, y_pred)\n",
    "r2 = r2_score(y_true, y_pred)\n",
    "\n",
    "print(f'RMSE: {rmse}')\n",
    "print(f'MAE: {mae}')\n",
    "print(f'R²: {r2}')"
   ],
   "metadata": {
    "collapsed": false
   },
   "id": "7397e5e98b0bd7a7"
  },
  {
   "cell_type": "markdown",
   "source": [
    "# Results Summary and Comparison"
   ],
   "metadata": {
    "collapsed": false
   },
   "id": "cbf688bac6549ae8"
  },
  {
   "cell_type": "code",
   "outputs": [],
   "source": [],
   "metadata": {
    "collapsed": false,
    "ExecuteTime": {
     "end_time": "2024-05-18T16:58:55.344794300Z",
     "start_time": "2024-05-18T16:58:55.337978400Z"
    }
   },
   "id": "37574d793a7d8046",
   "execution_count": 28
  },
  {
   "cell_type": "code",
   "outputs": [],
   "source": [],
   "metadata": {
    "collapsed": false,
    "ExecuteTime": {
     "end_time": "2024-05-18T16:58:55.356989300Z",
     "start_time": "2024-05-18T16:58:55.341787200Z"
    }
   },
   "id": "9e742789e631e898",
   "execution_count": 28
  }
 ],
 "metadata": {
  "kernelspec": {
   "display_name": "Python 3",
   "language": "python",
   "name": "python3"
  },
  "language_info": {
   "codemirror_mode": {
    "name": "ipython",
    "version": 2
   },
   "file_extension": ".py",
   "mimetype": "text/x-python",
   "name": "python",
   "nbconvert_exporter": "python",
   "pygments_lexer": "ipython2",
   "version": "2.7.6"
  }
 },
 "nbformat": 4,
 "nbformat_minor": 5
}
