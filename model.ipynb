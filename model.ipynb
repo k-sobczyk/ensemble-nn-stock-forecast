{
 "cells": [
  {
   "cell_type": "code",
   "execution_count": 64,
   "id": "initial_id",
   "metadata": {
    "collapsed": true,
    "ExecuteTime": {
     "end_time": "2024-05-26T12:50:41.449947700Z",
     "start_time": "2024-05-26T12:50:41.379802200Z"
    }
   },
   "outputs": [],
   "source": [
    "import pandas as pd\n",
    "from sklearn.preprocessing import StandardScaler\n",
    "from sklearn.model_selection import train_test_split\n",
    "import torch\n",
    "import torch.nn as nn\n",
    "import torch.optim as optim\n",
    "from torch.utils.data import DataLoader, TensorDataset, Dataset\n",
    "from sklearn.metrics import mean_squared_error, mean_absolute_error, r2_score\n",
    "import numpy as np"
   ]
  },
  {
   "cell_type": "code",
   "outputs": [],
   "source": [
    "mini_df = pd.read_csv('model_data/mini_df.csv')\n",
    "mini_df_fill = pd.read_csv('model_data/mini_df_fill.csv')\n",
    "nn_df = pd.read_csv('model_data/nn_df.csv')"
   ],
   "metadata": {
    "collapsed": false,
    "ExecuteTime": {
     "end_time": "2024-05-26T12:50:41.584727800Z",
     "start_time": "2024-05-26T12:50:41.452955500Z"
    }
   },
   "id": "36cf67032a86d274",
   "execution_count": 65
  },
  {
   "cell_type": "code",
   "outputs": [
    {
     "data": {
      "text/plain": "      end_of_period  total_assets  noncurrent_assets  current_assets  \\\n0        2011-03-31        1342.0               86.0          1256.0   \n1        2011-03-31        1342.0               86.0          1256.0   \n2        2011-06-30        1659.0              103.0          1556.0   \n3        2011-06-30        1659.0              103.0          1556.0   \n4        2011-09-30        2141.0               85.0          2055.0   \n...             ...           ...                ...             ...   \n16535    2022-03-31     2741947.0          1723917.0       1018030.0   \n16536    2022-06-30     2981239.0          1730362.0       1250877.0   \n16537    2022-06-30     2981239.0          1730362.0       1250877.0   \n16538    2022-09-30     2733389.0          1720912.0       1012477.0   \n16539    2022-09-30     2733389.0          1720912.0       1012477.0   \n\n       equity_shareholders_of_the_parent  noncurrent_liabilities  \\\n0                                 1221.0                     0.0   \n1                                 1221.0                     0.0   \n2                                 1595.0                     0.0   \n3                                 1595.0                     0.0   \n4                                 2060.0                     0.0   \n...                                  ...                     ...   \n16535                           254238.0                620050.0   \n16536                           288397.0               1061326.0   \n16537                           288397.0               1061326.0   \n16538                           304293.0                960672.0   \n16539                           304293.0                960672.0   \n\n       current_liabilities  number_of_shares  sector      target  ...  \\\n0                    110.0           1870.76     gry    41881.66  ...   \n1                    110.0           1870.76     gry    41881.66  ...   \n2                     64.0           1870.76     gry    26705.11  ...   \n3                     64.0           1870.76     gry    26705.11  ...   \n4                     81.0           1870.76     gry    12955.02  ...   \n...                    ...               ...     ...         ...  ...   \n16535            1867659.0          10271.34  napoje  5228110.53  ...   \n16536            1631516.0          10271.34  napoje  5040658.63  ...   \n16537            1631516.0          10271.34  napoje  5040658.63  ...   \n16538            1468424.0          10271.34  napoje  4884020.74  ...   \n16539            1468424.0          10271.34  napoje  4884020.74  ...   \n\n       noncurrent_assets_change_1y  noncurrent_assets_change_2y  \\\n0                            30.13                        30.13   \n1                             0.00                        30.13   \n2                            17.00                        17.00   \n3                             0.00                        17.00   \n4                           -18.00                       -18.00   \n...                            ...                          ...   \n16535                         0.00                    -72866.00   \n16536                      6445.00                      6445.00   \n16537                         0.00                      6445.00   \n16538                     -9450.00                     -9450.00   \n16539                         0.00                     -9450.00   \n\n       current_assets_change_1y  current_assets_change_2y  \\\n0                        -40.49                    -40.49   \n1                          0.00                    -40.49   \n2                        300.00                    300.00   \n3                          0.00                    300.00   \n4                        499.00                    499.00   \n...                         ...                       ...   \n16535                      0.00                 165509.00   \n16536                 232847.00                 232847.00   \n16537                      0.00                 232847.00   \n16538                -238400.00                -238400.00   \n16539                      0.00                -238400.00   \n\n       total_liabilities_change_1y  total_liabilities_change_2y  \\\n0                            25.85                        25.85   \n1                             0.00                        25.85   \n2                           -46.00                       -46.00   \n3                             0.00                       -46.00   \n4                            17.00                        17.00   \n...                            ...                          ...   \n16535                         0.00                    233855.00   \n16536                    205133.00                    205133.00   \n16537                         0.00                    205133.00   \n16538                   -263746.00                   -263746.00   \n16539                         0.00                   -263746.00   \n\n       current_liabilities_change_1y  current_liabilities_change_2y  \\\n0                              25.85                          25.85   \n1                               0.00                          25.85   \n2                             -46.00                         -46.00   \n3                               0.00                         -46.00   \n4                              17.00                          17.00   \n...                              ...                            ...   \n16535                           0.00                     -321630.00   \n16536                     -236143.00                     -236143.00   \n16537                           0.00                     -236143.00   \n16538                     -163092.00                     -163092.00   \n16539                           0.00                     -163092.00   \n\n       noncurrent_liabilities_change_1y  noncurrent_liabilities_change_2y  \n0                                   0.0                               0.0  \n1                                   0.0                               0.0  \n2                                   0.0                               0.0  \n3                                   0.0                               0.0  \n4                                   0.0                               0.0  \n...                                 ...                               ...  \n16535                               0.0                          555485.0  \n16536                          441276.0                          441276.0  \n16537                               0.0                          441276.0  \n16538                         -100654.0                         -100654.0  \n16539                               0.0                         -100654.0  \n\n[16540 rows x 23 columns]",
      "text/html": "<div>\n<style scoped>\n    .dataframe tbody tr th:only-of-type {\n        vertical-align: middle;\n    }\n\n    .dataframe tbody tr th {\n        vertical-align: top;\n    }\n\n    .dataframe thead th {\n        text-align: right;\n    }\n</style>\n<table border=\"1\" class=\"dataframe\">\n  <thead>\n    <tr style=\"text-align: right;\">\n      <th></th>\n      <th>end_of_period</th>\n      <th>total_assets</th>\n      <th>noncurrent_assets</th>\n      <th>current_assets</th>\n      <th>equity_shareholders_of_the_parent</th>\n      <th>noncurrent_liabilities</th>\n      <th>current_liabilities</th>\n      <th>number_of_shares</th>\n      <th>sector</th>\n      <th>target</th>\n      <th>...</th>\n      <th>noncurrent_assets_change_1y</th>\n      <th>noncurrent_assets_change_2y</th>\n      <th>current_assets_change_1y</th>\n      <th>current_assets_change_2y</th>\n      <th>total_liabilities_change_1y</th>\n      <th>total_liabilities_change_2y</th>\n      <th>current_liabilities_change_1y</th>\n      <th>current_liabilities_change_2y</th>\n      <th>noncurrent_liabilities_change_1y</th>\n      <th>noncurrent_liabilities_change_2y</th>\n    </tr>\n  </thead>\n  <tbody>\n    <tr>\n      <th>0</th>\n      <td>2011-03-31</td>\n      <td>1342.0</td>\n      <td>86.0</td>\n      <td>1256.0</td>\n      <td>1221.0</td>\n      <td>0.0</td>\n      <td>110.0</td>\n      <td>1870.76</td>\n      <td>gry</td>\n      <td>41881.66</td>\n      <td>...</td>\n      <td>30.13</td>\n      <td>30.13</td>\n      <td>-40.49</td>\n      <td>-40.49</td>\n      <td>25.85</td>\n      <td>25.85</td>\n      <td>25.85</td>\n      <td>25.85</td>\n      <td>0.0</td>\n      <td>0.0</td>\n    </tr>\n    <tr>\n      <th>1</th>\n      <td>2011-03-31</td>\n      <td>1342.0</td>\n      <td>86.0</td>\n      <td>1256.0</td>\n      <td>1221.0</td>\n      <td>0.0</td>\n      <td>110.0</td>\n      <td>1870.76</td>\n      <td>gry</td>\n      <td>41881.66</td>\n      <td>...</td>\n      <td>0.00</td>\n      <td>30.13</td>\n      <td>0.00</td>\n      <td>-40.49</td>\n      <td>0.00</td>\n      <td>25.85</td>\n      <td>0.00</td>\n      <td>25.85</td>\n      <td>0.0</td>\n      <td>0.0</td>\n    </tr>\n    <tr>\n      <th>2</th>\n      <td>2011-06-30</td>\n      <td>1659.0</td>\n      <td>103.0</td>\n      <td>1556.0</td>\n      <td>1595.0</td>\n      <td>0.0</td>\n      <td>64.0</td>\n      <td>1870.76</td>\n      <td>gry</td>\n      <td>26705.11</td>\n      <td>...</td>\n      <td>17.00</td>\n      <td>17.00</td>\n      <td>300.00</td>\n      <td>300.00</td>\n      <td>-46.00</td>\n      <td>-46.00</td>\n      <td>-46.00</td>\n      <td>-46.00</td>\n      <td>0.0</td>\n      <td>0.0</td>\n    </tr>\n    <tr>\n      <th>3</th>\n      <td>2011-06-30</td>\n      <td>1659.0</td>\n      <td>103.0</td>\n      <td>1556.0</td>\n      <td>1595.0</td>\n      <td>0.0</td>\n      <td>64.0</td>\n      <td>1870.76</td>\n      <td>gry</td>\n      <td>26705.11</td>\n      <td>...</td>\n      <td>0.00</td>\n      <td>17.00</td>\n      <td>0.00</td>\n      <td>300.00</td>\n      <td>0.00</td>\n      <td>-46.00</td>\n      <td>0.00</td>\n      <td>-46.00</td>\n      <td>0.0</td>\n      <td>0.0</td>\n    </tr>\n    <tr>\n      <th>4</th>\n      <td>2011-09-30</td>\n      <td>2141.0</td>\n      <td>85.0</td>\n      <td>2055.0</td>\n      <td>2060.0</td>\n      <td>0.0</td>\n      <td>81.0</td>\n      <td>1870.76</td>\n      <td>gry</td>\n      <td>12955.02</td>\n      <td>...</td>\n      <td>-18.00</td>\n      <td>-18.00</td>\n      <td>499.00</td>\n      <td>499.00</td>\n      <td>17.00</td>\n      <td>17.00</td>\n      <td>17.00</td>\n      <td>17.00</td>\n      <td>0.0</td>\n      <td>0.0</td>\n    </tr>\n    <tr>\n      <th>...</th>\n      <td>...</td>\n      <td>...</td>\n      <td>...</td>\n      <td>...</td>\n      <td>...</td>\n      <td>...</td>\n      <td>...</td>\n      <td>...</td>\n      <td>...</td>\n      <td>...</td>\n      <td>...</td>\n      <td>...</td>\n      <td>...</td>\n      <td>...</td>\n      <td>...</td>\n      <td>...</td>\n      <td>...</td>\n      <td>...</td>\n      <td>...</td>\n      <td>...</td>\n      <td>...</td>\n    </tr>\n    <tr>\n      <th>16535</th>\n      <td>2022-03-31</td>\n      <td>2741947.0</td>\n      <td>1723917.0</td>\n      <td>1018030.0</td>\n      <td>254238.0</td>\n      <td>620050.0</td>\n      <td>1867659.0</td>\n      <td>10271.34</td>\n      <td>napoje</td>\n      <td>5228110.53</td>\n      <td>...</td>\n      <td>0.00</td>\n      <td>-72866.00</td>\n      <td>0.00</td>\n      <td>165509.00</td>\n      <td>0.00</td>\n      <td>233855.00</td>\n      <td>0.00</td>\n      <td>-321630.00</td>\n      <td>0.0</td>\n      <td>555485.0</td>\n    </tr>\n    <tr>\n      <th>16536</th>\n      <td>2022-06-30</td>\n      <td>2981239.0</td>\n      <td>1730362.0</td>\n      <td>1250877.0</td>\n      <td>288397.0</td>\n      <td>1061326.0</td>\n      <td>1631516.0</td>\n      <td>10271.34</td>\n      <td>napoje</td>\n      <td>5040658.63</td>\n      <td>...</td>\n      <td>6445.00</td>\n      <td>6445.00</td>\n      <td>232847.00</td>\n      <td>232847.00</td>\n      <td>205133.00</td>\n      <td>205133.00</td>\n      <td>-236143.00</td>\n      <td>-236143.00</td>\n      <td>441276.0</td>\n      <td>441276.0</td>\n    </tr>\n    <tr>\n      <th>16537</th>\n      <td>2022-06-30</td>\n      <td>2981239.0</td>\n      <td>1730362.0</td>\n      <td>1250877.0</td>\n      <td>288397.0</td>\n      <td>1061326.0</td>\n      <td>1631516.0</td>\n      <td>10271.34</td>\n      <td>napoje</td>\n      <td>5040658.63</td>\n      <td>...</td>\n      <td>0.00</td>\n      <td>6445.00</td>\n      <td>0.00</td>\n      <td>232847.00</td>\n      <td>0.00</td>\n      <td>205133.00</td>\n      <td>0.00</td>\n      <td>-236143.00</td>\n      <td>0.0</td>\n      <td>441276.0</td>\n    </tr>\n    <tr>\n      <th>16538</th>\n      <td>2022-09-30</td>\n      <td>2733389.0</td>\n      <td>1720912.0</td>\n      <td>1012477.0</td>\n      <td>304293.0</td>\n      <td>960672.0</td>\n      <td>1468424.0</td>\n      <td>10271.34</td>\n      <td>napoje</td>\n      <td>4884020.74</td>\n      <td>...</td>\n      <td>-9450.00</td>\n      <td>-9450.00</td>\n      <td>-238400.00</td>\n      <td>-238400.00</td>\n      <td>-263746.00</td>\n      <td>-263746.00</td>\n      <td>-163092.00</td>\n      <td>-163092.00</td>\n      <td>-100654.0</td>\n      <td>-100654.0</td>\n    </tr>\n    <tr>\n      <th>16539</th>\n      <td>2022-09-30</td>\n      <td>2733389.0</td>\n      <td>1720912.0</td>\n      <td>1012477.0</td>\n      <td>304293.0</td>\n      <td>960672.0</td>\n      <td>1468424.0</td>\n      <td>10271.34</td>\n      <td>napoje</td>\n      <td>4884020.74</td>\n      <td>...</td>\n      <td>0.00</td>\n      <td>-9450.00</td>\n      <td>0.00</td>\n      <td>-238400.00</td>\n      <td>0.00</td>\n      <td>-263746.00</td>\n      <td>0.00</td>\n      <td>-163092.00</td>\n      <td>0.0</td>\n      <td>-100654.0</td>\n    </tr>\n  </tbody>\n</table>\n<p>16540 rows × 23 columns</p>\n</div>"
     },
     "execution_count": 66,
     "metadata": {},
     "output_type": "execute_result"
    }
   ],
   "source": [
    "mini_df"
   ],
   "metadata": {
    "collapsed": false,
    "ExecuteTime": {
     "end_time": "2024-05-26T12:50:41.611428800Z",
     "start_time": "2024-05-26T12:50:41.586730200Z"
    }
   },
   "id": "104ea090b25af067",
   "execution_count": 66
  },
  {
   "cell_type": "code",
   "outputs": [
    {
     "data": {
      "text/plain": "      end_of_period  total_assets  noncurrent_assets  current_assets  \\\n0        2010-12-31       1352.36              55.87         1296.49   \n1        2010-12-31       1352.36              55.87         1296.49   \n2        2011-03-31       1342.00              86.00         1256.00   \n3        2011-03-31       1342.00              86.00         1256.00   \n4        2011-06-30       1659.00             103.00         1556.00   \n...             ...           ...                ...             ...   \n17123    2022-03-31    2741947.00         1723917.00      1018030.00   \n17124    2022-06-30    2981239.00         1730362.00      1250877.00   \n17125    2022-06-30    2981239.00         1730362.00      1250877.00   \n17126    2022-09-30    2733389.00         1720912.00      1012477.00   \n17127    2022-09-30    2733389.00         1720912.00      1012477.00   \n\n       equity_shareholders_of_the_parent  noncurrent_liabilities  \\\n0                                 1268.2                     0.0   \n1                                 1268.2                     0.0   \n2                                 1221.0                     0.0   \n3                                 1221.0                     0.0   \n4                                 1595.0                     0.0   \n...                                  ...                     ...   \n17123                           254238.0                620050.0   \n17124                           288397.0               1061326.0   \n17125                           288397.0               1061326.0   \n17126                           304293.0                960672.0   \n17127                           304293.0                960672.0   \n\n       current_liabilities  number_of_shares  sector      target  ...  \\\n0                    84.15           1870.76     gry    14208.43  ...   \n1                    84.15           1870.76     gry    14208.43  ...   \n2                   110.00           1870.76     gry    41881.66  ...   \n3                   110.00           1870.76     gry    41881.66  ...   \n4                    64.00           1870.76     gry    26705.11  ...   \n...                    ...               ...     ...         ...  ...   \n17123           1867659.00          10271.34  napoje  5228110.53  ...   \n17124           1631516.00          10271.34  napoje  5040658.63  ...   \n17125           1631516.00          10271.34  napoje  5040658.63  ...   \n17126           1468424.00          10271.34  napoje  4884020.74  ...   \n17127           1468424.00          10271.34  napoje  4884020.74  ...   \n\n       noncurrent_assets_change_1y  noncurrent_assets_change_2y  \\\n0                             0.00                        30.13   \n1                             0.00                        30.13   \n2                            30.13                        30.13   \n3                             0.00                        30.13   \n4                            17.00                        17.00   \n...                            ...                          ...   \n17123                         0.00                    -72866.00   \n17124                      6445.00                      6445.00   \n17125                         0.00                      6445.00   \n17126                     -9450.00                     -9450.00   \n17127                         0.00                     -9450.00   \n\n       current_assets_change_1y  current_assets_change_2y  \\\n0                          0.00                    -40.49   \n1                          0.00                    -40.49   \n2                        -40.49                    -40.49   \n3                          0.00                    -40.49   \n4                        300.00                    300.00   \n...                         ...                       ...   \n17123                      0.00                 165509.00   \n17124                 232847.00                 232847.00   \n17125                      0.00                 232847.00   \n17126                -238400.00                -238400.00   \n17127                      0.00                -238400.00   \n\n       total_liabilities_change_1y  total_liabilities_change_2y  \\\n0                             0.00                        25.85   \n1                             0.00                        25.85   \n2                            25.85                        25.85   \n3                             0.00                        25.85   \n4                           -46.00                       -46.00   \n...                            ...                          ...   \n17123                         0.00                    233855.00   \n17124                    205133.00                    205133.00   \n17125                         0.00                    205133.00   \n17126                   -263746.00                   -263746.00   \n17127                         0.00                   -263746.00   \n\n       current_liabilities_change_1y  current_liabilities_change_2y  \\\n0                               0.00                          25.85   \n1                               0.00                          25.85   \n2                              25.85                          25.85   \n3                               0.00                          25.85   \n4                             -46.00                         -46.00   \n...                              ...                            ...   \n17123                           0.00                     -321630.00   \n17124                     -236143.00                     -236143.00   \n17125                           0.00                     -236143.00   \n17126                     -163092.00                     -163092.00   \n17127                           0.00                     -163092.00   \n\n       noncurrent_liabilities_change_1y  noncurrent_liabilities_change_2y  \n0                                   0.0                               0.0  \n1                                   0.0                               0.0  \n2                                   0.0                               0.0  \n3                                   0.0                               0.0  \n4                                   0.0                               0.0  \n...                                 ...                               ...  \n17123                               0.0                          555485.0  \n17124                          441276.0                          441276.0  \n17125                               0.0                          441276.0  \n17126                         -100654.0                         -100654.0  \n17127                               0.0                         -100654.0  \n\n[17128 rows x 23 columns]",
      "text/html": "<div>\n<style scoped>\n    .dataframe tbody tr th:only-of-type {\n        vertical-align: middle;\n    }\n\n    .dataframe tbody tr th {\n        vertical-align: top;\n    }\n\n    .dataframe thead th {\n        text-align: right;\n    }\n</style>\n<table border=\"1\" class=\"dataframe\">\n  <thead>\n    <tr style=\"text-align: right;\">\n      <th></th>\n      <th>end_of_period</th>\n      <th>total_assets</th>\n      <th>noncurrent_assets</th>\n      <th>current_assets</th>\n      <th>equity_shareholders_of_the_parent</th>\n      <th>noncurrent_liabilities</th>\n      <th>current_liabilities</th>\n      <th>number_of_shares</th>\n      <th>sector</th>\n      <th>target</th>\n      <th>...</th>\n      <th>noncurrent_assets_change_1y</th>\n      <th>noncurrent_assets_change_2y</th>\n      <th>current_assets_change_1y</th>\n      <th>current_assets_change_2y</th>\n      <th>total_liabilities_change_1y</th>\n      <th>total_liabilities_change_2y</th>\n      <th>current_liabilities_change_1y</th>\n      <th>current_liabilities_change_2y</th>\n      <th>noncurrent_liabilities_change_1y</th>\n      <th>noncurrent_liabilities_change_2y</th>\n    </tr>\n  </thead>\n  <tbody>\n    <tr>\n      <th>0</th>\n      <td>2010-12-31</td>\n      <td>1352.36</td>\n      <td>55.87</td>\n      <td>1296.49</td>\n      <td>1268.2</td>\n      <td>0.0</td>\n      <td>84.15</td>\n      <td>1870.76</td>\n      <td>gry</td>\n      <td>14208.43</td>\n      <td>...</td>\n      <td>0.00</td>\n      <td>30.13</td>\n      <td>0.00</td>\n      <td>-40.49</td>\n      <td>0.00</td>\n      <td>25.85</td>\n      <td>0.00</td>\n      <td>25.85</td>\n      <td>0.0</td>\n      <td>0.0</td>\n    </tr>\n    <tr>\n      <th>1</th>\n      <td>2010-12-31</td>\n      <td>1352.36</td>\n      <td>55.87</td>\n      <td>1296.49</td>\n      <td>1268.2</td>\n      <td>0.0</td>\n      <td>84.15</td>\n      <td>1870.76</td>\n      <td>gry</td>\n      <td>14208.43</td>\n      <td>...</td>\n      <td>0.00</td>\n      <td>30.13</td>\n      <td>0.00</td>\n      <td>-40.49</td>\n      <td>0.00</td>\n      <td>25.85</td>\n      <td>0.00</td>\n      <td>25.85</td>\n      <td>0.0</td>\n      <td>0.0</td>\n    </tr>\n    <tr>\n      <th>2</th>\n      <td>2011-03-31</td>\n      <td>1342.00</td>\n      <td>86.00</td>\n      <td>1256.00</td>\n      <td>1221.0</td>\n      <td>0.0</td>\n      <td>110.00</td>\n      <td>1870.76</td>\n      <td>gry</td>\n      <td>41881.66</td>\n      <td>...</td>\n      <td>30.13</td>\n      <td>30.13</td>\n      <td>-40.49</td>\n      <td>-40.49</td>\n      <td>25.85</td>\n      <td>25.85</td>\n      <td>25.85</td>\n      <td>25.85</td>\n      <td>0.0</td>\n      <td>0.0</td>\n    </tr>\n    <tr>\n      <th>3</th>\n      <td>2011-03-31</td>\n      <td>1342.00</td>\n      <td>86.00</td>\n      <td>1256.00</td>\n      <td>1221.0</td>\n      <td>0.0</td>\n      <td>110.00</td>\n      <td>1870.76</td>\n      <td>gry</td>\n      <td>41881.66</td>\n      <td>...</td>\n      <td>0.00</td>\n      <td>30.13</td>\n      <td>0.00</td>\n      <td>-40.49</td>\n      <td>0.00</td>\n      <td>25.85</td>\n      <td>0.00</td>\n      <td>25.85</td>\n      <td>0.0</td>\n      <td>0.0</td>\n    </tr>\n    <tr>\n      <th>4</th>\n      <td>2011-06-30</td>\n      <td>1659.00</td>\n      <td>103.00</td>\n      <td>1556.00</td>\n      <td>1595.0</td>\n      <td>0.0</td>\n      <td>64.00</td>\n      <td>1870.76</td>\n      <td>gry</td>\n      <td>26705.11</td>\n      <td>...</td>\n      <td>17.00</td>\n      <td>17.00</td>\n      <td>300.00</td>\n      <td>300.00</td>\n      <td>-46.00</td>\n      <td>-46.00</td>\n      <td>-46.00</td>\n      <td>-46.00</td>\n      <td>0.0</td>\n      <td>0.0</td>\n    </tr>\n    <tr>\n      <th>...</th>\n      <td>...</td>\n      <td>...</td>\n      <td>...</td>\n      <td>...</td>\n      <td>...</td>\n      <td>...</td>\n      <td>...</td>\n      <td>...</td>\n      <td>...</td>\n      <td>...</td>\n      <td>...</td>\n      <td>...</td>\n      <td>...</td>\n      <td>...</td>\n      <td>...</td>\n      <td>...</td>\n      <td>...</td>\n      <td>...</td>\n      <td>...</td>\n      <td>...</td>\n      <td>...</td>\n    </tr>\n    <tr>\n      <th>17123</th>\n      <td>2022-03-31</td>\n      <td>2741947.00</td>\n      <td>1723917.00</td>\n      <td>1018030.00</td>\n      <td>254238.0</td>\n      <td>620050.0</td>\n      <td>1867659.00</td>\n      <td>10271.34</td>\n      <td>napoje</td>\n      <td>5228110.53</td>\n      <td>...</td>\n      <td>0.00</td>\n      <td>-72866.00</td>\n      <td>0.00</td>\n      <td>165509.00</td>\n      <td>0.00</td>\n      <td>233855.00</td>\n      <td>0.00</td>\n      <td>-321630.00</td>\n      <td>0.0</td>\n      <td>555485.0</td>\n    </tr>\n    <tr>\n      <th>17124</th>\n      <td>2022-06-30</td>\n      <td>2981239.00</td>\n      <td>1730362.00</td>\n      <td>1250877.00</td>\n      <td>288397.0</td>\n      <td>1061326.0</td>\n      <td>1631516.00</td>\n      <td>10271.34</td>\n      <td>napoje</td>\n      <td>5040658.63</td>\n      <td>...</td>\n      <td>6445.00</td>\n      <td>6445.00</td>\n      <td>232847.00</td>\n      <td>232847.00</td>\n      <td>205133.00</td>\n      <td>205133.00</td>\n      <td>-236143.00</td>\n      <td>-236143.00</td>\n      <td>441276.0</td>\n      <td>441276.0</td>\n    </tr>\n    <tr>\n      <th>17125</th>\n      <td>2022-06-30</td>\n      <td>2981239.00</td>\n      <td>1730362.00</td>\n      <td>1250877.00</td>\n      <td>288397.0</td>\n      <td>1061326.0</td>\n      <td>1631516.00</td>\n      <td>10271.34</td>\n      <td>napoje</td>\n      <td>5040658.63</td>\n      <td>...</td>\n      <td>0.00</td>\n      <td>6445.00</td>\n      <td>0.00</td>\n      <td>232847.00</td>\n      <td>0.00</td>\n      <td>205133.00</td>\n      <td>0.00</td>\n      <td>-236143.00</td>\n      <td>0.0</td>\n      <td>441276.0</td>\n    </tr>\n    <tr>\n      <th>17126</th>\n      <td>2022-09-30</td>\n      <td>2733389.00</td>\n      <td>1720912.00</td>\n      <td>1012477.00</td>\n      <td>304293.0</td>\n      <td>960672.0</td>\n      <td>1468424.00</td>\n      <td>10271.34</td>\n      <td>napoje</td>\n      <td>4884020.74</td>\n      <td>...</td>\n      <td>-9450.00</td>\n      <td>-9450.00</td>\n      <td>-238400.00</td>\n      <td>-238400.00</td>\n      <td>-263746.00</td>\n      <td>-263746.00</td>\n      <td>-163092.00</td>\n      <td>-163092.00</td>\n      <td>-100654.0</td>\n      <td>-100654.0</td>\n    </tr>\n    <tr>\n      <th>17127</th>\n      <td>2022-09-30</td>\n      <td>2733389.00</td>\n      <td>1720912.00</td>\n      <td>1012477.00</td>\n      <td>304293.0</td>\n      <td>960672.0</td>\n      <td>1468424.00</td>\n      <td>10271.34</td>\n      <td>napoje</td>\n      <td>4884020.74</td>\n      <td>...</td>\n      <td>0.00</td>\n      <td>-9450.00</td>\n      <td>0.00</td>\n      <td>-238400.00</td>\n      <td>0.00</td>\n      <td>-263746.00</td>\n      <td>0.00</td>\n      <td>-163092.00</td>\n      <td>0.0</td>\n      <td>-100654.0</td>\n    </tr>\n  </tbody>\n</table>\n<p>17128 rows × 23 columns</p>\n</div>"
     },
     "execution_count": 67,
     "metadata": {},
     "output_type": "execute_result"
    }
   ],
   "source": [
    "mini_df_fill"
   ],
   "metadata": {
    "collapsed": false,
    "ExecuteTime": {
     "end_time": "2024-05-26T12:50:41.659089700Z",
     "start_time": "2024-05-26T12:50:41.611428800Z"
    }
   },
   "id": "12090cd413284590",
   "execution_count": 67
  },
  {
   "cell_type": "code",
   "outputs": [
    {
     "data": {
      "text/plain": "      end_of_period  revenues_from_sales  operating_profitloss  \\\n0        2010-12-31                228.0                   0.0   \n1        2010-12-31                228.0                   0.0   \n2        2011-03-31                144.0                   0.0   \n3        2011-03-31                144.0                   0.0   \n4        2011-06-30                959.0                   0.0   \n...             ...                  ...                   ...   \n17123    2022-03-31             696778.0                6649.0   \n17124    2022-06-30            1209418.0              101579.0   \n17125    2022-06-30            1209418.0              101579.0   \n17126    2022-09-30            1106635.0               61538.0   \n17127    2022-09-30            1106635.0               61538.0   \n\n       net_profitloss_attributable_to_equity_holders_of_the_parent  \\\n0                                                 -198.0             \n1                                                 -198.0             \n2                                                  -50.0             \n3                                                  -50.0             \n4                                                  377.0             \n...                                                  ...             \n17123                                            -1246.0             \n17124                                            92625.0             \n17125                                            92625.0             \n17126                                            23844.0             \n17127                                            23844.0             \n\n       depreciation  cash_flow_from_operating_activities  \\\n0               0.0                                  0.0   \n1               0.0                                  0.0   \n2               0.0                                  0.0   \n3               0.0                                  0.0   \n4               7.0                                  0.0   \n...             ...                                  ...   \n17123       38391.0                              13967.0   \n17124       39932.0                             101877.0   \n17125       39932.0                             101877.0   \n17126       40212.0                             156461.0   \n17127       40212.0                             156461.0   \n\n       cash_flow_from_investing_activities  \\\n0                                      0.0   \n1                                      0.0   \n2                                      0.0   \n3                                      0.0   \n4                                      0.0   \n...                                    ...   \n17123                             -33280.0   \n17124                             -21179.0   \n17125                             -21179.0   \n17126                             -24386.0   \n17127                             -24386.0   \n\n       cash_flow_from_financing_activities  total_assets  noncurrent_assets  \\\n0                                      0.0       1352.36              55.87   \n1                                      0.0       1352.36              55.87   \n2                                      0.0       1342.00              86.00   \n3                                      0.0       1342.00              86.00   \n4                                      0.0       1659.00             103.00   \n...                                    ...           ...                ...   \n17123                              57099.0    2741947.00         1723917.00   \n17124                             -81990.0    2981239.00         1730362.00   \n17125                             -81990.0    2981239.00         1730362.00   \n17126                            -117588.0    2733389.00         1720912.00   \n17127                            -117588.0    2733389.00         1720912.00   \n\n       ...  noncurrent_assets_change_1y  noncurrent_assets_change_2y  \\\n0      ...                         0.00                        30.13   \n1      ...                         0.00                        30.13   \n2      ...                        30.13                        30.13   \n3      ...                         0.00                        30.13   \n4      ...                        17.00                        17.00   \n...    ...                          ...                          ...   \n17123  ...                         0.00                    -72866.00   \n17124  ...                      6445.00                      6445.00   \n17125  ...                         0.00                      6445.00   \n17126  ...                     -9450.00                     -9450.00   \n17127  ...                         0.00                     -9450.00   \n\n       current_assets_change_1y  current_assets_change_2y  \\\n0                          0.00                    -40.49   \n1                          0.00                    -40.49   \n2                        -40.49                    -40.49   \n3                          0.00                    -40.49   \n4                        300.00                    300.00   \n...                         ...                       ...   \n17123                      0.00                 165509.00   \n17124                 232847.00                 232847.00   \n17125                      0.00                 232847.00   \n17126                -238400.00                -238400.00   \n17127                      0.00                -238400.00   \n\n       total_liabilities_change_1y  total_liabilities_change_2y  \\\n0                             0.00                        25.85   \n1                             0.00                        25.85   \n2                            25.85                        25.85   \n3                             0.00                        25.85   \n4                           -46.00                       -46.00   \n...                            ...                          ...   \n17123                         0.00                    233855.00   \n17124                    205133.00                    205133.00   \n17125                         0.00                    205133.00   \n17126                   -263746.00                   -263746.00   \n17127                         0.00                   -263746.00   \n\n      current_liabilities_change_1y  current_liabilities_change_2y  \\\n0                              0.00                          25.85   \n1                              0.00                          25.85   \n2                             25.85                          25.85   \n3                              0.00                          25.85   \n4                            -46.00                         -46.00   \n...                             ...                            ...   \n17123                          0.00                     -321630.00   \n17124                    -236143.00                     -236143.00   \n17125                          0.00                     -236143.00   \n17126                    -163092.00                     -163092.00   \n17127                          0.00                     -163092.00   \n\n       noncurrent_liabilities_change_1y  noncurrent_liabilities_change_2y  \n0                                   0.0                               0.0  \n1                                   0.0                               0.0  \n2                                   0.0                               0.0  \n3                                   0.0                               0.0  \n4                                   0.0                               0.0  \n...                                 ...                               ...  \n17123                               0.0                          555485.0  \n17124                          441276.0                          441276.0  \n17125                               0.0                          441276.0  \n17126                         -100654.0                         -100654.0  \n17127                               0.0                         -100654.0  \n\n[17128 rows x 31 columns]",
      "text/html": "<div>\n<style scoped>\n    .dataframe tbody tr th:only-of-type {\n        vertical-align: middle;\n    }\n\n    .dataframe tbody tr th {\n        vertical-align: top;\n    }\n\n    .dataframe thead th {\n        text-align: right;\n    }\n</style>\n<table border=\"1\" class=\"dataframe\">\n  <thead>\n    <tr style=\"text-align: right;\">\n      <th></th>\n      <th>end_of_period</th>\n      <th>revenues_from_sales</th>\n      <th>operating_profitloss</th>\n      <th>net_profitloss_attributable_to_equity_holders_of_the_parent</th>\n      <th>depreciation</th>\n      <th>cash_flow_from_operating_activities</th>\n      <th>cash_flow_from_investing_activities</th>\n      <th>cash_flow_from_financing_activities</th>\n      <th>total_assets</th>\n      <th>noncurrent_assets</th>\n      <th>...</th>\n      <th>noncurrent_assets_change_1y</th>\n      <th>noncurrent_assets_change_2y</th>\n      <th>current_assets_change_1y</th>\n      <th>current_assets_change_2y</th>\n      <th>total_liabilities_change_1y</th>\n      <th>total_liabilities_change_2y</th>\n      <th>current_liabilities_change_1y</th>\n      <th>current_liabilities_change_2y</th>\n      <th>noncurrent_liabilities_change_1y</th>\n      <th>noncurrent_liabilities_change_2y</th>\n    </tr>\n  </thead>\n  <tbody>\n    <tr>\n      <th>0</th>\n      <td>2010-12-31</td>\n      <td>228.0</td>\n      <td>0.0</td>\n      <td>-198.0</td>\n      <td>0.0</td>\n      <td>0.0</td>\n      <td>0.0</td>\n      <td>0.0</td>\n      <td>1352.36</td>\n      <td>55.87</td>\n      <td>...</td>\n      <td>0.00</td>\n      <td>30.13</td>\n      <td>0.00</td>\n      <td>-40.49</td>\n      <td>0.00</td>\n      <td>25.85</td>\n      <td>0.00</td>\n      <td>25.85</td>\n      <td>0.0</td>\n      <td>0.0</td>\n    </tr>\n    <tr>\n      <th>1</th>\n      <td>2010-12-31</td>\n      <td>228.0</td>\n      <td>0.0</td>\n      <td>-198.0</td>\n      <td>0.0</td>\n      <td>0.0</td>\n      <td>0.0</td>\n      <td>0.0</td>\n      <td>1352.36</td>\n      <td>55.87</td>\n      <td>...</td>\n      <td>0.00</td>\n      <td>30.13</td>\n      <td>0.00</td>\n      <td>-40.49</td>\n      <td>0.00</td>\n      <td>25.85</td>\n      <td>0.00</td>\n      <td>25.85</td>\n      <td>0.0</td>\n      <td>0.0</td>\n    </tr>\n    <tr>\n      <th>2</th>\n      <td>2011-03-31</td>\n      <td>144.0</td>\n      <td>0.0</td>\n      <td>-50.0</td>\n      <td>0.0</td>\n      <td>0.0</td>\n      <td>0.0</td>\n      <td>0.0</td>\n      <td>1342.00</td>\n      <td>86.00</td>\n      <td>...</td>\n      <td>30.13</td>\n      <td>30.13</td>\n      <td>-40.49</td>\n      <td>-40.49</td>\n      <td>25.85</td>\n      <td>25.85</td>\n      <td>25.85</td>\n      <td>25.85</td>\n      <td>0.0</td>\n      <td>0.0</td>\n    </tr>\n    <tr>\n      <th>3</th>\n      <td>2011-03-31</td>\n      <td>144.0</td>\n      <td>0.0</td>\n      <td>-50.0</td>\n      <td>0.0</td>\n      <td>0.0</td>\n      <td>0.0</td>\n      <td>0.0</td>\n      <td>1342.00</td>\n      <td>86.00</td>\n      <td>...</td>\n      <td>0.00</td>\n      <td>30.13</td>\n      <td>0.00</td>\n      <td>-40.49</td>\n      <td>0.00</td>\n      <td>25.85</td>\n      <td>0.00</td>\n      <td>25.85</td>\n      <td>0.0</td>\n      <td>0.0</td>\n    </tr>\n    <tr>\n      <th>4</th>\n      <td>2011-06-30</td>\n      <td>959.0</td>\n      <td>0.0</td>\n      <td>377.0</td>\n      <td>7.0</td>\n      <td>0.0</td>\n      <td>0.0</td>\n      <td>0.0</td>\n      <td>1659.00</td>\n      <td>103.00</td>\n      <td>...</td>\n      <td>17.00</td>\n      <td>17.00</td>\n      <td>300.00</td>\n      <td>300.00</td>\n      <td>-46.00</td>\n      <td>-46.00</td>\n      <td>-46.00</td>\n      <td>-46.00</td>\n      <td>0.0</td>\n      <td>0.0</td>\n    </tr>\n    <tr>\n      <th>...</th>\n      <td>...</td>\n      <td>...</td>\n      <td>...</td>\n      <td>...</td>\n      <td>...</td>\n      <td>...</td>\n      <td>...</td>\n      <td>...</td>\n      <td>...</td>\n      <td>...</td>\n      <td>...</td>\n      <td>...</td>\n      <td>...</td>\n      <td>...</td>\n      <td>...</td>\n      <td>...</td>\n      <td>...</td>\n      <td>...</td>\n      <td>...</td>\n      <td>...</td>\n      <td>...</td>\n    </tr>\n    <tr>\n      <th>17123</th>\n      <td>2022-03-31</td>\n      <td>696778.0</td>\n      <td>6649.0</td>\n      <td>-1246.0</td>\n      <td>38391.0</td>\n      <td>13967.0</td>\n      <td>-33280.0</td>\n      <td>57099.0</td>\n      <td>2741947.00</td>\n      <td>1723917.00</td>\n      <td>...</td>\n      <td>0.00</td>\n      <td>-72866.00</td>\n      <td>0.00</td>\n      <td>165509.00</td>\n      <td>0.00</td>\n      <td>233855.00</td>\n      <td>0.00</td>\n      <td>-321630.00</td>\n      <td>0.0</td>\n      <td>555485.0</td>\n    </tr>\n    <tr>\n      <th>17124</th>\n      <td>2022-06-30</td>\n      <td>1209418.0</td>\n      <td>101579.0</td>\n      <td>92625.0</td>\n      <td>39932.0</td>\n      <td>101877.0</td>\n      <td>-21179.0</td>\n      <td>-81990.0</td>\n      <td>2981239.00</td>\n      <td>1730362.00</td>\n      <td>...</td>\n      <td>6445.00</td>\n      <td>6445.00</td>\n      <td>232847.00</td>\n      <td>232847.00</td>\n      <td>205133.00</td>\n      <td>205133.00</td>\n      <td>-236143.00</td>\n      <td>-236143.00</td>\n      <td>441276.0</td>\n      <td>441276.0</td>\n    </tr>\n    <tr>\n      <th>17125</th>\n      <td>2022-06-30</td>\n      <td>1209418.0</td>\n      <td>101579.0</td>\n      <td>92625.0</td>\n      <td>39932.0</td>\n      <td>101877.0</td>\n      <td>-21179.0</td>\n      <td>-81990.0</td>\n      <td>2981239.00</td>\n      <td>1730362.00</td>\n      <td>...</td>\n      <td>0.00</td>\n      <td>6445.00</td>\n      <td>0.00</td>\n      <td>232847.00</td>\n      <td>0.00</td>\n      <td>205133.00</td>\n      <td>0.00</td>\n      <td>-236143.00</td>\n      <td>0.0</td>\n      <td>441276.0</td>\n    </tr>\n    <tr>\n      <th>17126</th>\n      <td>2022-09-30</td>\n      <td>1106635.0</td>\n      <td>61538.0</td>\n      <td>23844.0</td>\n      <td>40212.0</td>\n      <td>156461.0</td>\n      <td>-24386.0</td>\n      <td>-117588.0</td>\n      <td>2733389.00</td>\n      <td>1720912.00</td>\n      <td>...</td>\n      <td>-9450.00</td>\n      <td>-9450.00</td>\n      <td>-238400.00</td>\n      <td>-238400.00</td>\n      <td>-263746.00</td>\n      <td>-263746.00</td>\n      <td>-163092.00</td>\n      <td>-163092.00</td>\n      <td>-100654.0</td>\n      <td>-100654.0</td>\n    </tr>\n    <tr>\n      <th>17127</th>\n      <td>2022-09-30</td>\n      <td>1106635.0</td>\n      <td>61538.0</td>\n      <td>23844.0</td>\n      <td>40212.0</td>\n      <td>156461.0</td>\n      <td>-24386.0</td>\n      <td>-117588.0</td>\n      <td>2733389.00</td>\n      <td>1720912.00</td>\n      <td>...</td>\n      <td>0.00</td>\n      <td>-9450.00</td>\n      <td>0.00</td>\n      <td>-238400.00</td>\n      <td>0.00</td>\n      <td>-263746.00</td>\n      <td>0.00</td>\n      <td>-163092.00</td>\n      <td>0.0</td>\n      <td>-100654.0</td>\n    </tr>\n  </tbody>\n</table>\n<p>17128 rows × 31 columns</p>\n</div>"
     },
     "execution_count": 68,
     "metadata": {},
     "output_type": "execute_result"
    }
   ],
   "source": [
    "nn_df"
   ],
   "metadata": {
    "collapsed": false,
    "ExecuteTime": {
     "end_time": "2024-05-26T12:50:41.718456Z",
     "start_time": "2024-05-26T12:50:41.635300100Z"
    }
   },
   "id": "d697c53660fe3603",
   "execution_count": 68
  },
  {
   "cell_type": "code",
   "outputs": [],
   "source": [
    "dataframes = [mini_df, nn_df, mini_df_fill]"
   ],
   "metadata": {
    "collapsed": false,
    "ExecuteTime": {
     "end_time": "2024-05-26T12:50:41.738343500Z",
     "start_time": "2024-05-26T12:50:41.664138Z"
    }
   },
   "id": "faa63f41a1fa3291",
   "execution_count": 69
  },
  {
   "cell_type": "code",
   "outputs": [],
   "source": [
    "# OneHotEncoding\n",
    "encoded_dataframes = []\n",
    "\n",
    "for df in dataframes:\n",
    "    encoded_df = pd.get_dummies(df)\n",
    "    encoded_dataframes.append(encoded_df)"
   ],
   "metadata": {
    "collapsed": false,
    "ExecuteTime": {
     "end_time": "2024-05-26T12:50:41.740720500Z",
     "start_time": "2024-05-26T12:50:41.668647800Z"
    }
   },
   "id": "c8312f1f99e2f1f8",
   "execution_count": 70
  },
  {
   "cell_type": "code",
   "outputs": [],
   "source": [
    "# Scaling\n",
    "scaler = StandardScaler()\n",
    "\n",
    "scaled_dataframes = []\n",
    "for encoded_df in encoded_dataframes:\n",
    "    scaled_array = scaler.fit_transform(encoded_df)\n",
    "    scaled_df = pd.DataFrame(scaled_array, columns=encoded_df.columns)\n",
    "    scaled_dataframes.append(scaled_df)"
   ],
   "metadata": {
    "collapsed": false,
    "ExecuteTime": {
     "end_time": "2024-05-26T12:50:42.030078700Z",
     "start_time": "2024-05-26T12:50:41.714455600Z"
    }
   },
   "id": "a459af6b9a5563eb",
   "execution_count": 71
  },
  {
   "cell_type": "code",
   "outputs": [],
   "source": [
    "mini_df_scaled_path = \"mini_df_scaled.csv\"\n",
    "nn_df_scaled_path = \"nn_df_scaled.csv\"\n",
    "mini_df_fill_scaled_path = \"mini_df_fill_scaled.csv\"\n",
    "\n",
    "scaled_dataframes[0].to_csv(mini_df_scaled_path, index=False)\n",
    "scaled_dataframes[1].to_csv(nn_df_scaled_path, index=False)\n",
    "scaled_dataframes[2].to_csv(mini_df_fill_scaled_path, index=False)"
   ],
   "metadata": {
    "collapsed": false,
    "ExecuteTime": {
     "end_time": "2024-05-26T12:50:50.038148100Z",
     "start_time": "2024-05-26T12:50:42.031191800Z"
    }
   },
   "id": "6e5e0c69fb11a213",
   "execution_count": 72
  },
  {
   "cell_type": "code",
   "outputs": [],
   "source": [
    "# Model-ready files\n",
    "nn_df = pd.read_csv(nn_df_scaled_path)\n",
    "mini_df = pd.read_csv(mini_df_scaled_path)\n",
    "mini_df_fill = pd.read_csv(mini_df_fill_scaled_path)"
   ],
   "metadata": {
    "collapsed": false,
    "ExecuteTime": {
     "end_time": "2024-05-26T12:50:51.354670400Z",
     "start_time": "2024-05-26T12:50:50.039148800Z"
    }
   },
   "id": "b07d406002a4d4e0",
   "execution_count": 73
  },
  {
   "cell_type": "code",
   "outputs": [],
   "source": [
    "# Data Split\n",
    "\n",
    "# nn_df\n",
    "target_column = 'target'\n",
    "X = nn_df.drop(columns=[target_column])\n",
    "y = nn_df[target_column]\n",
    "\n",
    "# RMSE: 0.2830885946750641\n",
    "# MAE: 0.04881861060857773\n",
    "# R²: 0.9223295510545846\n",
    "\n",
    "# mini_df\n",
    "# target_column = 'target'\n",
    "# X = mini_df.drop(columns=[target_column])\n",
    "# y = mini_df[target_column]\n",
    "\n",
    "# RMSE: 0.5093874931335449\n",
    "# MAE: 0.07076396048069\n",
    "# R²: 0.7159580828339551\n",
    "\n",
    "# mini_df_fill\n",
    "# target_column = 'target'\n",
    "# X = mini_df_fill.drop(columns=[target_column])\n",
    "# y = mini_df_fill[target_column]\n",
    "\n",
    "# RMSE: 0.3888374865055084\n",
    "# MAE: 0.05522208288311958\n",
    "# R²: 0.8534629847003122\n",
    "\n",
    "X_train, X_test, y_train, y_test = train_test_split(X, y, test_size=0.2, random_state=42)"
   ],
   "metadata": {
    "collapsed": false,
    "ExecuteTime": {
     "end_time": "2024-05-26T12:50:51.379609Z",
     "start_time": "2024-05-26T12:50:51.352671300Z"
    }
   },
   "id": "2fbb11f20864c198",
   "execution_count": 74
  },
  {
   "cell_type": "code",
   "outputs": [],
   "source": [
    "# data conversion - to tensor\n",
    "X_train = torch.tensor(X_train.values, dtype=torch.float32).unsqueeze(1)\n",
    "X_test = torch.tensor(X_test.values, dtype=torch.float32).unsqueeze(1)\n",
    "y_train = torch.tensor(y_train.values, dtype=torch.float32).unsqueeze(1)\n",
    "y_test = torch.tensor(y_test.values, dtype=torch.float32).unsqueeze(1)\n",
    "\n",
    "\n",
    "# dataloader creation\n",
    "train_dataset = TensorDataset(X_train, y_train)\n",
    "test_dataset = TensorDataset(X_test, y_test)\n",
    "train_loader = DataLoader(train_dataset, batch_size=32, shuffle=True)\n",
    "test_loader = DataLoader(test_dataset, batch_size=32, shuffle=False)"
   ],
   "metadata": {
    "collapsed": false,
    "ExecuteTime": {
     "end_time": "2024-05-26T12:50:51.393880900Z",
     "start_time": "2024-05-26T12:50:51.381605800Z"
    }
   },
   "id": "323c9f210b5d0ef3",
   "execution_count": 75
  },
  {
   "cell_type": "markdown",
   "source": [
    "# LSTM"
   ],
   "metadata": {
    "collapsed": false
   },
   "id": "d65c50fee5c4e2b4"
  },
  {
   "cell_type": "code",
   "outputs": [],
   "source": [
    "class LSTMModel(nn.Module):\n",
    "    def __init__(self, input_size, hidden_size, num_layers):\n",
    "        super(LSTMModel, self).__init__()\n",
    "        self.hidden_size = hidden_size\n",
    "        self.num_layers = num_layers\n",
    "        self.lstm = nn.LSTM(input_size, hidden_size, num_layers, batch_first=True)\n",
    "        self.fc = nn.Linear(hidden_size, 1)\n",
    "    \n",
    "    def forward(self, x):\n",
    "        h0 = torch.zeros(self.num_layers, x.size(0), self.hidden_size).to(x.device)\n",
    "        c0 = torch.zeros(self.num_layers, x.size(0), self.hidden_size).to(x.device)\n",
    "        out, _ = self.lstm(x, (h0, c0))\n",
    "        out = self.fc(out[:, -1, :])\n",
    "        return out\n",
    "\n",
    "input_size = X_train.shape[2]\n",
    "hidden_size = 50\n",
    "num_layers = 2\n",
    "\n",
    "model = LSTMModel(input_size, hidden_size, num_layers)\n",
    "criterion = nn.MSELoss()\n",
    "optimizer = optim.Adam(model.parameters(), lr=0.001)"
   ],
   "metadata": {
    "collapsed": false,
    "ExecuteTime": {
     "end_time": "2024-05-26T12:50:51.419950900Z",
     "start_time": "2024-05-26T12:50:51.391879Z"
    }
   },
   "id": "192ff5e9944c5918",
   "execution_count": 76
  },
  {
   "cell_type": "code",
   "outputs": [],
   "source": [
    "# model training\n",
    "def train_model(model, train_loader, test_loader, criterion, optimizer, epochs=50):\n",
    "    train_losses = []\n",
    "    test_losses = []\n",
    "    \n",
    "    for epoch in range(epochs):\n",
    "        model.train()\n",
    "        running_loss = 0.0\n",
    "        for inputs, targets in train_loader:\n",
    "            optimizer.zero_grad()\n",
    "            outputs = model(inputs)\n",
    "            loss = criterion(outputs, targets)\n",
    "            loss.backward()\n",
    "            optimizer.step()\n",
    "            running_loss += loss.item() * inputs.size(0)\n",
    "        epoch_loss = running_loss / len(train_loader.dataset)\n",
    "        \n",
    "        train_losses.append(epoch_loss)\n",
    "        \n",
    "        model.eval()\n",
    "        test_loss = 0.0\n",
    "        with torch.no_grad():\n",
    "            for inputs, targets in test_loader:\n",
    "                outputs = model(inputs)\n",
    "                loss = criterion(outputs, targets)\n",
    "                test_loss += loss.item() * inputs.size(0)\n",
    "        test_loss = test_loss / len(test_loader.dataset)\n",
    "        test_losses.append(test_loss)\n",
    "        \n",
    "        print(f'Epoch {epoch+1}/{epochs}, Train Loss: {epoch_loss:.4f}, Test Loss: {test_loss:.4f}')\n",
    "    \n",
    "    loss_df = pd.DataFrame({'Epoch': list(range(1, epochs + 1)), 'Train Loss': train_losses, 'Test Loss': test_losses})\n",
    "    loss_df.to_csv(\"lstm_training_results.csv\", index=False)"
   ],
   "metadata": {
    "collapsed": false,
    "ExecuteTime": {
     "end_time": "2024-05-26T12:50:51.432481200Z",
     "start_time": "2024-05-26T12:50:51.416951Z"
    }
   },
   "id": "e68c563b33c1314",
   "execution_count": 77
  },
  {
   "cell_type": "code",
   "outputs": [
    {
     "name": "stdout",
     "output_type": "stream",
     "text": [
      "Epoch 1/100, Train Loss: 0.7058, Test Loss: 0.5998\n",
      "Epoch 2/100, Train Loss: 0.4990, Test Loss: 0.5738\n",
      "Epoch 3/100, Train Loss: 0.4364, Test Loss: 0.5758\n",
      "Epoch 4/100, Train Loss: 0.3978, Test Loss: 0.5403\n",
      "Epoch 5/100, Train Loss: 0.3298, Test Loss: 0.4900\n",
      "Epoch 6/100, Train Loss: 0.2593, Test Loss: 0.3843\n",
      "Epoch 7/100, Train Loss: 0.1642, Test Loss: 0.3251\n",
      "Epoch 8/100, Train Loss: 0.1099, Test Loss: 0.2400\n",
      "Epoch 9/100, Train Loss: 0.0780, Test Loss: 0.2434\n",
      "Epoch 10/100, Train Loss: 0.0556, Test Loss: 0.2221\n",
      "Epoch 11/100, Train Loss: 0.0486, Test Loss: 0.2118\n",
      "Epoch 12/100, Train Loss: 0.0567, Test Loss: 0.1896\n",
      "Epoch 13/100, Train Loss: 0.0388, Test Loss: 0.1939\n",
      "Epoch 14/100, Train Loss: 0.0319, Test Loss: 0.1824\n",
      "Epoch 15/100, Train Loss: 0.0298, Test Loss: 0.1970\n",
      "Epoch 16/100, Train Loss: 0.0285, Test Loss: 0.1901\n",
      "Epoch 17/100, Train Loss: 0.0263, Test Loss: 0.1968\n",
      "Epoch 18/100, Train Loss: 0.0283, Test Loss: 0.1845\n",
      "Epoch 19/100, Train Loss: 0.0329, Test Loss: 0.1840\n",
      "Epoch 20/100, Train Loss: 0.0260, Test Loss: 0.1520\n",
      "Epoch 21/100, Train Loss: 0.0191, Test Loss: 0.1599\n",
      "Epoch 22/100, Train Loss: 0.0194, Test Loss: 0.1578\n",
      "Epoch 23/100, Train Loss: 0.0201, Test Loss: 0.1407\n",
      "Epoch 24/100, Train Loss: 0.0156, Test Loss: 0.1536\n",
      "Epoch 25/100, Train Loss: 0.0136, Test Loss: 0.1490\n",
      "Epoch 26/100, Train Loss: 0.0131, Test Loss: 0.1370\n",
      "Epoch 27/100, Train Loss: 0.0137, Test Loss: 0.1244\n",
      "Epoch 28/100, Train Loss: 0.0115, Test Loss: 0.1199\n",
      "Epoch 29/100, Train Loss: 0.0114, Test Loss: 0.1282\n",
      "Epoch 30/100, Train Loss: 0.0166, Test Loss: 0.1262\n",
      "Epoch 31/100, Train Loss: 0.0121, Test Loss: 0.1108\n",
      "Epoch 32/100, Train Loss: 0.0093, Test Loss: 0.1176\n",
      "Epoch 33/100, Train Loss: 0.0085, Test Loss: 0.1237\n",
      "Epoch 34/100, Train Loss: 0.0096, Test Loss: 0.1136\n",
      "Epoch 35/100, Train Loss: 0.0100, Test Loss: 0.1038\n",
      "Epoch 36/100, Train Loss: 0.0085, Test Loss: 0.0978\n",
      "Epoch 37/100, Train Loss: 0.0132, Test Loss: 0.0953\n",
      "Epoch 38/100, Train Loss: 0.0230, Test Loss: 0.0967\n",
      "Epoch 39/100, Train Loss: 0.0068, Test Loss: 0.0882\n",
      "Epoch 40/100, Train Loss: 0.0055, Test Loss: 0.0881\n",
      "Epoch 41/100, Train Loss: 0.0055, Test Loss: 0.0876\n",
      "Epoch 42/100, Train Loss: 0.0062, Test Loss: 0.0828\n",
      "Epoch 43/100, Train Loss: 0.0058, Test Loss: 0.0776\n",
      "Epoch 44/100, Train Loss: 0.0056, Test Loss: 0.0823\n",
      "Epoch 45/100, Train Loss: 0.0079, Test Loss: 0.0732\n",
      "Epoch 46/100, Train Loss: 0.0069, Test Loss: 0.0705\n",
      "Epoch 47/100, Train Loss: 0.0367, Test Loss: 0.0934\n",
      "Epoch 48/100, Train Loss: 0.0067, Test Loss: 0.0910\n",
      "Epoch 49/100, Train Loss: 0.0043, Test Loss: 0.0855\n",
      "Epoch 50/100, Train Loss: 0.0035, Test Loss: 0.0831\n",
      "Epoch 51/100, Train Loss: 0.0039, Test Loss: 0.0863\n",
      "Epoch 52/100, Train Loss: 0.0048, Test Loss: 0.0853\n",
      "Epoch 53/100, Train Loss: 0.0058, Test Loss: 0.0888\n",
      "Epoch 54/100, Train Loss: 0.0052, Test Loss: 0.0832\n",
      "Epoch 55/100, Train Loss: 0.0050, Test Loss: 0.0819\n",
      "Epoch 56/100, Train Loss: 0.0042, Test Loss: 0.0807\n",
      "Epoch 57/100, Train Loss: 0.0047, Test Loss: 0.0832\n",
      "Epoch 58/100, Train Loss: 0.0048, Test Loss: 0.0797\n",
      "Epoch 59/100, Train Loss: 0.0052, Test Loss: 0.0826\n",
      "Epoch 60/100, Train Loss: 0.0045, Test Loss: 0.0745\n",
      "Epoch 61/100, Train Loss: 0.0050, Test Loss: 0.0782\n",
      "Epoch 62/100, Train Loss: 0.0050, Test Loss: 0.0931\n",
      "Epoch 63/100, Train Loss: 0.0047, Test Loss: 0.0819\n",
      "Epoch 64/100, Train Loss: 0.0043, Test Loss: 0.0812\n",
      "Epoch 65/100, Train Loss: 0.0047, Test Loss: 0.0782\n",
      "Epoch 66/100, Train Loss: 0.0043, Test Loss: 0.0802\n",
      "Epoch 67/100, Train Loss: 0.0042, Test Loss: 0.0767\n",
      "Epoch 68/100, Train Loss: 0.0044, Test Loss: 0.0768\n",
      "Epoch 69/100, Train Loss: 0.0043, Test Loss: 0.0796\n",
      "Epoch 70/100, Train Loss: 0.0039, Test Loss: 0.0721\n",
      "Epoch 71/100, Train Loss: 0.0039, Test Loss: 0.0824\n",
      "Epoch 72/100, Train Loss: 0.0045, Test Loss: 0.0798\n",
      "Epoch 73/100, Train Loss: 0.0037, Test Loss: 0.0662\n",
      "Epoch 74/100, Train Loss: 0.0030, Test Loss: 0.0779\n",
      "Epoch 75/100, Train Loss: 0.0034, Test Loss: 0.0739\n",
      "Epoch 76/100, Train Loss: 0.0036, Test Loss: 0.0668\n",
      "Epoch 77/100, Train Loss: 0.0040, Test Loss: 0.0897\n",
      "Epoch 78/100, Train Loss: 0.0051, Test Loss: 0.0721\n",
      "Epoch 79/100, Train Loss: 0.0031, Test Loss: 0.0781\n",
      "Epoch 80/100, Train Loss: 0.0034, Test Loss: 0.0712\n",
      "Epoch 81/100, Train Loss: 0.0030, Test Loss: 0.0706\n",
      "Epoch 82/100, Train Loss: 0.0027, Test Loss: 0.0702\n",
      "Epoch 83/100, Train Loss: 0.0029, Test Loss: 0.0721\n",
      "Epoch 84/100, Train Loss: 0.0031, Test Loss: 0.0755\n",
      "Epoch 85/100, Train Loss: 0.0028, Test Loss: 0.0686\n",
      "Epoch 86/100, Train Loss: 0.0036, Test Loss: 0.0762\n",
      "Epoch 87/100, Train Loss: 0.0033, Test Loss: 0.0819\n",
      "Epoch 88/100, Train Loss: 0.0025, Test Loss: 0.0784\n",
      "Epoch 89/100, Train Loss: 0.0027, Test Loss: 0.0808\n",
      "Epoch 90/100, Train Loss: 0.0029, Test Loss: 0.0735\n",
      "Epoch 91/100, Train Loss: 0.0026, Test Loss: 0.0785\n",
      "Epoch 92/100, Train Loss: 0.0026, Test Loss: 0.0800\n",
      "Epoch 93/100, Train Loss: 0.0028, Test Loss: 0.0685\n",
      "Epoch 94/100, Train Loss: 0.0026, Test Loss: 0.0732\n",
      "Epoch 95/100, Train Loss: 0.0032, Test Loss: 0.0818\n",
      "Epoch 96/100, Train Loss: 0.0028, Test Loss: 0.0795\n",
      "Epoch 97/100, Train Loss: 0.0028, Test Loss: 0.0727\n",
      "Epoch 98/100, Train Loss: 0.0027, Test Loss: 0.0645\n",
      "Epoch 99/100, Train Loss: 0.0023, Test Loss: 0.0707\n",
      "Epoch 100/100, Train Loss: 0.0022, Test Loss: 0.0699\n"
     ]
    }
   ],
   "source": [
    "train_model(model, train_loader, test_loader, criterion, optimizer, epochs=100)"
   ],
   "metadata": {
    "collapsed": false,
    "ExecuteTime": {
     "end_time": "2024-05-26T12:53:50.164554100Z",
     "start_time": "2024-05-26T12:50:51.433480700Z"
    }
   },
   "id": "cf6aedc79278929b",
   "execution_count": 78
  },
  {
   "cell_type": "code",
   "outputs": [
    {
     "name": "stdout",
     "output_type": "stream",
     "text": [
      "RMSE: 0.2643394470214844\n",
      "MAE: 0.03933151811361313\n",
      "R²: 0.932277172404728\n"
     ]
    }
   ],
   "source": [
    "# model evaluation\n",
    "def evaluate_model(model, test_loader):\n",
    "    model.eval()\n",
    "    predictions, actuals = [], []\n",
    "    with torch.no_grad():\n",
    "        for inputs, targets in test_loader:\n",
    "            outputs = model(inputs)\n",
    "            predictions.extend(outputs.numpy())\n",
    "            actuals.extend(targets.numpy())\n",
    "    return np.array(predictions), np.array(actuals)\n",
    "\n",
    "y_pred, y_true = evaluate_model(model, test_loader)\n",
    "\n",
    "rmse = np.sqrt(mean_squared_error(y_true, y_pred))\n",
    "mae = mean_absolute_error(y_true, y_pred)\n",
    "r2 = r2_score(y_true, y_pred)\n",
    "\n",
    "print(f'RMSE: {rmse}')\n",
    "print(f'MAE: {mae}')\n",
    "print(f'R²: {r2}')"
   ],
   "metadata": {
    "collapsed": false,
    "ExecuteTime": {
     "end_time": "2024-05-26T12:53:50.251810300Z",
     "start_time": "2024-05-26T12:53:50.168770700Z"
    }
   },
   "id": "3a2e498f284432de",
   "execution_count": 79
  },
  {
   "cell_type": "markdown",
   "source": [
    "# CNN"
   ],
   "metadata": {
    "collapsed": false
   },
   "id": "a4cffededfb6550e"
  },
  {
   "cell_type": "code",
   "outputs": [],
   "source": [
    "# nn_df\n",
    "# target_column = 'target'\n",
    "# X = nn_df.drop(columns=[target_column]).values\n",
    "# y = nn_df[target_column].values\n",
    "\n",
    "# mini_df\n",
    "# target_column = 'target'\n",
    "# X = mini_df.drop(columns=[target_column]).values\n",
    "# y = mini_df[target_column].values\n",
    "\n",
    "# mini_df_fill\n",
    "target_column = 'target'\n",
    "X = mini_df_fill.drop(columns=[target_column]).values\n",
    "y = mini_df_fill[target_column].values\n",
    "\n",
    "X_train, X_test, y_train, y_test = train_test_split(X, y, test_size=0.2, random_state=42)"
   ],
   "metadata": {
    "collapsed": false,
    "ExecuteTime": {
     "end_time": "2024-05-26T12:53:50.306035200Z",
     "start_time": "2024-05-26T12:53:50.306035200Z"
    }
   },
   "id": "ad3407a4d18cb1d6",
   "execution_count": null
  },
  {
   "cell_type": "code",
   "outputs": [],
   "source": [
    "X_train = X_train.reshape(-1, 1, X_train.shape[1], 1)\n",
    "X_test = X_test.reshape(-1, 1, X_test.shape[1], 1)\n",
    "y_train = y_train.reshape(-1, 1)\n",
    "y_test = y_test.reshape(-1, 1)"
   ],
   "metadata": {
    "collapsed": false,
    "ExecuteTime": {
     "end_time": "2024-05-26T12:53:56.737507500Z",
     "start_time": "2024-05-26T12:53:56.724660900Z"
    }
   },
   "id": "1bcb10afa39dc790",
   "execution_count": 81
  },
  {
   "cell_type": "code",
   "outputs": [],
   "source": [
    "class StockDataset(Dataset):\n",
    "    def __init__(self, X, y):\n",
    "        self.X = torch.tensor(X, dtype=torch.float32)\n",
    "        self.y = torch.tensor(y, dtype=torch.float32)\n",
    "        \n",
    "    def __len__(self):\n",
    "        return len(self.X)\n",
    "    \n",
    "    def __getitem__(self, idx):\n",
    "        return self.X[idx], self.y[idx]\n",
    "\n",
    "train_dataset = StockDataset(X_train, y_train)\n",
    "test_dataset = StockDataset(X_test, y_test)\n",
    "\n",
    "train_loader = DataLoader(train_dataset, batch_size=32, shuffle=True)\n",
    "test_loader = DataLoader(test_dataset, batch_size=32, shuffle=False)"
   ],
   "metadata": {
    "collapsed": false,
    "ExecuteTime": {
     "start_time": "2024-05-25T15:45:58.340121200Z"
    }
   },
   "id": "955676695774368c",
   "execution_count": null
  },
  {
   "cell_type": "code",
   "outputs": [],
   "source": [
    "class ModelCNN(nn.Module):\n",
    "    def __init__(self):\n",
    "        super(ModelCNN, self).__init__()\n",
    "        self.conv1 = nn.Conv2d(1, 16, kernel_size=(3, 1))\n",
    "        self.conv2 = nn.Conv2d(16, 32, kernel_size=(3, 1))\n",
    "        self.fc1 = nn.Linear(32 * (X_train.shape[2] - 4), 50)\n",
    "        self.fc2 = nn.Linear(50, 1)\n",
    "        \n",
    "    def forward(self, x):\n",
    "        x = torch.relu(self.conv1(x))\n",
    "        x = torch.relu(self.conv2(x))\n",
    "        x = x.view(x.size(0), -1)\n",
    "        x = torch.relu(self.fc1(x))\n",
    "        x = self.fc2(x)\n",
    "        return x\n",
    "\n",
    "model = ModelCNN()\n",
    "criterion = nn.MSELoss()\n",
    "optimizer = optim.Adam(model.parameters(), lr=0.001)"
   ],
   "metadata": {
    "collapsed": false,
    "ExecuteTime": {
     "start_time": "2024-05-25T15:45:58.341122700Z"
    }
   },
   "id": "e28f53ce3eda9e05",
   "execution_count": null
  },
  {
   "cell_type": "code",
   "outputs": [],
   "source": [
    "# model training\n",
    "def train_model(model, train_loader, test_loader, criterion, optimizer, epochs=50):\n",
    "    train_losses = []\n",
    "    test_losses = []\n",
    "    \n",
    "    for epoch in range(epochs):\n",
    "        model.train()\n",
    "        running_loss = 0.0\n",
    "        for inputs, targets in train_loader:\n",
    "            optimizer.zero_grad()\n",
    "            outputs = model(inputs).squeeze()\n",
    "            loss = criterion(outputs, targets.squeeze())\n",
    "            loss.backward()\n",
    "            optimizer.step()\n",
    "            running_loss += loss.item() * inputs.size(0)\n",
    "        epoch_loss = running_loss / len(train_loader.dataset)\n",
    "        \n",
    "        train_losses.append(epoch_loss)\n",
    "        \n",
    "        model.eval()\n",
    "        test_loss = 0.0\n",
    "        with torch.no_grad():\n",
    "            for inputs, targets in test_loader:\n",
    "                outputs = model(inputs).squeeze()\n",
    "                loss = criterion(outputs, targets.squeeze())\n",
    "                test_loss += loss.item() * inputs.size(0)\n",
    "        test_loss = test_loss / len(test_loader.dataset)\n",
    "        test_losses.append(test_loss)\n",
    "        \n",
    "        print(f'Epoch {epoch+1}/{epochs}, Train Loss: {epoch_loss:.4f}, Test Loss: {test_loss:.4f}')\n",
    "\n",
    "    \n",
    "    loss_df = pd.DataFrame({'Epoch': list(range(1, epochs + 1)), 'Train Loss': train_losses, 'Test Loss': test_losses})\n",
    "    loss_df.to_csv(\"cnn_training_results.csv\", index=False)"
   ],
   "metadata": {
    "collapsed": false,
    "ExecuteTime": {
     "start_time": "2024-05-25T15:45:58.342124900Z"
    }
   },
   "id": "758446236608f6a4",
   "execution_count": null
  },
  {
   "cell_type": "code",
   "outputs": [],
   "source": [
    "train_model(model, train_loader, test_loader, criterion, optimizer, epochs=50)"
   ],
   "metadata": {
    "collapsed": false,
    "ExecuteTime": {
     "start_time": "2024-05-25T15:45:58.343122600Z"
    }
   },
   "id": "ca1a4c554cf78605",
   "execution_count": null
  },
  {
   "cell_type": "code",
   "outputs": [],
   "source": [
    "def evaluate_model(model, test_loader):\n",
    "    model.eval()\n",
    "    predictions, actuals = [], []\n",
    "    with torch.no_grad():\n",
    "        for inputs, targets in test_loader:\n",
    "            outputs = model(inputs).squeeze()\n",
    "            predictions.extend(outputs.cpu().numpy())\n",
    "            actuals.extend(targets.cpu().numpy())\n",
    "    return np.array(predictions), np.array(actuals)\n",
    "\n",
    "# model evaluation\n",
    "y_pred, y_true = evaluate_model(model, test_loader)\n",
    "\n",
    "rmse = np.sqrt(mean_squared_error(y_true, y_pred))\n",
    "mae = mean_absolute_error(y_true, y_pred)\n",
    "r2 = r2_score(y_true, y_pred)\n",
    "\n",
    "print(f'RMSE: {rmse}')\n",
    "print(f'MAE: {mae}')\n",
    "print(f'R²: {r2}')"
   ],
   "metadata": {
    "collapsed": false,
    "ExecuteTime": {
     "start_time": "2024-05-25T15:45:58.344122300Z"
    }
   },
   "id": "7397e5e98b0bd7a7",
   "execution_count": null
  }
 ],
 "metadata": {
  "kernelspec": {
   "display_name": "Python 3",
   "language": "python",
   "name": "python3"
  },
  "language_info": {
   "codemirror_mode": {
    "name": "ipython",
    "version": 2
   },
   "file_extension": ".py",
   "mimetype": "text/x-python",
   "name": "python",
   "nbconvert_exporter": "python",
   "pygments_lexer": "ipython2",
   "version": "2.7.6"
  }
 },
 "nbformat": 4,
 "nbformat_minor": 5
}
