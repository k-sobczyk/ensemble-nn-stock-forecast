{
 "cells": [
  {
   "cell_type": "code",
   "execution_count": 7,
   "id": "initial_id",
   "metadata": {
    "collapsed": true,
    "ExecuteTime": {
     "end_time": "2024-07-22T18:15:08.345746Z",
     "start_time": "2024-07-22T18:15:08.343382Z"
    }
   },
   "outputs": [],
   "source": [
    "import os\n",
    "import pandas as pd\n",
    "import sqlite3"
   ]
  },
  {
   "cell_type": "code",
   "execution_count": 8,
   "outputs": [],
   "source": [
    "directory_path = 'wse stocks/'\n",
    "columns = [\"TICKER\", \"PER\", \"DATE\", \"TIME\", \"OPEN\", \"HIGH\", \"LOW\", \"CLOSE\", \"VOL\", \"OPENINT\"]\n",
    "all_dfs = []"
   ],
   "metadata": {
    "collapsed": false,
    "ExecuteTime": {
     "end_time": "2024-07-22T18:15:08.512845Z",
     "start_time": "2024-07-22T18:15:08.499602Z"
    }
   },
   "id": "4802ff8c232adbfa"
  },
  {
   "cell_type": "code",
   "execution_count": 9,
   "outputs": [
    {
     "ename": "FileNotFoundError",
     "evalue": "[WinError 3] System nie może odnaleźć określonej ścieżki: 'wse stocks/'",
     "output_type": "error",
     "traceback": [
      "\u001B[1;31m---------------------------------------------------------------------------\u001B[0m",
      "\u001B[1;31mFileNotFoundError\u001B[0m                         Traceback (most recent call last)",
      "Cell \u001B[1;32mIn[9], line 2\u001B[0m\n\u001B[0;32m      1\u001B[0m \u001B[38;5;66;03m# only create financial_data.db\u001B[39;00m\n\u001B[1;32m----> 2\u001B[0m \u001B[38;5;28;01mfor\u001B[39;00m filename \u001B[38;5;129;01min\u001B[39;00m \u001B[43mos\u001B[49m\u001B[38;5;241;43m.\u001B[39;49m\u001B[43mlistdir\u001B[49m\u001B[43m(\u001B[49m\u001B[43mdirectory_path\u001B[49m\u001B[43m)\u001B[49m:\n\u001B[0;32m      3\u001B[0m     \u001B[38;5;28;01mif\u001B[39;00m filename\u001B[38;5;241m.\u001B[39mendswith(\u001B[38;5;124m'\u001B[39m\u001B[38;5;124m.txt\u001B[39m\u001B[38;5;124m'\u001B[39m):\n\u001B[0;32m      4\u001B[0m         file_path \u001B[38;5;241m=\u001B[39m os\u001B[38;5;241m.\u001B[39mpath\u001B[38;5;241m.\u001B[39mjoin(directory_path, filename)\n",
      "\u001B[1;31mFileNotFoundError\u001B[0m: [WinError 3] System nie może odnaleźć określonej ścieżki: 'wse stocks/'"
     ]
    }
   ],
   "source": [
    "# only create financial_data.db\n",
    "for filename in os.listdir(directory_path):\n",
    "    if filename.endswith('.txt'):\n",
    "        file_path = os.path.join(directory_path, filename)\n",
    "        try:\n",
    "            temp_df = pd.read_csv(file_path, delimiter=',')  \n",
    "            if temp_df.shape[1] == len(columns):\n",
    "                temp_df.columns = columns  \n",
    "                all_dfs.append(temp_df)  \n",
    "            else:\n",
    "                print(f'File {file_path} does not match the expected number of columns.')\n",
    "        except Exception as e:\n",
    "            pass\n",
    "\n",
    "combined_df = pd.concat(all_dfs, ignore_index=True)\n",
    "combined_df['DATE'] = pd.to_datetime(combined_df['DATE'], format='%Y%m%d').dt.strftime('%Y-%m-%d')\n",
    "sqlite_db_path = 'financial_data.db'\n",
    "conn = sqlite3.connect(sqlite_db_path)\n",
    "table_name = 'stock_data'\n",
    "combined_df.to_sql(table_name, conn, if_exists='replace', index=False)\n",
    "conn.close()"
   ],
   "metadata": {
    "collapsed": false,
    "ExecuteTime": {
     "end_time": "2024-07-22T18:15:08.659573Z",
     "start_time": "2024-07-22T18:15:08.649755Z"
    }
   },
   "id": "37e3189e4a7ddf36"
  },
  {
   "cell_type": "code",
   "execution_count": null,
   "outputs": [],
   "source": [
    "# only create combined_data.csv\n",
    "for filename in os.listdir(directory_path):\n",
    "    if filename.endswith('.txt'):\n",
    "        file_path = os.path.join(directory_path, filename)\n",
    "        try:\n",
    "            temp_df = pd.read_csv(file_path, delimiter=',')\n",
    "            if temp_df.shape[1] == len(columns):\n",
    "                temp_df.columns = columns  \n",
    "                all_dfs.append(temp_df)  \n",
    "            else:\n",
    "                print(f'File {file_path} does not match the expected number of columns.')\n",
    "        except Exception as e:\n",
    "            pass\n",
    "\n",
    "combined_df = pd.concat(all_dfs, ignore_index=True)\n",
    "combined_df['DATE'] = pd.to_datetime(combined_df['DATE'], format='%Y%m%d').dt.strftime('%Y-%m-%d')\n",
    "output_file_path = 'stooq_data.csv'\n",
    "combined_df.to_csv(output_file_path, index=False)"
   ],
   "metadata": {
    "collapsed": false,
    "ExecuteTime": {
     "start_time": "2024-07-22T18:13:28.207080Z"
    }
   },
   "id": "362ee84b411a180c"
  },
  {
   "cell_type": "code",
   "outputs": [],
   "source": [],
   "metadata": {
    "collapsed": false,
    "ExecuteTime": {
     "end_time": "2024-07-22T18:13:28.277941Z",
     "start_time": "2024-07-22T18:13:28.276298Z"
    }
   },
   "id": "3b0603caa2eca829",
   "execution_count": 3
  },
  {
   "cell_type": "code",
   "outputs": [],
   "source": [],
   "metadata": {
    "collapsed": false
   },
   "id": "4c3eecbbb4fe66fe"
  }
 ],
 "metadata": {
  "kernelspec": {
   "display_name": "Python 3",
   "language": "python",
   "name": "python3"
  },
  "language_info": {
   "codemirror_mode": {
    "name": "ipython",
    "version": 2
   },
   "file_extension": ".py",
   "mimetype": "text/x-python",
   "name": "python",
   "nbconvert_exporter": "python",
   "pygments_lexer": "ipython2",
   "version": "2.7.6"
  }
 },
 "nbformat": 4,
 "nbformat_minor": 5
}
