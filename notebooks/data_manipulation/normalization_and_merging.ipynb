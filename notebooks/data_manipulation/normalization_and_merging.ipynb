{
 "cells": [
  {
   "cell_type": "markdown",
   "id": "8e24134b0684d92e",
   "metadata": {
    "collapsed": false
   },
   "source": [
    "# DATA PREPARATION PART 1"
   ]
  },
  {
   "cell_type": "code",
   "execution_count": 31,
   "id": "96c32f94c1db55b0",
   "metadata": {
    "ExecuteTime": {
     "end_time": "2025-02-23T10:31:12.330696Z",
     "start_time": "2025-02-23T10:31:12.322712Z"
    },
    "collapsed": false
   },
   "outputs": [],
   "source": [
    "import pandas as pd\n",
    "import pyarrow as pa"
   ]
  },
  {
   "cell_type": "markdown",
   "id": "69b7a8349040b4f6",
   "metadata": {
    "collapsed": false
   },
   "source": [
    "## General Company Info Cleaning"
   ]
  },
  {
   "cell_type": "code",
   "execution_count": 32,
   "id": "89d96196b7aa677d",
   "metadata": {
    "ExecuteTime": {
     "end_time": "2025-02-23T10:31:12.407650Z",
     "start_time": "2025-02-23T10:31:12.401983Z"
    },
    "collapsed": false
   },
   "outputs": [],
   "source": [
    "df_general = pd.read_csv('../../data/processed/general_company_info.csv')"
   ]
  },
  {
   "cell_type": "code",
   "execution_count": 33,
   "id": "6aeb37c9bca01be7",
   "metadata": {
    "ExecuteTime": {
     "end_time": "2025-02-23T10:31:12.417060Z",
     "start_time": "2025-02-23T10:31:12.412194Z"
    },
    "collapsed": false
   },
   "outputs": [],
   "source": [
    "rename = {\n",
    "    \"Name\":      \"company_name\",\n",
    "    \"TICKER\":    \"ticker\",\n",
    "    \"Sector\":    \"sector\",\n",
    "    \"File_Name\": \"file_name\"\n",
    "}\n",
    "dtypes = {\n",
    "    \"company_name\": pd.ArrowDtype(pa.string()),\n",
    "    \"ticker\":       pd.ArrowDtype(pa.string()),\n",
    "    \"sector\":       pd.ArrowDtype(pa.string()),\n",
    "    \"file_name\":    pd.ArrowDtype(pa.string())\n",
    "}\n",
    "\n",
    "# Rename the columns\n",
    "df_general = df_general.rename(columns=rename)\n",
    "# Apply the specified data types\n",
    "df_general = df_general.astype(dtypes)"
   ]
  },
  {
   "cell_type": "code",
   "execution_count": 34,
   "id": "2b4082ecc1e2d3ad",
   "metadata": {
    "ExecuteTime": {
     "end_time": "2025-02-23T10:31:12.453834Z",
     "start_time": "2025-02-23T10:31:12.448696Z"
    },
    "collapsed": false
   },
   "outputs": [
    {
     "name": "stdout",
     "output_type": "stream",
     "text": [
      "<class 'pandas.core.frame.DataFrame'>\n",
      "RangeIndex: 349 entries, 0 to 348\n",
      "Data columns (total 4 columns):\n",
      " #   Column        Non-Null Count  Dtype          \n",
      "---  ------        --------------  -----          \n",
      " 0   company_name  349 non-null    string[pyarrow]\n",
      " 1   ticker        349 non-null    string[pyarrow]\n",
      " 2   sector        349 non-null    string[pyarrow]\n",
      " 3   file_name     349 non-null    string[pyarrow]\n",
      "dtypes: string[pyarrow](4)\n",
      "memory usage: 21.2 KB\n"
     ]
    }
   ],
   "source": [
    "df_general.info()"
   ]
  },
  {
   "cell_type": "code",
   "execution_count": 35,
   "id": "3733a31fb5c2102a",
   "metadata": {
    "ExecuteTime": {
     "end_time": "2025-02-23T10:31:12.493067Z",
     "start_time": "2025-02-23T10:31:12.487828Z"
    },
    "collapsed": false
   },
   "outputs": [
    {
     "data": {
      "text/html": [
       "<div>\n",
       "<style scoped>\n",
       "    .dataframe tbody tr th:only-of-type {\n",
       "        vertical-align: middle;\n",
       "    }\n",
       "\n",
       "    .dataframe tbody tr th {\n",
       "        vertical-align: top;\n",
       "    }\n",
       "\n",
       "    .dataframe thead th {\n",
       "        text-align: right;\n",
       "    }\n",
       "</style>\n",
       "<table border=\"1\" class=\"dataframe\">\n",
       "  <thead>\n",
       "    <tr style=\"text-align: right;\">\n",
       "      <th></th>\n",
       "      <th>company_name</th>\n",
       "      <th>ticker</th>\n",
       "      <th>sector</th>\n",
       "      <th>file_name</th>\n",
       "    </tr>\n",
       "  </thead>\n",
       "  <tbody>\n",
       "    <tr>\n",
       "      <th>0</th>\n",
       "      <td>11 bit studios SA</td>\n",
       "      <td>11B</td>\n",
       "      <td>gry</td>\n",
       "      <td>11BIT.xlsx</td>\n",
       "    </tr>\n",
       "    <tr>\n",
       "      <th>1</th>\n",
       "      <td>3LP SA</td>\n",
       "      <td>3LP_IPO</td>\n",
       "      <td>handel</td>\n",
       "      <td>3LPSA.xlsx</td>\n",
       "    </tr>\n",
       "    <tr>\n",
       "      <th>2</th>\n",
       "      <td>3R Games SA</td>\n",
       "      <td>3RG</td>\n",
       "      <td>gry</td>\n",
       "      <td>3RGAMES.xlsx</td>\n",
       "    </tr>\n",
       "  </tbody>\n",
       "</table>\n",
       "</div>"
      ],
      "text/plain": [
       "        company_name   ticker  sector     file_name\n",
       "0  11 bit studios SA      11B     gry    11BIT.xlsx\n",
       "1             3LP SA  3LP_IPO  handel    3LPSA.xlsx\n",
       "2        3R Games SA      3RG     gry  3RGAMES.xlsx"
      ]
     },
     "execution_count": 35,
     "metadata": {},
     "output_type": "execute_result"
    }
   ],
   "source": [
    "df_general.head(3)"
   ]
  },
  {
   "cell_type": "markdown",
   "id": "79e38b66b04a0b88",
   "metadata": {
    "collapsed": false
   },
   "source": [
    "## Stooq Data Cleaning"
   ]
  },
  {
   "cell_type": "code",
   "execution_count": 36,
   "id": "ac770d9c23eb853c",
   "metadata": {
    "ExecuteTime": {
     "end_time": "2025-02-23T10:31:13.685729Z",
     "start_time": "2025-02-23T10:31:12.541337Z"
    },
    "collapsed": false
   },
   "outputs": [],
   "source": [
    "df_market_value = pd.read_csv('../../data/processed/stooq_data.csv')"
   ]
  },
  {
   "cell_type": "code",
   "execution_count": 37,
   "id": "6a069167e7b627df",
   "metadata": {
    "ExecuteTime": {
     "end_time": "2025-02-23T10:31:13.863195Z",
     "start_time": "2025-02-23T10:31:13.705946Z"
    },
    "collapsed": false
   },
   "outputs": [
    {
     "data": {
      "text/plain": [
       "TICKER     0\n",
       "PER        0\n",
       "DATE       0\n",
       "TIME       0\n",
       "OPEN       0\n",
       "HIGH       0\n",
       "LOW        0\n",
       "CLOSE      0\n",
       "VOL        0\n",
       "OPENINT    0\n",
       "target     0\n",
       "dtype: int64"
      ]
     },
     "execution_count": 37,
     "metadata": {},
     "output_type": "execute_result"
    }
   ],
   "source": [
    "df_market_value.isnull().sum()"
   ]
  },
  {
   "cell_type": "code",
   "execution_count": 38,
   "id": "c2b6023a0b0b8ef8",
   "metadata": {
    "ExecuteTime": {
     "end_time": "2025-02-23T10:31:14.098442Z",
     "start_time": "2025-02-23T10:31:13.904745Z"
    },
    "collapsed": false
   },
   "outputs": [
    {
     "name": "stdout",
     "output_type": "stream",
     "text": [
      "<class 'pandas.core.frame.DataFrame'>\n",
      "RangeIndex: 1594620 entries, 0 to 1594619\n",
      "Data columns (total 11 columns):\n",
      " #   Column   Non-Null Count    Dtype  \n",
      "---  ------   --------------    -----  \n",
      " 0   TICKER   1594620 non-null  object \n",
      " 1   PER      1594620 non-null  object \n",
      " 2   DATE     1594620 non-null  object \n",
      " 3   TIME     1594620 non-null  int64  \n",
      " 4   OPEN     1594620 non-null  float64\n",
      " 5   HIGH     1594620 non-null  float64\n",
      " 6   LOW      1594620 non-null  float64\n",
      " 7   CLOSE    1594620 non-null  float64\n",
      " 8   VOL      1594620 non-null  float64\n",
      " 9   OPENINT  1594620 non-null  int64  \n",
      " 10  target   1594620 non-null  float64\n",
      "dtypes: float64(6), int64(2), object(3)\n",
      "memory usage: 133.8+ MB\n"
     ]
    }
   ],
   "source": [
    "df_market_value.info()"
   ]
  },
  {
   "cell_type": "code",
   "execution_count": 39,
   "id": "77cd5483eb14f307",
   "metadata": {
    "ExecuteTime": {
     "end_time": "2025-02-23T10:31:14.136995Z",
     "start_time": "2025-02-23T10:31:14.130692Z"
    },
    "collapsed": false
   },
   "outputs": [],
   "source": [
    "rename = {\n",
    "    \"TICKER\": \"ticker\",\n",
    "    \"DATE\": \"end_of_period\",\n",
    "}"
   ]
  },
  {
   "cell_type": "code",
   "execution_count": 40,
   "id": "3933f33ab6086736",
   "metadata": {
    "ExecuteTime": {
     "end_time": "2025-02-23T10:31:14.266576Z",
     "start_time": "2025-02-23T10:31:14.182917Z"
    },
    "collapsed": false
   },
   "outputs": [],
   "source": [
    "df_market_value = df_market_value.rename(columns=rename)"
   ]
  },
  {
   "cell_type": "code",
   "execution_count": 41,
   "id": "e643380e972b3fc0",
   "metadata": {
    "ExecuteTime": {
     "end_time": "2025-02-23T10:31:14.343773Z",
     "start_time": "2025-02-23T10:31:14.308014Z"
    },
    "collapsed": false
   },
   "outputs": [],
   "source": [
    "df_market_value = df_market_value[['ticker', 'end_of_period', 'target']]"
   ]
  },
  {
   "cell_type": "code",
   "execution_count": 42,
   "id": "ebbb8abf81014cb1",
   "metadata": {
    "ExecuteTime": {
     "end_time": "2025-02-23T10:31:14.380796Z",
     "start_time": "2025-02-23T10:31:14.378080Z"
    },
    "collapsed": false
   },
   "outputs": [],
   "source": [
    "dtypes = {\n",
    "    \"ticker\":        pd.ArrowDtype(pa.string()),\n",
    "    \"end_of_period\": \"datetime64[s]\",\n",
    "    \"target\":        \"float32[pyarrow]\"\n",
    "}"
   ]
  },
  {
   "cell_type": "code",
   "execution_count": 43,
   "id": "ca91e885505e73f2",
   "metadata": {
    "ExecuteTime": {
     "end_time": "2025-02-23T10:31:15.190868Z",
     "start_time": "2025-02-23T10:31:14.481842Z"
    },
    "collapsed": false
   },
   "outputs": [],
   "source": [
    "df_market_value = df_market_value.astype(dtypes)"
   ]
  },
  {
   "cell_type": "code",
   "execution_count": 44,
   "id": "b73df7ddbc6b80ee",
   "metadata": {
    "ExecuteTime": {
     "end_time": "2025-02-23T10:31:15.210754Z",
     "start_time": "2025-02-23T10:31:15.197973Z"
    },
    "collapsed": false
   },
   "outputs": [
    {
     "name": "stdout",
     "output_type": "stream",
     "text": [
      "<class 'pandas.core.frame.DataFrame'>\n",
      "RangeIndex: 1594620 entries, 0 to 1594619\n",
      "Data columns (total 3 columns):\n",
      " #   Column         Non-Null Count    Dtype          \n",
      "---  ------         --------------    -----          \n",
      " 0   ticker         1594620 non-null  string[pyarrow]\n",
      " 1   end_of_period  1594620 non-null  datetime64[s]  \n",
      " 2   target         1594620 non-null  float[pyarrow] \n",
      "dtypes: datetime64[s](1), float[pyarrow](1), string[pyarrow](1)\n",
      "memory usage: 28.9 MB\n"
     ]
    }
   ],
   "source": [
    "df_market_value.info()"
   ]
  },
  {
   "cell_type": "code",
   "execution_count": 45,
   "id": "4b082eb71b28b56f",
   "metadata": {
    "ExecuteTime": {
     "end_time": "2025-02-23T10:31:15.254942Z",
     "start_time": "2025-02-23T10:31:15.246965Z"
    },
    "collapsed": false
   },
   "outputs": [
    {
     "data": {
      "text/html": [
       "<div>\n",
       "<style scoped>\n",
       "    .dataframe tbody tr th:only-of-type {\n",
       "        vertical-align: middle;\n",
       "    }\n",
       "\n",
       "    .dataframe tbody tr th {\n",
       "        vertical-align: top;\n",
       "    }\n",
       "\n",
       "    .dataframe thead th {\n",
       "        text-align: right;\n",
       "    }\n",
       "</style>\n",
       "<table border=\"1\" class=\"dataframe\">\n",
       "  <thead>\n",
       "    <tr style=\"text-align: right;\">\n",
       "      <th></th>\n",
       "      <th>ticker</th>\n",
       "      <th>end_of_period</th>\n",
       "      <th>target</th>\n",
       "    </tr>\n",
       "  </thead>\n",
       "  <tbody>\n",
       "    <tr>\n",
       "      <th>0</th>\n",
       "      <td>06N</td>\n",
       "      <td>1997-06-12</td>\n",
       "      <td>85.848999</td>\n",
       "    </tr>\n",
       "    <tr>\n",
       "      <th>1</th>\n",
       "      <td>06N</td>\n",
       "      <td>1997-06-13</td>\n",
       "      <td>90.764</td>\n",
       "    </tr>\n",
       "    <tr>\n",
       "      <th>2</th>\n",
       "      <td>06N</td>\n",
       "      <td>1997-06-16</td>\n",
       "      <td>86.667999</td>\n",
       "    </tr>\n",
       "  </tbody>\n",
       "</table>\n",
       "</div>"
      ],
      "text/plain": [
       "  ticker end_of_period     target\n",
       "0    06N    1997-06-12  85.848999\n",
       "1    06N    1997-06-13     90.764\n",
       "2    06N    1997-06-16  86.667999"
      ]
     },
     "execution_count": 45,
     "metadata": {},
     "output_type": "execute_result"
    }
   ],
   "source": [
    "df_market_value.head(3)"
   ]
  },
  {
   "cell_type": "markdown",
   "id": "b0f941a97e3b43a8",
   "metadata": {
    "collapsed": false
   },
   "source": [
    "## Detailed Company Info Cleaning"
   ]
  },
  {
   "cell_type": "code",
   "execution_count": 46,
   "id": "4998f9a589a8e1e6",
   "metadata": {
    "ExecuteTime": {
     "end_time": "2025-02-23T10:31:15.346534Z",
     "start_time": "2025-02-23T10:31:15.311013Z"
    },
    "collapsed": false
   },
   "outputs": [],
   "source": [
    "df_detailed = pd.read_csv('../../data/processed/details_company_info.csv')"
   ]
  },
  {
   "cell_type": "code",
   "execution_count": 47,
   "id": "4b8de28187fb8bc1",
   "metadata": {
    "ExecuteTime": {
     "end_time": "2025-02-23T10:31:15.413875Z",
     "start_time": "2025-02-23T10:31:15.410455Z"
    },
    "collapsed": false
   },
   "outputs": [],
   "source": [
    "rename = {\n",
    "    \"date\":     \"end_of_period\",\n",
    "    \"filename\": \"file_name\",\n",
    "    \"assets\":   \"total_assets\"\n",
    "}\n",
    "\n",
    "dtypes = {\n",
    "    \"end_of_period\":                          \"datetime64[s]\",\n",
    "    \"total_assets\":                           \"float32[pyarrow]\",\n",
    "    \"non_current_assets\":                     \"float32[pyarrow]\",\n",
    "    \"current_assets\":                         \"float32[pyarrow]\",\n",
    "    \"property_plant_equipment\":               \"float32[pyarrow]\",\n",
    "    \"intangible_assets\":                      \"float32[pyarrow]\",\n",
    "    \"inventories\":                            \"float32[pyarrow]\",\n",
    "    \"trade_receivables\":                      \"float32[pyarrow]\",\n",
    "    \"cash_and_cash_equivalents\":              \"float32[pyarrow]\",\n",
    "    \"equity_shareholders_of_the_parent\":      \"float32[pyarrow]\",\n",
    "    \"share_capital\":                          \"float32[pyarrow]\",\n",
    "    \"retained_earning_accumulated_losses\":    \"float32[pyarrow]\",\n",
    "    \"non_current_liabilities\":                \"float32[pyarrow]\",\n",
    "    \"current_liabilities\":                    \"float32[pyarrow]\",\n",
    "    \"non_current_loans_and_borrowings\":       \"float32[pyarrow]\",\n",
    "    \"financial_liabilities_loans_borrowings\": \"float32[pyarrow]\",\n",
    "    \"total_shares\":                           \"float32[pyarrow]\",\n",
    "    \"file_name\":                              pd.ArrowDtype(pa.string())\n",
    "}"
   ]
  },
  {
   "cell_type": "code",
   "execution_count": 48,
   "id": "b32efe9db9e8d8de",
   "metadata": {
    "ExecuteTime": {
     "end_time": "2025-02-23T10:31:15.494558Z",
     "start_time": "2025-02-23T10:31:15.480662Z"
    },
    "collapsed": false
   },
   "outputs": [],
   "source": [
    "# Rename the columns\n",
    "df_detailed = df_detailed.rename(columns=rename)\n",
    "\n",
    "# Apply the specified data types\n",
    "df_detailed = df_detailed.astype(dtypes)"
   ]
  },
  {
   "cell_type": "markdown",
   "id": "a92f9b1d38ad9507",
   "metadata": {
    "collapsed": false
   },
   "source": [
    "## Merging into one dataframe"
   ]
  },
  {
   "cell_type": "code",
   "execution_count": 49,
   "id": "c596ac4f0b2c032d",
   "metadata": {
    "ExecuteTime": {
     "end_time": "2025-02-23T10:31:15.507766Z",
     "start_time": "2025-02-23T10:31:15.499999Z"
    }
   },
   "outputs": [
    {
     "name": "stdout",
     "output_type": "stream",
     "text": [
      "<class 'pandas.core.frame.DataFrame'>\n",
      "RangeIndex: 19906 entries, 0 to 19905\n",
      "Data columns (total 18 columns):\n",
      " #   Column                                  Non-Null Count  Dtype          \n",
      "---  ------                                  --------------  -----          \n",
      " 0   end_of_period                           19906 non-null  datetime64[s]  \n",
      " 1   total_assets                            18995 non-null  float[pyarrow] \n",
      " 2   non_current_assets                      18859 non-null  float[pyarrow] \n",
      " 3   current_assets                          18929 non-null  float[pyarrow] \n",
      " 4   property_plant_equipment                18215 non-null  float[pyarrow] \n",
      " 5   intangible_assets                       17381 non-null  float[pyarrow] \n",
      " 6   inventories                             16529 non-null  float[pyarrow] \n",
      " 7   trade_receivables                       18741 non-null  float[pyarrow] \n",
      " 8   cash_and_cash_equivalents               18696 non-null  float[pyarrow] \n",
      " 9   equity_shareholders_of_the_parent       19004 non-null  float[pyarrow] \n",
      " 10  share_capital                           18907 non-null  float[pyarrow] \n",
      " 11  retained_earning_accumulated_losses     18774 non-null  float[pyarrow] \n",
      " 12  non_current_liabilities                 18404 non-null  float[pyarrow] \n",
      " 13  current_liabilities                     18973 non-null  float[pyarrow] \n",
      " 14  non_current_loans_and_borrowings        11242 non-null  float[pyarrow] \n",
      " 15  financial_liabilities_loans_borrowings  11677 non-null  float[pyarrow] \n",
      " 16  total_shares                            19906 non-null  float[pyarrow] \n",
      " 17  file_name                               19906 non-null  string[pyarrow]\n",
      "dtypes: datetime64[s](1), float[pyarrow](16), string[pyarrow](1)\n",
      "memory usage: 1.7 MB\n"
     ]
    }
   ],
   "source": [
    "df_detailed.info()"
   ]
  },
  {
   "cell_type": "code",
   "execution_count": 50,
   "id": "22dfaaf1acbbd5e4",
   "metadata": {
    "ExecuteTime": {
     "end_time": "2025-02-23T10:31:15.552812Z",
     "start_time": "2025-02-23T10:31:15.540222Z"
    }
   },
   "outputs": [
    {
     "name": "stdout",
     "output_type": "stream",
     "text": [
      "<class 'pandas.core.frame.DataFrame'>\n",
      "RangeIndex: 1594620 entries, 0 to 1594619\n",
      "Data columns (total 3 columns):\n",
      " #   Column         Non-Null Count    Dtype          \n",
      "---  ------         --------------    -----          \n",
      " 0   ticker         1594620 non-null  string[pyarrow]\n",
      " 1   end_of_period  1594620 non-null  datetime64[s]  \n",
      " 2   target         1594620 non-null  float[pyarrow] \n",
      "dtypes: datetime64[s](1), float[pyarrow](1), string[pyarrow](1)\n",
      "memory usage: 28.9 MB\n"
     ]
    }
   ],
   "source": [
    "df_market_value.info()"
   ]
  },
  {
   "cell_type": "code",
   "execution_count": 51,
   "id": "14dc73959427062c",
   "metadata": {
    "ExecuteTime": {
     "end_time": "2025-02-23T10:31:15.595674Z",
     "start_time": "2025-02-23T10:31:15.588516Z"
    }
   },
   "outputs": [
    {
     "name": "stdout",
     "output_type": "stream",
     "text": [
      "<class 'pandas.core.frame.DataFrame'>\n",
      "RangeIndex: 349 entries, 0 to 348\n",
      "Data columns (total 4 columns):\n",
      " #   Column        Non-Null Count  Dtype          \n",
      "---  ------        --------------  -----          \n",
      " 0   company_name  349 non-null    string[pyarrow]\n",
      " 1   ticker        349 non-null    string[pyarrow]\n",
      " 2   sector        349 non-null    string[pyarrow]\n",
      " 3   file_name     349 non-null    string[pyarrow]\n",
      "dtypes: string[pyarrow](4)\n",
      "memory usage: 21.2 KB\n"
     ]
    }
   ],
   "source": [
    "df_general.info()"
   ]
  },
  {
   "cell_type": "code",
   "execution_count": 52,
   "id": "979e74645ec63e8b",
   "metadata": {
    "ExecuteTime": {
     "end_time": "2025-02-23T10:31:19.264646Z",
     "start_time": "2025-02-23T10:31:15.638670Z"
    }
   },
   "outputs": [],
   "source": [
    "df_detailed = df_detailed.merge(df_general[['file_name', 'ticker', 'sector']], how='left', on='file_name')\n",
    "merged_groups = []\n",
    "\n",
    "# Group by ticker and apply merge_asof within each group\n",
    "for ticker, group in df_detailed.groupby('ticker'):\n",
    "    # Sort each group by end_of_period\n",
    "    group = group.sort_values('end_of_period')\n",
    "    # Get the corresponding market value rows for this ticker and sort them\n",
    "    market_group = df_market_value[df_market_value['ticker'] == ticker].sort_values('end_of_period')\n",
    "\n",
    "    # Perform merge_asof on this group with a tolerance of ±7 days\n",
    "    merged = pd.merge_asof(\n",
    "        group,\n",
    "        market_group,\n",
    "        on='end_of_period',\n",
    "        direction='nearest',\n",
    "        tolerance=pd.Timedelta(days=7)\n",
    "    )\n",
    "    merged_groups.append(merged)\n",
    "\n",
    "df_merged = pd.concat(merged_groups, ignore_index=True)\n",
    "\n",
    "df_merged = df_merged.dropna(subset=['end_of_period', 'target', 'total_assets', 'current_assets', 'non_current_assets'])\n",
    "df_merged = df_merged.fillna(0)\n",
    "\n",
    "df = df_merged.copy()"
   ]
  },
  {
   "cell_type": "code",
   "execution_count": 53,
   "id": "b4ffa24dbfc2dcd0",
   "metadata": {
    "ExecuteTime": {
     "end_time": "2025-02-23T10:31:19.303415Z",
     "start_time": "2025-02-23T10:31:19.298469Z"
    },
    "collapsed": false
   },
   "outputs": [
    {
     "data": {
      "text/plain": [
       "(15495, 22)"
      ]
     },
     "execution_count": 53,
     "metadata": {},
     "output_type": "execute_result"
    }
   ],
   "source": [
    "df.shape"
   ]
  },
  {
   "cell_type": "code",
   "execution_count": 54,
   "id": "d21e808ba0a39315",
   "metadata": {
    "ExecuteTime": {
     "end_time": "2025-02-23T10:31:19.341785Z",
     "start_time": "2025-02-23T10:31:19.337980Z"
    },
    "collapsed": false
   },
   "outputs": [],
   "source": [
    "df = df.round(2)"
   ]
  },
  {
   "cell_type": "code",
   "execution_count": 55,
   "id": "ca08b7d29e329c8d",
   "metadata": {
    "ExecuteTime": {
     "end_time": "2025-02-23T10:31:19.389695Z",
     "start_time": "2025-02-23T10:31:19.374266Z"
    },
    "collapsed": false
   },
   "outputs": [
    {
     "data": {
      "text/html": [
       "<div>\n",
       "<style scoped>\n",
       "    .dataframe tbody tr th:only-of-type {\n",
       "        vertical-align: middle;\n",
       "    }\n",
       "\n",
       "    .dataframe tbody tr th {\n",
       "        vertical-align: top;\n",
       "    }\n",
       "\n",
       "    .dataframe thead th {\n",
       "        text-align: right;\n",
       "    }\n",
       "</style>\n",
       "<table border=\"1\" class=\"dataframe\">\n",
       "  <thead>\n",
       "    <tr style=\"text-align: right;\">\n",
       "      <th></th>\n",
       "      <th>end_of_period</th>\n",
       "      <th>total_assets</th>\n",
       "      <th>non_current_assets</th>\n",
       "      <th>current_assets</th>\n",
       "      <th>property_plant_equipment</th>\n",
       "      <th>intangible_assets</th>\n",
       "      <th>inventories</th>\n",
       "      <th>trade_receivables</th>\n",
       "      <th>cash_and_cash_equivalents</th>\n",
       "      <th>equity_shareholders_of_the_parent</th>\n",
       "      <th>...</th>\n",
       "      <th>non_current_liabilities</th>\n",
       "      <th>current_liabilities</th>\n",
       "      <th>non_current_loans_and_borrowings</th>\n",
       "      <th>financial_liabilities_loans_borrowings</th>\n",
       "      <th>total_shares</th>\n",
       "      <th>file_name</th>\n",
       "      <th>ticker_x</th>\n",
       "      <th>sector</th>\n",
       "      <th>ticker_y</th>\n",
       "      <th>target</th>\n",
       "    </tr>\n",
       "  </thead>\n",
       "  <tbody>\n",
       "    <tr>\n",
       "      <th>3</th>\n",
       "      <td>2011-01-01</td>\n",
       "      <td>1342.0</td>\n",
       "      <td>86.0</td>\n",
       "      <td>1256.0</td>\n",
       "      <td>0.0</td>\n",
       "      <td>0.0</td>\n",
       "      <td>0.0</td>\n",
       "      <td>0.0</td>\n",
       "      <td>0.0</td>\n",
       "      <td>1221.0</td>\n",
       "      <td>...</td>\n",
       "      <td>0.0</td>\n",
       "      <td>110.0</td>\n",
       "      <td>0.0</td>\n",
       "      <td>0.0</td>\n",
       "      <td>1870.76001</td>\n",
       "      <td>11BIT.xlsx</td>\n",
       "      <td>11B</td>\n",
       "      <td>gry</td>\n",
       "      <td>11B</td>\n",
       "      <td>7.54</td>\n",
       "    </tr>\n",
       "    <tr>\n",
       "      <th>4</th>\n",
       "      <td>2011-04-01</td>\n",
       "      <td>1659.0</td>\n",
       "      <td>103.0</td>\n",
       "      <td>1556.0</td>\n",
       "      <td>0.0</td>\n",
       "      <td>0.0</td>\n",
       "      <td>0.0</td>\n",
       "      <td>0.0</td>\n",
       "      <td>0.0</td>\n",
       "      <td>1595.0</td>\n",
       "      <td>...</td>\n",
       "      <td>0.0</td>\n",
       "      <td>64.0</td>\n",
       "      <td>0.0</td>\n",
       "      <td>0.0</td>\n",
       "      <td>1870.76001</td>\n",
       "      <td>11BIT.xlsx</td>\n",
       "      <td>11B</td>\n",
       "      <td>gry</td>\n",
       "      <td>11B</td>\n",
       "      <td>24.0</td>\n",
       "    </tr>\n",
       "    <tr>\n",
       "      <th>5</th>\n",
       "      <td>2011-07-01</td>\n",
       "      <td>2141.0</td>\n",
       "      <td>85.0</td>\n",
       "      <td>2055.0</td>\n",
       "      <td>0.0</td>\n",
       "      <td>0.0</td>\n",
       "      <td>0.0</td>\n",
       "      <td>0.0</td>\n",
       "      <td>0.0</td>\n",
       "      <td>2060.0</td>\n",
       "      <td>...</td>\n",
       "      <td>0.0</td>\n",
       "      <td>81.0</td>\n",
       "      <td>0.0</td>\n",
       "      <td>0.0</td>\n",
       "      <td>1870.76001</td>\n",
       "      <td>11BIT.xlsx</td>\n",
       "      <td>11B</td>\n",
       "      <td>gry</td>\n",
       "      <td>11B</td>\n",
       "      <td>14.95</td>\n",
       "    </tr>\n",
       "    <tr>\n",
       "      <th>6</th>\n",
       "      <td>2011-10-01</td>\n",
       "      <td>2986.189941</td>\n",
       "      <td>86.870003</td>\n",
       "      <td>2899.310059</td>\n",
       "      <td>0.0</td>\n",
       "      <td>53.73</td>\n",
       "      <td>1109.48999</td>\n",
       "      <td>418.5</td>\n",
       "      <td>1299.400024</td>\n",
       "      <td>2560.97998</td>\n",
       "      <td>...</td>\n",
       "      <td>0.0</td>\n",
       "      <td>425.220001</td>\n",
       "      <td>0.0</td>\n",
       "      <td>0.0</td>\n",
       "      <td>1870.76001</td>\n",
       "      <td>11BIT.xlsx</td>\n",
       "      <td>11B</td>\n",
       "      <td>gry</td>\n",
       "      <td>11B</td>\n",
       "      <td>7.15</td>\n",
       "    </tr>\n",
       "    <tr>\n",
       "      <th>7</th>\n",
       "      <td>2012-01-01</td>\n",
       "      <td>3473.0</td>\n",
       "      <td>51.0</td>\n",
       "      <td>3422.0</td>\n",
       "      <td>0.0</td>\n",
       "      <td>0.0</td>\n",
       "      <td>0.0</td>\n",
       "      <td>0.0</td>\n",
       "      <td>0.0</td>\n",
       "      <td>3259.0</td>\n",
       "      <td>...</td>\n",
       "      <td>0.0</td>\n",
       "      <td>76.0</td>\n",
       "      <td>0.0</td>\n",
       "      <td>0.0</td>\n",
       "      <td>1911.699951</td>\n",
       "      <td>11BIT.xlsx</td>\n",
       "      <td>11B</td>\n",
       "      <td>gry</td>\n",
       "      <td>11B</td>\n",
       "      <td>9.83</td>\n",
       "    </tr>\n",
       "    <tr>\n",
       "      <th>8</th>\n",
       "      <td>2012-04-01</td>\n",
       "      <td>3428.0</td>\n",
       "      <td>49.0</td>\n",
       "      <td>3379.0</td>\n",
       "      <td>0.0</td>\n",
       "      <td>0.0</td>\n",
       "      <td>0.0</td>\n",
       "      <td>231.0</td>\n",
       "      <td>1604.0</td>\n",
       "      <td>3217.0</td>\n",
       "      <td>...</td>\n",
       "      <td>0.0</td>\n",
       "      <td>74.0</td>\n",
       "      <td>0.0</td>\n",
       "      <td>0.0</td>\n",
       "      <td>1911.699951</td>\n",
       "      <td>11BIT.xlsx</td>\n",
       "      <td>11B</td>\n",
       "      <td>gry</td>\n",
       "      <td>11B</td>\n",
       "      <td>10.51</td>\n",
       "    </tr>\n",
       "    <tr>\n",
       "      <th>9</th>\n",
       "      <td>2012-07-01</td>\n",
       "      <td>6384.0</td>\n",
       "      <td>48.0</td>\n",
       "      <td>6336.0</td>\n",
       "      <td>0.0</td>\n",
       "      <td>0.0</td>\n",
       "      <td>0.0</td>\n",
       "      <td>0.0</td>\n",
       "      <td>0.0</td>\n",
       "      <td>6137.0</td>\n",
       "      <td>...</td>\n",
       "      <td>0.0</td>\n",
       "      <td>93.0</td>\n",
       "      <td>0.0</td>\n",
       "      <td>0.0</td>\n",
       "      <td>2217.199951</td>\n",
       "      <td>11BIT.xlsx</td>\n",
       "      <td>11B</td>\n",
       "      <td>gry</td>\n",
       "      <td>11B</td>\n",
       "      <td>9.31</td>\n",
       "    </tr>\n",
       "    <tr>\n",
       "      <th>10</th>\n",
       "      <td>2012-10-01</td>\n",
       "      <td>7336.529785</td>\n",
       "      <td>95.449997</td>\n",
       "      <td>7240.680176</td>\n",
       "      <td>7.18</td>\n",
       "      <td>29.85</td>\n",
       "      <td>2558.439941</td>\n",
       "      <td>1178.290039</td>\n",
       "      <td>3465.899902</td>\n",
       "      <td>6913.930176</td>\n",
       "      <td>...</td>\n",
       "      <td>0.0</td>\n",
       "      <td>422.359985</td>\n",
       "      <td>0.0</td>\n",
       "      <td>-0.62</td>\n",
       "      <td>2217.199951</td>\n",
       "      <td>11BIT.xlsx</td>\n",
       "      <td>11B</td>\n",
       "      <td>gry</td>\n",
       "      <td>11B</td>\n",
       "      <td>8.62</td>\n",
       "    </tr>\n",
       "    <tr>\n",
       "      <th>11</th>\n",
       "      <td>2013-01-01</td>\n",
       "      <td>7410.160156</td>\n",
       "      <td>82.349998</td>\n",
       "      <td>7327.810059</td>\n",
       "      <td>5.91</td>\n",
       "      <td>23.879999</td>\n",
       "      <td>2895.939941</td>\n",
       "      <td>392.600006</td>\n",
       "      <td>4034.72998</td>\n",
       "      <td>6971.109863</td>\n",
       "      <td>...</td>\n",
       "      <td>0.0</td>\n",
       "      <td>439.049988</td>\n",
       "      <td>0.0</td>\n",
       "      <td>0.0</td>\n",
       "      <td>2217.199951</td>\n",
       "      <td>11BIT.xlsx</td>\n",
       "      <td>11B</td>\n",
       "      <td>gry</td>\n",
       "      <td>11B</td>\n",
       "      <td>8.52</td>\n",
       "    </tr>\n",
       "    <tr>\n",
       "      <th>12</th>\n",
       "      <td>2013-04-01</td>\n",
       "      <td>7740.990234</td>\n",
       "      <td>567.130005</td>\n",
       "      <td>7173.870117</td>\n",
       "      <td>4.64</td>\n",
       "      <td>507.730011</td>\n",
       "      <td>2792.800049</td>\n",
       "      <td>561.130005</td>\n",
       "      <td>3816.389893</td>\n",
       "      <td>7312.279785</td>\n",
       "      <td>...</td>\n",
       "      <td>0.0</td>\n",
       "      <td>428.709991</td>\n",
       "      <td>0.0</td>\n",
       "      <td>0.0</td>\n",
       "      <td>2217.199951</td>\n",
       "      <td>11BIT.xlsx</td>\n",
       "      <td>11B</td>\n",
       "      <td>gry</td>\n",
       "      <td>11B</td>\n",
       "      <td>11.37</td>\n",
       "    </tr>\n",
       "    <tr>\n",
       "      <th>13</th>\n",
       "      <td>2013-07-01</td>\n",
       "      <td>7451.850098</td>\n",
       "      <td>518.27002</td>\n",
       "      <td>6933.580078</td>\n",
       "      <td>3.38</td>\n",
       "      <td>458.540009</td>\n",
       "      <td>2904.949951</td>\n",
       "      <td>400.140015</td>\n",
       "      <td>3623.949951</td>\n",
       "      <td>7007.700195</td>\n",
       "      <td>...</td>\n",
       "      <td>0.0</td>\n",
       "      <td>444.149994</td>\n",
       "      <td>0.0</td>\n",
       "      <td>0.0</td>\n",
       "      <td>2217.199951</td>\n",
       "      <td>11BIT.xlsx</td>\n",
       "      <td>11B</td>\n",
       "      <td>gry</td>\n",
       "      <td>11B</td>\n",
       "      <td>9.03</td>\n",
       "    </tr>\n",
       "    <tr>\n",
       "      <th>14</th>\n",
       "      <td>2013-10-01</td>\n",
       "      <td>8712.669922</td>\n",
       "      <td>589.51001</td>\n",
       "      <td>8123.160156</td>\n",
       "      <td>63.18</td>\n",
       "      <td>466.670013</td>\n",
       "      <td>3442.290039</td>\n",
       "      <td>812.51001</td>\n",
       "      <td>3740.969971</td>\n",
       "      <td>7922.299805</td>\n",
       "      <td>...</td>\n",
       "      <td>0.0</td>\n",
       "      <td>790.369995</td>\n",
       "      <td>0.0</td>\n",
       "      <td>0.0</td>\n",
       "      <td>2217.199951</td>\n",
       "      <td>11BIT.xlsx</td>\n",
       "      <td>11B</td>\n",
       "      <td>gry</td>\n",
       "      <td>11B</td>\n",
       "      <td>8.73</td>\n",
       "    </tr>\n",
       "    <tr>\n",
       "      <th>15</th>\n",
       "      <td>2014-01-01</td>\n",
       "      <td>8078.569824</td>\n",
       "      <td>534.780029</td>\n",
       "      <td>7543.790039</td>\n",
       "      <td>58.169998</td>\n",
       "      <td>416.940002</td>\n",
       "      <td>3782.350098</td>\n",
       "      <td>391.149994</td>\n",
       "      <td>3340.600098</td>\n",
       "      <td>7391.859863</td>\n",
       "      <td>...</td>\n",
       "      <td>0.0</td>\n",
       "      <td>686.710022</td>\n",
       "      <td>0.0</td>\n",
       "      <td>0.0</td>\n",
       "      <td>2217.199951</td>\n",
       "      <td>11BIT.xlsx</td>\n",
       "      <td>11B</td>\n",
       "      <td>gry</td>\n",
       "      <td>11B</td>\n",
       "      <td>9.3</td>\n",
       "    </tr>\n",
       "    <tr>\n",
       "      <th>16</th>\n",
       "      <td>2014-04-01</td>\n",
       "      <td>7645.370117</td>\n",
       "      <td>830.059998</td>\n",
       "      <td>6815.319824</td>\n",
       "      <td>53.16</td>\n",
       "      <td>712.109985</td>\n",
       "      <td>4326.580078</td>\n",
       "      <td>537.450012</td>\n",
       "      <td>1919.27002</td>\n",
       "      <td>6917.540039</td>\n",
       "      <td>...</td>\n",
       "      <td>0.0</td>\n",
       "      <td>727.840027</td>\n",
       "      <td>0.0</td>\n",
       "      <td>0.0</td>\n",
       "      <td>2217.199951</td>\n",
       "      <td>11BIT.xlsx</td>\n",
       "      <td>11B</td>\n",
       "      <td>gry</td>\n",
       "      <td>11B</td>\n",
       "      <td>11.03</td>\n",
       "    </tr>\n",
       "    <tr>\n",
       "      <th>17</th>\n",
       "      <td>2014-07-01</td>\n",
       "      <td>7699.220215</td>\n",
       "      <td>964.590027</td>\n",
       "      <td>6734.640137</td>\n",
       "      <td>123.470001</td>\n",
       "      <td>781.340027</td>\n",
       "      <td>4923.830078</td>\n",
       "      <td>797.950012</td>\n",
       "      <td>976.460022</td>\n",
       "      <td>6735.029785</td>\n",
       "      <td>...</td>\n",
       "      <td>0.0</td>\n",
       "      <td>964.200012</td>\n",
       "      <td>0.0</td>\n",
       "      <td>0.0</td>\n",
       "      <td>2217.199951</td>\n",
       "      <td>11BIT.xlsx</td>\n",
       "      <td>11B</td>\n",
       "      <td>gry</td>\n",
       "      <td>11B</td>\n",
       "      <td>12.2</td>\n",
       "    </tr>\n",
       "    <tr>\n",
       "      <th>18</th>\n",
       "      <td>2014-10-01</td>\n",
       "      <td>21515.859375</td>\n",
       "      <td>6602.060059</td>\n",
       "      <td>14913.799805</td>\n",
       "      <td>103.580002</td>\n",
       "      <td>6300.720215</td>\n",
       "      <td>0.0</td>\n",
       "      <td>7252.410156</td>\n",
       "      <td>7643.990234</td>\n",
       "      <td>17004.820312</td>\n",
       "      <td>...</td>\n",
       "      <td>1105.630005</td>\n",
       "      <td>3405.409912</td>\n",
       "      <td>0.0</td>\n",
       "      <td>0.0</td>\n",
       "      <td>2217.199951</td>\n",
       "      <td>11BIT.xlsx</td>\n",
       "      <td>11B</td>\n",
       "      <td>gry</td>\n",
       "      <td>11B</td>\n",
       "      <td>10.76</td>\n",
       "    </tr>\n",
       "    <tr>\n",
       "      <th>19</th>\n",
       "      <td>2015-01-01</td>\n",
       "      <td>27576.75</td>\n",
       "      <td>7425.879883</td>\n",
       "      <td>20150.869141</td>\n",
       "      <td>99.190002</td>\n",
       "      <td>7139.5</td>\n",
       "      <td>0.0</td>\n",
       "      <td>5609.029785</td>\n",
       "      <td>14513.839844</td>\n",
       "      <td>21496.119141</td>\n",
       "      <td>...</td>\n",
       "      <td>570.340027</td>\n",
       "      <td>5510.290039</td>\n",
       "      <td>0.0</td>\n",
       "      <td>0.0</td>\n",
       "      <td>2217.199951</td>\n",
       "      <td>11BIT.xlsx</td>\n",
       "      <td>11B</td>\n",
       "      <td>gry</td>\n",
       "      <td>11B</td>\n",
       "      <td>71.5</td>\n",
       "    </tr>\n",
       "    <tr>\n",
       "      <th>20</th>\n",
       "      <td>2015-04-01</td>\n",
       "      <td>27828.449219</td>\n",
       "      <td>1474.780029</td>\n",
       "      <td>26353.669922</td>\n",
       "      <td>85.040001</td>\n",
       "      <td>1214.390015</td>\n",
       "      <td>4806.850098</td>\n",
       "      <td>4795.660156</td>\n",
       "      <td>16142.599609</td>\n",
       "      <td>24626.470703</td>\n",
       "      <td>...</td>\n",
       "      <td>0.0</td>\n",
       "      <td>3201.97998</td>\n",
       "      <td>0.0</td>\n",
       "      <td>0.0</td>\n",
       "      <td>2217.199951</td>\n",
       "      <td>11BIT.xlsx</td>\n",
       "      <td>11B</td>\n",
       "      <td>gry</td>\n",
       "      <td>11B</td>\n",
       "      <td>72.5</td>\n",
       "    </tr>\n",
       "    <tr>\n",
       "      <th>21</th>\n",
       "      <td>2015-07-01</td>\n",
       "      <td>28580.369141</td>\n",
       "      <td>7205.379883</td>\n",
       "      <td>21375.0</td>\n",
       "      <td>108.419998</td>\n",
       "      <td>7035.029785</td>\n",
       "      <td>0.0</td>\n",
       "      <td>2057.780029</td>\n",
       "      <td>19105.710938</td>\n",
       "      <td>26628.759766</td>\n",
       "      <td>...</td>\n",
       "      <td>903.77002</td>\n",
       "      <td>1047.849976</td>\n",
       "      <td>0.0</td>\n",
       "      <td>0.0</td>\n",
       "      <td>2217.199951</td>\n",
       "      <td>11BIT.xlsx</td>\n",
       "      <td>11B</td>\n",
       "      <td>gry</td>\n",
       "      <td>11B</td>\n",
       "      <td>67.18</td>\n",
       "    </tr>\n",
       "    <tr>\n",
       "      <th>22</th>\n",
       "      <td>2015-10-01</td>\n",
       "      <td>33895.519531</td>\n",
       "      <td>7073.220215</td>\n",
       "      <td>26822.300781</td>\n",
       "      <td>438.01001</td>\n",
       "      <td>6388.049805</td>\n",
       "      <td>0.0</td>\n",
       "      <td>2749.389893</td>\n",
       "      <td>22930.589844</td>\n",
       "      <td>29851.810547</td>\n",
       "      <td>...</td>\n",
       "      <td>570.340027</td>\n",
       "      <td>3473.370117</td>\n",
       "      <td>0.0</td>\n",
       "      <td>0.0</td>\n",
       "      <td>2217.199951</td>\n",
       "      <td>11BIT.xlsx</td>\n",
       "      <td>11B</td>\n",
       "      <td>gry</td>\n",
       "      <td>11B</td>\n",
       "      <td>64.639999</td>\n",
       "    </tr>\n",
       "  </tbody>\n",
       "</table>\n",
       "<p>20 rows × 22 columns</p>\n",
       "</div>"
      ],
      "text/plain": [
       "   end_of_period  total_assets  non_current_assets  current_assets  \\\n",
       "3     2011-01-01        1342.0                86.0          1256.0   \n",
       "4     2011-04-01        1659.0               103.0          1556.0   \n",
       "5     2011-07-01        2141.0                85.0          2055.0   \n",
       "6     2011-10-01   2986.189941           86.870003     2899.310059   \n",
       "7     2012-01-01        3473.0                51.0          3422.0   \n",
       "8     2012-04-01        3428.0                49.0          3379.0   \n",
       "9     2012-07-01        6384.0                48.0          6336.0   \n",
       "10    2012-10-01   7336.529785           95.449997     7240.680176   \n",
       "11    2013-01-01   7410.160156           82.349998     7327.810059   \n",
       "12    2013-04-01   7740.990234          567.130005     7173.870117   \n",
       "13    2013-07-01   7451.850098           518.27002     6933.580078   \n",
       "14    2013-10-01   8712.669922           589.51001     8123.160156   \n",
       "15    2014-01-01   8078.569824          534.780029     7543.790039   \n",
       "16    2014-04-01   7645.370117          830.059998     6815.319824   \n",
       "17    2014-07-01   7699.220215          964.590027     6734.640137   \n",
       "18    2014-10-01  21515.859375         6602.060059    14913.799805   \n",
       "19    2015-01-01      27576.75         7425.879883    20150.869141   \n",
       "20    2015-04-01  27828.449219         1474.780029    26353.669922   \n",
       "21    2015-07-01  28580.369141         7205.379883         21375.0   \n",
       "22    2015-10-01  33895.519531         7073.220215    26822.300781   \n",
       "\n",
       "    property_plant_equipment  intangible_assets  inventories  \\\n",
       "3                        0.0                0.0          0.0   \n",
       "4                        0.0                0.0          0.0   \n",
       "5                        0.0                0.0          0.0   \n",
       "6                        0.0              53.73   1109.48999   \n",
       "7                        0.0                0.0          0.0   \n",
       "8                        0.0                0.0          0.0   \n",
       "9                        0.0                0.0          0.0   \n",
       "10                      7.18              29.85  2558.439941   \n",
       "11                      5.91          23.879999  2895.939941   \n",
       "12                      4.64         507.730011  2792.800049   \n",
       "13                      3.38         458.540009  2904.949951   \n",
       "14                     63.18         466.670013  3442.290039   \n",
       "15                 58.169998         416.940002  3782.350098   \n",
       "16                     53.16         712.109985  4326.580078   \n",
       "17                123.470001         781.340027  4923.830078   \n",
       "18                103.580002        6300.720215          0.0   \n",
       "19                 99.190002             7139.5          0.0   \n",
       "20                 85.040001        1214.390015  4806.850098   \n",
       "21                108.419998        7035.029785          0.0   \n",
       "22                 438.01001        6388.049805          0.0   \n",
       "\n",
       "    trade_receivables  cash_and_cash_equivalents  \\\n",
       "3                 0.0                        0.0   \n",
       "4                 0.0                        0.0   \n",
       "5                 0.0                        0.0   \n",
       "6               418.5                1299.400024   \n",
       "7                 0.0                        0.0   \n",
       "8               231.0                     1604.0   \n",
       "9                 0.0                        0.0   \n",
       "10        1178.290039                3465.899902   \n",
       "11         392.600006                 4034.72998   \n",
       "12         561.130005                3816.389893   \n",
       "13         400.140015                3623.949951   \n",
       "14          812.51001                3740.969971   \n",
       "15         391.149994                3340.600098   \n",
       "16         537.450012                 1919.27002   \n",
       "17         797.950012                 976.460022   \n",
       "18        7252.410156                7643.990234   \n",
       "19        5609.029785               14513.839844   \n",
       "20        4795.660156               16142.599609   \n",
       "21        2057.780029               19105.710938   \n",
       "22        2749.389893               22930.589844   \n",
       "\n",
       "    equity_shareholders_of_the_parent  ...  non_current_liabilities  \\\n",
       "3                              1221.0  ...                      0.0   \n",
       "4                              1595.0  ...                      0.0   \n",
       "5                              2060.0  ...                      0.0   \n",
       "6                          2560.97998  ...                      0.0   \n",
       "7                              3259.0  ...                      0.0   \n",
       "8                              3217.0  ...                      0.0   \n",
       "9                              6137.0  ...                      0.0   \n",
       "10                        6913.930176  ...                      0.0   \n",
       "11                        6971.109863  ...                      0.0   \n",
       "12                        7312.279785  ...                      0.0   \n",
       "13                        7007.700195  ...                      0.0   \n",
       "14                        7922.299805  ...                      0.0   \n",
       "15                        7391.859863  ...                      0.0   \n",
       "16                        6917.540039  ...                      0.0   \n",
       "17                        6735.029785  ...                      0.0   \n",
       "18                       17004.820312  ...              1105.630005   \n",
       "19                       21496.119141  ...               570.340027   \n",
       "20                       24626.470703  ...                      0.0   \n",
       "21                       26628.759766  ...                903.77002   \n",
       "22                       29851.810547  ...               570.340027   \n",
       "\n",
       "    current_liabilities  non_current_loans_and_borrowings  \\\n",
       "3                 110.0                               0.0   \n",
       "4                  64.0                               0.0   \n",
       "5                  81.0                               0.0   \n",
       "6            425.220001                               0.0   \n",
       "7                  76.0                               0.0   \n",
       "8                  74.0                               0.0   \n",
       "9                  93.0                               0.0   \n",
       "10           422.359985                               0.0   \n",
       "11           439.049988                               0.0   \n",
       "12           428.709991                               0.0   \n",
       "13           444.149994                               0.0   \n",
       "14           790.369995                               0.0   \n",
       "15           686.710022                               0.0   \n",
       "16           727.840027                               0.0   \n",
       "17           964.200012                               0.0   \n",
       "18          3405.409912                               0.0   \n",
       "19          5510.290039                               0.0   \n",
       "20           3201.97998                               0.0   \n",
       "21          1047.849976                               0.0   \n",
       "22          3473.370117                               0.0   \n",
       "\n",
       "    financial_liabilities_loans_borrowings  total_shares   file_name  \\\n",
       "3                                      0.0    1870.76001  11BIT.xlsx   \n",
       "4                                      0.0    1870.76001  11BIT.xlsx   \n",
       "5                                      0.0    1870.76001  11BIT.xlsx   \n",
       "6                                      0.0    1870.76001  11BIT.xlsx   \n",
       "7                                      0.0   1911.699951  11BIT.xlsx   \n",
       "8                                      0.0   1911.699951  11BIT.xlsx   \n",
       "9                                      0.0   2217.199951  11BIT.xlsx   \n",
       "10                                   -0.62   2217.199951  11BIT.xlsx   \n",
       "11                                     0.0   2217.199951  11BIT.xlsx   \n",
       "12                                     0.0   2217.199951  11BIT.xlsx   \n",
       "13                                     0.0   2217.199951  11BIT.xlsx   \n",
       "14                                     0.0   2217.199951  11BIT.xlsx   \n",
       "15                                     0.0   2217.199951  11BIT.xlsx   \n",
       "16                                     0.0   2217.199951  11BIT.xlsx   \n",
       "17                                     0.0   2217.199951  11BIT.xlsx   \n",
       "18                                     0.0   2217.199951  11BIT.xlsx   \n",
       "19                                     0.0   2217.199951  11BIT.xlsx   \n",
       "20                                     0.0   2217.199951  11BIT.xlsx   \n",
       "21                                     0.0   2217.199951  11BIT.xlsx   \n",
       "22                                     0.0   2217.199951  11BIT.xlsx   \n",
       "\n",
       "    ticker_x sector ticker_y     target  \n",
       "3        11B    gry      11B       7.54  \n",
       "4        11B    gry      11B       24.0  \n",
       "5        11B    gry      11B      14.95  \n",
       "6        11B    gry      11B       7.15  \n",
       "7        11B    gry      11B       9.83  \n",
       "8        11B    gry      11B      10.51  \n",
       "9        11B    gry      11B       9.31  \n",
       "10       11B    gry      11B       8.62  \n",
       "11       11B    gry      11B       8.52  \n",
       "12       11B    gry      11B      11.37  \n",
       "13       11B    gry      11B       9.03  \n",
       "14       11B    gry      11B       8.73  \n",
       "15       11B    gry      11B        9.3  \n",
       "16       11B    gry      11B      11.03  \n",
       "17       11B    gry      11B       12.2  \n",
       "18       11B    gry      11B      10.76  \n",
       "19       11B    gry      11B       71.5  \n",
       "20       11B    gry      11B       72.5  \n",
       "21       11B    gry      11B      67.18  \n",
       "22       11B    gry      11B  64.639999  \n",
       "\n",
       "[20 rows x 22 columns]"
      ]
     },
     "execution_count": 55,
     "metadata": {},
     "output_type": "execute_result"
    }
   ],
   "source": [
    "df.head(20)"
   ]
  },
  {
   "cell_type": "code",
   "execution_count": 56,
   "id": "39ee983c98154b13",
   "metadata": {
    "ExecuteTime": {
     "end_time": "2025-02-23T10:31:19.448Z",
     "start_time": "2025-02-23T10:31:19.444071Z"
    },
    "collapsed": false
   },
   "outputs": [],
   "source": [
    "df.drop(columns='ticker_y', inplace=True)\n",
    "df.rename(columns={'ticker_x': 'ticker'}, inplace=True)"
   ]
  },
  {
   "cell_type": "code",
   "execution_count": 57,
   "id": "f3d7d7524ca14a8e",
   "metadata": {
    "ExecuteTime": {
     "end_time": "2025-02-23T10:31:19.488518Z",
     "start_time": "2025-02-23T10:31:19.482100Z"
    }
   },
   "outputs": [
    {
     "name": "stdout",
     "output_type": "stream",
     "text": [
      "<class 'pandas.core.frame.DataFrame'>\n",
      "Index: 15495 entries, 3 to 19905\n",
      "Data columns (total 21 columns):\n",
      " #   Column                                  Non-Null Count  Dtype          \n",
      "---  ------                                  --------------  -----          \n",
      " 0   end_of_period                           15495 non-null  datetime64[s]  \n",
      " 1   total_assets                            15495 non-null  float[pyarrow] \n",
      " 2   non_current_assets                      15495 non-null  float[pyarrow] \n",
      " 3   current_assets                          15495 non-null  float[pyarrow] \n",
      " 4   property_plant_equipment                15495 non-null  float[pyarrow] \n",
      " 5   intangible_assets                       15495 non-null  float[pyarrow] \n",
      " 6   inventories                             15495 non-null  float[pyarrow] \n",
      " 7   trade_receivables                       15495 non-null  float[pyarrow] \n",
      " 8   cash_and_cash_equivalents               15495 non-null  float[pyarrow] \n",
      " 9   equity_shareholders_of_the_parent       15495 non-null  float[pyarrow] \n",
      " 10  share_capital                           15495 non-null  float[pyarrow] \n",
      " 11  retained_earning_accumulated_losses     15495 non-null  float[pyarrow] \n",
      " 12  non_current_liabilities                 15495 non-null  float[pyarrow] \n",
      " 13  current_liabilities                     15495 non-null  float[pyarrow] \n",
      " 14  non_current_loans_and_borrowings        15495 non-null  float[pyarrow] \n",
      " 15  financial_liabilities_loans_borrowings  15495 non-null  float[pyarrow] \n",
      " 16  total_shares                            15495 non-null  float[pyarrow] \n",
      " 17  file_name                               15495 non-null  string[pyarrow]\n",
      " 18  ticker                                  15495 non-null  string[pyarrow]\n",
      " 19  sector                                  15495 non-null  string[pyarrow]\n",
      " 20  target                                  15495 non-null  float[pyarrow] \n",
      "dtypes: datetime64[s](1), float[pyarrow](17), string[pyarrow](3)\n",
      "memory usage: 1.9 MB\n"
     ]
    }
   ],
   "source": [
    "df.info()"
   ]
  },
  {
   "cell_type": "markdown",
   "id": "173f8322bdff297e",
   "metadata": {},
   "source": [
    "### Adjusting Date columns to the same quarters\n",
    "\n",
    "move every 01, 02 to 03\n",
    "\n",
    "move every 04, 05 to 06\n",
    "\n",
    "move every 07, 08 to 09\n",
    "\n",
    "move every 10, 11 to 12\n",
    "\n",
    "to keep the same quarters per files"
   ]
  },
  {
   "cell_type": "code",
   "execution_count": 58,
   "id": "bd9836ac06d965a1",
   "metadata": {
    "ExecuteTime": {
     "end_time": "2025-02-23T10:31:19.594944Z",
     "start_time": "2025-02-23T10:31:19.537242Z"
    }
   },
   "outputs": [],
   "source": [
    "df['end_of_period'] = df['end_of_period'].apply(lambda x: pd.Timestamp(year=x.year,\n",
    "    month=(3 if x.month in [1, 2] else\n",
    "           6 if x.month in [4, 5] else\n",
    "           9 if x.month in [7, 8] else\n",
    "           12),\n",
    "    day=1))"
   ]
  },
  {
   "cell_type": "code",
   "execution_count": 59,
   "id": "71f8b8dbec545fdf",
   "metadata": {
    "ExecuteTime": {
     "end_time": "2025-02-23T10:31:19.753168Z",
     "start_time": "2025-02-23T10:31:19.624672Z"
    }
   },
   "outputs": [],
   "source": [
    "df.to_csv('../../data/processed/data.csv', index=False)"
   ]
  },
  {
   "cell_type": "code",
   "execution_count": 60,
   "id": "cf66f356d117297b",
   "metadata": {
    "ExecuteTime": {
     "end_time": "2025-02-23T10:31:20.178717Z",
     "start_time": "2025-02-23T10:31:19.789283Z"
    }
   },
   "outputs": [
    {
     "name": "stdout",
     "output_type": "stream",
     "text": [
      "File saved successfully: ../../data/missing_quarters_report.xlsx\n"
     ]
    }
   ],
   "source": [
    "company_id = 'ticker' if 'ticker' in df.columns else 'file_name'\n",
    "df[company_id] = df[company_id].astype(str)\n",
    "df['present'] = 1\n",
    "\n",
    "# Create a pivot table with companies as rows and end_of_period as columns.\n",
    "# Using aggfunc='max' ensures that if there is at least one record for that quarter, the value is 1.\n",
    "pivot_df = df.pivot_table(\n",
    "    index=company_id,\n",
    "    columns='end_of_period',\n",
    "    values='present',\n",
    "    aggfunc='max',\n",
    "    fill_value=0\n",
    ")\n",
    "pivot_df = pivot_df.reindex(fill_value=0)\n",
    "pivot_df = pivot_df.astype(int)\n",
    "\n",
    "file_path = '../../data/missing_quarters_report.xlsx'\n",
    "pivot_df.to_excel(file_path)\n",
    "print(f\"File saved successfully: {file_path}\")"
   ]
  }
 ],
 "metadata": {
  "kernelspec": {
   "display_name": ".venv",
   "language": "python",
   "name": "python3"
  },
  "language_info": {
   "codemirror_mode": {
    "name": "ipython",
    "version": 3
   },
   "file_extension": ".py",
   "mimetype": "text/x-python",
   "name": "python",
   "nbconvert_exporter": "python",
   "pygments_lexer": "ipython3",
   "version": "3.13.2"
  }
 },
 "nbformat": 4,
 "nbformat_minor": 5
}
