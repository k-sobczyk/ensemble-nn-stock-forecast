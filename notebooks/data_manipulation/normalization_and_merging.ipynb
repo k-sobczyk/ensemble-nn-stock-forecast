{
 "cells": [
  {
   "cell_type": "markdown",
   "source": [
    "# DATA PREPARATION PART 1"
   ],
   "metadata": {
    "collapsed": false
   },
   "id": "8e24134b0684d92e"
  },
  {
   "cell_type": "code",
   "source": [
    "import pandas as pd\n",
    "import pyarrow as pa"
   ],
   "metadata": {
    "collapsed": false,
    "ExecuteTime": {
     "end_time": "2025-02-22T17:18:06.571481Z",
     "start_time": "2025-02-22T17:18:06.565060Z"
    }
   },
   "id": "96c32f94c1db55b0",
   "outputs": [],
   "execution_count": 323
  },
  {
   "cell_type": "markdown",
   "source": [
    "## General Company Info Cleaning"
   ],
   "metadata": {
    "collapsed": false
   },
   "id": "69b7a8349040b4f6"
  },
  {
   "cell_type": "code",
   "source": [
    "df_general = pd.read_csv('../../data/processed/general_company_info.csv')"
   ],
   "metadata": {
    "collapsed": false,
    "ExecuteTime": {
     "end_time": "2025-02-22T17:18:06.588142Z",
     "start_time": "2025-02-22T17:18:06.577647Z"
    }
   },
   "id": "89d96196b7aa677d",
   "outputs": [],
   "execution_count": 324
  },
  {
   "cell_type": "code",
   "source": [
    "rename = {\n",
    "    \"Name\":      \"company_name\",\n",
    "    \"TICKER\":    \"ticker\",\n",
    "    \"Sector\":    \"sector\",\n",
    "    \"File_Name\": \"file_name\"\n",
    "}\n",
    "dtypes = {\n",
    "    \"company_name\": pd.ArrowDtype(pa.string()),\n",
    "    \"ticker\":       pd.ArrowDtype(pa.string()),\n",
    "    \"sector\":       pd.ArrowDtype(pa.string()),\n",
    "    \"file_name\":    pd.ArrowDtype(pa.string())\n",
    "}\n",
    "\n",
    "# Rename the columns\n",
    "df_general = df_general.rename(columns=rename)\n",
    "# Apply the specified data types\n",
    "df_general = df_general.astype(dtypes)"
   ],
   "metadata": {
    "collapsed": false,
    "ExecuteTime": {
     "end_time": "2025-02-22T17:18:06.631118Z",
     "start_time": "2025-02-22T17:18:06.626604Z"
    }
   },
   "id": "6aeb37c9bca01be7",
   "outputs": [],
   "execution_count": 325
  },
  {
   "cell_type": "code",
   "source": [
    "df_general.info()"
   ],
   "metadata": {
    "collapsed": false,
    "ExecuteTime": {
     "end_time": "2025-02-22T17:18:06.669611Z",
     "start_time": "2025-02-22T17:18:06.662852Z"
    }
   },
   "id": "2b4082ecc1e2d3ad",
   "outputs": [
    {
     "name": "stdout",
     "output_type": "stream",
     "text": [
      "<class 'pandas.core.frame.DataFrame'>\n",
      "RangeIndex: 349 entries, 0 to 348\n",
      "Data columns (total 4 columns):\n",
      " #   Column        Non-Null Count  Dtype          \n",
      "---  ------        --------------  -----          \n",
      " 0   company_name  349 non-null    string[pyarrow]\n",
      " 1   ticker        349 non-null    string[pyarrow]\n",
      " 2   sector        349 non-null    string[pyarrow]\n",
      " 3   file_name     349 non-null    string[pyarrow]\n",
      "dtypes: string[pyarrow](4)\n",
      "memory usage: 21.2 KB\n"
     ]
    }
   ],
   "execution_count": 326
  },
  {
   "cell_type": "code",
   "source": [
    "df_general.head(3)"
   ],
   "metadata": {
    "collapsed": false,
    "ExecuteTime": {
     "end_time": "2025-02-22T17:18:06.709107Z",
     "start_time": "2025-02-22T17:18:06.702705Z"
    }
   },
   "id": "3733a31fb5c2102a",
   "outputs": [
    {
     "data": {
      "text/plain": [
       "        company_name   ticker  sector     file_name\n",
       "0  11 bit studios SA      11B     gry    11BIT.xlsx\n",
       "1             3LP SA  3LP_IPO  handel    3LPSA.xlsx\n",
       "2        3R Games SA      3RG     gry  3RGAMES.xlsx"
      ],
      "text/html": [
       "<div>\n",
       "<style scoped>\n",
       "    .dataframe tbody tr th:only-of-type {\n",
       "        vertical-align: middle;\n",
       "    }\n",
       "\n",
       "    .dataframe tbody tr th {\n",
       "        vertical-align: top;\n",
       "    }\n",
       "\n",
       "    .dataframe thead th {\n",
       "        text-align: right;\n",
       "    }\n",
       "</style>\n",
       "<table border=\"1\" class=\"dataframe\">\n",
       "  <thead>\n",
       "    <tr style=\"text-align: right;\">\n",
       "      <th></th>\n",
       "      <th>company_name</th>\n",
       "      <th>ticker</th>\n",
       "      <th>sector</th>\n",
       "      <th>file_name</th>\n",
       "    </tr>\n",
       "  </thead>\n",
       "  <tbody>\n",
       "    <tr>\n",
       "      <th>0</th>\n",
       "      <td>11 bit studios SA</td>\n",
       "      <td>11B</td>\n",
       "      <td>gry</td>\n",
       "      <td>11BIT.xlsx</td>\n",
       "    </tr>\n",
       "    <tr>\n",
       "      <th>1</th>\n",
       "      <td>3LP SA</td>\n",
       "      <td>3LP_IPO</td>\n",
       "      <td>handel</td>\n",
       "      <td>3LPSA.xlsx</td>\n",
       "    </tr>\n",
       "    <tr>\n",
       "      <th>2</th>\n",
       "      <td>3R Games SA</td>\n",
       "      <td>3RG</td>\n",
       "      <td>gry</td>\n",
       "      <td>3RGAMES.xlsx</td>\n",
       "    </tr>\n",
       "  </tbody>\n",
       "</table>\n",
       "</div>"
      ]
     },
     "execution_count": 327,
     "metadata": {},
     "output_type": "execute_result"
    }
   ],
   "execution_count": 327
  },
  {
   "cell_type": "markdown",
   "source": [
    "## Stooq Data Cleaning"
   ],
   "metadata": {
    "collapsed": false
   },
   "id": "79e38b66b04a0b88"
  },
  {
   "cell_type": "code",
   "source": [
    "df_market_value = pd.read_csv('../../data/processed/stooq_data.csv')"
   ],
   "metadata": {
    "collapsed": false,
    "ExecuteTime": {
     "end_time": "2025-02-22T17:18:07.820141Z",
     "start_time": "2025-02-22T17:18:06.761140Z"
    }
   },
   "id": "ac770d9c23eb853c",
   "outputs": [],
   "execution_count": 328
  },
  {
   "cell_type": "code",
   "source": [
    "df_market_value.isnull().sum()"
   ],
   "metadata": {
    "collapsed": false,
    "ExecuteTime": {
     "end_time": "2025-02-22T17:18:07.993968Z",
     "start_time": "2025-02-22T17:18:07.849692Z"
    }
   },
   "id": "6a069167e7b627df",
   "outputs": [
    {
     "data": {
      "text/plain": [
       "TICKER     0\n",
       "PER        0\n",
       "DATE       0\n",
       "TIME       0\n",
       "OPEN       0\n",
       "HIGH       0\n",
       "LOW        0\n",
       "CLOSE      0\n",
       "VOL        0\n",
       "OPENINT    0\n",
       "target     0\n",
       "dtype: int64"
      ]
     },
     "execution_count": 329,
     "metadata": {},
     "output_type": "execute_result"
    }
   ],
   "execution_count": 329
  },
  {
   "cell_type": "code",
   "source": [
    "df_market_value.info()"
   ],
   "metadata": {
    "collapsed": false,
    "ExecuteTime": {
     "end_time": "2025-02-22T17:18:08.181827Z",
     "start_time": "2025-02-22T17:18:08.021696Z"
    }
   },
   "id": "c2b6023a0b0b8ef8",
   "outputs": [
    {
     "name": "stdout",
     "output_type": "stream",
     "text": [
      "<class 'pandas.core.frame.DataFrame'>\n",
      "RangeIndex: 1594620 entries, 0 to 1594619\n",
      "Data columns (total 11 columns):\n",
      " #   Column   Non-Null Count    Dtype  \n",
      "---  ------   --------------    -----  \n",
      " 0   TICKER   1594620 non-null  object \n",
      " 1   PER      1594620 non-null  object \n",
      " 2   DATE     1594620 non-null  object \n",
      " 3   TIME     1594620 non-null  int64  \n",
      " 4   OPEN     1594620 non-null  float64\n",
      " 5   HIGH     1594620 non-null  float64\n",
      " 6   LOW      1594620 non-null  float64\n",
      " 7   CLOSE    1594620 non-null  float64\n",
      " 8   VOL      1594620 non-null  float64\n",
      " 9   OPENINT  1594620 non-null  int64  \n",
      " 10  target   1594620 non-null  float64\n",
      "dtypes: float64(6), int64(2), object(3)\n",
      "memory usage: 133.8+ MB\n"
     ]
    }
   ],
   "execution_count": 330
  },
  {
   "cell_type": "code",
   "source": [
    "rename = {\n",
    "    \"TICKER\": \"ticker\",\n",
    "    \"DATE\": \"end_of_period\",\n",
    "}"
   ],
   "metadata": {
    "collapsed": false,
    "ExecuteTime": {
     "end_time": "2025-02-22T17:18:08.207713Z",
     "start_time": "2025-02-22T17:18:08.204601Z"
    }
   },
   "id": "77cd5483eb14f307",
   "outputs": [],
   "execution_count": 331
  },
  {
   "cell_type": "code",
   "source": [
    "df_market_value = df_market_value.rename(columns=rename)"
   ],
   "metadata": {
    "collapsed": false,
    "ExecuteTime": {
     "end_time": "2025-02-22T17:18:08.290335Z",
     "start_time": "2025-02-22T17:18:08.220173Z"
    }
   },
   "id": "3933f33ab6086736",
   "outputs": [],
   "execution_count": 332
  },
  {
   "cell_type": "code",
   "source": [
    "df_market_value = df_market_value[['ticker', 'end_of_period', 'target']]"
   ],
   "metadata": {
    "collapsed": false,
    "ExecuteTime": {
     "end_time": "2025-02-22T17:18:08.365477Z",
     "start_time": "2025-02-22T17:18:08.331321Z"
    }
   },
   "id": "e643380e972b3fc0",
   "outputs": [],
   "execution_count": 333
  },
  {
   "cell_type": "code",
   "source": [
    "dtypes = {\n",
    "    \"ticker\":        pd.ArrowDtype(pa.string()),\n",
    "    \"end_of_period\": \"datetime64[s]\",\n",
    "    \"target\":        \"float32[pyarrow]\"\n",
    "}"
   ],
   "metadata": {
    "collapsed": false,
    "ExecuteTime": {
     "end_time": "2025-02-22T17:18:08.406292Z",
     "start_time": "2025-02-22T17:18:08.403354Z"
    }
   },
   "id": "ebbb8abf81014cb1",
   "outputs": [],
   "execution_count": 334
  },
  {
   "cell_type": "code",
   "source": [
    "df_market_value = df_market_value.astype(dtypes)"
   ],
   "metadata": {
    "collapsed": false,
    "ExecuteTime": {
     "end_time": "2025-02-22T17:18:09.078091Z",
     "start_time": "2025-02-22T17:18:08.445827Z"
    }
   },
   "id": "ca91e885505e73f2",
   "outputs": [],
   "execution_count": 335
  },
  {
   "cell_type": "code",
   "source": [
    "df_market_value.info()"
   ],
   "metadata": {
    "collapsed": false,
    "ExecuteTime": {
     "end_time": "2025-02-22T17:18:09.119227Z",
     "start_time": "2025-02-22T17:18:09.108351Z"
    }
   },
   "id": "b73df7ddbc6b80ee",
   "outputs": [
    {
     "name": "stdout",
     "output_type": "stream",
     "text": [
      "<class 'pandas.core.frame.DataFrame'>\n",
      "RangeIndex: 1594620 entries, 0 to 1594619\n",
      "Data columns (total 3 columns):\n",
      " #   Column         Non-Null Count    Dtype          \n",
      "---  ------         --------------    -----          \n",
      " 0   ticker         1594620 non-null  string[pyarrow]\n",
      " 1   end_of_period  1594620 non-null  datetime64[s]  \n",
      " 2   target         1594620 non-null  float[pyarrow] \n",
      "dtypes: datetime64[s](1), float[pyarrow](1), string[pyarrow](1)\n",
      "memory usage: 28.9 MB\n"
     ]
    }
   ],
   "execution_count": 336
  },
  {
   "cell_type": "code",
   "source": [
    "df_market_value.head(3)"
   ],
   "metadata": {
    "collapsed": false,
    "ExecuteTime": {
     "end_time": "2025-02-22T17:18:09.154899Z",
     "start_time": "2025-02-22T17:18:09.148432Z"
    }
   },
   "id": "4b082eb71b28b56f",
   "outputs": [
    {
     "data": {
      "text/plain": [
       "  ticker end_of_period     target\n",
       "0    06N    1997-06-12  85.848999\n",
       "1    06N    1997-06-13     90.764\n",
       "2    06N    1997-06-16  86.667999"
      ],
      "text/html": [
       "<div>\n",
       "<style scoped>\n",
       "    .dataframe tbody tr th:only-of-type {\n",
       "        vertical-align: middle;\n",
       "    }\n",
       "\n",
       "    .dataframe tbody tr th {\n",
       "        vertical-align: top;\n",
       "    }\n",
       "\n",
       "    .dataframe thead th {\n",
       "        text-align: right;\n",
       "    }\n",
       "</style>\n",
       "<table border=\"1\" class=\"dataframe\">\n",
       "  <thead>\n",
       "    <tr style=\"text-align: right;\">\n",
       "      <th></th>\n",
       "      <th>ticker</th>\n",
       "      <th>end_of_period</th>\n",
       "      <th>target</th>\n",
       "    </tr>\n",
       "  </thead>\n",
       "  <tbody>\n",
       "    <tr>\n",
       "      <th>0</th>\n",
       "      <td>06N</td>\n",
       "      <td>1997-06-12</td>\n",
       "      <td>85.848999</td>\n",
       "    </tr>\n",
       "    <tr>\n",
       "      <th>1</th>\n",
       "      <td>06N</td>\n",
       "      <td>1997-06-13</td>\n",
       "      <td>90.764</td>\n",
       "    </tr>\n",
       "    <tr>\n",
       "      <th>2</th>\n",
       "      <td>06N</td>\n",
       "      <td>1997-06-16</td>\n",
       "      <td>86.667999</td>\n",
       "    </tr>\n",
       "  </tbody>\n",
       "</table>\n",
       "</div>"
      ]
     },
     "execution_count": 337,
     "metadata": {},
     "output_type": "execute_result"
    }
   ],
   "execution_count": 337
  },
  {
   "cell_type": "markdown",
   "source": [
    "## Detailed Company Info Cleaning"
   ],
   "metadata": {
    "collapsed": false
   },
   "id": "b0f941a97e3b43a8"
  },
  {
   "cell_type": "code",
   "source": [
    "df_detailed = pd.read_csv('../../data/processed/details_company_info.csv')"
   ],
   "metadata": {
    "collapsed": false,
    "ExecuteTime": {
     "end_time": "2025-02-22T17:18:09.298570Z",
     "start_time": "2025-02-22T17:18:09.269439Z"
    }
   },
   "id": "4998f9a589a8e1e6",
   "outputs": [],
   "execution_count": 338
  },
  {
   "cell_type": "code",
   "source": [
    "rename = {\n",
    "    \"date\":     \"end_of_period\",\n",
    "    \"filename\": \"file_name\",\n",
    "    \"assets\":   \"total_assets\"\n",
    "}\n",
    "\n",
    "dtypes = {\n",
    "    \"end_of_period\":                          \"datetime64[s]\",\n",
    "    \"total_assets\":                           \"float32[pyarrow]\",\n",
    "    \"non_current_assets\":                     \"float32[pyarrow]\",\n",
    "    \"current_assets\":                         \"float32[pyarrow]\",\n",
    "    \"property_plant_equipment\":               \"float32[pyarrow]\",\n",
    "    \"intangible_assets\":                      \"float32[pyarrow]\",\n",
    "    \"inventories\":                            \"float32[pyarrow]\",\n",
    "    \"trade_receivables\":                      \"float32[pyarrow]\",\n",
    "    \"cash_and_cash_equivalents\":              \"float32[pyarrow]\",\n",
    "    \"equity_shareholders_of_the_parent\":      \"float32[pyarrow]\",\n",
    "    \"share_capital\":                          \"float32[pyarrow]\",\n",
    "    \"retained_earning_accumulated_losses\":    \"float32[pyarrow]\",\n",
    "    \"non_current_liabilities\":                \"float32[pyarrow]\",\n",
    "    \"current_liabilities\":                    \"float32[pyarrow]\",\n",
    "    \"non_current_loans_and_borrowings\":       \"float32[pyarrow]\",\n",
    "    \"financial_liabilities_loans_borrowings\": \"float32[pyarrow]\",\n",
    "    \"total_shares\":                           \"float32[pyarrow]\",\n",
    "    \"file_name\":                              pd.ArrowDtype(pa.string())\n",
    "}"
   ],
   "metadata": {
    "collapsed": false,
    "ExecuteTime": {
     "end_time": "2025-02-22T17:18:09.340599Z",
     "start_time": "2025-02-22T17:18:09.337671Z"
    }
   },
   "id": "4b8de28187fb8bc1",
   "outputs": [],
   "execution_count": 339
  },
  {
   "cell_type": "code",
   "source": [
    "# Rename the columns\n",
    "df_detailed = df_detailed.rename(columns=rename)\n",
    "\n",
    "# Apply the specified data types\n",
    "df_detailed = df_detailed.astype(dtypes)"
   ],
   "metadata": {
    "collapsed": false,
    "ExecuteTime": {
     "end_time": "2025-02-22T17:18:09.410075Z",
     "start_time": "2025-02-22T17:18:09.393661Z"
    }
   },
   "id": "b32efe9db9e8d8de",
   "outputs": [],
   "execution_count": 340
  },
  {
   "cell_type": "markdown",
   "source": [
    "## Merging into one dataframe"
   ],
   "metadata": {
    "collapsed": false
   },
   "id": "a92f9b1d38ad9507"
  },
  {
   "metadata": {
    "ExecuteTime": {
     "end_time": "2025-02-22T17:18:09.450227Z",
     "start_time": "2025-02-22T17:18:09.442392Z"
    }
   },
   "cell_type": "code",
   "source": "df_detailed.info()",
   "id": "c596ac4f0b2c032d",
   "outputs": [
    {
     "name": "stdout",
     "output_type": "stream",
     "text": [
      "<class 'pandas.core.frame.DataFrame'>\n",
      "RangeIndex: 19906 entries, 0 to 19905\n",
      "Data columns (total 18 columns):\n",
      " #   Column                                  Non-Null Count  Dtype          \n",
      "---  ------                                  --------------  -----          \n",
      " 0   end_of_period                           19906 non-null  datetime64[s]  \n",
      " 1   total_assets                            18995 non-null  float[pyarrow] \n",
      " 2   non_current_assets                      18859 non-null  float[pyarrow] \n",
      " 3   current_assets                          18929 non-null  float[pyarrow] \n",
      " 4   property_plant_equipment                18215 non-null  float[pyarrow] \n",
      " 5   intangible_assets                       17381 non-null  float[pyarrow] \n",
      " 6   inventories                             16529 non-null  float[pyarrow] \n",
      " 7   trade_receivables                       18741 non-null  float[pyarrow] \n",
      " 8   cash_and_cash_equivalents               18696 non-null  float[pyarrow] \n",
      " 9   equity_shareholders_of_the_parent       19004 non-null  float[pyarrow] \n",
      " 10  share_capital                           18907 non-null  float[pyarrow] \n",
      " 11  retained_earning_accumulated_losses     18774 non-null  float[pyarrow] \n",
      " 12  non_current_liabilities                 18404 non-null  float[pyarrow] \n",
      " 13  current_liabilities                     18973 non-null  float[pyarrow] \n",
      " 14  non_current_loans_and_borrowings        11242 non-null  float[pyarrow] \n",
      " 15  financial_liabilities_loans_borrowings  11677 non-null  float[pyarrow] \n",
      " 16  total_shares                            19906 non-null  float[pyarrow] \n",
      " 17  file_name                               19906 non-null  string[pyarrow]\n",
      "dtypes: datetime64[s](1), float[pyarrow](16), string[pyarrow](1)\n",
      "memory usage: 1.7 MB\n"
     ]
    }
   ],
   "execution_count": 341
  },
  {
   "metadata": {
    "ExecuteTime": {
     "end_time": "2025-02-22T17:18:09.492179Z",
     "start_time": "2025-02-22T17:18:09.480431Z"
    }
   },
   "cell_type": "code",
   "source": "df_market_value.info()",
   "id": "22dfaaf1acbbd5e4",
   "outputs": [
    {
     "name": "stdout",
     "output_type": "stream",
     "text": [
      "<class 'pandas.core.frame.DataFrame'>\n",
      "RangeIndex: 1594620 entries, 0 to 1594619\n",
      "Data columns (total 3 columns):\n",
      " #   Column         Non-Null Count    Dtype          \n",
      "---  ------         --------------    -----          \n",
      " 0   ticker         1594620 non-null  string[pyarrow]\n",
      " 1   end_of_period  1594620 non-null  datetime64[s]  \n",
      " 2   target         1594620 non-null  float[pyarrow] \n",
      "dtypes: datetime64[s](1), float[pyarrow](1), string[pyarrow](1)\n",
      "memory usage: 28.9 MB\n"
     ]
    }
   ],
   "execution_count": 342
  },
  {
   "metadata": {
    "ExecuteTime": {
     "end_time": "2025-02-22T17:18:09.534370Z",
     "start_time": "2025-02-22T17:18:09.525169Z"
    }
   },
   "cell_type": "code",
   "source": "df_general.info()",
   "id": "14dc73959427062c",
   "outputs": [
    {
     "name": "stdout",
     "output_type": "stream",
     "text": [
      "<class 'pandas.core.frame.DataFrame'>\n",
      "RangeIndex: 349 entries, 0 to 348\n",
      "Data columns (total 4 columns):\n",
      " #   Column        Non-Null Count  Dtype          \n",
      "---  ------        --------------  -----          \n",
      " 0   company_name  349 non-null    string[pyarrow]\n",
      " 1   ticker        349 non-null    string[pyarrow]\n",
      " 2   sector        349 non-null    string[pyarrow]\n",
      " 3   file_name     349 non-null    string[pyarrow]\n",
      "dtypes: string[pyarrow](4)\n",
      "memory usage: 21.2 KB\n"
     ]
    }
   ],
   "execution_count": 343
  },
  {
   "metadata": {
    "ExecuteTime": {
     "end_time": "2025-02-22T17:18:14.544841Z",
     "start_time": "2025-02-22T17:18:09.575321Z"
    }
   },
   "cell_type": "code",
   "source": [
    "df_detailed = df_detailed.merge(df_general[['file_name', 'ticker']], how='left', on='file_name')\n",
    "merged_groups = []\n",
    "\n",
    "# Group by ticker and apply merge_asof within each group\n",
    "for ticker, group in df_detailed.groupby('ticker'):\n",
    "    # Sort each group by end_of_period\n",
    "    group = group.sort_values('end_of_period')\n",
    "    # Get the corresponding market value rows for this ticker and sort them\n",
    "    market_group = df_market_value[df_market_value['ticker'] == ticker].sort_values('end_of_period')\n",
    "\n",
    "    # Perform merge_asof on this group with a tolerance of ±7 days\n",
    "    merged = pd.merge_asof(\n",
    "        group,\n",
    "        market_group,\n",
    "        on='end_of_period',\n",
    "        direction='nearest',\n",
    "        tolerance=pd.Timedelta(days=7)\n",
    "    )\n",
    "    merged_groups.append(merged)\n",
    "\n",
    "df_merged = pd.concat(merged_groups, ignore_index=True)\n",
    "\n",
    "df_merged = df_merged.dropna(subset=['end_of_period', 'target', 'total_assets', 'current_assets', 'non_current_assets'])\n",
    "df_merged = df_merged.fillna(0)\n",
    "\n",
    "df = df_merged.copy()"
   ],
   "id": "979e74645ec63e8b",
   "outputs": [],
   "execution_count": 344
  },
  {
   "cell_type": "code",
   "source": [
    "df.shape"
   ],
   "metadata": {
    "collapsed": false,
    "ExecuteTime": {
     "end_time": "2025-02-22T17:18:14.583895Z",
     "start_time": "2025-02-22T17:18:14.578388Z"
    }
   },
   "id": "b4ffa24dbfc2dcd0",
   "outputs": [
    {
     "data": {
      "text/plain": [
       "(15495, 21)"
      ]
     },
     "execution_count": 345,
     "metadata": {},
     "output_type": "execute_result"
    }
   ],
   "execution_count": 345
  },
  {
   "cell_type": "code",
   "source": "df = df.round(2)",
   "metadata": {
    "collapsed": false,
    "ExecuteTime": {
     "end_time": "2025-02-22T17:18:14.619804Z",
     "start_time": "2025-02-22T17:18:14.614790Z"
    }
   },
   "id": "d21e808ba0a39315",
   "outputs": [],
   "execution_count": 346
  },
  {
   "cell_type": "code",
   "source": [
    "df.head(5)"
   ],
   "metadata": {
    "collapsed": false,
    "ExecuteTime": {
     "end_time": "2025-02-22T17:18:14.662928Z",
     "start_time": "2025-02-22T17:18:14.651589Z"
    }
   },
   "id": "ca08b7d29e329c8d",
   "outputs": [
    {
     "data": {
      "text/plain": [
       "  end_of_period  total_assets  non_current_assets  current_assets  \\\n",
       "3    2011-01-01        1342.0                86.0          1256.0   \n",
       "4    2011-04-01        1659.0               103.0          1556.0   \n",
       "5    2011-07-01        2141.0                85.0          2055.0   \n",
       "6    2011-10-01   2986.189941           86.870003     2899.310059   \n",
       "7    2012-01-01        3473.0                51.0          3422.0   \n",
       "\n",
       "   property_plant_equipment  intangible_assets  inventories  \\\n",
       "3                       0.0                0.0          0.0   \n",
       "4                       0.0                0.0          0.0   \n",
       "5                       0.0                0.0          0.0   \n",
       "6                       0.0              53.73   1109.48999   \n",
       "7                       0.0                0.0          0.0   \n",
       "\n",
       "   trade_receivables  cash_and_cash_equivalents  \\\n",
       "3                0.0                        0.0   \n",
       "4                0.0                        0.0   \n",
       "5                0.0                        0.0   \n",
       "6              418.5                1299.400024   \n",
       "7                0.0                        0.0   \n",
       "\n",
       "   equity_shareholders_of_the_parent  ...  \\\n",
       "3                             1221.0  ...   \n",
       "4                             1595.0  ...   \n",
       "5                             2060.0  ...   \n",
       "6                         2560.97998  ...   \n",
       "7                             3259.0  ...   \n",
       "\n",
       "   retained_earning_accumulated_losses  non_current_liabilities  \\\n",
       "3                                  0.0                      0.0   \n",
       "4                                  0.0                      0.0   \n",
       "5                                  0.0                      0.0   \n",
       "6                          1061.579956                      0.0   \n",
       "7                                  0.0                      0.0   \n",
       "\n",
       "   current_liabilities  non_current_loans_and_borrowings  \\\n",
       "3                110.0                               0.0   \n",
       "4                 64.0                               0.0   \n",
       "5                 81.0                               0.0   \n",
       "6           425.220001                               0.0   \n",
       "7                 76.0                               0.0   \n",
       "\n",
       "   financial_liabilities_loans_borrowings  total_shares   file_name ticker_x  \\\n",
       "3                                     0.0    1870.76001  11BIT.xlsx      11B   \n",
       "4                                     0.0    1870.76001  11BIT.xlsx      11B   \n",
       "5                                     0.0    1870.76001  11BIT.xlsx      11B   \n",
       "6                                     0.0    1870.76001  11BIT.xlsx      11B   \n",
       "7                                     0.0   1911.699951  11BIT.xlsx      11B   \n",
       "\n",
       "  ticker_y target  \n",
       "3      11B   7.54  \n",
       "4      11B   24.0  \n",
       "5      11B  14.95  \n",
       "6      11B   7.15  \n",
       "7      11B   9.83  \n",
       "\n",
       "[5 rows x 21 columns]"
      ],
      "text/html": [
       "<div>\n",
       "<style scoped>\n",
       "    .dataframe tbody tr th:only-of-type {\n",
       "        vertical-align: middle;\n",
       "    }\n",
       "\n",
       "    .dataframe tbody tr th {\n",
       "        vertical-align: top;\n",
       "    }\n",
       "\n",
       "    .dataframe thead th {\n",
       "        text-align: right;\n",
       "    }\n",
       "</style>\n",
       "<table border=\"1\" class=\"dataframe\">\n",
       "  <thead>\n",
       "    <tr style=\"text-align: right;\">\n",
       "      <th></th>\n",
       "      <th>end_of_period</th>\n",
       "      <th>total_assets</th>\n",
       "      <th>non_current_assets</th>\n",
       "      <th>current_assets</th>\n",
       "      <th>property_plant_equipment</th>\n",
       "      <th>intangible_assets</th>\n",
       "      <th>inventories</th>\n",
       "      <th>trade_receivables</th>\n",
       "      <th>cash_and_cash_equivalents</th>\n",
       "      <th>equity_shareholders_of_the_parent</th>\n",
       "      <th>...</th>\n",
       "      <th>retained_earning_accumulated_losses</th>\n",
       "      <th>non_current_liabilities</th>\n",
       "      <th>current_liabilities</th>\n",
       "      <th>non_current_loans_and_borrowings</th>\n",
       "      <th>financial_liabilities_loans_borrowings</th>\n",
       "      <th>total_shares</th>\n",
       "      <th>file_name</th>\n",
       "      <th>ticker_x</th>\n",
       "      <th>ticker_y</th>\n",
       "      <th>target</th>\n",
       "    </tr>\n",
       "  </thead>\n",
       "  <tbody>\n",
       "    <tr>\n",
       "      <th>3</th>\n",
       "      <td>2011-01-01</td>\n",
       "      <td>1342.0</td>\n",
       "      <td>86.0</td>\n",
       "      <td>1256.0</td>\n",
       "      <td>0.0</td>\n",
       "      <td>0.0</td>\n",
       "      <td>0.0</td>\n",
       "      <td>0.0</td>\n",
       "      <td>0.0</td>\n",
       "      <td>1221.0</td>\n",
       "      <td>...</td>\n",
       "      <td>0.0</td>\n",
       "      <td>0.0</td>\n",
       "      <td>110.0</td>\n",
       "      <td>0.0</td>\n",
       "      <td>0.0</td>\n",
       "      <td>1870.76001</td>\n",
       "      <td>11BIT.xlsx</td>\n",
       "      <td>11B</td>\n",
       "      <td>11B</td>\n",
       "      <td>7.54</td>\n",
       "    </tr>\n",
       "    <tr>\n",
       "      <th>4</th>\n",
       "      <td>2011-04-01</td>\n",
       "      <td>1659.0</td>\n",
       "      <td>103.0</td>\n",
       "      <td>1556.0</td>\n",
       "      <td>0.0</td>\n",
       "      <td>0.0</td>\n",
       "      <td>0.0</td>\n",
       "      <td>0.0</td>\n",
       "      <td>0.0</td>\n",
       "      <td>1595.0</td>\n",
       "      <td>...</td>\n",
       "      <td>0.0</td>\n",
       "      <td>0.0</td>\n",
       "      <td>64.0</td>\n",
       "      <td>0.0</td>\n",
       "      <td>0.0</td>\n",
       "      <td>1870.76001</td>\n",
       "      <td>11BIT.xlsx</td>\n",
       "      <td>11B</td>\n",
       "      <td>11B</td>\n",
       "      <td>24.0</td>\n",
       "    </tr>\n",
       "    <tr>\n",
       "      <th>5</th>\n",
       "      <td>2011-07-01</td>\n",
       "      <td>2141.0</td>\n",
       "      <td>85.0</td>\n",
       "      <td>2055.0</td>\n",
       "      <td>0.0</td>\n",
       "      <td>0.0</td>\n",
       "      <td>0.0</td>\n",
       "      <td>0.0</td>\n",
       "      <td>0.0</td>\n",
       "      <td>2060.0</td>\n",
       "      <td>...</td>\n",
       "      <td>0.0</td>\n",
       "      <td>0.0</td>\n",
       "      <td>81.0</td>\n",
       "      <td>0.0</td>\n",
       "      <td>0.0</td>\n",
       "      <td>1870.76001</td>\n",
       "      <td>11BIT.xlsx</td>\n",
       "      <td>11B</td>\n",
       "      <td>11B</td>\n",
       "      <td>14.95</td>\n",
       "    </tr>\n",
       "    <tr>\n",
       "      <th>6</th>\n",
       "      <td>2011-10-01</td>\n",
       "      <td>2986.189941</td>\n",
       "      <td>86.870003</td>\n",
       "      <td>2899.310059</td>\n",
       "      <td>0.0</td>\n",
       "      <td>53.73</td>\n",
       "      <td>1109.48999</td>\n",
       "      <td>418.5</td>\n",
       "      <td>1299.400024</td>\n",
       "      <td>2560.97998</td>\n",
       "      <td>...</td>\n",
       "      <td>1061.579956</td>\n",
       "      <td>0.0</td>\n",
       "      <td>425.220001</td>\n",
       "      <td>0.0</td>\n",
       "      <td>0.0</td>\n",
       "      <td>1870.76001</td>\n",
       "      <td>11BIT.xlsx</td>\n",
       "      <td>11B</td>\n",
       "      <td>11B</td>\n",
       "      <td>7.15</td>\n",
       "    </tr>\n",
       "    <tr>\n",
       "      <th>7</th>\n",
       "      <td>2012-01-01</td>\n",
       "      <td>3473.0</td>\n",
       "      <td>51.0</td>\n",
       "      <td>3422.0</td>\n",
       "      <td>0.0</td>\n",
       "      <td>0.0</td>\n",
       "      <td>0.0</td>\n",
       "      <td>0.0</td>\n",
       "      <td>0.0</td>\n",
       "      <td>3259.0</td>\n",
       "      <td>...</td>\n",
       "      <td>0.0</td>\n",
       "      <td>0.0</td>\n",
       "      <td>76.0</td>\n",
       "      <td>0.0</td>\n",
       "      <td>0.0</td>\n",
       "      <td>1911.699951</td>\n",
       "      <td>11BIT.xlsx</td>\n",
       "      <td>11B</td>\n",
       "      <td>11B</td>\n",
       "      <td>9.83</td>\n",
       "    </tr>\n",
       "  </tbody>\n",
       "</table>\n",
       "<p>5 rows × 21 columns</p>\n",
       "</div>"
      ]
     },
     "execution_count": 347,
     "metadata": {},
     "output_type": "execute_result"
    }
   ],
   "execution_count": 347
  },
  {
   "cell_type": "code",
   "source": [
    "df.to_csv('../../data/processed/data.csv')"
   ],
   "metadata": {
    "collapsed": false,
    "ExecuteTime": {
     "end_time": "2025-02-22T17:18:14.856229Z",
     "start_time": "2025-02-22T17:18:14.713683Z"
    }
   },
   "id": "39ee983c98154b13",
   "outputs": [],
   "execution_count": 348
  }
 ],
 "metadata": {
  "kernelspec": {
   "display_name": "Python 3",
   "language": "python",
   "name": "python3"
  },
  "language_info": {
   "codemirror_mode": {
    "name": "ipython",
    "version": 2
   },
   "file_extension": ".py",
   "mimetype": "text/x-python",
   "name": "python",
   "nbconvert_exporter": "python",
   "pygments_lexer": "ipython2",
   "version": "2.7.6"
  }
 },
 "nbformat": 4,
 "nbformat_minor": 5
}
