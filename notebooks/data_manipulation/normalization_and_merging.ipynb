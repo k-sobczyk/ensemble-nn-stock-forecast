{
 "cells": [
  {
   "cell_type": "markdown",
   "source": [
    "# DATA CLEANING PART 1"
   ],
   "metadata": {
    "collapsed": false
   },
   "id": "8e24134b0684d92e"
  },
  {
   "cell_type": "code",
   "outputs": [],
   "source": [
    "import pandas as pd\n",
    "import pyarrow as pa"
   ],
   "metadata": {
    "collapsed": false,
    "ExecuteTime": {
     "end_time": "2024-08-10T21:17:10.713221Z",
     "start_time": "2024-08-10T21:17:10.642283Z"
    }
   },
   "id": "96c32f94c1db55b0",
   "execution_count": 99
  },
  {
   "cell_type": "markdown",
   "source": [
    "## General Company Info Cleaning"
   ],
   "metadata": {
    "collapsed": false
   },
   "id": "69b7a8349040b4f6"
  },
  {
   "cell_type": "code",
   "outputs": [],
   "source": [
    "df_general = pd.read_csv('../../data/processed/general_company_info.csv')"
   ],
   "metadata": {
    "collapsed": false,
    "ExecuteTime": {
     "end_time": "2024-08-10T21:17:10.728279200Z",
     "start_time": "2024-08-10T21:17:10.716204Z"
    }
   },
   "id": "89d96196b7aa677d",
   "execution_count": 100
  },
  {
   "cell_type": "code",
   "outputs": [],
   "source": [
    "rename = {\n",
    "    \"Name\":      \"company_name\",\n",
    "    \"TICKER\":    \"ticker\",\n",
    "    \"Sector\":    \"sector\",\n",
    "    \"File_Name\": \"file_name\"\n",
    "}\n",
    "dtypes = {\n",
    "    \"company_name\": pd.ArrowDtype(pa.string()),\n",
    "    \"ticker\":       pd.ArrowDtype(pa.string()),\n",
    "    \"sector\":       pd.ArrowDtype(pa.string()),\n",
    "    \"file_name\":    pd.ArrowDtype(pa.string())\n",
    "}\n",
    "\n",
    "# Rename the columns\n",
    "df_general = df_general.rename(columns=rename)\n",
    "# Apply the specified data types\n",
    "df_general = df_general.astype(dtypes)"
   ],
   "metadata": {
    "collapsed": false,
    "ExecuteTime": {
     "end_time": "2024-08-10T21:17:10.730350100Z",
     "start_time": "2024-08-10T21:17:10.722087100Z"
    }
   },
   "id": "6aeb37c9bca01be7",
   "execution_count": 101
  },
  {
   "cell_type": "code",
   "outputs": [
    {
     "name": "stdout",
     "output_type": "stream",
     "text": [
      "<class 'pandas.core.frame.DataFrame'>\n",
      "RangeIndex: 349 entries, 0 to 348\n",
      "Data columns (total 4 columns):\n",
      " #   Column        Non-Null Count  Dtype          \n",
      "---  ------        --------------  -----          \n",
      " 0   company_name  349 non-null    string[pyarrow]\n",
      " 1   ticker        349 non-null    string[pyarrow]\n",
      " 2   sector        349 non-null    string[pyarrow]\n",
      " 3   file_name     349 non-null    string[pyarrow]\n",
      "dtypes: string[pyarrow](4)\n",
      "memory usage: 21.2 KB\n"
     ]
    }
   ],
   "source": [
    "df_general.info()"
   ],
   "metadata": {
    "collapsed": false,
    "ExecuteTime": {
     "end_time": "2024-08-10T21:17:10.743953300Z",
     "start_time": "2024-08-10T21:17:10.731355400Z"
    }
   },
   "id": "2b4082ecc1e2d3ad",
   "execution_count": 102
  },
  {
   "cell_type": "code",
   "outputs": [
    {
     "data": {
      "text/plain": "        company_name   ticker  sector     file_name\n0  11 bit studios SA      11B     gry    11BIT.xlsx\n1             3LP SA  3LP_IPO  handel    3LPSA.xlsx\n2        3R Games SA      3RG     gry  3RGAMES.xlsx",
      "text/html": "<div>\n<style scoped>\n    .dataframe tbody tr th:only-of-type {\n        vertical-align: middle;\n    }\n\n    .dataframe tbody tr th {\n        vertical-align: top;\n    }\n\n    .dataframe thead th {\n        text-align: right;\n    }\n</style>\n<table border=\"1\" class=\"dataframe\">\n  <thead>\n    <tr style=\"text-align: right;\">\n      <th></th>\n      <th>company_name</th>\n      <th>ticker</th>\n      <th>sector</th>\n      <th>file_name</th>\n    </tr>\n  </thead>\n  <tbody>\n    <tr>\n      <th>0</th>\n      <td>11 bit studios SA</td>\n      <td>11B</td>\n      <td>gry</td>\n      <td>11BIT.xlsx</td>\n    </tr>\n    <tr>\n      <th>1</th>\n      <td>3LP SA</td>\n      <td>3LP_IPO</td>\n      <td>handel</td>\n      <td>3LPSA.xlsx</td>\n    </tr>\n    <tr>\n      <th>2</th>\n      <td>3R Games SA</td>\n      <td>3RG</td>\n      <td>gry</td>\n      <td>3RGAMES.xlsx</td>\n    </tr>\n  </tbody>\n</table>\n</div>"
     },
     "execution_count": 103,
     "metadata": {},
     "output_type": "execute_result"
    }
   ],
   "source": [
    "df_general.head(3)"
   ],
   "metadata": {
    "collapsed": false,
    "ExecuteTime": {
     "end_time": "2024-08-10T21:17:10.745952Z",
     "start_time": "2024-08-10T21:17:10.738237900Z"
    }
   },
   "id": "3733a31fb5c2102a",
   "execution_count": 103
  },
  {
   "cell_type": "markdown",
   "source": [
    "## Stooq Data Cleaning"
   ],
   "metadata": {
    "collapsed": false
   },
   "id": "79e38b66b04a0b88"
  },
  {
   "cell_type": "code",
   "outputs": [],
   "source": [
    "df_market_value = pd.read_csv('../../data/processed/stooq_data.csv')"
   ],
   "metadata": {
    "collapsed": false,
    "ExecuteTime": {
     "end_time": "2024-08-10T21:17:11.778553200Z",
     "start_time": "2024-08-10T21:17:10.744952800Z"
    }
   },
   "id": "ac770d9c23eb853c",
   "execution_count": 104
  },
  {
   "cell_type": "code",
   "outputs": [
    {
     "data": {
      "text/plain": "TICKER     0\nPER        0\nDATE       0\nTIME       0\nOPEN       0\nHIGH       0\nLOW        0\nCLOSE      0\nVOL        0\nOPENINT    0\ntarget     0\ndtype: int64"
     },
     "execution_count": 105,
     "metadata": {},
     "output_type": "execute_result"
    }
   ],
   "source": [
    "df_market_value.isnull().sum()"
   ],
   "metadata": {
    "collapsed": false,
    "ExecuteTime": {
     "end_time": "2024-08-10T21:17:11.916249300Z",
     "start_time": "2024-08-10T21:17:11.780553200Z"
    }
   },
   "id": "6a069167e7b627df",
   "execution_count": 105
  },
  {
   "cell_type": "code",
   "outputs": [
    {
     "name": "stdout",
     "output_type": "stream",
     "text": [
      "<class 'pandas.core.frame.DataFrame'>\n",
      "RangeIndex: 1594620 entries, 0 to 1594619\n",
      "Data columns (total 11 columns):\n",
      " #   Column   Non-Null Count    Dtype  \n",
      "---  ------   --------------    -----  \n",
      " 0   TICKER   1594620 non-null  object \n",
      " 1   PER      1594620 non-null  object \n",
      " 2   DATE     1594620 non-null  object \n",
      " 3   TIME     1594620 non-null  int64  \n",
      " 4   OPEN     1594620 non-null  float64\n",
      " 5   HIGH     1594620 non-null  float64\n",
      " 6   LOW      1594620 non-null  float64\n",
      " 7   CLOSE    1594620 non-null  float64\n",
      " 8   VOL      1594620 non-null  float64\n",
      " 9   OPENINT  1594620 non-null  int64  \n",
      " 10  target   1594620 non-null  float64\n",
      "dtypes: float64(6), int64(2), object(3)\n",
      "memory usage: 133.8+ MB\n"
     ]
    }
   ],
   "source": [
    "df_market_value.info()"
   ],
   "metadata": {
    "collapsed": false,
    "ExecuteTime": {
     "end_time": "2024-08-10T21:17:12.053554900Z",
     "start_time": "2024-08-10T21:17:11.914250200Z"
    }
   },
   "id": "c2b6023a0b0b8ef8",
   "execution_count": 106
  },
  {
   "cell_type": "code",
   "outputs": [],
   "source": [
    "rename = {\n",
    "    \"TICKER\": \"ticker\",\n",
    "    \"DATE\": \"end_of_period\",\n",
    "}"
   ],
   "metadata": {
    "collapsed": false,
    "ExecuteTime": {
     "end_time": "2024-08-10T21:17:12.058567400Z",
     "start_time": "2024-08-10T21:17:12.051933600Z"
    }
   },
   "id": "77cd5483eb14f307",
   "execution_count": 107
  },
  {
   "cell_type": "code",
   "outputs": [],
   "source": [
    "df_market_value = df_market_value.rename(columns=rename)"
   ],
   "metadata": {
    "collapsed": false,
    "ExecuteTime": {
     "end_time": "2024-08-10T21:17:12.110740300Z",
     "start_time": "2024-08-10T21:17:12.056565500Z"
    }
   },
   "id": "3933f33ab6086736",
   "execution_count": 108
  },
  {
   "cell_type": "code",
   "outputs": [],
   "source": [
    "df_market_value = df_market_value[['ticker', 'end_of_period', 'target']]"
   ],
   "metadata": {
    "collapsed": false,
    "ExecuteTime": {
     "end_time": "2024-08-10T21:17:12.147088500Z",
     "start_time": "2024-08-10T21:17:12.111740900Z"
    }
   },
   "id": "e643380e972b3fc0",
   "execution_count": 109
  },
  {
   "cell_type": "code",
   "outputs": [],
   "source": [
    "dtypes = {\n",
    "    \"ticker\":        pd.ArrowDtype(pa.string()),\n",
    "    \"end_of_period\": \"datetime64[s]\",\n",
    "    \"target\":        \"float32[pyarrow]\"\n",
    "}"
   ],
   "metadata": {
    "collapsed": false,
    "ExecuteTime": {
     "end_time": "2024-08-10T21:17:12.151656900Z",
     "start_time": "2024-08-10T21:17:12.145086900Z"
    }
   },
   "id": "ebbb8abf81014cb1",
   "execution_count": 110
  },
  {
   "cell_type": "code",
   "outputs": [],
   "source": [
    "df_market_value = df_market_value.astype(dtypes)"
   ],
   "metadata": {
    "collapsed": false,
    "ExecuteTime": {
     "end_time": "2024-08-10T21:17:12.820456500Z",
     "start_time": "2024-08-10T21:17:12.150655200Z"
    }
   },
   "id": "ca91e885505e73f2",
   "execution_count": 111
  },
  {
   "cell_type": "code",
   "outputs": [
    {
     "name": "stdout",
     "output_type": "stream",
     "text": [
      "<class 'pandas.core.frame.DataFrame'>\n",
      "RangeIndex: 1594620 entries, 0 to 1594619\n",
      "Data columns (total 3 columns):\n",
      " #   Column         Non-Null Count    Dtype          \n",
      "---  ------         --------------    -----          \n",
      " 0   ticker         1594620 non-null  string[pyarrow]\n",
      " 1   end_of_period  1594620 non-null  datetime64[s]  \n",
      " 2   target         1594620 non-null  float[pyarrow] \n",
      "dtypes: datetime64[s](1), float[pyarrow](1), string[pyarrow](1)\n",
      "memory usage: 28.9 MB\n"
     ]
    }
   ],
   "source": [
    "df_market_value.info()"
   ],
   "metadata": {
    "collapsed": false,
    "ExecuteTime": {
     "end_time": "2024-08-10T21:17:12.835459900Z",
     "start_time": "2024-08-10T21:17:12.821457100Z"
    }
   },
   "id": "b73df7ddbc6b80ee",
   "execution_count": 112
  },
  {
   "cell_type": "code",
   "outputs": [
    {
     "data": {
      "text/plain": "  ticker end_of_period     target\n0    06N    1997-06-12  85.848999\n1    06N    1997-06-13     90.764\n2    06N    1997-06-16  86.667999",
      "text/html": "<div>\n<style scoped>\n    .dataframe tbody tr th:only-of-type {\n        vertical-align: middle;\n    }\n\n    .dataframe tbody tr th {\n        vertical-align: top;\n    }\n\n    .dataframe thead th {\n        text-align: right;\n    }\n</style>\n<table border=\"1\" class=\"dataframe\">\n  <thead>\n    <tr style=\"text-align: right;\">\n      <th></th>\n      <th>ticker</th>\n      <th>end_of_period</th>\n      <th>target</th>\n    </tr>\n  </thead>\n  <tbody>\n    <tr>\n      <th>0</th>\n      <td>06N</td>\n      <td>1997-06-12</td>\n      <td>85.848999</td>\n    </tr>\n    <tr>\n      <th>1</th>\n      <td>06N</td>\n      <td>1997-06-13</td>\n      <td>90.764</td>\n    </tr>\n    <tr>\n      <th>2</th>\n      <td>06N</td>\n      <td>1997-06-16</td>\n      <td>86.667999</td>\n    </tr>\n  </tbody>\n</table>\n</div>"
     },
     "execution_count": 113,
     "metadata": {},
     "output_type": "execute_result"
    }
   ],
   "source": [
    "df_market_value.head(3)"
   ],
   "metadata": {
    "collapsed": false,
    "ExecuteTime": {
     "end_time": "2024-08-10T21:17:12.840648600Z",
     "start_time": "2024-08-10T21:17:12.832459300Z"
    }
   },
   "id": "4b082eb71b28b56f",
   "execution_count": 113
  },
  {
   "cell_type": "markdown",
   "source": [
    "## Detailed Company Info Cleaning"
   ],
   "metadata": {
    "collapsed": false
   },
   "id": "b0f941a97e3b43a8"
  },
  {
   "cell_type": "code",
   "outputs": [],
   "source": [
    "df_detailed = pd.read_csv('../../data/processed/details_company_info.csv')"
   ],
   "metadata": {
    "collapsed": false,
    "ExecuteTime": {
     "end_time": "2024-08-10T21:17:12.923395900Z",
     "start_time": "2024-08-10T21:17:12.839647500Z"
    }
   },
   "id": "4998f9a589a8e1e6",
   "execution_count": 114
  },
  {
   "cell_type": "code",
   "outputs": [],
   "source": [
    "rename = {\n",
    "    \"date\":     \"end_of_period\",\n",
    "    \"filename\": \"file_name\",\n",
    "    \"assets\":   \"total_assets\"\n",
    "}\n",
    "\n",
    "dtypes = {\n",
    "    \"end_of_period\":                          \"datetime64[s]\",\n",
    "    \"total_assets\":                           \"float32[pyarrow]\",\n",
    "    \"non_current_assets\":                     \"float32[pyarrow]\",\n",
    "    \"current_assets\":                         \"float32[pyarrow]\",\n",
    "    \"property_plant_equipment\":               \"float32[pyarrow]\",\n",
    "    \"intangible_assets\":                      \"float32[pyarrow]\",\n",
    "    \"inventories\":                            \"float32[pyarrow]\",\n",
    "    \"trade_receivables\":                      \"float32[pyarrow]\",\n",
    "    \"cash_and_cash_equivalents\":              \"float32[pyarrow]\",\n",
    "    \"equity_shareholders_of_the_parent\":      \"float32[pyarrow]\",\n",
    "    \"share_capital\":                          \"float32[pyarrow]\",\n",
    "    \"retained_earning_accumulated_losses\":    \"float32[pyarrow]\",\n",
    "    \"non_current_liabilities\":                \"float32[pyarrow]\",\n",
    "    \"current_liabilities\":                    \"float32[pyarrow]\",\n",
    "    \"non_current_loans_and_borrowings\":       \"float32[pyarrow]\",\n",
    "    \"financial_liabilities_loans_borrowings\": \"float32[pyarrow]\",\n",
    "    \"total_shares\":                           \"float32[pyarrow]\",\n",
    "    \"file_name\":                              pd.ArrowDtype(pa.string())\n",
    "}"
   ],
   "metadata": {
    "collapsed": false,
    "ExecuteTime": {
     "end_time": "2024-08-10T21:17:12.925396300Z",
     "start_time": "2024-08-10T21:17:12.879957100Z"
    }
   },
   "id": "4b8de28187fb8bc1",
   "execution_count": 115
  },
  {
   "cell_type": "code",
   "outputs": [],
   "source": [
    "# Rename the columns\n",
    "df_detailed = df_detailed.rename(columns=rename)\n",
    "\n",
    "# Apply the specified data types\n",
    "df_detailed = df_detailed.astype(dtypes)"
   ],
   "metadata": {
    "collapsed": false,
    "ExecuteTime": {
     "end_time": "2024-08-10T21:17:12.936395500Z",
     "start_time": "2024-08-10T21:17:12.884370900Z"
    }
   },
   "id": "b32efe9db9e8d8de",
   "execution_count": 116
  },
  {
   "cell_type": "code",
   "outputs": [
    {
     "name": "stdout",
     "output_type": "stream",
     "text": [
      "<class 'pandas.core.frame.DataFrame'>\n",
      "RangeIndex: 32660 entries, 0 to 32659\n",
      "Data columns (total 18 columns):\n",
      " #   Column                                  Non-Null Count  Dtype          \n",
      "---  ------                                  --------------  -----          \n",
      " 0   end_of_period                           19906 non-null  datetime64[s]  \n",
      " 1   total_assets                            18995 non-null  float[pyarrow] \n",
      " 2   non_current_assets                      18859 non-null  float[pyarrow] \n",
      " 3   current_assets                          18929 non-null  float[pyarrow] \n",
      " 4   property_plant_equipment                18215 non-null  float[pyarrow] \n",
      " 5   intangible_assets                       17381 non-null  float[pyarrow] \n",
      " 6   inventories                             16529 non-null  float[pyarrow] \n",
      " 7   trade_receivables                       18741 non-null  float[pyarrow] \n",
      " 8   cash_and_cash_equivalents               18696 non-null  float[pyarrow] \n",
      " 9   equity_shareholders_of_the_parent       19004 non-null  float[pyarrow] \n",
      " 10  share_capital                           18907 non-null  float[pyarrow] \n",
      " 11  retained_earning_accumulated_losses     18774 non-null  float[pyarrow] \n",
      " 12  non_current_liabilities                 18404 non-null  float[pyarrow] \n",
      " 13  current_liabilities                     18973 non-null  float[pyarrow] \n",
      " 14  non_current_loans_and_borrowings        11242 non-null  float[pyarrow] \n",
      " 15  financial_liabilities_loans_borrowings  11677 non-null  float[pyarrow] \n",
      " 16  total_shares                            19906 non-null  float[pyarrow] \n",
      " 17  file_name                               32660 non-null  string[pyarrow]\n",
      "dtypes: datetime64[s](1), float[pyarrow](16), string[pyarrow](1)\n",
      "memory usage: 2.8 MB\n"
     ]
    }
   ],
   "source": [
    "df_detailed.info()"
   ],
   "metadata": {
    "collapsed": false,
    "ExecuteTime": {
     "end_time": "2024-08-10T21:17:12.937397400Z",
     "start_time": "2024-08-10T21:17:12.905841400Z"
    }
   },
   "id": "dbbeec86b5753f34",
   "execution_count": 117
  },
  {
   "cell_type": "markdown",
   "source": [
    "## Merging into one dataframe"
   ],
   "metadata": {
    "collapsed": false
   },
   "id": "a92f9b1d38ad9507"
  },
  {
   "cell_type": "code",
   "outputs": [],
   "source": [
    "df = (df_detailed.merge(df_general, how='left', on='file_name')\n",
    "                 .merge(df_market_value, how='left', on=['end_of_period', 'ticker'])\n",
    "                 .dropna(subset=['end_of_period', 'target', 'total_assets', 'current_assets', 'non_current_assets'])\n",
    "                 .fillna(0))"
   ],
   "metadata": {
    "collapsed": false,
    "ExecuteTime": {
     "end_time": "2024-08-10T21:17:13.086832500Z",
     "start_time": "2024-08-10T21:17:12.915395800Z"
    }
   },
   "id": "df1aea20e6dee43b",
   "execution_count": 118
  },
  {
   "cell_type": "code",
   "outputs": [
    {
     "data": {
      "text/plain": "(7675, 22)"
     },
     "execution_count": 119,
     "metadata": {},
     "output_type": "execute_result"
    }
   ],
   "source": [
    "df.shape"
   ],
   "metadata": {
    "collapsed": false,
    "ExecuteTime": {
     "end_time": "2024-08-10T21:17:13.094108200Z",
     "start_time": "2024-08-10T21:17:13.087833200Z"
    }
   },
   "id": "b4ffa24dbfc2dcd0",
   "execution_count": 119
  },
  {
   "cell_type": "code",
   "outputs": [],
   "source": [
    "df = df.round(0)"
   ],
   "metadata": {
    "collapsed": false,
    "ExecuteTime": {
     "end_time": "2024-08-10T21:17:13.113261300Z",
     "start_time": "2024-08-10T21:17:13.107365600Z"
    }
   },
   "id": "d21e808ba0a39315",
   "execution_count": 121
  },
  {
   "cell_type": "code",
   "outputs": [
    {
     "data": {
      "text/plain": "   end_of_period  total_assets  non_current_assets  current_assets  \\\n53    2011-04-01        1659.0               103.0          1556.0   \n54    2011-07-01        2141.0                85.0          2055.0   \n59    2012-10-01        7337.0                95.0          7241.0   \n62    2013-07-01        7452.0               518.0          6934.0   \n63    2013-10-01        8713.0               590.0          8123.0   \n\n    property_plant_equipment  intangible_assets  inventories  \\\n53                       0.0                0.0          0.0   \n54                       0.0                0.0          0.0   \n59                       7.0               30.0       2558.0   \n62                       3.0              459.0       2905.0   \n63                      63.0              467.0       3442.0   \n\n    trade_receivables  cash_and_cash_equivalents  \\\n53                0.0                        0.0   \n54                0.0                        0.0   \n59             1178.0                     3466.0   \n62              400.0                     3624.0   \n63              813.0                     3741.0   \n\n    equity_shareholders_of_the_parent  ...  non_current_liabilities  \\\n53                             1595.0  ...                      0.0   \n54                             2060.0  ...                      0.0   \n59                             6914.0  ...                      0.0   \n62                             7008.0  ...                      0.0   \n63                             7922.0  ...                      0.0   \n\n    current_liabilities  non_current_loans_and_borrowings  \\\n53                 64.0                               0.0   \n54                 81.0                               0.0   \n59                422.0                               0.0   \n62                444.0                               0.0   \n63                790.0                               0.0   \n\n    financial_liabilities_loans_borrowings  total_shares   file_name  \\\n53                                     0.0        1871.0  11BIT.xlsx   \n54                                     0.0        1871.0  11BIT.xlsx   \n59                                    -1.0        2217.0  11BIT.xlsx   \n62                                     0.0        2217.0  11BIT.xlsx   \n63                                     0.0        2217.0  11BIT.xlsx   \n\n         company_name ticker sector target  \n53  11 bit studios SA    11B    gry   24.0  \n54  11 bit studios SA    11B    gry   15.0  \n59  11 bit studios SA    11B    gry    9.0  \n62  11 bit studios SA    11B    gry    9.0  \n63  11 bit studios SA    11B    gry    9.0  \n\n[5 rows x 22 columns]",
      "text/html": "<div>\n<style scoped>\n    .dataframe tbody tr th:only-of-type {\n        vertical-align: middle;\n    }\n\n    .dataframe tbody tr th {\n        vertical-align: top;\n    }\n\n    .dataframe thead th {\n        text-align: right;\n    }\n</style>\n<table border=\"1\" class=\"dataframe\">\n  <thead>\n    <tr style=\"text-align: right;\">\n      <th></th>\n      <th>end_of_period</th>\n      <th>total_assets</th>\n      <th>non_current_assets</th>\n      <th>current_assets</th>\n      <th>property_plant_equipment</th>\n      <th>intangible_assets</th>\n      <th>inventories</th>\n      <th>trade_receivables</th>\n      <th>cash_and_cash_equivalents</th>\n      <th>equity_shareholders_of_the_parent</th>\n      <th>...</th>\n      <th>non_current_liabilities</th>\n      <th>current_liabilities</th>\n      <th>non_current_loans_and_borrowings</th>\n      <th>financial_liabilities_loans_borrowings</th>\n      <th>total_shares</th>\n      <th>file_name</th>\n      <th>company_name</th>\n      <th>ticker</th>\n      <th>sector</th>\n      <th>target</th>\n    </tr>\n  </thead>\n  <tbody>\n    <tr>\n      <th>53</th>\n      <td>2011-04-01</td>\n      <td>1659.0</td>\n      <td>103.0</td>\n      <td>1556.0</td>\n      <td>0.0</td>\n      <td>0.0</td>\n      <td>0.0</td>\n      <td>0.0</td>\n      <td>0.0</td>\n      <td>1595.0</td>\n      <td>...</td>\n      <td>0.0</td>\n      <td>64.0</td>\n      <td>0.0</td>\n      <td>0.0</td>\n      <td>1871.0</td>\n      <td>11BIT.xlsx</td>\n      <td>11 bit studios SA</td>\n      <td>11B</td>\n      <td>gry</td>\n      <td>24.0</td>\n    </tr>\n    <tr>\n      <th>54</th>\n      <td>2011-07-01</td>\n      <td>2141.0</td>\n      <td>85.0</td>\n      <td>2055.0</td>\n      <td>0.0</td>\n      <td>0.0</td>\n      <td>0.0</td>\n      <td>0.0</td>\n      <td>0.0</td>\n      <td>2060.0</td>\n      <td>...</td>\n      <td>0.0</td>\n      <td>81.0</td>\n      <td>0.0</td>\n      <td>0.0</td>\n      <td>1871.0</td>\n      <td>11BIT.xlsx</td>\n      <td>11 bit studios SA</td>\n      <td>11B</td>\n      <td>gry</td>\n      <td>15.0</td>\n    </tr>\n    <tr>\n      <th>59</th>\n      <td>2012-10-01</td>\n      <td>7337.0</td>\n      <td>95.0</td>\n      <td>7241.0</td>\n      <td>7.0</td>\n      <td>30.0</td>\n      <td>2558.0</td>\n      <td>1178.0</td>\n      <td>3466.0</td>\n      <td>6914.0</td>\n      <td>...</td>\n      <td>0.0</td>\n      <td>422.0</td>\n      <td>0.0</td>\n      <td>-1.0</td>\n      <td>2217.0</td>\n      <td>11BIT.xlsx</td>\n      <td>11 bit studios SA</td>\n      <td>11B</td>\n      <td>gry</td>\n      <td>9.0</td>\n    </tr>\n    <tr>\n      <th>62</th>\n      <td>2013-07-01</td>\n      <td>7452.0</td>\n      <td>518.0</td>\n      <td>6934.0</td>\n      <td>3.0</td>\n      <td>459.0</td>\n      <td>2905.0</td>\n      <td>400.0</td>\n      <td>3624.0</td>\n      <td>7008.0</td>\n      <td>...</td>\n      <td>0.0</td>\n      <td>444.0</td>\n      <td>0.0</td>\n      <td>0.0</td>\n      <td>2217.0</td>\n      <td>11BIT.xlsx</td>\n      <td>11 bit studios SA</td>\n      <td>11B</td>\n      <td>gry</td>\n      <td>9.0</td>\n    </tr>\n    <tr>\n      <th>63</th>\n      <td>2013-10-01</td>\n      <td>8713.0</td>\n      <td>590.0</td>\n      <td>8123.0</td>\n      <td>63.0</td>\n      <td>467.0</td>\n      <td>3442.0</td>\n      <td>813.0</td>\n      <td>3741.0</td>\n      <td>7922.0</td>\n      <td>...</td>\n      <td>0.0</td>\n      <td>790.0</td>\n      <td>0.0</td>\n      <td>0.0</td>\n      <td>2217.0</td>\n      <td>11BIT.xlsx</td>\n      <td>11 bit studios SA</td>\n      <td>11B</td>\n      <td>gry</td>\n      <td>9.0</td>\n    </tr>\n  </tbody>\n</table>\n<p>5 rows × 22 columns</p>\n</div>"
     },
     "execution_count": 122,
     "metadata": {},
     "output_type": "execute_result"
    }
   ],
   "source": [
    "df.head(5)"
   ],
   "metadata": {
    "collapsed": false,
    "ExecuteTime": {
     "end_time": "2024-08-10T21:17:18.570899500Z",
     "start_time": "2024-08-10T21:17:18.557190700Z"
    }
   },
   "id": "ca08b7d29e329c8d",
   "execution_count": 122
  }
 ],
 "metadata": {
  "kernelspec": {
   "display_name": "Python 3",
   "language": "python",
   "name": "python3"
  },
  "language_info": {
   "codemirror_mode": {
    "name": "ipython",
    "version": 2
   },
   "file_extension": ".py",
   "mimetype": "text/x-python",
   "name": "python",
   "nbconvert_exporter": "python",
   "pygments_lexer": "ipython2",
   "version": "2.7.6"
  }
 },
 "nbformat": 4,
 "nbformat_minor": 5
}
