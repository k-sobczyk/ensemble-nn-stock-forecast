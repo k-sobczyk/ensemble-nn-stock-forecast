{
 "cells": [
  {
   "cell_type": "markdown",
   "source": [
    "# DATA CLEANING PART 1"
   ],
   "metadata": {
    "collapsed": false
   },
   "id": "8e24134b0684d92e"
  },
  {
   "cell_type": "code",
   "outputs": [],
   "source": [
    "import pandas as pd\n",
    "import pyarrow as pa"
   ],
   "metadata": {
    "collapsed": false,
    "ExecuteTime": {
     "end_time": "2024-08-10T12:19:57.024745900Z",
     "start_time": "2024-08-10T12:19:56.947450700Z"
    }
   },
   "id": "96c32f94c1db55b0",
   "execution_count": 159
  },
  {
   "cell_type": "markdown",
   "source": [
    "## General Company Info Cleaning"
   ],
   "metadata": {
    "collapsed": false
   },
   "id": "69b7a8349040b4f6"
  },
  {
   "cell_type": "code",
   "outputs": [],
   "source": [
    "df_general = pd.read_csv('../../data/processed/general_company_info.csv')"
   ],
   "metadata": {
    "collapsed": false,
    "ExecuteTime": {
     "end_time": "2024-08-10T12:19:57.040087900Z",
     "start_time": "2024-08-10T12:19:57.029848200Z"
    }
   },
   "id": "89d96196b7aa677d",
   "execution_count": 160
  },
  {
   "cell_type": "code",
   "outputs": [],
   "source": [
    "rename = {\n",
    "    \"Name\":      \"company_name\",\n",
    "    \"TICKER\":    \"ticker\",\n",
    "    \"Sector\":    \"sector\",\n",
    "    \"File_Name\": \"file_name\"\n",
    "}\n",
    "dtypes = {\n",
    "    \"company_name\": pd.ArrowDtype(pa.string()),\n",
    "    \"ticker\":       pd.ArrowDtype(pa.string()),\n",
    "    \"sector\":       pd.ArrowDtype(pa.string()),\n",
    "    \"file_name\":    pd.ArrowDtype(pa.string())\n",
    "}\n",
    "\n",
    "# Rename the columns\n",
    "df_general = df_general.rename(columns=rename)\n",
    "\n",
    "# Apply the specified data types\n",
    "df_general = df_general.astype(dtypes)"
   ],
   "metadata": {
    "collapsed": false,
    "ExecuteTime": {
     "end_time": "2024-08-10T12:19:57.051031600Z",
     "start_time": "2024-08-10T12:19:57.037794700Z"
    }
   },
   "id": "6aeb37c9bca01be7",
   "execution_count": 161
  },
  {
   "cell_type": "code",
   "outputs": [
    {
     "name": "stdout",
     "output_type": "stream",
     "text": [
      "<class 'pandas.core.frame.DataFrame'>\n",
      "RangeIndex: 349 entries, 0 to 348\n",
      "Data columns (total 4 columns):\n",
      " #   Column        Non-Null Count  Dtype          \n",
      "---  ------        --------------  -----          \n",
      " 0   company_name  349 non-null    string[pyarrow]\n",
      " 1   ticker        349 non-null    string[pyarrow]\n",
      " 2   sector        349 non-null    string[pyarrow]\n",
      " 3   file_name     349 non-null    string[pyarrow]\n",
      "dtypes: string[pyarrow](4)\n",
      "memory usage: 21.2 KB\n"
     ]
    }
   ],
   "source": [
    "df_general.info()"
   ],
   "metadata": {
    "collapsed": false,
    "ExecuteTime": {
     "end_time": "2024-08-10T12:19:57.067475Z",
     "start_time": "2024-08-10T12:19:57.045572300Z"
    }
   },
   "id": "2b4082ecc1e2d3ad",
   "execution_count": 162
  },
  {
   "cell_type": "code",
   "outputs": [
    {
     "data": {
      "text/plain": "        company_name   ticker  sector     file_name\n0  11 bit studios SA      11B     gry    11BIT.xlsx\n1             3LP SA  3LP_IPO  handel    3LPSA.xlsx\n2        3R Games SA      3RG     gry  3RGAMES.xlsx",
      "text/html": "<div>\n<style scoped>\n    .dataframe tbody tr th:only-of-type {\n        vertical-align: middle;\n    }\n\n    .dataframe tbody tr th {\n        vertical-align: top;\n    }\n\n    .dataframe thead th {\n        text-align: right;\n    }\n</style>\n<table border=\"1\" class=\"dataframe\">\n  <thead>\n    <tr style=\"text-align: right;\">\n      <th></th>\n      <th>company_name</th>\n      <th>ticker</th>\n      <th>sector</th>\n      <th>file_name</th>\n    </tr>\n  </thead>\n  <tbody>\n    <tr>\n      <th>0</th>\n      <td>11 bit studios SA</td>\n      <td>11B</td>\n      <td>gry</td>\n      <td>11BIT.xlsx</td>\n    </tr>\n    <tr>\n      <th>1</th>\n      <td>3LP SA</td>\n      <td>3LP_IPO</td>\n      <td>handel</td>\n      <td>3LPSA.xlsx</td>\n    </tr>\n    <tr>\n      <th>2</th>\n      <td>3R Games SA</td>\n      <td>3RG</td>\n      <td>gry</td>\n      <td>3RGAMES.xlsx</td>\n    </tr>\n  </tbody>\n</table>\n</div>"
     },
     "execution_count": 163,
     "metadata": {},
     "output_type": "execute_result"
    }
   ],
   "source": [
    "df_general.head(3)"
   ],
   "metadata": {
    "collapsed": false,
    "ExecuteTime": {
     "end_time": "2024-08-10T12:19:57.068645700Z",
     "start_time": "2024-08-10T12:19:57.056541900Z"
    }
   },
   "id": "3733a31fb5c2102a",
   "execution_count": 163
  },
  {
   "cell_type": "markdown",
   "source": [
    "## Stooq Data Cleaning"
   ],
   "metadata": {
    "collapsed": false
   },
   "id": "79e38b66b04a0b88"
  },
  {
   "cell_type": "code",
   "outputs": [],
   "source": [
    "df_market_value = pd.read_csv('../../data/processed/stooq_data.csv')"
   ],
   "metadata": {
    "collapsed": false,
    "ExecuteTime": {
     "end_time": "2024-08-10T12:19:58.458984200Z",
     "start_time": "2024-08-10T12:19:57.070719300Z"
    }
   },
   "id": "ac770d9c23eb853c",
   "execution_count": 164
  },
  {
   "cell_type": "code",
   "outputs": [
    {
     "data": {
      "text/plain": "TICKER     0\nPER        0\nDATE       0\nTIME       0\nOPEN       0\nHIGH       0\nLOW        0\nCLOSE      0\nVOL        0\nOPENINT    0\ntarget     0\ndtype: int64"
     },
     "execution_count": 165,
     "metadata": {},
     "output_type": "execute_result"
    }
   ],
   "source": [
    "df_market_value.isnull().sum()"
   ],
   "metadata": {
    "collapsed": false,
    "ExecuteTime": {
     "end_time": "2024-08-10T12:19:58.647565Z",
     "start_time": "2024-08-10T12:19:58.460094700Z"
    }
   },
   "id": "6a069167e7b627df",
   "execution_count": 165
  },
  {
   "cell_type": "code",
   "outputs": [
    {
     "name": "stdout",
     "output_type": "stream",
     "text": [
      "<class 'pandas.core.frame.DataFrame'>\n",
      "RangeIndex: 1594620 entries, 0 to 1594619\n",
      "Data columns (total 11 columns):\n",
      " #   Column   Non-Null Count    Dtype  \n",
      "---  ------   --------------    -----  \n",
      " 0   TICKER   1594620 non-null  object \n",
      " 1   PER      1594620 non-null  object \n",
      " 2   DATE     1594620 non-null  object \n",
      " 3   TIME     1594620 non-null  int64  \n",
      " 4   OPEN     1594620 non-null  float64\n",
      " 5   HIGH     1594620 non-null  float64\n",
      " 6   LOW      1594620 non-null  float64\n",
      " 7   CLOSE    1594620 non-null  float64\n",
      " 8   VOL      1594620 non-null  float64\n",
      " 9   OPENINT  1594620 non-null  int64  \n",
      " 10  target   1594620 non-null  float64\n",
      "dtypes: float64(6), int64(2), object(3)\n",
      "memory usage: 133.8+ MB\n"
     ]
    }
   ],
   "source": [
    "df_market_value.info()"
   ],
   "metadata": {
    "collapsed": false,
    "ExecuteTime": {
     "end_time": "2024-08-10T12:19:58.841541Z",
     "start_time": "2024-08-10T12:19:58.645664800Z"
    }
   },
   "id": "c2b6023a0b0b8ef8",
   "execution_count": 166
  },
  {
   "cell_type": "code",
   "outputs": [],
   "source": [
    "rename = {\n",
    "    \"TICKER\": \"ticker\",\n",
    "    \"DATE\": \"end_of_period\",\n",
    "}"
   ],
   "metadata": {
    "collapsed": false,
    "ExecuteTime": {
     "end_time": "2024-08-10T12:19:58.847443600Z",
     "start_time": "2024-08-10T12:19:58.840797800Z"
    }
   },
   "id": "77cd5483eb14f307",
   "execution_count": 167
  },
  {
   "cell_type": "code",
   "outputs": [],
   "source": [
    "df_market_value = df_market_value.rename(columns=rename)"
   ],
   "metadata": {
    "collapsed": false,
    "ExecuteTime": {
     "end_time": "2024-08-10T12:19:58.916108400Z",
     "start_time": "2024-08-10T12:19:58.845179Z"
    }
   },
   "id": "3933f33ab6086736",
   "execution_count": 168
  },
  {
   "cell_type": "code",
   "outputs": [],
   "source": [
    "df_market_value = df_market_value[['ticker', 'end_of_period', 'target']]"
   ],
   "metadata": {
    "collapsed": false,
    "ExecuteTime": {
     "end_time": "2024-08-10T12:19:58.974089100Z",
     "start_time": "2024-08-10T12:19:58.917507Z"
    }
   },
   "id": "e643380e972b3fc0",
   "execution_count": 169
  },
  {
   "cell_type": "code",
   "outputs": [],
   "source": [
    "dtypes = {\n",
    "    \"ticker\":        pd.ArrowDtype(pa.string()),\n",
    "    \"end_of_period\": \"datetime64[s]\",\n",
    "    \"target\":        \"float32[pyarrow]\"\n",
    "}"
   ],
   "metadata": {
    "collapsed": false,
    "ExecuteTime": {
     "end_time": "2024-08-10T12:19:58.975171200Z",
     "start_time": "2024-08-10T12:19:58.972247300Z"
    }
   },
   "id": "ebbb8abf81014cb1",
   "execution_count": 170
  },
  {
   "cell_type": "code",
   "outputs": [],
   "source": [
    "df_market_value = df_market_value.astype(dtypes)"
   ],
   "metadata": {
    "collapsed": false,
    "ExecuteTime": {
     "end_time": "2024-08-10T12:19:59.894751600Z",
     "start_time": "2024-08-10T12:19:58.976673600Z"
    }
   },
   "id": "ca91e885505e73f2",
   "execution_count": 171
  },
  {
   "cell_type": "code",
   "outputs": [
    {
     "name": "stdout",
     "output_type": "stream",
     "text": [
      "<class 'pandas.core.frame.DataFrame'>\n",
      "RangeIndex: 1594620 entries, 0 to 1594619\n",
      "Data columns (total 3 columns):\n",
      " #   Column         Non-Null Count    Dtype          \n",
      "---  ------         --------------    -----          \n",
      " 0   ticker         1594620 non-null  string[pyarrow]\n",
      " 1   end_of_period  1594620 non-null  datetime64[s]  \n",
      " 2   target         1594620 non-null  float[pyarrow] \n",
      "dtypes: datetime64[s](1), float[pyarrow](1), string[pyarrow](1)\n",
      "memory usage: 28.9 MB\n"
     ]
    }
   ],
   "source": [
    "df_market_value.info()"
   ],
   "metadata": {
    "collapsed": false,
    "ExecuteTime": {
     "end_time": "2024-08-10T12:19:59.914281500Z",
     "start_time": "2024-08-10T12:19:59.895043900Z"
    }
   },
   "id": "b73df7ddbc6b80ee",
   "execution_count": 172
  },
  {
   "cell_type": "code",
   "outputs": [
    {
     "data": {
      "text/plain": "  ticker end_of_period     target\n0    06N    1997-06-12  85.848999\n1    06N    1997-06-13     90.764\n2    06N    1997-06-16  86.667999",
      "text/html": "<div>\n<style scoped>\n    .dataframe tbody tr th:only-of-type {\n        vertical-align: middle;\n    }\n\n    .dataframe tbody tr th {\n        vertical-align: top;\n    }\n\n    .dataframe thead th {\n        text-align: right;\n    }\n</style>\n<table border=\"1\" class=\"dataframe\">\n  <thead>\n    <tr style=\"text-align: right;\">\n      <th></th>\n      <th>ticker</th>\n      <th>end_of_period</th>\n      <th>target</th>\n    </tr>\n  </thead>\n  <tbody>\n    <tr>\n      <th>0</th>\n      <td>06N</td>\n      <td>1997-06-12</td>\n      <td>85.848999</td>\n    </tr>\n    <tr>\n      <th>1</th>\n      <td>06N</td>\n      <td>1997-06-13</td>\n      <td>90.764</td>\n    </tr>\n    <tr>\n      <th>2</th>\n      <td>06N</td>\n      <td>1997-06-16</td>\n      <td>86.667999</td>\n    </tr>\n  </tbody>\n</table>\n</div>"
     },
     "execution_count": 173,
     "metadata": {},
     "output_type": "execute_result"
    }
   ],
   "source": [
    "df_market_value.head(3)"
   ],
   "metadata": {
    "collapsed": false,
    "ExecuteTime": {
     "end_time": "2024-08-10T12:19:59.924879100Z",
     "start_time": "2024-08-10T12:19:59.912130100Z"
    }
   },
   "id": "4b082eb71b28b56f",
   "execution_count": 173
  },
  {
   "cell_type": "markdown",
   "source": [
    "## Detailed Company Info Cleaning"
   ],
   "metadata": {
    "collapsed": false
   },
   "id": "b0f941a97e3b43a8"
  },
  {
   "cell_type": "code",
   "outputs": [],
   "source": [
    "df_detailed = pd.read_csv('../../data/processed')"
   ],
   "metadata": {
    "collapsed": false,
    "ExecuteTime": {
     "end_time": "2024-08-10T12:19:59.953446100Z",
     "start_time": "2024-08-10T12:19:59.930561900Z"
    }
   },
   "id": "4998f9a589a8e1e6",
   "execution_count": 174
  },
  {
   "cell_type": "code",
   "outputs": [],
   "source": [
    "# Merging into one dataframe"
   ],
   "metadata": {
    "collapsed": false,
    "ExecuteTime": {
     "end_time": "2024-08-10T12:19:59.953446100Z",
     "start_time": "2024-08-10T12:19:59.934297700Z"
    }
   },
   "id": "b99f90500361cf34",
   "execution_count": 175
  },
  {
   "cell_type": "code",
   "outputs": [],
   "source": [],
   "metadata": {
    "collapsed": false,
    "ExecuteTime": {
     "end_time": "2024-08-10T12:19:59.954526900Z",
     "start_time": "2024-08-10T12:19:59.941962400Z"
    }
   },
   "id": "df1aea20e6dee43b",
   "execution_count": 175
  }
 ],
 "metadata": {
  "kernelspec": {
   "display_name": "Python 3",
   "language": "python",
   "name": "python3"
  },
  "language_info": {
   "codemirror_mode": {
    "name": "ipython",
    "version": 2
   },
   "file_extension": ".py",
   "mimetype": "text/x-python",
   "name": "python",
   "nbconvert_exporter": "python",
   "pygments_lexer": "ipython2",
   "version": "2.7.6"
  }
 },
 "nbformat": 4,
 "nbformat_minor": 5
}
