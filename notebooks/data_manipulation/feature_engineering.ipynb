{
 "cells": [
  {
   "cell_type": "markdown",
   "id": "15c298ddfd591cc6",
   "metadata": {
    "collapsed": false
   },
   "source": [
    "# DATA PREPARATION PART 2"
   ]
  },
  {
   "cell_type": "code",
   "execution_count": null,
   "id": "a7372de7f3a3d340",
   "metadata": {
    "ExecuteTime": {
     "end_time": "2025-02-23T11:01:26.370632Z",
     "start_time": "2025-02-23T11:01:26.367061Z"
    },
    "collapsed": false
   },
   "outputs": [],
   "source": [
    "import pandas as pd"
   ]
  },
  {
   "cell_type": "code",
   "execution_count": null,
   "id": "e9f179c6b109c8cf",
   "metadata": {
    "ExecuteTime": {
     "end_time": "2025-02-23T11:01:26.434218Z",
     "start_time": "2025-02-23T11:01:26.394398Z"
    },
    "collapsed": false
   },
   "outputs": [],
   "source": [
    "data = pd.read_csv('../../data/filled_data.csv')"
   ]
  },
  {
   "cell_type": "code",
   "execution_count": null,
   "id": "03c21eb1",
   "metadata": {},
   "outputs": [],
   "source": [
    "data.head(10)"
   ]
  },
  {
   "cell_type": "code",
   "execution_count": null,
   "id": "e116b23945a56a2e",
   "metadata": {
    "ExecuteTime": {
     "end_time": "2025-02-23T11:01:26.449819Z",
     "start_time": "2025-02-23T11:01:26.437987Z"
    },
    "collapsed": false
   },
   "outputs": [],
   "source": [
    "data = (data.sort_values(by=['file_name', 'end_of_period'], ascending=False))\n",
    "\n",
    "if 'Unnamed: 0' in data.columns:\n",
    "    data = data.drop('Unnamed: 0', axis=1)\n"
   ]
  },
  {
   "cell_type": "code",
   "execution_count": null,
   "id": "ee57e9ea29ee7f4f",
   "metadata": {
    "ExecuteTime": {
     "end_time": "2025-02-23T11:01:26.469033Z",
     "start_time": "2025-02-23T11:01:26.463318Z"
    },
    "collapsed": false
   },
   "outputs": [],
   "source": [
    "data['total_liabilities'] = data['current_liabilities'] + data['non_current_liabilities']"
   ]
  },
  {
   "cell_type": "code",
   "execution_count": null,
   "id": "3ba1e8f21e8c47ea",
   "metadata": {
    "ExecuteTime": {
     "end_time": "2025-02-23T11:01:26.492735Z",
     "start_time": "2025-02-23T11:01:26.479432Z"
    },
    "collapsed": false
   },
   "outputs": [],
   "source": [
    "data.head(3)"
   ]
  },
  {
   "cell_type": "code",
   "execution_count": null,
   "id": "b9f6cab5",
   "metadata": {},
   "outputs": [],
   "source": [
    "data.info()"
   ]
  },
  {
   "cell_type": "code",
   "execution_count": null,
   "id": "a998df44913e2c4d",
   "metadata": {
    "ExecuteTime": {
     "end_time": "2025-02-23T11:01:26.583256Z",
     "start_time": "2025-02-23T11:01:26.527419Z"
    },
    "collapsed": false
   },
   "outputs": [],
   "source": [
    "attributes = [\n",
    "    'total_assets', 'non_current_assets', 'current_assets',\n",
    "    'property_plant_equipment', 'intangible_assets', 'inventories',\n",
    "    'trade_receivables', 'cash_and_cash_equivalents', 'equity_shareholders_of_the_parent',\n",
    "    'share_capital', 'retained_earning_accumulated_losses', 'non_current_liabilities',\n",
    "    'current_liabilities', 'non_current_loans_and_borrowings', 'financial_liabilities_loans_borrowings'\n",
    "]\n",
    "\n",
    "def calculate_financial_differences(df, attributes, periods=[1, 2, 4], company_col='file_name', sort_col='end_of_period'):\n",
    "    # Ensure the dataframe is sorted by company and date\n",
    "    df = df.sort_values([company_col, sort_col])\n",
    "    \n",
    "    # Create a copy of the dataframe to avoid modifying the original\n",
    "    result_df = df.copy()\n",
    "    \n",
    "    # Calculate differences for each attribute and period\n",
    "    for attr in attributes:\n",
    "        for period in periods:\n",
    "            diff_col_name = f'{attr}_diff_{period}q'\n",
    "            result_df[diff_col_name] = result_df.groupby(company_col)[attr].diff(periods=period)\n",
    "    \n",
    "    return result_df\n",
    "\n",
    "df = calculate_financial_differences(data, attributes)"
   ]
  },
  {
   "cell_type": "code",
   "execution_count": null,
   "id": "319026a26c993b69",
   "metadata": {
    "ExecuteTime": {
     "end_time": "2025-02-23T11:01:26.610668Z",
     "start_time": "2025-02-23T11:01:26.603132Z"
    },
    "collapsed": false
   },
   "outputs": [],
   "source": [
    "df = df.dropna(subset='property_plant_equipment_diff_4q')"
   ]
  },
  {
   "cell_type": "code",
   "execution_count": null,
   "id": "86032a1d05ad976c",
   "metadata": {
    "ExecuteTime": {
     "end_time": "2025-02-23T11:01:26.648332Z",
     "start_time": "2025-02-23T11:01:26.645292Z"
    },
    "collapsed": false
   },
   "outputs": [],
   "source": [
    "df.shape"
   ]
  },
  {
   "cell_type": "code",
   "execution_count": null,
   "id": "9eb19448ae7166cf",
   "metadata": {
    "ExecuteTime": {
     "end_time": "2025-02-23T11:01:26.687244Z",
     "start_time": "2025-02-23T11:01:26.682987Z"
    },
    "collapsed": false
   },
   "outputs": [],
   "source": [
    "df['target'] = df.pop('target')"
   ]
  },
  {
   "cell_type": "code",
   "execution_count": null,
   "id": "9b64511f5efe9d8b",
   "metadata": {
    "ExecuteTime": {
     "end_time": "2025-02-23T11:01:26.728972Z",
     "start_time": "2025-02-23T11:01:26.713819Z"
    },
    "collapsed": false
   },
   "outputs": [],
   "source": [
    "df.head(10)"
   ]
  },
  {
   "cell_type": "code",
   "execution_count": null,
   "id": "4041bd4fbd6c8bf6",
   "metadata": {
    "ExecuteTime": {
     "end_time": "2025-02-23T11:01:27.280475Z",
     "start_time": "2025-02-23T11:01:26.833429Z"
    },
    "collapsed": false
   },
   "outputs": [],
   "source": [
    "df.to_csv('../../data/processed/data_with_features.csv', index=False)"
   ]
  }
 ],
 "metadata": {
  "kernelspec": {
   "display_name": ".venv",
   "language": "python",
   "name": "python3"
  },
  "language_info": {
   "codemirror_mode": {
    "name": "ipython",
    "version": 3
   },
   "file_extension": ".py",
   "mimetype": "text/x-python",
   "name": "python",
   "nbconvert_exporter": "python",
   "pygments_lexer": "ipython3",
   "version": "3.13.2"
  }
 },
 "nbformat": 4,
 "nbformat_minor": 5
}
