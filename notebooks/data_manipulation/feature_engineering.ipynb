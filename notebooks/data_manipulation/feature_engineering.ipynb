{
 "cells": [
  {
   "cell_type": "markdown",
   "source": [
    "# DATA PREPARATION PART 2"
   ],
   "metadata": {
    "collapsed": false
   },
   "id": "15c298ddfd591cc6"
  },
  {
   "cell_type": "code",
   "outputs": [],
   "source": [
    "import pandas as pd"
   ],
   "metadata": {
    "collapsed": false,
    "ExecuteTime": {
     "end_time": "2024-08-10T21:42:29.662018Z",
     "start_time": "2024-08-10T21:42:29.652903400Z"
    }
   },
   "id": "a7372de7f3a3d340",
   "execution_count": 38
  },
  {
   "cell_type": "code",
   "outputs": [],
   "source": [
    "data = pd.read_csv('../../data/processed/data.csv')"
   ],
   "metadata": {
    "collapsed": false,
    "ExecuteTime": {
     "end_time": "2024-08-10T21:42:29.691486400Z",
     "start_time": "2024-08-10T21:42:29.665017700Z"
    }
   },
   "id": "e9f179c6b109c8cf",
   "execution_count": 39
  },
  {
   "cell_type": "code",
   "outputs": [],
   "source": [
    "data = (data.drop(columns='Unnamed: 0')\n",
    "            .sort_values(by=['file_name', 'end_of_period'], ascending=False))"
   ],
   "metadata": {
    "collapsed": false,
    "ExecuteTime": {
     "end_time": "2024-08-10T21:42:29.692486500Z",
     "start_time": "2024-08-10T21:42:29.684834400Z"
    }
   },
   "id": "e116b23945a56a2e",
   "execution_count": 40
  },
  {
   "cell_type": "code",
   "outputs": [],
   "source": [
    "data['total_liabilities'] = data['current_liabilities'] + data['non_current_liabilities']"
   ],
   "metadata": {
    "collapsed": false,
    "ExecuteTime": {
     "end_time": "2024-08-10T21:42:29.694215500Z",
     "start_time": "2024-08-10T21:42:29.692486500Z"
    }
   },
   "id": "ee57e9ea29ee7f4f",
   "execution_count": 41
  },
  {
   "cell_type": "code",
   "outputs": [
    {
     "data": {
      "text/plain": "     end_of_period  total_assets  non_current_assets  current_assets  \\\n7674    2022-07-01     2733389.0           1720912.0       1012477.0   \n7673    2022-04-01     2981239.0           1730362.0       1250877.0   \n7672    2021-10-01     2508447.0           1726721.0        781726.0   \n\n      property_plant_equipment  intangible_assets  inventories  \\\n7674                 1025678.0           337294.0     171367.0   \n7673                 1031440.0           340644.0     202267.0   \n7672                 1050251.0           347755.0     140983.0   \n\n      trade_receivables  cash_and_cash_equivalents  \\\n7674           826650.0                     6249.0   \n7673          1039206.0                     6404.0   \n7672           570261.0                     2510.0   \n\n      equity_shareholders_of_the_parent  ...  current_liabilities  \\\n7674                           304293.0  ...            1468424.0   \n7673                           288397.0  ...            1631516.0   \n7672                           216089.0  ...            2209321.0   \n\n      non_current_loans_and_borrowings  \\\n7674                          875000.0   \n7673                          975000.0   \n7672                               0.0   \n\n      financial_liabilities_loans_borrowings  total_shares    file_name  \\\n7674                                 85884.0       10271.0  ZYWIEC.xlsx   \n7673                                 96674.0       10271.0  ZYWIEC.xlsx   \n7672                               1094585.0       10271.0  ZYWIEC.xlsx   \n\n         company_name  ticker  sector target total_liabilities  \n7674  Grupa Żywiec SA     ZWC  napoje  494.0         2429096.0  \n7673  Grupa Żywiec SA     ZWC  napoje  510.0         2692842.0  \n7672  Grupa Żywiec SA     ZWC  napoje  462.0         2292358.0  \n\n[3 rows x 23 columns]",
      "text/html": "<div>\n<style scoped>\n    .dataframe tbody tr th:only-of-type {\n        vertical-align: middle;\n    }\n\n    .dataframe tbody tr th {\n        vertical-align: top;\n    }\n\n    .dataframe thead th {\n        text-align: right;\n    }\n</style>\n<table border=\"1\" class=\"dataframe\">\n  <thead>\n    <tr style=\"text-align: right;\">\n      <th></th>\n      <th>end_of_period</th>\n      <th>total_assets</th>\n      <th>non_current_assets</th>\n      <th>current_assets</th>\n      <th>property_plant_equipment</th>\n      <th>intangible_assets</th>\n      <th>inventories</th>\n      <th>trade_receivables</th>\n      <th>cash_and_cash_equivalents</th>\n      <th>equity_shareholders_of_the_parent</th>\n      <th>...</th>\n      <th>current_liabilities</th>\n      <th>non_current_loans_and_borrowings</th>\n      <th>financial_liabilities_loans_borrowings</th>\n      <th>total_shares</th>\n      <th>file_name</th>\n      <th>company_name</th>\n      <th>ticker</th>\n      <th>sector</th>\n      <th>target</th>\n      <th>total_liabilities</th>\n    </tr>\n  </thead>\n  <tbody>\n    <tr>\n      <th>7674</th>\n      <td>2022-07-01</td>\n      <td>2733389.0</td>\n      <td>1720912.0</td>\n      <td>1012477.0</td>\n      <td>1025678.0</td>\n      <td>337294.0</td>\n      <td>171367.0</td>\n      <td>826650.0</td>\n      <td>6249.0</td>\n      <td>304293.0</td>\n      <td>...</td>\n      <td>1468424.0</td>\n      <td>875000.0</td>\n      <td>85884.0</td>\n      <td>10271.0</td>\n      <td>ZYWIEC.xlsx</td>\n      <td>Grupa Żywiec SA</td>\n      <td>ZWC</td>\n      <td>napoje</td>\n      <td>494.0</td>\n      <td>2429096.0</td>\n    </tr>\n    <tr>\n      <th>7673</th>\n      <td>2022-04-01</td>\n      <td>2981239.0</td>\n      <td>1730362.0</td>\n      <td>1250877.0</td>\n      <td>1031440.0</td>\n      <td>340644.0</td>\n      <td>202267.0</td>\n      <td>1039206.0</td>\n      <td>6404.0</td>\n      <td>288397.0</td>\n      <td>...</td>\n      <td>1631516.0</td>\n      <td>975000.0</td>\n      <td>96674.0</td>\n      <td>10271.0</td>\n      <td>ZYWIEC.xlsx</td>\n      <td>Grupa Żywiec SA</td>\n      <td>ZWC</td>\n      <td>napoje</td>\n      <td>510.0</td>\n      <td>2692842.0</td>\n    </tr>\n    <tr>\n      <th>7672</th>\n      <td>2021-10-01</td>\n      <td>2508447.0</td>\n      <td>1726721.0</td>\n      <td>781726.0</td>\n      <td>1050251.0</td>\n      <td>347755.0</td>\n      <td>140983.0</td>\n      <td>570261.0</td>\n      <td>2510.0</td>\n      <td>216089.0</td>\n      <td>...</td>\n      <td>2209321.0</td>\n      <td>0.0</td>\n      <td>1094585.0</td>\n      <td>10271.0</td>\n      <td>ZYWIEC.xlsx</td>\n      <td>Grupa Żywiec SA</td>\n      <td>ZWC</td>\n      <td>napoje</td>\n      <td>462.0</td>\n      <td>2292358.0</td>\n    </tr>\n  </tbody>\n</table>\n<p>3 rows × 23 columns</p>\n</div>"
     },
     "execution_count": 42,
     "metadata": {},
     "output_type": "execute_result"
    }
   ],
   "source": [
    "data.head(3)"
   ],
   "metadata": {
    "collapsed": false,
    "ExecuteTime": {
     "end_time": "2024-08-10T21:42:29.715478600Z",
     "start_time": "2024-08-10T21:42:29.696216300Z"
    }
   },
   "id": "3ba1e8f21e8c47ea",
   "execution_count": 42
  },
  {
   "cell_type": "code",
   "outputs": [],
   "source": [
    "attributes = [\n",
    "    'total_assets', 'non_current_assets', 'current_assets',\n",
    "    'property_plant_equipment', 'intangible_assets', 'inventories',\n",
    "    'trade_receivables', 'cash_and_cash_equivalents', 'equity_shareholders_of_the_parent',\n",
    "    'share_capital', 'retained_earning_accumulated_losses', 'non_current_liabilities',\n",
    "    'current_liabilities', 'non_current_loans_and_borrowings', 'financial_liabilities_loans_borrowings'\n",
    "]\n",
    "\n",
    "def add_change_features(df, attributes):\n",
    "    for attr in attributes:\n",
    "        df[f'{attr}_change_1q'] = df.groupby('file_name')[attr].diff(1)\n",
    "        df[f'{attr}_change_2q'] = df.groupby('file_name')[attr].diff(2)\n",
    "        df[f'{attr}_change_4q'] = df.groupby('file_name')[attr].diff(4)\n",
    "        \n",
    "    return df\n",
    "\n",
    "df = add_change_features(data, attributes)"
   ],
   "metadata": {
    "collapsed": false,
    "ExecuteTime": {
     "end_time": "2024-08-10T21:42:29.770707200Z",
     "start_time": "2024-08-10T21:42:29.711478500Z"
    }
   },
   "id": "a998df44913e2c4d",
   "execution_count": 43
  },
  {
   "cell_type": "code",
   "outputs": [
    {
     "data": {
      "text/plain": "     end_of_period  total_assets  non_current_assets  current_assets  \\\n7674    2022-07-01     2733389.0           1720912.0       1012477.0   \n7673    2022-04-01     2981239.0           1730362.0       1250877.0   \n7672    2021-10-01     2508447.0           1726721.0        781726.0   \n7671    2021-07-01     2649304.0           1796783.0        852521.0   \n7670    2021-04-01     3037763.0           1901297.0       1136466.0   \n7669    2020-10-01     2513606.0           1729256.0        784350.0   \n7668    2020-07-01     2836562.0           1700588.0       1072876.0   \n7667    2020-04-01     3000499.0           1628960.0       1371539.0   \n7666    2019-10-01     2479535.0           1595330.0        884205.0   \n7665    2019-07-01     2609259.0           1569801.0       1039458.0   \n\n      property_plant_equipment  intangible_assets  inventories  \\\n7674                 1025678.0           337294.0     171367.0   \n7673                 1031440.0           340644.0     202267.0   \n7672                 1050251.0           347755.0     140983.0   \n7671                 1028957.0           350722.0     145833.0   \n7670                 1031984.0           353845.0     164077.0   \n7669                 1053811.0           360038.0     109311.0   \n7668                 1058326.0           363589.0     177022.0   \n7667                 1072992.0           378553.0     177517.0   \n7666                  905788.0            26674.0     115379.0   \n7665                  871333.0            25212.0     133349.0   \n\n      trade_receivables  cash_and_cash_equivalents  \\\n7674           826650.0                     6249.0   \n7673          1039206.0                     6404.0   \n7672           570261.0                     2510.0   \n7671           682491.0                     1929.0   \n7670           952499.0                     3925.0   \n7669           612962.0                     1328.0   \n7668           885413.0                     1384.0   \n7667          1138058.0                     1969.0   \n7666           628606.0                     1480.0   \n7665           795962.0                     1647.0   \n\n      equity_shareholders_of_the_parent  ...  \\\n7674                           304293.0  ...   \n7673                           288397.0  ...   \n7672                           216089.0  ...   \n7671                           395450.0  ...   \n7670                           285629.0  ...   \n7669                           177079.0  ...   \n7668                           266213.0  ...   \n7667                           138518.0  ...   \n7666                           187604.0  ...   \n7665                           308059.0  ...   \n\n      non_current_liabilities_change_4q  current_liabilities_change_1q  \\\n7674                                NaN                            NaN   \n7673                                NaN                       163092.0   \n7672                                NaN                       577805.0   \n7671                                NaN                       -20032.0   \n7670                          -394964.0                        -2863.0   \n7669                           152357.0                     -1063582.0   \n7668                           998668.0                       361554.0   \n7667                          1141615.0                       171403.0   \n7666                           535021.0                      -464599.0   \n7665                          -264315.0                       160630.0   \n\n      current_liabilities_change_2q  current_liabilities_change_4q  \\\n7674                            NaN                            NaN   \n7673                            NaN                            NaN   \n7672                       740897.0                            NaN   \n7671                       557773.0                            NaN   \n7670                       -22895.0                       718002.0   \n7669                     -1066445.0                      -508672.0   \n7668                      -702028.0                      -724923.0   \n7667                       532957.0                      -533488.0   \n7666                      -293196.0                      -995224.0   \n7665                      -303969.0                       228988.0   \n\n      non_current_loans_and_borrowings_change_1q  \\\n7674                                         NaN   \n7673                                    100000.0   \n7672                                   -975000.0   \n7671                                         0.0   \n7670                                    500000.0   \n7669                                    650000.0   \n7668                                   -150000.0   \n7667                                    150000.0   \n7666                                   -100000.0   \n7665                                   -150000.0   \n\n      non_current_loans_and_borrowings_change_2q  \\\n7674                                         NaN   \n7673                                         NaN   \n7672                                   -875000.0   \n7671                                   -975000.0   \n7670                                    500000.0   \n7669                                   1150000.0   \n7668                                    500000.0   \n7667                                         0.0   \n7666                                     50000.0   \n7665                                   -250000.0   \n\n      non_current_loans_and_borrowings_change_4q  \\\n7674                                         NaN   \n7673                                         NaN   \n7672                                         NaN   \n7671                                         NaN   \n7670                                   -375000.0   \n7669                                    175000.0   \n7668                                   1000000.0   \n7667                                   1150000.0   \n7666                                    550000.0   \n7665                                   -250000.0   \n\n     financial_liabilities_loans_borrowings_change_1q  \\\n7674                                              NaN   \n7673                                          10790.0   \n7672                                         997911.0   \n7671                                        -231463.0   \n7670                                        -170113.0   \n7669                                        -628925.0   \n7668                                          67038.0   \n7667                                          47913.0   \n7666                                        -107331.0   \n7665                                          53581.0   \n\n     financial_liabilities_loans_borrowings_change_2q  \\\n7674                                              NaN   \n7673                                              NaN   \n7672                                        1008701.0   \n7671                                         766448.0   \n7670                                        -401576.0   \n7669                                        -799038.0   \n7668                                        -561887.0   \n7667                                         114951.0   \n7666                                         -59418.0   \n7665                                         -53750.0   \n\n     financial_liabilities_loans_borrowings_change_4q  \n7674                                              NaN  \n7673                                              NaN  \n7672                                              NaN  \n7671                                              NaN  \n7670                                         607125.0  \n7669                                         -32590.0  \n7668                                        -963463.0  \n7667                                        -684087.0  \n7666                                        -621305.0  \n7665                                          61201.0  \n\n[10 rows x 68 columns]",
      "text/html": "<div>\n<style scoped>\n    .dataframe tbody tr th:only-of-type {\n        vertical-align: middle;\n    }\n\n    .dataframe tbody tr th {\n        vertical-align: top;\n    }\n\n    .dataframe thead th {\n        text-align: right;\n    }\n</style>\n<table border=\"1\" class=\"dataframe\">\n  <thead>\n    <tr style=\"text-align: right;\">\n      <th></th>\n      <th>end_of_period</th>\n      <th>total_assets</th>\n      <th>non_current_assets</th>\n      <th>current_assets</th>\n      <th>property_plant_equipment</th>\n      <th>intangible_assets</th>\n      <th>inventories</th>\n      <th>trade_receivables</th>\n      <th>cash_and_cash_equivalents</th>\n      <th>equity_shareholders_of_the_parent</th>\n      <th>...</th>\n      <th>non_current_liabilities_change_4q</th>\n      <th>current_liabilities_change_1q</th>\n      <th>current_liabilities_change_2q</th>\n      <th>current_liabilities_change_4q</th>\n      <th>non_current_loans_and_borrowings_change_1q</th>\n      <th>non_current_loans_and_borrowings_change_2q</th>\n      <th>non_current_loans_and_borrowings_change_4q</th>\n      <th>financial_liabilities_loans_borrowings_change_1q</th>\n      <th>financial_liabilities_loans_borrowings_change_2q</th>\n      <th>financial_liabilities_loans_borrowings_change_4q</th>\n    </tr>\n  </thead>\n  <tbody>\n    <tr>\n      <th>7674</th>\n      <td>2022-07-01</td>\n      <td>2733389.0</td>\n      <td>1720912.0</td>\n      <td>1012477.0</td>\n      <td>1025678.0</td>\n      <td>337294.0</td>\n      <td>171367.0</td>\n      <td>826650.0</td>\n      <td>6249.0</td>\n      <td>304293.0</td>\n      <td>...</td>\n      <td>NaN</td>\n      <td>NaN</td>\n      <td>NaN</td>\n      <td>NaN</td>\n      <td>NaN</td>\n      <td>NaN</td>\n      <td>NaN</td>\n      <td>NaN</td>\n      <td>NaN</td>\n      <td>NaN</td>\n    </tr>\n    <tr>\n      <th>7673</th>\n      <td>2022-04-01</td>\n      <td>2981239.0</td>\n      <td>1730362.0</td>\n      <td>1250877.0</td>\n      <td>1031440.0</td>\n      <td>340644.0</td>\n      <td>202267.0</td>\n      <td>1039206.0</td>\n      <td>6404.0</td>\n      <td>288397.0</td>\n      <td>...</td>\n      <td>NaN</td>\n      <td>163092.0</td>\n      <td>NaN</td>\n      <td>NaN</td>\n      <td>100000.0</td>\n      <td>NaN</td>\n      <td>NaN</td>\n      <td>10790.0</td>\n      <td>NaN</td>\n      <td>NaN</td>\n    </tr>\n    <tr>\n      <th>7672</th>\n      <td>2021-10-01</td>\n      <td>2508447.0</td>\n      <td>1726721.0</td>\n      <td>781726.0</td>\n      <td>1050251.0</td>\n      <td>347755.0</td>\n      <td>140983.0</td>\n      <td>570261.0</td>\n      <td>2510.0</td>\n      <td>216089.0</td>\n      <td>...</td>\n      <td>NaN</td>\n      <td>577805.0</td>\n      <td>740897.0</td>\n      <td>NaN</td>\n      <td>-975000.0</td>\n      <td>-875000.0</td>\n      <td>NaN</td>\n      <td>997911.0</td>\n      <td>1008701.0</td>\n      <td>NaN</td>\n    </tr>\n    <tr>\n      <th>7671</th>\n      <td>2021-07-01</td>\n      <td>2649304.0</td>\n      <td>1796783.0</td>\n      <td>852521.0</td>\n      <td>1028957.0</td>\n      <td>350722.0</td>\n      <td>145833.0</td>\n      <td>682491.0</td>\n      <td>1929.0</td>\n      <td>395450.0</td>\n      <td>...</td>\n      <td>NaN</td>\n      <td>-20032.0</td>\n      <td>557773.0</td>\n      <td>NaN</td>\n      <td>0.0</td>\n      <td>-975000.0</td>\n      <td>NaN</td>\n      <td>-231463.0</td>\n      <td>766448.0</td>\n      <td>NaN</td>\n    </tr>\n    <tr>\n      <th>7670</th>\n      <td>2021-04-01</td>\n      <td>3037763.0</td>\n      <td>1901297.0</td>\n      <td>1136466.0</td>\n      <td>1031984.0</td>\n      <td>353845.0</td>\n      <td>164077.0</td>\n      <td>952499.0</td>\n      <td>3925.0</td>\n      <td>285629.0</td>\n      <td>...</td>\n      <td>-394964.0</td>\n      <td>-2863.0</td>\n      <td>-22895.0</td>\n      <td>718002.0</td>\n      <td>500000.0</td>\n      <td>500000.0</td>\n      <td>-375000.0</td>\n      <td>-170113.0</td>\n      <td>-401576.0</td>\n      <td>607125.0</td>\n    </tr>\n    <tr>\n      <th>7669</th>\n      <td>2020-10-01</td>\n      <td>2513606.0</td>\n      <td>1729256.0</td>\n      <td>784350.0</td>\n      <td>1053811.0</td>\n      <td>360038.0</td>\n      <td>109311.0</td>\n      <td>612962.0</td>\n      <td>1328.0</td>\n      <td>177079.0</td>\n      <td>...</td>\n      <td>152357.0</td>\n      <td>-1063582.0</td>\n      <td>-1066445.0</td>\n      <td>-508672.0</td>\n      <td>650000.0</td>\n      <td>1150000.0</td>\n      <td>175000.0</td>\n      <td>-628925.0</td>\n      <td>-799038.0</td>\n      <td>-32590.0</td>\n    </tr>\n    <tr>\n      <th>7668</th>\n      <td>2020-07-01</td>\n      <td>2836562.0</td>\n      <td>1700588.0</td>\n      <td>1072876.0</td>\n      <td>1058326.0</td>\n      <td>363589.0</td>\n      <td>177022.0</td>\n      <td>885413.0</td>\n      <td>1384.0</td>\n      <td>266213.0</td>\n      <td>...</td>\n      <td>998668.0</td>\n      <td>361554.0</td>\n      <td>-702028.0</td>\n      <td>-724923.0</td>\n      <td>-150000.0</td>\n      <td>500000.0</td>\n      <td>1000000.0</td>\n      <td>67038.0</td>\n      <td>-561887.0</td>\n      <td>-963463.0</td>\n    </tr>\n    <tr>\n      <th>7667</th>\n      <td>2020-04-01</td>\n      <td>3000499.0</td>\n      <td>1628960.0</td>\n      <td>1371539.0</td>\n      <td>1072992.0</td>\n      <td>378553.0</td>\n      <td>177517.0</td>\n      <td>1138058.0</td>\n      <td>1969.0</td>\n      <td>138518.0</td>\n      <td>...</td>\n      <td>1141615.0</td>\n      <td>171403.0</td>\n      <td>532957.0</td>\n      <td>-533488.0</td>\n      <td>150000.0</td>\n      <td>0.0</td>\n      <td>1150000.0</td>\n      <td>47913.0</td>\n      <td>114951.0</td>\n      <td>-684087.0</td>\n    </tr>\n    <tr>\n      <th>7666</th>\n      <td>2019-10-01</td>\n      <td>2479535.0</td>\n      <td>1595330.0</td>\n      <td>884205.0</td>\n      <td>905788.0</td>\n      <td>26674.0</td>\n      <td>115379.0</td>\n      <td>628606.0</td>\n      <td>1480.0</td>\n      <td>187604.0</td>\n      <td>...</td>\n      <td>535021.0</td>\n      <td>-464599.0</td>\n      <td>-293196.0</td>\n      <td>-995224.0</td>\n      <td>-100000.0</td>\n      <td>50000.0</td>\n      <td>550000.0</td>\n      <td>-107331.0</td>\n      <td>-59418.0</td>\n      <td>-621305.0</td>\n    </tr>\n    <tr>\n      <th>7665</th>\n      <td>2019-07-01</td>\n      <td>2609259.0</td>\n      <td>1569801.0</td>\n      <td>1039458.0</td>\n      <td>871333.0</td>\n      <td>25212.0</td>\n      <td>133349.0</td>\n      <td>795962.0</td>\n      <td>1647.0</td>\n      <td>308059.0</td>\n      <td>...</td>\n      <td>-264315.0</td>\n      <td>160630.0</td>\n      <td>-303969.0</td>\n      <td>228988.0</td>\n      <td>-150000.0</td>\n      <td>-250000.0</td>\n      <td>-250000.0</td>\n      <td>53581.0</td>\n      <td>-53750.0</td>\n      <td>61201.0</td>\n    </tr>\n  </tbody>\n</table>\n<p>10 rows × 68 columns</p>\n</div>"
     },
     "execution_count": 44,
     "metadata": {},
     "output_type": "execute_result"
    }
   ],
   "source": [
    "df.head(10)"
   ],
   "metadata": {
    "collapsed": false,
    "ExecuteTime": {
     "end_time": "2024-08-10T21:42:29.771213300Z",
     "start_time": "2024-08-10T21:42:29.748995200Z"
    }
   },
   "id": "f2b9f958b45f7823",
   "execution_count": 44
  },
  {
   "cell_type": "markdown",
   "source": [
    "# PREPARING DATA FOR MODEL"
   ],
   "metadata": {
    "collapsed": false
   },
   "id": "491110a013f83c8c"
  },
  {
   "cell_type": "code",
   "outputs": [],
   "source": [],
   "metadata": {
    "collapsed": false,
    "ExecuteTime": {
     "end_time": "2024-08-10T21:42:29.771213300Z",
     "start_time": "2024-08-10T21:42:29.765901600Z"
    }
   },
   "id": "fc1173257609c3a0",
   "execution_count": 44
  },
  {
   "cell_type": "code",
   "outputs": [],
   "source": [],
   "metadata": {
    "collapsed": false,
    "ExecuteTime": {
     "end_time": "2024-08-10T21:42:29.780557800Z",
     "start_time": "2024-08-10T21:42:29.768795Z"
    }
   },
   "id": "a781fd86440e6d4",
   "execution_count": 44
  },
  {
   "cell_type": "code",
   "outputs": [],
   "source": [],
   "metadata": {
    "collapsed": false,
    "ExecuteTime": {
     "end_time": "2024-08-10T21:42:29.781558Z",
     "start_time": "2024-08-10T21:42:29.769801800Z"
    }
   },
   "id": "177def70ee0321bd",
   "execution_count": 44
  },
  {
   "cell_type": "code",
   "outputs": [],
   "source": [],
   "metadata": {
    "collapsed": false,
    "ExecuteTime": {
     "end_time": "2024-08-10T21:42:29.782561Z",
     "start_time": "2024-08-10T21:42:29.774533500Z"
    }
   },
   "id": "917fd3fd360ff309",
   "execution_count": 44
  }
 ],
 "metadata": {
  "kernelspec": {
   "display_name": "Python 3",
   "language": "python",
   "name": "python3"
  },
  "language_info": {
   "codemirror_mode": {
    "name": "ipython",
    "version": 2
   },
   "file_extension": ".py",
   "mimetype": "text/x-python",
   "name": "python",
   "nbconvert_exporter": "python",
   "pygments_lexer": "ipython2",
   "version": "2.7.6"
  }
 },
 "nbformat": 4,
 "nbformat_minor": 5
}
