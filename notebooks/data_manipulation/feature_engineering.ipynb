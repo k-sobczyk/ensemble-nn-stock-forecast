{
 "cells": [
  {
   "cell_type": "markdown",
   "source": [
    "# DATA PREPARATION PART 2"
   ],
   "metadata": {
    "collapsed": false
   },
   "id": "15c298ddfd591cc6"
  },
  {
   "cell_type": "code",
   "outputs": [],
   "source": [
    "import pandas as pd"
   ],
   "metadata": {
    "collapsed": false,
    "ExecuteTime": {
     "end_time": "2024-08-21T18:12:09.734444Z",
     "start_time": "2024-08-21T18:12:09.473659Z"
    }
   },
   "id": "a7372de7f3a3d340",
   "execution_count": 1
  },
  {
   "cell_type": "code",
   "outputs": [],
   "source": [
    "data = pd.read_csv('../../data/processed/data.csv')"
   ],
   "metadata": {
    "collapsed": false,
    "ExecuteTime": {
     "end_time": "2024-08-21T18:12:09.753020Z",
     "start_time": "2024-08-21T18:12:09.734444Z"
    }
   },
   "id": "e9f179c6b109c8cf",
   "execution_count": 2
  },
  {
   "cell_type": "code",
   "outputs": [],
   "source": [
    "data = (data.drop(columns='Unnamed: 0')\n",
    "            .sort_values(by=['file_name', 'end_of_period'], ascending=False))"
   ],
   "metadata": {
    "collapsed": false,
    "ExecuteTime": {
     "end_time": "2024-08-21T18:12:09.758355Z",
     "start_time": "2024-08-21T18:12:09.753020Z"
    }
   },
   "id": "e116b23945a56a2e",
   "execution_count": 3
  },
  {
   "cell_type": "code",
   "outputs": [],
   "source": [
    "data['total_liabilities'] = data['current_liabilities'] + data['non_current_liabilities']"
   ],
   "metadata": {
    "collapsed": false,
    "ExecuteTime": {
     "end_time": "2024-08-21T18:12:09.761672Z",
     "start_time": "2024-08-21T18:12:09.758355Z"
    }
   },
   "id": "ee57e9ea29ee7f4f",
   "execution_count": 4
  },
  {
   "cell_type": "code",
   "outputs": [
    {
     "data": {
      "text/plain": "     end_of_period  total_assets  non_current_assets  current_assets  \\\n7674    2022-07-01     2733389.0           1720912.0       1012477.0   \n7673    2022-04-01     2981239.0           1730362.0       1250877.0   \n7672    2021-10-01     2508447.0           1726721.0        781726.0   \n\n      property_plant_equipment  intangible_assets  inventories  \\\n7674                 1025678.0           337294.0     171367.0   \n7673                 1031440.0           340644.0     202267.0   \n7672                 1050251.0           347755.0     140983.0   \n\n      trade_receivables  cash_and_cash_equivalents  \\\n7674           826650.0                     6249.0   \n7673          1039206.0                     6404.0   \n7672           570261.0                     2510.0   \n\n      equity_shareholders_of_the_parent  ...  current_liabilities  \\\n7674                           304293.0  ...            1468424.0   \n7673                           288397.0  ...            1631516.0   \n7672                           216089.0  ...            2209321.0   \n\n      non_current_loans_and_borrowings  \\\n7674                          875000.0   \n7673                          975000.0   \n7672                               0.0   \n\n      financial_liabilities_loans_borrowings  total_shares    file_name  \\\n7674                                 85884.0       10271.0  ZYWIEC.xlsx   \n7673                                 96674.0       10271.0  ZYWIEC.xlsx   \n7672                               1094585.0       10271.0  ZYWIEC.xlsx   \n\n         company_name  ticker  sector target total_liabilities  \n7674  Grupa Żywiec SA     ZWC  napoje  494.0         2429096.0  \n7673  Grupa Żywiec SA     ZWC  napoje  510.0         2692842.0  \n7672  Grupa Żywiec SA     ZWC  napoje  462.0         2292358.0  \n\n[3 rows x 23 columns]",
      "text/html": "<div>\n<style scoped>\n    .dataframe tbody tr th:only-of-type {\n        vertical-align: middle;\n    }\n\n    .dataframe tbody tr th {\n        vertical-align: top;\n    }\n\n    .dataframe thead th {\n        text-align: right;\n    }\n</style>\n<table border=\"1\" class=\"dataframe\">\n  <thead>\n    <tr style=\"text-align: right;\">\n      <th></th>\n      <th>end_of_period</th>\n      <th>total_assets</th>\n      <th>non_current_assets</th>\n      <th>current_assets</th>\n      <th>property_plant_equipment</th>\n      <th>intangible_assets</th>\n      <th>inventories</th>\n      <th>trade_receivables</th>\n      <th>cash_and_cash_equivalents</th>\n      <th>equity_shareholders_of_the_parent</th>\n      <th>...</th>\n      <th>current_liabilities</th>\n      <th>non_current_loans_and_borrowings</th>\n      <th>financial_liabilities_loans_borrowings</th>\n      <th>total_shares</th>\n      <th>file_name</th>\n      <th>company_name</th>\n      <th>ticker</th>\n      <th>sector</th>\n      <th>target</th>\n      <th>total_liabilities</th>\n    </tr>\n  </thead>\n  <tbody>\n    <tr>\n      <th>7674</th>\n      <td>2022-07-01</td>\n      <td>2733389.0</td>\n      <td>1720912.0</td>\n      <td>1012477.0</td>\n      <td>1025678.0</td>\n      <td>337294.0</td>\n      <td>171367.0</td>\n      <td>826650.0</td>\n      <td>6249.0</td>\n      <td>304293.0</td>\n      <td>...</td>\n      <td>1468424.0</td>\n      <td>875000.0</td>\n      <td>85884.0</td>\n      <td>10271.0</td>\n      <td>ZYWIEC.xlsx</td>\n      <td>Grupa Żywiec SA</td>\n      <td>ZWC</td>\n      <td>napoje</td>\n      <td>494.0</td>\n      <td>2429096.0</td>\n    </tr>\n    <tr>\n      <th>7673</th>\n      <td>2022-04-01</td>\n      <td>2981239.0</td>\n      <td>1730362.0</td>\n      <td>1250877.0</td>\n      <td>1031440.0</td>\n      <td>340644.0</td>\n      <td>202267.0</td>\n      <td>1039206.0</td>\n      <td>6404.0</td>\n      <td>288397.0</td>\n      <td>...</td>\n      <td>1631516.0</td>\n      <td>975000.0</td>\n      <td>96674.0</td>\n      <td>10271.0</td>\n      <td>ZYWIEC.xlsx</td>\n      <td>Grupa Żywiec SA</td>\n      <td>ZWC</td>\n      <td>napoje</td>\n      <td>510.0</td>\n      <td>2692842.0</td>\n    </tr>\n    <tr>\n      <th>7672</th>\n      <td>2021-10-01</td>\n      <td>2508447.0</td>\n      <td>1726721.0</td>\n      <td>781726.0</td>\n      <td>1050251.0</td>\n      <td>347755.0</td>\n      <td>140983.0</td>\n      <td>570261.0</td>\n      <td>2510.0</td>\n      <td>216089.0</td>\n      <td>...</td>\n      <td>2209321.0</td>\n      <td>0.0</td>\n      <td>1094585.0</td>\n      <td>10271.0</td>\n      <td>ZYWIEC.xlsx</td>\n      <td>Grupa Żywiec SA</td>\n      <td>ZWC</td>\n      <td>napoje</td>\n      <td>462.0</td>\n      <td>2292358.0</td>\n    </tr>\n  </tbody>\n</table>\n<p>3 rows × 23 columns</p>\n</div>"
     },
     "execution_count": 5,
     "metadata": {},
     "output_type": "execute_result"
    }
   ],
   "source": [
    "data.head(3)"
   ],
   "metadata": {
    "collapsed": false,
    "ExecuteTime": {
     "end_time": "2024-08-21T18:12:09.773422Z",
     "start_time": "2024-08-21T18:12:09.761672Z"
    }
   },
   "id": "3ba1e8f21e8c47ea",
   "execution_count": 5
  },
  {
   "cell_type": "code",
   "outputs": [],
   "source": [
    "attributes = [\n",
    "    'total_assets', 'non_current_assets', 'current_assets',\n",
    "    'property_plant_equipment', 'intangible_assets', 'inventories',\n",
    "    'trade_receivables', 'cash_and_cash_equivalents', 'equity_shareholders_of_the_parent',\n",
    "    'share_capital', 'retained_earning_accumulated_losses', 'non_current_liabilities',\n",
    "    'current_liabilities', 'non_current_loans_and_borrowings', 'financial_liabilities_loans_borrowings'\n",
    "]\n",
    "\n",
    "def calculate_financial_differences(df, attributes, periods=[1, 2, 4], company_col='file_name', sort_col='end_of_period'):\n",
    "    # Ensure the dataframe is sorted by company and date\n",
    "    df = df.sort_values([company_col, sort_col])\n",
    "    \n",
    "    # Create a copy of the dataframe to avoid modifying the original\n",
    "    result_df = df.copy()\n",
    "    \n",
    "    # Calculate differences for each attribute and period\n",
    "    for attr in attributes:\n",
    "        for period in periods:\n",
    "            diff_col_name = f'{attr}_diff_{period}q'\n",
    "            result_df[diff_col_name] = result_df.groupby(company_col)[attr].diff(periods=period)\n",
    "    \n",
    "    return result_df\n",
    "\n",
    "df = calculate_financial_differences(data, attributes)"
   ],
   "metadata": {
    "collapsed": false,
    "ExecuteTime": {
     "end_time": "2024-08-21T18:12:09.801909Z",
     "start_time": "2024-08-21T18:12:09.773422Z"
    }
   },
   "id": "a998df44913e2c4d",
   "execution_count": 6
  },
  {
   "cell_type": "code",
   "outputs": [],
   "source": [
    "df = df.dropna(subset='property_plant_equipment_diff_4q')"
   ],
   "metadata": {
    "collapsed": false,
    "ExecuteTime": {
     "end_time": "2024-08-21T18:12:09.806830Z",
     "start_time": "2024-08-21T18:12:09.801909Z"
    }
   },
   "id": "319026a26c993b69",
   "execution_count": 7
  },
  {
   "cell_type": "code",
   "outputs": [
    {
     "data": {
      "text/plain": "(6508, 68)"
     },
     "execution_count": 8,
     "metadata": {},
     "output_type": "execute_result"
    }
   ],
   "source": [
    "df.shape"
   ],
   "metadata": {
    "collapsed": false,
    "ExecuteTime": {
     "end_time": "2024-08-21T18:12:09.810021Z",
     "start_time": "2024-08-21T18:12:09.806830Z"
    }
   },
   "id": "86032a1d05ad976c",
   "execution_count": 8
  },
  {
   "cell_type": "code",
   "outputs": [],
   "source": [
    "df['target'] = df.pop('target')"
   ],
   "metadata": {
    "collapsed": false,
    "ExecuteTime": {
     "end_time": "2024-08-21T18:12:09.812799Z",
     "start_time": "2024-08-21T18:12:09.810021Z"
    }
   },
   "id": "9eb19448ae7166cf",
   "execution_count": 9
  },
  {
   "cell_type": "code",
   "outputs": [
    {
     "data": {
      "text/plain": "   end_of_period  total_assets  non_current_assets  current_assets  \\\n4     2013-10-01        8713.0               590.0          8123.0   \n5     2014-04-01        7645.0               830.0          6815.0   \n6     2014-07-01        7699.0               965.0          6735.0   \n7     2014-10-01       21516.0              6602.0         14914.0   \n8     2015-04-01       27828.0              1475.0         26354.0   \n9     2015-07-01       28580.0              7205.0         21375.0   \n10    2015-10-01       33896.0              7073.0         26822.0   \n11    2016-04-01       38931.0              7469.0         31462.0   \n12    2016-07-01       40648.0              8574.0         32074.0   \n13    2018-10-01      109263.0             41317.0         67946.0   \n\n    property_plant_equipment  intangible_assets  inventories  \\\n4                       63.0              467.0       3442.0   \n5                       53.0              712.0       4327.0   \n6                      123.0              781.0       4924.0   \n7                      104.0             6301.0          0.0   \n8                       85.0             1214.0       4807.0   \n9                      108.0             7035.0          0.0   \n10                     438.0             6388.0          0.0   \n11                     610.0             6753.0          0.0   \n12                     691.0             7582.0          0.0   \n13                   18734.0            17138.0          0.0   \n\n    trade_receivables  cash_and_cash_equivalents  \\\n4               813.0                     3741.0   \n5               537.0                     1919.0   \n6               798.0                      976.0   \n7              7252.0                     7644.0   \n8              4796.0                    16143.0   \n9              2058.0                    19106.0   \n10             2749.0                    22931.0   \n11             5331.0                    24514.0   \n12             4867.0                    27106.0   \n13            14553.0                    24251.0   \n\n    equity_shareholders_of_the_parent  ...  current_liabilities_diff_1q  \\\n4                              7922.0  ...                        346.0   \n5                              6918.0  ...                        -62.0   \n6                              6735.0  ...                        236.0   \n7                             17005.0  ...                       2441.0   \n8                             24626.0  ...                       -203.0   \n9                             26629.0  ...                      -2154.0   \n10                            29852.0  ...                       2425.0   \n11                            36563.0  ...                      -1694.0   \n12                            38208.0  ...                         91.0   \n13                            89912.0  ...                       5464.0   \n\n    current_liabilities_diff_2q  current_liabilities_diff_4q  \\\n4                         368.0                        726.0   \n5                         284.0                        647.0   \n6                         174.0                        542.0   \n7                        2677.0                       2961.0   \n8                        2238.0                       2412.0   \n9                       -2357.0                        320.0   \n10                        271.0                       2509.0   \n11                        731.0                      -1626.0   \n12                      -1603.0                      -1332.0   \n13                       5555.0                       6286.0   \n\n    non_current_loans_and_borrowings_diff_1q  \\\n4                                        0.0   \n5                                        0.0   \n6                                        0.0   \n7                                        0.0   \n8                                        0.0   \n9                                        0.0   \n10                                       0.0   \n11                                       0.0   \n12                                       0.0   \n13                                   11340.0   \n\n    non_current_loans_and_borrowings_diff_2q  \\\n4                                        0.0   \n5                                        0.0   \n6                                        0.0   \n7                                        0.0   \n8                                        0.0   \n9                                        0.0   \n10                                       0.0   \n11                                       0.0   \n12                                       0.0   \n13                                   11340.0   \n\n    non_current_loans_and_borrowings_diff_4q  \\\n4                                        0.0   \n5                                        0.0   \n6                                        0.0   \n7                                        0.0   \n8                                        0.0   \n9                                        0.0   \n10                                       0.0   \n11                                       0.0   \n12                                       0.0   \n13                                   11340.0   \n\n    financial_liabilities_loans_borrowings_diff_1q  \\\n4                                              0.0   \n5                                              0.0   \n6                                              0.0   \n7                                              0.0   \n8                                              0.0   \n9                                              0.0   \n10                                             0.0   \n11                                             0.0   \n12                                             0.0   \n13                                          1452.0   \n\n   financial_liabilities_loans_borrowings_diff_2q  \\\n4                                             1.0   \n5                                             0.0   \n6                                             0.0   \n7                                             0.0   \n8                                             0.0   \n9                                             0.0   \n10                                            0.0   \n11                                            0.0   \n12                                            0.0   \n13                                         1452.0   \n\n   financial_liabilities_loans_borrowings_diff_4q target  \n4                                             0.0    9.0  \n5                                             0.0   11.0  \n6                                             1.0   12.0  \n7                                             0.0   11.0  \n8                                             0.0   72.0  \n9                                             0.0   67.0  \n10                                            0.0   65.0  \n11                                            0.0   72.0  \n12                                            0.0   77.0  \n13                                         1452.0  336.0  \n\n[10 rows x 68 columns]",
      "text/html": "<div>\n<style scoped>\n    .dataframe tbody tr th:only-of-type {\n        vertical-align: middle;\n    }\n\n    .dataframe tbody tr th {\n        vertical-align: top;\n    }\n\n    .dataframe thead th {\n        text-align: right;\n    }\n</style>\n<table border=\"1\" class=\"dataframe\">\n  <thead>\n    <tr style=\"text-align: right;\">\n      <th></th>\n      <th>end_of_period</th>\n      <th>total_assets</th>\n      <th>non_current_assets</th>\n      <th>current_assets</th>\n      <th>property_plant_equipment</th>\n      <th>intangible_assets</th>\n      <th>inventories</th>\n      <th>trade_receivables</th>\n      <th>cash_and_cash_equivalents</th>\n      <th>equity_shareholders_of_the_parent</th>\n      <th>...</th>\n      <th>current_liabilities_diff_1q</th>\n      <th>current_liabilities_diff_2q</th>\n      <th>current_liabilities_diff_4q</th>\n      <th>non_current_loans_and_borrowings_diff_1q</th>\n      <th>non_current_loans_and_borrowings_diff_2q</th>\n      <th>non_current_loans_and_borrowings_diff_4q</th>\n      <th>financial_liabilities_loans_borrowings_diff_1q</th>\n      <th>financial_liabilities_loans_borrowings_diff_2q</th>\n      <th>financial_liabilities_loans_borrowings_diff_4q</th>\n      <th>target</th>\n    </tr>\n  </thead>\n  <tbody>\n    <tr>\n      <th>4</th>\n      <td>2013-10-01</td>\n      <td>8713.0</td>\n      <td>590.0</td>\n      <td>8123.0</td>\n      <td>63.0</td>\n      <td>467.0</td>\n      <td>3442.0</td>\n      <td>813.0</td>\n      <td>3741.0</td>\n      <td>7922.0</td>\n      <td>...</td>\n      <td>346.0</td>\n      <td>368.0</td>\n      <td>726.0</td>\n      <td>0.0</td>\n      <td>0.0</td>\n      <td>0.0</td>\n      <td>0.0</td>\n      <td>1.0</td>\n      <td>0.0</td>\n      <td>9.0</td>\n    </tr>\n    <tr>\n      <th>5</th>\n      <td>2014-04-01</td>\n      <td>7645.0</td>\n      <td>830.0</td>\n      <td>6815.0</td>\n      <td>53.0</td>\n      <td>712.0</td>\n      <td>4327.0</td>\n      <td>537.0</td>\n      <td>1919.0</td>\n      <td>6918.0</td>\n      <td>...</td>\n      <td>-62.0</td>\n      <td>284.0</td>\n      <td>647.0</td>\n      <td>0.0</td>\n      <td>0.0</td>\n      <td>0.0</td>\n      <td>0.0</td>\n      <td>0.0</td>\n      <td>0.0</td>\n      <td>11.0</td>\n    </tr>\n    <tr>\n      <th>6</th>\n      <td>2014-07-01</td>\n      <td>7699.0</td>\n      <td>965.0</td>\n      <td>6735.0</td>\n      <td>123.0</td>\n      <td>781.0</td>\n      <td>4924.0</td>\n      <td>798.0</td>\n      <td>976.0</td>\n      <td>6735.0</td>\n      <td>...</td>\n      <td>236.0</td>\n      <td>174.0</td>\n      <td>542.0</td>\n      <td>0.0</td>\n      <td>0.0</td>\n      <td>0.0</td>\n      <td>0.0</td>\n      <td>0.0</td>\n      <td>1.0</td>\n      <td>12.0</td>\n    </tr>\n    <tr>\n      <th>7</th>\n      <td>2014-10-01</td>\n      <td>21516.0</td>\n      <td>6602.0</td>\n      <td>14914.0</td>\n      <td>104.0</td>\n      <td>6301.0</td>\n      <td>0.0</td>\n      <td>7252.0</td>\n      <td>7644.0</td>\n      <td>17005.0</td>\n      <td>...</td>\n      <td>2441.0</td>\n      <td>2677.0</td>\n      <td>2961.0</td>\n      <td>0.0</td>\n      <td>0.0</td>\n      <td>0.0</td>\n      <td>0.0</td>\n      <td>0.0</td>\n      <td>0.0</td>\n      <td>11.0</td>\n    </tr>\n    <tr>\n      <th>8</th>\n      <td>2015-04-01</td>\n      <td>27828.0</td>\n      <td>1475.0</td>\n      <td>26354.0</td>\n      <td>85.0</td>\n      <td>1214.0</td>\n      <td>4807.0</td>\n      <td>4796.0</td>\n      <td>16143.0</td>\n      <td>24626.0</td>\n      <td>...</td>\n      <td>-203.0</td>\n      <td>2238.0</td>\n      <td>2412.0</td>\n      <td>0.0</td>\n      <td>0.0</td>\n      <td>0.0</td>\n      <td>0.0</td>\n      <td>0.0</td>\n      <td>0.0</td>\n      <td>72.0</td>\n    </tr>\n    <tr>\n      <th>9</th>\n      <td>2015-07-01</td>\n      <td>28580.0</td>\n      <td>7205.0</td>\n      <td>21375.0</td>\n      <td>108.0</td>\n      <td>7035.0</td>\n      <td>0.0</td>\n      <td>2058.0</td>\n      <td>19106.0</td>\n      <td>26629.0</td>\n      <td>...</td>\n      <td>-2154.0</td>\n      <td>-2357.0</td>\n      <td>320.0</td>\n      <td>0.0</td>\n      <td>0.0</td>\n      <td>0.0</td>\n      <td>0.0</td>\n      <td>0.0</td>\n      <td>0.0</td>\n      <td>67.0</td>\n    </tr>\n    <tr>\n      <th>10</th>\n      <td>2015-10-01</td>\n      <td>33896.0</td>\n      <td>7073.0</td>\n      <td>26822.0</td>\n      <td>438.0</td>\n      <td>6388.0</td>\n      <td>0.0</td>\n      <td>2749.0</td>\n      <td>22931.0</td>\n      <td>29852.0</td>\n      <td>...</td>\n      <td>2425.0</td>\n      <td>271.0</td>\n      <td>2509.0</td>\n      <td>0.0</td>\n      <td>0.0</td>\n      <td>0.0</td>\n      <td>0.0</td>\n      <td>0.0</td>\n      <td>0.0</td>\n      <td>65.0</td>\n    </tr>\n    <tr>\n      <th>11</th>\n      <td>2016-04-01</td>\n      <td>38931.0</td>\n      <td>7469.0</td>\n      <td>31462.0</td>\n      <td>610.0</td>\n      <td>6753.0</td>\n      <td>0.0</td>\n      <td>5331.0</td>\n      <td>24514.0</td>\n      <td>36563.0</td>\n      <td>...</td>\n      <td>-1694.0</td>\n      <td>731.0</td>\n      <td>-1626.0</td>\n      <td>0.0</td>\n      <td>0.0</td>\n      <td>0.0</td>\n      <td>0.0</td>\n      <td>0.0</td>\n      <td>0.0</td>\n      <td>72.0</td>\n    </tr>\n    <tr>\n      <th>12</th>\n      <td>2016-07-01</td>\n      <td>40648.0</td>\n      <td>8574.0</td>\n      <td>32074.0</td>\n      <td>691.0</td>\n      <td>7582.0</td>\n      <td>0.0</td>\n      <td>4867.0</td>\n      <td>27106.0</td>\n      <td>38208.0</td>\n      <td>...</td>\n      <td>91.0</td>\n      <td>-1603.0</td>\n      <td>-1332.0</td>\n      <td>0.0</td>\n      <td>0.0</td>\n      <td>0.0</td>\n      <td>0.0</td>\n      <td>0.0</td>\n      <td>0.0</td>\n      <td>77.0</td>\n    </tr>\n    <tr>\n      <th>13</th>\n      <td>2018-10-01</td>\n      <td>109263.0</td>\n      <td>41317.0</td>\n      <td>67946.0</td>\n      <td>18734.0</td>\n      <td>17138.0</td>\n      <td>0.0</td>\n      <td>14553.0</td>\n      <td>24251.0</td>\n      <td>89912.0</td>\n      <td>...</td>\n      <td>5464.0</td>\n      <td>5555.0</td>\n      <td>6286.0</td>\n      <td>11340.0</td>\n      <td>11340.0</td>\n      <td>11340.0</td>\n      <td>1452.0</td>\n      <td>1452.0</td>\n      <td>1452.0</td>\n      <td>336.0</td>\n    </tr>\n  </tbody>\n</table>\n<p>10 rows × 68 columns</p>\n</div>"
     },
     "execution_count": 10,
     "metadata": {},
     "output_type": "execute_result"
    }
   ],
   "source": [
    "df.head(10)"
   ],
   "metadata": {
    "collapsed": false,
    "ExecuteTime": {
     "end_time": "2024-08-21T18:12:09.825682Z",
     "start_time": "2024-08-21T18:12:09.812799Z"
    }
   },
   "id": "9b64511f5efe9d8b",
   "execution_count": 10
  },
  {
   "cell_type": "code",
   "outputs": [],
   "source": [
    "df.to_csv('../../data/processed/data_with_features.csv', index=False)"
   ],
   "metadata": {
    "collapsed": false,
    "ExecuteTime": {
     "end_time": "2024-08-21T18:12:09.963019Z",
     "start_time": "2024-08-21T18:12:09.825682Z"
    }
   },
   "id": "4041bd4fbd6c8bf6",
   "execution_count": 11
  }
 ],
 "metadata": {
  "kernelspec": {
   "display_name": "Python 3",
   "language": "python",
   "name": "python3"
  },
  "language_info": {
   "codemirror_mode": {
    "name": "ipython",
    "version": 2
   },
   "file_extension": ".py",
   "mimetype": "text/x-python",
   "name": "python",
   "nbconvert_exporter": "python",
   "pygments_lexer": "ipython2",
   "version": "2.7.6"
  }
 },
 "nbformat": 4,
 "nbformat_minor": 5
}
