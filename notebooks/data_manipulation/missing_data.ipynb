{
 "cells": [
  {
   "cell_type": "code",
   "execution_count": 31,
   "id": "initial_id",
   "metadata": {
    "ExecuteTime": {
     "end_time": "2025-02-23T10:36:01.425324Z",
     "start_time": "2025-02-23T10:36:01.097412Z"
    },
    "collapsed": true
   },
   "outputs": [],
   "source": [
    "import pandas as pd\n",
    "import numpy as np\n"
   ]
  },
  {
   "cell_type": "code",
   "execution_count": 32,
   "id": "b1d184ce879093af",
   "metadata": {
    "ExecuteTime": {
     "end_time": "2025-02-23T10:36:01.465315Z",
     "start_time": "2025-02-23T10:36:01.429642Z"
    }
   },
   "outputs": [],
   "source": [
    "df = pd.read_csv('../../data/processed/data.csv')"
   ]
  },
  {
   "cell_type": "code",
   "execution_count": 33,
   "id": "1802fc32232b232f",
   "metadata": {
    "ExecuteTime": {
     "end_time": "2025-02-23T10:36:01.629698Z",
     "start_time": "2025-02-23T10:36:01.614349Z"
    }
   },
   "outputs": [
    {
     "data": {
      "text/html": [
       "<div>\n",
       "<style scoped>\n",
       "    .dataframe tbody tr th:only-of-type {\n",
       "        vertical-align: middle;\n",
       "    }\n",
       "\n",
       "    .dataframe tbody tr th {\n",
       "        vertical-align: top;\n",
       "    }\n",
       "\n",
       "    .dataframe thead th {\n",
       "        text-align: right;\n",
       "    }\n",
       "</style>\n",
       "<table border=\"1\" class=\"dataframe\">\n",
       "  <thead>\n",
       "    <tr style=\"text-align: right;\">\n",
       "      <th></th>\n",
       "      <th>end_of_period</th>\n",
       "      <th>total_assets</th>\n",
       "      <th>non_current_assets</th>\n",
       "      <th>current_assets</th>\n",
       "      <th>property_plant_equipment</th>\n",
       "      <th>intangible_assets</th>\n",
       "      <th>inventories</th>\n",
       "      <th>trade_receivables</th>\n",
       "      <th>cash_and_cash_equivalents</th>\n",
       "      <th>equity_shareholders_of_the_parent</th>\n",
       "      <th>share_capital</th>\n",
       "      <th>retained_earning_accumulated_losses</th>\n",
       "      <th>non_current_liabilities</th>\n",
       "      <th>current_liabilities</th>\n",
       "      <th>non_current_loans_and_borrowings</th>\n",
       "      <th>financial_liabilities_loans_borrowings</th>\n",
       "      <th>total_shares</th>\n",
       "      <th>file_name</th>\n",
       "      <th>ticker</th>\n",
       "      <th>target</th>\n",
       "    </tr>\n",
       "  </thead>\n",
       "  <tbody>\n",
       "    <tr>\n",
       "      <th>0</th>\n",
       "      <td>2011-03-01</td>\n",
       "      <td>1342.0</td>\n",
       "      <td>86.0</td>\n",
       "      <td>1256.0</td>\n",
       "      <td>0.0</td>\n",
       "      <td>0.0</td>\n",
       "      <td>0.0</td>\n",
       "      <td>0.0</td>\n",
       "      <td>0.0</td>\n",
       "      <td>1221.0</td>\n",
       "      <td>0.0</td>\n",
       "      <td>0.0</td>\n",
       "      <td>0.0</td>\n",
       "      <td>110.0</td>\n",
       "      <td>0.0</td>\n",
       "      <td>0.0</td>\n",
       "      <td>1870.76</td>\n",
       "      <td>11BIT.xlsx</td>\n",
       "      <td>11B</td>\n",
       "      <td>7.54</td>\n",
       "    </tr>\n",
       "    <tr>\n",
       "      <th>1</th>\n",
       "      <td>2011-06-01</td>\n",
       "      <td>1659.0</td>\n",
       "      <td>103.0</td>\n",
       "      <td>1556.0</td>\n",
       "      <td>0.0</td>\n",
       "      <td>0.0</td>\n",
       "      <td>0.0</td>\n",
       "      <td>0.0</td>\n",
       "      <td>0.0</td>\n",
       "      <td>1595.0</td>\n",
       "      <td>0.0</td>\n",
       "      <td>0.0</td>\n",
       "      <td>0.0</td>\n",
       "      <td>64.0</td>\n",
       "      <td>0.0</td>\n",
       "      <td>0.0</td>\n",
       "      <td>1870.76</td>\n",
       "      <td>11BIT.xlsx</td>\n",
       "      <td>11B</td>\n",
       "      <td>24.00</td>\n",
       "    </tr>\n",
       "    <tr>\n",
       "      <th>2</th>\n",
       "      <td>2011-09-01</td>\n",
       "      <td>2141.0</td>\n",
       "      <td>85.0</td>\n",
       "      <td>2055.0</td>\n",
       "      <td>0.0</td>\n",
       "      <td>0.0</td>\n",
       "      <td>0.0</td>\n",
       "      <td>0.0</td>\n",
       "      <td>0.0</td>\n",
       "      <td>2060.0</td>\n",
       "      <td>0.0</td>\n",
       "      <td>0.0</td>\n",
       "      <td>0.0</td>\n",
       "      <td>81.0</td>\n",
       "      <td>0.0</td>\n",
       "      <td>0.0</td>\n",
       "      <td>1870.76</td>\n",
       "      <td>11BIT.xlsx</td>\n",
       "      <td>11B</td>\n",
       "      <td>14.95</td>\n",
       "    </tr>\n",
       "  </tbody>\n",
       "</table>\n",
       "</div>"
      ],
      "text/plain": [
       "  end_of_period  total_assets  non_current_assets  current_assets  \\\n",
       "0    2011-03-01        1342.0                86.0          1256.0   \n",
       "1    2011-06-01        1659.0               103.0          1556.0   \n",
       "2    2011-09-01        2141.0                85.0          2055.0   \n",
       "\n",
       "   property_plant_equipment  intangible_assets  inventories  \\\n",
       "0                       0.0                0.0          0.0   \n",
       "1                       0.0                0.0          0.0   \n",
       "2                       0.0                0.0          0.0   \n",
       "\n",
       "   trade_receivables  cash_and_cash_equivalents  \\\n",
       "0                0.0                        0.0   \n",
       "1                0.0                        0.0   \n",
       "2                0.0                        0.0   \n",
       "\n",
       "   equity_shareholders_of_the_parent  share_capital  \\\n",
       "0                             1221.0            0.0   \n",
       "1                             1595.0            0.0   \n",
       "2                             2060.0            0.0   \n",
       "\n",
       "   retained_earning_accumulated_losses  non_current_liabilities  \\\n",
       "0                                  0.0                      0.0   \n",
       "1                                  0.0                      0.0   \n",
       "2                                  0.0                      0.0   \n",
       "\n",
       "   current_liabilities  non_current_loans_and_borrowings  \\\n",
       "0                110.0                               0.0   \n",
       "1                 64.0                               0.0   \n",
       "2                 81.0                               0.0   \n",
       "\n",
       "   financial_liabilities_loans_borrowings  total_shares   file_name ticker  \\\n",
       "0                                     0.0       1870.76  11BIT.xlsx    11B   \n",
       "1                                     0.0       1870.76  11BIT.xlsx    11B   \n",
       "2                                     0.0       1870.76  11BIT.xlsx    11B   \n",
       "\n",
       "   target  \n",
       "0    7.54  \n",
       "1   24.00  \n",
       "2   14.95  "
      ]
     },
     "execution_count": 33,
     "metadata": {},
     "output_type": "execute_result"
    }
   ],
   "source": [
    "df.head(3)"
   ]
  },
  {
   "cell_type": "markdown",
   "id": "233980d5ff62be5a",
   "metadata": {},
   "source": [
    "max number of rows that can occur: 99"
   ]
  },
  {
   "cell_type": "code",
   "execution_count": 34,
   "id": "eb8db4777a86043f",
   "metadata": {
    "ExecuteTime": {
     "end_time": "2025-02-23T10:52:56.904280Z",
     "start_time": "2025-02-23T10:52:56.892251Z"
    }
   },
   "outputs": [
    {
     "name": "stdout",
     "output_type": "stream",
     "text": [
      "<class 'pandas.core.frame.DataFrame'>\n",
      "RangeIndex: 15495 entries, 0 to 15494\n",
      "Data columns (total 20 columns):\n",
      " #   Column                                  Non-Null Count  Dtype  \n",
      "---  ------                                  --------------  -----  \n",
      " 0   end_of_period                           15495 non-null  object \n",
      " 1   total_assets                            15495 non-null  float64\n",
      " 2   non_current_assets                      15495 non-null  float64\n",
      " 3   current_assets                          15495 non-null  float64\n",
      " 4   property_plant_equipment                15495 non-null  float64\n",
      " 5   intangible_assets                       15495 non-null  float64\n",
      " 6   inventories                             15495 non-null  float64\n",
      " 7   trade_receivables                       15495 non-null  float64\n",
      " 8   cash_and_cash_equivalents               15495 non-null  float64\n",
      " 9   equity_shareholders_of_the_parent       15495 non-null  float64\n",
      " 10  share_capital                           15495 non-null  float64\n",
      " 11  retained_earning_accumulated_losses     15495 non-null  float64\n",
      " 12  non_current_liabilities                 15495 non-null  float64\n",
      " 13  current_liabilities                     15495 non-null  float64\n",
      " 14  non_current_loans_and_borrowings        15495 non-null  float64\n",
      " 15  financial_liabilities_loans_borrowings  15495 non-null  float64\n",
      " 16  total_shares                            15495 non-null  float64\n",
      " 17  file_name                               15495 non-null  object \n",
      " 18  ticker                                  15495 non-null  object \n",
      " 19  target                                  15495 non-null  float64\n",
      "dtypes: float64(17), object(3)\n",
      "memory usage: 2.4+ MB\n"
     ]
    }
   ],
   "source": [
    "df.info()"
   ]
  },
  {
   "cell_type": "code",
   "execution_count": 35,
   "id": "df0fc8ce",
   "metadata": {},
   "outputs": [
    {
     "data": {
      "text/plain": [
       "(15495, 20)"
      ]
     },
     "execution_count": 35,
     "metadata": {},
     "output_type": "execute_result"
    }
   ],
   "source": [
    "df.shape"
   ]
  },
  {
   "cell_type": "code",
   "execution_count": 36,
   "id": "4f49108032b134e6",
   "metadata": {
    "ExecuteTime": {
     "end_time": "2025-02-23T10:53:55.668098Z",
     "start_time": "2025-02-23T10:53:55.652345Z"
    }
   },
   "outputs": [
    {
     "name": "stdout",
     "output_type": "stream",
     "text": [
      "Number of unique tickers: 303\n",
      "\n",
      "\n",
      "['11B' '3RG' 'ABE' 'ABS' 'ACG' 'ACP' 'ACT' 'ADV' 'AGO' 'AGT' 'ALG' 'ALL'\n",
      " 'AMB' 'AMC' 'AML' 'ANR' 'APE' 'APL' 'APN' 'APR' 'APT' 'ARR' 'ART' 'ASB'\n",
      " 'ASE' 'ASM' 'ATC' 'ATD' 'ATG' 'ATP' 'ATR' 'ATT' 'AWM' 'B24' 'BAH' 'BBT'\n",
      " 'BCM' 'BCS' 'BCX' 'BDX' 'BDZ' 'BFT' 'BIO' 'BIP' 'BMC' 'BMX' 'BOW' 'BRA'\n",
      " 'BRG' 'BRS' 'CAR' 'CCC' 'CDL' 'CDR' 'CEZ' 'CFI' 'CIE' 'CIG' 'CLN' 'CMP'\n",
      " 'CMR' 'CNT' 'COG' 'CPL' 'CPR' 'CPS' 'CRI' 'CRJ' 'CRM' 'CTS' 'CTX' 'DAD'\n",
      " 'DAT' 'DBC' 'DCR' 'DEK' 'DEL' 'DIG' 'DNP' 'DOM' 'DPL' 'DTR' 'EAH' 'EAT'\n",
      " 'EDI' 'EEX' 'EFK' 'ELT' 'ELZ' 'EMC' 'ENA' 'ENE' 'ENG' 'ENI' 'ENP' 'ENT'\n",
      " 'ERB' 'ERG' 'ETL' 'EUR' 'FEE' 'FER' 'FRO' 'FSG' 'FTE' 'GIF' 'GIG' 'GOB'\n",
      " 'GOP' 'GPP' 'GRN' 'HDR' 'HEL' 'HLD' 'HRP' 'HRS' 'HUG' 'ICE' 'IFI' 'IFR'\n",
      " 'IMC' 'IMS' 'INK' 'INL' 'IPO' 'IRL' 'ITB' 'IZB' 'IZO' 'IZS' 'JSW' 'JWW'\n",
      " 'KCH' 'KCI' 'KDM' 'KER' 'KGH' 'KGL' 'KGN' 'KMP' 'KOM' 'KPD' 'KPL' 'KRK'\n",
      " 'KTY' 'KVT' 'LAB' 'LBT' 'LBW' 'LEN' 'LES' 'LPP' 'LRK' 'LRQ' 'LSI' 'LTX'\n",
      " 'LWB' 'MAB' 'MAK' 'MAN' 'MBR' 'MCR' 'MDG' 'MDI' 'MEG' 'MEX' 'MFO' 'MGT'\n",
      " 'MIR' 'MLK' 'MLS' 'MNC' 'MOC' 'MOJ' 'MON' 'MRB' 'MRC' 'MSP' 'MSW' 'MSZ'\n",
      " 'MXC' 'MZA' 'NEU' 'NNG' 'NTT' 'NTU' 'NVA' 'NVT' 'NWG' 'NXG' 'OBL' 'ODL'\n",
      " 'OEX' 'OND' 'OPL' 'OPM' 'OPN' 'OTM' 'OTS' 'PAT' 'PBG' 'PBX' 'PCE' 'PCF'\n",
      " 'PCG' 'PCR' 'PCX' 'PEN' 'PEP' 'PGE' 'PGM' 'PHR' 'PJP' 'PKN' 'PKP' 'PLW'\n",
      " 'PMA' 'PMP' 'PPS' 'PRM' 'PRT' 'PTG' 'PTH' 'PUR' 'PWX' 'PXM' 'QNT' 'RAF'\n",
      " 'RBW' 'RDN' 'REG' 'RES' 'RFK' 'RLP' 'RMK' 'RPC' 'RVU' 'RWL' 'SEK' 'SEL'\n",
      " 'SES' 'SFG' 'SFS' 'SGN' 'SHO' 'SIM' 'SKA' 'SLV' 'SLZ' 'SNK' 'SNT' 'SNW'\n",
      " 'SNX' 'SOL' 'SON' 'SPH' 'SPR' 'STF' 'STH' 'STP' 'STS' 'STX' 'SUW' 'SVRS'\n",
      " 'SWG' 'TAR' 'TBL' 'TEN' 'TIM' 'TLX' 'TMR' 'TOA' 'TOR' 'TPE' 'TRK' 'TRN'\n",
      " 'TRR' 'TSG' 'TXM' 'ULG' 'ULM' 'UNI' 'UNT' 'VGO' 'VOX' 'VRC' 'VRG' 'VTL'\n",
      " 'VVD' 'WAS' 'WLT' 'WOJ' 'WPL' 'WTN' 'WWL' 'XTP' 'ZAP' 'ZEP' 'ZMT' 'ZRE'\n",
      " 'ZUE' 'ZUK' 'ZWC']\n"
     ]
    }
   ],
   "source": [
    "num_unique_tickers = df['ticker'].nunique()\n",
    "print(f\"Number of unique tickers: {num_unique_tickers}\")\n",
    "\n",
    "print('\\n')\n",
    "\n",
    "unique_tickers = df['ticker'].unique()\n",
    "print(unique_tickers)"
   ]
  },
  {
   "cell_type": "code",
   "execution_count": 37,
   "id": "67abaf04",
   "metadata": {},
   "outputs": [
    {
     "name": "stdout",
     "output_type": "stream",
     "text": [
      "\n",
      "Summary statistics:\n",
      "Maximum entries for a ticker: 99\n",
      "Minimum entries for a ticker: 1\n",
      "Average entries per ticker: 51.14\n",
      "Median entries per ticker: 50.00\n"
     ]
    }
   ],
   "source": [
    "ticker_counts = df['ticker'].value_counts()\n",
    "\n",
    "print(\"\\nSummary statistics:\")\n",
    "print(f\"Maximum entries for a ticker: {ticker_counts.max()}\")\n",
    "print(f\"Minimum entries for a ticker: {ticker_counts.min()}\")\n",
    "print(f\"Average entries per ticker: {ticker_counts.mean():.2f}\")\n",
    "print(f\"Median entries per ticker: {ticker_counts.median():.2f}\")"
   ]
  },
  {
   "cell_type": "code",
   "execution_count": 38,
   "id": "d8cc6d9c",
   "metadata": {},
   "outputs": [],
   "source": [
    "# Drop tickers that are insufficient\n",
    "\n",
    "tickers_to_drop = ['AGT', 'ANR', 'ASB', 'BBT', 'BCS', 'BCX', 'CRI', 'CRJ', 'CTS', 'CTX', 'DAD',\n",
    "                  'DNP', 'GIF', 'GOP', 'GPP', 'HLD', 'HUG', 'ICE', 'IMC', 'KDM', 'KER', 'MLK',\n",
    "                  'MLS', 'MOC', 'NNG', 'NTU', 'OND', 'PCF', 'PTG', 'PUR', 'SFG', 'SHO', 'SIM',\n",
    "                  'SLV', 'SLZ', 'SPH', 'SPR', 'STH', 'SVRS', 'TEN', 'TMR', 'TXM', 'VRC']\n",
    "\n",
    "\n",
    "df = df[~df['ticker'].isin(tickers_to_drop)]\n",
    "\n",
    "\n",
    "df['end_of_period'] = df['end_of_period'].astype('datetime64[ns]')\n",
    "cutoff_date = pd.to_datetime('2022-07-01')\n",
    "df = df[df['end_of_period'] <= cutoff_date]"
   ]
  },
  {
   "cell_type": "code",
   "execution_count": 39,
   "id": "a8d01791",
   "metadata": {},
   "outputs": [],
   "source": [
    "def fill_missing_quarters(df):\n",
    "   new_rows = []\n",
    "\n",
    "   for ticker in df['ticker'].unique():\n",
    "       ticker_data = df[df['ticker'] == ticker]\n",
    "\n",
    "       ticker_data = ticker_data.sort_values('end_of_period')\n",
    "\n",
    "       first_date = ticker_data['end_of_period'].min()\n",
    "       last_date = ticker_data['end_of_period'].max()\n",
    "\n",
    "       day_of_month = ticker_data['end_of_period'].dt.day.mode()[0]\n",
    "\n",
    "       all_quarters = []\n",
    "       current_date = first_date\n",
    "\n",
    "       while current_date <= last_date:\n",
    "           all_quarters.append(current_date)\n",
    "           year = current_date.year + (current_date.month + 3) // 12\n",
    "           month = (current_date.month + 3 - 1) % 12 + 1\n",
    "           current_date = pd.Timestamp(year=year, month=month, day=day_of_month)\n",
    "\n",
    "       existing_dates = set(ticker_data['end_of_period'])\n",
    "       all_quarters_set = set(all_quarters)\n",
    "       missing_dates = all_quarters_set - existing_dates\n",
    "\n",
    "       for missing_date in missing_dates:\n",
    "           new_row = {'ticker': ticker, 'end_of_period': missing_date}\n",
    "           new_rows.append(new_row)\n",
    "\n",
    "   if new_rows:\n",
    "       missing_df = pd.DataFrame(new_rows)\n",
    "\n",
    "       for col in df.columns:\n",
    "           if col not in ['ticker', 'end_of_period']:\n",
    "               missing_df[col] = np.nan\n",
    "\n",
    "       result_df = pd.concat([df, missing_df], ignore_index=True)\n",
    "       result_df = result_df.sort_values(['ticker', 'end_of_period'])\n",
    "\n",
    "       return result_df\n",
    "\n",
    "   return df\n",
    "\n",
    "\n",
    "df = fill_missing_quarters(df)"
   ]
  },
  {
   "cell_type": "code",
   "execution_count": 44,
   "id": "7dc330db",
   "metadata": {},
   "outputs": [
    {
     "data": {
      "text/plain": [
       "end_of_period                               0\n",
       "total_assets                              412\n",
       "non_current_assets                        412\n",
       "current_assets                            412\n",
       "property_plant_equipment                  412\n",
       "intangible_assets                         412\n",
       "inventories                               412\n",
       "trade_receivables                         412\n",
       "cash_and_cash_equivalents                 412\n",
       "equity_shareholders_of_the_parent         412\n",
       "share_capital                             412\n",
       "retained_earning_accumulated_losses       412\n",
       "non_current_liabilities                   412\n",
       "current_liabilities                       412\n",
       "non_current_loans_and_borrowings          412\n",
       "financial_liabilities_loans_borrowings    412\n",
       "total_shares                              412\n",
       "file_name                                 412\n",
       "ticker                                      0\n",
       "target                                    412\n",
       "dtype: int64"
      ]
     },
     "execution_count": 44,
     "metadata": {},
     "output_type": "execute_result"
    }
   ],
   "source": [
    "df.isnull().sum()"
   ]
  }
 ],
 "metadata": {
  "kernelspec": {
   "display_name": ".venv",
   "language": "python",
   "name": "python3"
  },
  "language_info": {
   "codemirror_mode": {
    "name": "ipython",
    "version": 3
   },
   "file_extension": ".py",
   "mimetype": "text/x-python",
   "name": "python",
   "nbconvert_exporter": "python",
   "pygments_lexer": "ipython3",
   "version": "3.13.2"
  }
 },
 "nbformat": 4,
 "nbformat_minor": 5
}
