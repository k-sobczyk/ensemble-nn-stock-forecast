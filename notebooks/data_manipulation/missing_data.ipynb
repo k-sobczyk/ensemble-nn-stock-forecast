{
 "cells": [
  {
   "cell_type": "code",
   "id": "initial_id",
   "metadata": {
    "collapsed": true,
    "ExecuteTime": {
     "end_time": "2025-02-23T10:36:01.425324Z",
     "start_time": "2025-02-23T10:36:01.097412Z"
    }
   },
   "source": "import pandas as pd",
   "outputs": [],
   "execution_count": 1
  },
  {
   "metadata": {
    "ExecuteTime": {
     "end_time": "2025-02-23T10:36:01.465315Z",
     "start_time": "2025-02-23T10:36:01.429642Z"
    }
   },
   "cell_type": "code",
   "source": "df = pd.read_csv('../../data/processed/data.csv')",
   "id": "b1d184ce879093af",
   "outputs": [],
   "execution_count": 2
  },
  {
   "metadata": {
    "ExecuteTime": {
     "end_time": "2025-02-23T10:36:01.629698Z",
     "start_time": "2025-02-23T10:36:01.614349Z"
    }
   },
   "cell_type": "code",
   "source": "df.head(3)",
   "id": "1802fc32232b232f",
   "outputs": [
    {
     "data": {
      "text/plain": [
       "  end_of_period  total_assets  non_current_assets  current_assets  \\\n",
       "0    2011-03-01        1342.0                86.0          1256.0   \n",
       "1    2011-06-01        1659.0               103.0          1556.0   \n",
       "2    2011-09-01        2141.0                85.0          2055.0   \n",
       "\n",
       "   property_plant_equipment  intangible_assets  inventories  \\\n",
       "0                       0.0                0.0          0.0   \n",
       "1                       0.0                0.0          0.0   \n",
       "2                       0.0                0.0          0.0   \n",
       "\n",
       "   trade_receivables  cash_and_cash_equivalents  \\\n",
       "0                0.0                        0.0   \n",
       "1                0.0                        0.0   \n",
       "2                0.0                        0.0   \n",
       "\n",
       "   equity_shareholders_of_the_parent  share_capital  \\\n",
       "0                             1221.0            0.0   \n",
       "1                             1595.0            0.0   \n",
       "2                             2060.0            0.0   \n",
       "\n",
       "   retained_earning_accumulated_losses  non_current_liabilities  \\\n",
       "0                                  0.0                      0.0   \n",
       "1                                  0.0                      0.0   \n",
       "2                                  0.0                      0.0   \n",
       "\n",
       "   current_liabilities  non_current_loans_and_borrowings  \\\n",
       "0                110.0                               0.0   \n",
       "1                 64.0                               0.0   \n",
       "2                 81.0                               0.0   \n",
       "\n",
       "   financial_liabilities_loans_borrowings  total_shares   file_name ticker  \\\n",
       "0                                     0.0       1870.76  11BIT.xlsx    11B   \n",
       "1                                     0.0       1870.76  11BIT.xlsx    11B   \n",
       "2                                     0.0       1870.76  11BIT.xlsx    11B   \n",
       "\n",
       "   target  \n",
       "0    7.54  \n",
       "1   24.00  \n",
       "2   14.95  "
      ],
      "text/html": [
       "<div>\n",
       "<style scoped>\n",
       "    .dataframe tbody tr th:only-of-type {\n",
       "        vertical-align: middle;\n",
       "    }\n",
       "\n",
       "    .dataframe tbody tr th {\n",
       "        vertical-align: top;\n",
       "    }\n",
       "\n",
       "    .dataframe thead th {\n",
       "        text-align: right;\n",
       "    }\n",
       "</style>\n",
       "<table border=\"1\" class=\"dataframe\">\n",
       "  <thead>\n",
       "    <tr style=\"text-align: right;\">\n",
       "      <th></th>\n",
       "      <th>end_of_period</th>\n",
       "      <th>total_assets</th>\n",
       "      <th>non_current_assets</th>\n",
       "      <th>current_assets</th>\n",
       "      <th>property_plant_equipment</th>\n",
       "      <th>intangible_assets</th>\n",
       "      <th>inventories</th>\n",
       "      <th>trade_receivables</th>\n",
       "      <th>cash_and_cash_equivalents</th>\n",
       "      <th>equity_shareholders_of_the_parent</th>\n",
       "      <th>share_capital</th>\n",
       "      <th>retained_earning_accumulated_losses</th>\n",
       "      <th>non_current_liabilities</th>\n",
       "      <th>current_liabilities</th>\n",
       "      <th>non_current_loans_and_borrowings</th>\n",
       "      <th>financial_liabilities_loans_borrowings</th>\n",
       "      <th>total_shares</th>\n",
       "      <th>file_name</th>\n",
       "      <th>ticker</th>\n",
       "      <th>target</th>\n",
       "    </tr>\n",
       "  </thead>\n",
       "  <tbody>\n",
       "    <tr>\n",
       "      <th>0</th>\n",
       "      <td>2011-03-01</td>\n",
       "      <td>1342.0</td>\n",
       "      <td>86.0</td>\n",
       "      <td>1256.0</td>\n",
       "      <td>0.0</td>\n",
       "      <td>0.0</td>\n",
       "      <td>0.0</td>\n",
       "      <td>0.0</td>\n",
       "      <td>0.0</td>\n",
       "      <td>1221.0</td>\n",
       "      <td>0.0</td>\n",
       "      <td>0.0</td>\n",
       "      <td>0.0</td>\n",
       "      <td>110.0</td>\n",
       "      <td>0.0</td>\n",
       "      <td>0.0</td>\n",
       "      <td>1870.76</td>\n",
       "      <td>11BIT.xlsx</td>\n",
       "      <td>11B</td>\n",
       "      <td>7.54</td>\n",
       "    </tr>\n",
       "    <tr>\n",
       "      <th>1</th>\n",
       "      <td>2011-06-01</td>\n",
       "      <td>1659.0</td>\n",
       "      <td>103.0</td>\n",
       "      <td>1556.0</td>\n",
       "      <td>0.0</td>\n",
       "      <td>0.0</td>\n",
       "      <td>0.0</td>\n",
       "      <td>0.0</td>\n",
       "      <td>0.0</td>\n",
       "      <td>1595.0</td>\n",
       "      <td>0.0</td>\n",
       "      <td>0.0</td>\n",
       "      <td>0.0</td>\n",
       "      <td>64.0</td>\n",
       "      <td>0.0</td>\n",
       "      <td>0.0</td>\n",
       "      <td>1870.76</td>\n",
       "      <td>11BIT.xlsx</td>\n",
       "      <td>11B</td>\n",
       "      <td>24.00</td>\n",
       "    </tr>\n",
       "    <tr>\n",
       "      <th>2</th>\n",
       "      <td>2011-09-01</td>\n",
       "      <td>2141.0</td>\n",
       "      <td>85.0</td>\n",
       "      <td>2055.0</td>\n",
       "      <td>0.0</td>\n",
       "      <td>0.0</td>\n",
       "      <td>0.0</td>\n",
       "      <td>0.0</td>\n",
       "      <td>0.0</td>\n",
       "      <td>2060.0</td>\n",
       "      <td>0.0</td>\n",
       "      <td>0.0</td>\n",
       "      <td>0.0</td>\n",
       "      <td>81.0</td>\n",
       "      <td>0.0</td>\n",
       "      <td>0.0</td>\n",
       "      <td>1870.76</td>\n",
       "      <td>11BIT.xlsx</td>\n",
       "      <td>11B</td>\n",
       "      <td>14.95</td>\n",
       "    </tr>\n",
       "  </tbody>\n",
       "</table>\n",
       "</div>"
      ]
     },
     "execution_count": 3,
     "metadata": {},
     "output_type": "execute_result"
    }
   ],
   "execution_count": 3
  },
  {
   "metadata": {},
   "cell_type": "markdown",
   "source": "max number of rows that can occur: 99",
   "id": "233980d5ff62be5a"
  },
  {
   "metadata": {
    "ExecuteTime": {
     "end_time": "2025-02-23T10:52:56.904280Z",
     "start_time": "2025-02-23T10:52:56.892251Z"
    }
   },
   "cell_type": "code",
   "source": "df.info()",
   "id": "eb8db4777a86043f",
   "outputs": [
    {
     "name": "stdout",
     "output_type": "stream",
     "text": [
      "<class 'pandas.core.frame.DataFrame'>\n",
      "RangeIndex: 15495 entries, 0 to 15494\n",
      "Data columns (total 20 columns):\n",
      " #   Column                                  Non-Null Count  Dtype  \n",
      "---  ------                                  --------------  -----  \n",
      " 0   end_of_period                           15495 non-null  object \n",
      " 1   total_assets                            15495 non-null  float64\n",
      " 2   non_current_assets                      15495 non-null  float64\n",
      " 3   current_assets                          15495 non-null  float64\n",
      " 4   property_plant_equipment                15495 non-null  float64\n",
      " 5   intangible_assets                       15495 non-null  float64\n",
      " 6   inventories                             15495 non-null  float64\n",
      " 7   trade_receivables                       15495 non-null  float64\n",
      " 8   cash_and_cash_equivalents               15495 non-null  float64\n",
      " 9   equity_shareholders_of_the_parent       15495 non-null  float64\n",
      " 10  share_capital                           15495 non-null  float64\n",
      " 11  retained_earning_accumulated_losses     15495 non-null  float64\n",
      " 12  non_current_liabilities                 15495 non-null  float64\n",
      " 13  current_liabilities                     15495 non-null  float64\n",
      " 14  non_current_loans_and_borrowings        15495 non-null  float64\n",
      " 15  financial_liabilities_loans_borrowings  15495 non-null  float64\n",
      " 16  total_shares                            15495 non-null  float64\n",
      " 17  file_name                               15495 non-null  object \n",
      " 18  ticker                                  15495 non-null  object \n",
      " 19  target                                  15495 non-null  float64\n",
      "dtypes: float64(17), object(3)\n",
      "memory usage: 2.4+ MB\n"
     ]
    }
   ],
   "execution_count": 4
  },
  {
   "metadata": {
    "ExecuteTime": {
     "end_time": "2025-02-23T10:53:55.668098Z",
     "start_time": "2025-02-23T10:53:55.652345Z"
    }
   },
   "cell_type": "code",
   "source": [
    "ticker_counts = df['ticker'].value_counts()\n",
    "ticker_counts.to_csv('test.csv', index=False)\n"
   ],
   "id": "4f49108032b134e6",
   "outputs": [],
   "execution_count": 6
  },
  {
   "metadata": {
    "ExecuteTime": {
     "end_time": "2025-02-23T10:36:01.791401Z",
     "start_time": "2025-02-23T10:36:01.789311Z"
    }
   },
   "cell_type": "code",
   "source": "",
   "id": "7b7c93b6870cbd42",
   "outputs": [],
   "execution_count": null
  },
  {
   "metadata": {
    "ExecuteTime": {
     "end_time": "2025-02-23T10:36:01.828543Z",
     "start_time": "2025-02-23T10:36:01.826414Z"
    }
   },
   "cell_type": "code",
   "source": "",
   "id": "ece91f75022d0b1f",
   "outputs": [],
   "execution_count": null
  },
  {
   "metadata": {
    "ExecuteTime": {
     "end_time": "2025-02-23T10:36:01.843129Z",
     "start_time": "2025-02-23T10:36:01.840926Z"
    }
   },
   "cell_type": "code",
   "source": "",
   "id": "ed93aec2234d8c72",
   "outputs": [],
   "execution_count": null
  }
 ],
 "metadata": {
  "kernelspec": {
   "display_name": "Python 3",
   "language": "python",
   "name": "python3"
  },
  "language_info": {
   "codemirror_mode": {
    "name": "ipython",
    "version": 2
   },
   "file_extension": ".py",
   "mimetype": "text/x-python",
   "name": "python",
   "nbconvert_exporter": "python",
   "pygments_lexer": "ipython2",
   "version": "2.7.6"
  }
 },
 "nbformat": 4,
 "nbformat_minor": 5
}
