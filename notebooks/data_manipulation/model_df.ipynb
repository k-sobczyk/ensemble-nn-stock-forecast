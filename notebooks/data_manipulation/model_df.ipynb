{
 "cells": [
  {
   "cell_type": "markdown",
   "id": "85afd27c31b23f25",
   "metadata": {
    "collapsed": false
   },
   "source": [
    "# DATA PREPARATION PART 3: Preparing Data for Model"
   ]
  },
  {
   "cell_type": "code",
   "execution_count": 8,
   "id": "cf20eb8dd279df5e",
   "metadata": {
    "ExecuteTime": {
     "end_time": "2025-02-23T11:01:52.808515Z",
     "start_time": "2025-02-23T11:01:43.164553Z"
    },
    "collapsed": false
   },
   "outputs": [],
   "source": [
    "import pandas as pd\n",
    "df = pd.read_csv('../../data/processed/data_with_features.csv')"
   ]
  },
  {
   "cell_type": "markdown",
   "id": "91456011f86e095a",
   "metadata": {
    "collapsed": false
   },
   "source": [
    "# One Hot Encoding"
   ]
  },
  {
   "cell_type": "code",
   "execution_count": 9,
   "id": "809cbb50",
   "metadata": {},
   "outputs": [
    {
     "data": {
      "text/plain": [
       "Index(['total_assets', 'non_current_assets', 'current_assets',\n",
       "       'property_plant_equipment', 'intangible_assets', 'inventories',\n",
       "       'trade_receivables', 'cash_and_cash_equivalents',\n",
       "       'equity_shareholders_of_the_parent', 'share_capital',\n",
       "       'retained_earning_accumulated_losses', 'non_current_liabilities',\n",
       "       'current_liabilities', 'non_current_loans_and_borrowings',\n",
       "       'financial_liabilities_loans_borrowings', 'total_shares',\n",
       "       'end_of_period', 'file_name', 'ticker', 'sector', 'total_liabilities',\n",
       "       'total_assets_diff_1q', 'total_assets_diff_2q',\n",
       "       'non_current_assets_diff_1q', 'non_current_assets_diff_2q',\n",
       "       'current_assets_diff_1q', 'current_assets_diff_2q',\n",
       "       'property_plant_equipment_diff_1q', 'property_plant_equipment_diff_2q',\n",
       "       'intangible_assets_diff_1q', 'intangible_assets_diff_2q',\n",
       "       'inventories_diff_1q', 'inventories_diff_2q',\n",
       "       'trade_receivables_diff_1q', 'trade_receivables_diff_2q',\n",
       "       'cash_and_cash_equivalents_diff_1q',\n",
       "       'cash_and_cash_equivalents_diff_2q',\n",
       "       'equity_shareholders_of_the_parent_diff_1q',\n",
       "       'equity_shareholders_of_the_parent_diff_2q', 'share_capital_diff_1q',\n",
       "       'share_capital_diff_2q', 'retained_earning_accumulated_losses_diff_1q',\n",
       "       'retained_earning_accumulated_losses_diff_2q',\n",
       "       'non_current_liabilities_diff_1q', 'non_current_liabilities_diff_2q',\n",
       "       'current_liabilities_diff_1q', 'current_liabilities_diff_2q',\n",
       "       'non_current_loans_and_borrowings_diff_1q',\n",
       "       'non_current_loans_and_borrowings_diff_2q',\n",
       "       'financial_liabilities_loans_borrowings_diff_1q',\n",
       "       'financial_liabilities_loans_borrowings_diff_2q', 'target'],\n",
       "      dtype='object')"
      ]
     },
     "execution_count": 9,
     "metadata": {},
     "output_type": "execute_result"
    }
   ],
   "source": [
    "df.columns"
   ]
  },
  {
   "cell_type": "code",
   "execution_count": 10,
   "id": "c6f9a3dfce215376",
   "metadata": {
    "ExecuteTime": {
     "end_time": "2025-02-23T11:01:53.583305Z",
     "start_time": "2025-02-23T11:01:52.814883Z"
    },
    "collapsed": false
   },
   "outputs": [
    {
     "data": {
      "text/html": [
       "<div>\n",
       "<style scoped>\n",
       "    .dataframe tbody tr th:only-of-type {\n",
       "        vertical-align: middle;\n",
       "    }\n",
       "\n",
       "    .dataframe tbody tr th {\n",
       "        vertical-align: top;\n",
       "    }\n",
       "\n",
       "    .dataframe thead th {\n",
       "        text-align: right;\n",
       "    }\n",
       "</style>\n",
       "<table border=\"1\" class=\"dataframe\">\n",
       "  <thead>\n",
       "    <tr style=\"text-align: right;\">\n",
       "      <th></th>\n",
       "      <th>total_assets</th>\n",
       "      <th>non_current_assets</th>\n",
       "      <th>current_assets</th>\n",
       "      <th>property_plant_equipment</th>\n",
       "      <th>intangible_assets</th>\n",
       "      <th>inventories</th>\n",
       "      <th>trade_receivables</th>\n",
       "      <th>cash_and_cash_equivalents</th>\n",
       "      <th>equity_shareholders_of_the_parent</th>\n",
       "      <th>share_capital</th>\n",
       "      <th>...</th>\n",
       "      <th>sector_urządzenia elektryczne</th>\n",
       "      <th>sector_urządzenia mechaniczne</th>\n",
       "      <th>sector_usługi dla przedsiębiorstw</th>\n",
       "      <th>sector_wydawnictwa</th>\n",
       "      <th>sector_wydobycie i produkcja</th>\n",
       "      <th>sector_wyroby hutnicze</th>\n",
       "      <th>sector_wyroby metalowe</th>\n",
       "      <th>sector_zaopatrzenie - pozostałe</th>\n",
       "      <th>sector_środki transportu</th>\n",
       "      <th>sector_żywność</th>\n",
       "    </tr>\n",
       "  </thead>\n",
       "  <tbody>\n",
       "    <tr>\n",
       "      <th>0</th>\n",
       "      <td>2141.00</td>\n",
       "      <td>85.00</td>\n",
       "      <td>2055.00</td>\n",
       "      <td>0.0</td>\n",
       "      <td>0.00</td>\n",
       "      <td>0.00</td>\n",
       "      <td>0.0</td>\n",
       "      <td>0.0</td>\n",
       "      <td>2060.00</td>\n",
       "      <td>0.00</td>\n",
       "      <td>...</td>\n",
       "      <td>False</td>\n",
       "      <td>False</td>\n",
       "      <td>False</td>\n",
       "      <td>False</td>\n",
       "      <td>False</td>\n",
       "      <td>False</td>\n",
       "      <td>False</td>\n",
       "      <td>False</td>\n",
       "      <td>False</td>\n",
       "      <td>False</td>\n",
       "    </tr>\n",
       "    <tr>\n",
       "      <th>1</th>\n",
       "      <td>2986.19</td>\n",
       "      <td>86.87</td>\n",
       "      <td>2899.31</td>\n",
       "      <td>0.0</td>\n",
       "      <td>53.73</td>\n",
       "      <td>1109.49</td>\n",
       "      <td>418.5</td>\n",
       "      <td>1299.4</td>\n",
       "      <td>2560.98</td>\n",
       "      <td>187.08</td>\n",
       "      <td>...</td>\n",
       "      <td>False</td>\n",
       "      <td>False</td>\n",
       "      <td>False</td>\n",
       "      <td>False</td>\n",
       "      <td>False</td>\n",
       "      <td>False</td>\n",
       "      <td>False</td>\n",
       "      <td>False</td>\n",
       "      <td>False</td>\n",
       "      <td>False</td>\n",
       "    </tr>\n",
       "    <tr>\n",
       "      <th>2</th>\n",
       "      <td>3473.00</td>\n",
       "      <td>51.00</td>\n",
       "      <td>3422.00</td>\n",
       "      <td>0.0</td>\n",
       "      <td>0.00</td>\n",
       "      <td>0.00</td>\n",
       "      <td>0.0</td>\n",
       "      <td>0.0</td>\n",
       "      <td>3259.00</td>\n",
       "      <td>191.00</td>\n",
       "      <td>...</td>\n",
       "      <td>False</td>\n",
       "      <td>False</td>\n",
       "      <td>False</td>\n",
       "      <td>False</td>\n",
       "      <td>False</td>\n",
       "      <td>False</td>\n",
       "      <td>False</td>\n",
       "      <td>False</td>\n",
       "      <td>False</td>\n",
       "      <td>False</td>\n",
       "    </tr>\n",
       "  </tbody>\n",
       "</table>\n",
       "<p>3 rows × 118 columns</p>\n",
       "</div>"
      ],
      "text/plain": [
       "   total_assets  non_current_assets  current_assets  property_plant_equipment  \\\n",
       "0       2141.00               85.00         2055.00                       0.0   \n",
       "1       2986.19               86.87         2899.31                       0.0   \n",
       "2       3473.00               51.00         3422.00                       0.0   \n",
       "\n",
       "   intangible_assets  inventories  trade_receivables  \\\n",
       "0               0.00         0.00                0.0   \n",
       "1              53.73      1109.49              418.5   \n",
       "2               0.00         0.00                0.0   \n",
       "\n",
       "   cash_and_cash_equivalents  equity_shareholders_of_the_parent  \\\n",
       "0                        0.0                            2060.00   \n",
       "1                     1299.4                            2560.98   \n",
       "2                        0.0                            3259.00   \n",
       "\n",
       "   share_capital  ...  sector_urządzenia elektryczne  \\\n",
       "0           0.00  ...                          False   \n",
       "1         187.08  ...                          False   \n",
       "2         191.00  ...                          False   \n",
       "\n",
       "   sector_urządzenia mechaniczne  sector_usługi dla przedsiębiorstw  \\\n",
       "0                          False                              False   \n",
       "1                          False                              False   \n",
       "2                          False                              False   \n",
       "\n",
       "   sector_wydawnictwa  sector_wydobycie i produkcja  sector_wyroby hutnicze  \\\n",
       "0               False                         False                   False   \n",
       "1               False                         False                   False   \n",
       "2               False                         False                   False   \n",
       "\n",
       "  sector_wyroby metalowe  sector_zaopatrzenie - pozostałe  \\\n",
       "0                  False                            False   \n",
       "1                  False                            False   \n",
       "2                  False                            False   \n",
       "\n",
       "   sector_środki transportu  sector_żywność  \n",
       "0                     False           False  \n",
       "1                     False           False  \n",
       "2                     False           False  \n",
       "\n",
       "[3 rows x 118 columns]"
      ]
     },
     "execution_count": 10,
     "metadata": {},
     "output_type": "execute_result"
    }
   ],
   "source": [
    "df = (pd.get_dummies(df, columns=['sector'])\n",
    "        .drop(columns=['file_name', 'ticker']))\n",
    "\n",
    "df.head(3)"
   ]
  },
  {
   "cell_type": "code",
   "execution_count": 11,
   "id": "edd365a3311e47b7",
   "metadata": {
    "ExecuteTime": {
     "end_time": "2025-02-23T11:01:53.583162400Z",
     "start_time": "2024-08-24T13:27:07.179432Z"
    },
    "collapsed": false
   },
   "outputs": [],
   "source": [
    "df.to_csv('../../data/processed/model_with_features.csv', index=False)"
   ]
  }
 ],
 "metadata": {
  "kernelspec": {
   "display_name": ".venv",
   "language": "python",
   "name": "python3"
  },
  "language_info": {
   "codemirror_mode": {
    "name": "ipython",
    "version": 3
   },
   "file_extension": ".py",
   "mimetype": "text/x-python",
   "name": "python",
   "nbconvert_exporter": "python",
   "pygments_lexer": "ipython3",
   "version": "3.13.2"
  }
 },
 "nbformat": 4,
 "nbformat_minor": 5
}
