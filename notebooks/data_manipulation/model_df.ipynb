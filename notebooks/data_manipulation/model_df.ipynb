{
 "cells": [
  {
   "cell_type": "markdown",
   "source": [
    "# DATA PREPARATION PART 3: Preparing Data for Model"
   ],
   "metadata": {
    "collapsed": false
   },
   "id": "85afd27c31b23f25"
  },
  {
   "cell_type": "code",
   "outputs": [],
   "source": [
    "import pandas as pd\n",
    "import numpy as np\n",
    "from sklearn.preprocessing import StandardScaler\n",
    "from sklearn.model_selection import train_test_split\n",
    "\n",
    "df = pd.read_csv('../../data/processed/data_with_features.csv')"
   ],
   "metadata": {
    "collapsed": false,
    "ExecuteTime": {
     "end_time": "2024-08-21T18:29:02.241090Z",
     "start_time": "2024-08-21T18:29:02.205908Z"
    }
   },
   "id": "cf20eb8dd279df5e",
   "execution_count": 44
  },
  {
   "cell_type": "markdown",
   "source": [
    "# One Hot Encoding"
   ],
   "metadata": {
    "collapsed": false
   },
   "id": "91456011f86e095a"
  },
  {
   "cell_type": "code",
   "outputs": [
    {
     "data": {
      "text/plain": "  end_of_period  total_assets  non_current_assets  current_assets  \\\n0    2013-10-01        8713.0               590.0          8123.0   \n1    2014-04-01        7645.0               830.0          6815.0   \n2    2014-07-01        7699.0               965.0          6735.0   \n\n   property_plant_equipment  intangible_assets  inventories  \\\n0                      63.0              467.0       3442.0   \n1                      53.0              712.0       4327.0   \n2                     123.0              781.0       4924.0   \n\n   trade_receivables  cash_and_cash_equivalents  \\\n0              813.0                     3741.0   \n1              537.0                     1919.0   \n2              798.0                      976.0   \n\n   equity_shareholders_of_the_parent  ...  sector_urządzenia elektryczne  \\\n0                             7922.0  ...                          False   \n1                             6918.0  ...                          False   \n2                             6735.0  ...                          False   \n\n   sector_urządzenia mechaniczne  sector_usługi dla przedsiębiorstw  \\\n0                          False                              False   \n1                          False                              False   \n2                          False                              False   \n\n   sector_wydawnictwa  sector_wydobycie i produkcja  sector_wyroby hutnicze  \\\n0               False                         False                   False   \n1               False                         False                   False   \n2               False                         False                   False   \n\n   sector_wyroby metalowe  sector_zaopatrzenie - pozostałe  \\\n0                   False                            False   \n1                   False                            False   \n2                   False                            False   \n\n   sector_środki transportu  sector_żywność  \n0                     False           False  \n1                     False           False  \n2                     False           False  \n\n[3 rows x 134 columns]",
      "text/html": "<div>\n<style scoped>\n    .dataframe tbody tr th:only-of-type {\n        vertical-align: middle;\n    }\n\n    .dataframe tbody tr th {\n        vertical-align: top;\n    }\n\n    .dataframe thead th {\n        text-align: right;\n    }\n</style>\n<table border=\"1\" class=\"dataframe\">\n  <thead>\n    <tr style=\"text-align: right;\">\n      <th></th>\n      <th>end_of_period</th>\n      <th>total_assets</th>\n      <th>non_current_assets</th>\n      <th>current_assets</th>\n      <th>property_plant_equipment</th>\n      <th>intangible_assets</th>\n      <th>inventories</th>\n      <th>trade_receivables</th>\n      <th>cash_and_cash_equivalents</th>\n      <th>equity_shareholders_of_the_parent</th>\n      <th>...</th>\n      <th>sector_urządzenia elektryczne</th>\n      <th>sector_urządzenia mechaniczne</th>\n      <th>sector_usługi dla przedsiębiorstw</th>\n      <th>sector_wydawnictwa</th>\n      <th>sector_wydobycie i produkcja</th>\n      <th>sector_wyroby hutnicze</th>\n      <th>sector_wyroby metalowe</th>\n      <th>sector_zaopatrzenie - pozostałe</th>\n      <th>sector_środki transportu</th>\n      <th>sector_żywność</th>\n    </tr>\n  </thead>\n  <tbody>\n    <tr>\n      <th>0</th>\n      <td>2013-10-01</td>\n      <td>8713.0</td>\n      <td>590.0</td>\n      <td>8123.0</td>\n      <td>63.0</td>\n      <td>467.0</td>\n      <td>3442.0</td>\n      <td>813.0</td>\n      <td>3741.0</td>\n      <td>7922.0</td>\n      <td>...</td>\n      <td>False</td>\n      <td>False</td>\n      <td>False</td>\n      <td>False</td>\n      <td>False</td>\n      <td>False</td>\n      <td>False</td>\n      <td>False</td>\n      <td>False</td>\n      <td>False</td>\n    </tr>\n    <tr>\n      <th>1</th>\n      <td>2014-04-01</td>\n      <td>7645.0</td>\n      <td>830.0</td>\n      <td>6815.0</td>\n      <td>53.0</td>\n      <td>712.0</td>\n      <td>4327.0</td>\n      <td>537.0</td>\n      <td>1919.0</td>\n      <td>6918.0</td>\n      <td>...</td>\n      <td>False</td>\n      <td>False</td>\n      <td>False</td>\n      <td>False</td>\n      <td>False</td>\n      <td>False</td>\n      <td>False</td>\n      <td>False</td>\n      <td>False</td>\n      <td>False</td>\n    </tr>\n    <tr>\n      <th>2</th>\n      <td>2014-07-01</td>\n      <td>7699.0</td>\n      <td>965.0</td>\n      <td>6735.0</td>\n      <td>123.0</td>\n      <td>781.0</td>\n      <td>4924.0</td>\n      <td>798.0</td>\n      <td>976.0</td>\n      <td>6735.0</td>\n      <td>...</td>\n      <td>False</td>\n      <td>False</td>\n      <td>False</td>\n      <td>False</td>\n      <td>False</td>\n      <td>False</td>\n      <td>False</td>\n      <td>False</td>\n      <td>False</td>\n      <td>False</td>\n    </tr>\n  </tbody>\n</table>\n<p>3 rows × 134 columns</p>\n</div>"
     },
     "execution_count": 45,
     "metadata": {},
     "output_type": "execute_result"
    }
   ],
   "source": [
    "df = (pd.get_dummies(df, columns=['sector'])\n",
    "        .drop(columns=['file_name', 'company_name', 'ticker']))\n",
    "\n",
    "df.head(3)"
   ],
   "metadata": {
    "collapsed": false,
    "ExecuteTime": {
     "end_time": "2024-08-21T18:29:02.253033Z",
     "start_time": "2024-08-21T18:29:02.241090Z"
    }
   },
   "id": "c6f9a3dfce215376",
   "execution_count": 45
  },
  {
   "cell_type": "code",
   "outputs": [],
   "source": [
    "df.to_csv('../../data/processed/model_with_features.csv', index=False)"
   ],
   "metadata": {
    "collapsed": false,
    "ExecuteTime": {
     "end_time": "2024-08-21T18:29:02.448142Z",
     "start_time": "2024-08-21T18:29:02.253033Z"
    }
   },
   "id": "edd365a3311e47b7",
   "execution_count": 46
  },
  {
   "cell_type": "markdown",
   "source": [
    "# Scaling and preparing train_test_split"
   ],
   "metadata": {
    "collapsed": false
   },
   "id": "85d0765b82c9f993"
  },
  {
   "cell_type": "code",
   "outputs": [],
   "source": [
    "def load_scale_split(csv_path, split_percentage=0.2, random_state=42):\n",
    "    df = pd.read_csv(csv_path)\n",
    "    \n",
    "    # Identify date column and target column\n",
    "    date_column = 'end_of_period'\n",
    "    target_column = 'target'\n",
    "    \n",
    "    # Convert date column to datetime64\n",
    "    df[date_column] = pd.to_datetime(df[date_column], errors='coerce')\n",
    "    \n",
    "    target = df.pop(target_column)\n",
    "    df[target_column] = target\n",
    "    \n",
    "    # Separate features and target\n",
    "    y = df.pop(target_column)\n",
    "    X = df\n",
    "    \n",
    "    # Identify numeric columns\n",
    "    numeric_columns = X.select_dtypes(include=[np.number]).columns\n",
    "    \n",
    "    # Scale the numeric features\n",
    "    scaler = StandardScaler()\n",
    "    X.loc[:, numeric_columns] = scaler.fit_transform(X[numeric_columns])\n",
    "    \n",
    "    X_train, X_test, y_train, y_test = train_test_split(\n",
    "        X, y, test_size=split_percentage, random_state=random_state\n",
    "    )\n",
    "\n",
    "    return X_train, X_test, y_train, y_test"
   ],
   "metadata": {
    "collapsed": false,
    "ExecuteTime": {
     "end_time": "2024-08-21T18:29:02.451868Z",
     "start_time": "2024-08-21T18:29:02.449145Z"
    }
   },
   "id": "e05adc448e27323a",
   "execution_count": 47
  },
  {
   "cell_type": "markdown",
   "source": [
    "# Model ready dataframe"
   ],
   "metadata": {
    "collapsed": false
   },
   "id": "2ea9baacc4d34849"
  },
  {
   "cell_type": "code",
   "outputs": [],
   "source": [
    "X_train, X_test, y_train, y_test = load_scale_split('../../data/processed/model_with_features.csv', split_percentage=0.2, random_state=7)"
   ],
   "metadata": {
    "collapsed": false,
    "ExecuteTime": {
     "end_time": "2024-08-21T18:29:02.507724Z",
     "start_time": "2024-08-21T18:29:02.451868Z"
    }
   },
   "id": "c5c80a971e893c54",
   "execution_count": 48
  },
  {
   "cell_type": "code",
   "outputs": [
    {
     "data": {
      "text/plain": "     end_of_period  total_assets  non_current_assets  current_assets  \\\n2885    2019-04-01     -0.088189           -0.094314       -0.063182   \n2503    2009-04-01     -0.090015           -0.102504       -0.056300   \n2109    2008-10-01     -0.092551           -0.101388       -0.063179   \n\n      property_plant_equipment  intangible_assets  inventories  \\\n2885                 -0.088935          -0.041884    -0.189364   \n2503                 -0.087988          -0.131113    -0.062160   \n2109                 -0.086665          -0.138555    -0.171542   \n\n      trade_receivables  cash_and_cash_equivalents  \\\n2885          -0.093807                  -0.040459   \n2503          -0.089319                  -0.039435   \n2109          -0.095533                  -0.040477   \n\n      equity_shareholders_of_the_parent  ...  sector_urządzenia elektryczne  \\\n2885                          -0.116969  ...                          False   \n2503                          -0.122446  ...                          False   \n2109                          -0.126703  ...                          False   \n\n      sector_urządzenia mechaniczne  sector_usługi dla przedsiębiorstw  \\\n2885                          False                              False   \n2503                          False                              False   \n2109                           True                              False   \n\n      sector_wydawnictwa  sector_wydobycie i produkcja  \\\n2885               False                         False   \n2503               False                         False   \n2109               False                         False   \n\n      sector_wyroby hutnicze  sector_wyroby metalowe  \\\n2885                   False                   False   \n2503                   False                   False   \n2109                   False                   False   \n\n      sector_zaopatrzenie - pozostałe  sector_środki transportu  \\\n2885                            False                     False   \n2503                            False                     False   \n2109                            False                     False   \n\n      sector_żywność  \n2885           False  \n2503           False  \n2109           False  \n\n[3 rows x 133 columns]",
      "text/html": "<div>\n<style scoped>\n    .dataframe tbody tr th:only-of-type {\n        vertical-align: middle;\n    }\n\n    .dataframe tbody tr th {\n        vertical-align: top;\n    }\n\n    .dataframe thead th {\n        text-align: right;\n    }\n</style>\n<table border=\"1\" class=\"dataframe\">\n  <thead>\n    <tr style=\"text-align: right;\">\n      <th></th>\n      <th>end_of_period</th>\n      <th>total_assets</th>\n      <th>non_current_assets</th>\n      <th>current_assets</th>\n      <th>property_plant_equipment</th>\n      <th>intangible_assets</th>\n      <th>inventories</th>\n      <th>trade_receivables</th>\n      <th>cash_and_cash_equivalents</th>\n      <th>equity_shareholders_of_the_parent</th>\n      <th>...</th>\n      <th>sector_urządzenia elektryczne</th>\n      <th>sector_urządzenia mechaniczne</th>\n      <th>sector_usługi dla przedsiębiorstw</th>\n      <th>sector_wydawnictwa</th>\n      <th>sector_wydobycie i produkcja</th>\n      <th>sector_wyroby hutnicze</th>\n      <th>sector_wyroby metalowe</th>\n      <th>sector_zaopatrzenie - pozostałe</th>\n      <th>sector_środki transportu</th>\n      <th>sector_żywność</th>\n    </tr>\n  </thead>\n  <tbody>\n    <tr>\n      <th>2885</th>\n      <td>2019-04-01</td>\n      <td>-0.088189</td>\n      <td>-0.094314</td>\n      <td>-0.063182</td>\n      <td>-0.088935</td>\n      <td>-0.041884</td>\n      <td>-0.189364</td>\n      <td>-0.093807</td>\n      <td>-0.040459</td>\n      <td>-0.116969</td>\n      <td>...</td>\n      <td>False</td>\n      <td>False</td>\n      <td>False</td>\n      <td>False</td>\n      <td>False</td>\n      <td>False</td>\n      <td>False</td>\n      <td>False</td>\n      <td>False</td>\n      <td>False</td>\n    </tr>\n    <tr>\n      <th>2503</th>\n      <td>2009-04-01</td>\n      <td>-0.090015</td>\n      <td>-0.102504</td>\n      <td>-0.056300</td>\n      <td>-0.087988</td>\n      <td>-0.131113</td>\n      <td>-0.062160</td>\n      <td>-0.089319</td>\n      <td>-0.039435</td>\n      <td>-0.122446</td>\n      <td>...</td>\n      <td>False</td>\n      <td>False</td>\n      <td>False</td>\n      <td>False</td>\n      <td>False</td>\n      <td>False</td>\n      <td>False</td>\n      <td>False</td>\n      <td>False</td>\n      <td>False</td>\n    </tr>\n    <tr>\n      <th>2109</th>\n      <td>2008-10-01</td>\n      <td>-0.092551</td>\n      <td>-0.101388</td>\n      <td>-0.063179</td>\n      <td>-0.086665</td>\n      <td>-0.138555</td>\n      <td>-0.171542</td>\n      <td>-0.095533</td>\n      <td>-0.040477</td>\n      <td>-0.126703</td>\n      <td>...</td>\n      <td>False</td>\n      <td>True</td>\n      <td>False</td>\n      <td>False</td>\n      <td>False</td>\n      <td>False</td>\n      <td>False</td>\n      <td>False</td>\n      <td>False</td>\n      <td>False</td>\n    </tr>\n  </tbody>\n</table>\n<p>3 rows × 133 columns</p>\n</div>"
     },
     "execution_count": 49,
     "metadata": {},
     "output_type": "execute_result"
    }
   ],
   "source": [
    "X_train.head(3)"
   ],
   "metadata": {
    "collapsed": false,
    "ExecuteTime": {
     "end_time": "2024-08-21T18:29:02.515945Z",
     "start_time": "2024-08-21T18:29:02.507724Z"
    }
   },
   "id": "895c87f72d100ed4",
   "execution_count": 49
  },
  {
   "cell_type": "code",
   "outputs": [
    {
     "data": {
      "text/plain": "2885    11.0\n2503     7.0\n2109     8.0\nName: target, dtype: float64"
     },
     "execution_count": 50,
     "metadata": {},
     "output_type": "execute_result"
    }
   ],
   "source": [
    "y_train.head(3)"
   ],
   "metadata": {
    "collapsed": false,
    "ExecuteTime": {
     "end_time": "2024-08-21T18:29:25.467522Z",
     "start_time": "2024-08-21T18:29:25.464168Z"
    }
   },
   "id": "2ff683d104f2f0a6",
   "execution_count": 50
  }
 ],
 "metadata": {
  "kernelspec": {
   "display_name": "Python 3",
   "language": "python",
   "name": "python3"
  },
  "language_info": {
   "codemirror_mode": {
    "name": "ipython",
    "version": 2
   },
   "file_extension": ".py",
   "mimetype": "text/x-python",
   "name": "python",
   "nbconvert_exporter": "python",
   "pygments_lexer": "ipython2",
   "version": "2.7.6"
  }
 },
 "nbformat": 4,
 "nbformat_minor": 5
}
