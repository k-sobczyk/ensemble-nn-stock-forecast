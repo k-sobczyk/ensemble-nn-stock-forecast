{
 "cells": [
  {
   "cell_type": "markdown",
   "id": "85afd27c31b23f25",
   "metadata": {
    "collapsed": false
   },
   "source": [
    "# DATA PREPARATION PART 3: Preparing Data for Model"
   ]
  },
  {
   "cell_type": "code",
   "execution_count": 1,
   "id": "cf20eb8dd279df5e",
   "metadata": {
    "ExecuteTime": {
     "end_time": "2025-02-23T11:01:52.808515Z",
     "start_time": "2025-02-23T11:01:43.164553Z"
    },
    "collapsed": false
   },
   "outputs": [],
   "source": [
    "import pandas as pd\n",
    "import numpy as np\n",
    "from sklearn.preprocessing import StandardScaler\n",
    "from sklearn.model_selection import train_test_split\n",
    "\n",
    "df = pd.read_csv('../../data/processed/data_with_features.csv')"
   ]
  },
  {
   "cell_type": "markdown",
   "id": "91456011f86e095a",
   "metadata": {
    "collapsed": false
   },
   "source": [
    "# One Hot Encoding"
   ]
  },
  {
   "cell_type": "code",
   "execution_count": 2,
   "id": "914324c7",
   "metadata": {},
   "outputs": [
    {
     "data": {
      "text/plain": [
       "Index(['total_assets', 'non_current_assets', 'current_assets',\n",
       "       'property_plant_equipment', 'intangible_assets', 'inventories',\n",
       "       'trade_receivables', 'cash_and_cash_equivalents',\n",
       "       'equity_shareholders_of_the_parent', 'share_capital',\n",
       "       'retained_earning_accumulated_losses', 'non_current_liabilities',\n",
       "       'current_liabilities', 'non_current_loans_and_borrowings',\n",
       "       'financial_liabilities_loans_borrowings', 'total_shares',\n",
       "       'end_of_period', 'file_name', 'ticker', 'total_liabilities',\n",
       "       'total_assets_diff_1q', 'total_assets_diff_2q',\n",
       "       'non_current_assets_diff_1q', 'non_current_assets_diff_2q',\n",
       "       'current_assets_diff_1q', 'current_assets_diff_2q',\n",
       "       'property_plant_equipment_diff_1q', 'property_plant_equipment_diff_2q',\n",
       "       'intangible_assets_diff_1q', 'intangible_assets_diff_2q',\n",
       "       'inventories_diff_1q', 'inventories_diff_2q',\n",
       "       'trade_receivables_diff_1q', 'trade_receivables_diff_2q',\n",
       "       'cash_and_cash_equivalents_diff_1q',\n",
       "       'cash_and_cash_equivalents_diff_2q',\n",
       "       'equity_shareholders_of_the_parent_diff_1q',\n",
       "       'equity_shareholders_of_the_parent_diff_2q', 'share_capital_diff_1q',\n",
       "       'share_capital_diff_2q', 'retained_earning_accumulated_losses_diff_1q',\n",
       "       'retained_earning_accumulated_losses_diff_2q',\n",
       "       'non_current_liabilities_diff_1q', 'non_current_liabilities_diff_2q',\n",
       "       'current_liabilities_diff_1q', 'current_liabilities_diff_2q',\n",
       "       'non_current_loans_and_borrowings_diff_1q',\n",
       "       'non_current_loans_and_borrowings_diff_2q',\n",
       "       'financial_liabilities_loans_borrowings_diff_1q',\n",
       "       'financial_liabilities_loans_borrowings_diff_2q', 'target'],\n",
       "      dtype='object')"
      ]
     },
     "execution_count": 2,
     "metadata": {},
     "output_type": "execute_result"
    }
   ],
   "source": [
    "df.columns"
   ]
  },
  {
   "cell_type": "code",
   "execution_count": 2,
   "id": "c6f9a3dfce215376",
   "metadata": {
    "ExecuteTime": {
     "end_time": "2025-02-23T11:01:53.583305Z",
     "start_time": "2025-02-23T11:01:52.814883Z"
    },
    "collapsed": false
   },
   "outputs": [
    {
     "ename": "KeyError",
     "evalue": "\"None of [Index(['sector'], dtype='object')] are in the [columns]\"",
     "output_type": "error",
     "traceback": [
      "\u001b[1;31m---------------------------------------------------------------------------\u001b[0m",
      "\u001b[1;31mKeyError\u001b[0m                                  Traceback (most recent call last)",
      "Cell \u001b[1;32mIn[2], line 1\u001b[0m\n\u001b[1;32m----> 1\u001b[0m df \u001b[38;5;241m=\u001b[39m (\u001b[43mpd\u001b[49m\u001b[38;5;241;43m.\u001b[39;49m\u001b[43mget_dummies\u001b[49m\u001b[43m(\u001b[49m\u001b[43mdf\u001b[49m\u001b[43m,\u001b[49m\u001b[43m \u001b[49m\u001b[43mcolumns\u001b[49m\u001b[38;5;241;43m=\u001b[39;49m\u001b[43m[\u001b[49m\u001b[38;5;124;43m'\u001b[39;49m\u001b[38;5;124;43msector\u001b[39;49m\u001b[38;5;124;43m'\u001b[39;49m\u001b[43m]\u001b[49m\u001b[43m)\u001b[49m\n\u001b[0;32m      2\u001b[0m         \u001b[38;5;241m.\u001b[39mdrop(columns\u001b[38;5;241m=\u001b[39m[\u001b[38;5;124m'\u001b[39m\u001b[38;5;124mfile_name\u001b[39m\u001b[38;5;124m'\u001b[39m, \u001b[38;5;124m'\u001b[39m\u001b[38;5;124mcompany_name\u001b[39m\u001b[38;5;124m'\u001b[39m, \u001b[38;5;124m'\u001b[39m\u001b[38;5;124mticker\u001b[39m\u001b[38;5;124m'\u001b[39m]))\n\u001b[0;32m      4\u001b[0m df\u001b[38;5;241m.\u001b[39mhead(\u001b[38;5;241m3\u001b[39m)\n",
      "File \u001b[1;32m~\\PycharmProjects\\ensemble-nn-stock-forecast\\.venv\\Lib\\site-packages\\pandas\\core\\reshape\\encoding.py:169\u001b[0m, in \u001b[0;36mget_dummies\u001b[1;34m(data, prefix, prefix_sep, dummy_na, columns, sparse, drop_first, dtype)\u001b[0m\n\u001b[0;32m    167\u001b[0m     \u001b[38;5;28;01mraise\u001b[39;00m \u001b[38;5;167;01mTypeError\u001b[39;00m(\u001b[38;5;124m\"\u001b[39m\u001b[38;5;124mInput must be a list-like for parameter `columns`\u001b[39m\u001b[38;5;124m\"\u001b[39m)\n\u001b[0;32m    168\u001b[0m \u001b[38;5;28;01melse\u001b[39;00m:\n\u001b[1;32m--> 169\u001b[0m     data_to_encode \u001b[38;5;241m=\u001b[39m \u001b[43mdata\u001b[49m\u001b[43m[\u001b[49m\u001b[43mcolumns\u001b[49m\u001b[43m]\u001b[49m\n\u001b[0;32m    171\u001b[0m \u001b[38;5;66;03m# validate prefixes and separator to avoid silently dropping cols\u001b[39;00m\n\u001b[0;32m    172\u001b[0m \u001b[38;5;28;01mdef\u001b[39;00m\u001b[38;5;250m \u001b[39m\u001b[38;5;21mcheck_len\u001b[39m(item, name: \u001b[38;5;28mstr\u001b[39m):\n",
      "File \u001b[1;32m~\\PycharmProjects\\ensemble-nn-stock-forecast\\.venv\\Lib\\site-packages\\pandas\\core\\frame.py:4108\u001b[0m, in \u001b[0;36mDataFrame.__getitem__\u001b[1;34m(self, key)\u001b[0m\n\u001b[0;32m   4106\u001b[0m     \u001b[38;5;28;01mif\u001b[39;00m is_iterator(key):\n\u001b[0;32m   4107\u001b[0m         key \u001b[38;5;241m=\u001b[39m \u001b[38;5;28mlist\u001b[39m(key)\n\u001b[1;32m-> 4108\u001b[0m     indexer \u001b[38;5;241m=\u001b[39m \u001b[38;5;28;43mself\u001b[39;49m\u001b[38;5;241;43m.\u001b[39;49m\u001b[43mcolumns\u001b[49m\u001b[38;5;241;43m.\u001b[39;49m\u001b[43m_get_indexer_strict\u001b[49m\u001b[43m(\u001b[49m\u001b[43mkey\u001b[49m\u001b[43m,\u001b[49m\u001b[43m \u001b[49m\u001b[38;5;124;43m\"\u001b[39;49m\u001b[38;5;124;43mcolumns\u001b[39;49m\u001b[38;5;124;43m\"\u001b[39;49m\u001b[43m)\u001b[49m[\u001b[38;5;241m1\u001b[39m]\n\u001b[0;32m   4110\u001b[0m \u001b[38;5;66;03m# take() does not accept boolean indexers\u001b[39;00m\n\u001b[0;32m   4111\u001b[0m \u001b[38;5;28;01mif\u001b[39;00m \u001b[38;5;28mgetattr\u001b[39m(indexer, \u001b[38;5;124m\"\u001b[39m\u001b[38;5;124mdtype\u001b[39m\u001b[38;5;124m\"\u001b[39m, \u001b[38;5;28;01mNone\u001b[39;00m) \u001b[38;5;241m==\u001b[39m \u001b[38;5;28mbool\u001b[39m:\n",
      "File \u001b[1;32m~\\PycharmProjects\\ensemble-nn-stock-forecast\\.venv\\Lib\\site-packages\\pandas\\core\\indexes\\base.py:6200\u001b[0m, in \u001b[0;36mIndex._get_indexer_strict\u001b[1;34m(self, key, axis_name)\u001b[0m\n\u001b[0;32m   6197\u001b[0m \u001b[38;5;28;01melse\u001b[39;00m:\n\u001b[0;32m   6198\u001b[0m     keyarr, indexer, new_indexer \u001b[38;5;241m=\u001b[39m \u001b[38;5;28mself\u001b[39m\u001b[38;5;241m.\u001b[39m_reindex_non_unique(keyarr)\n\u001b[1;32m-> 6200\u001b[0m \u001b[38;5;28;43mself\u001b[39;49m\u001b[38;5;241;43m.\u001b[39;49m\u001b[43m_raise_if_missing\u001b[49m\u001b[43m(\u001b[49m\u001b[43mkeyarr\u001b[49m\u001b[43m,\u001b[49m\u001b[43m \u001b[49m\u001b[43mindexer\u001b[49m\u001b[43m,\u001b[49m\u001b[43m \u001b[49m\u001b[43maxis_name\u001b[49m\u001b[43m)\u001b[49m\n\u001b[0;32m   6202\u001b[0m keyarr \u001b[38;5;241m=\u001b[39m \u001b[38;5;28mself\u001b[39m\u001b[38;5;241m.\u001b[39mtake(indexer)\n\u001b[0;32m   6203\u001b[0m \u001b[38;5;28;01mif\u001b[39;00m \u001b[38;5;28misinstance\u001b[39m(key, Index):\n\u001b[0;32m   6204\u001b[0m     \u001b[38;5;66;03m# GH 42790 - Preserve name from an Index\u001b[39;00m\n",
      "File \u001b[1;32m~\\PycharmProjects\\ensemble-nn-stock-forecast\\.venv\\Lib\\site-packages\\pandas\\core\\indexes\\base.py:6249\u001b[0m, in \u001b[0;36mIndex._raise_if_missing\u001b[1;34m(self, key, indexer, axis_name)\u001b[0m\n\u001b[0;32m   6247\u001b[0m \u001b[38;5;28;01mif\u001b[39;00m nmissing:\n\u001b[0;32m   6248\u001b[0m     \u001b[38;5;28;01mif\u001b[39;00m nmissing \u001b[38;5;241m==\u001b[39m \u001b[38;5;28mlen\u001b[39m(indexer):\n\u001b[1;32m-> 6249\u001b[0m         \u001b[38;5;28;01mraise\u001b[39;00m \u001b[38;5;167;01mKeyError\u001b[39;00m(\u001b[38;5;124mf\u001b[39m\u001b[38;5;124m\"\u001b[39m\u001b[38;5;124mNone of [\u001b[39m\u001b[38;5;132;01m{\u001b[39;00mkey\u001b[38;5;132;01m}\u001b[39;00m\u001b[38;5;124m] are in the [\u001b[39m\u001b[38;5;132;01m{\u001b[39;00maxis_name\u001b[38;5;132;01m}\u001b[39;00m\u001b[38;5;124m]\u001b[39m\u001b[38;5;124m\"\u001b[39m)\n\u001b[0;32m   6251\u001b[0m     not_found \u001b[38;5;241m=\u001b[39m \u001b[38;5;28mlist\u001b[39m(ensure_index(key)[missing_mask\u001b[38;5;241m.\u001b[39mnonzero()[\u001b[38;5;241m0\u001b[39m]]\u001b[38;5;241m.\u001b[39munique())\n\u001b[0;32m   6252\u001b[0m     \u001b[38;5;28;01mraise\u001b[39;00m \u001b[38;5;167;01mKeyError\u001b[39;00m(\u001b[38;5;124mf\u001b[39m\u001b[38;5;124m\"\u001b[39m\u001b[38;5;132;01m{\u001b[39;00mnot_found\u001b[38;5;132;01m}\u001b[39;00m\u001b[38;5;124m not in index\u001b[39m\u001b[38;5;124m\"\u001b[39m)\n",
      "\u001b[1;31mKeyError\u001b[0m: \"None of [Index(['sector'], dtype='object')] are in the [columns]\""
     ]
    }
   ],
   "source": [
    "df = (pd.get_dummies(df, columns=['sector'])\n",
    "        .drop(columns=['file_name', 'company_name', 'ticker']))\n",
    "\n",
    "df.head(3)"
   ]
  },
  {
   "cell_type": "code",
   "execution_count": 3,
   "id": "edd365a3311e47b7",
   "metadata": {
    "ExecuteTime": {
     "end_time": "2025-02-23T11:01:53.583162400Z",
     "start_time": "2024-08-24T13:27:07.179432Z"
    },
    "collapsed": false
   },
   "outputs": [],
   "source": [
    "df.to_csv('../../data/processed/model_with_features.csv', index=False)"
   ]
  },
  {
   "cell_type": "markdown",
   "id": "85d0765b82c9f993",
   "metadata": {
    "collapsed": false
   },
   "source": [
    "# Scaling and preparing train_test_split"
   ]
  },
  {
   "cell_type": "code",
   "execution_count": 4,
   "id": "e05adc448e27323a",
   "metadata": {
    "ExecuteTime": {
     "end_time": "2025-02-23T11:01:53.587034500Z",
     "start_time": "2024-08-24T13:27:07.425639Z"
    },
    "collapsed": false
   },
   "outputs": [],
   "source": [
    "def load_scale_split(csv_path, split_percentage=0.2, random_state=42):\n",
    "    df = pd.read_csv(csv_path)\n",
    "    \n",
    "    # Identify date column and target column\n",
    "    date_column = 'end_of_period'\n",
    "    target_column = 'target'\n",
    "    \n",
    "    # Convert date column to datetime64\n",
    "    df[date_column] = pd.to_datetime(df[date_column], errors='coerce')\n",
    "    \n",
    "    target = df.pop(target_column)\n",
    "    df[target_column] = target\n",
    "    \n",
    "    # Separate features and target\n",
    "    y = df.pop(target_column)\n",
    "    X = df\n",
    "    \n",
    "    # Identify numeric columns\n",
    "    numeric_columns = X.select_dtypes(include=[np.number]).columns\n",
    "    \n",
    "    # Scale the numeric features\n",
    "    scaler = StandardScaler()\n",
    "    X.loc[:, numeric_columns] = scaler.fit_transform(X[numeric_columns])\n",
    "    \n",
    "    X_train, X_test, y_train, y_test = train_test_split(\n",
    "        X, y, test_size=split_percentage, random_state=random_state\n",
    "    )\n",
    "\n",
    "    return X_train, X_test, y_train, y_test"
   ]
  },
  {
   "cell_type": "markdown",
   "id": "2ea9baacc4d34849",
   "metadata": {
    "collapsed": false
   },
   "source": [
    "# Model ready dataframe"
   ]
  },
  {
   "cell_type": "code",
   "execution_count": 5,
   "id": "c5c80a971e893c54",
   "metadata": {
    "ExecuteTime": {
     "end_time": "2025-02-23T11:01:53.587034500Z",
     "start_time": "2024-08-24T13:27:07.430891600Z"
    },
    "collapsed": false
   },
   "outputs": [],
   "source": [
    "X_train, X_test, y_train, y_test = load_scale_split('../../data/processed/model_with_features.csv', split_percentage=0.2, random_state=7)"
   ]
  },
  {
   "cell_type": "code",
   "execution_count": 6,
   "id": "895c87f72d100ed4",
   "metadata": {
    "ExecuteTime": {
     "end_time": "2025-02-23T11:01:53.587034500Z",
     "start_time": "2024-08-24T13:27:07.511872400Z"
    },
    "collapsed": false
   },
   "outputs": [
    {
     "data": {
      "text/html": [
       "<div>\n",
       "<style scoped>\n",
       "    .dataframe tbody tr th:only-of-type {\n",
       "        vertical-align: middle;\n",
       "    }\n",
       "\n",
       "    .dataframe tbody tr th {\n",
       "        vertical-align: top;\n",
       "    }\n",
       "\n",
       "    .dataframe thead th {\n",
       "        text-align: right;\n",
       "    }\n",
       "</style>\n",
       "<table border=\"1\" class=\"dataframe\">\n",
       "  <thead>\n",
       "    <tr style=\"text-align: right;\">\n",
       "      <th></th>\n",
       "      <th>end_of_period</th>\n",
       "      <th>total_assets</th>\n",
       "      <th>non_current_assets</th>\n",
       "      <th>current_assets</th>\n",
       "      <th>property_plant_equipment</th>\n",
       "      <th>intangible_assets</th>\n",
       "      <th>inventories</th>\n",
       "      <th>trade_receivables</th>\n",
       "      <th>cash_and_cash_equivalents</th>\n",
       "      <th>equity_shareholders_of_the_parent</th>\n",
       "      <th>...</th>\n",
       "      <th>sector_urządzenia elektryczne</th>\n",
       "      <th>sector_urządzenia mechaniczne</th>\n",
       "      <th>sector_usługi dla przedsiębiorstw</th>\n",
       "      <th>sector_wydawnictwa</th>\n",
       "      <th>sector_wydobycie i produkcja</th>\n",
       "      <th>sector_wyroby hutnicze</th>\n",
       "      <th>sector_wyroby metalowe</th>\n",
       "      <th>sector_zaopatrzenie - pozostałe</th>\n",
       "      <th>sector_środki transportu</th>\n",
       "      <th>sector_żywność</th>\n",
       "    </tr>\n",
       "  </thead>\n",
       "  <tbody>\n",
       "    <tr>\n",
       "      <th>2885</th>\n",
       "      <td>2019-04-01</td>\n",
       "      <td>-0.088189</td>\n",
       "      <td>-0.094314</td>\n",
       "      <td>-0.063182</td>\n",
       "      <td>-0.088935</td>\n",
       "      <td>-0.041884</td>\n",
       "      <td>-0.189364</td>\n",
       "      <td>-0.093807</td>\n",
       "      <td>-0.040459</td>\n",
       "      <td>-0.116969</td>\n",
       "      <td>...</td>\n",
       "      <td>False</td>\n",
       "      <td>False</td>\n",
       "      <td>False</td>\n",
       "      <td>False</td>\n",
       "      <td>False</td>\n",
       "      <td>False</td>\n",
       "      <td>False</td>\n",
       "      <td>False</td>\n",
       "      <td>False</td>\n",
       "      <td>False</td>\n",
       "    </tr>\n",
       "    <tr>\n",
       "      <th>2503</th>\n",
       "      <td>2009-04-01</td>\n",
       "      <td>-0.090015</td>\n",
       "      <td>-0.102504</td>\n",
       "      <td>-0.056300</td>\n",
       "      <td>-0.087988</td>\n",
       "      <td>-0.131113</td>\n",
       "      <td>-0.062160</td>\n",
       "      <td>-0.089319</td>\n",
       "      <td>-0.039435</td>\n",
       "      <td>-0.122446</td>\n",
       "      <td>...</td>\n",
       "      <td>False</td>\n",
       "      <td>False</td>\n",
       "      <td>False</td>\n",
       "      <td>False</td>\n",
       "      <td>False</td>\n",
       "      <td>False</td>\n",
       "      <td>False</td>\n",
       "      <td>False</td>\n",
       "      <td>False</td>\n",
       "      <td>False</td>\n",
       "    </tr>\n",
       "    <tr>\n",
       "      <th>2109</th>\n",
       "      <td>2008-10-01</td>\n",
       "      <td>-0.092551</td>\n",
       "      <td>-0.101388</td>\n",
       "      <td>-0.063179</td>\n",
       "      <td>-0.086665</td>\n",
       "      <td>-0.138555</td>\n",
       "      <td>-0.171542</td>\n",
       "      <td>-0.095533</td>\n",
       "      <td>-0.040477</td>\n",
       "      <td>-0.126703</td>\n",
       "      <td>...</td>\n",
       "      <td>False</td>\n",
       "      <td>True</td>\n",
       "      <td>False</td>\n",
       "      <td>False</td>\n",
       "      <td>False</td>\n",
       "      <td>False</td>\n",
       "      <td>False</td>\n",
       "      <td>False</td>\n",
       "      <td>False</td>\n",
       "      <td>False</td>\n",
       "    </tr>\n",
       "  </tbody>\n",
       "</table>\n",
       "<p>3 rows × 133 columns</p>\n",
       "</div>"
      ],
      "text/plain": [
       "     end_of_period  total_assets  non_current_assets  current_assets  \\\n",
       "2885    2019-04-01     -0.088189           -0.094314       -0.063182   \n",
       "2503    2009-04-01     -0.090015           -0.102504       -0.056300   \n",
       "2109    2008-10-01     -0.092551           -0.101388       -0.063179   \n",
       "\n",
       "      property_plant_equipment  intangible_assets  inventories  \\\n",
       "2885                 -0.088935          -0.041884    -0.189364   \n",
       "2503                 -0.087988          -0.131113    -0.062160   \n",
       "2109                 -0.086665          -0.138555    -0.171542   \n",
       "\n",
       "      trade_receivables  cash_and_cash_equivalents  \\\n",
       "2885          -0.093807                  -0.040459   \n",
       "2503          -0.089319                  -0.039435   \n",
       "2109          -0.095533                  -0.040477   \n",
       "\n",
       "      equity_shareholders_of_the_parent  ...  sector_urządzenia elektryczne  \\\n",
       "2885                          -0.116969  ...                          False   \n",
       "2503                          -0.122446  ...                          False   \n",
       "2109                          -0.126703  ...                          False   \n",
       "\n",
       "      sector_urządzenia mechaniczne  sector_usługi dla przedsiębiorstw  \\\n",
       "2885                          False                              False   \n",
       "2503                          False                              False   \n",
       "2109                           True                              False   \n",
       "\n",
       "      sector_wydawnictwa  sector_wydobycie i produkcja  \\\n",
       "2885               False                         False   \n",
       "2503               False                         False   \n",
       "2109               False                         False   \n",
       "\n",
       "      sector_wyroby hutnicze  sector_wyroby metalowe  \\\n",
       "2885                   False                   False   \n",
       "2503                   False                   False   \n",
       "2109                   False                   False   \n",
       "\n",
       "      sector_zaopatrzenie - pozostałe  sector_środki transportu  \\\n",
       "2885                            False                     False   \n",
       "2503                            False                     False   \n",
       "2109                            False                     False   \n",
       "\n",
       "      sector_żywność  \n",
       "2885           False  \n",
       "2503           False  \n",
       "2109           False  \n",
       "\n",
       "[3 rows x 133 columns]"
      ]
     },
     "execution_count": 6,
     "metadata": {},
     "output_type": "execute_result"
    }
   ],
   "source": [
    "X_train.head(3)"
   ]
  },
  {
   "cell_type": "code",
   "execution_count": 7,
   "id": "2ff683d104f2f0a6",
   "metadata": {
    "ExecuteTime": {
     "end_time": "2025-02-23T11:01:53.587034500Z",
     "start_time": "2024-08-24T13:27:07.524778Z"
    },
    "collapsed": false
   },
   "outputs": [
    {
     "data": {
      "text/plain": [
       "2885    11.0\n",
       "2503     7.0\n",
       "2109     8.0\n",
       "Name: target, dtype: float64"
      ]
     },
     "execution_count": 7,
     "metadata": {},
     "output_type": "execute_result"
    }
   ],
   "source": [
    "y_train.head(3)"
   ]
  }
 ],
 "metadata": {
  "kernelspec": {
   "display_name": ".venv",
   "language": "python",
   "name": "python3"
  },
  "language_info": {
   "codemirror_mode": {
    "name": "ipython",
    "version": 3
   },
   "file_extension": ".py",
   "mimetype": "text/x-python",
   "name": "python",
   "nbconvert_exporter": "python",
   "pygments_lexer": "ipython3",
   "version": "3.13.2"
  }
 },
 "nbformat": 4,
 "nbformat_minor": 5
}
