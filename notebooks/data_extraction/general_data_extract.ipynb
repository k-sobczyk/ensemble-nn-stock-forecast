{
 "cells": [
  {
   "cell_type": "code",
   "source": "from utils.data_utils import count_files_in_directory, process_general_info",
   "metadata": {
    "collapsed": false,
    "ExecuteTime": {
     "end_time": "2025-02-22T16:40:32.093972Z",
     "start_time": "2025-02-22T16:40:32.088955Z"
    }
   },
   "id": "78132c709b8ffc43",
   "outputs": [],
   "execution_count": 9
  },
  {
   "cell_type": "code",
   "id": "initial_id",
   "metadata": {
    "collapsed": true,
    "ExecuteTime": {
     "end_time": "2025-02-22T16:40:32.110705Z",
     "start_time": "2025-02-22T16:40:32.105576Z"
    }
   },
   "source": [
    "data_folder = '../../data/raw'"
   ],
   "outputs": [],
   "execution_count": 10
  },
  {
   "cell_type": "markdown",
   "source": [
    "# General Info Extraction (ticker, sector, company name)"
   ],
   "metadata": {
    "collapsed": false
   },
   "id": "8bbf202436e8c613"
  },
  {
   "cell_type": "code",
   "source": [
    "print(f'There are total of: {count_files_in_directory(data_folder)} company files inside main data directory.')"
   ],
   "metadata": {
    "collapsed": false,
    "ExecuteTime": {
     "end_time": "2025-02-22T16:40:32.124414Z",
     "start_time": "2025-02-22T16:40:32.118964Z"
    }
   },
   "id": "b31da65babd77015",
   "outputs": [
    {
     "name": "stdout",
     "output_type": "stream",
     "text": [
      "There are total of: 350 company files inside main data directory.\n"
     ]
    }
   ],
   "execution_count": 11
  },
  {
   "cell_type": "code",
   "source": [
    "df_general_info = process_general_info(data_folder)"
   ],
   "metadata": {
    "collapsed": false,
    "ExecuteTime": {
     "end_time": "2025-02-22T16:41:11.479416Z",
     "start_time": "2025-02-22T16:40:32.158785Z"
    }
   },
   "id": "50c5e6b4c66bcb33",
   "outputs": [
    {
     "name": "stderr",
     "output_type": "stream",
     "text": [
      "Processing general info files: 100%|██████████| 349/349 [00:39<00:00,  8.88it/s]\n"
     ]
    }
   ],
   "execution_count": 12
  },
  {
   "cell_type": "code",
   "source": [
    "df_general_info.head(3)"
   ],
   "metadata": {
    "collapsed": false,
    "ExecuteTime": {
     "end_time": "2025-02-22T16:41:11.504159Z",
     "start_time": "2025-02-22T16:41:11.496440Z"
    }
   },
   "id": "8258231488722ce0",
   "outputs": [
    {
     "data": {
      "text/plain": [
       "                Name   TICKER Sector     File_Name\n",
       "0  11 bit studios SA      11B    gry    11BIT.xlsx\n",
       "1             3LP SA  3LP_IPO    NaN    3LPSA.xlsx\n",
       "2        3R Games SA      3RG    gry  3RGAMES.xlsx"
      ],
      "text/html": [
       "<div>\n",
       "<style scoped>\n",
       "    .dataframe tbody tr th:only-of-type {\n",
       "        vertical-align: middle;\n",
       "    }\n",
       "\n",
       "    .dataframe tbody tr th {\n",
       "        vertical-align: top;\n",
       "    }\n",
       "\n",
       "    .dataframe thead th {\n",
       "        text-align: right;\n",
       "    }\n",
       "</style>\n",
       "<table border=\"1\" class=\"dataframe\">\n",
       "  <thead>\n",
       "    <tr style=\"text-align: right;\">\n",
       "      <th></th>\n",
       "      <th>Name</th>\n",
       "      <th>TICKER</th>\n",
       "      <th>Sector</th>\n",
       "      <th>File_Name</th>\n",
       "    </tr>\n",
       "  </thead>\n",
       "  <tbody>\n",
       "    <tr>\n",
       "      <th>0</th>\n",
       "      <td>11 bit studios SA</td>\n",
       "      <td>11B</td>\n",
       "      <td>gry</td>\n",
       "      <td>11BIT.xlsx</td>\n",
       "    </tr>\n",
       "    <tr>\n",
       "      <th>1</th>\n",
       "      <td>3LP SA</td>\n",
       "      <td>3LP_IPO</td>\n",
       "      <td>NaN</td>\n",
       "      <td>3LPSA.xlsx</td>\n",
       "    </tr>\n",
       "    <tr>\n",
       "      <th>2</th>\n",
       "      <td>3R Games SA</td>\n",
       "      <td>3RG</td>\n",
       "      <td>gry</td>\n",
       "      <td>3RGAMES.xlsx</td>\n",
       "    </tr>\n",
       "  </tbody>\n",
       "</table>\n",
       "</div>"
      ]
     },
     "execution_count": 13,
     "metadata": {},
     "output_type": "execute_result"
    }
   ],
   "execution_count": 13
  },
  {
   "cell_type": "code",
   "source": [
    "df_general_info.isnull().sum()"
   ],
   "metadata": {
    "collapsed": false,
    "ExecuteTime": {
     "end_time": "2025-02-22T16:41:11.541595Z",
     "start_time": "2025-02-22T16:41:11.536131Z"
    }
   },
   "id": "accec5ce87e79968",
   "outputs": [
    {
     "data": {
      "text/plain": [
       "Name         0\n",
       "TICKER       0\n",
       "Sector       4\n",
       "File_Name    0\n",
       "dtype: int64"
      ]
     },
     "execution_count": 14,
     "metadata": {},
     "output_type": "execute_result"
    }
   ],
   "execution_count": 14
  },
  {
   "cell_type": "code",
   "source": [
    "print(\"Rows where 'Sector' is NaN:\")\n",
    "print(df_general_info[df_general_info['Sector'].isna()])"
   ],
   "metadata": {
    "collapsed": false,
    "ExecuteTime": {
     "end_time": "2025-02-22T16:41:11.592349Z",
     "start_time": "2025-02-22T16:41:11.588260Z"
    }
   },
   "id": "8a4a039607e48da2",
   "outputs": [
    {
     "name": "stdout",
     "output_type": "stream",
     "text": [
      "Rows where 'Sector' is NaN:\n",
      "                       Name   TICKER Sector      File_Name\n",
      "1                    3LP SA  3LP_IPO    NaN     3LPSA.xlsx\n",
      "49                   BMW AG      BMW    NaN       BMW.xlsx\n",
      "191  Mercedes-Benz Group AG      MBG    NaN  MERCEDES.xlsx\n",
      "322             Uf Games SA  UFG_IPO    NaN   UFGAMES.xlsx\n"
     ]
    }
   ],
   "execution_count": 15
  },
  {
   "cell_type": "code",
   "source": [
    "sector_updates = {\n",
    "    '3LP SA': 'handel',\n",
    "    'BMW AG': 'motoryzacja',\n",
    "    'Mercedes-Benz Group AG': 'motoryzacja',\n",
    "    'Uf Games SA': 'gry'\n",
    "}"
   ],
   "metadata": {
    "collapsed": false,
    "ExecuteTime": {
     "end_time": "2025-02-22T16:41:11.625700Z",
     "start_time": "2025-02-22T16:41:11.623459Z"
    }
   },
   "id": "3f00c0607edf3c7d",
   "outputs": [],
   "execution_count": 16
  },
  {
   "cell_type": "code",
   "source": [
    "# Function to update sectors\n",
    "def update_sector(row):\n",
    "    if row['Name'] in sector_updates:\n",
    "        return sector_updates[row['Name']]\n",
    "    return row['Sector']"
   ],
   "metadata": {
    "collapsed": false,
    "ExecuteTime": {
     "end_time": "2025-02-22T16:41:11.683069Z",
     "start_time": "2025-02-22T16:41:11.680884Z"
    }
   },
   "id": "83b21da191a2fa44",
   "outputs": [],
   "execution_count": 17
  },
  {
   "cell_type": "code",
   "source": [
    "# Apply the update function to the DataFrame\n",
    "df_general_info['Sector'] = df_general_info.apply(update_sector, axis=1)"
   ],
   "metadata": {
    "collapsed": false,
    "ExecuteTime": {
     "end_time": "2025-02-22T16:41:11.712536Z",
     "start_time": "2025-02-22T16:41:11.708446Z"
    }
   },
   "id": "171aa83e3d820c2d",
   "outputs": [],
   "execution_count": 18
  },
  {
   "cell_type": "code",
   "source": [
    "nan_count = df_general_info['Sector'].isna().sum()\n",
    "print(f\"\\nRemaining number of NaN values in 'Sector': {nan_count}\")"
   ],
   "metadata": {
    "collapsed": false,
    "ExecuteTime": {
     "end_time": "2025-02-22T16:41:11.755238Z",
     "start_time": "2025-02-22T16:41:11.752192Z"
    }
   },
   "id": "e8c266fa09e88467",
   "outputs": [
    {
     "name": "stdout",
     "output_type": "stream",
     "text": [
      "\n",
      "Remaining number of NaN values in 'Sector': 0\n"
     ]
    }
   ],
   "execution_count": 19
  },
  {
   "cell_type": "code",
   "source": [
    "df_general_info.head(3)"
   ],
   "metadata": {
    "collapsed": false,
    "ExecuteTime": {
     "end_time": "2025-02-22T16:41:11.792886Z",
     "start_time": "2025-02-22T16:41:11.787298Z"
    }
   },
   "id": "7e39e04f19fc5212",
   "outputs": [
    {
     "data": {
      "text/plain": [
       "                Name   TICKER  Sector     File_Name\n",
       "0  11 bit studios SA      11B     gry    11BIT.xlsx\n",
       "1             3LP SA  3LP_IPO  handel    3LPSA.xlsx\n",
       "2        3R Games SA      3RG     gry  3RGAMES.xlsx"
      ],
      "text/html": [
       "<div>\n",
       "<style scoped>\n",
       "    .dataframe tbody tr th:only-of-type {\n",
       "        vertical-align: middle;\n",
       "    }\n",
       "\n",
       "    .dataframe tbody tr th {\n",
       "        vertical-align: top;\n",
       "    }\n",
       "\n",
       "    .dataframe thead th {\n",
       "        text-align: right;\n",
       "    }\n",
       "</style>\n",
       "<table border=\"1\" class=\"dataframe\">\n",
       "  <thead>\n",
       "    <tr style=\"text-align: right;\">\n",
       "      <th></th>\n",
       "      <th>Name</th>\n",
       "      <th>TICKER</th>\n",
       "      <th>Sector</th>\n",
       "      <th>File_Name</th>\n",
       "    </tr>\n",
       "  </thead>\n",
       "  <tbody>\n",
       "    <tr>\n",
       "      <th>0</th>\n",
       "      <td>11 bit studios SA</td>\n",
       "      <td>11B</td>\n",
       "      <td>gry</td>\n",
       "      <td>11BIT.xlsx</td>\n",
       "    </tr>\n",
       "    <tr>\n",
       "      <th>1</th>\n",
       "      <td>3LP SA</td>\n",
       "      <td>3LP_IPO</td>\n",
       "      <td>handel</td>\n",
       "      <td>3LPSA.xlsx</td>\n",
       "    </tr>\n",
       "    <tr>\n",
       "      <th>2</th>\n",
       "      <td>3R Games SA</td>\n",
       "      <td>3RG</td>\n",
       "      <td>gry</td>\n",
       "      <td>3RGAMES.xlsx</td>\n",
       "    </tr>\n",
       "  </tbody>\n",
       "</table>\n",
       "</div>"
      ]
     },
     "execution_count": 20,
     "metadata": {},
     "output_type": "execute_result"
    }
   ],
   "execution_count": 20
  },
  {
   "cell_type": "code",
   "source": [
    "df_general_info.to_csv('../../data/processed/general_company_info.csv', index=False)"
   ],
   "metadata": {
    "collapsed": false,
    "ExecuteTime": {
     "end_time": "2025-02-22T16:41:11.882050Z",
     "start_time": "2025-02-22T16:41:11.875611Z"
    }
   },
   "id": "7128720d3cb1284e",
   "outputs": [],
   "execution_count": 21
  }
 ],
 "metadata": {
  "kernelspec": {
   "display_name": "Python 3",
   "language": "python",
   "name": "python3"
  },
  "language_info": {
   "codemirror_mode": {
    "name": "ipython",
    "version": 2
   },
   "file_extension": ".py",
   "mimetype": "text/x-python",
   "name": "python",
   "nbconvert_exporter": "python",
   "pygments_lexer": "ipython2",
   "version": "2.7.6"
  }
 },
 "nbformat": 4,
 "nbformat_minor": 5
}
