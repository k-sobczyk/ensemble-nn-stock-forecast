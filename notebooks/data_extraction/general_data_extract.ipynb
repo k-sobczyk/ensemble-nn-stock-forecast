{
 "cells": [
  {
   "cell_type": "code",
   "execution_count": 1,
   "id": "78132c709b8ffc43",
   "metadata": {
    "ExecuteTime": {
     "end_time": "2025-02-23T11:13:14.406793Z",
     "start_time": "2025-02-23T11:13:13.433048Z"
    },
    "collapsed": false
   },
   "outputs": [],
   "source": [
    "from utils.data_utils import count_files_in_directory, process_general_info"
   ]
  },
  {
   "cell_type": "code",
   "execution_count": 2,
   "id": "initial_id",
   "metadata": {
    "ExecuteTime": {
     "end_time": "2025-02-23T11:13:14.568481Z",
     "start_time": "2025-02-23T11:13:14.565630Z"
    },
    "collapsed": true
   },
   "outputs": [],
   "source": [
    "data_folder = '../../data/raw'"
   ]
  },
  {
   "cell_type": "markdown",
   "id": "8bbf202436e8c613",
   "metadata": {
    "collapsed": false
   },
   "source": [
    "# General Info Extraction (ticker, sector, company name)"
   ]
  },
  {
   "cell_type": "code",
   "execution_count": 3,
   "id": "b31da65babd77015",
   "metadata": {
    "ExecuteTime": {
     "end_time": "2025-02-23T11:13:14.580994Z",
     "start_time": "2025-02-23T11:13:14.575683Z"
    },
    "collapsed": false
   },
   "outputs": [
    {
     "name": "stdout",
     "output_type": "stream",
     "text": [
      "There are total of: 350 company files inside main data directory.\n"
     ]
    }
   ],
   "source": [
    "print(f'There are total of: {count_files_in_directory(data_folder)} company files inside main data directory.')"
   ]
  },
  {
   "cell_type": "code",
   "execution_count": 4,
   "id": "50c5e6b4c66bcb33",
   "metadata": {
    "ExecuteTime": {
     "end_time": "2025-02-23T11:13:52.492206Z",
     "start_time": "2025-02-23T11:13:14.597623Z"
    },
    "collapsed": false
   },
   "outputs": [
    {
     "name": "stderr",
     "output_type": "stream",
     "text": [
      "Processing general info files: 100%|██████████| 349/349 [00:41<00:00,  8.31it/s]\n"
     ]
    }
   ],
   "source": [
    "df_general_info = process_general_info(data_folder)"
   ]
  },
  {
   "cell_type": "code",
   "execution_count": 5,
   "id": "8258231488722ce0",
   "metadata": {
    "ExecuteTime": {
     "end_time": "2025-02-23T11:13:52.509848Z",
     "start_time": "2025-02-23T11:13:52.500788Z"
    },
    "collapsed": false
   },
   "outputs": [
    {
     "data": {
      "text/html": [
       "<div>\n",
       "<style scoped>\n",
       "    .dataframe tbody tr th:only-of-type {\n",
       "        vertical-align: middle;\n",
       "    }\n",
       "\n",
       "    .dataframe tbody tr th {\n",
       "        vertical-align: top;\n",
       "    }\n",
       "\n",
       "    .dataframe thead th {\n",
       "        text-align: right;\n",
       "    }\n",
       "</style>\n",
       "<table border=\"1\" class=\"dataframe\">\n",
       "  <thead>\n",
       "    <tr style=\"text-align: right;\">\n",
       "      <th></th>\n",
       "      <th>Name</th>\n",
       "      <th>TICKER</th>\n",
       "      <th>Sector</th>\n",
       "      <th>File_Name</th>\n",
       "    </tr>\n",
       "  </thead>\n",
       "  <tbody>\n",
       "    <tr>\n",
       "      <th>0</th>\n",
       "      <td>11 bit studios SA</td>\n",
       "      <td>11B</td>\n",
       "      <td>gry</td>\n",
       "      <td>11BIT.xlsx</td>\n",
       "    </tr>\n",
       "    <tr>\n",
       "      <th>1</th>\n",
       "      <td>3LP SA</td>\n",
       "      <td>3LP_IPO</td>\n",
       "      <td>NaN</td>\n",
       "      <td>3LPSA.xlsx</td>\n",
       "    </tr>\n",
       "    <tr>\n",
       "      <th>2</th>\n",
       "      <td>3R Games SA</td>\n",
       "      <td>3RG</td>\n",
       "      <td>gry</td>\n",
       "      <td>3RGAMES.xlsx</td>\n",
       "    </tr>\n",
       "  </tbody>\n",
       "</table>\n",
       "</div>"
      ],
      "text/plain": [
       "                Name   TICKER Sector     File_Name\n",
       "0  11 bit studios SA      11B    gry    11BIT.xlsx\n",
       "1             3LP SA  3LP_IPO    NaN    3LPSA.xlsx\n",
       "2        3R Games SA      3RG    gry  3RGAMES.xlsx"
      ]
     },
     "execution_count": 5,
     "metadata": {},
     "output_type": "execute_result"
    }
   ],
   "source": [
    "df_general_info.head(3)"
   ]
  },
  {
   "cell_type": "code",
   "execution_count": 6,
   "id": "accec5ce87e79968",
   "metadata": {
    "ExecuteTime": {
     "end_time": "2025-02-23T11:13:52.543031Z",
     "start_time": "2025-02-23T11:13:52.538886Z"
    },
    "collapsed": false
   },
   "outputs": [
    {
     "data": {
      "text/plain": [
       "Name         0\n",
       "TICKER       0\n",
       "Sector       4\n",
       "File_Name    0\n",
       "dtype: int64"
      ]
     },
     "execution_count": 6,
     "metadata": {},
     "output_type": "execute_result"
    }
   ],
   "source": [
    "df_general_info.isnull().sum()"
   ]
  },
  {
   "cell_type": "code",
   "execution_count": 7,
   "id": "8a4a039607e48da2",
   "metadata": {
    "ExecuteTime": {
     "end_time": "2025-02-23T11:13:52.584802Z",
     "start_time": "2025-02-23T11:13:52.580586Z"
    },
    "collapsed": false
   },
   "outputs": [
    {
     "name": "stdout",
     "output_type": "stream",
     "text": [
      "Rows where 'Sector' is NaN:\n",
      "                       Name   TICKER Sector      File_Name\n",
      "1                    3LP SA  3LP_IPO    NaN     3LPSA.xlsx\n",
      "49                   BMW AG      BMW    NaN       BMW.xlsx\n",
      "191  Mercedes-Benz Group AG      MBG    NaN  MERCEDES.xlsx\n",
      "322             Uf Games SA  UFG_IPO    NaN   UFGAMES.xlsx\n"
     ]
    }
   ],
   "source": [
    "print(\"Rows where 'Sector' is NaN:\")\n",
    "print(df_general_info[df_general_info['Sector'].isna()])"
   ]
  },
  {
   "cell_type": "code",
   "execution_count": 8,
   "id": "3f00c0607edf3c7d",
   "metadata": {
    "ExecuteTime": {
     "end_time": "2025-02-23T11:13:52.634698Z",
     "start_time": "2025-02-23T11:13:52.631670Z"
    },
    "collapsed": false
   },
   "outputs": [],
   "source": [
    "sector_updates = {\n",
    "    '3LP SA': 'handel',\n",
    "    'BMW AG': 'motoryzacja',\n",
    "    'Mercedes-Benz Group AG': 'motoryzacja',\n",
    "    'Uf Games SA': 'gry'\n",
    "}"
   ]
  },
  {
   "cell_type": "code",
   "execution_count": 9,
   "id": "83b21da191a2fa44",
   "metadata": {
    "ExecuteTime": {
     "end_time": "2025-02-23T11:13:52.667610Z",
     "start_time": "2025-02-23T11:13:52.665285Z"
    },
    "collapsed": false
   },
   "outputs": [],
   "source": [
    "# Function to update sectors\n",
    "def update_sector(row):\n",
    "    if row['Name'] in sector_updates:\n",
    "        return sector_updates[row['Name']]\n",
    "    return row['Sector']"
   ]
  },
  {
   "cell_type": "code",
   "execution_count": 10,
   "id": "171aa83e3d820c2d",
   "metadata": {
    "ExecuteTime": {
     "end_time": "2025-02-23T11:13:52.705066Z",
     "start_time": "2025-02-23T11:13:52.700171Z"
    },
    "collapsed": false
   },
   "outputs": [],
   "source": [
    "# Apply the update function to the DataFrame\n",
    "df_general_info['Sector'] = df_general_info.apply(update_sector, axis=1)"
   ]
  },
  {
   "cell_type": "code",
   "execution_count": 11,
   "id": "e8c266fa09e88467",
   "metadata": {
    "ExecuteTime": {
     "end_time": "2025-02-23T11:13:52.725394Z",
     "start_time": "2025-02-23T11:13:52.721726Z"
    },
    "collapsed": false
   },
   "outputs": [
    {
     "name": "stdout",
     "output_type": "stream",
     "text": [
      "\n",
      "Remaining number of NaN values in 'Sector': 0\n"
     ]
    }
   ],
   "source": [
    "nan_count = df_general_info['Sector'].isna().sum()\n",
    "print(f\"\\nRemaining number of NaN values in 'Sector': {nan_count}\")"
   ]
  },
  {
   "cell_type": "code",
   "execution_count": 12,
   "id": "7e39e04f19fc5212",
   "metadata": {
    "ExecuteTime": {
     "end_time": "2025-02-23T11:13:52.747489Z",
     "start_time": "2025-02-23T11:13:52.742241Z"
    },
    "collapsed": false
   },
   "outputs": [
    {
     "data": {
      "text/html": [
       "<div>\n",
       "<style scoped>\n",
       "    .dataframe tbody tr th:only-of-type {\n",
       "        vertical-align: middle;\n",
       "    }\n",
       "\n",
       "    .dataframe tbody tr th {\n",
       "        vertical-align: top;\n",
       "    }\n",
       "\n",
       "    .dataframe thead th {\n",
       "        text-align: right;\n",
       "    }\n",
       "</style>\n",
       "<table border=\"1\" class=\"dataframe\">\n",
       "  <thead>\n",
       "    <tr style=\"text-align: right;\">\n",
       "      <th></th>\n",
       "      <th>Name</th>\n",
       "      <th>TICKER</th>\n",
       "      <th>Sector</th>\n",
       "      <th>File_Name</th>\n",
       "    </tr>\n",
       "  </thead>\n",
       "  <tbody>\n",
       "    <tr>\n",
       "      <th>0</th>\n",
       "      <td>11 bit studios SA</td>\n",
       "      <td>11B</td>\n",
       "      <td>gry</td>\n",
       "      <td>11BIT.xlsx</td>\n",
       "    </tr>\n",
       "    <tr>\n",
       "      <th>1</th>\n",
       "      <td>3LP SA</td>\n",
       "      <td>3LP_IPO</td>\n",
       "      <td>handel</td>\n",
       "      <td>3LPSA.xlsx</td>\n",
       "    </tr>\n",
       "    <tr>\n",
       "      <th>2</th>\n",
       "      <td>3R Games SA</td>\n",
       "      <td>3RG</td>\n",
       "      <td>gry</td>\n",
       "      <td>3RGAMES.xlsx</td>\n",
       "    </tr>\n",
       "  </tbody>\n",
       "</table>\n",
       "</div>"
      ],
      "text/plain": [
       "                Name   TICKER  Sector     File_Name\n",
       "0  11 bit studios SA      11B     gry    11BIT.xlsx\n",
       "1             3LP SA  3LP_IPO  handel    3LPSA.xlsx\n",
       "2        3R Games SA      3RG     gry  3RGAMES.xlsx"
      ]
     },
     "execution_count": 12,
     "metadata": {},
     "output_type": "execute_result"
    }
   ],
   "source": [
    "df_general_info.head(3)"
   ]
  },
  {
   "cell_type": "code",
   "execution_count": 13,
   "id": "7128720d3cb1284e",
   "metadata": {
    "ExecuteTime": {
     "end_time": "2025-02-23T11:13:52.799544Z",
     "start_time": "2025-02-23T11:13:52.794663Z"
    },
    "collapsed": false
   },
   "outputs": [],
   "source": [
    "df_general_info.to_csv('../../data/processed/general_company_info.csv', index=False)"
   ]
  }
 ],
 "metadata": {
  "kernelspec": {
   "display_name": ".venv",
   "language": "python",
   "name": "python3"
  },
  "language_info": {
   "codemirror_mode": {
    "name": "ipython",
    "version": 3
   },
   "file_extension": ".py",
   "mimetype": "text/x-python",
   "name": "python",
   "nbconvert_exporter": "python",
   "pygments_lexer": "ipython3",
   "version": "3.13.2"
  }
 },
 "nbformat": 4,
 "nbformat_minor": 5
}
