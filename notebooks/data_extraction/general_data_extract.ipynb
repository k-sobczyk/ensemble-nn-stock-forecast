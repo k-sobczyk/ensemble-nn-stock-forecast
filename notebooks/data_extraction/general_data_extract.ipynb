{
 "cells": [
  {
   "cell_type": "code",
   "outputs": [],
   "source": [
    "from scripts.data_utils import count_files_in_directory, process_general_info"
   ],
   "metadata": {
    "collapsed": false,
    "ExecuteTime": {
     "end_time": "2024-08-10T08:47:20.015253100Z",
     "start_time": "2024-08-10T08:47:19.518302400Z"
    }
   },
   "id": "78132c709b8ffc43",
   "execution_count": 1
  },
  {
   "cell_type": "code",
   "execution_count": 2,
   "id": "initial_id",
   "metadata": {
    "collapsed": true,
    "ExecuteTime": {
     "end_time": "2024-08-10T08:47:20.020120700Z",
     "start_time": "2024-08-10T08:47:20.016252200Z"
    }
   },
   "outputs": [],
   "source": [
    "data_folder = '../../data/raw'"
   ]
  },
  {
   "cell_type": "markdown",
   "source": [
    "# General Info Extraction (ticker, sector, company name)"
   ],
   "metadata": {
    "collapsed": false
   },
   "id": "8bbf202436e8c613"
  },
  {
   "cell_type": "code",
   "outputs": [
    {
     "name": "stdout",
     "output_type": "stream",
     "text": [
      "There are total of: 350 company files inside main data directory.\n"
     ]
    }
   ],
   "source": [
    "print(f'There are total of: {count_files_in_directory(data_folder)} company files inside main data directory.')"
   ],
   "metadata": {
    "collapsed": false,
    "ExecuteTime": {
     "end_time": "2024-08-10T08:47:20.058692600Z",
     "start_time": "2024-08-10T08:47:20.020120700Z"
    }
   },
   "id": "b31da65babd77015",
   "execution_count": 3
  },
  {
   "cell_type": "code",
   "outputs": [
    {
     "name": "stderr",
     "output_type": "stream",
     "text": [
      "Processing general info files: 100%|██████████| 349/349 [00:44<00:00,  7.91it/s]\n"
     ]
    }
   ],
   "source": [
    "df_general_info = process_general_info(data_folder)"
   ],
   "metadata": {
    "collapsed": false,
    "ExecuteTime": {
     "end_time": "2024-08-10T08:48:04.194720600Z",
     "start_time": "2024-08-10T08:47:20.058692600Z"
    }
   },
   "id": "50c5e6b4c66bcb33",
   "execution_count": 4
  },
  {
   "cell_type": "code",
   "outputs": [
    {
     "data": {
      "text/plain": "                Name   TICKER Sector     File_Name\n0  11 bit studios SA      11B    gry    11BIT.xlsx\n1             3LP SA  3LP_IPO    NaN    3LPSA.xlsx\n2        3R Games SA      3RG    gry  3RGAMES.xlsx",
      "text/html": "<div>\n<style scoped>\n    .dataframe tbody tr th:only-of-type {\n        vertical-align: middle;\n    }\n\n    .dataframe tbody tr th {\n        vertical-align: top;\n    }\n\n    .dataframe thead th {\n        text-align: right;\n    }\n</style>\n<table border=\"1\" class=\"dataframe\">\n  <thead>\n    <tr style=\"text-align: right;\">\n      <th></th>\n      <th>Name</th>\n      <th>TICKER</th>\n      <th>Sector</th>\n      <th>File_Name</th>\n    </tr>\n  </thead>\n  <tbody>\n    <tr>\n      <th>0</th>\n      <td>11 bit studios SA</td>\n      <td>11B</td>\n      <td>gry</td>\n      <td>11BIT.xlsx</td>\n    </tr>\n    <tr>\n      <th>1</th>\n      <td>3LP SA</td>\n      <td>3LP_IPO</td>\n      <td>NaN</td>\n      <td>3LPSA.xlsx</td>\n    </tr>\n    <tr>\n      <th>2</th>\n      <td>3R Games SA</td>\n      <td>3RG</td>\n      <td>gry</td>\n      <td>3RGAMES.xlsx</td>\n    </tr>\n  </tbody>\n</table>\n</div>"
     },
     "execution_count": 5,
     "metadata": {},
     "output_type": "execute_result"
    }
   ],
   "source": [
    "df_general_info.head(3)"
   ],
   "metadata": {
    "collapsed": false,
    "ExecuteTime": {
     "end_time": "2024-08-10T08:48:04.210209100Z",
     "start_time": "2024-08-10T08:48:04.194720600Z"
    }
   },
   "id": "8258231488722ce0",
   "execution_count": 5
  },
  {
   "cell_type": "code",
   "outputs": [
    {
     "data": {
      "text/plain": "Name         0\nTICKER       0\nSector       4\nFile_Name    0\ndtype: int64"
     },
     "execution_count": 6,
     "metadata": {},
     "output_type": "execute_result"
    }
   ],
   "source": [
    "df_general_info.isnull().sum()"
   ],
   "metadata": {
    "collapsed": false,
    "ExecuteTime": {
     "end_time": "2024-08-10T08:48:04.212214600Z",
     "start_time": "2024-08-10T08:48:04.206245900Z"
    }
   },
   "id": "accec5ce87e79968",
   "execution_count": 6
  },
  {
   "cell_type": "code",
   "outputs": [
    {
     "name": "stdout",
     "output_type": "stream",
     "text": [
      "Rows where 'Sector' is NaN:\n",
      "                       Name   TICKER Sector      File_Name\n",
      "1                    3LP SA  3LP_IPO    NaN     3LPSA.xlsx\n",
      "49                   BMW AG      BMW    NaN       BMW.xlsx\n",
      "191  Mercedes-Benz Group AG      MBG    NaN  MERCEDES.xlsx\n",
      "322             Uf Games SA  UFG_IPO    NaN   UFGAMES.xlsx\n"
     ]
    }
   ],
   "source": [
    "print(\"Rows where 'Sector' is NaN:\")\n",
    "print(df_general_info[df_general_info['Sector'].isna()])"
   ],
   "metadata": {
    "collapsed": false,
    "ExecuteTime": {
     "end_time": "2024-08-10T08:48:04.233823500Z",
     "start_time": "2024-08-10T08:48:04.212214600Z"
    }
   },
   "id": "8a4a039607e48da2",
   "execution_count": 7
  },
  {
   "cell_type": "code",
   "outputs": [],
   "source": [
    "sector_updates = {\n",
    "    '3LP SA': 'handel',\n",
    "    'BMW AG': 'motoryzacja',\n",
    "    'Mercedes-Benz Group AG': 'motoryzacja',\n",
    "    'Uf Games SA': 'gry'\n",
    "}"
   ],
   "metadata": {
    "collapsed": false,
    "ExecuteTime": {
     "end_time": "2024-08-10T08:48:04.258478500Z",
     "start_time": "2024-08-10T08:48:04.220543200Z"
    }
   },
   "id": "3f00c0607edf3c7d",
   "execution_count": 8
  },
  {
   "cell_type": "code",
   "outputs": [],
   "source": [
    "# Function to update sectors\n",
    "def update_sector(row):\n",
    "    if row['Name'] in sector_updates:\n",
    "        return sector_updates[row['Name']]\n",
    "    return row['Sector']"
   ],
   "metadata": {
    "collapsed": false,
    "ExecuteTime": {
     "end_time": "2024-08-10T08:48:04.259481800Z",
     "start_time": "2024-08-10T08:48:04.226059100Z"
    }
   },
   "id": "83b21da191a2fa44",
   "execution_count": 9
  },
  {
   "cell_type": "code",
   "outputs": [],
   "source": [
    "# Apply the update function to the DataFrame\n",
    "df_general_info['Sector'] = df_general_info.apply(update_sector, axis=1)"
   ],
   "metadata": {
    "collapsed": false,
    "ExecuteTime": {
     "end_time": "2024-08-10T08:48:04.279359600Z",
     "start_time": "2024-08-10T08:48:04.231824200Z"
    }
   },
   "id": "171aa83e3d820c2d",
   "execution_count": 10
  },
  {
   "cell_type": "code",
   "outputs": [
    {
     "name": "stdout",
     "output_type": "stream",
     "text": [
      "\n",
      "Remaining number of NaN values in 'Sector': 0\n"
     ]
    }
   ],
   "source": [
    "nan_count = df_general_info['Sector'].isna().sum()\n",
    "print(f\"\\nRemaining number of NaN values in 'Sector': {nan_count}\")"
   ],
   "metadata": {
    "collapsed": false,
    "ExecuteTime": {
     "end_time": "2024-08-10T08:48:04.301342500Z",
     "start_time": "2024-08-10T08:48:04.241724700Z"
    }
   },
   "id": "e8c266fa09e88467",
   "execution_count": 11
  },
  {
   "cell_type": "code",
   "outputs": [
    {
     "data": {
      "text/plain": "                Name   TICKER  Sector     File_Name\n0  11 bit studios SA      11B     gry    11BIT.xlsx\n1             3LP SA  3LP_IPO  handel    3LPSA.xlsx\n2        3R Games SA      3RG     gry  3RGAMES.xlsx",
      "text/html": "<div>\n<style scoped>\n    .dataframe tbody tr th:only-of-type {\n        vertical-align: middle;\n    }\n\n    .dataframe tbody tr th {\n        vertical-align: top;\n    }\n\n    .dataframe thead th {\n        text-align: right;\n    }\n</style>\n<table border=\"1\" class=\"dataframe\">\n  <thead>\n    <tr style=\"text-align: right;\">\n      <th></th>\n      <th>Name</th>\n      <th>TICKER</th>\n      <th>Sector</th>\n      <th>File_Name</th>\n    </tr>\n  </thead>\n  <tbody>\n    <tr>\n      <th>0</th>\n      <td>11 bit studios SA</td>\n      <td>11B</td>\n      <td>gry</td>\n      <td>11BIT.xlsx</td>\n    </tr>\n    <tr>\n      <th>1</th>\n      <td>3LP SA</td>\n      <td>3LP_IPO</td>\n      <td>handel</td>\n      <td>3LPSA.xlsx</td>\n    </tr>\n    <tr>\n      <th>2</th>\n      <td>3R Games SA</td>\n      <td>3RG</td>\n      <td>gry</td>\n      <td>3RGAMES.xlsx</td>\n    </tr>\n  </tbody>\n</table>\n</div>"
     },
     "execution_count": 12,
     "metadata": {},
     "output_type": "execute_result"
    }
   ],
   "source": [
    "df_general_info.head(3)"
   ],
   "metadata": {
    "collapsed": false,
    "ExecuteTime": {
     "end_time": "2024-08-10T08:48:04.318341600Z",
     "start_time": "2024-08-10T08:48:04.247697500Z"
    }
   },
   "id": "7e39e04f19fc5212",
   "execution_count": 12
  },
  {
   "cell_type": "code",
   "outputs": [],
   "source": [
    "df_general_info.to_csv('../../data/processed/general_company_info.csv', index=False)"
   ],
   "metadata": {
    "collapsed": false,
    "ExecuteTime": {
     "end_time": "2024-08-10T08:48:04.319344Z",
     "start_time": "2024-08-10T08:48:04.254474200Z"
    }
   },
   "id": "7128720d3cb1284e",
   "execution_count": 13
  }
 ],
 "metadata": {
  "kernelspec": {
   "display_name": "Python 3",
   "language": "python",
   "name": "python3"
  },
  "language_info": {
   "codemirror_mode": {
    "name": "ipython",
    "version": 2
   },
   "file_extension": ".py",
   "mimetype": "text/x-python",
   "name": "python",
   "nbconvert_exporter": "python",
   "pygments_lexer": "ipython2",
   "version": "2.7.6"
  }
 },
 "nbformat": 4,
 "nbformat_minor": 5
}
