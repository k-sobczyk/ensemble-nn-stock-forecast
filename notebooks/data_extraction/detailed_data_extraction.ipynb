{
 "cells": [
  {
   "cell_type": "code",
   "execution_count": null,
   "id": "initial_id",
   "metadata": {
    "collapsed": true
   },
   "outputs": [],
   "source": [
    "from scripts.data_utils import *"
   ]
  },
  {
   "cell_type": "code",
   "outputs": [],
   "source": [
    "selected_columns = [\n",
    "            'date',\n",
    "            'Aktywa',  # Total Assets\n",
    "            'Non-current assets',\n",
    "            'Current assets',\n",
    "            'Property, plant and equipment',\n",
    "            'Intangible assets',\n",
    "            'Inventories',\n",
    "            'Trade receivables',\n",
    "            'Cash and cash equivalents',\n",
    "            'Equity shareholders of the parent',\n",
    "            'Share capital',\n",
    "            'Retained earnings / accumulated losses',\n",
    "            'Non-current liabilities',\n",
    "            'Current liabilities',\n",
    "            'Non-current loans and borrowings',\n",
    "            'Financial liabilities (loans and borrowings)',\n",
    "            'Total shares'\n",
    "        ]"
   ],
   "metadata": {
    "collapsed": false
   },
   "id": "32ddbcc448844b92"
  },
  {
   "cell_type": "code",
   "outputs": [],
   "source": [],
   "metadata": {
    "collapsed": false
   },
   "id": "6d9e1c67b3e8f1b9"
  }
 ],
 "metadata": {
  "kernelspec": {
   "display_name": "Python 3",
   "language": "python",
   "name": "python3"
  },
  "language_info": {
   "codemirror_mode": {
    "name": "ipython",
    "version": 2
   },
   "file_extension": ".py",
   "mimetype": "text/x-python",
   "name": "python",
   "nbconvert_exporter": "python",
   "pygments_lexer": "ipython2",
   "version": "2.7.6"
  }
 },
 "nbformat": 4,
 "nbformat_minor": 5
}
