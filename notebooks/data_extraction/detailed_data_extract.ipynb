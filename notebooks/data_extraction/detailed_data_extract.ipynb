{
 "cells": [
  {
   "cell_type": "code",
   "execution_count": 1,
   "id": "initial_id",
   "metadata": {
    "ExecuteTime": {
     "end_time": "2025-02-23T11:12:04.194047Z",
     "start_time": "2025-02-23T11:12:03.328475Z"
    },
    "collapsed": true
   },
   "outputs": [],
   "source": [
    "from utils.data_utils import process_financial_details"
   ]
  },
  {
   "cell_type": "code",
   "execution_count": 2,
   "id": "c2bc8e41f678f3bd",
   "metadata": {
    "ExecuteTime": {
     "end_time": "2025-02-23T11:12:04.200978Z",
     "start_time": "2025-02-23T11:12:04.198213Z"
    },
    "collapsed": false
   },
   "outputs": [],
   "source": [
    "data_folder = '../../data/raw'"
   ]
  },
  {
   "cell_type": "markdown",
   "id": "560a9414cfeea298",
   "metadata": {
    "collapsed": false
   },
   "source": [
    "# Detailed Financial Company Information "
   ]
  },
  {
   "cell_type": "code",
   "execution_count": 3,
   "id": "32ddbcc448844b92",
   "metadata": {
    "ExecuteTime": {
     "end_time": "2025-02-23T11:13:03.070392Z",
     "start_time": "2025-02-23T11:12:04.393421Z"
    },
    "collapsed": false
   },
   "outputs": [
    {
     "name": "stderr",
     "output_type": "stream",
     "text": [
      "Processing financial details files: 100%|██████████| 349/349 [00:53<00:00,  6.53it/s]\n"
     ]
    }
   ],
   "source": [
    "df_financial_details = process_financial_details(data_folder)"
   ]
  },
  {
   "cell_type": "code",
   "execution_count": 4,
   "id": "6d9e1c67b3e8f1b9",
   "metadata": {
    "ExecuteTime": {
     "end_time": "2025-02-23T11:13:03.090425Z",
     "start_time": "2025-02-23T11:13:03.079574Z"
    },
    "collapsed": false
   },
   "outputs": [
    {
     "data": {
      "text/html": [
       "<div>\n",
       "<style scoped>\n",
       "    .dataframe tbody tr th:only-of-type {\n",
       "        vertical-align: middle;\n",
       "    }\n",
       "\n",
       "    .dataframe tbody tr th {\n",
       "        vertical-align: top;\n",
       "    }\n",
       "\n",
       "    .dataframe thead th {\n",
       "        text-align: right;\n",
       "    }\n",
       "</style>\n",
       "<table border=\"1\" class=\"dataframe\">\n",
       "  <thead>\n",
       "    <tr style=\"text-align: right;\">\n",
       "      <th></th>\n",
       "      <th>date</th>\n",
       "      <th>assets</th>\n",
       "      <th>non_current_assets</th>\n",
       "      <th>current_assets</th>\n",
       "      <th>property_plant_equipment</th>\n",
       "      <th>intangible_assets</th>\n",
       "      <th>inventories</th>\n",
       "      <th>trade_receivables</th>\n",
       "      <th>cash_and_cash_equivalents</th>\n",
       "      <th>equity_shareholders_of_the_parent</th>\n",
       "      <th>share_capital</th>\n",
       "      <th>retained_earning_accumulated_losses</th>\n",
       "      <th>non_current_liabilities</th>\n",
       "      <th>current_liabilities</th>\n",
       "      <th>non_current_loans_and_borrowings</th>\n",
       "      <th>financial_liabilities_loans_borrowings</th>\n",
       "      <th>total_shares</th>\n",
       "      <th>filename</th>\n",
       "    </tr>\n",
       "  </thead>\n",
       "  <tbody>\n",
       "    <tr>\n",
       "      <th>0</th>\n",
       "      <td>NaN</td>\n",
       "      <td>NaN</td>\n",
       "      <td>NaN</td>\n",
       "      <td>NaN</td>\n",
       "      <td>NaN</td>\n",
       "      <td>NaN</td>\n",
       "      <td>NaN</td>\n",
       "      <td>NaN</td>\n",
       "      <td>NaN</td>\n",
       "      <td>NaN</td>\n",
       "      <td>NaN</td>\n",
       "      <td>NaN</td>\n",
       "      <td>NaN</td>\n",
       "      <td>NaN</td>\n",
       "      <td>NaN</td>\n",
       "      <td>NaN</td>\n",
       "      <td>NaN</td>\n",
       "      <td>11BIT.xlsx</td>\n",
       "    </tr>\n",
       "    <tr>\n",
       "      <th>1</th>\n",
       "      <td>NaN</td>\n",
       "      <td>NaN</td>\n",
       "      <td>NaN</td>\n",
       "      <td>NaN</td>\n",
       "      <td>NaN</td>\n",
       "      <td>NaN</td>\n",
       "      <td>NaN</td>\n",
       "      <td>NaN</td>\n",
       "      <td>NaN</td>\n",
       "      <td>NaN</td>\n",
       "      <td>NaN</td>\n",
       "      <td>NaN</td>\n",
       "      <td>NaN</td>\n",
       "      <td>NaN</td>\n",
       "      <td>NaN</td>\n",
       "      <td>NaN</td>\n",
       "      <td>NaN</td>\n",
       "      <td>11BIT.xlsx</td>\n",
       "    </tr>\n",
       "    <tr>\n",
       "      <th>2</th>\n",
       "      <td>NaN</td>\n",
       "      <td>NaN</td>\n",
       "      <td>NaN</td>\n",
       "      <td>NaN</td>\n",
       "      <td>NaN</td>\n",
       "      <td>NaN</td>\n",
       "      <td>NaN</td>\n",
       "      <td>NaN</td>\n",
       "      <td>NaN</td>\n",
       "      <td>NaN</td>\n",
       "      <td>NaN</td>\n",
       "      <td>NaN</td>\n",
       "      <td>NaN</td>\n",
       "      <td>NaN</td>\n",
       "      <td>NaN</td>\n",
       "      <td>NaN</td>\n",
       "      <td>NaN</td>\n",
       "      <td>11BIT.xlsx</td>\n",
       "    </tr>\n",
       "  </tbody>\n",
       "</table>\n",
       "</div>"
      ],
      "text/plain": [
       "  date assets non_current_assets current_assets property_plant_equipment  \\\n",
       "0  NaN    NaN                NaN            NaN                      NaN   \n",
       "1  NaN    NaN                NaN            NaN                      NaN   \n",
       "2  NaN    NaN                NaN            NaN                      NaN   \n",
       "\n",
       "  intangible_assets inventories trade_receivables cash_and_cash_equivalents  \\\n",
       "0               NaN         NaN               NaN                       NaN   \n",
       "1               NaN         NaN               NaN                       NaN   \n",
       "2               NaN         NaN               NaN                       NaN   \n",
       "\n",
       "  equity_shareholders_of_the_parent share_capital  \\\n",
       "0                               NaN           NaN   \n",
       "1                               NaN           NaN   \n",
       "2                               NaN           NaN   \n",
       "\n",
       "  retained_earning_accumulated_losses non_current_liabilities  \\\n",
       "0                                 NaN                     NaN   \n",
       "1                                 NaN                     NaN   \n",
       "2                                 NaN                     NaN   \n",
       "\n",
       "  current_liabilities non_current_loans_and_borrowings  \\\n",
       "0                 NaN                              NaN   \n",
       "1                 NaN                              NaN   \n",
       "2                 NaN                              NaN   \n",
       "\n",
       "  financial_liabilities_loans_borrowings total_shares    filename  \n",
       "0                                    NaN          NaN  11BIT.xlsx  \n",
       "1                                    NaN          NaN  11BIT.xlsx  \n",
       "2                                    NaN          NaN  11BIT.xlsx  "
      ]
     },
     "execution_count": 4,
     "metadata": {},
     "output_type": "execute_result"
    }
   ],
   "source": [
    "df_financial_details.head(3)"
   ]
  },
  {
   "cell_type": "code",
   "execution_count": 5,
   "id": "6b06fd0dc375c324",
   "metadata": {
    "ExecuteTime": {
     "end_time": "2025-02-23T11:13:03.135039Z",
     "start_time": "2025-02-23T11:13:03.122575Z"
    }
   },
   "outputs": [],
   "source": [
    "df_financial_details.dropna(subset='date', inplace=True)"
   ]
  },
  {
   "cell_type": "code",
   "execution_count": 6,
   "id": "7907241ce54261a6",
   "metadata": {
    "ExecuteTime": {
     "end_time": "2025-02-23T11:13:03.172865Z",
     "start_time": "2025-02-23T11:13:03.165240Z"
    }
   },
   "outputs": [
    {
     "data": {
      "text/html": [
       "<div>\n",
       "<style scoped>\n",
       "    .dataframe tbody tr th:only-of-type {\n",
       "        vertical-align: middle;\n",
       "    }\n",
       "\n",
       "    .dataframe tbody tr th {\n",
       "        vertical-align: top;\n",
       "    }\n",
       "\n",
       "    .dataframe thead th {\n",
       "        text-align: right;\n",
       "    }\n",
       "</style>\n",
       "<table border=\"1\" class=\"dataframe\">\n",
       "  <thead>\n",
       "    <tr style=\"text-align: right;\">\n",
       "      <th></th>\n",
       "      <th>date</th>\n",
       "      <th>assets</th>\n",
       "      <th>non_current_assets</th>\n",
       "      <th>current_assets</th>\n",
       "      <th>property_plant_equipment</th>\n",
       "      <th>intangible_assets</th>\n",
       "      <th>inventories</th>\n",
       "      <th>trade_receivables</th>\n",
       "      <th>cash_and_cash_equivalents</th>\n",
       "      <th>equity_shareholders_of_the_parent</th>\n",
       "      <th>share_capital</th>\n",
       "      <th>retained_earning_accumulated_losses</th>\n",
       "      <th>non_current_liabilities</th>\n",
       "      <th>current_liabilities</th>\n",
       "      <th>non_current_loans_and_borrowings</th>\n",
       "      <th>financial_liabilities_loans_borrowings</th>\n",
       "      <th>total_shares</th>\n",
       "      <th>filename</th>\n",
       "    </tr>\n",
       "  </thead>\n",
       "  <tbody>\n",
       "    <tr>\n",
       "      <th>48</th>\n",
       "      <td>2010-01-01</td>\n",
       "      <td>NaN</td>\n",
       "      <td>NaN</td>\n",
       "      <td>NaN</td>\n",
       "      <td>NaN</td>\n",
       "      <td>NaN</td>\n",
       "      <td>NaN</td>\n",
       "      <td>NaN</td>\n",
       "      <td>NaN</td>\n",
       "      <td>NaN</td>\n",
       "      <td>NaN</td>\n",
       "      <td>NaN</td>\n",
       "      <td>NaN</td>\n",
       "      <td>NaN</td>\n",
       "      <td>NaN</td>\n",
       "      <td>NaN</td>\n",
       "      <td>1494.2</td>\n",
       "      <td>11BIT.xlsx</td>\n",
       "    </tr>\n",
       "    <tr>\n",
       "      <th>50</th>\n",
       "      <td>2010-07-01</td>\n",
       "      <td>1411</td>\n",
       "      <td>2</td>\n",
       "      <td>1409</td>\n",
       "      <td>NaN</td>\n",
       "      <td>NaN</td>\n",
       "      <td>NaN</td>\n",
       "      <td>NaN</td>\n",
       "      <td>NaN</td>\n",
       "      <td>709</td>\n",
       "      <td>NaN</td>\n",
       "      <td>NaN</td>\n",
       "      <td>NaN</td>\n",
       "      <td>702</td>\n",
       "      <td>NaN</td>\n",
       "      <td>NaN</td>\n",
       "      <td>1494.2</td>\n",
       "      <td>11BIT.xlsx</td>\n",
       "    </tr>\n",
       "    <tr>\n",
       "      <th>51</th>\n",
       "      <td>2010-10-01</td>\n",
       "      <td>1352.36</td>\n",
       "      <td>55.87</td>\n",
       "      <td>1296.49</td>\n",
       "      <td>2.17</td>\n",
       "      <td>0</td>\n",
       "      <td>457.47</td>\n",
       "      <td>0.14</td>\n",
       "      <td>731.78</td>\n",
       "      <td>1268.2</td>\n",
       "      <td>187.08</td>\n",
       "      <td>-231.2</td>\n",
       "      <td>NaN</td>\n",
       "      <td>84.15</td>\n",
       "      <td>NaN</td>\n",
       "      <td>NaN</td>\n",
       "      <td>1870.761</td>\n",
       "      <td>11BIT.xlsx</td>\n",
       "    </tr>\n",
       "  </tbody>\n",
       "</table>\n",
       "</div>"
      ],
      "text/plain": [
       "          date   assets non_current_assets current_assets  \\\n",
       "48  2010-01-01      NaN                NaN            NaN   \n",
       "50  2010-07-01     1411                  2           1409   \n",
       "51  2010-10-01  1352.36              55.87        1296.49   \n",
       "\n",
       "   property_plant_equipment intangible_assets inventories trade_receivables  \\\n",
       "48                      NaN               NaN         NaN               NaN   \n",
       "50                      NaN               NaN         NaN               NaN   \n",
       "51                     2.17                 0      457.47              0.14   \n",
       "\n",
       "   cash_and_cash_equivalents equity_shareholders_of_the_parent share_capital  \\\n",
       "48                       NaN                               NaN           NaN   \n",
       "50                       NaN                               709           NaN   \n",
       "51                    731.78                            1268.2        187.08   \n",
       "\n",
       "   retained_earning_accumulated_losses non_current_liabilities  \\\n",
       "48                                 NaN                     NaN   \n",
       "50                                 NaN                     NaN   \n",
       "51                              -231.2                     NaN   \n",
       "\n",
       "   current_liabilities non_current_loans_and_borrowings  \\\n",
       "48                 NaN                              NaN   \n",
       "50                 702                              NaN   \n",
       "51               84.15                              NaN   \n",
       "\n",
       "   financial_liabilities_loans_borrowings total_shares    filename  \n",
       "48                                    NaN       1494.2  11BIT.xlsx  \n",
       "50                                    NaN       1494.2  11BIT.xlsx  \n",
       "51                                    NaN     1870.761  11BIT.xlsx  "
      ]
     },
     "execution_count": 6,
     "metadata": {},
     "output_type": "execute_result"
    }
   ],
   "source": [
    "df_financial_details.head(3)"
   ]
  },
  {
   "cell_type": "code",
   "execution_count": 7,
   "id": "9951dd7483c90705",
   "metadata": {
    "ExecuteTime": {
     "end_time": "2025-02-23T11:13:03.341545Z",
     "start_time": "2025-02-23T11:13:03.245837Z"
    },
    "collapsed": false
   },
   "outputs": [],
   "source": [
    "df_financial_details.to_csv('../../data/processed/details_company_info.csv', index=False)"
   ]
  },
  {
   "cell_type": "code",
   "execution_count": 8,
   "id": "d4b36bc9106654cc",
   "metadata": {
    "ExecuteTime": {
     "end_time": "2025-02-23T11:13:03.365697Z",
     "start_time": "2025-02-23T11:13:03.361813Z"
    }
   },
   "outputs": [
    {
     "data": {
      "text/plain": [
       "(19906, 18)"
      ]
     },
     "execution_count": 8,
     "metadata": {},
     "output_type": "execute_result"
    }
   ],
   "source": [
    "df_financial_details.shape"
   ]
  },
  {
   "cell_type": "code",
   "execution_count": 9,
   "id": "c5ec67744afe3834",
   "metadata": {
    "ExecuteTime": {
     "end_time": "2025-02-23T11:13:03.410203Z",
     "start_time": "2025-02-23T11:13:03.391150Z"
    }
   },
   "outputs": [
    {
     "name": "stdout",
     "output_type": "stream",
     "text": [
      "<class 'pandas.core.frame.DataFrame'>\n",
      "Index: 19906 entries, 48 to 32659\n",
      "Data columns (total 18 columns):\n",
      " #   Column                                  Non-Null Count  Dtype \n",
      "---  ------                                  --------------  ----- \n",
      " 0   date                                    19906 non-null  object\n",
      " 1   assets                                  18995 non-null  object\n",
      " 2   non_current_assets                      18859 non-null  object\n",
      " 3   current_assets                          18929 non-null  object\n",
      " 4   property_plant_equipment                18215 non-null  object\n",
      " 5   intangible_assets                       17381 non-null  object\n",
      " 6   inventories                             16529 non-null  object\n",
      " 7   trade_receivables                       18741 non-null  object\n",
      " 8   cash_and_cash_equivalents               18696 non-null  object\n",
      " 9   equity_shareholders_of_the_parent       19004 non-null  object\n",
      " 10  share_capital                           18907 non-null  object\n",
      " 11  retained_earning_accumulated_losses     18774 non-null  object\n",
      " 12  non_current_liabilities                 18404 non-null  object\n",
      " 13  current_liabilities                     18973 non-null  object\n",
      " 14  non_current_loans_and_borrowings        11242 non-null  object\n",
      " 15  financial_liabilities_loans_borrowings  11677 non-null  object\n",
      " 16  total_shares                            19906 non-null  object\n",
      " 17  filename                                19906 non-null  object\n",
      "dtypes: object(18)\n",
      "memory usage: 2.9+ MB\n"
     ]
    }
   ],
   "source": [
    "df_financial_details.info()"
   ]
  }
 ],
 "metadata": {
  "kernelspec": {
   "display_name": ".venv",
   "language": "python",
   "name": "python3"
  },
  "language_info": {
   "codemirror_mode": {
    "name": "ipython",
    "version": 3
   },
   "file_extension": ".py",
   "mimetype": "text/x-python",
   "name": "python",
   "nbconvert_exporter": "python",
   "pygments_lexer": "ipython3",
   "version": "3.13.2"
  }
 },
 "nbformat": 4,
 "nbformat_minor": 5
}
