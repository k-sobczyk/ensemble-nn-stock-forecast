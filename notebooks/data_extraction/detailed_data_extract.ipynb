{
 "cells": [
  {
   "cell_type": "code",
   "execution_count": 5,
   "id": "initial_id",
   "metadata": {
    "collapsed": true,
    "ExecuteTime": {
     "end_time": "2024-07-29T17:08:14.598389Z",
     "start_time": "2024-07-29T17:08:14.596100Z"
    }
   },
   "outputs": [],
   "source": [
    "from scripts.data_utils import process_financial_details"
   ]
  },
  {
   "cell_type": "code",
   "outputs": [],
   "source": [
    "data_folder = '../../data/raw'"
   ],
   "metadata": {
    "collapsed": false,
    "ExecuteTime": {
     "end_time": "2024-07-29T17:08:14.602512Z",
     "start_time": "2024-07-29T17:08:14.600393Z"
    }
   },
   "id": "c2bc8e41f678f3bd",
   "execution_count": 6
  },
  {
   "cell_type": "markdown",
   "source": [
    "# Detailed Financial Company Information "
   ],
   "metadata": {
    "collapsed": false
   },
   "id": "560a9414cfeea298"
  },
  {
   "cell_type": "code",
   "outputs": [
    {
     "name": "stderr",
     "output_type": "stream",
     "text": [
      "Processing financial details files: 100%|██████████| 349/349 [00:51<00:00,  6.84it/s]\n"
     ]
    }
   ],
   "source": [
    "df_financial_details = process_financial_details(data_folder)"
   ],
   "metadata": {
    "collapsed": false,
    "ExecuteTime": {
     "end_time": "2024-07-29T17:09:05.651733Z",
     "start_time": "2024-07-29T17:08:14.602512Z"
    }
   },
   "id": "32ddbcc448844b92",
   "execution_count": 7
  },
  {
   "cell_type": "code",
   "outputs": [
    {
     "data": {
      "text/plain": "  date assets non_current_assets current_assets property_plant_equipment  \\\n0  NaN    NaN                NaN            NaN                      NaN   \n1  NaN    NaN                NaN            NaN                      NaN   \n2  NaN    NaN                NaN            NaN                      NaN   \n\n  intangible_assets inventories trade_receivables cash_and_cash_equivalents  \\\n0               NaN         NaN               NaN                       NaN   \n1               NaN         NaN               NaN                       NaN   \n2               NaN         NaN               NaN                       NaN   \n\n  equity_shareholders_of_the_parent share_capital  \\\n0                               NaN           NaN   \n1                               NaN           NaN   \n2                               NaN           NaN   \n\n  retained_earning_accumulated_losses non_current_liabilities  \\\n0                                 NaN                     NaN   \n1                                 NaN                     NaN   \n2                                 NaN                     NaN   \n\n  current_liabilities non_current_loans_and_borrowings  \\\n0                 NaN                              NaN   \n1                 NaN                              NaN   \n2                 NaN                              NaN   \n\n  financial_liabilities_loans_borrowings total_shares    filename  \n0                                    NaN          NaN  11BIT.xlsx  \n1                                    NaN          NaN  11BIT.xlsx  \n2                                    NaN          NaN  11BIT.xlsx  ",
      "text/html": "<div>\n<style scoped>\n    .dataframe tbody tr th:only-of-type {\n        vertical-align: middle;\n    }\n\n    .dataframe tbody tr th {\n        vertical-align: top;\n    }\n\n    .dataframe thead th {\n        text-align: right;\n    }\n</style>\n<table border=\"1\" class=\"dataframe\">\n  <thead>\n    <tr style=\"text-align: right;\">\n      <th></th>\n      <th>date</th>\n      <th>assets</th>\n      <th>non_current_assets</th>\n      <th>current_assets</th>\n      <th>property_plant_equipment</th>\n      <th>intangible_assets</th>\n      <th>inventories</th>\n      <th>trade_receivables</th>\n      <th>cash_and_cash_equivalents</th>\n      <th>equity_shareholders_of_the_parent</th>\n      <th>share_capital</th>\n      <th>retained_earning_accumulated_losses</th>\n      <th>non_current_liabilities</th>\n      <th>current_liabilities</th>\n      <th>non_current_loans_and_borrowings</th>\n      <th>financial_liabilities_loans_borrowings</th>\n      <th>total_shares</th>\n      <th>filename</th>\n    </tr>\n  </thead>\n  <tbody>\n    <tr>\n      <th>0</th>\n      <td>NaN</td>\n      <td>NaN</td>\n      <td>NaN</td>\n      <td>NaN</td>\n      <td>NaN</td>\n      <td>NaN</td>\n      <td>NaN</td>\n      <td>NaN</td>\n      <td>NaN</td>\n      <td>NaN</td>\n      <td>NaN</td>\n      <td>NaN</td>\n      <td>NaN</td>\n      <td>NaN</td>\n      <td>NaN</td>\n      <td>NaN</td>\n      <td>NaN</td>\n      <td>11BIT.xlsx</td>\n    </tr>\n    <tr>\n      <th>1</th>\n      <td>NaN</td>\n      <td>NaN</td>\n      <td>NaN</td>\n      <td>NaN</td>\n      <td>NaN</td>\n      <td>NaN</td>\n      <td>NaN</td>\n      <td>NaN</td>\n      <td>NaN</td>\n      <td>NaN</td>\n      <td>NaN</td>\n      <td>NaN</td>\n      <td>NaN</td>\n      <td>NaN</td>\n      <td>NaN</td>\n      <td>NaN</td>\n      <td>NaN</td>\n      <td>11BIT.xlsx</td>\n    </tr>\n    <tr>\n      <th>2</th>\n      <td>NaN</td>\n      <td>NaN</td>\n      <td>NaN</td>\n      <td>NaN</td>\n      <td>NaN</td>\n      <td>NaN</td>\n      <td>NaN</td>\n      <td>NaN</td>\n      <td>NaN</td>\n      <td>NaN</td>\n      <td>NaN</td>\n      <td>NaN</td>\n      <td>NaN</td>\n      <td>NaN</td>\n      <td>NaN</td>\n      <td>NaN</td>\n      <td>NaN</td>\n      <td>11BIT.xlsx</td>\n    </tr>\n  </tbody>\n</table>\n</div>"
     },
     "execution_count": 8,
     "metadata": {},
     "output_type": "execute_result"
    }
   ],
   "source": [
    "df_financial_details.head(3)"
   ],
   "metadata": {
    "collapsed": false,
    "ExecuteTime": {
     "end_time": "2024-07-29T17:09:05.657938Z",
     "start_time": "2024-07-29T17:09:05.651733Z"
    }
   },
   "id": "6d9e1c67b3e8f1b9",
   "execution_count": 8
  },
  {
   "cell_type": "code",
   "outputs": [],
   "source": [
    "df_financial_details.to_csv('../../data/extractedtest1.csv', index=False)"
   ],
   "metadata": {
    "collapsed": false,
    "ExecuteTime": {
     "end_time": "2024-07-29T18:53:17.489830Z",
     "start_time": "2024-07-29T18:53:17.408432Z"
    }
   },
   "id": "9951dd7483c90705",
   "execution_count": 10
  }
 ],
 "metadata": {
  "kernelspec": {
   "display_name": "Python 3",
   "language": "python",
   "name": "python3"
  },
  "language_info": {
   "codemirror_mode": {
    "name": "ipython",
    "version": 2
   },
   "file_extension": ".py",
   "mimetype": "text/x-python",
   "name": "python",
   "nbconvert_exporter": "python",
   "pygments_lexer": "ipython2",
   "version": "2.7.6"
  }
 },
 "nbformat": 4,
 "nbformat_minor": 5
}
