{
 "cells": [
  {
   "cell_type": "code",
   "execution_count": 1,
   "id": "initial_id",
   "metadata": {
    "collapsed": true,
    "ExecuteTime": {
     "end_time": "2024-08-21T18:06:59.173069Z",
     "start_time": "2024-08-21T18:06:58.713066Z"
    }
   },
   "outputs": [],
   "source": [
    "from scripts.data_utils import *"
   ]
  },
  {
   "cell_type": "code",
   "outputs": [],
   "source": [
    "data_folder = '../../data/stooq/historic_market_value'"
   ],
   "metadata": {
    "collapsed": false,
    "ExecuteTime": {
     "end_time": "2024-08-21T18:06:59.175518Z",
     "start_time": "2024-08-21T18:06:59.173069Z"
    }
   },
   "id": "d6259e8ef6d6b628",
   "execution_count": 2
  },
  {
   "cell_type": "markdown",
   "source": [
    "# Historical Market Value from Stooq.pl"
   ],
   "metadata": {
    "collapsed": false
   },
   "id": "894e0ff45385499f"
  },
  {
   "cell_type": "code",
   "outputs": [],
   "source": [
    "columns = [\"TICKER\", \"PER\", \"DATE\", \"TIME\", \"OPEN\", \"HIGH\", \"LOW\", \"CLOSE\", \"VOL\", \"OPENINT\"]\n",
    "all_dfs = []\n",
    "for filename in os.listdir(data_folder):\n",
    "    if filename.endswith('.txt'):\n",
    "        file_path = os.path.join(data_folder, filename)\n",
    "        try:\n",
    "            temp_df = pd.read_csv(file_path, delimiter=',')\n",
    "            if temp_df.shape[1] == len(columns):\n",
    "                temp_df.columns = columns  \n",
    "                all_dfs.append(temp_df)  \n",
    "            else:\n",
    "                print(f'File {file_path} does not match the expected number of columns.')\n",
    "        except Exception as e:\n",
    "            pass\n",
    "\n",
    "combined_df = pd.concat(all_dfs, ignore_index=True)\n",
    "combined_df['DATE'] = pd.to_datetime(combined_df['DATE'], format='%Y%m%d').dt.strftime('%Y-%m-%d')\n",
    "combined_df['target'] = (combined_df['OPEN'] + combined_df['CLOSE']) / 2\n",
    "\n",
    "output_file_path = '../../data/processed/stooq_data.csv'\n",
    "combined_df.to_csv(output_file_path, index=False)"
   ],
   "metadata": {
    "collapsed": false,
    "ExecuteTime": {
     "end_time": "2024-08-21T18:07:06.070697Z",
     "start_time": "2024-08-21T18:06:59.175518Z"
    }
   },
   "id": "db639a0f56b4bed1",
   "execution_count": 3
  },
  {
   "cell_type": "code",
   "outputs": [
    {
     "data": {
      "text/plain": "  TICKER PER        DATE  TIME    OPEN    HIGH     LOW   CLOSE      VOL  \\\n0    06N   D  1997-06-12     0  85.849  85.849  85.849  85.849  18258.0   \n1    06N   D  1997-06-13     0  90.764  90.764  90.764  90.764  18402.0   \n2    06N   D  1997-06-16     0  86.668  86.668  86.668  86.668   8411.0   \n3    06N   D  1997-06-17     0  78.148  78.148  78.148  78.148  10313.0   \n4    06N   D  1997-06-18     0  75.363  75.363  75.363  75.363   8673.0   \n5    06N   D  1997-06-19     0  72.906  72.906  72.906  72.906  13227.0   \n6    06N   D  1997-06-20     0  72.906  72.906  72.906  72.906   5732.0   \n7    06N   D  1997-06-23     0  72.906  72.906  72.906  72.906  12240.0   \n8    06N   D  1997-06-24     0  68.073  68.073  68.073  68.073   4379.0   \n9    06N   D  1997-06-25     0  68.892  68.892  68.892  68.892   5278.0   \n\n   OPENINT  target  \n0        0  85.849  \n1        0  90.764  \n2        0  86.668  \n3        0  78.148  \n4        0  75.363  \n5        0  72.906  \n6        0  72.906  \n7        0  72.906  \n8        0  68.073  \n9        0  68.892  ",
      "text/html": "<div>\n<style scoped>\n    .dataframe tbody tr th:only-of-type {\n        vertical-align: middle;\n    }\n\n    .dataframe tbody tr th {\n        vertical-align: top;\n    }\n\n    .dataframe thead th {\n        text-align: right;\n    }\n</style>\n<table border=\"1\" class=\"dataframe\">\n  <thead>\n    <tr style=\"text-align: right;\">\n      <th></th>\n      <th>TICKER</th>\n      <th>PER</th>\n      <th>DATE</th>\n      <th>TIME</th>\n      <th>OPEN</th>\n      <th>HIGH</th>\n      <th>LOW</th>\n      <th>CLOSE</th>\n      <th>VOL</th>\n      <th>OPENINT</th>\n      <th>target</th>\n    </tr>\n  </thead>\n  <tbody>\n    <tr>\n      <th>0</th>\n      <td>06N</td>\n      <td>D</td>\n      <td>1997-06-12</td>\n      <td>0</td>\n      <td>85.849</td>\n      <td>85.849</td>\n      <td>85.849</td>\n      <td>85.849</td>\n      <td>18258.0</td>\n      <td>0</td>\n      <td>85.849</td>\n    </tr>\n    <tr>\n      <th>1</th>\n      <td>06N</td>\n      <td>D</td>\n      <td>1997-06-13</td>\n      <td>0</td>\n      <td>90.764</td>\n      <td>90.764</td>\n      <td>90.764</td>\n      <td>90.764</td>\n      <td>18402.0</td>\n      <td>0</td>\n      <td>90.764</td>\n    </tr>\n    <tr>\n      <th>2</th>\n      <td>06N</td>\n      <td>D</td>\n      <td>1997-06-16</td>\n      <td>0</td>\n      <td>86.668</td>\n      <td>86.668</td>\n      <td>86.668</td>\n      <td>86.668</td>\n      <td>8411.0</td>\n      <td>0</td>\n      <td>86.668</td>\n    </tr>\n    <tr>\n      <th>3</th>\n      <td>06N</td>\n      <td>D</td>\n      <td>1997-06-17</td>\n      <td>0</td>\n      <td>78.148</td>\n      <td>78.148</td>\n      <td>78.148</td>\n      <td>78.148</td>\n      <td>10313.0</td>\n      <td>0</td>\n      <td>78.148</td>\n    </tr>\n    <tr>\n      <th>4</th>\n      <td>06N</td>\n      <td>D</td>\n      <td>1997-06-18</td>\n      <td>0</td>\n      <td>75.363</td>\n      <td>75.363</td>\n      <td>75.363</td>\n      <td>75.363</td>\n      <td>8673.0</td>\n      <td>0</td>\n      <td>75.363</td>\n    </tr>\n    <tr>\n      <th>5</th>\n      <td>06N</td>\n      <td>D</td>\n      <td>1997-06-19</td>\n      <td>0</td>\n      <td>72.906</td>\n      <td>72.906</td>\n      <td>72.906</td>\n      <td>72.906</td>\n      <td>13227.0</td>\n      <td>0</td>\n      <td>72.906</td>\n    </tr>\n    <tr>\n      <th>6</th>\n      <td>06N</td>\n      <td>D</td>\n      <td>1997-06-20</td>\n      <td>0</td>\n      <td>72.906</td>\n      <td>72.906</td>\n      <td>72.906</td>\n      <td>72.906</td>\n      <td>5732.0</td>\n      <td>0</td>\n      <td>72.906</td>\n    </tr>\n    <tr>\n      <th>7</th>\n      <td>06N</td>\n      <td>D</td>\n      <td>1997-06-23</td>\n      <td>0</td>\n      <td>72.906</td>\n      <td>72.906</td>\n      <td>72.906</td>\n      <td>72.906</td>\n      <td>12240.0</td>\n      <td>0</td>\n      <td>72.906</td>\n    </tr>\n    <tr>\n      <th>8</th>\n      <td>06N</td>\n      <td>D</td>\n      <td>1997-06-24</td>\n      <td>0</td>\n      <td>68.073</td>\n      <td>68.073</td>\n      <td>68.073</td>\n      <td>68.073</td>\n      <td>4379.0</td>\n      <td>0</td>\n      <td>68.073</td>\n    </tr>\n    <tr>\n      <th>9</th>\n      <td>06N</td>\n      <td>D</td>\n      <td>1997-06-25</td>\n      <td>0</td>\n      <td>68.892</td>\n      <td>68.892</td>\n      <td>68.892</td>\n      <td>68.892</td>\n      <td>5278.0</td>\n      <td>0</td>\n      <td>68.892</td>\n    </tr>\n  </tbody>\n</table>\n</div>"
     },
     "execution_count": 4,
     "metadata": {},
     "output_type": "execute_result"
    }
   ],
   "source": [
    "combined_df.head(10)"
   ],
   "metadata": {
    "collapsed": false,
    "ExecuteTime": {
     "end_time": "2024-08-21T18:07:06.087309Z",
     "start_time": "2024-08-21T18:07:06.070697Z"
    }
   },
   "id": "f10ff28393694a8a",
   "execution_count": 4
  }
 ],
 "metadata": {
  "kernelspec": {
   "display_name": "Python 3",
   "language": "python",
   "name": "python3"
  },
  "language_info": {
   "codemirror_mode": {
    "name": "ipython",
    "version": 2
   },
   "file_extension": ".py",
   "mimetype": "text/x-python",
   "name": "python",
   "nbconvert_exporter": "python",
   "pygments_lexer": "ipython2",
   "version": "2.7.6"
  }
 },
 "nbformat": 4,
 "nbformat_minor": 5
}
