{
 "cells": [
  {
   "cell_type": "code",
   "execution_count": null,
   "id": "initial_id",
   "metadata": {
    "collapsed": true
   },
   "outputs": [],
   "source": []
  },
  {
   "cell_type": "code",
   "outputs": [],
   "source": [
    "#TODO sortujesz wartość w df'ie po nazwie firmy i dacie\n",
    "# wygodnie będzie przełożyć nazwe firmy i end_of_period na przednie kolumny\n",
    "df = df.sort_values(by=['filename', 'end_of_period'])"
   ],
   "metadata": {
    "collapsed": false
   },
   "id": "4768e3ab2db82639"
  },
  {
   "cell_type": "code",
   "outputs": [],
   "source": [],
   "metadata": {
    "collapsed": false
   },
   "id": "226b1f9831556f2b"
  },
  {
   "cell_type": "code",
   "outputs": [],
   "source": [
    "#TODO FEATURE ENGINEERING trzeba dodać kolumne, która liczy wartości z poprzedniego kwartału, roku, 2 lat\n",
    "# UWAGA: \n",
    "\n",
    "# Change in capital or assets structure\n",
    "# feature: change in last quarter for each company (every major data attribute)\n",
    "# feature: change in last two quarters for each company (every major data attribute)\n",
    "# feature: change in last four quarters for each company (every major data attribute)"
   ],
   "metadata": {
    "collapsed": false
   },
   "id": "b892c5e14363633f"
  },
  {
   "cell_type": "code",
   "outputs": [],
   "source": [],
   "metadata": {
    "collapsed": false
   },
   "id": "7de9c0d148ebb9d7"
  },
  {
   "cell_type": "code",
   "outputs": [],
   "source": [
    "# NN DATA CLEANING (to póki co nieistotne - trzeba skończyć pelny plik, a potem wybrać sobie odpowiednie kolumny)"
   ],
   "metadata": {
    "collapsed": false
   },
   "id": "e7943fa4b2e825"
  },
  {
   "cell_type": "code",
   "outputs": [],
   "source": [],
   "metadata": {
    "collapsed": false
   },
   "id": "e216ab9743336ae8"
  },
  {
   "cell_type": "code",
   "outputs": [],
   "source": [
    "#TODO tu będzie mniejszy dataframe z bardzie dokładnymi danymi do testowania wyników (pewnie da lepsze bo unikamy dużo szumu ze zbędnych kolumn)\n",
    "#TODO ten df ma być zrobiony z kolumn poniżej\n",
    "\n",
    "#column_mapping = {\n",
    "#    'financial_liabilities': 'total_liability',\n",
    "#    'aktywa': 'total_assets'\n",
    "#}"
   ],
   "metadata": {
    "collapsed": false
   },
   "id": "22cec16f813f3045"
  },
  {
   "cell_type": "code",
   "outputs": [],
   "source": [
    "columns_to_keep = [\n",
    "    'filename',\n",
    "    # Additional Information\n",
    "    'Current financial liabilities',\n",
    "    'Non-current financial liabilities',\n",
    "    'Financial liabilities (total)',\n",
    "    \n",
    "    # DuPont Indicators\n",
    "    'Return on equity (ROE)',\n",
    "    'Return on assets (ROA)',\n",
    "    'Leverage (EM)',\n",
    "    'Net profit margin',\n",
    "    'Asset utilization (AU)', # assets_utilization\n",
    "\n",
    "    # Indicators\n",
    "    'Current ratio', #curent_ratio\n",
    "    'Quick ratio',\n",
    "    'Cash ratio',\n",
    "    'Receivables turnover',\n",
    "    'Inventory turnover',\n",
    "    'The operating cycle',\n",
    "    'Rotation commitments',\n",
    "    'Cash conversion cycle',\n",
    "    'Rotation assets',\n",
    "    'Rotation of assets',\n",
    "    'Assets ratio',\n",
    "    'Debt ratio',\n",
    "    'Debt service ratio',\n",
    "    'Rate debt security',\n",
    "    \n",
    "    # Basic Information\n",
    "    'End of period',\n",
    "    \n",
    "    # Aktywa (Assets)\n",
    "    'Non-current assets',\n",
    "    'Current assets',\n",
    "    \n",
    "    # Pasywa (Liabilities)\n",
    "    'Equity shareholders of the parent',\n",
    "    'Non-current liabilities',\n",
    "    'Current liabilities'\n",
    "]"
   ],
   "metadata": {
    "collapsed": false
   },
   "id": "870530e878c604da"
  },
  {
   "cell_type": "code",
   "outputs": [],
   "source": [],
   "metadata": {
    "collapsed": false
   },
   "id": "83e931768cc0d7f3"
  },
  {
   "cell_type": "code",
   "outputs": [],
   "source": [
    "# MINI DATAFRAME"
   ],
   "metadata": {
    "collapsed": false
   },
   "id": "7ffa045a8ef92476"
  },
  {
   "cell_type": "code",
   "outputs": [],
   "source": [
    "#TODO tu będzie jeszcze mniej informacji, tylko te absolutnie najważniejsze (liczę że da najlepsze wyniki)"
   ],
   "metadata": {
    "collapsed": false
   },
   "id": "289ab4c5c5f48607"
  },
  {
   "cell_type": "code",
   "outputs": [],
   "source": [
    "#TODO jeszcze muszę ogarnąć jakie kolumny tu będą"
   ],
   "metadata": {
    "collapsed": false
   },
   "id": "5f8d5aeb74118d80"
  }
 ],
 "metadata": {
  "kernelspec": {
   "display_name": "Python 3",
   "language": "python",
   "name": "python3"
  },
  "language_info": {
   "codemirror_mode": {
    "name": "ipython",
    "version": 2
   },
   "file_extension": ".py",
   "mimetype": "text/x-python",
   "name": "python",
   "nbconvert_exporter": "python",
   "pygments_lexer": "ipython2",
   "version": "2.7.6"
  }
 },
 "nbformat": 4,
 "nbformat_minor": 5
}
