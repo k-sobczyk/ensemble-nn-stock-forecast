{
 "cells": [
  {
   "cell_type": "code",
   "outputs": [],
   "source": [
    "import pandas as pd\n",
    "from data_cleaning.data_utils import * "
   ],
   "metadata": {
    "collapsed": false,
    "ExecuteTime": {
     "end_time": "2024-05-24T09:57:57.124051600Z",
     "start_time": "2024-05-24T09:57:57.018297200Z"
    }
   },
   "id": "8ed598eadb397306",
   "execution_count": 25
  },
  {
   "cell_type": "code",
   "execution_count": 26,
   "id": "initial_id",
   "metadata": {
    "collapsed": true,
    "ExecuteTime": {
     "end_time": "2024-05-24T09:57:57.228750Z",
     "start_time": "2024-05-24T09:57:57.050452100Z"
    }
   },
   "outputs": [],
   "source": [
    "df = pd.read_csv('data/dataframes/data_with_target.csv')"
   ]
  },
  {
   "cell_type": "code",
   "outputs": [],
   "source": [
    "df = df.sort_values(by=['filename', 'end_of_period'])"
   ],
   "metadata": {
    "collapsed": false,
    "ExecuteTime": {
     "end_time": "2024-05-24T09:57:57.229827700Z",
     "start_time": "2024-05-24T09:57:57.209065400Z"
    }
   },
   "id": "4768e3ab2db82639",
   "execution_count": 27
  },
  {
   "cell_type": "code",
   "outputs": [],
   "source": [
    "columns_to_drop = [\n",
    "    'date_of_publication', 'gross_profit_margin_on_sales', 'operating_profit_margin',\n",
    "    'gross_profit_margin', 'net_profit_margin', 'total_liability.1', 'company_name', 'ticker',\n",
    "    'Name', 'Period end', 'accruals.1', 'accounting_standard', 'avg_share_price'\n",
    "]\n",
    "\n",
    "cleaned_df = df.drop(columns=columns_to_drop, errors='ignore')"
   ],
   "metadata": {
    "collapsed": false,
    "ExecuteTime": {
     "end_time": "2024-05-24T09:57:57.261106400Z",
     "start_time": "2024-05-24T09:57:57.219472Z"
    }
   },
   "id": "f2717517aab0fbda",
   "execution_count": 28
  },
  {
   "cell_type": "code",
   "outputs": [
    {
     "data": {
      "text/plain": "end_of_period                                                    0.000000\nrevenues_from_sales                                              2.066309\noperating_profitloss                                             0.560355\nnet_profitloss_attributable_to_equity_holders_of_the_parent      0.326874\ntotal_comprehensive_income_attributable_to_equity_holders       84.718655\n                                                                  ...    \nload_gross_profit                                              100.000000\ncurrent_financial_liabilities                                  100.000000\nnoncurrent_financial_liabilities                               100.000000\nsector                                                           0.000000\ntarget                                                           0.000000\nLength: 100, dtype: float64"
     },
     "execution_count": 29,
     "metadata": {},
     "output_type": "execute_result"
    }
   ],
   "source": [
    "def calculate_zero_percentage(column):\n",
    "    zero_count = (column == 0).sum()\n",
    "    zero_percentage = zero_count / len(column) * 100\n",
    "    return zero_percentage\n",
    "\n",
    "zero_percentages = cleaned_df.apply(calculate_zero_percentage)\n",
    "\n",
    "zero_percentages"
   ],
   "metadata": {
    "collapsed": false,
    "ExecuteTime": {
     "end_time": "2024-05-24T09:57:57.264598Z",
     "start_time": "2024-05-24T09:57:57.228750Z"
    }
   },
   "id": "6a5d81a835e7e8fc",
   "execution_count": 29
  },
  {
   "cell_type": "code",
   "outputs": [],
   "source": [
    "columns_to_drop = [\n",
    "    'treasury_shares', 'noncurrent_financial_liabilities', 'employee_benefits', 'trade_payables', 'liabilities_from_finance_leases', 'bond_liabilities', 'total_liability', 'liabilities_from_derivatives', 'noncurrent_accruals', 'other_noncurrent_liabilities', 'noncurrent_provision','deferred_tax_liabilities','longterm_provision_for_employee_benefits','noncurrent_trade_payables','noncurrent_liabilities_from_finance_leases','noncurrent_liabilities_from_bonds','noncurrent_loans_and_borrowings','noncurrent_liabilities_from_derivatives','noncontrolling_interests','retained_earnings_accumulated_losses','other_capitals','valuation_and_exchange_differences','supplementary_capital','current_tax_liabilities','provisions','other_liabilities','cash_conversion_cycle','load_gross_profit','asset_utilization','leverage','rate_debt_security','debt_service_ratio','debt_ratio','assets_ratio','rotation_of_assets','rotation_assets','rotation_commitments','liabilities_related_to_assets_held_for_sale_and_discontinued_operations','the_operating_cycle','inventory_turnover','receivables_turnover','cash_ratio','quick_ratio','current_ratio','working_capital_ratio','return_on_assets','return_on_equity','called_up_share_capital','share_capital','equity_liabilities','inventories','property_plant_and_equipment','exploration_for_and_evaluation_of_mineral_resources','intangible_assets','goodwill','rightofuse_assets','investment_in_affiliates','noncurrent_financial_assets','noncurrent_loans_and_receivables','deferred_income_tax','noncurrent_deferred_charges_and_accruals','noncurrent_derivative_instruments','other_noncurrent_assets','investment_property','current_intangible_assets','derivative_instruments','biological_assets','own_shares','called_up_capital','assets_held_for_sale_and_discontinuing_operations','other_assets','current_financial_liabilities','assets_from_current_tax','trade_receivables','accruals','cash_and_cash_equivalents','financial_assets','loans_and_other_receivables','total_comprehensive_income_per_share','total_comprehensive_income_attributable_to_equity_holders',\n",
    "    'book_value_per_share', 'number_of_shares'\n",
    "]\n",
    "\n",
    "cleaned_df = cleaned_df.drop(columns=columns_to_drop, errors='ignore')"
   ],
   "metadata": {
    "collapsed": false,
    "ExecuteTime": {
     "end_time": "2024-05-24T09:57:57.265656100Z",
     "start_time": "2024-05-24T09:57:57.246097600Z"
    }
   },
   "id": "7f4157c96b710f56",
   "execution_count": 30
  },
  {
   "cell_type": "code",
   "outputs": [
    {
     "data": {
      "text/plain": "         filename  count\n0      11BIT.xlsx     50\n1    3RGAMES.xlsx     34\n2         AB.xlsx     72\n3         AC.xlsx     44\n4     ACTION.xlsx     82\n..            ...    ...\n291  ZPC_OTM.xlsx     50\n292  ZREMBCH.xlsx     50\n293      ZUE.xlsx     50\n294      ZUK.xlsx     64\n295   ZYWIEC.xlsx    100\n\n[296 rows x 2 columns]",
      "text/html": "<div>\n<style scoped>\n    .dataframe tbody tr th:only-of-type {\n        vertical-align: middle;\n    }\n\n    .dataframe tbody tr th {\n        vertical-align: top;\n    }\n\n    .dataframe thead th {\n        text-align: right;\n    }\n</style>\n<table border=\"1\" class=\"dataframe\">\n  <thead>\n    <tr style=\"text-align: right;\">\n      <th></th>\n      <th>filename</th>\n      <th>count</th>\n    </tr>\n  </thead>\n  <tbody>\n    <tr>\n      <th>0</th>\n      <td>11BIT.xlsx</td>\n      <td>50</td>\n    </tr>\n    <tr>\n      <th>1</th>\n      <td>3RGAMES.xlsx</td>\n      <td>34</td>\n    </tr>\n    <tr>\n      <th>2</th>\n      <td>AB.xlsx</td>\n      <td>72</td>\n    </tr>\n    <tr>\n      <th>3</th>\n      <td>AC.xlsx</td>\n      <td>44</td>\n    </tr>\n    <tr>\n      <th>4</th>\n      <td>ACTION.xlsx</td>\n      <td>82</td>\n    </tr>\n    <tr>\n      <th>...</th>\n      <td>...</td>\n      <td>...</td>\n    </tr>\n    <tr>\n      <th>291</th>\n      <td>ZPC_OTM.xlsx</td>\n      <td>50</td>\n    </tr>\n    <tr>\n      <th>292</th>\n      <td>ZREMBCH.xlsx</td>\n      <td>50</td>\n    </tr>\n    <tr>\n      <th>293</th>\n      <td>ZUE.xlsx</td>\n      <td>50</td>\n    </tr>\n    <tr>\n      <th>294</th>\n      <td>ZUK.xlsx</td>\n      <td>64</td>\n    </tr>\n    <tr>\n      <th>295</th>\n      <td>ZYWIEC.xlsx</td>\n      <td>100</td>\n    </tr>\n  </tbody>\n</table>\n<p>296 rows × 2 columns</p>\n</div>"
     },
     "execution_count": 31,
     "metadata": {},
     "output_type": "execute_result"
    }
   ],
   "source": [
    "count_rows_by_filename(cleaned_df)"
   ],
   "metadata": {
    "collapsed": false,
    "ExecuteTime": {
     "end_time": "2024-05-24T09:57:57.285709400Z",
     "start_time": "2024-05-24T09:57:57.252285600Z"
    }
   },
   "id": "7d8039395a2abf17",
   "execution_count": 31
  },
  {
   "cell_type": "code",
   "outputs": [],
   "source": [
    "filenames_to_delete = [\n",
    "    'TXM.xlsx', 'MILKI.xlsx'\n",
    "]\n",
    "\n",
    "cleaned_df = cleaned_df[~cleaned_df['filename'].isin(filenames_to_delete)]"
   ],
   "metadata": {
    "collapsed": false,
    "ExecuteTime": {
     "end_time": "2024-05-24T09:57:57.288919600Z",
     "start_time": "2024-05-24T09:57:57.261106400Z"
    }
   },
   "id": "c418100cd8263e90",
   "execution_count": 32
  },
  {
   "cell_type": "code",
   "outputs": [
    {
     "data": {
      "text/plain": "      end_of_period  revenues_from_sales  operating_profitloss  \\\n0        2010-12-31                228.0                   0.0   \n1        2010-12-31                228.0                   0.0   \n2        2011-03-31                144.0                   0.0   \n3        2011-03-31                144.0                   0.0   \n4        2011-06-30                959.0                   0.0   \n...             ...                  ...                   ...   \n17127    2022-03-31             696778.0                6649.0   \n17128    2022-06-30            1209418.0              101579.0   \n17129    2022-06-30            1209418.0              101579.0   \n17130    2022-09-30            1106635.0               61538.0   \n17131    2022-09-30            1106635.0               61538.0   \n\n       net_profitloss_attributable_to_equity_holders_of_the_parent  \\\n0                                                 -198.0             \n1                                                 -198.0             \n2                                                  -50.0             \n3                                                  -50.0             \n4                                                  377.0             \n...                                                  ...             \n17127                                            -1246.0             \n17128                                            92625.0             \n17129                                            92625.0             \n17130                                            23844.0             \n17131                                            23844.0             \n\n       depreciation  cash_flow_from_operating_activities  \\\n0               0.0                                  0.0   \n1               0.0                                  0.0   \n2               0.0                                  0.0   \n3               0.0                                  0.0   \n4               7.0                                  0.0   \n...             ...                                  ...   \n17127       38391.0                              13967.0   \n17128       39932.0                             101877.0   \n17129       39932.0                             101877.0   \n17130       40212.0                             156461.0   \n17131       40212.0                             156461.0   \n\n       cash_flow_from_investing_activities  \\\n0                                      0.0   \n1                                      0.0   \n2                                      0.0   \n3                                      0.0   \n4                                      0.0   \n...                                    ...   \n17127                             -33280.0   \n17128                             -21179.0   \n17129                             -21179.0   \n17130                             -24386.0   \n17131                             -24386.0   \n\n       cash_flow_from_financing_activities  total_assets  noncurrent_assets  \\\n0                                      0.0       1352.36              55.87   \n1                                      0.0       1352.36              55.87   \n2                                      0.0       1342.00              86.00   \n3                                      0.0       1342.00              86.00   \n4                                      0.0       1659.00             103.00   \n...                                    ...           ...                ...   \n17127                              57099.0    2741947.00         1723917.00   \n17128                             -81990.0    2981239.00         1730362.00   \n17129                             -81990.0    2981239.00         1730362.00   \n17130                            -117588.0    2733389.00         1720912.00   \n17131                            -117588.0    2733389.00         1720912.00   \n\n       current_assets  equity_shareholders_of_the_parent  \\\n0             1296.49                             1268.2   \n1             1296.49                             1268.2   \n2             1256.00                             1221.0   \n3             1256.00                             1221.0   \n4             1556.00                             1595.0   \n...               ...                                ...   \n17127      1018030.00                           254238.0   \n17128      1250877.00                           288397.0   \n17129      1250877.00                           288397.0   \n17130      1012477.00                           304293.0   \n17131      1012477.00                           304293.0   \n\n       noncurrent_liabilities  current_liabilities  earnings_per_share  \\\n0                         0.0                84.15               -0.11   \n1                         0.0                84.15               -0.11   \n2                         0.0               110.00               -0.03   \n3                         0.0               110.00               -0.03   \n4                         0.0                64.00                0.20   \n...                       ...                  ...                 ...   \n17127                620050.0           1867659.00               -0.12   \n17128               1061326.0           1631516.00                9.02   \n17129               1061326.0           1631516.00                9.02   \n17130                960672.0           1468424.00                2.32   \n17131                960672.0           1468424.00                2.32   \n\n          filename  sector      target  \n0       11BIT.xlsx     gry    14208.43  \n1       11BIT.xlsx     gry    14208.43  \n2       11BIT.xlsx     gry    41881.66  \n3       11BIT.xlsx     gry    41881.66  \n4       11BIT.xlsx     gry    26705.11  \n...            ...     ...         ...  \n17127  ZYWIEC.xlsx  napoje  5228110.53  \n17128  ZYWIEC.xlsx  napoje  5040658.63  \n17129  ZYWIEC.xlsx  napoje  5040658.63  \n17130  ZYWIEC.xlsx  napoje  4884020.74  \n17131  ZYWIEC.xlsx  napoje  4884020.74  \n\n[17128 rows x 18 columns]",
      "text/html": "<div>\n<style scoped>\n    .dataframe tbody tr th:only-of-type {\n        vertical-align: middle;\n    }\n\n    .dataframe tbody tr th {\n        vertical-align: top;\n    }\n\n    .dataframe thead th {\n        text-align: right;\n    }\n</style>\n<table border=\"1\" class=\"dataframe\">\n  <thead>\n    <tr style=\"text-align: right;\">\n      <th></th>\n      <th>end_of_period</th>\n      <th>revenues_from_sales</th>\n      <th>operating_profitloss</th>\n      <th>net_profitloss_attributable_to_equity_holders_of_the_parent</th>\n      <th>depreciation</th>\n      <th>cash_flow_from_operating_activities</th>\n      <th>cash_flow_from_investing_activities</th>\n      <th>cash_flow_from_financing_activities</th>\n      <th>total_assets</th>\n      <th>noncurrent_assets</th>\n      <th>current_assets</th>\n      <th>equity_shareholders_of_the_parent</th>\n      <th>noncurrent_liabilities</th>\n      <th>current_liabilities</th>\n      <th>earnings_per_share</th>\n      <th>filename</th>\n      <th>sector</th>\n      <th>target</th>\n    </tr>\n  </thead>\n  <tbody>\n    <tr>\n      <th>0</th>\n      <td>2010-12-31</td>\n      <td>228.0</td>\n      <td>0.0</td>\n      <td>-198.0</td>\n      <td>0.0</td>\n      <td>0.0</td>\n      <td>0.0</td>\n      <td>0.0</td>\n      <td>1352.36</td>\n      <td>55.87</td>\n      <td>1296.49</td>\n      <td>1268.2</td>\n      <td>0.0</td>\n      <td>84.15</td>\n      <td>-0.11</td>\n      <td>11BIT.xlsx</td>\n      <td>gry</td>\n      <td>14208.43</td>\n    </tr>\n    <tr>\n      <th>1</th>\n      <td>2010-12-31</td>\n      <td>228.0</td>\n      <td>0.0</td>\n      <td>-198.0</td>\n      <td>0.0</td>\n      <td>0.0</td>\n      <td>0.0</td>\n      <td>0.0</td>\n      <td>1352.36</td>\n      <td>55.87</td>\n      <td>1296.49</td>\n      <td>1268.2</td>\n      <td>0.0</td>\n      <td>84.15</td>\n      <td>-0.11</td>\n      <td>11BIT.xlsx</td>\n      <td>gry</td>\n      <td>14208.43</td>\n    </tr>\n    <tr>\n      <th>2</th>\n      <td>2011-03-31</td>\n      <td>144.0</td>\n      <td>0.0</td>\n      <td>-50.0</td>\n      <td>0.0</td>\n      <td>0.0</td>\n      <td>0.0</td>\n      <td>0.0</td>\n      <td>1342.00</td>\n      <td>86.00</td>\n      <td>1256.00</td>\n      <td>1221.0</td>\n      <td>0.0</td>\n      <td>110.00</td>\n      <td>-0.03</td>\n      <td>11BIT.xlsx</td>\n      <td>gry</td>\n      <td>41881.66</td>\n    </tr>\n    <tr>\n      <th>3</th>\n      <td>2011-03-31</td>\n      <td>144.0</td>\n      <td>0.0</td>\n      <td>-50.0</td>\n      <td>0.0</td>\n      <td>0.0</td>\n      <td>0.0</td>\n      <td>0.0</td>\n      <td>1342.00</td>\n      <td>86.00</td>\n      <td>1256.00</td>\n      <td>1221.0</td>\n      <td>0.0</td>\n      <td>110.00</td>\n      <td>-0.03</td>\n      <td>11BIT.xlsx</td>\n      <td>gry</td>\n      <td>41881.66</td>\n    </tr>\n    <tr>\n      <th>4</th>\n      <td>2011-06-30</td>\n      <td>959.0</td>\n      <td>0.0</td>\n      <td>377.0</td>\n      <td>7.0</td>\n      <td>0.0</td>\n      <td>0.0</td>\n      <td>0.0</td>\n      <td>1659.00</td>\n      <td>103.00</td>\n      <td>1556.00</td>\n      <td>1595.0</td>\n      <td>0.0</td>\n      <td>64.00</td>\n      <td>0.20</td>\n      <td>11BIT.xlsx</td>\n      <td>gry</td>\n      <td>26705.11</td>\n    </tr>\n    <tr>\n      <th>...</th>\n      <td>...</td>\n      <td>...</td>\n      <td>...</td>\n      <td>...</td>\n      <td>...</td>\n      <td>...</td>\n      <td>...</td>\n      <td>...</td>\n      <td>...</td>\n      <td>...</td>\n      <td>...</td>\n      <td>...</td>\n      <td>...</td>\n      <td>...</td>\n      <td>...</td>\n      <td>...</td>\n      <td>...</td>\n      <td>...</td>\n    </tr>\n    <tr>\n      <th>17127</th>\n      <td>2022-03-31</td>\n      <td>696778.0</td>\n      <td>6649.0</td>\n      <td>-1246.0</td>\n      <td>38391.0</td>\n      <td>13967.0</td>\n      <td>-33280.0</td>\n      <td>57099.0</td>\n      <td>2741947.00</td>\n      <td>1723917.00</td>\n      <td>1018030.00</td>\n      <td>254238.0</td>\n      <td>620050.0</td>\n      <td>1867659.00</td>\n      <td>-0.12</td>\n      <td>ZYWIEC.xlsx</td>\n      <td>napoje</td>\n      <td>5228110.53</td>\n    </tr>\n    <tr>\n      <th>17128</th>\n      <td>2022-06-30</td>\n      <td>1209418.0</td>\n      <td>101579.0</td>\n      <td>92625.0</td>\n      <td>39932.0</td>\n      <td>101877.0</td>\n      <td>-21179.0</td>\n      <td>-81990.0</td>\n      <td>2981239.00</td>\n      <td>1730362.00</td>\n      <td>1250877.00</td>\n      <td>288397.0</td>\n      <td>1061326.0</td>\n      <td>1631516.00</td>\n      <td>9.02</td>\n      <td>ZYWIEC.xlsx</td>\n      <td>napoje</td>\n      <td>5040658.63</td>\n    </tr>\n    <tr>\n      <th>17129</th>\n      <td>2022-06-30</td>\n      <td>1209418.0</td>\n      <td>101579.0</td>\n      <td>92625.0</td>\n      <td>39932.0</td>\n      <td>101877.0</td>\n      <td>-21179.0</td>\n      <td>-81990.0</td>\n      <td>2981239.00</td>\n      <td>1730362.00</td>\n      <td>1250877.00</td>\n      <td>288397.0</td>\n      <td>1061326.0</td>\n      <td>1631516.00</td>\n      <td>9.02</td>\n      <td>ZYWIEC.xlsx</td>\n      <td>napoje</td>\n      <td>5040658.63</td>\n    </tr>\n    <tr>\n      <th>17130</th>\n      <td>2022-09-30</td>\n      <td>1106635.0</td>\n      <td>61538.0</td>\n      <td>23844.0</td>\n      <td>40212.0</td>\n      <td>156461.0</td>\n      <td>-24386.0</td>\n      <td>-117588.0</td>\n      <td>2733389.00</td>\n      <td>1720912.00</td>\n      <td>1012477.00</td>\n      <td>304293.0</td>\n      <td>960672.0</td>\n      <td>1468424.00</td>\n      <td>2.32</td>\n      <td>ZYWIEC.xlsx</td>\n      <td>napoje</td>\n      <td>4884020.74</td>\n    </tr>\n    <tr>\n      <th>17131</th>\n      <td>2022-09-30</td>\n      <td>1106635.0</td>\n      <td>61538.0</td>\n      <td>23844.0</td>\n      <td>40212.0</td>\n      <td>156461.0</td>\n      <td>-24386.0</td>\n      <td>-117588.0</td>\n      <td>2733389.00</td>\n      <td>1720912.00</td>\n      <td>1012477.00</td>\n      <td>304293.0</td>\n      <td>960672.0</td>\n      <td>1468424.00</td>\n      <td>2.32</td>\n      <td>ZYWIEC.xlsx</td>\n      <td>napoje</td>\n      <td>4884020.74</td>\n    </tr>\n  </tbody>\n</table>\n<p>17128 rows × 18 columns</p>\n</div>"
     },
     "execution_count": 33,
     "metadata": {},
     "output_type": "execute_result"
    }
   ],
   "source": [
    "cleaned_df"
   ],
   "metadata": {
    "collapsed": false,
    "ExecuteTime": {
     "end_time": "2024-05-24T09:57:57.315280200Z",
     "start_time": "2024-05-24T09:57:57.266729500Z"
    }
   },
   "id": "c5768a1737263949",
   "execution_count": 33
  },
  {
   "cell_type": "markdown",
   "source": [
    "# Feature Engineering"
   ],
   "metadata": {
    "collapsed": false
   },
   "id": "d23853519a8e0296"
  },
  {
   "cell_type": "code",
   "outputs": [
    {
     "data": {
      "text/plain": "['end_of_period',\n 'revenues_from_sales',\n 'operating_profitloss',\n 'net_profitloss_attributable_to_equity_holders_of_the_parent',\n 'depreciation',\n 'cash_flow_from_operating_activities',\n 'cash_flow_from_investing_activities',\n 'cash_flow_from_financing_activities',\n 'total_assets',\n 'noncurrent_assets',\n 'current_assets',\n 'equity_shareholders_of_the_parent',\n 'noncurrent_liabilities',\n 'current_liabilities',\n 'earnings_per_share',\n 'filename',\n 'sector',\n 'target']"
     },
     "execution_count": 34,
     "metadata": {},
     "output_type": "execute_result"
    }
   ],
   "source": [
    "cleaned_df.columns.tolist()"
   ],
   "metadata": {
    "collapsed": false,
    "ExecuteTime": {
     "end_time": "2024-05-24T09:57:57.317490600Z",
     "start_time": "2024-05-24T09:57:57.280135900Z"
    }
   },
   "id": "f6603b9faea43c3d",
   "execution_count": 34
  },
  {
   "cell_type": "code",
   "outputs": [],
   "source": [
    "cleaned_df['total_liabilities'] = cleaned_df['current_liabilities'] + cleaned_df['noncurrent_liabilities']"
   ],
   "metadata": {
    "collapsed": false,
    "ExecuteTime": {
     "end_time": "2024-05-24T09:57:57.333243500Z",
     "start_time": "2024-05-24T09:57:57.287852500Z"
    }
   },
   "id": "61cdead7c0b5c2d8",
   "execution_count": 35
  },
  {
   "cell_type": "code",
   "outputs": [],
   "source": [
    "attributes = [\n",
    "    'total_assets', 'noncurrent_assets', 'current_assets',\n",
    "    'total_liabilities', 'current_liabilities', 'noncurrent_liabilities'\n",
    "]\n",
    "\n",
    "def add_change_features(df, attributes):\n",
    "    for attr in attributes:\n",
    "        df[f'{attr}_change_1y'] = df.groupby('filename')[attr].diff(1)\n",
    "        df[f'{attr}_change_2y'] = df.groupby('filename')[attr].diff(2)\n",
    "        \n",
    "    return df\n",
    "\n",
    "nn_df = add_change_features(cleaned_df, attributes)"
   ],
   "metadata": {
    "collapsed": false,
    "ExecuteTime": {
     "end_time": "2024-05-24T09:57:57.363128900Z",
     "start_time": "2024-05-24T09:57:57.294629400Z"
    }
   },
   "id": "f8c092c7f9ff65d",
   "execution_count": 36
  },
  {
   "cell_type": "code",
   "outputs": [
    {
     "data": {
      "text/plain": "      end_of_period  revenues_from_sales  operating_profitloss  \\\n0        2010-12-31                228.0                   0.0   \n1        2010-12-31                228.0                   0.0   \n2        2011-03-31                144.0                   0.0   \n3        2011-03-31                144.0                   0.0   \n4        2011-06-30                959.0                   0.0   \n...             ...                  ...                   ...   \n17127    2022-03-31             696778.0                6649.0   \n17128    2022-06-30            1209418.0              101579.0   \n17129    2022-06-30            1209418.0              101579.0   \n17130    2022-09-30            1106635.0               61538.0   \n17131    2022-09-30            1106635.0               61538.0   \n\n       net_profitloss_attributable_to_equity_holders_of_the_parent  \\\n0                                                 -198.0             \n1                                                 -198.0             \n2                                                  -50.0             \n3                                                  -50.0             \n4                                                  377.0             \n...                                                  ...             \n17127                                            -1246.0             \n17128                                            92625.0             \n17129                                            92625.0             \n17130                                            23844.0             \n17131                                            23844.0             \n\n       depreciation  cash_flow_from_operating_activities  \\\n0               0.0                                  0.0   \n1               0.0                                  0.0   \n2               0.0                                  0.0   \n3               0.0                                  0.0   \n4               7.0                                  0.0   \n...             ...                                  ...   \n17127       38391.0                              13967.0   \n17128       39932.0                             101877.0   \n17129       39932.0                             101877.0   \n17130       40212.0                             156461.0   \n17131       40212.0                             156461.0   \n\n       cash_flow_from_investing_activities  \\\n0                                      0.0   \n1                                      0.0   \n2                                      0.0   \n3                                      0.0   \n4                                      0.0   \n...                                    ...   \n17127                             -33280.0   \n17128                             -21179.0   \n17129                             -21179.0   \n17130                             -24386.0   \n17131                             -24386.0   \n\n       cash_flow_from_financing_activities  total_assets  noncurrent_assets  \\\n0                                      0.0       1352.36              55.87   \n1                                      0.0       1352.36              55.87   \n2                                      0.0       1342.00              86.00   \n3                                      0.0       1342.00              86.00   \n4                                      0.0       1659.00             103.00   \n...                                    ...           ...                ...   \n17127                              57099.0    2741947.00         1723917.00   \n17128                             -81990.0    2981239.00         1730362.00   \n17129                             -81990.0    2981239.00         1730362.00   \n17130                            -117588.0    2733389.00         1720912.00   \n17131                            -117588.0    2733389.00         1720912.00   \n\n       ...  noncurrent_assets_change_1y  noncurrent_assets_change_2y  \\\n0      ...                          NaN                          NaN   \n1      ...                         0.00                          NaN   \n2      ...                        30.13                        30.13   \n3      ...                         0.00                        30.13   \n4      ...                        17.00                        17.00   \n...    ...                          ...                          ...   \n17127  ...                         0.00                    -72866.00   \n17128  ...                      6445.00                      6445.00   \n17129  ...                         0.00                      6445.00   \n17130  ...                     -9450.00                     -9450.00   \n17131  ...                         0.00                     -9450.00   \n\n       current_assets_change_1y  current_assets_change_2y  \\\n0                           NaN                       NaN   \n1                          0.00                       NaN   \n2                        -40.49                    -40.49   \n3                          0.00                    -40.49   \n4                        300.00                    300.00   \n...                         ...                       ...   \n17127                      0.00                 165509.00   \n17128                 232847.00                 232847.00   \n17129                      0.00                 232847.00   \n17130                -238400.00                -238400.00   \n17131                      0.00                -238400.00   \n\n       total_liabilities_change_1y total_liabilities_change_2y  \\\n0                              NaN                         NaN   \n1                             0.00                         NaN   \n2                            25.85                       25.85   \n3                             0.00                       25.85   \n4                           -46.00                      -46.00   \n...                            ...                         ...   \n17127                         0.00                   233855.00   \n17128                    205133.00                   205133.00   \n17129                         0.00                   205133.00   \n17130                   -263746.00                  -263746.00   \n17131                         0.00                  -263746.00   \n\n      current_liabilities_change_1y  current_liabilities_change_2y  \\\n0                               NaN                            NaN   \n1                              0.00                            NaN   \n2                             25.85                          25.85   \n3                              0.00                          25.85   \n4                            -46.00                         -46.00   \n...                             ...                            ...   \n17127                          0.00                     -321630.00   \n17128                    -236143.00                     -236143.00   \n17129                          0.00                     -236143.00   \n17130                    -163092.00                     -163092.00   \n17131                          0.00                     -163092.00   \n\n       noncurrent_liabilities_change_1y  noncurrent_liabilities_change_2y  \n0                                   NaN                               NaN  \n1                                   0.0                               NaN  \n2                                   0.0                               0.0  \n3                                   0.0                               0.0  \n4                                   0.0                               0.0  \n...                                 ...                               ...  \n17127                               0.0                          555485.0  \n17128                          441276.0                          441276.0  \n17129                               0.0                          441276.0  \n17130                         -100654.0                         -100654.0  \n17131                               0.0                         -100654.0  \n\n[17128 rows x 31 columns]",
      "text/html": "<div>\n<style scoped>\n    .dataframe tbody tr th:only-of-type {\n        vertical-align: middle;\n    }\n\n    .dataframe tbody tr th {\n        vertical-align: top;\n    }\n\n    .dataframe thead th {\n        text-align: right;\n    }\n</style>\n<table border=\"1\" class=\"dataframe\">\n  <thead>\n    <tr style=\"text-align: right;\">\n      <th></th>\n      <th>end_of_period</th>\n      <th>revenues_from_sales</th>\n      <th>operating_profitloss</th>\n      <th>net_profitloss_attributable_to_equity_holders_of_the_parent</th>\n      <th>depreciation</th>\n      <th>cash_flow_from_operating_activities</th>\n      <th>cash_flow_from_investing_activities</th>\n      <th>cash_flow_from_financing_activities</th>\n      <th>total_assets</th>\n      <th>noncurrent_assets</th>\n      <th>...</th>\n      <th>noncurrent_assets_change_1y</th>\n      <th>noncurrent_assets_change_2y</th>\n      <th>current_assets_change_1y</th>\n      <th>current_assets_change_2y</th>\n      <th>total_liabilities_change_1y</th>\n      <th>total_liabilities_change_2y</th>\n      <th>current_liabilities_change_1y</th>\n      <th>current_liabilities_change_2y</th>\n      <th>noncurrent_liabilities_change_1y</th>\n      <th>noncurrent_liabilities_change_2y</th>\n    </tr>\n  </thead>\n  <tbody>\n    <tr>\n      <th>0</th>\n      <td>2010-12-31</td>\n      <td>228.0</td>\n      <td>0.0</td>\n      <td>-198.0</td>\n      <td>0.0</td>\n      <td>0.0</td>\n      <td>0.0</td>\n      <td>0.0</td>\n      <td>1352.36</td>\n      <td>55.87</td>\n      <td>...</td>\n      <td>NaN</td>\n      <td>NaN</td>\n      <td>NaN</td>\n      <td>NaN</td>\n      <td>NaN</td>\n      <td>NaN</td>\n      <td>NaN</td>\n      <td>NaN</td>\n      <td>NaN</td>\n      <td>NaN</td>\n    </tr>\n    <tr>\n      <th>1</th>\n      <td>2010-12-31</td>\n      <td>228.0</td>\n      <td>0.0</td>\n      <td>-198.0</td>\n      <td>0.0</td>\n      <td>0.0</td>\n      <td>0.0</td>\n      <td>0.0</td>\n      <td>1352.36</td>\n      <td>55.87</td>\n      <td>...</td>\n      <td>0.00</td>\n      <td>NaN</td>\n      <td>0.00</td>\n      <td>NaN</td>\n      <td>0.00</td>\n      <td>NaN</td>\n      <td>0.00</td>\n      <td>NaN</td>\n      <td>0.0</td>\n      <td>NaN</td>\n    </tr>\n    <tr>\n      <th>2</th>\n      <td>2011-03-31</td>\n      <td>144.0</td>\n      <td>0.0</td>\n      <td>-50.0</td>\n      <td>0.0</td>\n      <td>0.0</td>\n      <td>0.0</td>\n      <td>0.0</td>\n      <td>1342.00</td>\n      <td>86.00</td>\n      <td>...</td>\n      <td>30.13</td>\n      <td>30.13</td>\n      <td>-40.49</td>\n      <td>-40.49</td>\n      <td>25.85</td>\n      <td>25.85</td>\n      <td>25.85</td>\n      <td>25.85</td>\n      <td>0.0</td>\n      <td>0.0</td>\n    </tr>\n    <tr>\n      <th>3</th>\n      <td>2011-03-31</td>\n      <td>144.0</td>\n      <td>0.0</td>\n      <td>-50.0</td>\n      <td>0.0</td>\n      <td>0.0</td>\n      <td>0.0</td>\n      <td>0.0</td>\n      <td>1342.00</td>\n      <td>86.00</td>\n      <td>...</td>\n      <td>0.00</td>\n      <td>30.13</td>\n      <td>0.00</td>\n      <td>-40.49</td>\n      <td>0.00</td>\n      <td>25.85</td>\n      <td>0.00</td>\n      <td>25.85</td>\n      <td>0.0</td>\n      <td>0.0</td>\n    </tr>\n    <tr>\n      <th>4</th>\n      <td>2011-06-30</td>\n      <td>959.0</td>\n      <td>0.0</td>\n      <td>377.0</td>\n      <td>7.0</td>\n      <td>0.0</td>\n      <td>0.0</td>\n      <td>0.0</td>\n      <td>1659.00</td>\n      <td>103.00</td>\n      <td>...</td>\n      <td>17.00</td>\n      <td>17.00</td>\n      <td>300.00</td>\n      <td>300.00</td>\n      <td>-46.00</td>\n      <td>-46.00</td>\n      <td>-46.00</td>\n      <td>-46.00</td>\n      <td>0.0</td>\n      <td>0.0</td>\n    </tr>\n    <tr>\n      <th>...</th>\n      <td>...</td>\n      <td>...</td>\n      <td>...</td>\n      <td>...</td>\n      <td>...</td>\n      <td>...</td>\n      <td>...</td>\n      <td>...</td>\n      <td>...</td>\n      <td>...</td>\n      <td>...</td>\n      <td>...</td>\n      <td>...</td>\n      <td>...</td>\n      <td>...</td>\n      <td>...</td>\n      <td>...</td>\n      <td>...</td>\n      <td>...</td>\n      <td>...</td>\n      <td>...</td>\n    </tr>\n    <tr>\n      <th>17127</th>\n      <td>2022-03-31</td>\n      <td>696778.0</td>\n      <td>6649.0</td>\n      <td>-1246.0</td>\n      <td>38391.0</td>\n      <td>13967.0</td>\n      <td>-33280.0</td>\n      <td>57099.0</td>\n      <td>2741947.00</td>\n      <td>1723917.00</td>\n      <td>...</td>\n      <td>0.00</td>\n      <td>-72866.00</td>\n      <td>0.00</td>\n      <td>165509.00</td>\n      <td>0.00</td>\n      <td>233855.00</td>\n      <td>0.00</td>\n      <td>-321630.00</td>\n      <td>0.0</td>\n      <td>555485.0</td>\n    </tr>\n    <tr>\n      <th>17128</th>\n      <td>2022-06-30</td>\n      <td>1209418.0</td>\n      <td>101579.0</td>\n      <td>92625.0</td>\n      <td>39932.0</td>\n      <td>101877.0</td>\n      <td>-21179.0</td>\n      <td>-81990.0</td>\n      <td>2981239.00</td>\n      <td>1730362.00</td>\n      <td>...</td>\n      <td>6445.00</td>\n      <td>6445.00</td>\n      <td>232847.00</td>\n      <td>232847.00</td>\n      <td>205133.00</td>\n      <td>205133.00</td>\n      <td>-236143.00</td>\n      <td>-236143.00</td>\n      <td>441276.0</td>\n      <td>441276.0</td>\n    </tr>\n    <tr>\n      <th>17129</th>\n      <td>2022-06-30</td>\n      <td>1209418.0</td>\n      <td>101579.0</td>\n      <td>92625.0</td>\n      <td>39932.0</td>\n      <td>101877.0</td>\n      <td>-21179.0</td>\n      <td>-81990.0</td>\n      <td>2981239.00</td>\n      <td>1730362.00</td>\n      <td>...</td>\n      <td>0.00</td>\n      <td>6445.00</td>\n      <td>0.00</td>\n      <td>232847.00</td>\n      <td>0.00</td>\n      <td>205133.00</td>\n      <td>0.00</td>\n      <td>-236143.00</td>\n      <td>0.0</td>\n      <td>441276.0</td>\n    </tr>\n    <tr>\n      <th>17130</th>\n      <td>2022-09-30</td>\n      <td>1106635.0</td>\n      <td>61538.0</td>\n      <td>23844.0</td>\n      <td>40212.0</td>\n      <td>156461.0</td>\n      <td>-24386.0</td>\n      <td>-117588.0</td>\n      <td>2733389.00</td>\n      <td>1720912.00</td>\n      <td>...</td>\n      <td>-9450.00</td>\n      <td>-9450.00</td>\n      <td>-238400.00</td>\n      <td>-238400.00</td>\n      <td>-263746.00</td>\n      <td>-263746.00</td>\n      <td>-163092.00</td>\n      <td>-163092.00</td>\n      <td>-100654.0</td>\n      <td>-100654.0</td>\n    </tr>\n    <tr>\n      <th>17131</th>\n      <td>2022-09-30</td>\n      <td>1106635.0</td>\n      <td>61538.0</td>\n      <td>23844.0</td>\n      <td>40212.0</td>\n      <td>156461.0</td>\n      <td>-24386.0</td>\n      <td>-117588.0</td>\n      <td>2733389.00</td>\n      <td>1720912.00</td>\n      <td>...</td>\n      <td>0.00</td>\n      <td>-9450.00</td>\n      <td>0.00</td>\n      <td>-238400.00</td>\n      <td>0.00</td>\n      <td>-263746.00</td>\n      <td>0.00</td>\n      <td>-163092.00</td>\n      <td>0.0</td>\n      <td>-100654.0</td>\n    </tr>\n  </tbody>\n</table>\n<p>17128 rows × 31 columns</p>\n</div>"
     },
     "execution_count": 37,
     "metadata": {},
     "output_type": "execute_result"
    }
   ],
   "source": [
    "nn_df"
   ],
   "metadata": {
    "collapsed": false,
    "ExecuteTime": {
     "end_time": "2024-05-24T09:57:57.444051700Z",
     "start_time": "2024-05-24T09:57:57.320806200Z"
    }
   },
   "id": "e088789613b9bf50",
   "execution_count": 37
  },
  {
   "cell_type": "code",
   "outputs": [
    {
     "data": {
      "text/plain": "end_of_period                                                    0\nrevenues_from_sales                                              0\noperating_profitloss                                             0\nnet_profitloss_attributable_to_equity_holders_of_the_parent      0\ndepreciation                                                     0\ncash_flow_from_operating_activities                              0\ncash_flow_from_investing_activities                              0\ncash_flow_from_financing_activities                              0\ntotal_assets                                                     0\nnoncurrent_assets                                                0\ncurrent_assets                                                   0\nequity_shareholders_of_the_parent                                0\nnoncurrent_liabilities                                           0\ncurrent_liabilities                                              0\nearnings_per_share                                               0\nfilename                                                         0\nsector                                                           0\ntarget                                                           0\ntotal_liabilities                                                0\ntotal_assets_change_1y                                         294\ntotal_assets_change_2y                                         588\nnoncurrent_assets_change_1y                                    294\nnoncurrent_assets_change_2y                                    588\ncurrent_assets_change_1y                                       294\ncurrent_assets_change_2y                                       588\ntotal_liabilities_change_1y                                    294\ntotal_liabilities_change_2y                                    588\ncurrent_liabilities_change_1y                                  294\ncurrent_liabilities_change_2y                                  588\nnoncurrent_liabilities_change_1y                               294\nnoncurrent_liabilities_change_2y                               588\ndtype: int64"
     },
     "execution_count": 38,
     "metadata": {},
     "output_type": "execute_result"
    }
   ],
   "source": [
    "nan_counts = nn_df.isna().sum()\n",
    "nan_counts"
   ],
   "metadata": {
    "collapsed": false,
    "ExecuteTime": {
     "end_time": "2024-05-24T09:57:57.488886200Z",
     "start_time": "2024-05-24T09:57:57.416572100Z"
    }
   },
   "id": "d96269bdfdf0c8d",
   "execution_count": 38
  },
  {
   "cell_type": "code",
   "outputs": [],
   "source": [
    "mini_df = nn_df.copy()\n",
    "mini_df_fill = nn_df"
   ],
   "metadata": {
    "collapsed": false,
    "ExecuteTime": {
     "end_time": "2024-05-24T09:57:57.574663500Z",
     "start_time": "2024-05-24T09:57:57.491045700Z"
    }
   },
   "id": "92f635e88a485be5",
   "execution_count": 39
  },
  {
   "cell_type": "code",
   "outputs": [],
   "source": [
    "def fill_missing_values(df, attributes):\n",
    "    for attr in attributes:\n",
    "        df[f'{attr}_change_1y'] = df.groupby('filename')[f'{attr}_change_1y'].ffill().bfill()\n",
    "        df[f'{attr}_change_2y'] = df.groupby('filename')[f'{attr}_change_2y'].ffill().bfill()\n",
    "        \n",
    "        df[f'{attr}_change_1y'] = df[f'{attr}_change_1y'].fillna(0)\n",
    "        df[f'{attr}_change_2y'] = df[f'{attr}_change_2y'].fillna(0)\n",
    "    return df\n",
    "\n",
    "nn_df = fill_missing_values(nn_df, attributes)"
   ],
   "metadata": {
    "collapsed": false,
    "ExecuteTime": {
     "end_time": "2024-05-24T09:57:57.633708600Z",
     "start_time": "2024-05-24T09:57:57.560313400Z"
    }
   },
   "id": "2a7dbc22ebb2bc77",
   "execution_count": 40
  },
  {
   "cell_type": "code",
   "outputs": [],
   "source": [
    "nn_df = nn_df.drop(columns='filename', errors='ignore')"
   ],
   "metadata": {
    "collapsed": false,
    "ExecuteTime": {
     "end_time": "2024-05-24T09:57:57.635435200Z",
     "start_time": "2024-05-24T09:57:57.598010700Z"
    }
   },
   "id": "b3a8331c9a83d39d",
   "execution_count": 41
  },
  {
   "cell_type": "code",
   "outputs": [
    {
     "data": {
      "text/plain": "      end_of_period  revenues_from_sales  operating_profitloss  \\\n0        2010-12-31                228.0                   0.0   \n1        2010-12-31                228.0                   0.0   \n2        2011-03-31                144.0                   0.0   \n3        2011-03-31                144.0                   0.0   \n4        2011-06-30                959.0                   0.0   \n...             ...                  ...                   ...   \n17127    2022-03-31             696778.0                6649.0   \n17128    2022-06-30            1209418.0              101579.0   \n17129    2022-06-30            1209418.0              101579.0   \n17130    2022-09-30            1106635.0               61538.0   \n17131    2022-09-30            1106635.0               61538.0   \n\n       net_profitloss_attributable_to_equity_holders_of_the_parent  \\\n0                                                 -198.0             \n1                                                 -198.0             \n2                                                  -50.0             \n3                                                  -50.0             \n4                                                  377.0             \n...                                                  ...             \n17127                                            -1246.0             \n17128                                            92625.0             \n17129                                            92625.0             \n17130                                            23844.0             \n17131                                            23844.0             \n\n       depreciation  cash_flow_from_operating_activities  \\\n0               0.0                                  0.0   \n1               0.0                                  0.0   \n2               0.0                                  0.0   \n3               0.0                                  0.0   \n4               7.0                                  0.0   \n...             ...                                  ...   \n17127       38391.0                              13967.0   \n17128       39932.0                             101877.0   \n17129       39932.0                             101877.0   \n17130       40212.0                             156461.0   \n17131       40212.0                             156461.0   \n\n       cash_flow_from_investing_activities  \\\n0                                      0.0   \n1                                      0.0   \n2                                      0.0   \n3                                      0.0   \n4                                      0.0   \n...                                    ...   \n17127                             -33280.0   \n17128                             -21179.0   \n17129                             -21179.0   \n17130                             -24386.0   \n17131                             -24386.0   \n\n       cash_flow_from_financing_activities  total_assets  noncurrent_assets  \\\n0                                      0.0       1352.36              55.87   \n1                                      0.0       1352.36              55.87   \n2                                      0.0       1342.00              86.00   \n3                                      0.0       1342.00              86.00   \n4                                      0.0       1659.00             103.00   \n...                                    ...           ...                ...   \n17127                              57099.0    2741947.00         1723917.00   \n17128                             -81990.0    2981239.00         1730362.00   \n17129                             -81990.0    2981239.00         1730362.00   \n17130                            -117588.0    2733389.00         1720912.00   \n17131                            -117588.0    2733389.00         1720912.00   \n\n       ...  noncurrent_assets_change_1y  noncurrent_assets_change_2y  \\\n0      ...                         0.00                        30.13   \n1      ...                         0.00                        30.13   \n2      ...                        30.13                        30.13   \n3      ...                         0.00                        30.13   \n4      ...                        17.00                        17.00   \n...    ...                          ...                          ...   \n17127  ...                         0.00                    -72866.00   \n17128  ...                      6445.00                      6445.00   \n17129  ...                         0.00                      6445.00   \n17130  ...                     -9450.00                     -9450.00   \n17131  ...                         0.00                     -9450.00   \n\n       current_assets_change_1y  current_assets_change_2y  \\\n0                          0.00                    -40.49   \n1                          0.00                    -40.49   \n2                        -40.49                    -40.49   \n3                          0.00                    -40.49   \n4                        300.00                    300.00   \n...                         ...                       ...   \n17127                      0.00                 165509.00   \n17128                 232847.00                 232847.00   \n17129                      0.00                 232847.00   \n17130                -238400.00                -238400.00   \n17131                      0.00                -238400.00   \n\n       total_liabilities_change_1y total_liabilities_change_2y  \\\n0                             0.00                       25.85   \n1                             0.00                       25.85   \n2                            25.85                       25.85   \n3                             0.00                       25.85   \n4                           -46.00                      -46.00   \n...                            ...                         ...   \n17127                         0.00                   233855.00   \n17128                    205133.00                   205133.00   \n17129                         0.00                   205133.00   \n17130                   -263746.00                  -263746.00   \n17131                         0.00                  -263746.00   \n\n       current_liabilities_change_1y  current_liabilities_change_2y  \\\n0                               0.00                          25.85   \n1                               0.00                          25.85   \n2                              25.85                          25.85   \n3                               0.00                          25.85   \n4                             -46.00                         -46.00   \n...                              ...                            ...   \n17127                           0.00                     -321630.00   \n17128                     -236143.00                     -236143.00   \n17129                           0.00                     -236143.00   \n17130                     -163092.00                     -163092.00   \n17131                           0.00                     -163092.00   \n\n       noncurrent_liabilities_change_1y  noncurrent_liabilities_change_2y  \n0                                   0.0                               0.0  \n1                                   0.0                               0.0  \n2                                   0.0                               0.0  \n3                                   0.0                               0.0  \n4                                   0.0                               0.0  \n...                                 ...                               ...  \n17127                               0.0                          555485.0  \n17128                          441276.0                          441276.0  \n17129                               0.0                          441276.0  \n17130                         -100654.0                         -100654.0  \n17131                               0.0                         -100654.0  \n\n[17128 rows x 30 columns]",
      "text/html": "<div>\n<style scoped>\n    .dataframe tbody tr th:only-of-type {\n        vertical-align: middle;\n    }\n\n    .dataframe tbody tr th {\n        vertical-align: top;\n    }\n\n    .dataframe thead th {\n        text-align: right;\n    }\n</style>\n<table border=\"1\" class=\"dataframe\">\n  <thead>\n    <tr style=\"text-align: right;\">\n      <th></th>\n      <th>end_of_period</th>\n      <th>revenues_from_sales</th>\n      <th>operating_profitloss</th>\n      <th>net_profitloss_attributable_to_equity_holders_of_the_parent</th>\n      <th>depreciation</th>\n      <th>cash_flow_from_operating_activities</th>\n      <th>cash_flow_from_investing_activities</th>\n      <th>cash_flow_from_financing_activities</th>\n      <th>total_assets</th>\n      <th>noncurrent_assets</th>\n      <th>...</th>\n      <th>noncurrent_assets_change_1y</th>\n      <th>noncurrent_assets_change_2y</th>\n      <th>current_assets_change_1y</th>\n      <th>current_assets_change_2y</th>\n      <th>total_liabilities_change_1y</th>\n      <th>total_liabilities_change_2y</th>\n      <th>current_liabilities_change_1y</th>\n      <th>current_liabilities_change_2y</th>\n      <th>noncurrent_liabilities_change_1y</th>\n      <th>noncurrent_liabilities_change_2y</th>\n    </tr>\n  </thead>\n  <tbody>\n    <tr>\n      <th>0</th>\n      <td>2010-12-31</td>\n      <td>228.0</td>\n      <td>0.0</td>\n      <td>-198.0</td>\n      <td>0.0</td>\n      <td>0.0</td>\n      <td>0.0</td>\n      <td>0.0</td>\n      <td>1352.36</td>\n      <td>55.87</td>\n      <td>...</td>\n      <td>0.00</td>\n      <td>30.13</td>\n      <td>0.00</td>\n      <td>-40.49</td>\n      <td>0.00</td>\n      <td>25.85</td>\n      <td>0.00</td>\n      <td>25.85</td>\n      <td>0.0</td>\n      <td>0.0</td>\n    </tr>\n    <tr>\n      <th>1</th>\n      <td>2010-12-31</td>\n      <td>228.0</td>\n      <td>0.0</td>\n      <td>-198.0</td>\n      <td>0.0</td>\n      <td>0.0</td>\n      <td>0.0</td>\n      <td>0.0</td>\n      <td>1352.36</td>\n      <td>55.87</td>\n      <td>...</td>\n      <td>0.00</td>\n      <td>30.13</td>\n      <td>0.00</td>\n      <td>-40.49</td>\n      <td>0.00</td>\n      <td>25.85</td>\n      <td>0.00</td>\n      <td>25.85</td>\n      <td>0.0</td>\n      <td>0.0</td>\n    </tr>\n    <tr>\n      <th>2</th>\n      <td>2011-03-31</td>\n      <td>144.0</td>\n      <td>0.0</td>\n      <td>-50.0</td>\n      <td>0.0</td>\n      <td>0.0</td>\n      <td>0.0</td>\n      <td>0.0</td>\n      <td>1342.00</td>\n      <td>86.00</td>\n      <td>...</td>\n      <td>30.13</td>\n      <td>30.13</td>\n      <td>-40.49</td>\n      <td>-40.49</td>\n      <td>25.85</td>\n      <td>25.85</td>\n      <td>25.85</td>\n      <td>25.85</td>\n      <td>0.0</td>\n      <td>0.0</td>\n    </tr>\n    <tr>\n      <th>3</th>\n      <td>2011-03-31</td>\n      <td>144.0</td>\n      <td>0.0</td>\n      <td>-50.0</td>\n      <td>0.0</td>\n      <td>0.0</td>\n      <td>0.0</td>\n      <td>0.0</td>\n      <td>1342.00</td>\n      <td>86.00</td>\n      <td>...</td>\n      <td>0.00</td>\n      <td>30.13</td>\n      <td>0.00</td>\n      <td>-40.49</td>\n      <td>0.00</td>\n      <td>25.85</td>\n      <td>0.00</td>\n      <td>25.85</td>\n      <td>0.0</td>\n      <td>0.0</td>\n    </tr>\n    <tr>\n      <th>4</th>\n      <td>2011-06-30</td>\n      <td>959.0</td>\n      <td>0.0</td>\n      <td>377.0</td>\n      <td>7.0</td>\n      <td>0.0</td>\n      <td>0.0</td>\n      <td>0.0</td>\n      <td>1659.00</td>\n      <td>103.00</td>\n      <td>...</td>\n      <td>17.00</td>\n      <td>17.00</td>\n      <td>300.00</td>\n      <td>300.00</td>\n      <td>-46.00</td>\n      <td>-46.00</td>\n      <td>-46.00</td>\n      <td>-46.00</td>\n      <td>0.0</td>\n      <td>0.0</td>\n    </tr>\n    <tr>\n      <th>...</th>\n      <td>...</td>\n      <td>...</td>\n      <td>...</td>\n      <td>...</td>\n      <td>...</td>\n      <td>...</td>\n      <td>...</td>\n      <td>...</td>\n      <td>...</td>\n      <td>...</td>\n      <td>...</td>\n      <td>...</td>\n      <td>...</td>\n      <td>...</td>\n      <td>...</td>\n      <td>...</td>\n      <td>...</td>\n      <td>...</td>\n      <td>...</td>\n      <td>...</td>\n      <td>...</td>\n    </tr>\n    <tr>\n      <th>17127</th>\n      <td>2022-03-31</td>\n      <td>696778.0</td>\n      <td>6649.0</td>\n      <td>-1246.0</td>\n      <td>38391.0</td>\n      <td>13967.0</td>\n      <td>-33280.0</td>\n      <td>57099.0</td>\n      <td>2741947.00</td>\n      <td>1723917.00</td>\n      <td>...</td>\n      <td>0.00</td>\n      <td>-72866.00</td>\n      <td>0.00</td>\n      <td>165509.00</td>\n      <td>0.00</td>\n      <td>233855.00</td>\n      <td>0.00</td>\n      <td>-321630.00</td>\n      <td>0.0</td>\n      <td>555485.0</td>\n    </tr>\n    <tr>\n      <th>17128</th>\n      <td>2022-06-30</td>\n      <td>1209418.0</td>\n      <td>101579.0</td>\n      <td>92625.0</td>\n      <td>39932.0</td>\n      <td>101877.0</td>\n      <td>-21179.0</td>\n      <td>-81990.0</td>\n      <td>2981239.00</td>\n      <td>1730362.00</td>\n      <td>...</td>\n      <td>6445.00</td>\n      <td>6445.00</td>\n      <td>232847.00</td>\n      <td>232847.00</td>\n      <td>205133.00</td>\n      <td>205133.00</td>\n      <td>-236143.00</td>\n      <td>-236143.00</td>\n      <td>441276.0</td>\n      <td>441276.0</td>\n    </tr>\n    <tr>\n      <th>17129</th>\n      <td>2022-06-30</td>\n      <td>1209418.0</td>\n      <td>101579.0</td>\n      <td>92625.0</td>\n      <td>39932.0</td>\n      <td>101877.0</td>\n      <td>-21179.0</td>\n      <td>-81990.0</td>\n      <td>2981239.00</td>\n      <td>1730362.00</td>\n      <td>...</td>\n      <td>0.00</td>\n      <td>6445.00</td>\n      <td>0.00</td>\n      <td>232847.00</td>\n      <td>0.00</td>\n      <td>205133.00</td>\n      <td>0.00</td>\n      <td>-236143.00</td>\n      <td>0.0</td>\n      <td>441276.0</td>\n    </tr>\n    <tr>\n      <th>17130</th>\n      <td>2022-09-30</td>\n      <td>1106635.0</td>\n      <td>61538.0</td>\n      <td>23844.0</td>\n      <td>40212.0</td>\n      <td>156461.0</td>\n      <td>-24386.0</td>\n      <td>-117588.0</td>\n      <td>2733389.00</td>\n      <td>1720912.00</td>\n      <td>...</td>\n      <td>-9450.00</td>\n      <td>-9450.00</td>\n      <td>-238400.00</td>\n      <td>-238400.00</td>\n      <td>-263746.00</td>\n      <td>-263746.00</td>\n      <td>-163092.00</td>\n      <td>-163092.00</td>\n      <td>-100654.0</td>\n      <td>-100654.0</td>\n    </tr>\n    <tr>\n      <th>17131</th>\n      <td>2022-09-30</td>\n      <td>1106635.0</td>\n      <td>61538.0</td>\n      <td>23844.0</td>\n      <td>40212.0</td>\n      <td>156461.0</td>\n      <td>-24386.0</td>\n      <td>-117588.0</td>\n      <td>2733389.00</td>\n      <td>1720912.00</td>\n      <td>...</td>\n      <td>0.00</td>\n      <td>-9450.00</td>\n      <td>0.00</td>\n      <td>-238400.00</td>\n      <td>0.00</td>\n      <td>-263746.00</td>\n      <td>0.00</td>\n      <td>-163092.00</td>\n      <td>0.0</td>\n      <td>-100654.0</td>\n    </tr>\n  </tbody>\n</table>\n<p>17128 rows × 30 columns</p>\n</div>"
     },
     "execution_count": 42,
     "metadata": {},
     "output_type": "execute_result"
    }
   ],
   "source": [
    "nn_df"
   ],
   "metadata": {
    "collapsed": false,
    "ExecuteTime": {
     "end_time": "2024-05-24T09:57:57.666499700Z",
     "start_time": "2024-05-24T09:57:57.638719500Z"
    }
   },
   "id": "9d8c408f4a7ce00d",
   "execution_count": 42
  },
  {
   "cell_type": "code",
   "outputs": [],
   "source": [
    "nn_df.to_csv(\"nn_df.csv\", index=False)"
   ],
   "metadata": {
    "collapsed": false,
    "ExecuteTime": {
     "end_time": "2024-05-24T09:57:57.893818Z",
     "start_time": "2024-05-24T09:57:57.667672400Z"
    }
   },
   "id": "aaa3c986cf9155a6",
   "execution_count": 43
  },
  {
   "cell_type": "markdown",
   "source": [
    "# MINI DATAFRAMES (experimental)"
   ],
   "metadata": {
    "collapsed": false
   },
   "id": "e0f2ea7379cb9d9e"
  },
  {
   "cell_type": "code",
   "outputs": [],
   "source": [
    "columns_to_drop = ['revenues_from_sales', 'operating_profitloss', 'net_profitloss_attributable_to_equity_holders_of_the_parent', 'depreciation', 'cash_flow_from_operating_activities',\n",
    " 'cash_flow_from_investing_activities',\n",
    " 'cash_flow_from_financing_activities', 'earnings_per_share',\n",
    " 'book_value_per_share', 'filename']"
   ],
   "metadata": {
    "collapsed": false,
    "ExecuteTime": {
     "end_time": "2024-05-24T09:57:57.902935100Z",
     "start_time": "2024-05-24T09:57:57.895980300Z"
    }
   },
   "id": "562c5645aeac4fa2",
   "execution_count": 44
  },
  {
   "cell_type": "code",
   "outputs": [],
   "source": [
    "mini_df = mini_df.drop(columns=columns_to_drop, errors='ignore')\n",
    "mini_df = mini_df.dropna()"
   ],
   "metadata": {
    "collapsed": false,
    "ExecuteTime": {
     "end_time": "2024-05-24T09:57:57.914511800Z",
     "start_time": "2024-05-24T09:57:57.900723Z"
    }
   },
   "id": "7ffa045a8ef92476",
   "execution_count": 45
  },
  {
   "cell_type": "code",
   "outputs": [],
   "source": [
    "mini_df_fill = mini_df_fill.drop(columns=columns_to_drop, errors='ignore')"
   ],
   "metadata": {
    "collapsed": false,
    "ExecuteTime": {
     "end_time": "2024-05-24T09:57:57.922642100Z",
     "start_time": "2024-05-24T09:57:57.915770900Z"
    }
   },
   "id": "2971e07658df4cf6",
   "execution_count": 46
  },
  {
   "cell_type": "code",
   "outputs": [],
   "source": [
    "mini_df.to_csv(\"mini_df.csv\", index=False)\n",
    "mini_df_fill.to_csv(\"mini_df_fill.csv\", index=False)"
   ],
   "metadata": {
    "collapsed": false,
    "ExecuteTime": {
     "end_time": "2024-05-24T09:57:58.213117600Z",
     "start_time": "2024-05-24T09:57:57.923649200Z"
    }
   },
   "id": "17e9934068033e4b",
   "execution_count": 47
  }
 ],
 "metadata": {
  "kernelspec": {
   "display_name": "Python 3",
   "language": "python",
   "name": "python3"
  },
  "language_info": {
   "codemirror_mode": {
    "name": "ipython",
    "version": 2
   },
   "file_extension": ".py",
   "mimetype": "text/x-python",
   "name": "python",
   "nbconvert_exporter": "python",
   "pygments_lexer": "ipython2",
   "version": "2.7.6"
  }
 },
 "nbformat": 4,
 "nbformat_minor": 5
}
