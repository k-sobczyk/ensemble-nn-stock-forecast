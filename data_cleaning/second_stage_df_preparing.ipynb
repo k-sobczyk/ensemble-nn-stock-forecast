{
 "cells": [
  {
   "cell_type": "code",
   "outputs": [],
   "source": [
    "import pandas as pd\n",
    "from data_utils import * "
   ],
   "metadata": {
    "collapsed": false,
    "ExecuteTime": {
     "end_time": "2024-05-18T16:28:50.115948900Z",
     "start_time": "2024-05-18T16:28:50.038625400Z"
    }
   },
   "id": "8ed598eadb397306",
   "execution_count": 88
  },
  {
   "cell_type": "code",
   "execution_count": 89,
   "id": "initial_id",
   "metadata": {
    "collapsed": true,
    "ExecuteTime": {
     "end_time": "2024-05-18T16:28:50.117949300Z",
     "start_time": "2024-05-18T16:28:50.071646700Z"
    }
   },
   "outputs": [],
   "source": [
    "df = pd.read_csv('../data/dataframes/data_with_target.csv')"
   ]
  },
  {
   "cell_type": "code",
   "outputs": [],
   "source": [
    "df = df.sort_values(by=['filename', 'end_of_period'])"
   ],
   "metadata": {
    "collapsed": false,
    "ExecuteTime": {
     "end_time": "2024-05-18T16:28:50.136830100Z",
     "start_time": "2024-05-18T16:28:50.120949700Z"
    }
   },
   "id": "4768e3ab2db82639",
   "execution_count": 90
  },
  {
   "cell_type": "code",
   "outputs": [],
   "source": [
    "columns_to_drop = [\n",
    "    'date_of_publication', 'gross_profit_margin_on_sales', 'operating_profit_margin',\n",
    "    'gross_profit_margin', 'net_profit_margin', 'total_liability.1', 'company_name', 'ticker',\n",
    "    'Name', 'Period end', 'accruals.1', 'accounting_standard'\n",
    "]\n",
    "\n",
    "cleaned_df = df.drop(columns=columns_to_drop, errors='ignore')"
   ],
   "metadata": {
    "collapsed": false,
    "ExecuteTime": {
     "end_time": "2024-05-18T16:28:50.171327Z",
     "start_time": "2024-05-18T16:28:50.140839600Z"
    }
   },
   "id": "f2717517aab0fbda",
   "execution_count": 91
  },
  {
   "cell_type": "code",
   "outputs": [
    {
     "data": {
      "text/plain": "end_of_period                                                    0.000000\nrevenues_from_sales                                              4.032729\noperating_profitloss                                             2.220923\nnet_profitloss_attributable_to_equity_holders_of_the_parent      2.045587\ntotal_comprehensive_income_attributable_to_equity_holders       75.219170\n                                                                  ...    \nload_gross_profit                                              100.000000\ncurrent_financial_liabilities                                  100.000000\nnoncurrent_financial_liabilities                               100.000000\nsector                                                           0.000000\nMarket value                                                     0.000000\nLength: 100, dtype: float64"
     },
     "execution_count": 92,
     "metadata": {},
     "output_type": "execute_result"
    }
   ],
   "source": [
    "def calculate_zero_percentage(column):\n",
    "    zero_count = (column == 0).sum()\n",
    "    zero_percentage = zero_count / len(column) * 100\n",
    "    return zero_percentage\n",
    "\n",
    "zero_percentages = cleaned_df.apply(calculate_zero_percentage)\n",
    "\n",
    "zero_percentages"
   ],
   "metadata": {
    "collapsed": false,
    "ExecuteTime": {
     "end_time": "2024-05-18T16:28:50.173466700Z",
     "start_time": "2024-05-18T16:28:50.145573900Z"
    }
   },
   "id": "6a5d81a835e7e8fc",
   "execution_count": 92
  },
  {
   "cell_type": "code",
   "outputs": [],
   "source": [
    "columns_to_drop = [\n",
    "    'treasury_shares', 'longterm_provision_for_employee_benefits', 'trade_payables', 'liabilities_from_finance_leases', \n",
    "    'bond_liabilities', 'total_liability', 'liabilities_from_derivatives', 'noncurrent_accruals', 'other_noncurrent_liabilities', \n",
    "    'noncurrent_provision', 'deferred_tax_liabilities', 'noncurrent_trade_payables', 'load_gross_profit', \n",
    "    'noncurrent_liabilities_from_finance_leases', 'noncurrent_liabilities_from_bonds', 'noncurrent_loans_and_borrowings', \n",
    "    'noncurrent_liabilities_from_derivatives', 'noncontrolling_interests', 'retained_earnings_accumulated_losses', \n",
    "    'other_capitals', 'valuation_and_exchange_differences', 'supplementary_capital', 'employee_benefits', \n",
    "    'current_tax_liabilities', 'provisions', 'other_liabilities', 'leverage', 'rate_debt_security', 'debt_service_ratio', \n",
    "    'debt_ratio', 'assets_ratio', 'rotation_of_assets', 'rotation_assets', 'cash_conversion_cycle', 'rotation_commitments', \n",
    "    'the_operating_cycle', 'inventory_turnover', 'receivables_turnover', 'cash_ratio', 'quick_ratio', 'current_ratio', \n",
    "    'working_capital_ratio', 'return_on_assets', 'return_on_equity', \n",
    "    'liabilities_related_to_assets_held_for_sale_and_discontinued_operations', 'called_up_share_capital', 'share_capital', \n",
    "    'equity_liabilities', 'other_noncurrent_assets', 'noncurrent_financial_liabilities', 'current_financial_liabilities', \n",
    "    'property_plant_and_equipment', 'exploration_for_and_evaluation_of_mineral_resources', 'intangible_assets', 'goodwill', \n",
    "    'investment_property', 'own_shares', 'investment_in_affiliates', 'noncurrent_financial_assets', 'noncurrent_loans_and_receivables', \n",
    "    'deferred_income_tax', 'noncurrent_deferred_charges_and_accruals', 'noncurrent_derivative_instruments', 'rightofuse_assets', \n",
    "    'inventories', 'assets_from_current_tax', 'called_up_capital', 'current_intangible_assets', \n",
    "    'assets_held_for_sale_and_discontinuing_operations', 'other_assets', 'derivative_instruments', 'asset_utilization', \n",
    "    'accruals', 'trade_receivables', 'cash_and_cash_equivalents', 'biological_assets', 'loans_and_other_receivables', \n",
    "    'financial_assets', 'total_comprehensive_income_per_share', 'total_comprehensive_income_attributable_to_equity_holders'\n",
    "]\n",
    "\n",
    "cleaned_df = cleaned_df.drop(columns=columns_to_drop, errors='ignore')"
   ],
   "metadata": {
    "collapsed": false,
    "ExecuteTime": {
     "end_time": "2024-05-18T16:28:50.173972400Z",
     "start_time": "2024-05-18T16:28:50.161732600Z"
    }
   },
   "id": "7f4157c96b710f56",
   "execution_count": 93
  },
  {
   "cell_type": "code",
   "outputs": [
    {
     "data": {
      "text/plain": "          filename  count\n0       11BIT.xlsx      7\n1      ACTION.xlsx      9\n2      ADIUVO.xlsx      7\n3       AGORA.xlsx      9\n4    AGROWILL.xlsx      4\n..             ...    ...\n225      XTPL.xlsx      3\n226     ZAMET.xlsx      9\n227      ZPUE.xlsx      9\n228       ZUE.xlsx      9\n229    ZYWIEC.xlsx      9\n\n[230 rows x 2 columns]",
      "text/html": "<div>\n<style scoped>\n    .dataframe tbody tr th:only-of-type {\n        vertical-align: middle;\n    }\n\n    .dataframe tbody tr th {\n        vertical-align: top;\n    }\n\n    .dataframe thead th {\n        text-align: right;\n    }\n</style>\n<table border=\"1\" class=\"dataframe\">\n  <thead>\n    <tr style=\"text-align: right;\">\n      <th></th>\n      <th>filename</th>\n      <th>count</th>\n    </tr>\n  </thead>\n  <tbody>\n    <tr>\n      <th>0</th>\n      <td>11BIT.xlsx</td>\n      <td>7</td>\n    </tr>\n    <tr>\n      <th>1</th>\n      <td>ACTION.xlsx</td>\n      <td>9</td>\n    </tr>\n    <tr>\n      <th>2</th>\n      <td>ADIUVO.xlsx</td>\n      <td>7</td>\n    </tr>\n    <tr>\n      <th>3</th>\n      <td>AGORA.xlsx</td>\n      <td>9</td>\n    </tr>\n    <tr>\n      <th>4</th>\n      <td>AGROWILL.xlsx</td>\n      <td>4</td>\n    </tr>\n    <tr>\n      <th>...</th>\n      <td>...</td>\n      <td>...</td>\n    </tr>\n    <tr>\n      <th>225</th>\n      <td>XTPL.xlsx</td>\n      <td>3</td>\n    </tr>\n    <tr>\n      <th>226</th>\n      <td>ZAMET.xlsx</td>\n      <td>9</td>\n    </tr>\n    <tr>\n      <th>227</th>\n      <td>ZPUE.xlsx</td>\n      <td>9</td>\n    </tr>\n    <tr>\n      <th>228</th>\n      <td>ZUE.xlsx</td>\n      <td>9</td>\n    </tr>\n    <tr>\n      <th>229</th>\n      <td>ZYWIEC.xlsx</td>\n      <td>9</td>\n    </tr>\n  </tbody>\n</table>\n<p>230 rows × 2 columns</p>\n</div>"
     },
     "execution_count": 94,
     "metadata": {},
     "output_type": "execute_result"
    }
   ],
   "source": [
    "count_rows_by_filename(cleaned_df)"
   ],
   "metadata": {
    "collapsed": false,
    "ExecuteTime": {
     "end_time": "2024-05-18T16:28:50.176979Z",
     "start_time": "2024-05-18T16:28:50.167326700Z"
    }
   },
   "id": "7d8039395a2abf17",
   "execution_count": 94
  },
  {
   "cell_type": "code",
   "outputs": [],
   "source": [
    "filenames_to_delete = [\n",
    "    'POLTREG.xlsx', 'ONDE.xlsx', 'DADELO.xlsx', 'CREEPYJAR.xlsx', 'PHOTON.xlsx', \n",
    "    'CAPTORTX.xlsx', 'BRAND24.xlsx', 'BIGCHEESE.xlsx', 'SHOPER.xlsx', 'STSHOLDING.xlsx', \n",
    "    'GRUPRACUJ.xlsx', 'ANSWEAR.xlsx', 'SADOVAYA.xlsx'\n",
    "]\n",
    "\n",
    "cleaned_df = cleaned_df[~cleaned_df['filename'].isin(filenames_to_delete)]"
   ],
   "metadata": {
    "collapsed": false,
    "ExecuteTime": {
     "end_time": "2024-05-18T16:28:50.190229800Z",
     "start_time": "2024-05-18T16:28:50.176979Z"
    }
   },
   "id": "c418100cd8263e90",
   "execution_count": 95
  },
  {
   "cell_type": "code",
   "outputs": [
    {
     "data": {
      "text/plain": "     end_of_period  revenues_from_sales  operating_profitloss  \\\n0       2015-12-31             7118.055              3766.639   \n1       2016-12-31             9255.686              5223.702   \n2       2017-12-31             7749.556              5271.914   \n3       2018-12-31            22493.025             11724.432   \n4       2019-12-31            21791.225             14140.468   \n...            ...                  ...                   ...   \n1706    2017-12-31           640925.000             40794.000   \n1707    2018-12-31           725450.000             91325.000   \n1708    2019-12-31           651502.000             40236.000   \n1709    2020-12-31           770024.000             96982.000   \n1710    2021-12-31           733974.000             46890.000   \n\n      net_profitloss_attributable_to_equity_holders_of_the_parent  \\\n0                                              3131.438             \n1                                              3752.445             \n2                                              3976.657             \n3                                              9031.812             \n4                                             15218.158             \n...                                                 ...             \n1706                                          31137.000             \n1707                                          70684.000             \n1708                                          30791.000             \n1709                                          69584.000             \n1710                                          32175.000             \n\n      depreciation  cash_flow_from_operating_activities  \\\n0          479.143                             3600.039   \n1          635.822                             5357.262   \n2          367.638                             4117.506   \n3         1590.751                             4319.939   \n4         1843.751                             5013.209   \n...            ...                                  ...   \n1706     28418.000                            69027.000   \n1707     28672.000                            20399.000   \n1708     31722.000                           145523.000   \n1709     37321.000                             6740.000   \n1710     42311.000                            50929.000   \n\n      cash_flow_from_investing_activities  \\\n0                                -161.750   \n1                               -3043.810   \n2                               -3352.652   \n3                              -22251.450   \n4                               -3565.279   \n...                                   ...   \n1706                           -38611.000   \n1707                           -52414.000   \n1708                           -78807.000   \n1709                            85060.000   \n1710                           -65863.000   \n\n      cash_flow_from_financing_activities  total_assets  noncurrent_assets  \\\n0                                 386.591     33895.516           7073.215   \n1                                -305.956     45350.347           9489.996   \n2                                   0.000     48649.817          17173.693   \n3                               12600.000    109262.821          41316.893   \n4                                -414.282    155668.388          49815.126   \n...                                   ...           ...                ...   \n1706                           -16068.000   1778284.000         994505.000   \n1707                            -1149.000   1790063.000        1014534.000   \n1708                           -13101.000   2479535.000        1595330.000   \n1709                           -18936.000   2513606.000        1729256.000   \n1710                            30091.000   2508447.000        1726721.000   \n\n      current_assets  equity_shareholders_of_the_parent  \\\n0          26822.301                          29851.813   \n1          35178.592                          42214.116   \n2          31476.124                          46222.796   \n3          67945.928                          89911.573   \n4         105853.262                         119740.299   \n...              ...                                ...   \n1706      783779.000                         165473.000   \n1707      775529.000                         314313.000   \n1708      884205.000                         187604.000   \n1709      784350.000                         177079.000   \n1710      781726.000                         216089.000   \n\n      noncurrent_liabilities  current_liabilities  number_of_shares  \\\n0                    570.336             3473.367          2217.199   \n1                    444.186             2692.045          2217.199   \n2                    762.772             1664.249          2287.199   \n3                  12017.555             7333.693          2287.199   \n4                  11262.187            24665.902          2287.199   \n...                      ...                  ...               ...   \n1706              548311.000          1064500.000         10271.337   \n1707               22002.000          1453748.000         10271.337   \n1708             1100729.000          1191202.000         10271.337   \n1709             1213683.000          1122844.000         10271.337   \n1710               83037.000          2209321.000         10271.337   \n\n      earnings_per_share  book_value_per_share     filename  sector  \\\n0               1.412340             13.463750   11BIT.xlsx     gry   \n1               1.692426             19.039390   11BIT.xlsx     gry   \n2               1.738658             20.209346   11BIT.xlsx     gry   \n3               3.948853             39.310778   11BIT.xlsx     gry   \n4               6.653622             52.352375   11BIT.xlsx     gry   \n...                  ...                   ...          ...     ...   \n1706            3.031446             16.110171  ZYWIEC.xlsx  napoje   \n1707            6.881675             30.600982  ZYWIEC.xlsx  napoje   \n1708            2.997760             18.264808  ZYWIEC.xlsx  napoje   \n1709            6.774581             17.240112  ZYWIEC.xlsx  napoje   \n1710            3.132504             21.038060  ZYWIEC.xlsx  napoje   \n\n      Market value  \n0     1.565300e+08  \n1     3.254800e+08  \n2     4.528700e+08  \n3     5.580800e+08  \n4     9.148800e+08  \n...            ...  \n1706  4.848070e+09  \n1707  4.745360e+09  \n1708  5.032960e+09  \n1709  4.971330e+09  \n1710  5.197300e+09  \n\n[1698 rows x 20 columns]",
      "text/html": "<div>\n<style scoped>\n    .dataframe tbody tr th:only-of-type {\n        vertical-align: middle;\n    }\n\n    .dataframe tbody tr th {\n        vertical-align: top;\n    }\n\n    .dataframe thead th {\n        text-align: right;\n    }\n</style>\n<table border=\"1\" class=\"dataframe\">\n  <thead>\n    <tr style=\"text-align: right;\">\n      <th></th>\n      <th>end_of_period</th>\n      <th>revenues_from_sales</th>\n      <th>operating_profitloss</th>\n      <th>net_profitloss_attributable_to_equity_holders_of_the_parent</th>\n      <th>depreciation</th>\n      <th>cash_flow_from_operating_activities</th>\n      <th>cash_flow_from_investing_activities</th>\n      <th>cash_flow_from_financing_activities</th>\n      <th>total_assets</th>\n      <th>noncurrent_assets</th>\n      <th>current_assets</th>\n      <th>equity_shareholders_of_the_parent</th>\n      <th>noncurrent_liabilities</th>\n      <th>current_liabilities</th>\n      <th>number_of_shares</th>\n      <th>earnings_per_share</th>\n      <th>book_value_per_share</th>\n      <th>filename</th>\n      <th>sector</th>\n      <th>Market value</th>\n    </tr>\n  </thead>\n  <tbody>\n    <tr>\n      <th>0</th>\n      <td>2015-12-31</td>\n      <td>7118.055</td>\n      <td>3766.639</td>\n      <td>3131.438</td>\n      <td>479.143</td>\n      <td>3600.039</td>\n      <td>-161.750</td>\n      <td>386.591</td>\n      <td>33895.516</td>\n      <td>7073.215</td>\n      <td>26822.301</td>\n      <td>29851.813</td>\n      <td>570.336</td>\n      <td>3473.367</td>\n      <td>2217.199</td>\n      <td>1.412340</td>\n      <td>13.463750</td>\n      <td>11BIT.xlsx</td>\n      <td>gry</td>\n      <td>1.565300e+08</td>\n    </tr>\n    <tr>\n      <th>1</th>\n      <td>2016-12-31</td>\n      <td>9255.686</td>\n      <td>5223.702</td>\n      <td>3752.445</td>\n      <td>635.822</td>\n      <td>5357.262</td>\n      <td>-3043.810</td>\n      <td>-305.956</td>\n      <td>45350.347</td>\n      <td>9489.996</td>\n      <td>35178.592</td>\n      <td>42214.116</td>\n      <td>444.186</td>\n      <td>2692.045</td>\n      <td>2217.199</td>\n      <td>1.692426</td>\n      <td>19.039390</td>\n      <td>11BIT.xlsx</td>\n      <td>gry</td>\n      <td>3.254800e+08</td>\n    </tr>\n    <tr>\n      <th>2</th>\n      <td>2017-12-31</td>\n      <td>7749.556</td>\n      <td>5271.914</td>\n      <td>3976.657</td>\n      <td>367.638</td>\n      <td>4117.506</td>\n      <td>-3352.652</td>\n      <td>0.000</td>\n      <td>48649.817</td>\n      <td>17173.693</td>\n      <td>31476.124</td>\n      <td>46222.796</td>\n      <td>762.772</td>\n      <td>1664.249</td>\n      <td>2287.199</td>\n      <td>1.738658</td>\n      <td>20.209346</td>\n      <td>11BIT.xlsx</td>\n      <td>gry</td>\n      <td>4.528700e+08</td>\n    </tr>\n    <tr>\n      <th>3</th>\n      <td>2018-12-31</td>\n      <td>22493.025</td>\n      <td>11724.432</td>\n      <td>9031.812</td>\n      <td>1590.751</td>\n      <td>4319.939</td>\n      <td>-22251.450</td>\n      <td>12600.000</td>\n      <td>109262.821</td>\n      <td>41316.893</td>\n      <td>67945.928</td>\n      <td>89911.573</td>\n      <td>12017.555</td>\n      <td>7333.693</td>\n      <td>2287.199</td>\n      <td>3.948853</td>\n      <td>39.310778</td>\n      <td>11BIT.xlsx</td>\n      <td>gry</td>\n      <td>5.580800e+08</td>\n    </tr>\n    <tr>\n      <th>4</th>\n      <td>2019-12-31</td>\n      <td>21791.225</td>\n      <td>14140.468</td>\n      <td>15218.158</td>\n      <td>1843.751</td>\n      <td>5013.209</td>\n      <td>-3565.279</td>\n      <td>-414.282</td>\n      <td>155668.388</td>\n      <td>49815.126</td>\n      <td>105853.262</td>\n      <td>119740.299</td>\n      <td>11262.187</td>\n      <td>24665.902</td>\n      <td>2287.199</td>\n      <td>6.653622</td>\n      <td>52.352375</td>\n      <td>11BIT.xlsx</td>\n      <td>gry</td>\n      <td>9.148800e+08</td>\n    </tr>\n    <tr>\n      <th>...</th>\n      <td>...</td>\n      <td>...</td>\n      <td>...</td>\n      <td>...</td>\n      <td>...</td>\n      <td>...</td>\n      <td>...</td>\n      <td>...</td>\n      <td>...</td>\n      <td>...</td>\n      <td>...</td>\n      <td>...</td>\n      <td>...</td>\n      <td>...</td>\n      <td>...</td>\n      <td>...</td>\n      <td>...</td>\n      <td>...</td>\n      <td>...</td>\n      <td>...</td>\n    </tr>\n    <tr>\n      <th>1706</th>\n      <td>2017-12-31</td>\n      <td>640925.000</td>\n      <td>40794.000</td>\n      <td>31137.000</td>\n      <td>28418.000</td>\n      <td>69027.000</td>\n      <td>-38611.000</td>\n      <td>-16068.000</td>\n      <td>1778284.000</td>\n      <td>994505.000</td>\n      <td>783779.000</td>\n      <td>165473.000</td>\n      <td>548311.000</td>\n      <td>1064500.000</td>\n      <td>10271.337</td>\n      <td>3.031446</td>\n      <td>16.110171</td>\n      <td>ZYWIEC.xlsx</td>\n      <td>napoje</td>\n      <td>4.848070e+09</td>\n    </tr>\n    <tr>\n      <th>1707</th>\n      <td>2018-12-31</td>\n      <td>725450.000</td>\n      <td>91325.000</td>\n      <td>70684.000</td>\n      <td>28672.000</td>\n      <td>20399.000</td>\n      <td>-52414.000</td>\n      <td>-1149.000</td>\n      <td>1790063.000</td>\n      <td>1014534.000</td>\n      <td>775529.000</td>\n      <td>314313.000</td>\n      <td>22002.000</td>\n      <td>1453748.000</td>\n      <td>10271.337</td>\n      <td>6.881675</td>\n      <td>30.600982</td>\n      <td>ZYWIEC.xlsx</td>\n      <td>napoje</td>\n      <td>4.745360e+09</td>\n    </tr>\n    <tr>\n      <th>1708</th>\n      <td>2019-12-31</td>\n      <td>651502.000</td>\n      <td>40236.000</td>\n      <td>30791.000</td>\n      <td>31722.000</td>\n      <td>145523.000</td>\n      <td>-78807.000</td>\n      <td>-13101.000</td>\n      <td>2479535.000</td>\n      <td>1595330.000</td>\n      <td>884205.000</td>\n      <td>187604.000</td>\n      <td>1100729.000</td>\n      <td>1191202.000</td>\n      <td>10271.337</td>\n      <td>2.997760</td>\n      <td>18.264808</td>\n      <td>ZYWIEC.xlsx</td>\n      <td>napoje</td>\n      <td>5.032960e+09</td>\n    </tr>\n    <tr>\n      <th>1709</th>\n      <td>2020-12-31</td>\n      <td>770024.000</td>\n      <td>96982.000</td>\n      <td>69584.000</td>\n      <td>37321.000</td>\n      <td>6740.000</td>\n      <td>85060.000</td>\n      <td>-18936.000</td>\n      <td>2513606.000</td>\n      <td>1729256.000</td>\n      <td>784350.000</td>\n      <td>177079.000</td>\n      <td>1213683.000</td>\n      <td>1122844.000</td>\n      <td>10271.337</td>\n      <td>6.774581</td>\n      <td>17.240112</td>\n      <td>ZYWIEC.xlsx</td>\n      <td>napoje</td>\n      <td>4.971330e+09</td>\n    </tr>\n    <tr>\n      <th>1710</th>\n      <td>2021-12-31</td>\n      <td>733974.000</td>\n      <td>46890.000</td>\n      <td>32175.000</td>\n      <td>42311.000</td>\n      <td>50929.000</td>\n      <td>-65863.000</td>\n      <td>30091.000</td>\n      <td>2508447.000</td>\n      <td>1726721.000</td>\n      <td>781726.000</td>\n      <td>216089.000</td>\n      <td>83037.000</td>\n      <td>2209321.000</td>\n      <td>10271.337</td>\n      <td>3.132504</td>\n      <td>21.038060</td>\n      <td>ZYWIEC.xlsx</td>\n      <td>napoje</td>\n      <td>5.197300e+09</td>\n    </tr>\n  </tbody>\n</table>\n<p>1698 rows × 20 columns</p>\n</div>"
     },
     "execution_count": 96,
     "metadata": {},
     "output_type": "execute_result"
    }
   ],
   "source": [
    "cleaned_df"
   ],
   "metadata": {
    "collapsed": false,
    "ExecuteTime": {
     "end_time": "2024-05-18T16:28:50.221058800Z",
     "start_time": "2024-05-18T16:28:50.182229700Z"
    }
   },
   "id": "c5768a1737263949",
   "execution_count": 96
  },
  {
   "cell_type": "markdown",
   "source": [
    "# Feature Engineering"
   ],
   "metadata": {
    "collapsed": false
   },
   "id": "d23853519a8e0296"
  },
  {
   "cell_type": "code",
   "outputs": [
    {
     "data": {
      "text/plain": "['end_of_period',\n 'revenues_from_sales',\n 'operating_profitloss',\n 'net_profitloss_attributable_to_equity_holders_of_the_parent',\n 'depreciation',\n 'cash_flow_from_operating_activities',\n 'cash_flow_from_investing_activities',\n 'cash_flow_from_financing_activities',\n 'total_assets',\n 'noncurrent_assets',\n 'current_assets',\n 'equity_shareholders_of_the_parent',\n 'noncurrent_liabilities',\n 'current_liabilities',\n 'number_of_shares',\n 'earnings_per_share',\n 'book_value_per_share',\n 'filename',\n 'sector',\n 'Market value']"
     },
     "execution_count": 97,
     "metadata": {},
     "output_type": "execute_result"
    }
   ],
   "source": [
    "cleaned_df.columns.tolist()"
   ],
   "metadata": {
    "collapsed": false,
    "ExecuteTime": {
     "end_time": "2024-05-18T16:28:50.221058800Z",
     "start_time": "2024-05-18T16:28:50.197584900Z"
    }
   },
   "id": "f6603b9faea43c3d",
   "execution_count": 97
  },
  {
   "cell_type": "code",
   "outputs": [],
   "source": [
    "cleaned_df['total_liabilities'] = cleaned_df['current_liabilities'] + cleaned_df['noncurrent_liabilities']"
   ],
   "metadata": {
    "collapsed": false,
    "ExecuteTime": {
     "end_time": "2024-05-18T16:28:50.270020500Z",
     "start_time": "2024-05-18T16:28:50.224061700Z"
    }
   },
   "id": "61cdead7c0b5c2d8",
   "execution_count": 98
  },
  {
   "cell_type": "code",
   "outputs": [],
   "source": [
    "attributes = [\n",
    "    'total_assets', 'noncurrent_assets', 'current_assets',\n",
    "    'total_liabilities', 'current_liabilities', 'noncurrent_liabilities'\n",
    "]\n",
    "\n",
    "def add_change_features(df, attributes):\n",
    "    for attr in attributes:\n",
    "        df[f'{attr}_change_1y'] = df.groupby('filename')[attr].diff(1)\n",
    "        df[f'{attr}_change_2y'] = df.groupby('filename')[attr].diff(2)\n",
    "        \n",
    "    return df\n",
    "\n",
    "nn_df = add_change_features(cleaned_df, attributes)"
   ],
   "metadata": {
    "collapsed": false,
    "ExecuteTime": {
     "end_time": "2024-05-18T16:28:50.320939600Z",
     "start_time": "2024-05-18T16:28:50.273020900Z"
    }
   },
   "id": "f8c092c7f9ff65d",
   "execution_count": 99
  },
  {
   "cell_type": "code",
   "outputs": [
    {
     "data": {
      "text/plain": "end_of_period                                                    0\nrevenues_from_sales                                              0\noperating_profitloss                                             0\nnet_profitloss_attributable_to_equity_holders_of_the_parent      0\ndepreciation                                                     0\ncash_flow_from_operating_activities                              0\ncash_flow_from_investing_activities                              0\ncash_flow_from_financing_activities                              0\ntotal_assets                                                     0\nnoncurrent_assets                                                0\ncurrent_assets                                                   0\nequity_shareholders_of_the_parent                                0\nnoncurrent_liabilities                                           0\ncurrent_liabilities                                              0\nnumber_of_shares                                                 0\nearnings_per_share                                               0\nbook_value_per_share                                             0\nfilename                                                         0\nsector                                                           0\nMarket value                                                     0\ntotal_liabilities                                                0\ntotal_assets_change_1y                                         217\ntotal_assets_change_2y                                         433\nnoncurrent_assets_change_1y                                    217\nnoncurrent_assets_change_2y                                    433\ncurrent_assets_change_1y                                       217\ncurrent_assets_change_2y                                       433\ntotal_liabilities_change_1y                                    217\ntotal_liabilities_change_2y                                    433\ncurrent_liabilities_change_1y                                  217\ncurrent_liabilities_change_2y                                  433\nnoncurrent_liabilities_change_1y                               217\nnoncurrent_liabilities_change_2y                               433\ndtype: int64"
     },
     "execution_count": 100,
     "metadata": {},
     "output_type": "execute_result"
    }
   ],
   "source": [
    "nan_counts = nn_df.isna().sum()\n",
    "nan_counts"
   ],
   "metadata": {
    "collapsed": false,
    "ExecuteTime": {
     "end_time": "2024-05-18T16:28:50.385583400Z",
     "start_time": "2024-05-18T16:28:50.325066800Z"
    }
   },
   "id": "d96269bdfdf0c8d",
   "execution_count": 100
  },
  {
   "cell_type": "code",
   "outputs": [],
   "source": [
    "mini_df = nn_df"
   ],
   "metadata": {
    "collapsed": false,
    "ExecuteTime": {
     "end_time": "2024-05-18T16:28:50.407007800Z",
     "start_time": "2024-05-18T16:28:50.388582400Z"
    }
   },
   "id": "92f635e88a485be5",
   "execution_count": 101
  },
  {
   "cell_type": "code",
   "outputs": [],
   "source": [
    "def fill_missing_values(df, attributes):\n",
    "    for attr in attributes:\n",
    "        df[f'{attr}_change_1y'] = df.groupby('filename')[f'{attr}_change_1y'].ffill().bfill()\n",
    "        df[f'{attr}_change_2y'] = df.groupby('filename')[f'{attr}_change_2y'].ffill().bfill()\n",
    "        \n",
    "        df[f'{attr}_change_1y'] = df[f'{attr}_change_1y'].fillna(0)\n",
    "        df[f'{attr}_change_2y'] = df[f'{attr}_change_2y'].fillna(0)\n",
    "    return df\n",
    "\n",
    "nn_df = fill_missing_values(nn_df, attributes)"
   ],
   "metadata": {
    "collapsed": false,
    "ExecuteTime": {
     "end_time": "2024-05-18T16:28:50.462113700Z",
     "start_time": "2024-05-18T16:28:50.411007800Z"
    }
   },
   "id": "2a7dbc22ebb2bc77",
   "execution_count": 102
  },
  {
   "cell_type": "code",
   "outputs": [
    {
     "data": {
      "text/plain": "     end_of_period  revenues_from_sales  operating_profitloss  \\\n0       2015-12-31             7118.055              3766.639   \n1       2016-12-31             9255.686              5223.702   \n2       2017-12-31             7749.556              5271.914   \n3       2018-12-31            22493.025             11724.432   \n4       2019-12-31            21791.225             14140.468   \n...            ...                  ...                   ...   \n1706    2017-12-31           640925.000             40794.000   \n1707    2018-12-31           725450.000             91325.000   \n1708    2019-12-31           651502.000             40236.000   \n1709    2020-12-31           770024.000             96982.000   \n1710    2021-12-31           733974.000             46890.000   \n\n      net_profitloss_attributable_to_equity_holders_of_the_parent  \\\n0                                              3131.438             \n1                                              3752.445             \n2                                              3976.657             \n3                                              9031.812             \n4                                             15218.158             \n...                                                 ...             \n1706                                          31137.000             \n1707                                          70684.000             \n1708                                          30791.000             \n1709                                          69584.000             \n1710                                          32175.000             \n\n      depreciation  cash_flow_from_operating_activities  \\\n0          479.143                             3600.039   \n1          635.822                             5357.262   \n2          367.638                             4117.506   \n3         1590.751                             4319.939   \n4         1843.751                             5013.209   \n...            ...                                  ...   \n1706     28418.000                            69027.000   \n1707     28672.000                            20399.000   \n1708     31722.000                           145523.000   \n1709     37321.000                             6740.000   \n1710     42311.000                            50929.000   \n\n      cash_flow_from_investing_activities  \\\n0                                -161.750   \n1                               -3043.810   \n2                               -3352.652   \n3                              -22251.450   \n4                               -3565.279   \n...                                   ...   \n1706                           -38611.000   \n1707                           -52414.000   \n1708                           -78807.000   \n1709                            85060.000   \n1710                           -65863.000   \n\n      cash_flow_from_financing_activities  total_assets  noncurrent_assets  \\\n0                                 386.591     33895.516           7073.215   \n1                                -305.956     45350.347           9489.996   \n2                                   0.000     48649.817          17173.693   \n3                               12600.000    109262.821          41316.893   \n4                                -414.282    155668.388          49815.126   \n...                                   ...           ...                ...   \n1706                           -16068.000   1778284.000         994505.000   \n1707                            -1149.000   1790063.000        1014534.000   \n1708                           -13101.000   2479535.000        1595330.000   \n1709                           -18936.000   2513606.000        1729256.000   \n1710                            30091.000   2508447.000        1726721.000   \n\n      ...  noncurrent_assets_change_1y  noncurrent_assets_change_2y  \\\n0     ...                     2416.781                    10100.478   \n1     ...                     2416.781                    10100.478   \n2     ...                     7683.697                    10100.478   \n3     ...                    24143.200                    31826.897   \n4     ...                     8498.233                    32641.433   \n...   ...                          ...                          ...   \n1706  ...                   -41905.000                  -344739.000   \n1707  ...                    20029.000                   -21876.000   \n1708  ...                   580796.000                   600825.000   \n1709  ...                   133926.000                   714722.000   \n1710  ...                    -2535.000                   131391.000   \n\n      current_assets_change_1y  current_assets_change_2y  \\\n0                     8356.291                  4653.823   \n1                     8356.291                  4653.823   \n2                    -3702.468                  4653.823   \n3                    36469.804                 32767.336   \n4                    37907.334                 74377.138   \n...                        ...                       ...   \n1706                 20611.000                104434.000   \n1707                 -8250.000                 12361.000   \n1708                108676.000                100426.000   \n1709                -99855.000                  8821.000   \n1710                 -2624.000               -102479.000   \n\n      total_liabilities_change_1y  total_liabilities_change_2y  \\\n0                        -907.472                    -1616.682   \n1                        -907.472                    -1616.682   \n2                        -709.210                    -1616.682   \n3                       16924.227                    16215.017   \n4                       16576.841                    33501.068   \n...                           ...                          ...   \n1706                    15087.000                  -158922.000   \n1707                  -137061.000                  -121974.000   \n1708                   816181.000                   679120.000   \n1709                    44596.000                   860777.000   \n1710                   -44169.000                      427.000   \n\n      current_liabilities_change_1y current_liabilities_change_2y  \\\n0                          -781.322                     -1809.118   \n1                          -781.322                     -1809.118   \n2                         -1027.796                     -1809.118   \n3                          5669.444                      4641.648   \n4                         17332.209                     23001.653   \n...                             ...                           ...   \n1706                      62460.000                   -655980.000   \n1707                     389248.000                    451708.000   \n1708                    -262546.000                    126702.000   \n1709                     -68358.000                   -330904.000   \n1710                    1086477.000                   1018119.000   \n\n     noncurrent_liabilities_change_1y  noncurrent_liabilities_change_2y  \n0                            -126.150                           192.436  \n1                            -126.150                           192.436  \n2                             318.586                           192.436  \n3                           11254.783                         11573.369  \n4                            -755.368                         10499.415  \n...                               ...                               ...  \n1706                       -47373.000                        497058.000  \n1707                      -526309.000                       -573682.000  \n1708                      1078727.000                        552418.000  \n1709                       112954.000                       1191681.000  \n1710                     -1130646.000                      -1017692.000  \n\n[1698 rows x 33 columns]",
      "text/html": "<div>\n<style scoped>\n    .dataframe tbody tr th:only-of-type {\n        vertical-align: middle;\n    }\n\n    .dataframe tbody tr th {\n        vertical-align: top;\n    }\n\n    .dataframe thead th {\n        text-align: right;\n    }\n</style>\n<table border=\"1\" class=\"dataframe\">\n  <thead>\n    <tr style=\"text-align: right;\">\n      <th></th>\n      <th>end_of_period</th>\n      <th>revenues_from_sales</th>\n      <th>operating_profitloss</th>\n      <th>net_profitloss_attributable_to_equity_holders_of_the_parent</th>\n      <th>depreciation</th>\n      <th>cash_flow_from_operating_activities</th>\n      <th>cash_flow_from_investing_activities</th>\n      <th>cash_flow_from_financing_activities</th>\n      <th>total_assets</th>\n      <th>noncurrent_assets</th>\n      <th>...</th>\n      <th>noncurrent_assets_change_1y</th>\n      <th>noncurrent_assets_change_2y</th>\n      <th>current_assets_change_1y</th>\n      <th>current_assets_change_2y</th>\n      <th>total_liabilities_change_1y</th>\n      <th>total_liabilities_change_2y</th>\n      <th>current_liabilities_change_1y</th>\n      <th>current_liabilities_change_2y</th>\n      <th>noncurrent_liabilities_change_1y</th>\n      <th>noncurrent_liabilities_change_2y</th>\n    </tr>\n  </thead>\n  <tbody>\n    <tr>\n      <th>0</th>\n      <td>2015-12-31</td>\n      <td>7118.055</td>\n      <td>3766.639</td>\n      <td>3131.438</td>\n      <td>479.143</td>\n      <td>3600.039</td>\n      <td>-161.750</td>\n      <td>386.591</td>\n      <td>33895.516</td>\n      <td>7073.215</td>\n      <td>...</td>\n      <td>2416.781</td>\n      <td>10100.478</td>\n      <td>8356.291</td>\n      <td>4653.823</td>\n      <td>-907.472</td>\n      <td>-1616.682</td>\n      <td>-781.322</td>\n      <td>-1809.118</td>\n      <td>-126.150</td>\n      <td>192.436</td>\n    </tr>\n    <tr>\n      <th>1</th>\n      <td>2016-12-31</td>\n      <td>9255.686</td>\n      <td>5223.702</td>\n      <td>3752.445</td>\n      <td>635.822</td>\n      <td>5357.262</td>\n      <td>-3043.810</td>\n      <td>-305.956</td>\n      <td>45350.347</td>\n      <td>9489.996</td>\n      <td>...</td>\n      <td>2416.781</td>\n      <td>10100.478</td>\n      <td>8356.291</td>\n      <td>4653.823</td>\n      <td>-907.472</td>\n      <td>-1616.682</td>\n      <td>-781.322</td>\n      <td>-1809.118</td>\n      <td>-126.150</td>\n      <td>192.436</td>\n    </tr>\n    <tr>\n      <th>2</th>\n      <td>2017-12-31</td>\n      <td>7749.556</td>\n      <td>5271.914</td>\n      <td>3976.657</td>\n      <td>367.638</td>\n      <td>4117.506</td>\n      <td>-3352.652</td>\n      <td>0.000</td>\n      <td>48649.817</td>\n      <td>17173.693</td>\n      <td>...</td>\n      <td>7683.697</td>\n      <td>10100.478</td>\n      <td>-3702.468</td>\n      <td>4653.823</td>\n      <td>-709.210</td>\n      <td>-1616.682</td>\n      <td>-1027.796</td>\n      <td>-1809.118</td>\n      <td>318.586</td>\n      <td>192.436</td>\n    </tr>\n    <tr>\n      <th>3</th>\n      <td>2018-12-31</td>\n      <td>22493.025</td>\n      <td>11724.432</td>\n      <td>9031.812</td>\n      <td>1590.751</td>\n      <td>4319.939</td>\n      <td>-22251.450</td>\n      <td>12600.000</td>\n      <td>109262.821</td>\n      <td>41316.893</td>\n      <td>...</td>\n      <td>24143.200</td>\n      <td>31826.897</td>\n      <td>36469.804</td>\n      <td>32767.336</td>\n      <td>16924.227</td>\n      <td>16215.017</td>\n      <td>5669.444</td>\n      <td>4641.648</td>\n      <td>11254.783</td>\n      <td>11573.369</td>\n    </tr>\n    <tr>\n      <th>4</th>\n      <td>2019-12-31</td>\n      <td>21791.225</td>\n      <td>14140.468</td>\n      <td>15218.158</td>\n      <td>1843.751</td>\n      <td>5013.209</td>\n      <td>-3565.279</td>\n      <td>-414.282</td>\n      <td>155668.388</td>\n      <td>49815.126</td>\n      <td>...</td>\n      <td>8498.233</td>\n      <td>32641.433</td>\n      <td>37907.334</td>\n      <td>74377.138</td>\n      <td>16576.841</td>\n      <td>33501.068</td>\n      <td>17332.209</td>\n      <td>23001.653</td>\n      <td>-755.368</td>\n      <td>10499.415</td>\n    </tr>\n    <tr>\n      <th>...</th>\n      <td>...</td>\n      <td>...</td>\n      <td>...</td>\n      <td>...</td>\n      <td>...</td>\n      <td>...</td>\n      <td>...</td>\n      <td>...</td>\n      <td>...</td>\n      <td>...</td>\n      <td>...</td>\n      <td>...</td>\n      <td>...</td>\n      <td>...</td>\n      <td>...</td>\n      <td>...</td>\n      <td>...</td>\n      <td>...</td>\n      <td>...</td>\n      <td>...</td>\n      <td>...</td>\n    </tr>\n    <tr>\n      <th>1706</th>\n      <td>2017-12-31</td>\n      <td>640925.000</td>\n      <td>40794.000</td>\n      <td>31137.000</td>\n      <td>28418.000</td>\n      <td>69027.000</td>\n      <td>-38611.000</td>\n      <td>-16068.000</td>\n      <td>1778284.000</td>\n      <td>994505.000</td>\n      <td>...</td>\n      <td>-41905.000</td>\n      <td>-344739.000</td>\n      <td>20611.000</td>\n      <td>104434.000</td>\n      <td>15087.000</td>\n      <td>-158922.000</td>\n      <td>62460.000</td>\n      <td>-655980.000</td>\n      <td>-47373.000</td>\n      <td>497058.000</td>\n    </tr>\n    <tr>\n      <th>1707</th>\n      <td>2018-12-31</td>\n      <td>725450.000</td>\n      <td>91325.000</td>\n      <td>70684.000</td>\n      <td>28672.000</td>\n      <td>20399.000</td>\n      <td>-52414.000</td>\n      <td>-1149.000</td>\n      <td>1790063.000</td>\n      <td>1014534.000</td>\n      <td>...</td>\n      <td>20029.000</td>\n      <td>-21876.000</td>\n      <td>-8250.000</td>\n      <td>12361.000</td>\n      <td>-137061.000</td>\n      <td>-121974.000</td>\n      <td>389248.000</td>\n      <td>451708.000</td>\n      <td>-526309.000</td>\n      <td>-573682.000</td>\n    </tr>\n    <tr>\n      <th>1708</th>\n      <td>2019-12-31</td>\n      <td>651502.000</td>\n      <td>40236.000</td>\n      <td>30791.000</td>\n      <td>31722.000</td>\n      <td>145523.000</td>\n      <td>-78807.000</td>\n      <td>-13101.000</td>\n      <td>2479535.000</td>\n      <td>1595330.000</td>\n      <td>...</td>\n      <td>580796.000</td>\n      <td>600825.000</td>\n      <td>108676.000</td>\n      <td>100426.000</td>\n      <td>816181.000</td>\n      <td>679120.000</td>\n      <td>-262546.000</td>\n      <td>126702.000</td>\n      <td>1078727.000</td>\n      <td>552418.000</td>\n    </tr>\n    <tr>\n      <th>1709</th>\n      <td>2020-12-31</td>\n      <td>770024.000</td>\n      <td>96982.000</td>\n      <td>69584.000</td>\n      <td>37321.000</td>\n      <td>6740.000</td>\n      <td>85060.000</td>\n      <td>-18936.000</td>\n      <td>2513606.000</td>\n      <td>1729256.000</td>\n      <td>...</td>\n      <td>133926.000</td>\n      <td>714722.000</td>\n      <td>-99855.000</td>\n      <td>8821.000</td>\n      <td>44596.000</td>\n      <td>860777.000</td>\n      <td>-68358.000</td>\n      <td>-330904.000</td>\n      <td>112954.000</td>\n      <td>1191681.000</td>\n    </tr>\n    <tr>\n      <th>1710</th>\n      <td>2021-12-31</td>\n      <td>733974.000</td>\n      <td>46890.000</td>\n      <td>32175.000</td>\n      <td>42311.000</td>\n      <td>50929.000</td>\n      <td>-65863.000</td>\n      <td>30091.000</td>\n      <td>2508447.000</td>\n      <td>1726721.000</td>\n      <td>...</td>\n      <td>-2535.000</td>\n      <td>131391.000</td>\n      <td>-2624.000</td>\n      <td>-102479.000</td>\n      <td>-44169.000</td>\n      <td>427.000</td>\n      <td>1086477.000</td>\n      <td>1018119.000</td>\n      <td>-1130646.000</td>\n      <td>-1017692.000</td>\n    </tr>\n  </tbody>\n</table>\n<p>1698 rows × 33 columns</p>\n</div>"
     },
     "execution_count": 103,
     "metadata": {},
     "output_type": "execute_result"
    }
   ],
   "source": [
    "nn_df"
   ],
   "metadata": {
    "collapsed": false,
    "ExecuteTime": {
     "end_time": "2024-05-18T16:28:50.464113800Z",
     "start_time": "2024-05-18T16:28:50.423519100Z"
    }
   },
   "id": "b3a8331c9a83d39d",
   "execution_count": 103
  },
  {
   "cell_type": "code",
   "outputs": [],
   "source": [
    "nn_df.to_csv(\"../data/nn_data/nn_df.csv\", index=False)"
   ],
   "metadata": {
    "collapsed": false,
    "ExecuteTime": {
     "end_time": "2024-05-18T16:28:50.490880100Z",
     "start_time": "2024-05-18T16:28:50.440243600Z"
    }
   },
   "id": "aaa3c986cf9155a6",
   "execution_count": 104
  },
  {
   "cell_type": "code",
   "outputs": [
    {
     "data": {
      "text/plain": "     end_of_period  revenues_from_sales  operating_profitloss  \\\n0       2015-12-31             7118.055              3766.639   \n1       2016-12-31             9255.686              5223.702   \n2       2017-12-31             7749.556              5271.914   \n3       2018-12-31            22493.025             11724.432   \n4       2019-12-31            21791.225             14140.468   \n...            ...                  ...                   ...   \n1706    2017-12-31           640925.000             40794.000   \n1707    2018-12-31           725450.000             91325.000   \n1708    2019-12-31           651502.000             40236.000   \n1709    2020-12-31           770024.000             96982.000   \n1710    2021-12-31           733974.000             46890.000   \n\n      net_profitloss_attributable_to_equity_holders_of_the_parent  \\\n0                                              3131.438             \n1                                              3752.445             \n2                                              3976.657             \n3                                              9031.812             \n4                                             15218.158             \n...                                                 ...             \n1706                                          31137.000             \n1707                                          70684.000             \n1708                                          30791.000             \n1709                                          69584.000             \n1710                                          32175.000             \n\n      depreciation  cash_flow_from_operating_activities  \\\n0          479.143                             3600.039   \n1          635.822                             5357.262   \n2          367.638                             4117.506   \n3         1590.751                             4319.939   \n4         1843.751                             5013.209   \n...            ...                                  ...   \n1706     28418.000                            69027.000   \n1707     28672.000                            20399.000   \n1708     31722.000                           145523.000   \n1709     37321.000                             6740.000   \n1710     42311.000                            50929.000   \n\n      cash_flow_from_investing_activities  \\\n0                                -161.750   \n1                               -3043.810   \n2                               -3352.652   \n3                              -22251.450   \n4                               -3565.279   \n...                                   ...   \n1706                           -38611.000   \n1707                           -52414.000   \n1708                           -78807.000   \n1709                            85060.000   \n1710                           -65863.000   \n\n      cash_flow_from_financing_activities  total_assets  noncurrent_assets  \\\n0                                 386.591     33895.516           7073.215   \n1                                -305.956     45350.347           9489.996   \n2                                   0.000     48649.817          17173.693   \n3                               12600.000    109262.821          41316.893   \n4                                -414.282    155668.388          49815.126   \n...                                   ...           ...                ...   \n1706                           -16068.000   1778284.000         994505.000   \n1707                            -1149.000   1790063.000        1014534.000   \n1708                           -13101.000   2479535.000        1595330.000   \n1709                           -18936.000   2513606.000        1729256.000   \n1710                            30091.000   2508447.000        1726721.000   \n\n      ...  noncurrent_assets_change_1y  noncurrent_assets_change_2y  \\\n0     ...                     2416.781                    10100.478   \n1     ...                     2416.781                    10100.478   \n2     ...                     7683.697                    10100.478   \n3     ...                    24143.200                    31826.897   \n4     ...                     8498.233                    32641.433   \n...   ...                          ...                          ...   \n1706  ...                   -41905.000                  -344739.000   \n1707  ...                    20029.000                   -21876.000   \n1708  ...                   580796.000                   600825.000   \n1709  ...                   133926.000                   714722.000   \n1710  ...                    -2535.000                   131391.000   \n\n      current_assets_change_1y  current_assets_change_2y  \\\n0                     8356.291                  4653.823   \n1                     8356.291                  4653.823   \n2                    -3702.468                  4653.823   \n3                    36469.804                 32767.336   \n4                    37907.334                 74377.138   \n...                        ...                       ...   \n1706                 20611.000                104434.000   \n1707                 -8250.000                 12361.000   \n1708                108676.000                100426.000   \n1709                -99855.000                  8821.000   \n1710                 -2624.000               -102479.000   \n\n      total_liabilities_change_1y  total_liabilities_change_2y  \\\n0                        -907.472                    -1616.682   \n1                        -907.472                    -1616.682   \n2                        -709.210                    -1616.682   \n3                       16924.227                    16215.017   \n4                       16576.841                    33501.068   \n...                           ...                          ...   \n1706                    15087.000                  -158922.000   \n1707                  -137061.000                  -121974.000   \n1708                   816181.000                   679120.000   \n1709                    44596.000                   860777.000   \n1710                   -44169.000                      427.000   \n\n      current_liabilities_change_1y current_liabilities_change_2y  \\\n0                          -781.322                     -1809.118   \n1                          -781.322                     -1809.118   \n2                         -1027.796                     -1809.118   \n3                          5669.444                      4641.648   \n4                         17332.209                     23001.653   \n...                             ...                           ...   \n1706                      62460.000                   -655980.000   \n1707                     389248.000                    451708.000   \n1708                    -262546.000                    126702.000   \n1709                     -68358.000                   -330904.000   \n1710                    1086477.000                   1018119.000   \n\n     noncurrent_liabilities_change_1y  noncurrent_liabilities_change_2y  \n0                            -126.150                           192.436  \n1                            -126.150                           192.436  \n2                             318.586                           192.436  \n3                           11254.783                         11573.369  \n4                            -755.368                         10499.415  \n...                               ...                               ...  \n1706                       -47373.000                        497058.000  \n1707                      -526309.000                       -573682.000  \n1708                      1078727.000                        552418.000  \n1709                       112954.000                       1191681.000  \n1710                     -1130646.000                      -1017692.000  \n\n[1698 rows x 33 columns]",
      "text/html": "<div>\n<style scoped>\n    .dataframe tbody tr th:only-of-type {\n        vertical-align: middle;\n    }\n\n    .dataframe tbody tr th {\n        vertical-align: top;\n    }\n\n    .dataframe thead th {\n        text-align: right;\n    }\n</style>\n<table border=\"1\" class=\"dataframe\">\n  <thead>\n    <tr style=\"text-align: right;\">\n      <th></th>\n      <th>end_of_period</th>\n      <th>revenues_from_sales</th>\n      <th>operating_profitloss</th>\n      <th>net_profitloss_attributable_to_equity_holders_of_the_parent</th>\n      <th>depreciation</th>\n      <th>cash_flow_from_operating_activities</th>\n      <th>cash_flow_from_investing_activities</th>\n      <th>cash_flow_from_financing_activities</th>\n      <th>total_assets</th>\n      <th>noncurrent_assets</th>\n      <th>...</th>\n      <th>noncurrent_assets_change_1y</th>\n      <th>noncurrent_assets_change_2y</th>\n      <th>current_assets_change_1y</th>\n      <th>current_assets_change_2y</th>\n      <th>total_liabilities_change_1y</th>\n      <th>total_liabilities_change_2y</th>\n      <th>current_liabilities_change_1y</th>\n      <th>current_liabilities_change_2y</th>\n      <th>noncurrent_liabilities_change_1y</th>\n      <th>noncurrent_liabilities_change_2y</th>\n    </tr>\n  </thead>\n  <tbody>\n    <tr>\n      <th>0</th>\n      <td>2015-12-31</td>\n      <td>7118.055</td>\n      <td>3766.639</td>\n      <td>3131.438</td>\n      <td>479.143</td>\n      <td>3600.039</td>\n      <td>-161.750</td>\n      <td>386.591</td>\n      <td>33895.516</td>\n      <td>7073.215</td>\n      <td>...</td>\n      <td>2416.781</td>\n      <td>10100.478</td>\n      <td>8356.291</td>\n      <td>4653.823</td>\n      <td>-907.472</td>\n      <td>-1616.682</td>\n      <td>-781.322</td>\n      <td>-1809.118</td>\n      <td>-126.150</td>\n      <td>192.436</td>\n    </tr>\n    <tr>\n      <th>1</th>\n      <td>2016-12-31</td>\n      <td>9255.686</td>\n      <td>5223.702</td>\n      <td>3752.445</td>\n      <td>635.822</td>\n      <td>5357.262</td>\n      <td>-3043.810</td>\n      <td>-305.956</td>\n      <td>45350.347</td>\n      <td>9489.996</td>\n      <td>...</td>\n      <td>2416.781</td>\n      <td>10100.478</td>\n      <td>8356.291</td>\n      <td>4653.823</td>\n      <td>-907.472</td>\n      <td>-1616.682</td>\n      <td>-781.322</td>\n      <td>-1809.118</td>\n      <td>-126.150</td>\n      <td>192.436</td>\n    </tr>\n    <tr>\n      <th>2</th>\n      <td>2017-12-31</td>\n      <td>7749.556</td>\n      <td>5271.914</td>\n      <td>3976.657</td>\n      <td>367.638</td>\n      <td>4117.506</td>\n      <td>-3352.652</td>\n      <td>0.000</td>\n      <td>48649.817</td>\n      <td>17173.693</td>\n      <td>...</td>\n      <td>7683.697</td>\n      <td>10100.478</td>\n      <td>-3702.468</td>\n      <td>4653.823</td>\n      <td>-709.210</td>\n      <td>-1616.682</td>\n      <td>-1027.796</td>\n      <td>-1809.118</td>\n      <td>318.586</td>\n      <td>192.436</td>\n    </tr>\n    <tr>\n      <th>3</th>\n      <td>2018-12-31</td>\n      <td>22493.025</td>\n      <td>11724.432</td>\n      <td>9031.812</td>\n      <td>1590.751</td>\n      <td>4319.939</td>\n      <td>-22251.450</td>\n      <td>12600.000</td>\n      <td>109262.821</td>\n      <td>41316.893</td>\n      <td>...</td>\n      <td>24143.200</td>\n      <td>31826.897</td>\n      <td>36469.804</td>\n      <td>32767.336</td>\n      <td>16924.227</td>\n      <td>16215.017</td>\n      <td>5669.444</td>\n      <td>4641.648</td>\n      <td>11254.783</td>\n      <td>11573.369</td>\n    </tr>\n    <tr>\n      <th>4</th>\n      <td>2019-12-31</td>\n      <td>21791.225</td>\n      <td>14140.468</td>\n      <td>15218.158</td>\n      <td>1843.751</td>\n      <td>5013.209</td>\n      <td>-3565.279</td>\n      <td>-414.282</td>\n      <td>155668.388</td>\n      <td>49815.126</td>\n      <td>...</td>\n      <td>8498.233</td>\n      <td>32641.433</td>\n      <td>37907.334</td>\n      <td>74377.138</td>\n      <td>16576.841</td>\n      <td>33501.068</td>\n      <td>17332.209</td>\n      <td>23001.653</td>\n      <td>-755.368</td>\n      <td>10499.415</td>\n    </tr>\n    <tr>\n      <th>...</th>\n      <td>...</td>\n      <td>...</td>\n      <td>...</td>\n      <td>...</td>\n      <td>...</td>\n      <td>...</td>\n      <td>...</td>\n      <td>...</td>\n      <td>...</td>\n      <td>...</td>\n      <td>...</td>\n      <td>...</td>\n      <td>...</td>\n      <td>...</td>\n      <td>...</td>\n      <td>...</td>\n      <td>...</td>\n      <td>...</td>\n      <td>...</td>\n      <td>...</td>\n      <td>...</td>\n    </tr>\n    <tr>\n      <th>1706</th>\n      <td>2017-12-31</td>\n      <td>640925.000</td>\n      <td>40794.000</td>\n      <td>31137.000</td>\n      <td>28418.000</td>\n      <td>69027.000</td>\n      <td>-38611.000</td>\n      <td>-16068.000</td>\n      <td>1778284.000</td>\n      <td>994505.000</td>\n      <td>...</td>\n      <td>-41905.000</td>\n      <td>-344739.000</td>\n      <td>20611.000</td>\n      <td>104434.000</td>\n      <td>15087.000</td>\n      <td>-158922.000</td>\n      <td>62460.000</td>\n      <td>-655980.000</td>\n      <td>-47373.000</td>\n      <td>497058.000</td>\n    </tr>\n    <tr>\n      <th>1707</th>\n      <td>2018-12-31</td>\n      <td>725450.000</td>\n      <td>91325.000</td>\n      <td>70684.000</td>\n      <td>28672.000</td>\n      <td>20399.000</td>\n      <td>-52414.000</td>\n      <td>-1149.000</td>\n      <td>1790063.000</td>\n      <td>1014534.000</td>\n      <td>...</td>\n      <td>20029.000</td>\n      <td>-21876.000</td>\n      <td>-8250.000</td>\n      <td>12361.000</td>\n      <td>-137061.000</td>\n      <td>-121974.000</td>\n      <td>389248.000</td>\n      <td>451708.000</td>\n      <td>-526309.000</td>\n      <td>-573682.000</td>\n    </tr>\n    <tr>\n      <th>1708</th>\n      <td>2019-12-31</td>\n      <td>651502.000</td>\n      <td>40236.000</td>\n      <td>30791.000</td>\n      <td>31722.000</td>\n      <td>145523.000</td>\n      <td>-78807.000</td>\n      <td>-13101.000</td>\n      <td>2479535.000</td>\n      <td>1595330.000</td>\n      <td>...</td>\n      <td>580796.000</td>\n      <td>600825.000</td>\n      <td>108676.000</td>\n      <td>100426.000</td>\n      <td>816181.000</td>\n      <td>679120.000</td>\n      <td>-262546.000</td>\n      <td>126702.000</td>\n      <td>1078727.000</td>\n      <td>552418.000</td>\n    </tr>\n    <tr>\n      <th>1709</th>\n      <td>2020-12-31</td>\n      <td>770024.000</td>\n      <td>96982.000</td>\n      <td>69584.000</td>\n      <td>37321.000</td>\n      <td>6740.000</td>\n      <td>85060.000</td>\n      <td>-18936.000</td>\n      <td>2513606.000</td>\n      <td>1729256.000</td>\n      <td>...</td>\n      <td>133926.000</td>\n      <td>714722.000</td>\n      <td>-99855.000</td>\n      <td>8821.000</td>\n      <td>44596.000</td>\n      <td>860777.000</td>\n      <td>-68358.000</td>\n      <td>-330904.000</td>\n      <td>112954.000</td>\n      <td>1191681.000</td>\n    </tr>\n    <tr>\n      <th>1710</th>\n      <td>2021-12-31</td>\n      <td>733974.000</td>\n      <td>46890.000</td>\n      <td>32175.000</td>\n      <td>42311.000</td>\n      <td>50929.000</td>\n      <td>-65863.000</td>\n      <td>30091.000</td>\n      <td>2508447.000</td>\n      <td>1726721.000</td>\n      <td>...</td>\n      <td>-2535.000</td>\n      <td>131391.000</td>\n      <td>-2624.000</td>\n      <td>-102479.000</td>\n      <td>-44169.000</td>\n      <td>427.000</td>\n      <td>1086477.000</td>\n      <td>1018119.000</td>\n      <td>-1130646.000</td>\n      <td>-1017692.000</td>\n    </tr>\n  </tbody>\n</table>\n<p>1698 rows × 33 columns</p>\n</div>"
     },
     "execution_count": 106,
     "metadata": {},
     "output_type": "execute_result"
    }
   ],
   "source": [
    "# MINI DATAFRAME\n",
    "mini_df\n",
    "\n"
   ],
   "metadata": {
    "collapsed": false,
    "ExecuteTime": {
     "end_time": "2024-05-18T16:29:14.184278900Z",
     "start_time": "2024-05-18T16:29:14.161716100Z"
    }
   },
   "id": "7ffa045a8ef92476",
   "execution_count": 106
  },
  {
   "cell_type": "code",
   "outputs": [],
   "source": [
    "# mini_df_fill ="
   ],
   "metadata": {
    "collapsed": false,
    "ExecuteTime": {
     "end_time": "2024-05-18T16:28:50.509879100Z",
     "start_time": "2024-05-18T16:28:50.484366700Z"
    }
   },
   "id": "2971e07658df4cf6",
   "execution_count": 105
  }
 ],
 "metadata": {
  "kernelspec": {
   "display_name": "Python 3",
   "language": "python",
   "name": "python3"
  },
  "language_info": {
   "codemirror_mode": {
    "name": "ipython",
    "version": 2
   },
   "file_extension": ".py",
   "mimetype": "text/x-python",
   "name": "python",
   "nbconvert_exporter": "python",
   "pygments_lexer": "ipython2",
   "version": "2.7.6"
  }
 },
 "nbformat": 4,
 "nbformat_minor": 5
}
