{
 "cells": [
  {
   "cell_type": "code",
   "execution_count": 1,
   "id": "initial_id",
   "metadata": {
    "collapsed": true,
    "ExecuteTime": {
     "end_time": "2024-05-24T07:10:48.940132500Z",
     "start_time": "2024-05-24T07:10:48.443679900Z"
    }
   },
   "outputs": [],
   "source": [
    "import os\n",
    "import pandas as pd\n",
    "import sqlite3"
   ]
  },
  {
   "cell_type": "code",
   "execution_count": 2,
   "outputs": [],
   "source": [
    "directory_path = 'wse stocks/'\n",
    "columns = [\"TICKER\", \"PER\", \"DATE\", \"TIME\", \"OPEN\", \"HIGH\", \"LOW\", \"CLOSE\", \"VOL\", \"OPENINT\"]\n",
    "all_dfs = []"
   ],
   "metadata": {
    "collapsed": false,
    "ExecuteTime": {
     "end_time": "2024-05-24T07:10:48.947172500Z",
     "start_time": "2024-05-24T07:10:48.938826500Z"
    }
   },
   "id": "4802ff8c232adbfa"
  },
  {
   "cell_type": "code",
   "execution_count": 3,
   "outputs": [],
   "source": [
    "# only create financial_data.db\n",
    "for filename in os.listdir(directory_path):\n",
    "    if filename.endswith('.txt'):\n",
    "        file_path = os.path.join(directory_path, filename)\n",
    "        try:\n",
    "            temp_df = pd.read_csv(file_path, delimiter=',')  \n",
    "            if temp_df.shape[1] == len(columns):\n",
    "                temp_df.columns = columns  \n",
    "                all_dfs.append(temp_df)  \n",
    "            else:\n",
    "                print(f'File {file_path} does not match the expected number of columns.')\n",
    "        except Exception as e:\n",
    "            pass\n",
    "\n",
    "combined_df = pd.concat(all_dfs, ignore_index=True)\n",
    "combined_df['DATE'] = pd.to_datetime(combined_df['DATE'], format='%Y%m%d').dt.strftime('%Y-%m-%d')\n",
    "sqlite_db_path = 'data/financial_data.db'\n",
    "conn = sqlite3.connect(sqlite_db_path)\n",
    "table_name = 'stock_data'\n",
    "combined_df.to_sql(table_name, conn, if_exists='replace', index=False)\n",
    "conn.close()"
   ],
   "metadata": {
    "collapsed": false,
    "ExecuteTime": {
     "end_time": "2024-05-24T07:10:54.732693600Z",
     "start_time": "2024-05-24T07:10:48.942458800Z"
    }
   },
   "id": "37e3189e4a7ddf36"
  },
  {
   "cell_type": "code",
   "execution_count": 4,
   "outputs": [],
   "source": [
    "# only create combined_data.csv\n",
    "for filename in os.listdir(directory_path):\n",
    "    if filename.endswith('.txt'):\n",
    "        file_path = os.path.join(directory_path, filename)\n",
    "        try:\n",
    "            temp_df = pd.read_csv(file_path, delimiter=',')\n",
    "            if temp_df.shape[1] == len(columns):\n",
    "                temp_df.columns = columns  \n",
    "                all_dfs.append(temp_df)  \n",
    "            else:\n",
    "                print(f'File {file_path} does not match the expected number of columns.')\n",
    "        except Exception as e:\n",
    "            pass\n",
    "\n",
    "combined_df = pd.concat(all_dfs, ignore_index=True)\n",
    "combined_df['DATE'] = pd.to_datetime(combined_df['DATE'], format='%Y%m%d').dt.strftime('%Y-%m-%d')\n",
    "output_file_path = 'stooq_data.csv'\n",
    "combined_df.to_csv(output_file_path, index=False)"
   ],
   "metadata": {
    "collapsed": false,
    "ExecuteTime": {
     "end_time": "2024-05-24T07:11:07.232123Z",
     "start_time": "2024-05-24T07:10:54.733695700Z"
    }
   },
   "id": "362ee84b411a180c"
  }
 ],
 "metadata": {
  "kernelspec": {
   "display_name": "Python 3",
   "language": "python",
   "name": "python3"
  },
  "language_info": {
   "codemirror_mode": {
    "name": "ipython",
    "version": 2
   },
   "file_extension": ".py",
   "mimetype": "text/x-python",
   "name": "python",
   "nbconvert_exporter": "python",
   "pygments_lexer": "ipython2",
   "version": "2.7.6"
  }
 },
 "nbformat": 4,
 "nbformat_minor": 5
}
