{
 "cells": [
  {
   "cell_type": "code",
   "execution_count": 35,
   "id": "initial_id",
   "metadata": {
    "collapsed": true,
    "ExecuteTime": {
     "end_time": "2024-05-17T23:51:58.126810Z",
     "start_time": "2024-05-17T23:51:57.176632Z"
    }
   },
   "outputs": [],
   "source": [
    "import os\n",
    "import pandas as pd\n",
    "import numpy as np"
   ]
  },
  {
   "cell_type": "code",
   "outputs": [],
   "source": [
    "# FULL DF\n",
    "full_row_ranges = [\n",
    "    range(290, 293+1),  # Current financial liabilities, Non-current financial liabilities, Financial liabilities (total)\n",
    "    range(278, 283+1),  # Return on equity (ROE), Return on assets (ROA), Leverage (EM), Asset utilization (AU)\n",
    "    range(260, 275+1),  # Working capital ratio, Current ratio, Quick ratio, Cash ratio, Receivables turnover, Inventory turnover, The operating cycle, Rotation commitments, Cash conversion cycle, Rotation assets, Rotation of assets, Assets ratio, Debt ratio, Debt service ratio, Rate debt security\n",
    "    range(29, 59+1),    # ASSETS, Non-current assets, Property, plant and equipment, Exploration for and evaluation of mineral resources, Intangible assets, Goodwill, Investment property, Right-of-use assets, Investment in affiliates, Non-current financial assets, Non-current loans and receivables, Deferred income tax, Non-current deferred charges and accruals, Non-current derivative instruments, Other non-current assets, Current assets, Inventories, Current intangible assets, Biological assets, Trade receivables, Loans and other receivables, Financial assets, Cash and cash equivalents, Accruals, Assets from current tax, Derivative instruments, Other assets, Assets held for sale and discontinuing operations, Called up capital, Own shares\n",
    "    range(60, 93+1),    # EQUITY & LIABILITIES, Equity shareholders of the parent, Share capital, Called up share capital, Treasury shares, Supplementary capital, Valuation and exchange differences, Other capitals, Retained earnings / accumulated losses, Non-controlling interests, Non-current liabilities, Non-current liabilities from derivatives, Non-current loans and borrowings, Non-current liabilities from bonds, Non-current liabilities from finance leases, Non-current trade payables, Long-term provision for employee benefits, Deferred tax liabilities, Non-current provision, Other non-current liabilities, Non-current accruals (liability), Current liabilities, Liabilities from derivatives, Financial liabilities (loans and borrowings), Bond liabilities, Liabilities from finance leases, Trade payables, Employee benefits, Current tax liabilities, Provisions, Other liabilities, Accruals (liability), Liabilities related to assets held for sale and discontinued operations\n",
    "    range(2, 22+1),     # End of period, Revenues from sales, Operating profit/loss, Net profit/loss attributable to equity holders of the parent, Total comprehensive income attributable to equity holders, Depreciation, Cash flow from operating activities, Cash flow from investing activities, Cash flow from financing activities, Non-current assets, Current assets, Equity shareholders of the parent, Non-current liabilities, Current liabilities, Number of shares (‘000), Earnings per share, Total comprehensive income per share, Book value per share\n",
    "]"
   ],
   "metadata": {
    "collapsed": false,
    "ExecuteTime": {
     "end_time": "2024-05-17T23:51:58.138396Z",
     "start_time": "2024-05-17T23:51:57.186817Z"
    }
   },
   "id": "12639b15300b0982",
   "execution_count": 36
  },
  {
   "cell_type": "markdown",
   "source": [
    "# PREPARATION"
   ],
   "metadata": {
    "collapsed": false
   },
   "id": "48e206f2cd52144a"
  },
  {
   "cell_type": "code",
   "outputs": [],
   "source": [
    "FOLDER_PATH = 'data/'"
   ],
   "metadata": {
    "collapsed": false,
    "ExecuteTime": {
     "end_time": "2024-05-17T23:51:58.138714Z",
     "start_time": "2024-05-17T23:51:57.193319Z"
    }
   },
   "id": "eeac026c30c7da7b",
   "execution_count": 37
  },
  {
   "cell_type": "code",
   "outputs": [
    {
     "name": "stdout",
     "output_type": "stream",
     "text": [
      "Folder exists. Proceeding with file processing.\n"
     ]
    }
   ],
   "source": [
    "if os.path.exists(FOLDER_PATH):\n",
    "    print(\"Folder exists. Proceeding with file processing.\")\n",
    "else:\n",
    "    print(\"Folder does not exist. Check the path.\")"
   ],
   "metadata": {
    "collapsed": false,
    "ExecuteTime": {
     "end_time": "2024-05-17T23:51:58.139106Z",
     "start_time": "2024-05-17T23:51:57.207242Z"
    }
   },
   "id": "541b11aa6b71dac8",
   "execution_count": 38
  },
  {
   "cell_type": "code",
   "outputs": [
    {
     "name": "stdout",
     "output_type": "stream",
     "text": [
      "Files in folder: 349.\n"
     ]
    }
   ],
   "source": [
    "def count_files_in_folder(folder_path):\n",
    "    file_count = 0\n",
    "\n",
    "    for entry in os.listdir(folder_path):\n",
    "        full_path = os.path.join(folder_path, entry)\n",
    "        if os.path.isfile(full_path):\n",
    "            file_count += 1\n",
    "    \n",
    "    return file_count\n",
    "\n",
    "print(f\"Files in folder: {count_files_in_folder(FOLDER_PATH)}.\")"
   ],
   "metadata": {
    "collapsed": false,
    "ExecuteTime": {
     "end_time": "2024-05-17T23:51:58.140043Z",
     "start_time": "2024-05-17T23:51:57.225689Z"
    }
   },
   "id": "c9d965a5de138944",
   "execution_count": 39
  },
  {
   "cell_type": "markdown",
   "source": [
    "# 'INFO' DATA"
   ],
   "metadata": {
    "collapsed": false
   },
   "id": "7003e2aef6780047"
  },
  {
   "cell_type": "code",
   "outputs": [],
   "source": [
    "def process_company_sector(folder_path):\n",
    "    results = []\n",
    "\n",
    "    for filename in os.listdir(folder_path):\n",
    "        if filename.endswith('.xlsx'):\n",
    "            file_path = os.path.join(folder_path, filename)\n",
    "            try:\n",
    "                with pd.ExcelFile(file_path) as xls:\n",
    "                    company_name = pd.read_excel(xls, 'Info', usecols=\"B\", skiprows=1, nrows=1).values[0][0]\n",
    "                    sector = pd.read_excel(xls, 'Info', usecols=\"E\", skiprows=19, nrows=1).values[0][0]\n",
    "                    ticker = pd.read_excel(xls, 'Info', usecols=\"B\", skiprows=11, nrows=1).values[0][0]\n",
    "                \n",
    "                result = {\n",
    "                    'filename': filename,\n",
    "                    'Company Name': company_name,\n",
    "                    'Sector': sector,\n",
    "                    'Ticker': ticker\n",
    "                }\n",
    "                results.append(result)\n",
    "                \n",
    "                print(f\"The data from {filename} has been processed.\")\n",
    "            except Exception as e:\n",
    "                print(f\"Error processing file {filename}: {e}\")\n",
    "\n",
    "    results_df = pd.DataFrame(results)\n",
    "    return results_df"
   ],
   "metadata": {
    "collapsed": false,
    "ExecuteTime": {
     "end_time": "2024-05-17T23:51:58.140392Z",
     "start_time": "2024-05-17T23:51:57.239933Z"
    }
   },
   "id": "9f3ef90c6578f28c",
   "execution_count": 40
  },
  {
   "cell_type": "code",
   "outputs": [
    {
     "name": "stdout",
     "output_type": "stream",
     "text": [
      "The data from PKNORLEN.xlsx has been processed.\n",
      "The data from ENERGOAP.xlsx has been processed.\n",
      "The data from RELPOL.xlsx has been processed.\n",
      "The data from ATREM.xlsx has been processed.\n",
      "The data from DOMDEVEL.xlsx has been processed.\n",
      "The data from ZUE.xlsx has been processed.\n",
      "The data from FEERUM.xlsx has been processed.\n",
      "The data from PRIMAMOD.xlsx has been processed.\n",
      "The data from ASMGROUP.xlsx has been processed.\n",
      "The data from KORBUDOM.xlsx has been processed.\n",
      "The data from HUUUGE.xlsx has been processed.\n",
      "The data from BUDIMEX.xlsx has been processed.\n",
      "The data from RYVU.xlsx has been processed.\n",
      "The data from IMCSA.xlsx has been processed.\n",
      "The data from DEBICA.xlsx has been processed.\n",
      "The data from LOTOS.xlsx has been processed.\n",
      "The data from PHOTON.xlsx has been processed.\n",
      "The data from AIRWAY.xlsx has been processed.\n",
      "The data from BOOMBIT.xlsx has been processed.\n",
      "The data from NANOGROUP.xlsx has been processed.\n",
      "The data from HELIO.xlsx has been processed.\n",
      "The data from TBULL.xlsx has been processed.\n",
      "The data from TOYA.xlsx has been processed.\n",
      "The data from SUNEX.xlsx has been processed.\n",
      "The data from MOJ.xlsx has been processed.\n",
      "The data from INTERFER.xlsx has been processed.\n",
      "The data from RONSON.xlsx has been processed.\n",
      "The data from EFEKT.xlsx has been processed.\n",
      "The data from CDPROJEK.xlsx has been processed.\n",
      "The data from ASTARTA.xlsx has been processed.\n",
      "The data from CDRL.xlsx has been processed.\n",
      "The data from NEXITY.xlsx has been processed.\n",
      "The data from SANWIL.xlsx has been processed.\n",
      "The data from KRVITAMI.xlsx has been processed.\n",
      "The data from TXM.xlsx has been processed.\n",
      "The data from DROZAPOL.xlsx has been processed.\n",
      "The data from MOLECURE.xlsx has been processed.\n",
      "The data from IFSA.xlsx has been processed.\n",
      "The data from RAWLPLUG.xlsx has been processed.\n",
      "The data from DADELO.xlsx has been processed.\n",
      "The data from BIOPLAN.xlsx has been processed.\n",
      "The data from ENEFI.xlsx has been processed.\n",
      "The data from PEKABEX.xlsx has been processed.\n",
      "The data from DIGITANET.xlsx has been processed.\n",
      "The data from VISTAL.xlsx has been processed.\n",
      "The data from IZOL_JAR.xlsx has been processed.\n",
      "The data from ZPC_OTM.xlsx has been processed.\n",
      "The data from MLSYSTEM.xlsx has been processed.\n",
      "The data from JSW.xlsx has been processed.\n",
      "The data from DINOPL.xlsx has been processed.\n",
      "The data from INSTAL_K.xlsx has been processed.\n",
      "The data from BERLING.xlsx has been processed.\n",
      "The data from VERCOM.xlsx has been processed.\n",
      "The data from PRIMETECH.xlsx has been processed.\n",
      "The data from PCFGROUP.xlsx has been processed.\n",
      "The data from TRANSPOL.xlsx has been processed.\n",
      "The data from KOMPAP.xlsx has been processed.\n",
      "The data from BMW.xlsx has been processed.\n",
      "The data from PHARMENA.xlsx has been processed.\n",
      "The data from REMAK.xlsx has been processed.\n",
      "The data from ERBUD.xlsx has been processed.\n",
      "The data from STSHOLDING.xlsx has been processed.\n",
      "The data from INTERMED.xlsx has been processed.\n",
      "The data from MONNARI.xlsx has been processed.\n",
      "The data from IZOBLOK.xlsx has been processed.\n",
      "The data from PMPG.xlsx has been processed.\n",
      "The data from WASKO.xlsx has been processed.\n",
      "The data from SOPHARM.xlsx has been processed.\n",
      "The data from SFINKS.xlsx has been processed.\n",
      "The data from LESS.xlsx has been processed.\n",
      "The data from POLTREG.xlsx has been processed.\n",
      "The data from INTROL.xlsx has been processed.\n",
      "The data from LIBET.xlsx has been processed.\n",
      "The data from SELENAFM.xlsx has been processed.\n",
      "The data from K2HOLDING.xlsx has been processed.\n",
      "The data from VIGOPHOTN.xlsx has been processed.\n",
      "The data from AMREST.xlsx has been processed.\n",
      "The data from BORYSZEW.xlsx has been processed.\n",
      "The data from GOBARTO.xlsx has been processed.\n",
      "The data from BOWIM.xlsx has been processed.\n",
      "The data from PAK.xlsx has been processed.\n",
      "The data from WIELTON.xlsx has been processed.\n",
      "The data from SECOWAR.xlsx has been processed.\n",
      "The data from SWISSMED.xlsx has been processed.\n",
      "The data from R22.xlsx has been processed.\n",
      "The data from ENEA.xlsx has been processed.\n",
      "The data from ZPUE.xlsx has been processed.\n",
      "The data from MASTERPH.xlsx has been processed.\n",
      "The data from LARK.xlsx has been processed.\n",
      "The data from EKO_EXP.xlsx has been processed.\n",
      "The data from MERCATOR.xlsx has been processed.\n",
      "The data from RAFAMET.xlsx has been processed.\n",
      "The data from ORANGEPL.xlsx has been processed.\n",
      "The data from BENEFIT.xlsx has been processed.\n",
      "The data from ULMA.xlsx has been processed.\n",
      "The data from 3LPSA.xlsx has been processed.\n",
      "The data from ELEKTROT.xlsx has been processed.\n",
      "The data from ZAMET.xlsx has been processed.\n",
      "The data from BOGDANKA.xlsx has been processed.\n",
      "The data from KRKA.xlsx has been processed.\n",
      "The data from SNIEZKA.xlsx has been processed.\n",
      "The data from MOL.xlsx has been processed.\n",
      "The data from SIMFABRIC.xlsx has been processed.\n",
      "The data from SILVANO.xlsx has been processed.\n",
      "The data from OPTEAM.xlsx has been processed.\n",
      "The data from LIVECHAT.xlsx has been processed.\n",
      "The data from UFGAMES.xlsx has been processed.\n",
      "The data from ASSECOBS.xlsx has been processed.\n",
      "The data from ATLANTA.xlsx has been processed.\n",
      "The data from KCI.xlsx has been processed.\n",
      "The data from MDIENERG.xlsx has been processed.\n",
      "The data from QUANTUM.xlsx has been processed.\n",
      "The data from POLICE.xlsx has been processed.\n",
      "The data from PC_GUARD.xlsx has been processed.\n",
      "The data from PCCROKIT.xlsx has been processed.\n",
      "The data from MANGATA.xlsx has been processed.\n",
      "The data from TORPOL.xlsx has been processed.\n",
      "The data from CREOTECH.xlsx has been processed.\n",
      "The data from ATMG.xlsx has been processed.\n",
      "The data from WAWEL.xlsx has been processed.\n",
      "The data from WOJAS.xlsx has been processed.\n",
      "The data from STALPROD.xlsx has been processed.\n",
      "The data from 11BIT.xlsx has been processed.\n",
      "The data from ZREMBCH.xlsx has been processed.\n",
      "The data from CEZ.xlsx has been processed.\n",
      "The data from DEKPOL.xlsx has been processed.\n",
      "The data from MEDICALG.xlsx has been processed.\n",
      "The data from BAHOLDING.xlsx has been processed.\n",
      "The data from MEXPOLSKA.xlsx has been processed.\n",
      "The data from UNIMOT.xlsx has been processed.\n",
      "The data from KSGAGRO.xlsx has been processed.\n",
      "The data from ZYWIEC.xlsx has been processed.\n",
      "The data from ENERGA.xlsx has been processed.\n",
      "The data from MEGAR.xlsx has been processed.\n",
      "The data from LPP.xlsx has been processed.\n",
      "The data from ASSECOSE.xlsx has been processed.\n",
      "The data from MEDIACAP.xlsx has been processed.\n",
      "The data from COMPERIA.xlsx has been processed.\n",
      "The data from AMBRA.xlsx has been processed.\n",
      "The data from BIOMED.xlsx has been processed.\n",
      "The data from WITTCHEN.xlsx has been processed.\n",
      "The data from TESGAS.xlsx has been processed.\n",
      "The data from FERRUM.xlsx has been processed.\n",
      "The data from MAKARONY.xlsx has been processed.\n",
      "The data from STOMIL_S.xlsx has been processed.\n",
      "The data from HOLLYWOO.xlsx has been processed.\n",
      "The data from PAMAPOL.xlsx has been processed.\n",
      "The data from IZOSTAL.xlsx has been processed.\n",
      "The data from DELKO.xlsx has been processed.\n",
      "The data from FASING.xlsx has been processed.\n",
      "The data from DREWEX.xlsx has been processed.\n",
      "The data from MAXCOM.xlsx has been processed.\n",
      "The data from LENA.xlsx has been processed.\n",
      "The data from MENNICA.xlsx has been processed.\n",
      "The data from ALUMETAL.xlsx has been processed.\n",
      "The data from FAMUR.xlsx has been processed.\n",
      "The data from TRAKCJA.xlsx has been processed.\n",
      "The data from SYNEKTIK.xlsx has been processed.\n",
      "The data from INTERLUB.xlsx has been processed.\n",
      "The data from CCC.xlsx has been processed.\n",
      "The data from GRODNO.xlsx has been processed.\n",
      "The data from PBG.xlsx has been processed.\n",
      "The data from BIOTON.xlsx has been processed.\n",
      "The data from MERCEDES.xlsx has been processed.\n",
      "The data from GAMFACTOR.xlsx has been processed.\n",
      "The data from ERG.xlsx has been processed.\n",
      "The data from LSISOFT.xlsx has been processed.\n",
      "The data from VOXEL.xlsx has been processed.\n",
      "The data from TALEX.xlsx has been processed.\n",
      "The data from MABION.xlsx has been processed.\n",
      "The data from HERKULES.xlsx has been processed.\n",
      "The data from ASBIS.xlsx has been processed.\n",
      "The data from CITYSERV.xlsx has been processed.\n",
      "The data from GREENX.xlsx has been processed.\n",
      "The data from CYFPOLS.xlsx has been processed.\n",
      "The data from AILLERON.xlsx has been processed.\n",
      "The data from REDAN.xlsx has been processed.\n",
      "The data from MOST_ZAB.xlsx has been processed.\n",
      "The data from ITMTRADE.xlsx has been processed.\n",
      "The data from TATRMR.xlsx has been processed.\n",
      "The data from ENTER.xlsx has been processed.\n",
      "The data from EUROCASH.xlsx has been processed.\n",
      "The data from ORZELBIA.xlsx has been processed.\n",
      "The data from PROCHEM.xlsx has been processed.\n",
      "The data from WIRTUALN.xlsx has been processed.\n",
      "The data from SERINUS.xlsx has been processed.\n",
      "The data from MILKI.xlsx has been processed.\n",
      "The data from BEDZIN.xlsx has been processed.\n",
      "The data from AMICA.xlsx has been processed.\n",
      "The data from COALENER.xlsx has been processed.\n",
      "The data from ESOTIQ.xlsx has been processed.\n",
      "The data from GIGROUP.xlsx has been processed.\n",
      "The data from OTLOGIS.xlsx has been processed.\n",
      "The data from KETY.xlsx has been processed.\n",
      "The data from LABOPRIN.xlsx has been processed.\n",
      "The data from NEWAG.xlsx has been processed.\n",
      "The data from ODLEWNIE.xlsx has been processed.\n",
      "The data from BIOMAXIM.xlsx has been processed.\n",
      "The data from MUZA.xlsx has been processed.\n",
      "The data from PCCEXOL.xlsx has been processed.\n",
      "The data from CREEPYJAR.xlsx has been processed.\n",
      "The data from PGNIG.xlsx has been processed.\n",
      "The data from AC.xlsx has been processed.\n",
      "The data from NOVATURAS.xlsx has been processed.\n",
      "The data from POLIMEX.xlsx has been processed.\n",
      "The data from POLWAX.xlsx has been processed.\n",
      "The data from PUNKPIRAT.xlsx has been processed.\n",
      "The data from PGSSOFT.xlsx has been processed.\n",
      "The data from PJPMAKRUM.xlsx has been processed.\n",
      "The data from TARCZYNS.xlsx has been processed.\n",
      "The data from SKOTAN.xlsx has been processed.\n",
      "The data from MEDINICE.xlsx has been processed.\n",
      "The data from APSENERG.xlsx has been processed.\n",
      "The data from OVOSTAR.xlsx has been processed.\n",
      "The data from IFIRMA.xlsx has been processed.\n",
      "The data from PKPCARGO.xlsx has been processed.\n",
      "The data from STALPROF.xlsx has been processed.\n",
      "The data from AZOTY.xlsx has been processed.\n",
      "The data from SONEL.xlsx has been processed.\n",
      "The data from BIOCELTIX.xlsx has been processed.\n",
      "The data from PEPEES.xlsx has been processed.\n",
      "The data from SEKO.xlsx has been processed.\n",
      "The data from GAMEOPS.xlsx has been processed.\n",
      "The data from ALLEGRO.xlsx has been processed.\n",
      "The data from FERRO.xlsx has been processed.\n",
      "The data from AUTOPART.xlsx has been processed.\n",
      "The data from OEX.xlsx has been processed.\n",
      "The data from VIVID.xlsx has been processed.\n",
      "The data from SATIS.xlsx has been processed.\n",
      "The data from HARPER.xlsx has been processed.\n",
      "The data from INTERRAO.xlsx has been processed.\n",
      "The data from ATENDE.xlsx has been processed.\n",
      "The data from KOGENER.xlsx has been processed.\n",
      "The data from RAFAKO.xlsx has been processed.\n",
      "The data from KERNEL.xlsx has been processed.\n",
      "The data from SYGNITY.xlsx has been processed.\n",
      "The data from LZPS.xlsx has been processed.\n",
      "The data from NOVITA.xlsx has been processed.\n",
      "The data from KPPD.xlsx has been processed.\n",
      "The data from SADOVAYA.xlsx has been processed.\n",
      "The data from AGROPUBL.xlsx has been processed.\n",
      "The data from MFOSA.xlsx has been processed.\n",
      "The data from ARCTIC.xlsx has been processed.\n",
      "The data from SPYROSOFT.xlsx has been processed.\n",
      "The data from CIECH.xlsx has been processed.\n",
      "The data from KOMPUTRO.xlsx has been processed.\n",
      "The data from AGROWILL.xlsx has been processed.\n",
      "The data from KDMSHIP.xlsx has been processed.\n",
      "The data from ENERGOIN.xlsx has been processed.\n",
      "The data from UNIBEP.xlsx has been processed.\n",
      "The data from DATAWALK.xlsx has been processed.\n",
      "The data from AB.xlsx has been processed.\n",
      "The data from SILVAIR.xlsx has been processed.\n",
      "The data from GRUPRACUJ.xlsx has been processed.\n",
      "The data from KINOPL.xlsx has been processed.\n",
      "The data from DECORA.xlsx has been processed.\n",
      "The data from ARTERIA.xlsx has been processed.\n",
      "The data from MERCOR.xlsx has been processed.\n",
      "The data from VRG.xlsx has been processed.\n",
      "The data from AIGAMES.xlsx has been processed.\n",
      "The data from FORTE.xlsx has been processed.\n",
      "The data from ELZAB.xlsx has been processed.\n",
      "The data from MOST_WWA.xlsx has been processed.\n",
      "The data from AGORA.xlsx has been processed.\n",
      "The data from ONDE.xlsx has been processed.\n",
      "The data from NETIA.xlsx has been processed.\n",
      "The data from ARTIFEX.xlsx has been processed.\n",
      "The data from PANOVA.xlsx has been processed.\n",
      "The data from ACTION.xlsx has been processed.\n",
      "The data from DIGITREE.xlsx has been processed.\n",
      "The data from ADIUVO.xlsx has been processed.\n",
      "The data from PBKM.xlsx has been processed.\n",
      "The data from RAINBOW.xlsx has been processed.\n",
      "The data from ANSWEAR.xlsx has been processed.\n",
      "The data from APATOR.xlsx has been processed.\n",
      "The data from COMP_W.xlsx has been processed.\n",
      "The data from SHOPER.xlsx has been processed.\n",
      "The data from PGE.xlsx has been processed.\n",
      "The data from CAPTORTX.xlsx has been processed.\n",
      "The data from ULTGAMES.xlsx has been processed.\n",
      "The data from NTT.xlsx has been processed.\n",
      "The data from TIM.xlsx has been processed.\n",
      "The data from RESBUD.xlsx has been processed.\n",
      "The data from PULAWY.xlsx has been processed.\n",
      "The data from BRASTER.xlsx has been processed.\n",
      "The data from MANYDEV.xlsx has been processed.\n",
      "The data from AMPLI.xlsx has been processed.\n",
      "The data from LENTEX.xlsx has been processed.\n",
      "The data from CLNPHARMA.xlsx has been processed.\n",
      "The data from BUMECH.xlsx has been processed.\n",
      "The data from EDINV.xlsx has been processed.\n",
      "The data from PLASTBOX.xlsx has been processed.\n",
      "The data from MIRACUL.xlsx has been processed.\n",
      "The data from BRAND24.xlsx has been processed.\n",
      "The data from GLOBCOSM.xlsx has been processed.\n",
      "The data from EMC.xlsx has been processed.\n",
      "The data from BETACOM.xlsx has been processed.\n",
      "The data from ASSECOP.xlsx has been processed.\n",
      "The data from LARQ.xlsx has been processed.\n",
      "The data from 3RGAMES.xlsx has been processed.\n",
      "The data from LUBAWA.xlsx has been processed.\n",
      "The data from PEP.xlsx has been processed.\n",
      "The data from ZUK.xlsx has been processed.\n",
      "The data from KGL.xlsx has been processed.\n",
      "The data from CORMAY.xlsx has been processed.\n",
      "The data from KRYNICKI.xlsx has been processed.\n",
      "The data from INTERCAR.xlsx has been processed.\n",
      "The data from SUWARY.xlsx has been processed.\n",
      "The data from INTERSPO.xlsx has been processed.\n",
      "The data from XTPL.xlsx has been processed.\n",
      "The data from SOLAR.xlsx has been processed.\n",
      "The data from MOST_PK.xlsx has been processed.\n",
      "The data from MOBRUK.xlsx has been processed.\n",
      "The data from URSUS.xlsx has been processed.\n",
      "The data from UNIMA.xlsx has been processed.\n",
      "The data from PROCAD.xlsx has been processed.\n",
      "The data from MBWS.xlsx has been processed.\n",
      "The data from ENELMED.xlsx has been processed.\n",
      "The data from COGNOR.xlsx has been processed.\n",
      "The data from REGNON.xlsx has been processed.\n",
      "The data from TAURON.xlsx has been processed.\n",
      "The data from TSGAMES.xlsx has been processed.\n",
      "The data from KRAKCHEM.xlsx has been processed.\n",
      "The data from PEPCO.xlsx has been processed.\n",
      "The data from EUROTEL.xlsx has been processed.\n",
      "The data from CFIHOL.xlsx has been processed.\n",
      "The data from SELVITA.xlsx has been processed.\n",
      "The data from CENNOWTE.xlsx has been processed.\n",
      "The data from CIGAMES.xlsx has been processed.\n",
      "The data from PURE.xlsx has been processed.\n",
      "The data from BIGCHEESE.xlsx has been processed.\n",
      "The data from APLISENS.xlsx has been processed.\n",
      "The data from SESCOM.xlsx has been processed.\n",
      "The data from KGHM.xlsx has been processed.\n",
      "The data from JWWINV.xlsx has been processed.\n",
      "The data from COMARCH.xlsx has been processed.\n",
      "The data from PLAYWAY.xlsx has been processed.\n",
      "The data from TERMOREX.xlsx has been processed.\n",
      "The data from RADPOL.xlsx has been processed.\n",
      "The data from COMPREMUM.xlsx has been processed.\n",
      "The data from HYDROTOR.xlsx has been processed.\n",
      "The data from SIMPLE.xlsx has been processed.\n",
      "The data from STALEXP.xlsx has been processed.\n",
      "The data from OPONEO.xlsx has been processed.\n",
      "The data from ROPCZYCE.xlsx has been processed.\n",
      "The data from MIRBUD.xlsx has been processed.\n",
      "The data from PATENTUS.xlsx has been processed.\n",
      "The data from NEUCA.xlsx has been processed.\n",
      "The data from SLEEPZAG.xlsx has been processed.\n"
     ]
    }
   ],
   "source": [
    "df_names = process_company_sector(FOLDER_PATH)"
   ],
   "metadata": {
    "collapsed": false,
    "ExecuteTime": {
     "end_time": "2024-05-17T23:53:42.499547Z",
     "start_time": "2024-05-17T23:51:57.261762Z"
    }
   },
   "id": "2afe4e6288f0d029",
   "execution_count": 41
  },
  {
   "cell_type": "code",
   "outputs": [
    {
     "data": {
      "text/plain": "          filename        Company Name  \\\n0    PKNORLEN.xlsx        PKN Orlen SA   \n1    ENERGOAP.xlsx  Energoaparatura SA   \n2      RELPOL.xlsx           Relpol SA   \n3       ATREM.xlsx            Atrem SA   \n4    DOMDEVEL.xlsx  Dom Development SA   \n..             ...                 ...   \n344  ROPCZYCE.xlsx      ZM Ropczyce SA   \n345    MIRBUD.xlsx           Mirbud SA   \n346  PATENTUS.xlsx         Patentus SA   \n347     NEUCA.xlsx            Neuca SA   \n348  SLEEPZAG.xlsx           Sleepz AG   \n\n                                       Sector Ticker  \n0                       wydobycie i produkcja    PKN  \n1                     budownictwo przemysłowe    ENP  \n2                      urządzenia elektryczne    RLP  \n3    instalacje budowlane i telekomunikacyjne    ATR  \n4                      sprzedaż nieruchomości    DOM  \n..                                        ...    ...  \n344                       materiały budowlane    RPC  \n345                        budownictwo ogólne    MRB  \n346                    urządzenia mechaniczne    PAT  \n347                         dystrybucja leków    NEU  \n348                        handel internetowy    SLZ  \n\n[349 rows x 4 columns]",
      "text/html": "<div>\n<style scoped>\n    .dataframe tbody tr th:only-of-type {\n        vertical-align: middle;\n    }\n\n    .dataframe tbody tr th {\n        vertical-align: top;\n    }\n\n    .dataframe thead th {\n        text-align: right;\n    }\n</style>\n<table border=\"1\" class=\"dataframe\">\n  <thead>\n    <tr style=\"text-align: right;\">\n      <th></th>\n      <th>filename</th>\n      <th>Company Name</th>\n      <th>Sector</th>\n      <th>Ticker</th>\n    </tr>\n  </thead>\n  <tbody>\n    <tr>\n      <th>0</th>\n      <td>PKNORLEN.xlsx</td>\n      <td>PKN Orlen SA</td>\n      <td>wydobycie i produkcja</td>\n      <td>PKN</td>\n    </tr>\n    <tr>\n      <th>1</th>\n      <td>ENERGOAP.xlsx</td>\n      <td>Energoaparatura SA</td>\n      <td>budownictwo przemysłowe</td>\n      <td>ENP</td>\n    </tr>\n    <tr>\n      <th>2</th>\n      <td>RELPOL.xlsx</td>\n      <td>Relpol SA</td>\n      <td>urządzenia elektryczne</td>\n      <td>RLP</td>\n    </tr>\n    <tr>\n      <th>3</th>\n      <td>ATREM.xlsx</td>\n      <td>Atrem SA</td>\n      <td>instalacje budowlane i telekomunikacyjne</td>\n      <td>ATR</td>\n    </tr>\n    <tr>\n      <th>4</th>\n      <td>DOMDEVEL.xlsx</td>\n      <td>Dom Development SA</td>\n      <td>sprzedaż nieruchomości</td>\n      <td>DOM</td>\n    </tr>\n    <tr>\n      <th>...</th>\n      <td>...</td>\n      <td>...</td>\n      <td>...</td>\n      <td>...</td>\n    </tr>\n    <tr>\n      <th>344</th>\n      <td>ROPCZYCE.xlsx</td>\n      <td>ZM Ropczyce SA</td>\n      <td>materiały budowlane</td>\n      <td>RPC</td>\n    </tr>\n    <tr>\n      <th>345</th>\n      <td>MIRBUD.xlsx</td>\n      <td>Mirbud SA</td>\n      <td>budownictwo ogólne</td>\n      <td>MRB</td>\n    </tr>\n    <tr>\n      <th>346</th>\n      <td>PATENTUS.xlsx</td>\n      <td>Patentus SA</td>\n      <td>urządzenia mechaniczne</td>\n      <td>PAT</td>\n    </tr>\n    <tr>\n      <th>347</th>\n      <td>NEUCA.xlsx</td>\n      <td>Neuca SA</td>\n      <td>dystrybucja leków</td>\n      <td>NEU</td>\n    </tr>\n    <tr>\n      <th>348</th>\n      <td>SLEEPZAG.xlsx</td>\n      <td>Sleepz AG</td>\n      <td>handel internetowy</td>\n      <td>SLZ</td>\n    </tr>\n  </tbody>\n</table>\n<p>349 rows × 4 columns</p>\n</div>"
     },
     "execution_count": 42,
     "metadata": {},
     "output_type": "execute_result"
    }
   ],
   "source": [
    "df_names"
   ],
   "metadata": {
    "collapsed": false,
    "ExecuteTime": {
     "end_time": "2024-05-17T23:53:42.532540Z",
     "start_time": "2024-05-17T23:53:42.494210Z"
    }
   },
   "id": "a3cb1cca71e78416",
   "execution_count": 42
  },
  {
   "cell_type": "code",
   "outputs": [],
   "source": [
    "output_csv_path = 'dataframes/names_gpw.csv'\n",
    "df_names.to_csv(output_csv_path, index=False)"
   ],
   "metadata": {
    "collapsed": false,
    "ExecuteTime": {
     "end_time": "2024-05-17T23:53:42.534033Z",
     "start_time": "2024-05-17T23:53:42.516688Z"
    }
   },
   "id": "bf5abe1e34f40873",
   "execution_count": 43
  },
  {
   "cell_type": "markdown",
   "source": [
    "# QS DATA"
   ],
   "metadata": {
    "collapsed": false
   },
   "id": "d482586e97436c50"
  },
  {
   "cell_type": "code",
   "outputs": [],
   "source": [
    "def process_excel_data(base_folder):\n",
    "    folder_path = os.path.join(base_folder)\n",
    "    all_data = []\n",
    "\n",
    "    row_ranges = [\n",
    "        range(2, 23),   # Rows 3 to 22 inclusive, zero-indexed\n",
    "        range(30, 60),  # Rows 31 to 59 inclusive\n",
    "        range(60, 94),  # Rows 61 to 93 inclusive\n",
    "        range(254, 276),  # Rows 255 to 275 inclusive\n",
    "        range(278, 284),  # Rows 279 to 283 inclusive\n",
    "        range(290, 294)   # Rows 291 to 293 inclusive\n",
    "    ]\n",
    "\n",
    "    for filename in os.listdir(folder_path):\n",
    "        if filename.endswith('.xlsx'):\n",
    "            file_path = os.path.join(folder_path, filename)\n",
    "            print(f\"Processing file: {filename}\")\n",
    "            try:\n",
    "                data = pd.read_excel(file_path, sheet_name='QS', header=None)\n",
    "\n",
    "                for row_range in row_ranges:\n",
    "                    headers = data.iloc[list(row_range), 2].tolist()\n",
    "                    range_data = data.iloc[list(row_range), 3:102]\n",
    "                    range_data = range_data.replace(0, np.nan)\n",
    "\n",
    "                    transposed_data = range_data.transpose()\n",
    "                    transposed_data.columns = headers\n",
    "                    transposed_data['filename'] = filename\n",
    "\n",
    "                    all_data.append(transposed_data)\n",
    "            except Exception as e:\n",
    "                print(f\"Error processing file {filename}: {e}\")\n",
    "\n",
    "    if all_data:\n",
    "        results_df = pd.concat(all_data, ignore_index=True)\n",
    "        results_df = results_df.dropna(how='all', subset=[col for col in results_df.columns if col != 'filename'])\n",
    "        results_df = results_df.loc[:, ~results_df.columns.isna()]\n",
    "\n",
    "        return results_df\n",
    "    else:\n",
    "        print(\"No data to concatenate\")\n",
    "        return pd.DataFrame()"
   ],
   "metadata": {
    "collapsed": false,
    "ExecuteTime": {
     "end_time": "2024-05-17T23:53:42.578541Z",
     "start_time": "2024-05-17T23:53:42.534726Z"
    }
   },
   "id": "5fc4826cd6e3ba66",
   "execution_count": 44
  },
  {
   "cell_type": "code",
   "outputs": [],
   "source": [
    "df_results = process_excel_data(FOLDER_PATH)\n",
    "df_results"
   ],
   "metadata": {
    "collapsed": false
   },
   "id": "f9f0bdc2f9f1d47e",
   "execution_count": null
  },
  {
   "cell_type": "code",
   "outputs": [],
   "source": [
    "df_cleaned_columns = df_results.dropna(how='all', axis=1)"
   ],
   "metadata": {
    "collapsed": false,
    "ExecuteTime": {
     "end_time": "2024-05-17T23:56:47.940081Z",
     "start_time": "2024-05-17T23:56:46.961109Z"
    }
   },
   "id": "82323a4f438e0ca4",
   "execution_count": 46
  },
  {
   "cell_type": "code",
   "outputs": [],
   "source": [
    "df_cleaned_columns = df_cleaned_columns.drop(columns='Start of period')"
   ],
   "metadata": {
    "collapsed": false,
    "ExecuteTime": {
     "end_time": "2024-05-17T23:56:48.243169Z",
     "start_time": "2024-05-17T23:56:48.134639Z"
    }
   },
   "id": "ccd3bdf77d777832",
   "execution_count": 47
  },
  {
   "cell_type": "code",
   "outputs": [
    {
     "name": "stdout",
     "output_type": "stream",
     "text": [
      "After dropping rows with None, NaN or 0 in 'End of period': (19906, 106)\n"
     ]
    }
   ],
   "source": [
    "df_cleaned_columns = df_cleaned_columns.dropna(subset=['End of period'])\n",
    "df_cleaned_columns = df_cleaned_columns[df_cleaned_columns['End of period'] != 0]\n",
    "print(f\"After dropping rows with None, NaN or 0 in 'End of period': {df_cleaned_columns.shape}\")"
   ],
   "metadata": {
    "collapsed": false,
    "ExecuteTime": {
     "end_time": "2024-05-17T23:56:48.346600Z",
     "start_time": "2024-05-17T23:56:48.194703Z"
    }
   },
   "id": "f8a9040427d8e4eb",
   "execution_count": 48
  },
  {
   "cell_type": "code",
   "outputs": [
    {
     "data": {
      "text/plain": "       End of period Revenues from sales Operating profit/loss  \\\n3         1998-12-31                 NaN                   NaN   \n4         1999-03-31             2724513                128768   \n5         1999-06-30             3734138                256866   \n6         1999-09-30             4696719                261468   \n7         1999-12-31             6009235                287898   \n...              ...                 ...                   ...   \n195663    2007-12-31                 NaN                   NaN   \n195667    2008-12-31                 NaN                   NaN   \n195671    2009-12-31                 NaN                   NaN   \n195675    2010-12-31                 NaN                   NaN   \n195679    2011-12-31                 NaN                   NaN   \n\n       Net profit/loss attributable to equity holders of the parent  \\\n3                                                     NaN             \n4                                                   39830             \n5                                                  196545             \n6                                                  141367             \n7                                                  266052             \n...                                                   ...             \n195663                                                NaN             \n195667                                                NaN             \n195671                                                NaN             \n195675                                                NaN             \n195679                                                NaN             \n\n       Total comprehensive income attributable to equity holders Depreciation  \\\n3                                                     NaN                 NaN   \n4                                                     NaN               99445   \n5                                                     NaN              115350   \n6                                                     NaN              138261   \n7                                                     NaN              163436   \n...                                                   ...                 ...   \n195663                                                NaN                 NaN   \n195667                                                NaN                 NaN   \n195671                                                NaN                 NaN   \n195675                                                NaN                 NaN   \n195679                                                NaN                 NaN   \n\n       Cash flow from operating activities  \\\n3                                      NaN   \n4                                   213338   \n5                                   185744   \n6                                   184070   \n7                                   305390   \n...                                    ...   \n195663                                 NaN   \n195667                                 NaN   \n195671                                 NaN   \n195675                                 NaN   \n195679                                 NaN   \n\n       Cash flow from investing activities  \\\n3                                      NaN   \n4                                  -343531   \n5                                  -366017   \n6                                  -393602   \n7                                  -475840   \n...                                    ...   \n195663                                 NaN   \n195667                                 NaN   \n195671                                 NaN   \n195675                                 NaN   \n195679                                 NaN   \n\n       Cash flow from financing activities    Aktywa  ... Assets ratio  \\\n3                                      NaN   6800077  ...          NaN   \n4                                    60988   7070985  ...          NaN   \n5                                   128930   7691669  ...          NaN   \n6                                   155891   9881281  ...          NaN   \n7                                   168831  10623546  ...          NaN   \n...                                    ...       ...  ...          ...   \n195663                                 NaN     25532  ...          NaN   \n195667                                 NaN     24275  ...          NaN   \n195671                                 NaN     15443  ...          NaN   \n195675                                 NaN     14960  ...          NaN   \n195679                                 NaN     18970  ...          NaN   \n\n       Debt ratio Debt service ratio Rate debt security Leverage (EM)  \\\n3             NaN                NaN                NaN           NaN   \n4             NaN                NaN                NaN           NaN   \n5             NaN                NaN                NaN           NaN   \n6             NaN                NaN                NaN           NaN   \n7             NaN                NaN                NaN           NaN   \n...           ...                ...                ...           ...   \n195663        NaN                NaN                NaN           NaN   \n195667        NaN                NaN                NaN           NaN   \n195671        NaN                NaN                NaN           NaN   \n195675        NaN                NaN                NaN           NaN   \n195679        NaN                NaN                NaN           NaN   \n\n       Asset utilization (AU) Load gross profit Current financial liabilities  \\\n3                         NaN               NaN                           NaN   \n4                         NaN               NaN                           NaN   \n5                         NaN               NaN                           NaN   \n6                         NaN               NaN                           NaN   \n7                         NaN               NaN                           NaN   \n...                       ...               ...                           ...   \n195663                    NaN               NaN                           NaN   \n195667                    NaN               NaN                           NaN   \n195671                    NaN               NaN                           NaN   \n195675                    NaN               NaN                           NaN   \n195679                    NaN               NaN                           NaN   \n\n       Non-current financial liabilities Financial liabilities (total)  \n3                                    NaN                           NaN  \n4                                    NaN                           NaN  \n5                                    NaN                           NaN  \n6                                    NaN                           NaN  \n7                                    NaN                           NaN  \n...                                  ...                           ...  \n195663                               NaN                           NaN  \n195667                               NaN                           NaN  \n195671                               NaN                           NaN  \n195675                               NaN                           NaN  \n195679                               NaN                           NaN  \n\n[19906 rows x 106 columns]",
      "text/html": "<div>\n<style scoped>\n    .dataframe tbody tr th:only-of-type {\n        vertical-align: middle;\n    }\n\n    .dataframe tbody tr th {\n        vertical-align: top;\n    }\n\n    .dataframe thead th {\n        text-align: right;\n    }\n</style>\n<table border=\"1\" class=\"dataframe\">\n  <thead>\n    <tr style=\"text-align: right;\">\n      <th></th>\n      <th>End of period</th>\n      <th>Revenues from sales</th>\n      <th>Operating profit/loss</th>\n      <th>Net profit/loss attributable to equity holders of the parent</th>\n      <th>Total comprehensive income attributable to equity holders</th>\n      <th>Depreciation</th>\n      <th>Cash flow from operating activities</th>\n      <th>Cash flow from investing activities</th>\n      <th>Cash flow from financing activities</th>\n      <th>Aktywa</th>\n      <th>...</th>\n      <th>Assets ratio</th>\n      <th>Debt ratio</th>\n      <th>Debt service ratio</th>\n      <th>Rate debt security</th>\n      <th>Leverage (EM)</th>\n      <th>Asset utilization (AU)</th>\n      <th>Load gross profit</th>\n      <th>Current financial liabilities</th>\n      <th>Non-current financial liabilities</th>\n      <th>Financial liabilities (total)</th>\n    </tr>\n  </thead>\n  <tbody>\n    <tr>\n      <th>3</th>\n      <td>1998-12-31</td>\n      <td>NaN</td>\n      <td>NaN</td>\n      <td>NaN</td>\n      <td>NaN</td>\n      <td>NaN</td>\n      <td>NaN</td>\n      <td>NaN</td>\n      <td>NaN</td>\n      <td>6800077</td>\n      <td>...</td>\n      <td>NaN</td>\n      <td>NaN</td>\n      <td>NaN</td>\n      <td>NaN</td>\n      <td>NaN</td>\n      <td>NaN</td>\n      <td>NaN</td>\n      <td>NaN</td>\n      <td>NaN</td>\n      <td>NaN</td>\n    </tr>\n    <tr>\n      <th>4</th>\n      <td>1999-03-31</td>\n      <td>2724513</td>\n      <td>128768</td>\n      <td>39830</td>\n      <td>NaN</td>\n      <td>99445</td>\n      <td>213338</td>\n      <td>-343531</td>\n      <td>60988</td>\n      <td>7070985</td>\n      <td>...</td>\n      <td>NaN</td>\n      <td>NaN</td>\n      <td>NaN</td>\n      <td>NaN</td>\n      <td>NaN</td>\n      <td>NaN</td>\n      <td>NaN</td>\n      <td>NaN</td>\n      <td>NaN</td>\n      <td>NaN</td>\n    </tr>\n    <tr>\n      <th>5</th>\n      <td>1999-06-30</td>\n      <td>3734138</td>\n      <td>256866</td>\n      <td>196545</td>\n      <td>NaN</td>\n      <td>115350</td>\n      <td>185744</td>\n      <td>-366017</td>\n      <td>128930</td>\n      <td>7691669</td>\n      <td>...</td>\n      <td>NaN</td>\n      <td>NaN</td>\n      <td>NaN</td>\n      <td>NaN</td>\n      <td>NaN</td>\n      <td>NaN</td>\n      <td>NaN</td>\n      <td>NaN</td>\n      <td>NaN</td>\n      <td>NaN</td>\n    </tr>\n    <tr>\n      <th>6</th>\n      <td>1999-09-30</td>\n      <td>4696719</td>\n      <td>261468</td>\n      <td>141367</td>\n      <td>NaN</td>\n      <td>138261</td>\n      <td>184070</td>\n      <td>-393602</td>\n      <td>155891</td>\n      <td>9881281</td>\n      <td>...</td>\n      <td>NaN</td>\n      <td>NaN</td>\n      <td>NaN</td>\n      <td>NaN</td>\n      <td>NaN</td>\n      <td>NaN</td>\n      <td>NaN</td>\n      <td>NaN</td>\n      <td>NaN</td>\n      <td>NaN</td>\n    </tr>\n    <tr>\n      <th>7</th>\n      <td>1999-12-31</td>\n      <td>6009235</td>\n      <td>287898</td>\n      <td>266052</td>\n      <td>NaN</td>\n      <td>163436</td>\n      <td>305390</td>\n      <td>-475840</td>\n      <td>168831</td>\n      <td>10623546</td>\n      <td>...</td>\n      <td>NaN</td>\n      <td>NaN</td>\n      <td>NaN</td>\n      <td>NaN</td>\n      <td>NaN</td>\n      <td>NaN</td>\n      <td>NaN</td>\n      <td>NaN</td>\n      <td>NaN</td>\n      <td>NaN</td>\n    </tr>\n    <tr>\n      <th>...</th>\n      <td>...</td>\n      <td>...</td>\n      <td>...</td>\n      <td>...</td>\n      <td>...</td>\n      <td>...</td>\n      <td>...</td>\n      <td>...</td>\n      <td>...</td>\n      <td>...</td>\n      <td>...</td>\n      <td>...</td>\n      <td>...</td>\n      <td>...</td>\n      <td>...</td>\n      <td>...</td>\n      <td>...</td>\n      <td>...</td>\n      <td>...</td>\n      <td>...</td>\n      <td>...</td>\n    </tr>\n    <tr>\n      <th>195663</th>\n      <td>2007-12-31</td>\n      <td>NaN</td>\n      <td>NaN</td>\n      <td>NaN</td>\n      <td>NaN</td>\n      <td>NaN</td>\n      <td>NaN</td>\n      <td>NaN</td>\n      <td>NaN</td>\n      <td>25532</td>\n      <td>...</td>\n      <td>NaN</td>\n      <td>NaN</td>\n      <td>NaN</td>\n      <td>NaN</td>\n      <td>NaN</td>\n      <td>NaN</td>\n      <td>NaN</td>\n      <td>NaN</td>\n      <td>NaN</td>\n      <td>NaN</td>\n    </tr>\n    <tr>\n      <th>195667</th>\n      <td>2008-12-31</td>\n      <td>NaN</td>\n      <td>NaN</td>\n      <td>NaN</td>\n      <td>NaN</td>\n      <td>NaN</td>\n      <td>NaN</td>\n      <td>NaN</td>\n      <td>NaN</td>\n      <td>24275</td>\n      <td>...</td>\n      <td>NaN</td>\n      <td>NaN</td>\n      <td>NaN</td>\n      <td>NaN</td>\n      <td>NaN</td>\n      <td>NaN</td>\n      <td>NaN</td>\n      <td>NaN</td>\n      <td>NaN</td>\n      <td>NaN</td>\n    </tr>\n    <tr>\n      <th>195671</th>\n      <td>2009-12-31</td>\n      <td>NaN</td>\n      <td>NaN</td>\n      <td>NaN</td>\n      <td>NaN</td>\n      <td>NaN</td>\n      <td>NaN</td>\n      <td>NaN</td>\n      <td>NaN</td>\n      <td>15443</td>\n      <td>...</td>\n      <td>NaN</td>\n      <td>NaN</td>\n      <td>NaN</td>\n      <td>NaN</td>\n      <td>NaN</td>\n      <td>NaN</td>\n      <td>NaN</td>\n      <td>NaN</td>\n      <td>NaN</td>\n      <td>NaN</td>\n    </tr>\n    <tr>\n      <th>195675</th>\n      <td>2010-12-31</td>\n      <td>NaN</td>\n      <td>NaN</td>\n      <td>NaN</td>\n      <td>NaN</td>\n      <td>NaN</td>\n      <td>NaN</td>\n      <td>NaN</td>\n      <td>NaN</td>\n      <td>14960</td>\n      <td>...</td>\n      <td>NaN</td>\n      <td>NaN</td>\n      <td>NaN</td>\n      <td>NaN</td>\n      <td>NaN</td>\n      <td>NaN</td>\n      <td>NaN</td>\n      <td>NaN</td>\n      <td>NaN</td>\n      <td>NaN</td>\n    </tr>\n    <tr>\n      <th>195679</th>\n      <td>2011-12-31</td>\n      <td>NaN</td>\n      <td>NaN</td>\n      <td>NaN</td>\n      <td>NaN</td>\n      <td>NaN</td>\n      <td>NaN</td>\n      <td>NaN</td>\n      <td>NaN</td>\n      <td>18970</td>\n      <td>...</td>\n      <td>NaN</td>\n      <td>NaN</td>\n      <td>NaN</td>\n      <td>NaN</td>\n      <td>NaN</td>\n      <td>NaN</td>\n      <td>NaN</td>\n      <td>NaN</td>\n      <td>NaN</td>\n      <td>NaN</td>\n    </tr>\n  </tbody>\n</table>\n<p>19906 rows × 106 columns</p>\n</div>"
     },
     "execution_count": 49,
     "metadata": {},
     "output_type": "execute_result"
    }
   ],
   "source": [
    "df_cleaned_columns"
   ],
   "metadata": {
    "collapsed": false,
    "ExecuteTime": {
     "end_time": "2024-05-17T23:56:48.401485Z",
     "start_time": "2024-05-17T23:56:48.371734Z"
    }
   },
   "id": "bb7f3b97ca6d32f4",
   "execution_count": 49
  },
  {
   "cell_type": "code",
   "outputs": [
    {
     "data": {
      "text/plain": "['End of period',\n 'Revenues from sales',\n 'Operating profit/loss',\n 'Net profit/loss attributable to equity holders of the parent',\n 'Total comprehensive income attributable to equity holders',\n 'Depreciation',\n 'Cash flow from operating activities',\n 'Cash flow from investing activities',\n 'Cash flow from financing activities',\n 'Aktywa',\n 'Non-current assets',\n 'Current assets',\n 'Equity shareholders of the parent',\n 'Non-current liabilities',\n 'Current liabilities',\n \"Number of shares ('000)\",\n 'Earnings per share',\n 'Total comprehensive income per share',\n 'Book value per share',\n 'Accounting standard',\n 'filename',\n 'Property, plant and equipment',\n 'Exploration for and evaluation of mineral resources',\n 'Intangible assets',\n 'Goodwill',\n 'Investment property',\n 'Right-of-use assets',\n 'Investment in affiliates',\n 'Non-current financial assets',\n 'Non-current loans and receivables',\n 'Deferred income tax',\n 'Non-current deferred charges and accruals',\n 'Non-current derivative instruments',\n 'Other non-current assets',\n 'Inventories',\n 'Current intangible assets',\n 'Biological assets',\n 'Trade receivables',\n 'Loans and other receivables',\n 'Financial assets',\n 'Cash and cash equivalents',\n 'Accruals',\n 'Assets from current tax',\n 'Derivative instruments',\n 'Other assets',\n 'Assets held for sale and discontinuing operations',\n 'Called up capital',\n 'Own shares',\n 'EQUITY & LIABILITIES',\n 'Share capital',\n 'Called up share capital',\n 'Treasury shares',\n 'Supplementary capital',\n 'Valuation and exchange differences',\n 'Other capitals',\n 'Retained earnings / accumulated losses',\n 'Non-controlling interests',\n 'Non-current liabilities from derivatives',\n 'Non-current loans and borrowings',\n 'Non-current liabilities from bonds',\n 'Non-current liabilities from finance leases',\n 'Non-current trade payables',\n 'Long-term provision for employee benefits',\n 'Deferred tax liabilities',\n 'Non-current provision',\n 'Other non-current liabilities',\n 'Non-current accruals (liability)',\n 'Liabilities from derivatives',\n 'Financial liabilities (loans and borrowings)',\n 'Bond liabilities',\n 'Liabilities from finance leases',\n 'Trade payables',\n 'Employee benefits',\n 'Current tax liabilities',\n 'Provisions',\n 'Other liabilities',\n 'Accruals (liability)',\n 'Liabilities related to assets held for sale and discontinued operations',\n 'Date of publication',\n 'Gross profit margin on sales',\n 'Operating profit margin',\n 'Gross profit margin',\n 'Net profit margin',\n 'Return on equity (ROE)',\n 'Return on assets (ROA)',\n 'Working capital ratio',\n 'Current ratio',\n 'Quick ratio',\n 'Cash ratio',\n 'Receivables turnover',\n 'Inventory turnover',\n 'The operating cycle',\n 'Rotation commitments',\n 'Cash conversion cycle',\n 'Rotation assets',\n 'Rotation of assets',\n 'Assets ratio',\n 'Debt ratio',\n 'Debt service ratio',\n 'Rate debt security',\n 'Leverage (EM)',\n 'Asset utilization (AU)',\n 'Load gross profit',\n 'Current financial liabilities',\n 'Non-current financial liabilities',\n 'Financial liabilities (total)']"
     },
     "execution_count": 50,
     "metadata": {},
     "output_type": "execute_result"
    }
   ],
   "source": [
    "df_cleaned_columns.columns.tolist()"
   ],
   "metadata": {
    "collapsed": false,
    "ExecuteTime": {
     "end_time": "2024-05-17T23:56:48.411802Z",
     "start_time": "2024-05-17T23:56:48.405672Z"
    }
   },
   "id": "887c0a0715dceb4b",
   "execution_count": 50
  },
  {
   "cell_type": "code",
   "outputs": [],
   "source": [
    "output_csv_path = 'dataframes/dataframe_gpw.csv'\n",
    "df_cleaned_columns.to_csv(output_csv_path, index=False)"
   ],
   "metadata": {
    "collapsed": false,
    "ExecuteTime": {
     "end_time": "2024-05-17T23:56:49.116538Z",
     "start_time": "2024-05-17T23:56:48.411367Z"
    }
   },
   "id": "a57e712eaef96fd9",
   "execution_count": 51
  }
 ],
 "metadata": {
  "kernelspec": {
   "display_name": "Python 3",
   "language": "python",
   "name": "python3"
  },
  "language_info": {
   "codemirror_mode": {
    "name": "ipython",
    "version": 2
   },
   "file_extension": ".py",
   "mimetype": "text/x-python",
   "name": "python",
   "nbconvert_exporter": "python",
   "pygments_lexer": "ipython2",
   "version": "2.7.6"
  }
 },
 "nbformat": 4,
 "nbformat_minor": 5
}
