{
 "cells": [
  {
   "cell_type": "code",
   "execution_count": 40,
   "id": "initial_id",
   "metadata": {
    "collapsed": true,
    "ExecuteTime": {
     "end_time": "2024-05-24T05:45:53.192549700Z",
     "start_time": "2024-05-24T05:45:53.158434600Z"
    }
   },
   "outputs": [],
   "source": [
    "import os\n",
    "import pandas as pd\n",
    "import numpy as np"
   ]
  },
  {
   "cell_type": "markdown",
   "source": [
    "# Excel files analysis and data sourcing"
   ],
   "metadata": {
    "collapsed": false
   },
   "id": "2aaadf33c17bc816"
  },
  {
   "cell_type": "code",
   "outputs": [],
   "source": [
    "# FULL DF\n",
    "full_row_ranges = [\n",
    "    range(290, 293+1),  # Current financial liabilities, Non-current financial liabilities, Financial liabilities (total)\n",
    "    range(278, 283+1),  # Return on equity (ROE), Return on assets (ROA), Leverage (EM), Asset utilization (AU)\n",
    "    range(260, 275+1),  # Working capital ratio, Current ratio, Quick ratio, Cash ratio, Receivables turnover, Inventory turnover, The operating cycle, Rotation commitments, Cash conversion cycle, Rotation assets, Rotation of assets, Assets ratio, Debt ratio, Debt service ratio, Rate debt security\n",
    "    range(29, 59+1),    # ASSETS, Non-current assets, Property, plant and equipment, Exploration for and evaluation of mineral resources, Intangible assets, Goodwill, Investment property, Right-of-use assets, Investment in affiliates, Non-current financial assets, Non-current loans and receivables, Deferred income tax, Non-current deferred charges and accruals, Non-current derivative instruments, Other non-current assets, Current assets, Inventories, Current intangible assets, Biological assets, Trade receivables, Loans and other receivables, Financial assets, Cash and cash equivalents, Accruals, Assets from current tax, Derivative instruments, Other assets, Assets held for sale and discontinuing operations, Called up capital, Own shares\n",
    "    range(60, 93+1),    # EQUITY & LIABILITIES, Equity shareholders of the parent, Share capital, Called up share capital, Treasury shares, Supplementary capital, Valuation and exchange differences, Other capitals, Retained earnings / accumulated losses, Non-controlling interests, Non-current liabilities, Non-current liabilities from derivatives, Non-current loans and borrowings, Non-current liabilities from bonds, Non-current liabilities from finance leases, Non-current trade payables, Long-term provision for employee benefits, Deferred tax liabilities, Non-current provision, Other non-current liabilities, Non-current accruals (liability), Current liabilities, Liabilities from derivatives, Financial liabilities (loans and borrowings), Bond liabilities, Liabilities from finance leases, Trade payables, Employee benefits, Current tax liabilities, Provisions, Other liabilities, Accruals (liability), Liabilities related to assets held for sale and discontinued operations\n",
    "    range(2, 22+1),     # End of period, Revenues from sales, Operating profit/loss, Net profit/loss attributable to equity holders of the parent, Total comprehensive income attributable to equity holders, Depreciation, Cash flow from operating activities, Cash flow from investing activities, Cash flow from financing activities, Non-current assets, Current assets, Equity shareholders of the parent, Non-current liabilities, Current liabilities, Number of shares (‘000), Earnings per share, Total comprehensive income per share, Book value per share\n",
    "]"
   ],
   "metadata": {
    "collapsed": false,
    "ExecuteTime": {
     "end_time": "2024-05-24T05:45:53.193560300Z",
     "start_time": "2024-05-24T05:45:53.175910100Z"
    }
   },
   "id": "12639b15300b0982",
   "execution_count": 41
  },
  {
   "cell_type": "markdown",
   "source": [
    "# PREPARATION"
   ],
   "metadata": {
    "collapsed": false
   },
   "id": "48e206f2cd52144a"
  },
  {
   "cell_type": "code",
   "outputs": [],
   "source": [
    "FOLDER_PATH = 'data/'"
   ],
   "metadata": {
    "collapsed": false,
    "ExecuteTime": {
     "end_time": "2024-05-24T05:45:53.217526100Z",
     "start_time": "2024-05-24T05:45:53.196559500Z"
    }
   },
   "id": "eeac026c30c7da7b",
   "execution_count": 42
  },
  {
   "cell_type": "code",
   "outputs": [
    {
     "name": "stdout",
     "output_type": "stream",
     "text": [
      "Folder exists. Proceeding with file processing.\n"
     ]
    }
   ],
   "source": [
    "if os.path.exists(FOLDER_PATH):\n",
    "    print(\"Folder exists. Proceeding with file processing.\")\n",
    "else:\n",
    "    print(\"Folder does not exist. Check the path.\")"
   ],
   "metadata": {
    "collapsed": false,
    "ExecuteTime": {
     "end_time": "2024-05-24T05:45:53.218029900Z",
     "start_time": "2024-05-24T05:45:53.199710500Z"
    }
   },
   "id": "541b11aa6b71dac8",
   "execution_count": 43
  },
  {
   "cell_type": "code",
   "outputs": [
    {
     "name": "stdout",
     "output_type": "stream",
     "text": [
      "Files in folder: 350.\n"
     ]
    }
   ],
   "source": [
    "def count_files_in_folder(folder_path):\n",
    "    file_count = 0\n",
    "\n",
    "    for entry in os.listdir(folder_path):\n",
    "        full_path = os.path.join(folder_path, entry)\n",
    "        if os.path.isfile(full_path):\n",
    "            file_count += 1\n",
    "    \n",
    "    return file_count\n",
    "\n",
    "print(f\"Files in folder: {count_files_in_folder(FOLDER_PATH)}.\")"
   ],
   "metadata": {
    "collapsed": false,
    "ExecuteTime": {
     "end_time": "2024-05-24T05:45:53.257894300Z",
     "start_time": "2024-05-24T05:45:53.206835900Z"
    }
   },
   "id": "c9d965a5de138944",
   "execution_count": 44
  },
  {
   "cell_type": "markdown",
   "source": [
    "# Excel 'INFO' DATA"
   ],
   "metadata": {
    "collapsed": false
   },
   "id": "7003e2aef6780047"
  },
  {
   "cell_type": "code",
   "outputs": [],
   "source": [
    "def process_company_sector(folder_path):\n",
    "    results = []\n",
    "\n",
    "    for filename in os.listdir(folder_path):\n",
    "        if filename.endswith('.xlsx'):\n",
    "            file_path = os.path.join(folder_path, filename)\n",
    "            try:\n",
    "                with pd.ExcelFile(file_path) as xls:\n",
    "                    company_name = pd.read_excel(xls, 'Info', usecols=\"B\", skiprows=1, nrows=1).values[0][0]\n",
    "                    sector = pd.read_excel(xls, 'Info', usecols=\"E\", skiprows=19, nrows=1).values[0][0]\n",
    "                    ticker = pd.read_excel(xls, 'Info', usecols=\"B\", skiprows=11, nrows=1).values[0][0]\n",
    "                \n",
    "                result = {\n",
    "                    'filename': filename,\n",
    "                    'Company Name': company_name,\n",
    "                    'Sector': sector,\n",
    "                    'Ticker': ticker\n",
    "                }\n",
    "                results.append(result)\n",
    "                \n",
    "                print(f\"The data from {filename} has been processed.\")\n",
    "            except Exception as e:\n",
    "                print(f\"Error processing file {filename}: {e}\")\n",
    "\n",
    "    results_df = pd.DataFrame(results)\n",
    "    return results_df"
   ],
   "metadata": {
    "collapsed": false,
    "ExecuteTime": {
     "end_time": "2024-05-24T05:45:53.258898800Z",
     "start_time": "2024-05-24T05:45:53.243331Z"
    }
   },
   "id": "9f3ef90c6578f28c",
   "execution_count": 45
  },
  {
   "cell_type": "code",
   "outputs": [
    {
     "name": "stdout",
     "output_type": "stream",
     "text": [
      "The data from 11BIT.xlsx has been processed.\n",
      "The data from 3LPSA.xlsx has been processed.\n",
      "The data from 3RGAMES.xlsx has been processed.\n",
      "The data from AB.xlsx has been processed.\n",
      "The data from AC.xlsx has been processed.\n",
      "The data from ACTION.xlsx has been processed.\n",
      "The data from ADIUVO.xlsx has been processed.\n",
      "The data from AGORA.xlsx has been processed.\n",
      "The data from AGROPUBL.xlsx has been processed.\n",
      "The data from AGROWILL.xlsx has been processed.\n",
      "The data from AIGAMES.xlsx has been processed.\n",
      "The data from AILLERON.xlsx has been processed.\n",
      "The data from AIRWAY.xlsx has been processed.\n",
      "The data from ALLEGRO.xlsx has been processed.\n",
      "The data from ALUMETAL.xlsx has been processed.\n",
      "The data from AMBRA.xlsx has been processed.\n",
      "The data from AMICA.xlsx has been processed.\n",
      "The data from AMPLI.xlsx has been processed.\n",
      "The data from AMREST.xlsx has been processed.\n",
      "The data from ANSWEAR.xlsx has been processed.\n",
      "The data from APATOR.xlsx has been processed.\n",
      "The data from APLISENS.xlsx has been processed.\n",
      "The data from APSENERG.xlsx has been processed.\n",
      "The data from ARCTIC.xlsx has been processed.\n",
      "The data from ARTERIA.xlsx has been processed.\n",
      "The data from ARTIFEX.xlsx has been processed.\n",
      "The data from ASBIS.xlsx has been processed.\n",
      "The data from ASMGROUP.xlsx has been processed.\n",
      "The data from ASSECOBS.xlsx has been processed.\n",
      "The data from ASSECOP.xlsx has been processed.\n",
      "The data from ASSECOSE.xlsx has been processed.\n",
      "The data from ASTARTA.xlsx has been processed.\n",
      "The data from ATENDE.xlsx has been processed.\n",
      "The data from ATLANTA.xlsx has been processed.\n",
      "The data from ATMG.xlsx has been processed.\n",
      "The data from ATREM.xlsx has been processed.\n",
      "The data from AUTOPART.xlsx has been processed.\n",
      "The data from AZOTY.xlsx has been processed.\n",
      "The data from BAHOLDING.xlsx has been processed.\n",
      "The data from BEDZIN.xlsx has been processed.\n",
      "The data from BENEFIT.xlsx has been processed.\n",
      "The data from BERLING.xlsx has been processed.\n",
      "The data from BETACOM.xlsx has been processed.\n",
      "The data from BIGCHEESE.xlsx has been processed.\n",
      "The data from BIOCELTIX.xlsx has been processed.\n",
      "The data from BIOMAXIM.xlsx has been processed.\n",
      "The data from BIOMED.xlsx has been processed.\n",
      "The data from BIOPLAN.xlsx has been processed.\n",
      "The data from BIOTON.xlsx has been processed.\n",
      "The data from BMW.xlsx has been processed.\n",
      "The data from BOGDANKA.xlsx has been processed.\n",
      "The data from BOOMBIT.xlsx has been processed.\n",
      "The data from BORYSZEW.xlsx has been processed.\n",
      "The data from BOWIM.xlsx has been processed.\n",
      "The data from BRAND24.xlsx has been processed.\n",
      "The data from BRASTER.xlsx has been processed.\n",
      "The data from BUDIMEX.xlsx has been processed.\n",
      "The data from BUMECH.xlsx has been processed.\n",
      "The data from CAPTORTX.xlsx has been processed.\n",
      "The data from CCC.xlsx has been processed.\n",
      "The data from CDPROJEK.xlsx has been processed.\n",
      "The data from CDRL.xlsx has been processed.\n",
      "The data from CENNOWTE.xlsx has been processed.\n",
      "The data from CEZ.xlsx has been processed.\n",
      "The data from CFIHOL.xlsx has been processed.\n",
      "The data from CIECH.xlsx has been processed.\n",
      "The data from CIGAMES.xlsx has been processed.\n",
      "The data from CITYSERV.xlsx has been processed.\n",
      "The data from CLNPHARMA.xlsx has been processed.\n",
      "The data from COALENER.xlsx has been processed.\n",
      "The data from COGNOR.xlsx has been processed.\n",
      "The data from COMARCH.xlsx has been processed.\n",
      "The data from COMPERIA.xlsx has been processed.\n",
      "The data from COMPREMUM.xlsx has been processed.\n",
      "The data from COMP_W.xlsx has been processed.\n",
      "The data from CORMAY.xlsx has been processed.\n",
      "The data from CREEPYJAR.xlsx has been processed.\n",
      "The data from CREOTECH.xlsx has been processed.\n",
      "The data from CYFPOLS.xlsx has been processed.\n",
      "The data from DADELO.xlsx has been processed.\n",
      "The data from DATAWALK.xlsx has been processed.\n",
      "The data from DEBICA.xlsx has been processed.\n",
      "The data from DECORA.xlsx has been processed.\n",
      "The data from DEKPOL.xlsx has been processed.\n",
      "The data from DELKO.xlsx has been processed.\n",
      "The data from DIGITANET.xlsx has been processed.\n",
      "The data from DIGITREE.xlsx has been processed.\n",
      "The data from DINOPL.xlsx has been processed.\n",
      "The data from DOMDEVEL.xlsx has been processed.\n",
      "The data from DREWEX.xlsx has been processed.\n",
      "The data from DROZAPOL.xlsx has been processed.\n",
      "The data from EDINV.xlsx has been processed.\n",
      "The data from EFEKT.xlsx has been processed.\n",
      "The data from EKO_EXP.xlsx has been processed.\n",
      "The data from ELEKTROT.xlsx has been processed.\n",
      "The data from ELZAB.xlsx has been processed.\n",
      "The data from EMC.xlsx has been processed.\n",
      "The data from ENEA.xlsx has been processed.\n",
      "The data from ENEFI.xlsx has been processed.\n",
      "The data from ENELMED.xlsx has been processed.\n",
      "The data from ENERGA.xlsx has been processed.\n",
      "The data from ENERGOAP.xlsx has been processed.\n",
      "The data from ENERGOIN.xlsx has been processed.\n",
      "The data from ENTER.xlsx has been processed.\n",
      "The data from ERBUD.xlsx has been processed.\n",
      "The data from ERG.xlsx has been processed.\n",
      "The data from ESOTIQ.xlsx has been processed.\n",
      "The data from EUROCASH.xlsx has been processed.\n",
      "The data from EUROTEL.xlsx has been processed.\n",
      "The data from FAMUR.xlsx has been processed.\n",
      "The data from FASING.xlsx has been processed.\n",
      "The data from FEERUM.xlsx has been processed.\n",
      "The data from FERRO.xlsx has been processed.\n",
      "The data from FERRUM.xlsx has been processed.\n",
      "The data from FORTE.xlsx has been processed.\n",
      "The data from GAMEOPS.xlsx has been processed.\n",
      "The data from GAMFACTOR.xlsx has been processed.\n",
      "The data from GIGROUP.xlsx has been processed.\n",
      "The data from GLOBCOSM.xlsx has been processed.\n",
      "The data from GOBARTO.xlsx has been processed.\n",
      "The data from GREENX.xlsx has been processed.\n",
      "The data from GRODNO.xlsx has been processed.\n",
      "The data from GRUPRACUJ.xlsx has been processed.\n",
      "The data from HARPER.xlsx has been processed.\n",
      "The data from HELIO.xlsx has been processed.\n",
      "The data from HERKULES.xlsx has been processed.\n",
      "The data from HOLLYWOO.xlsx has been processed.\n",
      "The data from HUUUGE.xlsx has been processed.\n",
      "The data from HYDROTOR.xlsx has been processed.\n",
      "The data from IFIRMA.xlsx has been processed.\n",
      "The data from IFSA.xlsx has been processed.\n",
      "The data from IMCSA.xlsx has been processed.\n",
      "The data from INSTAL_K.xlsx has been processed.\n",
      "The data from INTERCAR.xlsx has been processed.\n",
      "The data from INTERFER.xlsx has been processed.\n",
      "The data from INTERLUB.xlsx has been processed.\n",
      "The data from INTERMED.xlsx has been processed.\n",
      "The data from INTERRAO.xlsx has been processed.\n",
      "The data from INTERSPO.xlsx has been processed.\n",
      "The data from INTROL.xlsx has been processed.\n",
      "The data from ITMTRADE.xlsx has been processed.\n",
      "The data from IZOBLOK.xlsx has been processed.\n",
      "The data from IZOL_JAR.xlsx has been processed.\n",
      "The data from IZOSTAL.xlsx has been processed.\n",
      "The data from JSW.xlsx has been processed.\n",
      "The data from JWWINV.xlsx has been processed.\n",
      "The data from K2HOLDING.xlsx has been processed.\n",
      "The data from KCI.xlsx has been processed.\n",
      "The data from KDMSHIP.xlsx has been processed.\n",
      "The data from KERNEL.xlsx has been processed.\n",
      "The data from KETY.xlsx has been processed.\n",
      "The data from KGHM.xlsx has been processed.\n",
      "The data from KGL.xlsx has been processed.\n",
      "The data from KINOPL.xlsx has been processed.\n",
      "The data from KOGENER.xlsx has been processed.\n",
      "The data from KOMPAP.xlsx has been processed.\n",
      "The data from KOMPUTRO.xlsx has been processed.\n",
      "The data from KORBUDOM.xlsx has been processed.\n",
      "The data from KPPD.xlsx has been processed.\n",
      "The data from KRAKCHEM.xlsx has been processed.\n",
      "The data from KRKA.xlsx has been processed.\n",
      "The data from KRVITAMI.xlsx has been processed.\n",
      "The data from KRYNICKI.xlsx has been processed.\n",
      "The data from KSGAGRO.xlsx has been processed.\n",
      "The data from LABOPRIN.xlsx has been processed.\n",
      "The data from LARK.xlsx has been processed.\n",
      "The data from LARQ.xlsx has been processed.\n",
      "The data from LENA.xlsx has been processed.\n",
      "The data from LENTEX.xlsx has been processed.\n",
      "The data from LESS.xlsx has been processed.\n",
      "The data from LIBET.xlsx has been processed.\n",
      "The data from LIVECHAT.xlsx has been processed.\n",
      "The data from LOTOS.xlsx has been processed.\n",
      "The data from LPP.xlsx has been processed.\n",
      "The data from LSISOFT.xlsx has been processed.\n",
      "The data from LUBAWA.xlsx has been processed.\n",
      "The data from LZPS.xlsx has been processed.\n",
      "The data from MABION.xlsx has been processed.\n",
      "The data from MAKARONY.xlsx has been processed.\n",
      "The data from MANGATA.xlsx has been processed.\n",
      "The data from MANYDEV.xlsx has been processed.\n",
      "The data from MASTERPH.xlsx has been processed.\n",
      "The data from MAXCOM.xlsx has been processed.\n",
      "The data from MBWS.xlsx has been processed.\n",
      "The data from MDIENERG.xlsx has been processed.\n",
      "The data from MEDIACAP.xlsx has been processed.\n",
      "The data from MEDICALG.xlsx has been processed.\n",
      "The data from MEDINICE.xlsx has been processed.\n",
      "The data from MEGAR.xlsx has been processed.\n",
      "The data from MENNICA.xlsx has been processed.\n",
      "The data from MERCATOR.xlsx has been processed.\n",
      "The data from MERCEDES.xlsx has been processed.\n",
      "The data from MERCOR.xlsx has been processed.\n",
      "The data from MEXPOLSKA.xlsx has been processed.\n",
      "The data from MFOSA.xlsx has been processed.\n",
      "The data from MILKI.xlsx has been processed.\n",
      "The data from MIRACUL.xlsx has been processed.\n",
      "The data from MIRBUD.xlsx has been processed.\n",
      "The data from MLSYSTEM.xlsx has been processed.\n",
      "The data from MOBRUK.xlsx has been processed.\n",
      "The data from MOJ.xlsx has been processed.\n",
      "The data from MOL.xlsx has been processed.\n",
      "The data from MOLECURE.xlsx has been processed.\n",
      "The data from MONNARI.xlsx has been processed.\n",
      "The data from MOST_PK.xlsx has been processed.\n",
      "The data from MOST_WWA.xlsx has been processed.\n",
      "The data from MOST_ZAB.xlsx has been processed.\n",
      "The data from MUZA.xlsx has been processed.\n",
      "The data from NANOGROUP.xlsx has been processed.\n",
      "The data from NETIA.xlsx has been processed.\n",
      "The data from NEUCA.xlsx has been processed.\n",
      "The data from NEWAG.xlsx has been processed.\n",
      "The data from NEXITY.xlsx has been processed.\n",
      "The data from NOVATURAS.xlsx has been processed.\n",
      "The data from NOVITA.xlsx has been processed.\n",
      "The data from NTT.xlsx has been processed.\n",
      "The data from ODLEWNIE.xlsx has been processed.\n",
      "The data from OEX.xlsx has been processed.\n",
      "The data from ONDE.xlsx has been processed.\n",
      "The data from OPONEO.xlsx has been processed.\n",
      "The data from OPTEAM.xlsx has been processed.\n",
      "The data from ORANGEPL.xlsx has been processed.\n",
      "The data from ORZELBIA.xlsx has been processed.\n",
      "The data from OTLOGIS.xlsx has been processed.\n",
      "The data from OVOSTAR.xlsx has been processed.\n",
      "The data from PAK.xlsx has been processed.\n",
      "The data from PAMAPOL.xlsx has been processed.\n",
      "The data from PANOVA.xlsx has been processed.\n",
      "The data from PATENTUS.xlsx has been processed.\n",
      "The data from PBG.xlsx has been processed.\n",
      "The data from PBKM.xlsx has been processed.\n",
      "The data from PCCEXOL.xlsx has been processed.\n",
      "The data from PCCROKIT.xlsx has been processed.\n",
      "The data from PCFGROUP.xlsx has been processed.\n",
      "The data from PC_GUARD.xlsx has been processed.\n",
      "The data from PEKABEX.xlsx has been processed.\n",
      "The data from PEP.xlsx has been processed.\n",
      "The data from PEPCO.xlsx has been processed.\n",
      "The data from PEPEES.xlsx has been processed.\n",
      "The data from PGE.xlsx has been processed.\n",
      "The data from PGNIG.xlsx has been processed.\n",
      "The data from PGSSOFT.xlsx has been processed.\n",
      "The data from PHARMENA.xlsx has been processed.\n",
      "The data from PHOTON.xlsx has been processed.\n",
      "The data from PJPMAKRUM.xlsx has been processed.\n",
      "The data from PKNORLEN.xlsx has been processed.\n",
      "The data from PKPCARGO.xlsx has been processed.\n",
      "The data from PLASTBOX.xlsx has been processed.\n",
      "The data from PLAYWAY.xlsx has been processed.\n",
      "The data from PMPG.xlsx has been processed.\n",
      "The data from POLICE.xlsx has been processed.\n",
      "The data from POLIMEX.xlsx has been processed.\n",
      "The data from POLTREG.xlsx has been processed.\n",
      "The data from POLWAX.xlsx has been processed.\n",
      "The data from PRIMAMOD.xlsx has been processed.\n",
      "The data from PRIMETECH.xlsx has been processed.\n",
      "The data from PROCAD.xlsx has been processed.\n",
      "The data from PROCHEM.xlsx has been processed.\n",
      "The data from PULAWY.xlsx has been processed.\n",
      "The data from PUNKPIRAT.xlsx has been processed.\n",
      "The data from PURE.xlsx has been processed.\n",
      "The data from QUANTUM.xlsx has been processed.\n",
      "The data from R22.xlsx has been processed.\n",
      "The data from RADPOL.xlsx has been processed.\n",
      "The data from RAFAKO.xlsx has been processed.\n",
      "The data from RAFAMET.xlsx has been processed.\n",
      "The data from RAINBOW.xlsx has been processed.\n",
      "The data from RAWLPLUG.xlsx has been processed.\n",
      "The data from REDAN.xlsx has been processed.\n",
      "The data from REGNON.xlsx has been processed.\n",
      "The data from RELPOL.xlsx has been processed.\n",
      "The data from REMAK.xlsx has been processed.\n",
      "The data from RESBUD.xlsx has been processed.\n",
      "The data from RONSON.xlsx has been processed.\n",
      "The data from ROPCZYCE.xlsx has been processed.\n",
      "The data from RYVU.xlsx has been processed.\n",
      "The data from SADOVAYA.xlsx has been processed.\n",
      "The data from SANWIL.xlsx has been processed.\n",
      "The data from SATIS.xlsx has been processed.\n",
      "The data from SECOWAR.xlsx has been processed.\n",
      "The data from SEKO.xlsx has been processed.\n",
      "The data from SELENAFM.xlsx has been processed.\n",
      "The data from SELVITA.xlsx has been processed.\n",
      "The data from SERINUS.xlsx has been processed.\n",
      "The data from SESCOM.xlsx has been processed.\n",
      "The data from SFINKS.xlsx has been processed.\n",
      "The data from SHOPER.xlsx has been processed.\n",
      "The data from SILVAIR.xlsx has been processed.\n",
      "The data from SILVANO.xlsx has been processed.\n",
      "The data from SIMFABRIC.xlsx has been processed.\n",
      "The data from SIMPLE.xlsx has been processed.\n",
      "The data from SKOTAN.xlsx has been processed.\n",
      "The data from SLEEPZAG.xlsx has been processed.\n",
      "The data from SNIEZKA.xlsx has been processed.\n",
      "The data from SOLAR.xlsx has been processed.\n",
      "The data from SONEL.xlsx has been processed.\n",
      "The data from SOPHARM.xlsx has been processed.\n",
      "The data from SPYROSOFT.xlsx has been processed.\n",
      "The data from STALEXP.xlsx has been processed.\n",
      "The data from STALPROD.xlsx has been processed.\n",
      "The data from STALPROF.xlsx has been processed.\n",
      "The data from STOMIL_S.xlsx has been processed.\n",
      "The data from STSHOLDING.xlsx has been processed.\n",
      "The data from SUNEX.xlsx has been processed.\n",
      "The data from SUWARY.xlsx has been processed.\n",
      "The data from SWISSMED.xlsx has been processed.\n",
      "The data from SYGNITY.xlsx has been processed.\n",
      "The data from SYNEKTIK.xlsx has been processed.\n",
      "The data from TALEX.xlsx has been processed.\n",
      "The data from TARCZYNS.xlsx has been processed.\n",
      "The data from TATRMR.xlsx has been processed.\n",
      "The data from TAURON.xlsx has been processed.\n",
      "The data from TBULL.xlsx has been processed.\n",
      "The data from TERMOREX.xlsx has been processed.\n",
      "The data from TESGAS.xlsx has been processed.\n",
      "The data from TIM.xlsx has been processed.\n",
      "The data from TORPOL.xlsx has been processed.\n",
      "The data from TOYA.xlsx has been processed.\n",
      "The data from TRAKCJA.xlsx has been processed.\n",
      "The data from TRANSPOL.xlsx has been processed.\n",
      "The data from TSGAMES.xlsx has been processed.\n",
      "The data from TXM.xlsx has been processed.\n",
      "The data from UFGAMES.xlsx has been processed.\n",
      "The data from ULMA.xlsx has been processed.\n",
      "The data from ULTGAMES.xlsx has been processed.\n",
      "The data from UNIBEP.xlsx has been processed.\n",
      "The data from UNIMA.xlsx has been processed.\n",
      "The data from UNIMOT.xlsx has been processed.\n",
      "The data from URSUS.xlsx has been processed.\n",
      "The data from VERCOM.xlsx has been processed.\n",
      "The data from VIGOPHOTN.xlsx has been processed.\n",
      "The data from VISTAL.xlsx has been processed.\n",
      "The data from VIVID.xlsx has been processed.\n",
      "The data from VOXEL.xlsx has been processed.\n",
      "The data from VRG.xlsx has been processed.\n",
      "The data from WASKO.xlsx has been processed.\n",
      "The data from WAWEL.xlsx has been processed.\n",
      "The data from WIELTON.xlsx has been processed.\n",
      "The data from WIRTUALN.xlsx has been processed.\n",
      "The data from WITTCHEN.xlsx has been processed.\n",
      "The data from WOJAS.xlsx has been processed.\n",
      "The data from XTPL.xlsx has been processed.\n",
      "The data from ZAMET.xlsx has been processed.\n",
      "The data from ZPC_OTM.xlsx has been processed.\n",
      "The data from ZPUE.xlsx has been processed.\n",
      "The data from ZREMBCH.xlsx has been processed.\n",
      "The data from ZUE.xlsx has been processed.\n",
      "The data from ZUK.xlsx has been processed.\n",
      "The data from ZYWIEC.xlsx has been processed.\n"
     ]
    }
   ],
   "source": [
    "df_names = process_company_sector(FOLDER_PATH)"
   ],
   "metadata": {
    "collapsed": false,
    "ExecuteTime": {
     "end_time": "2024-05-24T05:46:36.210010500Z",
     "start_time": "2024-05-24T05:45:53.248391700Z"
    }
   },
   "id": "2afe4e6288f0d029",
   "execution_count": 46
  },
  {
   "cell_type": "code",
   "outputs": [
    {
     "data": {
      "text/plain": "         filename       Company Name  \\\n0      11BIT.xlsx  11 bit studios SA   \n1      3LPSA.xlsx             3LP SA   \n2    3RGAMES.xlsx        3R Games SA   \n3         AB.xlsx              AB SA   \n4         AC.xlsx              AC SA   \n..            ...                ...   \n344     ZPUE.xlsx            ZPUE SA   \n345  ZREMBCH.xlsx  Zremb-Chojnice SA   \n346      ZUE.xlsx             ZUE SA   \n347      ZUK.xlsx   ZUK Stąporków SA   \n348   ZYWIEC.xlsx    Grupa Żywiec SA   \n\n                                       Sector   Ticker  \n0                                         gry      11B  \n1                                         NaN  3LP_IPO  \n2                                         gry      3RG  \n3                     komputery i elektronika      ABE  \n4                          części samochodowe      ACG  \n..                                        ...      ...  \n344                    urządzenia elektryczne      PUE  \n345                    urządzenia mechaniczne      ZRE  \n346  instalacje budowlane i telekomunikacyjne      ZUE  \n347                           wyroby metalowe      ZUK  \n348                                    napoje      ZWC  \n\n[349 rows x 4 columns]",
      "text/html": "<div>\n<style scoped>\n    .dataframe tbody tr th:only-of-type {\n        vertical-align: middle;\n    }\n\n    .dataframe tbody tr th {\n        vertical-align: top;\n    }\n\n    .dataframe thead th {\n        text-align: right;\n    }\n</style>\n<table border=\"1\" class=\"dataframe\">\n  <thead>\n    <tr style=\"text-align: right;\">\n      <th></th>\n      <th>filename</th>\n      <th>Company Name</th>\n      <th>Sector</th>\n      <th>Ticker</th>\n    </tr>\n  </thead>\n  <tbody>\n    <tr>\n      <th>0</th>\n      <td>11BIT.xlsx</td>\n      <td>11 bit studios SA</td>\n      <td>gry</td>\n      <td>11B</td>\n    </tr>\n    <tr>\n      <th>1</th>\n      <td>3LPSA.xlsx</td>\n      <td>3LP SA</td>\n      <td>NaN</td>\n      <td>3LP_IPO</td>\n    </tr>\n    <tr>\n      <th>2</th>\n      <td>3RGAMES.xlsx</td>\n      <td>3R Games SA</td>\n      <td>gry</td>\n      <td>3RG</td>\n    </tr>\n    <tr>\n      <th>3</th>\n      <td>AB.xlsx</td>\n      <td>AB SA</td>\n      <td>komputery i elektronika</td>\n      <td>ABE</td>\n    </tr>\n    <tr>\n      <th>4</th>\n      <td>AC.xlsx</td>\n      <td>AC SA</td>\n      <td>części samochodowe</td>\n      <td>ACG</td>\n    </tr>\n    <tr>\n      <th>...</th>\n      <td>...</td>\n      <td>...</td>\n      <td>...</td>\n      <td>...</td>\n    </tr>\n    <tr>\n      <th>344</th>\n      <td>ZPUE.xlsx</td>\n      <td>ZPUE SA</td>\n      <td>urządzenia elektryczne</td>\n      <td>PUE</td>\n    </tr>\n    <tr>\n      <th>345</th>\n      <td>ZREMBCH.xlsx</td>\n      <td>Zremb-Chojnice SA</td>\n      <td>urządzenia mechaniczne</td>\n      <td>ZRE</td>\n    </tr>\n    <tr>\n      <th>346</th>\n      <td>ZUE.xlsx</td>\n      <td>ZUE SA</td>\n      <td>instalacje budowlane i telekomunikacyjne</td>\n      <td>ZUE</td>\n    </tr>\n    <tr>\n      <th>347</th>\n      <td>ZUK.xlsx</td>\n      <td>ZUK Stąporków SA</td>\n      <td>wyroby metalowe</td>\n      <td>ZUK</td>\n    </tr>\n    <tr>\n      <th>348</th>\n      <td>ZYWIEC.xlsx</td>\n      <td>Grupa Żywiec SA</td>\n      <td>napoje</td>\n      <td>ZWC</td>\n    </tr>\n  </tbody>\n</table>\n<p>349 rows × 4 columns</p>\n</div>"
     },
     "execution_count": 47,
     "metadata": {},
     "output_type": "execute_result"
    }
   ],
   "source": [
    "df_names"
   ],
   "metadata": {
    "collapsed": false,
    "ExecuteTime": {
     "end_time": "2024-05-24T05:46:36.212081200Z",
     "start_time": "2024-05-24T05:46:36.204959Z"
    }
   },
   "id": "a3cb1cca71e78416",
   "execution_count": 47
  },
  {
   "cell_type": "code",
   "outputs": [],
   "source": [
    "output_csv_path = 'names_gpw.csv'\n",
    "df_names.to_csv(output_csv_path, index=False)"
   ],
   "metadata": {
    "collapsed": false,
    "ExecuteTime": {
     "end_time": "2024-05-24T05:46:36.220455600Z",
     "start_time": "2024-05-24T05:46:36.212081200Z"
    }
   },
   "id": "bf5abe1e34f40873",
   "execution_count": 48
  },
  {
   "cell_type": "markdown",
   "source": [
    "# Excel QS DATA"
   ],
   "metadata": {
    "collapsed": false
   },
   "id": "d482586e97436c50"
  },
  {
   "cell_type": "code",
   "outputs": [],
   "source": [
    "def process_excel_data(base_folder):\n",
    "    folder_path = os.path.join(base_folder)\n",
    "    all_data = []\n",
    "\n",
    "    row_ranges = [\n",
    "        range(2, 23),   # Rows 3 to 22 inclusive, zero-indexed\n",
    "        range(30, 60),  # Rows 31 to 59 inclusive\n",
    "        range(60, 94),  # Rows 61 to 93 inclusive\n",
    "        range(254, 276),  # Rows 255 to 275 inclusive\n",
    "        range(278, 284),  # Rows 279 to 283 inclusive\n",
    "        range(290, 294)   # Rows 291 to 293 inclusive\n",
    "    ]\n",
    "\n",
    "    for filename in os.listdir(folder_path):\n",
    "        if filename.endswith('.xlsx'):\n",
    "            file_path = os.path.join(folder_path, filename)\n",
    "            print(f\"Processing file: {filename}\")\n",
    "            try:\n",
    "                data = pd.read_excel(file_path, sheet_name='QS', header=None)\n",
    "\n",
    "                for row_range in row_ranges:\n",
    "                    headers = data.iloc[list(row_range), 2].tolist()\n",
    "                    range_data = data.iloc[list(row_range), 3:102]\n",
    "                    range_data = range_data.replace(0, np.nan)\n",
    "\n",
    "                    transposed_data = range_data.transpose()\n",
    "                    transposed_data.columns = headers\n",
    "                    transposed_data['filename'] = filename\n",
    "\n",
    "                    all_data.append(transposed_data)\n",
    "            except Exception as e:\n",
    "                print(f\"Error processing file {filename}: {e}\")\n",
    "\n",
    "    if all_data:\n",
    "        results_df = pd.concat(all_data, ignore_index=True)\n",
    "        results_df = results_df.dropna(how='all', subset=[col for col in results_df.columns if col != 'filename'])\n",
    "        results_df = results_df.loc[:, ~results_df.columns.isna()]\n",
    "\n",
    "        return results_df\n",
    "    else:\n",
    "        print(\"No data to concatenate\")\n",
    "        return pd.DataFrame()"
   ],
   "metadata": {
    "collapsed": false,
    "ExecuteTime": {
     "end_time": "2024-05-24T05:46:36.239195700Z",
     "start_time": "2024-05-24T05:46:36.219423200Z"
    }
   },
   "id": "5fc4826cd6e3ba66",
   "execution_count": 49
  },
  {
   "cell_type": "code",
   "outputs": [],
   "source": [
    "df_results = process_excel_data(FOLDER_PATH)\n",
    "df_results"
   ],
   "metadata": {
    "collapsed": false
   },
   "id": "f9f0bdc2f9f1d47e",
   "execution_count": null
  },
  {
   "cell_type": "code",
   "outputs": [],
   "source": [
    "df_cleaned_columns = df_results.dropna(how='all', axis=1)"
   ],
   "metadata": {
    "collapsed": false,
    "ExecuteTime": {
     "end_time": "2024-05-24T05:48:11.481592Z",
     "start_time": "2024-05-24T05:48:10.934784700Z"
    }
   },
   "id": "82323a4f438e0ca4",
   "execution_count": 51
  },
  {
   "cell_type": "code",
   "outputs": [],
   "source": [
    "df_cleaned_columns = df_cleaned_columns.drop(columns='Start of period')"
   ],
   "metadata": {
    "collapsed": false,
    "ExecuteTime": {
     "end_time": "2024-05-24T05:48:11.522977800Z",
     "start_time": "2024-05-24T05:48:11.361998200Z"
    }
   },
   "id": "ccd3bdf77d777832",
   "execution_count": 52
  },
  {
   "cell_type": "code",
   "outputs": [
    {
     "name": "stdout",
     "output_type": "stream",
     "text": [
      "After dropping rows with None, NaN or 0 in 'End of period': (19906, 106)\n"
     ]
    }
   ],
   "source": [
    "df_cleaned_columns = df_cleaned_columns.dropna(subset=['End of period'])\n",
    "df_cleaned_columns = df_cleaned_columns[df_cleaned_columns['End of period'] != 0]\n",
    "print(f\"After dropping rows with None, NaN or 0 in 'End of period': {df_cleaned_columns.shape}\")"
   ],
   "metadata": {
    "collapsed": false,
    "ExecuteTime": {
     "end_time": "2024-05-24T05:48:11.597052800Z",
     "start_time": "2024-05-24T05:48:11.511793500Z"
    }
   },
   "id": "f8a9040427d8e4eb",
   "execution_count": 53
  },
  {
   "cell_type": "code",
   "outputs": [
    {
     "data": {
      "text/plain": "       End of period Revenues from sales Operating profit/loss  \\\n48        2010-03-31                  66                   NaN   \n50        2010-09-30                 129                   NaN   \n51        2010-12-31                 228                   NaN   \n52        2011-03-31                 144                   NaN   \n53        2011-06-30                 959                   NaN   \n...              ...                 ...                   ...   \n195460    2021-09-30              995385                103668   \n195461    2021-12-31              733974                 46890   \n195462    2022-03-31              696778                  6649   \n195463    2022-06-30             1209418                101579   \n195464    2022-09-30             1106635                 61538   \n\n       Net profit/loss attributable to equity holders of the parent  \\\n48                                                    -16             \n50                                                    -26             \n51                                                   -198             \n52                                                    -50             \n53                                                    377             \n...                                                   ...             \n195460                                             104744             \n195461                                              32175             \n195462                                              -1246             \n195463                                              92625             \n195464                                              23844             \n\n       Total comprehensive income attributable to equity holders Depreciation  \\\n48                                                    NaN                  29   \n50                                                    NaN                   6   \n51                                                    NaN                 NaN   \n52                                                    NaN                 NaN   \n53                                                    NaN                   7   \n...                                                   ...                 ...   \n195460                                             106250               36985   \n195461                                              42434               42311   \n195462                                              41367               38391   \n195463                                              45386               39932   \n195464                                              18814               40212   \n\n       Cash flow from operating activities  \\\n48                                     NaN   \n50                                     NaN   \n51                                     NaN   \n52                                     NaN   \n53                                     NaN   \n...                                    ...   \n195460                              354390   \n195461                               50929   \n195462                               13967   \n195463                              101877   \n195464                              156461   \n\n       Cash flow from investing activities  \\\n48                                     NaN   \n50                                     NaN   \n51                                     NaN   \n52                                     NaN   \n53                                     NaN   \n...                                    ...   \n195460                              -22037   \n195461                              -65863   \n195462                              -33280   \n195463                              -21179   \n195464                              -24386   \n\n       Cash flow from financing activities   Aktywa  ... Assets ratio  \\\n48                                     NaN      NaN  ...          NaN   \n50                                     NaN     1411  ...          NaN   \n51                                     NaN  1352.36  ...          NaN   \n52                                     NaN     1342  ...          NaN   \n53                                     NaN     1659  ...          NaN   \n...                                    ...      ...  ...          ...   \n195460                             -433167  2649304  ...          NaN   \n195461                               30091  2508447  ...          NaN   \n195462                               57099  2741947  ...          NaN   \n195463                              -81990  2981239  ...          NaN   \n195464                             -117588  2733389  ...          NaN   \n\n       Debt ratio Debt service ratio Rate debt security Leverage (EM)  \\\n48            NaN                NaN                NaN           NaN   \n50            NaN                NaN                NaN           NaN   \n51            NaN                NaN                NaN           NaN   \n52            NaN                NaN                NaN           NaN   \n53            NaN                NaN                NaN           NaN   \n...           ...                ...                ...           ...   \n195460        NaN                NaN                NaN           NaN   \n195461        NaN                NaN                NaN           NaN   \n195462        NaN                NaN                NaN           NaN   \n195463        NaN                NaN                NaN           NaN   \n195464        NaN                NaN                NaN           NaN   \n\n       Asset utilization (AU) Load gross profit Current financial liabilities  \\\n48                        NaN               NaN                           NaN   \n50                        NaN               NaN                           NaN   \n51                        NaN               NaN                           NaN   \n52                        NaN               NaN                           NaN   \n53                        NaN               NaN                           NaN   \n...                       ...               ...                           ...   \n195460                    NaN               NaN                           NaN   \n195461                    NaN               NaN                           NaN   \n195462                    NaN               NaN                           NaN   \n195463                    NaN               NaN                           NaN   \n195464                    NaN               NaN                           NaN   \n\n       Non-current financial liabilities Financial liabilities (total)  \n48                                   NaN                           NaN  \n50                                   NaN                           NaN  \n51                                   NaN                           NaN  \n52                                   NaN                           NaN  \n53                                   NaN                           NaN  \n...                                  ...                           ...  \n195460                               NaN                           NaN  \n195461                               NaN                           NaN  \n195462                               NaN                           NaN  \n195463                               NaN                           NaN  \n195464                               NaN                           NaN  \n\n[19906 rows x 106 columns]",
      "text/html": "<div>\n<style scoped>\n    .dataframe tbody tr th:only-of-type {\n        vertical-align: middle;\n    }\n\n    .dataframe tbody tr th {\n        vertical-align: top;\n    }\n\n    .dataframe thead th {\n        text-align: right;\n    }\n</style>\n<table border=\"1\" class=\"dataframe\">\n  <thead>\n    <tr style=\"text-align: right;\">\n      <th></th>\n      <th>End of period</th>\n      <th>Revenues from sales</th>\n      <th>Operating profit/loss</th>\n      <th>Net profit/loss attributable to equity holders of the parent</th>\n      <th>Total comprehensive income attributable to equity holders</th>\n      <th>Depreciation</th>\n      <th>Cash flow from operating activities</th>\n      <th>Cash flow from investing activities</th>\n      <th>Cash flow from financing activities</th>\n      <th>Aktywa</th>\n      <th>...</th>\n      <th>Assets ratio</th>\n      <th>Debt ratio</th>\n      <th>Debt service ratio</th>\n      <th>Rate debt security</th>\n      <th>Leverage (EM)</th>\n      <th>Asset utilization (AU)</th>\n      <th>Load gross profit</th>\n      <th>Current financial liabilities</th>\n      <th>Non-current financial liabilities</th>\n      <th>Financial liabilities (total)</th>\n    </tr>\n  </thead>\n  <tbody>\n    <tr>\n      <th>48</th>\n      <td>2010-03-31</td>\n      <td>66</td>\n      <td>NaN</td>\n      <td>-16</td>\n      <td>NaN</td>\n      <td>29</td>\n      <td>NaN</td>\n      <td>NaN</td>\n      <td>NaN</td>\n      <td>NaN</td>\n      <td>...</td>\n      <td>NaN</td>\n      <td>NaN</td>\n      <td>NaN</td>\n      <td>NaN</td>\n      <td>NaN</td>\n      <td>NaN</td>\n      <td>NaN</td>\n      <td>NaN</td>\n      <td>NaN</td>\n      <td>NaN</td>\n    </tr>\n    <tr>\n      <th>50</th>\n      <td>2010-09-30</td>\n      <td>129</td>\n      <td>NaN</td>\n      <td>-26</td>\n      <td>NaN</td>\n      <td>6</td>\n      <td>NaN</td>\n      <td>NaN</td>\n      <td>NaN</td>\n      <td>1411</td>\n      <td>...</td>\n      <td>NaN</td>\n      <td>NaN</td>\n      <td>NaN</td>\n      <td>NaN</td>\n      <td>NaN</td>\n      <td>NaN</td>\n      <td>NaN</td>\n      <td>NaN</td>\n      <td>NaN</td>\n      <td>NaN</td>\n    </tr>\n    <tr>\n      <th>51</th>\n      <td>2010-12-31</td>\n      <td>228</td>\n      <td>NaN</td>\n      <td>-198</td>\n      <td>NaN</td>\n      <td>NaN</td>\n      <td>NaN</td>\n      <td>NaN</td>\n      <td>NaN</td>\n      <td>1352.36</td>\n      <td>...</td>\n      <td>NaN</td>\n      <td>NaN</td>\n      <td>NaN</td>\n      <td>NaN</td>\n      <td>NaN</td>\n      <td>NaN</td>\n      <td>NaN</td>\n      <td>NaN</td>\n      <td>NaN</td>\n      <td>NaN</td>\n    </tr>\n    <tr>\n      <th>52</th>\n      <td>2011-03-31</td>\n      <td>144</td>\n      <td>NaN</td>\n      <td>-50</td>\n      <td>NaN</td>\n      <td>NaN</td>\n      <td>NaN</td>\n      <td>NaN</td>\n      <td>NaN</td>\n      <td>1342</td>\n      <td>...</td>\n      <td>NaN</td>\n      <td>NaN</td>\n      <td>NaN</td>\n      <td>NaN</td>\n      <td>NaN</td>\n      <td>NaN</td>\n      <td>NaN</td>\n      <td>NaN</td>\n      <td>NaN</td>\n      <td>NaN</td>\n    </tr>\n    <tr>\n      <th>53</th>\n      <td>2011-06-30</td>\n      <td>959</td>\n      <td>NaN</td>\n      <td>377</td>\n      <td>NaN</td>\n      <td>7</td>\n      <td>NaN</td>\n      <td>NaN</td>\n      <td>NaN</td>\n      <td>1659</td>\n      <td>...</td>\n      <td>NaN</td>\n      <td>NaN</td>\n      <td>NaN</td>\n      <td>NaN</td>\n      <td>NaN</td>\n      <td>NaN</td>\n      <td>NaN</td>\n      <td>NaN</td>\n      <td>NaN</td>\n      <td>NaN</td>\n    </tr>\n    <tr>\n      <th>...</th>\n      <td>...</td>\n      <td>...</td>\n      <td>...</td>\n      <td>...</td>\n      <td>...</td>\n      <td>...</td>\n      <td>...</td>\n      <td>...</td>\n      <td>...</td>\n      <td>...</td>\n      <td>...</td>\n      <td>...</td>\n      <td>...</td>\n      <td>...</td>\n      <td>...</td>\n      <td>...</td>\n      <td>...</td>\n      <td>...</td>\n      <td>...</td>\n      <td>...</td>\n      <td>...</td>\n    </tr>\n    <tr>\n      <th>195460</th>\n      <td>2021-09-30</td>\n      <td>995385</td>\n      <td>103668</td>\n      <td>104744</td>\n      <td>106250</td>\n      <td>36985</td>\n      <td>354390</td>\n      <td>-22037</td>\n      <td>-433167</td>\n      <td>2649304</td>\n      <td>...</td>\n      <td>NaN</td>\n      <td>NaN</td>\n      <td>NaN</td>\n      <td>NaN</td>\n      <td>NaN</td>\n      <td>NaN</td>\n      <td>NaN</td>\n      <td>NaN</td>\n      <td>NaN</td>\n      <td>NaN</td>\n    </tr>\n    <tr>\n      <th>195461</th>\n      <td>2021-12-31</td>\n      <td>733974</td>\n      <td>46890</td>\n      <td>32175</td>\n      <td>42434</td>\n      <td>42311</td>\n      <td>50929</td>\n      <td>-65863</td>\n      <td>30091</td>\n      <td>2508447</td>\n      <td>...</td>\n      <td>NaN</td>\n      <td>NaN</td>\n      <td>NaN</td>\n      <td>NaN</td>\n      <td>NaN</td>\n      <td>NaN</td>\n      <td>NaN</td>\n      <td>NaN</td>\n      <td>NaN</td>\n      <td>NaN</td>\n    </tr>\n    <tr>\n      <th>195462</th>\n      <td>2022-03-31</td>\n      <td>696778</td>\n      <td>6649</td>\n      <td>-1246</td>\n      <td>41367</td>\n      <td>38391</td>\n      <td>13967</td>\n      <td>-33280</td>\n      <td>57099</td>\n      <td>2741947</td>\n      <td>...</td>\n      <td>NaN</td>\n      <td>NaN</td>\n      <td>NaN</td>\n      <td>NaN</td>\n      <td>NaN</td>\n      <td>NaN</td>\n      <td>NaN</td>\n      <td>NaN</td>\n      <td>NaN</td>\n      <td>NaN</td>\n    </tr>\n    <tr>\n      <th>195463</th>\n      <td>2022-06-30</td>\n      <td>1209418</td>\n      <td>101579</td>\n      <td>92625</td>\n      <td>45386</td>\n      <td>39932</td>\n      <td>101877</td>\n      <td>-21179</td>\n      <td>-81990</td>\n      <td>2981239</td>\n      <td>...</td>\n      <td>NaN</td>\n      <td>NaN</td>\n      <td>NaN</td>\n      <td>NaN</td>\n      <td>NaN</td>\n      <td>NaN</td>\n      <td>NaN</td>\n      <td>NaN</td>\n      <td>NaN</td>\n      <td>NaN</td>\n    </tr>\n    <tr>\n      <th>195464</th>\n      <td>2022-09-30</td>\n      <td>1106635</td>\n      <td>61538</td>\n      <td>23844</td>\n      <td>18814</td>\n      <td>40212</td>\n      <td>156461</td>\n      <td>-24386</td>\n      <td>-117588</td>\n      <td>2733389</td>\n      <td>...</td>\n      <td>NaN</td>\n      <td>NaN</td>\n      <td>NaN</td>\n      <td>NaN</td>\n      <td>NaN</td>\n      <td>NaN</td>\n      <td>NaN</td>\n      <td>NaN</td>\n      <td>NaN</td>\n      <td>NaN</td>\n    </tr>\n  </tbody>\n</table>\n<p>19906 rows × 106 columns</p>\n</div>"
     },
     "execution_count": 54,
     "metadata": {},
     "output_type": "execute_result"
    }
   ],
   "source": [],
   "metadata": {
    "collapsed": false,
    "ExecuteTime": {
     "end_time": "2024-05-24T05:48:11.636771100Z",
     "start_time": "2024-05-24T05:48:11.598108100Z"
    }
   },
   "id": "bb7f3b97ca6d32f4",
   "execution_count": 54
  },
  {
   "cell_type": "code",
   "outputs": [],
   "source": [
    "output_csv_path = 'dataframe_gpw.csv'\n",
    "df_cleaned_columns.to_csv(output_csv_path, index=False)"
   ],
   "metadata": {
    "collapsed": false,
    "ExecuteTime": {
     "end_time": "2024-05-24T05:48:11.908730700Z",
     "start_time": "2024-05-24T05:48:11.637806300Z"
    }
   },
   "id": "a57e712eaef96fd9",
   "execution_count": 56
  },
  {
   "cell_type": "code",
   "outputs": [
    {
     "data": {
      "text/plain": "       End of period Revenues from sales Operating profit/loss  \\\n48        2010-03-31                  66                   NaN   \n50        2010-09-30                 129                   NaN   \n51        2010-12-31                 228                   NaN   \n52        2011-03-31                 144                   NaN   \n53        2011-06-30                 959                   NaN   \n...              ...                 ...                   ...   \n195460    2021-09-30              995385                103668   \n195461    2021-12-31              733974                 46890   \n195462    2022-03-31              696778                  6649   \n195463    2022-06-30             1209418                101579   \n195464    2022-09-30             1106635                 61538   \n\n       Net profit/loss attributable to equity holders of the parent  \\\n48                                                    -16             \n50                                                    -26             \n51                                                   -198             \n52                                                    -50             \n53                                                    377             \n...                                                   ...             \n195460                                             104744             \n195461                                              32175             \n195462                                              -1246             \n195463                                              92625             \n195464                                              23844             \n\n       Total comprehensive income attributable to equity holders Depreciation  \\\n48                                                    NaN                  29   \n50                                                    NaN                   6   \n51                                                    NaN                 NaN   \n52                                                    NaN                 NaN   \n53                                                    NaN                   7   \n...                                                   ...                 ...   \n195460                                             106250               36985   \n195461                                              42434               42311   \n195462                                              41367               38391   \n195463                                              45386               39932   \n195464                                              18814               40212   \n\n       Cash flow from operating activities  \\\n48                                     NaN   \n50                                     NaN   \n51                                     NaN   \n52                                     NaN   \n53                                     NaN   \n...                                    ...   \n195460                              354390   \n195461                               50929   \n195462                               13967   \n195463                              101877   \n195464                              156461   \n\n       Cash flow from investing activities  \\\n48                                     NaN   \n50                                     NaN   \n51                                     NaN   \n52                                     NaN   \n53                                     NaN   \n...                                    ...   \n195460                              -22037   \n195461                              -65863   \n195462                              -33280   \n195463                              -21179   \n195464                              -24386   \n\n       Cash flow from financing activities   Aktywa  ... Assets ratio  \\\n48                                     NaN      NaN  ...          NaN   \n50                                     NaN     1411  ...          NaN   \n51                                     NaN  1352.36  ...          NaN   \n52                                     NaN     1342  ...          NaN   \n53                                     NaN     1659  ...          NaN   \n...                                    ...      ...  ...          ...   \n195460                             -433167  2649304  ...          NaN   \n195461                               30091  2508447  ...          NaN   \n195462                               57099  2741947  ...          NaN   \n195463                              -81990  2981239  ...          NaN   \n195464                             -117588  2733389  ...          NaN   \n\n       Debt ratio Debt service ratio Rate debt security Leverage (EM)  \\\n48            NaN                NaN                NaN           NaN   \n50            NaN                NaN                NaN           NaN   \n51            NaN                NaN                NaN           NaN   \n52            NaN                NaN                NaN           NaN   \n53            NaN                NaN                NaN           NaN   \n...           ...                ...                ...           ...   \n195460        NaN                NaN                NaN           NaN   \n195461        NaN                NaN                NaN           NaN   \n195462        NaN                NaN                NaN           NaN   \n195463        NaN                NaN                NaN           NaN   \n195464        NaN                NaN                NaN           NaN   \n\n       Asset utilization (AU) Load gross profit Current financial liabilities  \\\n48                        NaN               NaN                           NaN   \n50                        NaN               NaN                           NaN   \n51                        NaN               NaN                           NaN   \n52                        NaN               NaN                           NaN   \n53                        NaN               NaN                           NaN   \n...                       ...               ...                           ...   \n195460                    NaN               NaN                           NaN   \n195461                    NaN               NaN                           NaN   \n195462                    NaN               NaN                           NaN   \n195463                    NaN               NaN                           NaN   \n195464                    NaN               NaN                           NaN   \n\n       Non-current financial liabilities Financial liabilities (total)  \n48                                   NaN                           NaN  \n50                                   NaN                           NaN  \n51                                   NaN                           NaN  \n52                                   NaN                           NaN  \n53                                   NaN                           NaN  \n...                                  ...                           ...  \n195460                               NaN                           NaN  \n195461                               NaN                           NaN  \n195462                               NaN                           NaN  \n195463                               NaN                           NaN  \n195464                               NaN                           NaN  \n\n[19906 rows x 106 columns]",
      "text/html": "<div>\n<style scoped>\n    .dataframe tbody tr th:only-of-type {\n        vertical-align: middle;\n    }\n\n    .dataframe tbody tr th {\n        vertical-align: top;\n    }\n\n    .dataframe thead th {\n        text-align: right;\n    }\n</style>\n<table border=\"1\" class=\"dataframe\">\n  <thead>\n    <tr style=\"text-align: right;\">\n      <th></th>\n      <th>End of period</th>\n      <th>Revenues from sales</th>\n      <th>Operating profit/loss</th>\n      <th>Net profit/loss attributable to equity holders of the parent</th>\n      <th>Total comprehensive income attributable to equity holders</th>\n      <th>Depreciation</th>\n      <th>Cash flow from operating activities</th>\n      <th>Cash flow from investing activities</th>\n      <th>Cash flow from financing activities</th>\n      <th>Aktywa</th>\n      <th>...</th>\n      <th>Assets ratio</th>\n      <th>Debt ratio</th>\n      <th>Debt service ratio</th>\n      <th>Rate debt security</th>\n      <th>Leverage (EM)</th>\n      <th>Asset utilization (AU)</th>\n      <th>Load gross profit</th>\n      <th>Current financial liabilities</th>\n      <th>Non-current financial liabilities</th>\n      <th>Financial liabilities (total)</th>\n    </tr>\n  </thead>\n  <tbody>\n    <tr>\n      <th>48</th>\n      <td>2010-03-31</td>\n      <td>66</td>\n      <td>NaN</td>\n      <td>-16</td>\n      <td>NaN</td>\n      <td>29</td>\n      <td>NaN</td>\n      <td>NaN</td>\n      <td>NaN</td>\n      <td>NaN</td>\n      <td>...</td>\n      <td>NaN</td>\n      <td>NaN</td>\n      <td>NaN</td>\n      <td>NaN</td>\n      <td>NaN</td>\n      <td>NaN</td>\n      <td>NaN</td>\n      <td>NaN</td>\n      <td>NaN</td>\n      <td>NaN</td>\n    </tr>\n    <tr>\n      <th>50</th>\n      <td>2010-09-30</td>\n      <td>129</td>\n      <td>NaN</td>\n      <td>-26</td>\n      <td>NaN</td>\n      <td>6</td>\n      <td>NaN</td>\n      <td>NaN</td>\n      <td>NaN</td>\n      <td>1411</td>\n      <td>...</td>\n      <td>NaN</td>\n      <td>NaN</td>\n      <td>NaN</td>\n      <td>NaN</td>\n      <td>NaN</td>\n      <td>NaN</td>\n      <td>NaN</td>\n      <td>NaN</td>\n      <td>NaN</td>\n      <td>NaN</td>\n    </tr>\n    <tr>\n      <th>51</th>\n      <td>2010-12-31</td>\n      <td>228</td>\n      <td>NaN</td>\n      <td>-198</td>\n      <td>NaN</td>\n      <td>NaN</td>\n      <td>NaN</td>\n      <td>NaN</td>\n      <td>NaN</td>\n      <td>1352.36</td>\n      <td>...</td>\n      <td>NaN</td>\n      <td>NaN</td>\n      <td>NaN</td>\n      <td>NaN</td>\n      <td>NaN</td>\n      <td>NaN</td>\n      <td>NaN</td>\n      <td>NaN</td>\n      <td>NaN</td>\n      <td>NaN</td>\n    </tr>\n    <tr>\n      <th>52</th>\n      <td>2011-03-31</td>\n      <td>144</td>\n      <td>NaN</td>\n      <td>-50</td>\n      <td>NaN</td>\n      <td>NaN</td>\n      <td>NaN</td>\n      <td>NaN</td>\n      <td>NaN</td>\n      <td>1342</td>\n      <td>...</td>\n      <td>NaN</td>\n      <td>NaN</td>\n      <td>NaN</td>\n      <td>NaN</td>\n      <td>NaN</td>\n      <td>NaN</td>\n      <td>NaN</td>\n      <td>NaN</td>\n      <td>NaN</td>\n      <td>NaN</td>\n    </tr>\n    <tr>\n      <th>53</th>\n      <td>2011-06-30</td>\n      <td>959</td>\n      <td>NaN</td>\n      <td>377</td>\n      <td>NaN</td>\n      <td>7</td>\n      <td>NaN</td>\n      <td>NaN</td>\n      <td>NaN</td>\n      <td>1659</td>\n      <td>...</td>\n      <td>NaN</td>\n      <td>NaN</td>\n      <td>NaN</td>\n      <td>NaN</td>\n      <td>NaN</td>\n      <td>NaN</td>\n      <td>NaN</td>\n      <td>NaN</td>\n      <td>NaN</td>\n      <td>NaN</td>\n    </tr>\n    <tr>\n      <th>...</th>\n      <td>...</td>\n      <td>...</td>\n      <td>...</td>\n      <td>...</td>\n      <td>...</td>\n      <td>...</td>\n      <td>...</td>\n      <td>...</td>\n      <td>...</td>\n      <td>...</td>\n      <td>...</td>\n      <td>...</td>\n      <td>...</td>\n      <td>...</td>\n      <td>...</td>\n      <td>...</td>\n      <td>...</td>\n      <td>...</td>\n      <td>...</td>\n      <td>...</td>\n      <td>...</td>\n    </tr>\n    <tr>\n      <th>195460</th>\n      <td>2021-09-30</td>\n      <td>995385</td>\n      <td>103668</td>\n      <td>104744</td>\n      <td>106250</td>\n      <td>36985</td>\n      <td>354390</td>\n      <td>-22037</td>\n      <td>-433167</td>\n      <td>2649304</td>\n      <td>...</td>\n      <td>NaN</td>\n      <td>NaN</td>\n      <td>NaN</td>\n      <td>NaN</td>\n      <td>NaN</td>\n      <td>NaN</td>\n      <td>NaN</td>\n      <td>NaN</td>\n      <td>NaN</td>\n      <td>NaN</td>\n    </tr>\n    <tr>\n      <th>195461</th>\n      <td>2021-12-31</td>\n      <td>733974</td>\n      <td>46890</td>\n      <td>32175</td>\n      <td>42434</td>\n      <td>42311</td>\n      <td>50929</td>\n      <td>-65863</td>\n      <td>30091</td>\n      <td>2508447</td>\n      <td>...</td>\n      <td>NaN</td>\n      <td>NaN</td>\n      <td>NaN</td>\n      <td>NaN</td>\n      <td>NaN</td>\n      <td>NaN</td>\n      <td>NaN</td>\n      <td>NaN</td>\n      <td>NaN</td>\n      <td>NaN</td>\n    </tr>\n    <tr>\n      <th>195462</th>\n      <td>2022-03-31</td>\n      <td>696778</td>\n      <td>6649</td>\n      <td>-1246</td>\n      <td>41367</td>\n      <td>38391</td>\n      <td>13967</td>\n      <td>-33280</td>\n      <td>57099</td>\n      <td>2741947</td>\n      <td>...</td>\n      <td>NaN</td>\n      <td>NaN</td>\n      <td>NaN</td>\n      <td>NaN</td>\n      <td>NaN</td>\n      <td>NaN</td>\n      <td>NaN</td>\n      <td>NaN</td>\n      <td>NaN</td>\n      <td>NaN</td>\n    </tr>\n    <tr>\n      <th>195463</th>\n      <td>2022-06-30</td>\n      <td>1209418</td>\n      <td>101579</td>\n      <td>92625</td>\n      <td>45386</td>\n      <td>39932</td>\n      <td>101877</td>\n      <td>-21179</td>\n      <td>-81990</td>\n      <td>2981239</td>\n      <td>...</td>\n      <td>NaN</td>\n      <td>NaN</td>\n      <td>NaN</td>\n      <td>NaN</td>\n      <td>NaN</td>\n      <td>NaN</td>\n      <td>NaN</td>\n      <td>NaN</td>\n      <td>NaN</td>\n      <td>NaN</td>\n    </tr>\n    <tr>\n      <th>195464</th>\n      <td>2022-09-30</td>\n      <td>1106635</td>\n      <td>61538</td>\n      <td>23844</td>\n      <td>18814</td>\n      <td>40212</td>\n      <td>156461</td>\n      <td>-24386</td>\n      <td>-117588</td>\n      <td>2733389</td>\n      <td>...</td>\n      <td>NaN</td>\n      <td>NaN</td>\n      <td>NaN</td>\n      <td>NaN</td>\n      <td>NaN</td>\n      <td>NaN</td>\n      <td>NaN</td>\n      <td>NaN</td>\n      <td>NaN</td>\n      <td>NaN</td>\n    </tr>\n  </tbody>\n</table>\n<p>19906 rows × 106 columns</p>\n</div>"
     },
     "execution_count": 58,
     "metadata": {},
     "output_type": "execute_result"
    }
   ],
   "source": [
    "df_cleaned_columns"
   ],
   "metadata": {
    "collapsed": false,
    "ExecuteTime": {
     "end_time": "2024-05-24T05:49:51.737816700Z",
     "start_time": "2024-05-24T05:49:51.707401Z"
    }
   },
   "id": "a5c7902aef893312",
   "execution_count": 58
  }
 ],
 "metadata": {
  "kernelspec": {
   "display_name": "Python 3",
   "language": "python",
   "name": "python3"
  },
  "language_info": {
   "codemirror_mode": {
    "name": "ipython",
    "version": 2
   },
   "file_extension": ".py",
   "mimetype": "text/x-python",
   "name": "python",
   "nbconvert_exporter": "python",
   "pygments_lexer": "ipython2",
   "version": "2.7.6"
  }
 },
 "nbformat": 4,
 "nbformat_minor": 5
}
