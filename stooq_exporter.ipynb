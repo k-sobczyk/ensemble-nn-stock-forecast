{
 "cells": [
  {
   "cell_type": "code",
   "execution_count": 13,
   "id": "initial_id",
   "metadata": {
    "collapsed": true,
    "ExecuteTime": {
     "end_time": "2024-05-22T20:09:53.575358500Z",
     "start_time": "2024-05-22T20:09:53.517372700Z"
    }
   },
   "outputs": [],
   "source": [
    "import os\n",
    "import pandas as pd\n",
    "import sqlite3"
   ]
  },
  {
   "cell_type": "code",
   "execution_count": 14,
   "outputs": [],
   "source": [
    "directory_path = 'wse stocks/'"
   ],
   "metadata": {
    "collapsed": false,
    "ExecuteTime": {
     "end_time": "2024-05-22T20:09:54.449033Z",
     "start_time": "2024-05-22T20:09:54.437045300Z"
    }
   },
   "id": "4802ff8c232adbfa"
  },
  {
   "cell_type": "code",
   "execution_count": 15,
   "outputs": [
    {
     "name": "stdout",
     "output_type": "stream",
     "text": [
      "Error reading wse stocks/arha.txt: No columns to parse from file\n",
      "Error reading wse stocks/bml.txt: No columns to parse from file\n",
      "Error reading wse stocks/dbe1.txt: No columns to parse from file\n",
      "Error reading wse stocks/die1.txt: No columns to parse from file\n",
      "Error reading wse stocks/fmf.txt: No columns to parse from file\n",
      "Error reading wse stocks/gbk.txt: No columns to parse from file\n",
      "Error reading wse stocks/k2h.txt: No columns to parse from file\n",
      "Error reading wse stocks/lvc.txt: No columns to parse from file\n",
      "Error reading wse stocks/mur2.txt: No columns to parse from file\n",
      "Error reading wse stocks/r22.txt: No columns to parse from file\n",
      "Error reading wse stocks/u2k.txt: No columns to parse from file\n",
      "Error reading wse stocks/urt1.txt: No columns to parse from file\n",
      "Data saved to SQLite database at financial_data.db in table stock_data\n"
     ]
    }
   ],
   "source": [
    "columns = [\"TICKER\", \"PER\", \"DATE\", \"TIME\", \"OPEN\", \"HIGH\", \"LOW\", \"CLOSE\", \"VOL\", \"OPENINT\"]\n",
    "\n",
    "all_dfs = []\n",
    "\n",
    "for filename in os.listdir(directory_path):\n",
    "    if filename.endswith('.txt'):\n",
    "        file_path = os.path.join(directory_path, filename)\n",
    "        try:\n",
    "            temp_df = pd.read_csv(file_path, delimiter=',')  \n",
    "            if temp_df.shape[1] == len(columns):\n",
    "                temp_df.columns = columns  \n",
    "                all_dfs.append(temp_df) \n",
    "            else:\n",
    "                print(f'File {file_path} does not match the expected number of columns.')\n",
    "        except Exception as e:\n",
    "            print(f'Error reading {file_path}: {e}')\n",
    "\n",
    "combined_df = pd.concat(all_dfs, ignore_index=True)\n",
    "sqlite_db_path = 'financial_data.db'\n",
    "conn = sqlite3.connect(sqlite_db_path)\n",
    "table_name = 'stock_data'\n",
    "combined_df.to_sql(table_name, conn, if_exists='replace', index=False)\n",
    "conn.close()\n",
    "print(f'Data saved to SQLite database at {sqlite_db_path} in table {table_name}')"
   ],
   "metadata": {
    "collapsed": false,
    "ExecuteTime": {
     "end_time": "2024-05-22T20:10:15.157883700Z",
     "start_time": "2024-05-22T20:09:55.022825600Z"
    }
   },
   "id": "37e3189e4a7ddf36"
  },
  {
   "cell_type": "code",
   "execution_count": null,
   "outputs": [],
   "source": [],
   "metadata": {
    "collapsed": false
   },
   "id": "362ee84b411a180c"
  }
 ],
 "metadata": {
  "kernelspec": {
   "display_name": "Python 3",
   "language": "python",
   "name": "python3"
  },
  "language_info": {
   "codemirror_mode": {
    "name": "ipython",
    "version": 2
   },
   "file_extension": ".py",
   "mimetype": "text/x-python",
   "name": "python",
   "nbconvert_exporter": "python",
   "pygments_lexer": "ipython2",
   "version": "2.7.6"
  }
 },
 "nbformat": 4,
 "nbformat_minor": 5
}
