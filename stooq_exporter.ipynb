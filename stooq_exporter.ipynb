{
 "cells": [
  {
   "cell_type": "code",
   "execution_count": 1,
   "id": "initial_id",
   "metadata": {
    "collapsed": true,
    "ExecuteTime": {
     "end_time": "2024-05-22T21:24:39.214030Z",
     "start_time": "2024-05-22T21:24:34.233240400Z"
    }
   },
   "outputs": [],
   "source": [
    "import os\n",
    "import pandas as pd\n",
    "import sqlite3"
   ]
  },
  {
   "cell_type": "code",
   "execution_count": 3,
   "outputs": [],
   "source": [
    "directory_path = 'wse stocks/'\n",
    "columns = [\"TICKER\", \"PER\", \"DATE\", \"TIME\", \"OPEN\", \"HIGH\", \"LOW\", \"CLOSE\", \"VOL\", \"OPENINT\"]\n",
    "all_dfs = []"
   ],
   "metadata": {
    "collapsed": false,
    "ExecuteTime": {
     "end_time": "2024-05-22T21:27:19.936069700Z",
     "start_time": "2024-05-22T21:27:19.913322200Z"
    }
   },
   "id": "4802ff8c232adbfa"
  },
  {
   "cell_type": "code",
   "execution_count": 7,
   "outputs": [],
   "source": [
    "# only create financial_data.db\n",
    "for filename in os.listdir(directory_path):\n",
    "    if filename.endswith('.txt'):\n",
    "        file_path = os.path.join(directory_path, filename)\n",
    "        try:\n",
    "            temp_df = pd.read_csv(file_path, delimiter=',')  \n",
    "            if temp_df.shape[1] == len(columns):\n",
    "                temp_df.columns = columns  \n",
    "                all_dfs.append(temp_df)  \n",
    "            else:\n",
    "                print(f'File {file_path} does not match the expected number of columns.')\n",
    "        except Exception as e:\n",
    "            pass\n",
    "\n",
    "combined_df = pd.concat(all_dfs, ignore_index=True)\n",
    "combined_df['DATE'] = pd.to_datetime(combined_df['DATE'], format='%Y%m%d').dt.strftime('%Y-%m-%d')\n",
    "sqlite_db_path = 'data/financial_data.db'\n",
    "conn = sqlite3.connect(sqlite_db_path)\n",
    "table_name = 'stock_data'\n",
    "combined_df.to_sql(table_name, conn, if_exists='replace', index=False)\n",
    "conn.close()"
   ],
   "metadata": {
    "collapsed": false,
    "ExecuteTime": {
     "end_time": "2024-05-22T21:02:01.451734600Z",
     "start_time": "2024-05-22T21:00:22.017105500Z"
    }
   },
   "id": "37e3189e4a7ddf36"
  },
  {
   "cell_type": "code",
   "execution_count": 8,
   "outputs": [],
   "source": [
    "# only create combined_data.csv\n",
    "for filename in os.listdir(directory_path):\n",
    "    if filename.endswith('.txt'):\n",
    "        file_path = os.path.join(directory_path, filename)\n",
    "        try:\n",
    "            temp_df = pd.read_csv(file_path, delimiter=',')\n",
    "            if temp_df.shape[1] == len(columns):\n",
    "                temp_df.columns = columns  \n",
    "                all_dfs.append(temp_df)  \n",
    "            else:\n",
    "                print(f'File {file_path} does not match the expected number of columns.')\n",
    "        except Exception as e:\n",
    "            pass\n",
    "\n",
    "combined_df = pd.concat(all_dfs, ignore_index=True)\n",
    "combined_df['DATE'] = pd.to_datetime(combined_df['DATE'], format='%Y%m%d').dt.strftime('%Y-%m-%d')\n",
    "output_file_path = 'data/combined_data.csv'\n",
    "combined_df.to_csv(output_file_path, index=False)"
   ],
   "metadata": {
    "collapsed": false,
    "ExecuteTime": {
     "end_time": "2024-05-22T21:03:47.282321700Z",
     "start_time": "2024-05-22T21:02:01.439737700Z"
    }
   },
   "id": "362ee84b411a180c"
  },
  {
   "cell_type": "code",
   "execution_count": 4,
   "outputs": [
    {
     "name": "stdout",
     "output_type": "stream",
     "text": [
      "Quarterly data saved to data/quarterly_data.csv\n"
     ]
    }
   ],
   "source": [
    "# Save data to database and monthly/quartely data aggregation \n",
    "for filename in os.listdir(directory_path):\n",
    "    if filename.endswith('.txt'):\n",
    "        file_path = os.path.join(directory_path, filename)\n",
    "        try:\n",
    "            if os.path.getsize(file_path) == 0:\n",
    "                continue\n",
    "            temp_df = pd.read_csv(file_path, delimiter=',')\n",
    "            if temp_df.shape[1] == len(columns):\n",
    "                temp_df.columns = columns  \n",
    "                all_dfs.append(temp_df) \n",
    "            else:\n",
    "                print(f'File {file_path} does not match the expected number of columns.')\n",
    "        except Exception as e:\n",
    "            pass\n",
    "\n",
    "if all_dfs:\n",
    "    combined_df = pd.concat(all_dfs, ignore_index=True)\n",
    "    combined_df['DATE'] = pd.to_datetime(combined_df['DATE'], format='%Y%m%d')\n",
    "    sqlite_db_path = 'data/financial_data.db'\n",
    "    conn = sqlite3.connect(sqlite_db_path)\n",
    "    table_name = 'stock_data'\n",
    "    combined_df.to_sql(table_name, conn, if_exists='replace', index=False)\n",
    "    cursor = conn.cursor()\n",
    "\n",
    "    # Zapytanie SQL do agregacji danych miesięcznych\n",
    "    query_monthly = \"\"\"\n",
    "    SELECT\n",
    "        TICKER,\n",
    "        strftime('%Y-%m', DATE) as MONTH,\n",
    "        AVG(OPEN) as AVG_OPEN,\n",
    "        AVG(CLOSE) as AVG_CLOSE\n",
    "    FROM stock_data\n",
    "    GROUP BY TICKER, strftime('%Y-%m', DATE)\n",
    "    \"\"\"\n",
    "    \n",
    "    cursor.execute(f\"DROP TABLE IF EXISTS monthly_data;\")\n",
    "    cursor.execute(f\"CREATE TABLE monthly_data AS {query_monthly};\")\n",
    "\n",
    "    # Zapytanie SQL do agregacji danych kwartalnych\n",
    "    query_quarterly = \"\"\"\n",
    "    SELECT\n",
    "        TICKER,\n",
    "        substr(MONTH, 1, 4) as YEAR,\n",
    "        ((cast(substr(MONTH, 6, 2) as integer) - 1) / 3 + 1) as QUARTER,\n",
    "        AVG(AVG_OPEN) as AVG_QUARTER_OPEN,\n",
    "        AVG(AVG_CLOSE) as AVG_QUARTER_CLOSE\n",
    "    FROM monthly_data\n",
    "    GROUP BY TICKER, substr(MONTH, 1, 4), ((cast(substr(MONTH, 6, 2) as integer) - 1) / 3 + 1)\n",
    "    ORDER BY TICKER, YEAR, QUARTER\n",
    "    \"\"\"\n",
    "\n",
    "    quarterly_df = pd.read_sql_query(query_quarterly, conn)\n",
    "\n",
    "    output_file_path = 'data/quarterly_data.csv'\n",
    "    quarterly_df.to_csv(output_file_path, index=False)\n",
    "\n",
    "    print(f'Quarterly data saved to {output_file_path}')\n",
    "\n",
    "    conn.close()\n",
    "else:\n",
    "    print('No valid data to combine.')\n"
   ],
   "metadata": {
    "collapsed": false,
    "ExecuteTime": {
     "end_time": "2024-05-22T21:28:04.396181900Z",
     "start_time": "2024-05-22T21:27:25.523624300Z"
    }
   },
   "id": "3f41fc407c71d888"
  },
  {
   "cell_type": "code",
   "execution_count": null,
   "outputs": [],
   "source": [],
   "metadata": {
    "collapsed": false
   },
   "id": "10a492b2411e0781"
  }
 ],
 "metadata": {
  "kernelspec": {
   "display_name": "Python 3",
   "language": "python",
   "name": "python3"
  },
  "language_info": {
   "codemirror_mode": {
    "name": "ipython",
    "version": 2
   },
   "file_extension": ".py",
   "mimetype": "text/x-python",
   "name": "python",
   "nbconvert_exporter": "python",
   "pygments_lexer": "ipython2",
   "version": "2.7.6"
  }
 },
 "nbformat": 4,
 "nbformat_minor": 5
}
