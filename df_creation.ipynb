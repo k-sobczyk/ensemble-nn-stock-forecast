{
 "cells": [
  {
   "cell_type": "code",
   "execution_count": 13,
   "id": "initial_id",
   "metadata": {
    "collapsed": true,
    "ExecuteTime": {
     "end_time": "2024-05-14T09:57:50.152201Z",
     "start_time": "2024-05-14T09:57:50.133621500Z"
    }
   },
   "outputs": [],
   "source": [
    "import pandas as pd\n",
    "import numpy as np\n",
    "import os"
   ]
  },
  {
   "cell_type": "code",
   "outputs": [
    {
     "name": "stdout",
     "output_type": "stream",
     "text": [
      "349\n"
     ]
    }
   ],
   "source": [
    "import os\n",
    "\n",
    "def count_files_in_folder(folder_path):\n",
    "    file_count = 0\n",
    "\n",
    "    for entry in os.listdir(folder_path):\n",
    "        full_path = os.path.join(folder_path, entry)\n",
    "        if os.path.isfile(full_path):\n",
    "            file_count += 1\n",
    "    \n",
    "    return file_count\n",
    "\n",
    "print(count_files_in_folder(\"data/\"))"
   ],
   "metadata": {
    "collapsed": false,
    "ExecuteTime": {
     "end_time": "2024-05-14T09:57:50.201573700Z",
     "start_time": "2024-05-14T09:57:50.156202100Z"
    }
   },
   "id": "2bc1212168cd36b6",
   "execution_count": 14
  },
  {
   "cell_type": "markdown",
   "source": [
    "# Notes\n",
    "WSZYSTKIE PLIKI SĄ IDENTYCZNE. WSZYSTKIE TO EXCEL - 14 kart\n",
    "Czyszczenie:\n",
    "•\tWszystkie NaN na 0\n",
    "•\tSkalowanie przed modelem\n",
    "•\tInżynieria cech (wskaźniki ekonomiczne, różnica miedzy każym z elementów)\n",
    "\n",
    "TESTY DO PRZEPROWADZENIA:\n",
    "•\tUwzglednienie wszystkiego\n",
    "•\tSkupienie sie na zmianach kapitałowych\n",
    "•\tOgraniczenie tylko główne wartości\n",
    "•\tGrupowanie po przedsiębiorstwie? \n",
    "\n",
    "Podsumowanie co wyciągnąć z pliku:\n",
    "Dodatkowa kolumna jako nazwa pliku\n",
    "C – nazwa kolumny w DF\n",
    "\n",
    "(Kolumny: OD M DO AB. Wiersze: Od 3 do 18 włącznie)\n",
    "(wiersze 30 do 93 włącznie)\n",
    "Wiersze 255 – 275 włącznie\n",
    "Wiersze 279 – 287 włącznie (dane w %)\n",
    "Wiersze 290 – 293 włącznie"
   ],
   "metadata": {
    "collapsed": false
   },
   "id": "efd5cfae4ada59ba"
  },
  {
   "cell_type": "code",
   "outputs": [],
   "source": [
    "folder_path = 'dataa/'"
   ],
   "metadata": {
    "collapsed": false,
    "ExecuteTime": {
     "end_time": "2024-05-14T09:57:50.205749800Z",
     "start_time": "2024-05-14T09:57:50.201573700Z"
    }
   },
   "id": "eeac026c30c7da7b",
   "execution_count": 15
  },
  {
   "cell_type": "code",
   "outputs": [
    {
     "name": "stdout",
     "output_type": "stream",
     "text": [
      "Folder does not exist. Check the path.\n"
     ]
    }
   ],
   "source": [
    "if os.path.exists(folder_path):\n",
    "    print(\"Folder exists. Proceeding with file processing.\")\n",
    "else:\n",
    "    print(\"Folder does not exist. Check the path.\")"
   ],
   "metadata": {
    "collapsed": false,
    "ExecuteTime": {
     "end_time": "2024-05-14T09:57:50.218688200Z",
     "start_time": "2024-05-14T09:57:50.205749800Z"
    }
   },
   "id": "541b11aa6b71dac8",
   "execution_count": 16
  },
  {
   "cell_type": "code",
   "outputs": [],
   "source": [
    "# TEST, przejście po każdym pliku i wyciągnięcie z 'Info' nazwa firmy i sektora"
   ],
   "metadata": {
    "collapsed": false,
    "ExecuteTime": {
     "end_time": "2024-05-14T09:57:50.263340Z",
     "start_time": "2024-05-14T09:57:50.213617600Z"
    }
   },
   "id": "3edf748cbf0c8e9c",
   "execution_count": 17
  },
  {
   "cell_type": "code",
   "outputs": [],
   "source": [
    "def test_process_excel_files(folder_path):\n",
    "    results = []\n",
    "\n",
    "    for filename in os.listdir(folder_path):\n",
    "        if filename.endswith('.xlsx'):\n",
    "            file_path = os.path.join(folder_path, filename)\n",
    "            try:\n",
    "                with pd.ExcelFile(file_path) as xls:\n",
    "                    company_name = pd.read_excel(xls, 'Info', usecols=\"B\", skiprows=1, nrows=1).values[0][0]\n",
    "                    sector = pd.read_excel(xls, 'Info', usecols=\"E\", skiprows=19, nrows=1).values[0][0]\n",
    "                \n",
    "                result = {\n",
    "                    'filename': filename,\n",
    "                    'Company Name': company_name,\n",
    "                    'Sector': sector\n",
    "                }\n",
    "                results.append(result)\n",
    "                \n",
    "                print(f\"Dane z {filename} zostały przetworzone.\")\n",
    "            except Exception as e:\n",
    "                print(f\"Błąd przy przetwarzaniu pliku {filename}: {e}\")\n",
    "\n",
    "    results_df = pd.DataFrame(results)\n",
    "    return results_df"
   ],
   "metadata": {
    "collapsed": false,
    "ExecuteTime": {
     "end_time": "2024-05-14T09:57:50.265341100Z",
     "start_time": "2024-05-14T09:57:50.221946700Z"
    }
   },
   "id": "9f3ef90c6578f28c",
   "execution_count": 18
  },
  {
   "cell_type": "code",
   "outputs": [
    {
     "ename": "FileNotFoundError",
     "evalue": "[WinError 3] System nie może odnaleźć określonej ścieżki: 'dataa/'",
     "output_type": "error",
     "traceback": [
      "\u001B[1;31m---------------------------------------------------------------------------\u001B[0m",
      "\u001B[1;31mFileNotFoundError\u001B[0m                         Traceback (most recent call last)",
      "Cell \u001B[1;32mIn[19], line 1\u001B[0m\n\u001B[1;32m----> 1\u001B[0m \u001B[43mtest_process_excel_files\u001B[49m\u001B[43m(\u001B[49m\u001B[43mfolder_path\u001B[49m\u001B[43m)\u001B[49m\n",
      "Cell \u001B[1;32mIn[18], line 4\u001B[0m, in \u001B[0;36mtest_process_excel_files\u001B[1;34m(folder_path)\u001B[0m\n\u001B[0;32m      1\u001B[0m \u001B[38;5;28;01mdef\u001B[39;00m \u001B[38;5;21mtest_process_excel_files\u001B[39m(folder_path):\n\u001B[0;32m      2\u001B[0m     results \u001B[38;5;241m=\u001B[39m []\n\u001B[1;32m----> 4\u001B[0m     \u001B[38;5;28;01mfor\u001B[39;00m filename \u001B[38;5;129;01min\u001B[39;00m \u001B[43mos\u001B[49m\u001B[38;5;241;43m.\u001B[39;49m\u001B[43mlistdir\u001B[49m\u001B[43m(\u001B[49m\u001B[43mfolder_path\u001B[49m\u001B[43m)\u001B[49m:\n\u001B[0;32m      5\u001B[0m         \u001B[38;5;28;01mif\u001B[39;00m filename\u001B[38;5;241m.\u001B[39mendswith(\u001B[38;5;124m'\u001B[39m\u001B[38;5;124m.xlsx\u001B[39m\u001B[38;5;124m'\u001B[39m):\n\u001B[0;32m      6\u001B[0m             file_path \u001B[38;5;241m=\u001B[39m os\u001B[38;5;241m.\u001B[39mpath\u001B[38;5;241m.\u001B[39mjoin(folder_path, filename)\n",
      "\u001B[1;31mFileNotFoundError\u001B[0m: [WinError 3] System nie może odnaleźć określonej ścieżki: 'dataa/'"
     ]
    }
   ],
   "source": [
    "test_process_excel_files(folder_path)"
   ],
   "metadata": {
    "collapsed": false,
    "ExecuteTime": {
     "end_time": "2024-05-14T09:57:50.282896200Z",
     "start_time": "2024-05-14T09:57:50.226536900Z"
    }
   },
   "id": "2afe4e6288f0d029",
   "execution_count": 19
  },
  {
   "cell_type": "markdown",
   "source": [
    "# Przygotowanie DF z danymi (kolumny)"
   ],
   "metadata": {
    "collapsed": false
   },
   "id": "d482586e97436c50"
  },
  {
   "cell_type": "code",
   "outputs": [],
   "source": [
    "# # Działająca implementacja pobierania wierszy z row_indices i wprowadzania ich do dataframu\n",
    "# def process_excel_data(base_folder):\n",
    "#     folder_path = os.path.join(base_folder)  # Access 'data' subfolder\n",
    "#     all_data = []  # List to store all data frames for concatenation\n",
    "# \n",
    "#     # Specific rows from which to pull header data, adjusted for zero-based index\n",
    "#     row_indices = [2, 29, 254, 278, 289]\n",
    "# \n",
    "#     for filename in os.listdir(folder_path):\n",
    "#         if filename.endswith('.xlsx'):\n",
    "#             file_path = os.path.join(folder_path, filename)\n",
    "#             try:\n",
    "#                 # Read only column 'C' (3rd column, index 2), assuming no headers (header=None)\n",
    "#                 data = pd.read_excel(file_path, sheet_name='QS', usecols=[2], header=None)\n",
    "# \n",
    "#                 # Extract headers from specified rows\n",
    "#                 headers = data.iloc[row_indices].squeeze().tolist()  # Get a flat list of headers\n",
    "# \n",
    "#                 # Create a new DataFrame with these headers, filling with example data\n",
    "#                 # Let's use 1 for all cells for demonstration; replace as needed\n",
    "#                 new_df = pd.DataFrame([1] * len(headers), index=headers).T  # Transpose to flip rows and columns\n",
    "#                 new_df['filename'] = filename  # Add filename as a column\n",
    "# \n",
    "#                 # Append new DataFrame to list\n",
    "#                 all_data.append(new_df)\n",
    "#             except Exception as e:\n",
    "#                 print(f\"Error processing file {filename}: {e}\")\n",
    "# \n",
    "#     # Concatenate all data frames into one\n",
    "#     results_df = pd.concat(all_data, ignore_index=True)\n",
    "#     return results_df\n",
    "# \n",
    "# # Usage example\n",
    "# df_results = process_excel_data(folder_path)\n",
    "# df_results"
   ],
   "metadata": {
    "collapsed": false,
    "ExecuteTime": {
     "start_time": "2024-05-14T09:57:50.246642300Z"
    }
   },
   "id": "606fd3ee80742c3e",
   "execution_count": null
  },
  {
   "cell_type": "code",
   "outputs": [],
   "source": [
    "# df_results = process_excel_data(folder_path)"
   ],
   "metadata": {
    "collapsed": false,
    "ExecuteTime": {
     "start_time": "2024-05-14T09:57:50.247642100Z"
    }
   },
   "id": "8b5b97f5d52a7b53",
   "execution_count": null
  },
  {
   "cell_type": "code",
   "outputs": [],
   "source": [
    "# df_results"
   ],
   "metadata": {
    "collapsed": false,
    "ExecuteTime": {
     "start_time": "2024-05-14T09:57:50.248814800Z"
    }
   },
   "id": "14a22882ebc03455",
   "execution_count": null
  },
  {
   "cell_type": "code",
   "outputs": [
    {
     "ename": "FileNotFoundError",
     "evalue": "[WinError 3] System nie może odnaleźć określonej ścieżki: 'dataa/'",
     "output_type": "error",
     "traceback": [
      "\u001B[1;31m---------------------------------------------------------------------------\u001B[0m",
      "\u001B[1;31mFileNotFoundError\u001B[0m                         Traceback (most recent call last)",
      "Cell \u001B[1;32mIn[20], line 44\u001B[0m\n\u001B[0;32m     40\u001B[0m     \u001B[38;5;28;01mreturn\u001B[39;00m results_df\n\u001B[0;32m     42\u001B[0m \u001B[38;5;66;03m# Usage example\u001B[39;00m\n\u001B[1;32m---> 44\u001B[0m df_results \u001B[38;5;241m=\u001B[39m \u001B[43mprocess_excel_data\u001B[49m\u001B[43m(\u001B[49m\u001B[43mfolder_path\u001B[49m\u001B[43m)\u001B[49m\n",
      "Cell \u001B[1;32mIn[20], line 14\u001B[0m, in \u001B[0;36mprocess_excel_data\u001B[1;34m(base_folder)\u001B[0m\n\u001B[0;32m      5\u001B[0m \u001B[38;5;66;03m# Define ranges of rows to aggregate information from\u001B[39;00m\n\u001B[0;32m      6\u001B[0m row_ranges \u001B[38;5;241m=\u001B[39m [\n\u001B[0;32m      7\u001B[0m     \u001B[38;5;28mrange\u001B[39m(\u001B[38;5;241m2\u001B[39m, \u001B[38;5;241m19\u001B[39m),  \u001B[38;5;66;03m# Rows 3 to 18 inclusive, zero-indexed\u001B[39;00m\n\u001B[0;32m      8\u001B[0m     \u001B[38;5;28mrange\u001B[39m(\u001B[38;5;241m29\u001B[39m, \u001B[38;5;241m94\u001B[39m),  \u001B[38;5;66;03m# Rows 30 to 93 inclusive\u001B[39;00m\n\u001B[1;32m   (...)\u001B[0m\n\u001B[0;32m     11\u001B[0m     \u001B[38;5;28mrange\u001B[39m(\u001B[38;5;241m289\u001B[39m, \u001B[38;5;241m294\u001B[39m)  \u001B[38;5;66;03m# Rows 290 to 293 inclusive\u001B[39;00m\n\u001B[0;32m     12\u001B[0m ]\n\u001B[1;32m---> 14\u001B[0m \u001B[38;5;28;01mfor\u001B[39;00m filename \u001B[38;5;129;01min\u001B[39;00m \u001B[43mos\u001B[49m\u001B[38;5;241;43m.\u001B[39;49m\u001B[43mlistdir\u001B[49m\u001B[43m(\u001B[49m\u001B[43mfolder_path\u001B[49m\u001B[43m)\u001B[49m:\n\u001B[0;32m     15\u001B[0m     \u001B[38;5;28;01mif\u001B[39;00m filename\u001B[38;5;241m.\u001B[39mendswith(\u001B[38;5;124m'\u001B[39m\u001B[38;5;124m.xlsx\u001B[39m\u001B[38;5;124m'\u001B[39m):\n\u001B[0;32m     16\u001B[0m         file_path \u001B[38;5;241m=\u001B[39m os\u001B[38;5;241m.\u001B[39mpath\u001B[38;5;241m.\u001B[39mjoin(folder_path, filename)\n",
      "\u001B[1;31mFileNotFoundError\u001B[0m: [WinError 3] System nie może odnaleźć określonej ścieżki: 'dataa/'"
     ]
    }
   ],
   "source": [
    "def process_excel_data(base_folder):\n",
    "    folder_path = os.path.join(base_folder)  # Access 'data' subfolder\n",
    "    all_data = []  # List to store all data frames for concatenation\n",
    "\n",
    "    # Define ranges of rows to aggregate information from\n",
    "    row_ranges = [\n",
    "        range(2, 19),  # Rows 3 to 18 inclusive, zero-indexed\n",
    "        range(29, 94),  # Rows 30 to 93 inclusive\n",
    "        range(254, 276),  # Rows 255 to 275 inclusive\n",
    "        range(278, 288),  # Rows 279 to 287 inclusive\n",
    "        range(289, 294)  # Rows 290 to 293 inclusive\n",
    "    ]\n",
    "\n",
    "    for filename in os.listdir(folder_path):\n",
    "        if filename.endswith('.xlsx'):\n",
    "            file_path = os.path.join(folder_path, filename)\n",
    "            try:\n",
    "                # Read only column 'C' (3rd column, index 2), assuming no headers (header=None)\n",
    "                data = pd.read_excel(file_path, sheet_name='QS', usecols=[2], header=None)\n",
    "\n",
    "                # Aggregate data from specified row ranges\n",
    "                aggregated_values = []\n",
    "                for row_range in row_ranges:\n",
    "                    extracted_data = data.iloc[row_range].squeeze().tolist()\n",
    "                    # Example aggregation: join values into a single string separated by ', '\n",
    "                    aggregated_value = ', '.join(map(str, extracted_data))\n",
    "                    aggregated_values.append(aggregated_value)\n",
    "\n",
    "                # Create a new DataFrame using the aggregated values\n",
    "                new_df = pd.DataFrame([aggregated_values], columns=[f'Range_{i + 1}' for i in range(len(row_ranges))])\n",
    "                new_df['filename'] = filename  # Add filename as a column\n",
    "\n",
    "                # Append new DataFrame to list\n",
    "                all_data.append(new_df)\n",
    "            except Exception as e:\n",
    "                print(f\"Error processing file {filename}: {e}\")\n",
    "\n",
    "    # Concatenate all data frames into one\n",
    "    results_df = pd.concat(all_data, ignore_index=True)\n",
    "    return results_df\n",
    "\n",
    "# Usage example\n",
    "\n",
    "df_results = process_excel_data(folder_path)"
   ],
   "metadata": {
    "collapsed": false,
    "ExecuteTime": {
     "start_time": "2024-05-14T09:57:50.270855Z"
    }
   },
   "id": "535f60c91ffd60bf",
   "execution_count": 20
  },
  {
   "cell_type": "code",
   "outputs": [
    {
     "ename": "NameError",
     "evalue": "name 'df_results' is not defined",
     "output_type": "error",
     "traceback": [
      "\u001B[1;31m---------------------------------------------------------------------------\u001B[0m",
      "\u001B[1;31mNameError\u001B[0m                                 Traceback (most recent call last)",
      "Cell \u001B[1;32mIn[21], line 1\u001B[0m\n\u001B[1;32m----> 1\u001B[0m \u001B[43mdf_results\u001B[49m\n",
      "\u001B[1;31mNameError\u001B[0m: name 'df_results' is not defined"
     ]
    }
   ],
   "source": [
    "df_results"
   ],
   "metadata": {
    "collapsed": false,
    "ExecuteTime": {
     "end_time": "2024-05-14T09:57:50.327639700Z",
     "start_time": "2024-05-14T09:57:50.290069Z"
    }
   },
   "id": "38ef49eed5c89e21",
   "execution_count": 21
  },
  {
   "cell_type": "code",
   "outputs": [],
   "source": [
    "import os\n",
    "import pandas as pd\n",
    "\n",
    "def process_excel_data(base_folder):\n",
    "    folder_path = os.path.join(base_folder)\n",
    "    all_data = []\n",
    "\n",
    "    row_ranges = [\n",
    "        range(2, 19),  # Rows 3 to 18 inclusive, zero-indexed\n",
    "        range(29, 94),  # Rows 30 to 93 inclusive\n",
    "        range(254, 276),  # Rows 255 to 275 inclusive\n",
    "        range(278, 288),  # Rows 279 to 287 inclusive\n",
    "        range(289, 294)  # Rows 290 to 293 inclusive\n",
    "    ]\n",
    "\n",
    "    for filename in os.listdir(folder_path):\n",
    "        if filename.endswith('.xlsx'):\n",
    "            file_path = os.path.join(folder_path, filename)\n",
    "            try:\n",
    "                data = pd.read_excel(file_path, sheet_name='QS', usecols=[2], header=None)\n",
    "\n",
    "                extracted_data = []\n",
    "                for row_range in row_ranges:\n",
    "                    range_data = data.iloc[row_range].squeeze().tolist()\n",
    "                    concatenated_data = ', '.join(map(str, range_data))\n",
    "                    extracted_data.append(concatenated_data)\n",
    "\n",
    "                new_row = {}\n",
    "                for item in extracted_data:\n",
    "                    for entry in item.split(', '):\n",
    "                        new_row[entry.strip()] = None  # dummy value\n",
    "\n",
    "                # Create a DataFrame from the dictionary\n",
    "                new_df = pd.DataFrame([new_row])\n",
    "                new_df['filename'] = filename  # Add filename as a column\n",
    "\n",
    "                all_data.append(new_df)\n",
    "            except Exception as e:\n",
    "                print(f\"Error processing file {filename}: {e}\")\n",
    "\n",
    "    results_df = pd.concat(all_data, ignore_index=True)\n",
    "    return results_df\n",
    "\n",
    "\n",
    "df_results = process_excel_data(folder_path)\n",
    "df_results"
   ],
   "metadata": {
    "collapsed": false,
    "ExecuteTime": {
     "start_time": "2024-05-14T09:57:50.300102100Z"
    }
   },
   "id": "227e0c5ba5c4d916",
   "execution_count": null
  }
 ],
 "metadata": {
  "kernelspec": {
   "display_name": "Python 3",
   "language": "python",
   "name": "python3"
  },
  "language_info": {
   "codemirror_mode": {
    "name": "ipython",
    "version": 2
   },
   "file_extension": ".py",
   "mimetype": "text/x-python",
   "name": "python",
   "nbconvert_exporter": "python",
   "pygments_lexer": "ipython2",
   "version": "2.7.6"
  }
 },
 "nbformat": 4,
 "nbformat_minor": 5
}
