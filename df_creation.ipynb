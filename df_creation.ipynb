{
 "cells": [
  {
   "cell_type": "code",
   "execution_count": 421,
   "id": "initial_id",
   "metadata": {
    "collapsed": true,
    "ExecuteTime": {
     "end_time": "2024-05-12T14:34:21.638751Z",
     "start_time": "2024-05-12T14:34:21.636502Z"
    }
   },
   "outputs": [],
   "source": [
    "import pandas as pd\n",
    "import numpy as np\n",
    "import os"
   ]
  },
  {
   "cell_type": "markdown",
   "source": [
    "# Notes\n",
    "WSZYSTKIE PLIKI SĄ IDENTYCZNE. WSZYSTKIE TO EXCEL - 14 kart\n",
    "Czyszczenie:\n",
    "•\tWszystkie NaN na 0\n",
    "•\tSkalowanie przed modelem\n",
    "•\tInżynieria cech (wskaźniki ekonomiczne, różnica miedzy każym z elementów)\n",
    "\n",
    "TESTY DO PRZEPROWADZENIA:\n",
    "•\tUwzglednienie wszystkiego\n",
    "•\tSkupienie sie na zmianach kapitałowych\n",
    "•\tOgraniczenie tylko główne wartości\n",
    "•\tGrupowanie po przedsiębiorstwie? \n",
    "\n",
    "Podsumowanie co wyciągnąć z pliku:\n",
    "Dodatkowa kolumna jako nazwa pliku\n",
    "C – nazwa kolumny w DF\n",
    "\n",
    "(Kolumny: OD M DO AB. Wiersze: Od 3 do 18 włącznie)\n",
    "(wiersze 30 do 93 włącznie)\n",
    "Wiersze 255 – 275 włącznie\n",
    "Wiersze 279 – 287 włącznie (dane w %)\n",
    "Wiersze 290 – 293 włącznie"
   ],
   "metadata": {
    "collapsed": false
   },
   "id": "efd5cfae4ada59ba"
  },
  {
   "cell_type": "code",
   "outputs": [],
   "source": [
    "folder_path = 'dataa/'"
   ],
   "metadata": {
    "collapsed": false,
    "ExecuteTime": {
     "end_time": "2024-05-12T14:34:21.644342Z",
     "start_time": "2024-05-12T14:34:21.641755Z"
    }
   },
   "id": "eeac026c30c7da7b",
   "execution_count": 422
  },
  {
   "cell_type": "code",
   "outputs": [
    {
     "name": "stdout",
     "output_type": "stream",
     "text": [
      "Folder exists. Proceeding with file processing.\n"
     ]
    }
   ],
   "source": [
    "if os.path.exists(folder_path):\n",
    "    print(\"Folder exists. Proceeding with file processing.\")\n",
    "else:\n",
    "    print(\"Folder does not exist. Check the path.\")"
   ],
   "metadata": {
    "collapsed": false,
    "ExecuteTime": {
     "end_time": "2024-05-12T14:34:21.650890Z",
     "start_time": "2024-05-12T14:34:21.648261Z"
    }
   },
   "id": "541b11aa6b71dac8",
   "execution_count": 423
  },
  {
   "cell_type": "code",
   "outputs": [],
   "source": [
    "# TEST, przejście po każdym pliku i wyciągnięcie z 'Info' nazwa firmy i sektora"
   ],
   "metadata": {
    "collapsed": false,
    "ExecuteTime": {
     "end_time": "2024-05-12T14:34:21.653364Z",
     "start_time": "2024-05-12T14:34:21.650890Z"
    }
   },
   "id": "3edf748cbf0c8e9c",
   "execution_count": 424
  },
  {
   "cell_type": "code",
   "outputs": [],
   "source": [
    "def test_process_excel_files(folder_path):\n",
    "    results = []\n",
    "\n",
    "    for filename in os.listdir(folder_path):\n",
    "        if filename.endswith('.xlsx'):\n",
    "            file_path = os.path.join(folder_path, filename)\n",
    "            try:\n",
    "                with pd.ExcelFile(file_path) as xls:\n",
    "                    company_name = pd.read_excel(xls, 'Info', usecols=\"B\", skiprows=1, nrows=1).values[0][0]\n",
    "                    sector = pd.read_excel(xls, 'Info', usecols=\"E\", skiprows=19, nrows=1).values[0][0]\n",
    "                \n",
    "                result = {\n",
    "                    'filename': filename,\n",
    "                    'Company Name': company_name,\n",
    "                    'Sector': sector\n",
    "                }\n",
    "                results.append(result)\n",
    "                \n",
    "                print(f\"Dane z {filename} zostały przetworzone.\")\n",
    "            except Exception as e:\n",
    "                print(f\"Błąd przy przetwarzaniu pliku {filename}: {e}\")\n",
    "\n",
    "    results_df = pd.DataFrame(results)\n",
    "    return results_df"
   ],
   "metadata": {
    "collapsed": false,
    "ExecuteTime": {
     "end_time": "2024-05-12T14:34:21.656521Z",
     "start_time": "2024-05-12T14:34:21.653364Z"
    }
   },
   "id": "9f3ef90c6578f28c",
   "execution_count": 425
  },
  {
   "cell_type": "code",
   "outputs": [
    {
     "name": "stdout",
     "output_type": "stream",
     "text": [
      "Dane z ZREMBCH.xlsx zostały przetworzone.\n"
     ]
    },
    {
     "data": {
      "text/plain": "       filename       Company Name                  Sector\n0  ZREMBCH.xlsx  Zremb-Chojnice SA  urządzenia mechaniczne",
      "text/html": "<div>\n<style scoped>\n    .dataframe tbody tr th:only-of-type {\n        vertical-align: middle;\n    }\n\n    .dataframe tbody tr th {\n        vertical-align: top;\n    }\n\n    .dataframe thead th {\n        text-align: right;\n    }\n</style>\n<table border=\"1\" class=\"dataframe\">\n  <thead>\n    <tr style=\"text-align: right;\">\n      <th></th>\n      <th>filename</th>\n      <th>Company Name</th>\n      <th>Sector</th>\n    </tr>\n  </thead>\n  <tbody>\n    <tr>\n      <th>0</th>\n      <td>ZREMBCH.xlsx</td>\n      <td>Zremb-Chojnice SA</td>\n      <td>urządzenia mechaniczne</td>\n    </tr>\n  </tbody>\n</table>\n</div>"
     },
     "execution_count": 426,
     "metadata": {},
     "output_type": "execute_result"
    }
   ],
   "source": [
    "test_process_excel_files(folder_path)"
   ],
   "metadata": {
    "collapsed": false,
    "ExecuteTime": {
     "end_time": "2024-05-12T14:34:21.687409Z",
     "start_time": "2024-05-12T14:34:21.656521Z"
    }
   },
   "id": "2afe4e6288f0d029",
   "execution_count": 426
  },
  {
   "cell_type": "markdown",
   "source": [
    "# Przygotowanie DF z danymi (kolumny)"
   ],
   "metadata": {
    "collapsed": false
   },
   "id": "d482586e97436c50"
  },
  {
   "cell_type": "code",
   "outputs": [],
   "source": [
    "# # Działająca implementacja pobierania wierszy z row_indices i wprowadzania ich do dataframu\n",
    "# def process_excel_data(base_folder):\n",
    "#     folder_path = os.path.join(base_folder)  # Access 'data' subfolder\n",
    "#     all_data = []  # List to store all data frames for concatenation\n",
    "# \n",
    "#     # Specific rows from which to pull header data, adjusted for zero-based index\n",
    "#     row_indices = [2, 29, 254, 278, 289]\n",
    "# \n",
    "#     for filename in os.listdir(folder_path):\n",
    "#         if filename.endswith('.xlsx'):\n",
    "#             file_path = os.path.join(folder_path, filename)\n",
    "#             try:\n",
    "#                 # Read only column 'C' (3rd column, index 2), assuming no headers (header=None)\n",
    "#                 data = pd.read_excel(file_path, sheet_name='QS', usecols=[2], header=None)\n",
    "# \n",
    "#                 # Extract headers from specified rows\n",
    "#                 headers = data.iloc[row_indices].squeeze().tolist()  # Get a flat list of headers\n",
    "# \n",
    "#                 # Create a new DataFrame with these headers, filling with example data\n",
    "#                 # Let's use 1 for all cells for demonstration; replace as needed\n",
    "#                 new_df = pd.DataFrame([1] * len(headers), index=headers).T  # Transpose to flip rows and columns\n",
    "#                 new_df['filename'] = filename  # Add filename as a column\n",
    "# \n",
    "#                 # Append new DataFrame to list\n",
    "#                 all_data.append(new_df)\n",
    "#             except Exception as e:\n",
    "#                 print(f\"Error processing file {filename}: {e}\")\n",
    "# \n",
    "#     # Concatenate all data frames into one\n",
    "#     results_df = pd.concat(all_data, ignore_index=True)\n",
    "#     return results_df\n",
    "# \n",
    "# # Usage example\n",
    "# df_results = process_excel_data(folder_path)\n",
    "# df_results"
   ],
   "metadata": {
    "collapsed": false,
    "ExecuteTime": {
     "end_time": "2024-05-12T14:34:21.689865Z",
     "start_time": "2024-05-12T14:34:21.687409Z"
    }
   },
   "id": "606fd3ee80742c3e",
   "execution_count": 427
  },
  {
   "cell_type": "code",
   "outputs": [],
   "source": [
    "# df_results = process_excel_data(folder_path)"
   ],
   "metadata": {
    "collapsed": false,
    "ExecuteTime": {
     "end_time": "2024-05-12T14:34:21.692058Z",
     "start_time": "2024-05-12T14:34:21.689865Z"
    }
   },
   "id": "8b5b97f5d52a7b53",
   "execution_count": 428
  },
  {
   "cell_type": "code",
   "outputs": [],
   "source": [
    "# df_results"
   ],
   "metadata": {
    "collapsed": false,
    "ExecuteTime": {
     "end_time": "2024-05-12T14:34:21.694566Z",
     "start_time": "2024-05-12T14:34:21.692058Z"
    }
   },
   "id": "14a22882ebc03455",
   "execution_count": 429
  },
  {
   "cell_type": "code",
   "outputs": [],
   "source": [
    "def process_excel_data(base_folder):\n",
    "    folder_path = os.path.join(base_folder)  # Access 'data' subfolder\n",
    "    all_data = []  # List to store all data frames for concatenation\n",
    "\n",
    "    # Define ranges of rows to aggregate information from\n",
    "    row_ranges = [\n",
    "        range(2, 19),  # Rows 3 to 18 inclusive, zero-indexed\n",
    "        range(29, 94),  # Rows 30 to 93 inclusive\n",
    "        range(254, 276),  # Rows 255 to 275 inclusive\n",
    "        range(278, 288),  # Rows 279 to 287 inclusive\n",
    "        range(289, 294)  # Rows 290 to 293 inclusive\n",
    "    ]\n",
    "\n",
    "    for filename in os.listdir(folder_path):\n",
    "        if filename.endswith('.xlsx'):\n",
    "            file_path = os.path.join(folder_path, filename)\n",
    "            try:\n",
    "                # Read only column 'C' (3rd column, index 2), assuming no headers (header=None)\n",
    "                data = pd.read_excel(file_path, sheet_name='QS', usecols=[2], header=None)\n",
    "\n",
    "                # Aggregate data from specified row ranges\n",
    "                aggregated_values = []\n",
    "                for row_range in row_ranges:\n",
    "                    extracted_data = data.iloc[row_range].squeeze().tolist()\n",
    "                    # Example aggregation: join values into a single string separated by ', '\n",
    "                    aggregated_value = ', '.join(map(str, extracted_data))\n",
    "                    aggregated_values.append(aggregated_value)\n",
    "\n",
    "                # Create a new DataFrame using the aggregated values\n",
    "                new_df = pd.DataFrame([aggregated_values], columns=[f'Range_{i + 1}' for i in range(len(row_ranges))])\n",
    "                new_df['filename'] = filename  # Add filename as a column\n",
    "\n",
    "                # Append new DataFrame to list\n",
    "                all_data.append(new_df)\n",
    "            except Exception as e:\n",
    "                print(f\"Error processing file {filename}: {e}\")\n",
    "\n",
    "    # Concatenate all data frames into one\n",
    "    results_df = pd.concat(all_data, ignore_index=True)\n",
    "    return results_df\n",
    "\n",
    "# Usage example\n",
    "\n",
    "df_results = process_excel_data(folder_path)"
   ],
   "metadata": {
    "collapsed": false,
    "ExecuteTime": {
     "end_time": "2024-05-12T14:34:21.779774Z",
     "start_time": "2024-05-12T14:34:21.694566Z"
    }
   },
   "id": "535f60c91ffd60bf",
   "execution_count": 430
  },
  {
   "cell_type": "code",
   "outputs": [
    {
     "data": {
      "text/plain": "                                             Range_1  \\\n0  End of period, Start of period, Revenues from ...   \n\n                                             Range_2  \\\n0  ASSETS, Non-current assets, Property, plant an...   \n\n                                             Range_3  \\\n0  Gross profit margin on sales, Operating profit...   \n\n                                             Range_4  \\\n0  Return on equity (ROE), Return on assets (ROA)...   \n\n                                             Range_5      filename  \n0  EBITDA, Current financial liabilities, Non-cur...  ZREMBCH.xlsx  ",
      "text/html": "<div>\n<style scoped>\n    .dataframe tbody tr th:only-of-type {\n        vertical-align: middle;\n    }\n\n    .dataframe tbody tr th {\n        vertical-align: top;\n    }\n\n    .dataframe thead th {\n        text-align: right;\n    }\n</style>\n<table border=\"1\" class=\"dataframe\">\n  <thead>\n    <tr style=\"text-align: right;\">\n      <th></th>\n      <th>Range_1</th>\n      <th>Range_2</th>\n      <th>Range_3</th>\n      <th>Range_4</th>\n      <th>Range_5</th>\n      <th>filename</th>\n    </tr>\n  </thead>\n  <tbody>\n    <tr>\n      <th>0</th>\n      <td>End of period, Start of period, Revenues from ...</td>\n      <td>ASSETS, Non-current assets, Property, plant an...</td>\n      <td>Gross profit margin on sales, Operating profit...</td>\n      <td>Return on equity (ROE), Return on assets (ROA)...</td>\n      <td>EBITDA, Current financial liabilities, Non-cur...</td>\n      <td>ZREMBCH.xlsx</td>\n    </tr>\n  </tbody>\n</table>\n</div>"
     },
     "execution_count": 431,
     "metadata": {},
     "output_type": "execute_result"
    }
   ],
   "source": [
    "df_results"
   ],
   "metadata": {
    "collapsed": false,
    "ExecuteTime": {
     "end_time": "2024-05-12T14:34:21.784795Z",
     "start_time": "2024-05-12T14:34:21.779774Z"
    }
   },
   "id": "38ef49eed5c89e21",
   "execution_count": 431
  },
  {
   "cell_type": "code",
   "outputs": [
    {
     "data": {
      "text/plain": "  End of period Start of period Revenues from sales Operating profit/loss  \\\n0          None            None                None                  None   \n\n  Net profit/loss attributable to equity holders of the parent  \\\n0                                               None             \n\n  Total comprehensive income attributable to equity holders Depreciation  \\\n0                                               None                None   \n\n  Cash flow from operating activities Cash flow from investing activities  \\\n0                                None                                None   \n\n  Cash flow from financing activities  ... Leverage (EM)  \\\n0                                None  ...          None   \n\n  Asset utilization (AU) Load gross profit Load operating profit  \\\n0                   None              None                  None   \n\n  EBITDA margin EBITDA Current financial liabilities  \\\n0          None   None                          None   \n\n  Non-current financial liabilities Financial liabilities (total)  \\\n0                              None                          None   \n\n       filename  \n0  ZREMBCH.xlsx  \n\n[1 rows x 109 columns]",
      "text/html": "<div>\n<style scoped>\n    .dataframe tbody tr th:only-of-type {\n        vertical-align: middle;\n    }\n\n    .dataframe tbody tr th {\n        vertical-align: top;\n    }\n\n    .dataframe thead th {\n        text-align: right;\n    }\n</style>\n<table border=\"1\" class=\"dataframe\">\n  <thead>\n    <tr style=\"text-align: right;\">\n      <th></th>\n      <th>End of period</th>\n      <th>Start of period</th>\n      <th>Revenues from sales</th>\n      <th>Operating profit/loss</th>\n      <th>Net profit/loss attributable to equity holders of the parent</th>\n      <th>Total comprehensive income attributable to equity holders</th>\n      <th>Depreciation</th>\n      <th>Cash flow from operating activities</th>\n      <th>Cash flow from investing activities</th>\n      <th>Cash flow from financing activities</th>\n      <th>...</th>\n      <th>Leverage (EM)</th>\n      <th>Asset utilization (AU)</th>\n      <th>Load gross profit</th>\n      <th>Load operating profit</th>\n      <th>EBITDA margin</th>\n      <th>EBITDA</th>\n      <th>Current financial liabilities</th>\n      <th>Non-current financial liabilities</th>\n      <th>Financial liabilities (total)</th>\n      <th>filename</th>\n    </tr>\n  </thead>\n  <tbody>\n    <tr>\n      <th>0</th>\n      <td>None</td>\n      <td>None</td>\n      <td>None</td>\n      <td>None</td>\n      <td>None</td>\n      <td>None</td>\n      <td>None</td>\n      <td>None</td>\n      <td>None</td>\n      <td>None</td>\n      <td>...</td>\n      <td>None</td>\n      <td>None</td>\n      <td>None</td>\n      <td>None</td>\n      <td>None</td>\n      <td>None</td>\n      <td>None</td>\n      <td>None</td>\n      <td>None</td>\n      <td>ZREMBCH.xlsx</td>\n    </tr>\n  </tbody>\n</table>\n<p>1 rows × 109 columns</p>\n</div>"
     },
     "execution_count": 432,
     "metadata": {},
     "output_type": "execute_result"
    }
   ],
   "source": [
    "import os\n",
    "import pandas as pd\n",
    "\n",
    "def process_excel_data(base_folder):\n",
    "    folder_path = os.path.join(base_folder)\n",
    "    all_data = []\n",
    "\n",
    "    row_ranges = [\n",
    "        range(2, 19),  # Rows 3 to 18 inclusive, zero-indexed\n",
    "        range(29, 94),  # Rows 30 to 93 inclusive\n",
    "        range(254, 276),  # Rows 255 to 275 inclusive\n",
    "        range(278, 288),  # Rows 279 to 287 inclusive\n",
    "        range(289, 294)  # Rows 290 to 293 inclusive\n",
    "    ]\n",
    "\n",
    "    for filename in os.listdir(folder_path):\n",
    "        if filename.endswith('.xlsx'):\n",
    "            file_path = os.path.join(folder_path, filename)\n",
    "            try:\n",
    "                data = pd.read_excel(file_path, sheet_name='QS', usecols=[2], header=None)\n",
    "\n",
    "                extracted_data = []\n",
    "                for row_range in row_ranges:\n",
    "                    range_data = data.iloc[row_range].squeeze().tolist()\n",
    "                    concatenated_data = ', '.join(map(str, range_data))\n",
    "                    extracted_data.append(concatenated_data)\n",
    "\n",
    "                new_row = {}\n",
    "                for item in extracted_data:\n",
    "                    for entry in item.split(', '):\n",
    "                        new_row[entry.strip()] = None  # dummy value\n",
    "\n",
    "                # Create a DataFrame from the dictionary\n",
    "                new_df = pd.DataFrame([new_row])\n",
    "                new_df['filename'] = filename  # Add filename as a column\n",
    "\n",
    "                all_data.append(new_df)\n",
    "            except Exception as e:\n",
    "                print(f\"Error processing file {filename}: {e}\")\n",
    "\n",
    "    results_df = pd.concat(all_data, ignore_index=True)\n",
    "    return results_df\n",
    "\n",
    "\n",
    "df_results = process_excel_data(folder_path)\n",
    "df_results"
   ],
   "metadata": {
    "collapsed": false,
    "ExecuteTime": {
     "end_time": "2024-05-12T14:34:21.876531Z",
     "start_time": "2024-05-12T14:34:21.784795Z"
    }
   },
   "id": "227e0c5ba5c4d916",
   "execution_count": 432
  }
 ],
 "metadata": {
  "kernelspec": {
   "display_name": "Python 3",
   "language": "python",
   "name": "python3"
  },
  "language_info": {
   "codemirror_mode": {
    "name": "ipython",
    "version": 2
   },
   "file_extension": ".py",
   "mimetype": "text/x-python",
   "name": "python",
   "nbconvert_exporter": "python",
   "pygments_lexer": "ipython2",
   "version": "2.7.6"
  }
 },
 "nbformat": 4,
 "nbformat_minor": 5
}
