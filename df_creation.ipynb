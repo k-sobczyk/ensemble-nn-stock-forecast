{
 "cells": [
  {
   "cell_type": "code",
   "execution_count": 101,
   "id": "initial_id",
   "metadata": {
    "collapsed": true,
    "ExecuteTime": {
     "end_time": "2024-05-15T10:20:40.237566800Z",
     "start_time": "2024-05-15T10:20:40.207220900Z"
    }
   },
   "outputs": [],
   "source": [
    "import pandas as pd\n",
    "import numpy as np\n",
    "import os"
   ]
  },
  {
   "cell_type": "code",
   "outputs": [
    {
     "name": "stdout",
     "output_type": "stream",
     "text": [
      "Files in folder: 349.\n"
     ]
    }
   ],
   "source": [
    "import os\n",
    "\n",
    "def count_files_in_folder(folder_path):\n",
    "    file_count = 0\n",
    "\n",
    "    for entry in os.listdir(folder_path):\n",
    "        full_path = os.path.join(folder_path, entry)\n",
    "        if os.path.isfile(full_path):\n",
    "            file_count += 1\n",
    "    \n",
    "    return file_count\n",
    "\n",
    "print(f\"Files in folder: {count_files_in_folder(\"data/\")}.\")"
   ],
   "metadata": {
    "collapsed": false,
    "ExecuteTime": {
     "end_time": "2024-05-15T10:20:40.384855900Z",
     "start_time": "2024-05-15T10:20:40.244197Z"
    }
   },
   "id": "2bc1212168cd36b6",
   "execution_count": 102
  },
  {
   "cell_type": "markdown",
   "source": [
    "# Notes\n",
    "WSZYSTKIE PLIKI SĄ IDENTYCZNE. WSZYSTKIE TO EXCEL - 14 kart\n",
    "Czyszczenie:\n",
    "•\tWszystkie NaN na 0\n",
    "•\tSkalowanie przed modelem\n",
    "•\tInżynieria cech (wskaźniki ekonomiczne, różnica miedzy każym z elementów)\n",
    "\n",
    "TESTY DO PRZEPROWADZENIA:\n",
    "•\tUwzglednienie wszystkiego\n",
    "•\tSkupienie sie na zmianach kapitałowych\n",
    "•\tOgraniczenie tylko główne wartości\n",
    "•\tGrupowanie po przedsiębiorstwie? \n",
    "\n",
    "Podsumowanie co wyciągnąć z pliku:\n",
    "Dodatkowa kolumna jako nazwa pliku\n",
    "C – nazwa kolumny w DF\n",
    "\n",
    "(Kolumny: OD M DO AB. Wiersze: Od 3 do 18 włącznie)\n",
    "(wiersze 30 do 93 włącznie)\n",
    "Wiersze 255 – 275 włącznie\n",
    "Wiersze 279 – 287 włącznie (dane w %)\n",
    "Wiersze 290 – 293 włącznie"
   ],
   "metadata": {
    "collapsed": false
   },
   "id": "efd5cfae4ada59ba"
  },
  {
   "cell_type": "code",
   "outputs": [],
   "source": [
    "folder_path = 'dataa/'"
   ],
   "metadata": {
    "collapsed": false,
    "ExecuteTime": {
     "end_time": "2024-05-15T10:20:40.384855900Z",
     "start_time": "2024-05-15T10:20:40.379296200Z"
    }
   },
   "id": "eeac026c30c7da7b",
   "execution_count": 103
  },
  {
   "cell_type": "code",
   "outputs": [
    {
     "name": "stdout",
     "output_type": "stream",
     "text": [
      "Folder exists. Proceeding with file processing.\n"
     ]
    }
   ],
   "source": [
    "if os.path.exists(folder_path):\n",
    "    print(\"Folder exists. Proceeding with file processing.\")\n",
    "else:\n",
    "    print(\"Folder does not exist. Check the path.\")"
   ],
   "metadata": {
    "collapsed": false,
    "ExecuteTime": {
     "end_time": "2024-05-15T10:20:40.413043900Z",
     "start_time": "2024-05-15T10:20:40.384855900Z"
    }
   },
   "id": "541b11aa6b71dac8",
   "execution_count": 104
  },
  {
   "cell_type": "code",
   "outputs": [],
   "source": [
    "# TEST, przejście po każdym pliku i wyciągnięcie z 'Info' nazwa firmy i sektora"
   ],
   "metadata": {
    "collapsed": false,
    "ExecuteTime": {
     "end_time": "2024-05-15T10:20:40.413043900Z",
     "start_time": "2024-05-15T10:20:40.395030500Z"
    }
   },
   "id": "3edf748cbf0c8e9c",
   "execution_count": 105
  },
  {
   "cell_type": "code",
   "outputs": [],
   "source": [
    "def test_process_excel_files(folder_path):\n",
    "    results = []\n",
    "\n",
    "    for filename in os.listdir(folder_path):\n",
    "        if filename.endswith('.xlsx'):\n",
    "            file_path = os.path.join(folder_path, filename)\n",
    "            try:\n",
    "                with pd.ExcelFile(file_path) as xls:\n",
    "                    company_name = pd.read_excel(xls, 'Info', usecols=\"B\", skiprows=1, nrows=1).values[0][0]\n",
    "                    sector = pd.read_excel(xls, 'Info', usecols=\"E\", skiprows=19, nrows=1).values[0][0]\n",
    "                \n",
    "                result = {\n",
    "                    'filename': filename,\n",
    "                    'Company Name': company_name,\n",
    "                    'Sector': sector\n",
    "                }\n",
    "                results.append(result)\n",
    "                \n",
    "                print(f\"Dane z {filename} zostały przetworzone.\")\n",
    "            except Exception as e:\n",
    "                print(f\"Błąd przy przetwarzaniu pliku {filename}: {e}\")\n",
    "\n",
    "    results_df = pd.DataFrame(results)\n",
    "    return results_df"
   ],
   "metadata": {
    "collapsed": false,
    "ExecuteTime": {
     "end_time": "2024-05-15T10:20:40.413043900Z",
     "start_time": "2024-05-15T10:20:40.410384200Z"
    }
   },
   "id": "9f3ef90c6578f28c",
   "execution_count": 106
  },
  {
   "cell_type": "code",
   "outputs": [
    {
     "name": "stdout",
     "output_type": "stream",
     "text": [
      "Dane z ZYWIEC.xlsx zostały przetworzone.\n"
     ]
    },
    {
     "data": {
      "text/plain": "      filename     Company Name  Sector\n0  ZYWIEC.xlsx  Grupa Żywiec SA  napoje",
      "text/html": "<div>\n<style scoped>\n    .dataframe tbody tr th:only-of-type {\n        vertical-align: middle;\n    }\n\n    .dataframe tbody tr th {\n        vertical-align: top;\n    }\n\n    .dataframe thead th {\n        text-align: right;\n    }\n</style>\n<table border=\"1\" class=\"dataframe\">\n  <thead>\n    <tr style=\"text-align: right;\">\n      <th></th>\n      <th>filename</th>\n      <th>Company Name</th>\n      <th>Sector</th>\n    </tr>\n  </thead>\n  <tbody>\n    <tr>\n      <th>0</th>\n      <td>ZYWIEC.xlsx</td>\n      <td>Grupa Żywiec SA</td>\n      <td>napoje</td>\n    </tr>\n  </tbody>\n</table>\n</div>"
     },
     "execution_count": 107,
     "metadata": {},
     "output_type": "execute_result"
    }
   ],
   "source": [
    "test_process_excel_files(folder_path)"
   ],
   "metadata": {
    "collapsed": false,
    "ExecuteTime": {
     "end_time": "2024-05-15T10:20:40.759307800Z",
     "start_time": "2024-05-15T10:20:40.413043900Z"
    }
   },
   "id": "2afe4e6288f0d029",
   "execution_count": 107
  },
  {
   "cell_type": "markdown",
   "source": [
    "# Przygotowanie DF z danymi (kolumny)"
   ],
   "metadata": {
    "collapsed": false
   },
   "id": "d482586e97436c50"
  },
  {
   "cell_type": "code",
   "outputs": [
    {
     "data": {
      "text/plain": "  End of period Start of period Revenues from sales Operating profit/loss  \\\n0          None            None                None                  None   \n\n  Net profit/loss attributable to equity holders of the parent  \\\n0                                               None             \n\n  Total comprehensive income attributable to equity holders Depreciation  \\\n0                                               None                None   \n\n  Cash flow from operating activities Cash flow from investing activities  \\\n0                                None                                None   \n\n  Cash flow from financing activities  ... Leverage (EM)  \\\n0                                None  ...          None   \n\n  Asset utilization (AU) Load gross profit Load operating profit  \\\n0                   None              None                  None   \n\n  EBITDA margin EBITDA Current financial liabilities  \\\n0          None   None                          None   \n\n  Non-current financial liabilities Financial liabilities (total)     filename  \n0                              None                          None  ZYWIEC.xlsx  \n\n[1 rows x 109 columns]",
      "text/html": "<div>\n<style scoped>\n    .dataframe tbody tr th:only-of-type {\n        vertical-align: middle;\n    }\n\n    .dataframe tbody tr th {\n        vertical-align: top;\n    }\n\n    .dataframe thead th {\n        text-align: right;\n    }\n</style>\n<table border=\"1\" class=\"dataframe\">\n  <thead>\n    <tr style=\"text-align: right;\">\n      <th></th>\n      <th>End of period</th>\n      <th>Start of period</th>\n      <th>Revenues from sales</th>\n      <th>Operating profit/loss</th>\n      <th>Net profit/loss attributable to equity holders of the parent</th>\n      <th>Total comprehensive income attributable to equity holders</th>\n      <th>Depreciation</th>\n      <th>Cash flow from operating activities</th>\n      <th>Cash flow from investing activities</th>\n      <th>Cash flow from financing activities</th>\n      <th>...</th>\n      <th>Leverage (EM)</th>\n      <th>Asset utilization (AU)</th>\n      <th>Load gross profit</th>\n      <th>Load operating profit</th>\n      <th>EBITDA margin</th>\n      <th>EBITDA</th>\n      <th>Current financial liabilities</th>\n      <th>Non-current financial liabilities</th>\n      <th>Financial liabilities (total)</th>\n      <th>filename</th>\n    </tr>\n  </thead>\n  <tbody>\n    <tr>\n      <th>0</th>\n      <td>None</td>\n      <td>None</td>\n      <td>None</td>\n      <td>None</td>\n      <td>None</td>\n      <td>None</td>\n      <td>None</td>\n      <td>None</td>\n      <td>None</td>\n      <td>None</td>\n      <td>...</td>\n      <td>None</td>\n      <td>None</td>\n      <td>None</td>\n      <td>None</td>\n      <td>None</td>\n      <td>None</td>\n      <td>None</td>\n      <td>None</td>\n      <td>None</td>\n      <td>ZYWIEC.xlsx</td>\n    </tr>\n  </tbody>\n</table>\n<p>1 rows × 109 columns</p>\n</div>"
     },
     "execution_count": 108,
     "metadata": {},
     "output_type": "execute_result"
    }
   ],
   "source": [
    "def process_excel_data(base_folder):\n",
    "    folder_path = os.path.join(base_folder)\n",
    "    all_data = []\n",
    "\n",
    "    row_ranges = [\n",
    "        range(2, 19),  # Rows 3 to 18 inclusive, zero-indexed\n",
    "        range(29, 94),  # Rows 30 to 93 inclusive\n",
    "        range(254, 276),  # Rows 255 to 275 inclusive\n",
    "        range(278, 288),  # Rows 279 to 287 inclusive\n",
    "        range(289, 294)  # Rows 290 to 293 inclusive\n",
    "    ]\n",
    "\n",
    "    for filename in os.listdir(folder_path):\n",
    "        if filename.endswith('.xlsx'):\n",
    "            file_path = os.path.join(folder_path, filename)\n",
    "            try:\n",
    "                data = pd.read_excel(file_path, sheet_name='QS', usecols=[2], header=None)\n",
    "\n",
    "                extracted_data = []\n",
    "                for row_range in row_ranges:\n",
    "                    range_data = data.iloc[row_range].squeeze().tolist()\n",
    "                    concatenated_data = ', '.join(map(str, range_data))\n",
    "                    extracted_data.append(concatenated_data)\n",
    "\n",
    "                new_row = {}\n",
    "                for item in extracted_data:\n",
    "                    for entry in item.split(', '):\n",
    "                        new_row[entry.strip()] = None  # dummy value\n",
    "\n",
    "                new_df = pd.DataFrame([new_row])\n",
    "                new_df['filename'] = filename\n",
    "\n",
    "                all_data.append(new_df)\n",
    "            except Exception as e:\n",
    "                print(f\"Error processing file {filename}: {e}\")\n",
    "\n",
    "    results_df = pd.concat(all_data, ignore_index=True)\n",
    "    return results_df\n",
    "\n",
    "df_results = process_excel_data(folder_path)\n",
    "df_results"
   ],
   "metadata": {
    "collapsed": false,
    "ExecuteTime": {
     "end_time": "2024-05-15T10:20:41.610353300Z",
     "start_time": "2024-05-15T10:20:40.759307800Z"
    }
   },
   "id": "227e0c5ba5c4d916",
   "execution_count": 108
  },
  {
   "cell_type": "code",
   "outputs": [
    {
     "name": "stderr",
     "output_type": "stream",
     "text": [
      "C:\\Users\\ksobc\\AppData\\Local\\Temp\\ipykernel_15724\\1622711448.py:34: FutureWarning: Downcasting behavior in `replace` is deprecated and will be removed in a future version. To retain the old behavior, explicitly call `result.infer_objects(copy=False)`. To opt-in to the future behavior, set `pd.set_option('future.no_silent_downcasting', True)`\n",
      "  range_data = range_data.replace(0, np.nan)\n"
     ]
    },
    {
     "data": {
      "text/plain": "           date End of period Start of period Revenues from sales  \\\n0    1998-03-31    1998-03-31      1998-01-01              126003   \n1    1998-06-30    1998-06-30      1998-04-01              142773   \n2    1998-09-30    1998-09-30      1998-07-01              222098   \n3    1998-12-31    1998-12-31      1998-10-01              154110   \n4    1999-03-31    1999-03-31      1999-01-01              168924   \n..          ...           ...             ...                 ...   \n130  2003-09-30           NaN             NaN                 NaN   \n131  2003-12-31           NaN             NaN                 NaN   \n132  2004-03-31           NaN             NaN                 NaN   \n133  2004-06-30           NaN             NaN                 NaN   \n134  2004-09-30           NaN             NaN                 NaN   \n\n    Operating profit/loss  \\\n0                   11171   \n1                   50830   \n2                   61141   \n3                   27972   \n4                   31190   \n..                    ...   \n130                   NaN   \n131                   NaN   \n132                   NaN   \n133                   NaN   \n134                   NaN   \n\n    Net profit/loss attributable to equity holders of the parent  \\\n0                                                 5812             \n1                                                33203             \n2                                                41145             \n3                                                18590             \n4                                                18760             \n..                                                 ...             \n130                                                NaN             \n131                                                NaN             \n132                                                NaN             \n133                                                NaN             \n134                                                NaN             \n\n    Total comprehensive income attributable to equity holders Depreciation  \\\n0                                                  NaN               11442   \n1                                                  NaN               12009   \n2                                                  NaN               13995   \n3                                                  NaN               12549   \n4                                                  NaN               12387   \n..                                                 ...                 ...   \n130                                                NaN                 NaN   \n131                                                NaN                 NaN   \n132                                                NaN                 NaN   \n133                                                NaN                 NaN   \n134                                                NaN                 NaN   \n\n    Cash flow from operating activities Cash flow from investing activities  \\\n0                                 34508                              -17981   \n1                                 33829                              -12482   \n2                                 52800                              -12265   \n3                                 45540                            -1632209   \n4                                 95255                             -138856   \n..                                  ...                                 ...   \n130                                 NaN                                 NaN   \n131                                 NaN                                 NaN   \n132                                 NaN                                 NaN   \n133                                 NaN                                 NaN   \n134                                 NaN                                 NaN   \n\n     ... Rate debt security Leverage (EM) Asset utilization (AU)  \\\n0    ...                NaN           NaN                    NaN   \n1    ...                NaN           NaN                    NaN   \n2    ...                NaN           NaN                    NaN   \n3    ...                NaN           NaN                    NaN   \n4    ...                NaN           NaN                    NaN   \n..   ...                ...           ...                    ...   \n130  ...                NaN           NaN                    NaN   \n131  ...                NaN           NaN                    NaN   \n132  ...                NaN           NaN                    NaN   \n133  ...                NaN           NaN                    NaN   \n134  ...                NaN           NaN                    NaN   \n\n    Load gross profit Load operating profit EBITDA margin    EBITDA  \\\n0                 NaN                   NaN           NaN       NaN   \n1                 NaN                   NaN           NaN       NaN   \n2                 NaN                   NaN           NaN       NaN   \n3                 NaN                   NaN           NaN       NaN   \n4                 NaN                   NaN           NaN       NaN   \n..                ...                   ...           ...       ...   \n130               NaN                   NaN           NaN   89223.0   \n131               NaN                   NaN           NaN    3554.0   \n132               NaN                   NaN           NaN   60420.0   \n133               NaN                   NaN           NaN   81373.0   \n134               NaN                   NaN           NaN  125563.0   \n\n    Current financial liabilities Non-current financial liabilities  \\\n0                             NaN                               NaN   \n1                             NaN                               NaN   \n2                             NaN                               NaN   \n3                             NaN                               NaN   \n4                             NaN                               NaN   \n..                            ...                               ...   \n130                           NaN                               NaN   \n131                           NaN                               NaN   \n132                           NaN                               NaN   \n133                           NaN                          150000.0   \n134                           NaN                           80000.0   \n\n    Financial liabilities (total)  \n0                             NaN  \n1                             NaN  \n2                             NaN  \n3                             NaN  \n4                             NaN  \n..                            ...  \n130                           NaN  \n131                           NaN  \n132                           NaN  \n133                      150000.0  \n134                       80000.0  \n\n[135 rows x 109 columns]",
      "text/html": "<div>\n<style scoped>\n    .dataframe tbody tr th:only-of-type {\n        vertical-align: middle;\n    }\n\n    .dataframe tbody tr th {\n        vertical-align: top;\n    }\n\n    .dataframe thead th {\n        text-align: right;\n    }\n</style>\n<table border=\"1\" class=\"dataframe\">\n  <thead>\n    <tr style=\"text-align: right;\">\n      <th></th>\n      <th>date</th>\n      <th>End of period</th>\n      <th>Start of period</th>\n      <th>Revenues from sales</th>\n      <th>Operating profit/loss</th>\n      <th>Net profit/loss attributable to equity holders of the parent</th>\n      <th>Total comprehensive income attributable to equity holders</th>\n      <th>Depreciation</th>\n      <th>Cash flow from operating activities</th>\n      <th>Cash flow from investing activities</th>\n      <th>...</th>\n      <th>Rate debt security</th>\n      <th>Leverage (EM)</th>\n      <th>Asset utilization (AU)</th>\n      <th>Load gross profit</th>\n      <th>Load operating profit</th>\n      <th>EBITDA margin</th>\n      <th>EBITDA</th>\n      <th>Current financial liabilities</th>\n      <th>Non-current financial liabilities</th>\n      <th>Financial liabilities (total)</th>\n    </tr>\n  </thead>\n  <tbody>\n    <tr>\n      <th>0</th>\n      <td>1998-03-31</td>\n      <td>1998-03-31</td>\n      <td>1998-01-01</td>\n      <td>126003</td>\n      <td>11171</td>\n      <td>5812</td>\n      <td>NaN</td>\n      <td>11442</td>\n      <td>34508</td>\n      <td>-17981</td>\n      <td>...</td>\n      <td>NaN</td>\n      <td>NaN</td>\n      <td>NaN</td>\n      <td>NaN</td>\n      <td>NaN</td>\n      <td>NaN</td>\n      <td>NaN</td>\n      <td>NaN</td>\n      <td>NaN</td>\n      <td>NaN</td>\n    </tr>\n    <tr>\n      <th>1</th>\n      <td>1998-06-30</td>\n      <td>1998-06-30</td>\n      <td>1998-04-01</td>\n      <td>142773</td>\n      <td>50830</td>\n      <td>33203</td>\n      <td>NaN</td>\n      <td>12009</td>\n      <td>33829</td>\n      <td>-12482</td>\n      <td>...</td>\n      <td>NaN</td>\n      <td>NaN</td>\n      <td>NaN</td>\n      <td>NaN</td>\n      <td>NaN</td>\n      <td>NaN</td>\n      <td>NaN</td>\n      <td>NaN</td>\n      <td>NaN</td>\n      <td>NaN</td>\n    </tr>\n    <tr>\n      <th>2</th>\n      <td>1998-09-30</td>\n      <td>1998-09-30</td>\n      <td>1998-07-01</td>\n      <td>222098</td>\n      <td>61141</td>\n      <td>41145</td>\n      <td>NaN</td>\n      <td>13995</td>\n      <td>52800</td>\n      <td>-12265</td>\n      <td>...</td>\n      <td>NaN</td>\n      <td>NaN</td>\n      <td>NaN</td>\n      <td>NaN</td>\n      <td>NaN</td>\n      <td>NaN</td>\n      <td>NaN</td>\n      <td>NaN</td>\n      <td>NaN</td>\n      <td>NaN</td>\n    </tr>\n    <tr>\n      <th>3</th>\n      <td>1998-12-31</td>\n      <td>1998-12-31</td>\n      <td>1998-10-01</td>\n      <td>154110</td>\n      <td>27972</td>\n      <td>18590</td>\n      <td>NaN</td>\n      <td>12549</td>\n      <td>45540</td>\n      <td>-1632209</td>\n      <td>...</td>\n      <td>NaN</td>\n      <td>NaN</td>\n      <td>NaN</td>\n      <td>NaN</td>\n      <td>NaN</td>\n      <td>NaN</td>\n      <td>NaN</td>\n      <td>NaN</td>\n      <td>NaN</td>\n      <td>NaN</td>\n    </tr>\n    <tr>\n      <th>4</th>\n      <td>1999-03-31</td>\n      <td>1999-03-31</td>\n      <td>1999-01-01</td>\n      <td>168924</td>\n      <td>31190</td>\n      <td>18760</td>\n      <td>NaN</td>\n      <td>12387</td>\n      <td>95255</td>\n      <td>-138856</td>\n      <td>...</td>\n      <td>NaN</td>\n      <td>NaN</td>\n      <td>NaN</td>\n      <td>NaN</td>\n      <td>NaN</td>\n      <td>NaN</td>\n      <td>NaN</td>\n      <td>NaN</td>\n      <td>NaN</td>\n      <td>NaN</td>\n    </tr>\n    <tr>\n      <th>...</th>\n      <td>...</td>\n      <td>...</td>\n      <td>...</td>\n      <td>...</td>\n      <td>...</td>\n      <td>...</td>\n      <td>...</td>\n      <td>...</td>\n      <td>...</td>\n      <td>...</td>\n      <td>...</td>\n      <td>...</td>\n      <td>...</td>\n      <td>...</td>\n      <td>...</td>\n      <td>...</td>\n      <td>...</td>\n      <td>...</td>\n      <td>...</td>\n      <td>...</td>\n      <td>...</td>\n    </tr>\n    <tr>\n      <th>130</th>\n      <td>2003-09-30</td>\n      <td>NaN</td>\n      <td>NaN</td>\n      <td>NaN</td>\n      <td>NaN</td>\n      <td>NaN</td>\n      <td>NaN</td>\n      <td>NaN</td>\n      <td>NaN</td>\n      <td>NaN</td>\n      <td>...</td>\n      <td>NaN</td>\n      <td>NaN</td>\n      <td>NaN</td>\n      <td>NaN</td>\n      <td>NaN</td>\n      <td>NaN</td>\n      <td>89223.0</td>\n      <td>NaN</td>\n      <td>NaN</td>\n      <td>NaN</td>\n    </tr>\n    <tr>\n      <th>131</th>\n      <td>2003-12-31</td>\n      <td>NaN</td>\n      <td>NaN</td>\n      <td>NaN</td>\n      <td>NaN</td>\n      <td>NaN</td>\n      <td>NaN</td>\n      <td>NaN</td>\n      <td>NaN</td>\n      <td>NaN</td>\n      <td>...</td>\n      <td>NaN</td>\n      <td>NaN</td>\n      <td>NaN</td>\n      <td>NaN</td>\n      <td>NaN</td>\n      <td>NaN</td>\n      <td>3554.0</td>\n      <td>NaN</td>\n      <td>NaN</td>\n      <td>NaN</td>\n    </tr>\n    <tr>\n      <th>132</th>\n      <td>2004-03-31</td>\n      <td>NaN</td>\n      <td>NaN</td>\n      <td>NaN</td>\n      <td>NaN</td>\n      <td>NaN</td>\n      <td>NaN</td>\n      <td>NaN</td>\n      <td>NaN</td>\n      <td>NaN</td>\n      <td>...</td>\n      <td>NaN</td>\n      <td>NaN</td>\n      <td>NaN</td>\n      <td>NaN</td>\n      <td>NaN</td>\n      <td>NaN</td>\n      <td>60420.0</td>\n      <td>NaN</td>\n      <td>NaN</td>\n      <td>NaN</td>\n    </tr>\n    <tr>\n      <th>133</th>\n      <td>2004-06-30</td>\n      <td>NaN</td>\n      <td>NaN</td>\n      <td>NaN</td>\n      <td>NaN</td>\n      <td>NaN</td>\n      <td>NaN</td>\n      <td>NaN</td>\n      <td>NaN</td>\n      <td>NaN</td>\n      <td>...</td>\n      <td>NaN</td>\n      <td>NaN</td>\n      <td>NaN</td>\n      <td>NaN</td>\n      <td>NaN</td>\n      <td>NaN</td>\n      <td>81373.0</td>\n      <td>NaN</td>\n      <td>150000.0</td>\n      <td>150000.0</td>\n    </tr>\n    <tr>\n      <th>134</th>\n      <td>2004-09-30</td>\n      <td>NaN</td>\n      <td>NaN</td>\n      <td>NaN</td>\n      <td>NaN</td>\n      <td>NaN</td>\n      <td>NaN</td>\n      <td>NaN</td>\n      <td>NaN</td>\n      <td>NaN</td>\n      <td>...</td>\n      <td>NaN</td>\n      <td>NaN</td>\n      <td>NaN</td>\n      <td>NaN</td>\n      <td>NaN</td>\n      <td>NaN</td>\n      <td>125563.0</td>\n      <td>NaN</td>\n      <td>80000.0</td>\n      <td>80000.0</td>\n    </tr>\n  </tbody>\n</table>\n<p>135 rows × 109 columns</p>\n</div>"
     },
     "execution_count": 110,
     "metadata": {},
     "output_type": "execute_result"
    }
   ],
   "source": [
    "import os\n",
    "import pandas as pd\n",
    "import numpy as np\n",
    "\n",
    "def process_excel_data(base_folder):\n",
    "    folder_path = os.path.join(base_folder)\n",
    "    all_data = []\n",
    "\n",
    "    # Zakresy wierszy, które chcemy wyciągnąć (przesunięte o jeden w dół, ponieważ indeksowanie jest od zera)\n",
    "    row_ranges = [\n",
    "        range(2, 19),  # Rows 3 to 18 inclusive, zero-indexed\n",
    "        range(29, 94),  # Rows 30 to 93 inclusive\n",
    "        range(254, 276),  # Rows 255 to 275 inclusive\n",
    "        range(278, 288),  # Rows 279 to 287 inclusive\n",
    "        range(289, 294)  # Rows 290 to 293 inclusive\n",
    "    ]\n",
    "\n",
    "    for filename in os.listdir(folder_path):\n",
    "        if filename.endswith('.xlsx'):\n",
    "            file_path = os.path.join(folder_path, filename)\n",
    "            try:\n",
    "                # Wczytujemy cały arkusz, aby mieć dostęp do kolumn C do DA\n",
    "                data = pd.read_excel(file_path, sheet_name='QS', header=None)\n",
    "                \n",
    "                # Przechodzimy przez wszystkie zakresy wierszy i wyciągamy dane\n",
    "                for row_range in row_ranges:\n",
    "                    # Pobieramy wartości z kolumny C jako nagłówki\n",
    "                    headers = data.iloc[list(row_range), 2].tolist()\n",
    "                    \n",
    "                    # Pobieramy dane z kolumn D do DA dla bieżącego zakresu wierszy\n",
    "                    range_data = data.iloc[list(row_range), 3:30]\n",
    "                    \n",
    "                    # Zamiana zer na NaN\n",
    "                    range_data = range_data.replace(0, np.nan)\n",
    "                    \n",
    "                    # Transponowanie danych, aby daty były w pierwszej kolumnie\n",
    "                    transposed_data = range_data.transpose()\n",
    "                    transposed_data.columns = headers\n",
    "                    transposed_data['filename'] = filename\n",
    "                    transposed_data.insert(0, 'date', data.iloc[2, 3:30].tolist())\n",
    "\n",
    "                    all_data.append(transposed_data)\n",
    "            except Exception as e:\n",
    "                print(f\"Error processing file {filename}: {e}\")\n",
    "\n",
    "    results_df = pd.concat(all_data, ignore_index=True)\n",
    "    return results_df\n",
    "\n",
    "df_results = process_excel_data(folder_path)\n",
    "df_results\n"
   ],
   "metadata": {
    "collapsed": false,
    "ExecuteTime": {
     "end_time": "2024-05-15T10:20:42.843799600Z",
     "start_time": "2024-05-15T10:20:42.170021700Z"
    }
   },
   "id": "d4314154f4075d73",
   "execution_count": 110
  },
  {
   "cell_type": "code",
   "outputs": [
    {
     "name": "stderr",
     "output_type": "stream",
     "text": [
      "C:\\Users\\ksobc\\AppData\\Local\\Temp\\ipykernel_15724\\943373625.py:34: FutureWarning: Downcasting behavior in `replace` is deprecated and will be removed in a future version. To retain the old behavior, explicitly call `result.infer_objects(copy=False)`. To opt-in to the future behavior, set `pd.set_option('future.no_silent_downcasting', True)`\n",
      "  range_data = range_data.replace(0, np.nan)\n"
     ]
    },
    {
     "data": {
      "text/plain": "        filename End of period Start of period Revenues from sales  \\\n0    ZYWIEC.xlsx    1998-03-31      1998-01-01              126003   \n1    ZYWIEC.xlsx    1998-06-30      1998-04-01              142773   \n2    ZYWIEC.xlsx    1998-09-30      1998-07-01              222098   \n3    ZYWIEC.xlsx    1998-12-31      1998-10-01              154110   \n4    ZYWIEC.xlsx    1999-03-31      1999-01-01              168924   \n..           ...           ...             ...                 ...   \n130  ZYWIEC.xlsx           NaN             NaN                 NaN   \n131  ZYWIEC.xlsx           NaN             NaN                 NaN   \n132  ZYWIEC.xlsx           NaN             NaN                 NaN   \n133  ZYWIEC.xlsx           NaN             NaN                 NaN   \n134  ZYWIEC.xlsx           NaN             NaN                 NaN   \n\n    Operating profit/loss  \\\n0                   11171   \n1                   50830   \n2                   61141   \n3                   27972   \n4                   31190   \n..                    ...   \n130                   NaN   \n131                   NaN   \n132                   NaN   \n133                   NaN   \n134                   NaN   \n\n    Net profit/loss attributable to equity holders of the parent  \\\n0                                                 5812             \n1                                                33203             \n2                                                41145             \n3                                                18590             \n4                                                18760             \n..                                                 ...             \n130                                                NaN             \n131                                                NaN             \n132                                                NaN             \n133                                                NaN             \n134                                                NaN             \n\n    Total comprehensive income attributable to equity holders Depreciation  \\\n0                                                  NaN               11442   \n1                                                  NaN               12009   \n2                                                  NaN               13995   \n3                                                  NaN               12549   \n4                                                  NaN               12387   \n..                                                 ...                 ...   \n130                                                NaN                 NaN   \n131                                                NaN                 NaN   \n132                                                NaN                 NaN   \n133                                                NaN                 NaN   \n134                                                NaN                 NaN   \n\n    Cash flow from operating activities Cash flow from investing activities  \\\n0                                 34508                              -17981   \n1                                 33829                              -12482   \n2                                 52800                              -12265   \n3                                 45540                            -1632209   \n4                                 95255                             -138856   \n..                                  ...                                 ...   \n130                                 NaN                                 NaN   \n131                                 NaN                                 NaN   \n132                                 NaN                                 NaN   \n133                                 NaN                                 NaN   \n134                                 NaN                                 NaN   \n\n     ... Rate debt security Leverage (EM) Asset utilization (AU)  \\\n0    ...                NaN           NaN                    NaN   \n1    ...                NaN           NaN                    NaN   \n2    ...                NaN           NaN                    NaN   \n3    ...                NaN           NaN                    NaN   \n4    ...                NaN           NaN                    NaN   \n..   ...                ...           ...                    ...   \n130  ...                NaN           NaN                    NaN   \n131  ...                NaN           NaN                    NaN   \n132  ...                NaN           NaN                    NaN   \n133  ...                NaN           NaN                    NaN   \n134  ...                NaN           NaN                    NaN   \n\n    Load gross profit Load operating profit EBITDA margin    EBITDA  \\\n0                 NaN                   NaN           NaN       NaN   \n1                 NaN                   NaN           NaN       NaN   \n2                 NaN                   NaN           NaN       NaN   \n3                 NaN                   NaN           NaN       NaN   \n4                 NaN                   NaN           NaN       NaN   \n..                ...                   ...           ...       ...   \n130               NaN                   NaN           NaN   89223.0   \n131               NaN                   NaN           NaN    3554.0   \n132               NaN                   NaN           NaN   60420.0   \n133               NaN                   NaN           NaN   81373.0   \n134               NaN                   NaN           NaN  125563.0   \n\n    Current financial liabilities Non-current financial liabilities  \\\n0                             NaN                               NaN   \n1                             NaN                               NaN   \n2                             NaN                               NaN   \n3                             NaN                               NaN   \n4                             NaN                               NaN   \n..                            ...                               ...   \n130                           NaN                               NaN   \n131                           NaN                               NaN   \n132                           NaN                               NaN   \n133                           NaN                          150000.0   \n134                           NaN                           80000.0   \n\n    Financial liabilities (total)  \n0                             NaN  \n1                             NaN  \n2                             NaN  \n3                             NaN  \n4                             NaN  \n..                            ...  \n130                           NaN  \n131                           NaN  \n132                           NaN  \n133                      150000.0  \n134                       80000.0  \n\n[135 rows x 108 columns]",
      "text/html": "<div>\n<style scoped>\n    .dataframe tbody tr th:only-of-type {\n        vertical-align: middle;\n    }\n\n    .dataframe tbody tr th {\n        vertical-align: top;\n    }\n\n    .dataframe thead th {\n        text-align: right;\n    }\n</style>\n<table border=\"1\" class=\"dataframe\">\n  <thead>\n    <tr style=\"text-align: right;\">\n      <th></th>\n      <th>filename</th>\n      <th>End of period</th>\n      <th>Start of period</th>\n      <th>Revenues from sales</th>\n      <th>Operating profit/loss</th>\n      <th>Net profit/loss attributable to equity holders of the parent</th>\n      <th>Total comprehensive income attributable to equity holders</th>\n      <th>Depreciation</th>\n      <th>Cash flow from operating activities</th>\n      <th>Cash flow from investing activities</th>\n      <th>...</th>\n      <th>Rate debt security</th>\n      <th>Leverage (EM)</th>\n      <th>Asset utilization (AU)</th>\n      <th>Load gross profit</th>\n      <th>Load operating profit</th>\n      <th>EBITDA margin</th>\n      <th>EBITDA</th>\n      <th>Current financial liabilities</th>\n      <th>Non-current financial liabilities</th>\n      <th>Financial liabilities (total)</th>\n    </tr>\n  </thead>\n  <tbody>\n    <tr>\n      <th>0</th>\n      <td>ZYWIEC.xlsx</td>\n      <td>1998-03-31</td>\n      <td>1998-01-01</td>\n      <td>126003</td>\n      <td>11171</td>\n      <td>5812</td>\n      <td>NaN</td>\n      <td>11442</td>\n      <td>34508</td>\n      <td>-17981</td>\n      <td>...</td>\n      <td>NaN</td>\n      <td>NaN</td>\n      <td>NaN</td>\n      <td>NaN</td>\n      <td>NaN</td>\n      <td>NaN</td>\n      <td>NaN</td>\n      <td>NaN</td>\n      <td>NaN</td>\n      <td>NaN</td>\n    </tr>\n    <tr>\n      <th>1</th>\n      <td>ZYWIEC.xlsx</td>\n      <td>1998-06-30</td>\n      <td>1998-04-01</td>\n      <td>142773</td>\n      <td>50830</td>\n      <td>33203</td>\n      <td>NaN</td>\n      <td>12009</td>\n      <td>33829</td>\n      <td>-12482</td>\n      <td>...</td>\n      <td>NaN</td>\n      <td>NaN</td>\n      <td>NaN</td>\n      <td>NaN</td>\n      <td>NaN</td>\n      <td>NaN</td>\n      <td>NaN</td>\n      <td>NaN</td>\n      <td>NaN</td>\n      <td>NaN</td>\n    </tr>\n    <tr>\n      <th>2</th>\n      <td>ZYWIEC.xlsx</td>\n      <td>1998-09-30</td>\n      <td>1998-07-01</td>\n      <td>222098</td>\n      <td>61141</td>\n      <td>41145</td>\n      <td>NaN</td>\n      <td>13995</td>\n      <td>52800</td>\n      <td>-12265</td>\n      <td>...</td>\n      <td>NaN</td>\n      <td>NaN</td>\n      <td>NaN</td>\n      <td>NaN</td>\n      <td>NaN</td>\n      <td>NaN</td>\n      <td>NaN</td>\n      <td>NaN</td>\n      <td>NaN</td>\n      <td>NaN</td>\n    </tr>\n    <tr>\n      <th>3</th>\n      <td>ZYWIEC.xlsx</td>\n      <td>1998-12-31</td>\n      <td>1998-10-01</td>\n      <td>154110</td>\n      <td>27972</td>\n      <td>18590</td>\n      <td>NaN</td>\n      <td>12549</td>\n      <td>45540</td>\n      <td>-1632209</td>\n      <td>...</td>\n      <td>NaN</td>\n      <td>NaN</td>\n      <td>NaN</td>\n      <td>NaN</td>\n      <td>NaN</td>\n      <td>NaN</td>\n      <td>NaN</td>\n      <td>NaN</td>\n      <td>NaN</td>\n      <td>NaN</td>\n    </tr>\n    <tr>\n      <th>4</th>\n      <td>ZYWIEC.xlsx</td>\n      <td>1999-03-31</td>\n      <td>1999-01-01</td>\n      <td>168924</td>\n      <td>31190</td>\n      <td>18760</td>\n      <td>NaN</td>\n      <td>12387</td>\n      <td>95255</td>\n      <td>-138856</td>\n      <td>...</td>\n      <td>NaN</td>\n      <td>NaN</td>\n      <td>NaN</td>\n      <td>NaN</td>\n      <td>NaN</td>\n      <td>NaN</td>\n      <td>NaN</td>\n      <td>NaN</td>\n      <td>NaN</td>\n      <td>NaN</td>\n    </tr>\n    <tr>\n      <th>...</th>\n      <td>...</td>\n      <td>...</td>\n      <td>...</td>\n      <td>...</td>\n      <td>...</td>\n      <td>...</td>\n      <td>...</td>\n      <td>...</td>\n      <td>...</td>\n      <td>...</td>\n      <td>...</td>\n      <td>...</td>\n      <td>...</td>\n      <td>...</td>\n      <td>...</td>\n      <td>...</td>\n      <td>...</td>\n      <td>...</td>\n      <td>...</td>\n      <td>...</td>\n      <td>...</td>\n    </tr>\n    <tr>\n      <th>130</th>\n      <td>ZYWIEC.xlsx</td>\n      <td>NaN</td>\n      <td>NaN</td>\n      <td>NaN</td>\n      <td>NaN</td>\n      <td>NaN</td>\n      <td>NaN</td>\n      <td>NaN</td>\n      <td>NaN</td>\n      <td>NaN</td>\n      <td>...</td>\n      <td>NaN</td>\n      <td>NaN</td>\n      <td>NaN</td>\n      <td>NaN</td>\n      <td>NaN</td>\n      <td>NaN</td>\n      <td>89223.0</td>\n      <td>NaN</td>\n      <td>NaN</td>\n      <td>NaN</td>\n    </tr>\n    <tr>\n      <th>131</th>\n      <td>ZYWIEC.xlsx</td>\n      <td>NaN</td>\n      <td>NaN</td>\n      <td>NaN</td>\n      <td>NaN</td>\n      <td>NaN</td>\n      <td>NaN</td>\n      <td>NaN</td>\n      <td>NaN</td>\n      <td>NaN</td>\n      <td>...</td>\n      <td>NaN</td>\n      <td>NaN</td>\n      <td>NaN</td>\n      <td>NaN</td>\n      <td>NaN</td>\n      <td>NaN</td>\n      <td>3554.0</td>\n      <td>NaN</td>\n      <td>NaN</td>\n      <td>NaN</td>\n    </tr>\n    <tr>\n      <th>132</th>\n      <td>ZYWIEC.xlsx</td>\n      <td>NaN</td>\n      <td>NaN</td>\n      <td>NaN</td>\n      <td>NaN</td>\n      <td>NaN</td>\n      <td>NaN</td>\n      <td>NaN</td>\n      <td>NaN</td>\n      <td>NaN</td>\n      <td>...</td>\n      <td>NaN</td>\n      <td>NaN</td>\n      <td>NaN</td>\n      <td>NaN</td>\n      <td>NaN</td>\n      <td>NaN</td>\n      <td>60420.0</td>\n      <td>NaN</td>\n      <td>NaN</td>\n      <td>NaN</td>\n    </tr>\n    <tr>\n      <th>133</th>\n      <td>ZYWIEC.xlsx</td>\n      <td>NaN</td>\n      <td>NaN</td>\n      <td>NaN</td>\n      <td>NaN</td>\n      <td>NaN</td>\n      <td>NaN</td>\n      <td>NaN</td>\n      <td>NaN</td>\n      <td>NaN</td>\n      <td>...</td>\n      <td>NaN</td>\n      <td>NaN</td>\n      <td>NaN</td>\n      <td>NaN</td>\n      <td>NaN</td>\n      <td>NaN</td>\n      <td>81373.0</td>\n      <td>NaN</td>\n      <td>150000.0</td>\n      <td>150000.0</td>\n    </tr>\n    <tr>\n      <th>134</th>\n      <td>ZYWIEC.xlsx</td>\n      <td>NaN</td>\n      <td>NaN</td>\n      <td>NaN</td>\n      <td>NaN</td>\n      <td>NaN</td>\n      <td>NaN</td>\n      <td>NaN</td>\n      <td>NaN</td>\n      <td>NaN</td>\n      <td>...</td>\n      <td>NaN</td>\n      <td>NaN</td>\n      <td>NaN</td>\n      <td>NaN</td>\n      <td>NaN</td>\n      <td>NaN</td>\n      <td>125563.0</td>\n      <td>NaN</td>\n      <td>80000.0</td>\n      <td>80000.0</td>\n    </tr>\n  </tbody>\n</table>\n<p>135 rows × 108 columns</p>\n</div>"
     },
     "execution_count": 112,
     "metadata": {},
     "output_type": "execute_result"
    }
   ],
   "source": [
    "import os\n",
    "import pandas as pd\n",
    "import numpy as np\n",
    "\n",
    "def process_excel_data(base_folder):\n",
    "    folder_path = os.path.join(base_folder)\n",
    "    all_data = []\n",
    "\n",
    "    # Zakresy wierszy, które chcemy wyciągnąć (przesunięte o jeden w dół, ponieważ indeksowanie jest od zera)\n",
    "    row_ranges = [\n",
    "        range(2, 19),  # Rows 3 to 18 inclusive, zero-indexed\n",
    "        range(30, 94),  # Rows 30 to 93 inclusive\n",
    "        range(254, 276),  # Rows 255 to 275 inclusive\n",
    "        range(278, 288),  # Rows 279 to 287 inclusive\n",
    "        range(289, 294)  # Rows 290 to 293 inclusive\n",
    "    ]\n",
    "\n",
    "    for filename in os.listdir(folder_path):\n",
    "        if filename.endswith('.xlsx'):\n",
    "            file_path = os.path.join(folder_path, filename)\n",
    "            try:\n",
    "                data = pd.read_excel(file_path, sheet_name='QS', header=None)\n",
    "                \n",
    "                for row_range in row_ranges:\n",
    "                    headers = data.iloc[list(row_range), 2].tolist()\n",
    "                    \n",
    "                    range_data = data.iloc[list(row_range), 3:30]\n",
    "                    \n",
    "                    range_data = range_data.replace(0, np.nan)\n",
    "                    \n",
    "                    # Transponowanie danych, aby daty były w pierwszej kolumnie\n",
    "                    transposed_data = range_data.transpose()\n",
    "                    transposed_data.columns = headers\n",
    "                    \n",
    "                    # Dodanie kolumny z nazwą pliku\n",
    "                    transposed_data.insert(0, 'filename', filename)\n",
    "\n",
    "                    all_data.append(transposed_data)\n",
    "            except Exception as e:\n",
    "                print(f\"Error processing file {filename}: {e}\")\n",
    "\n",
    "    results_df = pd.concat(all_data, ignore_index=True)\n",
    "    return results_df\n",
    "\n",
    "df_results = process_excel_data(folder_path)\n",
    "df_results"
   ],
   "metadata": {
    "collapsed": false,
    "ExecuteTime": {
     "end_time": "2024-05-15T10:20:43.554517300Z",
     "start_time": "2024-05-15T10:20:43.192290500Z"
    }
   },
   "id": "b8e8646223eab566",
   "execution_count": 112
  },
  {
   "cell_type": "code",
   "outputs": [
    {
     "data": {
      "text/plain": "['filename',\n 'End of period',\n 'Start of period',\n 'Revenues from sales',\n 'Operating profit/loss',\n 'Net profit/loss attributable to equity holders of the parent',\n 'Total comprehensive income attributable to equity holders',\n 'Depreciation',\n 'Cash flow from operating activities',\n 'Cash flow from investing activities',\n 'Cash flow from financing activities',\n 'Aktywa',\n 'Non-current assets',\n 'Current assets',\n 'Equity shareholders of the parent',\n 'Non-current liabilities',\n 'Current liabilities',\n \"Number of shares ('000)\",\n 'ASSETS',\n 'Property, plant and equipment',\n 'Exploration for and evaluation of mineral resources',\n 'Intangible assets',\n 'Goodwill',\n 'Investment property',\n 'Right-of-use assets',\n 'Investment in affiliates',\n 'Non-current financial assets',\n 'Non-current loans and receivables',\n 'Deferred income tax',\n 'Non-current deferred charges and accruals',\n 'Non-current derivative instruments',\n 'Other non-current assets',\n 'Inventories',\n 'Current intangible assets',\n 'Biological assets',\n 'Trade receivables',\n 'Loans and other receivables',\n 'Financial assets',\n 'Cash and cash equivalents',\n 'Accruals',\n 'Assets from current tax',\n 'Derivative instruments',\n 'Other assets',\n 'Assets held for sale and discontinuing operations',\n 'Called up capital',\n 'Own shares',\n nan,\n 'EQUITY & LIABILITIES',\n 'Share capital',\n 'Called up share capital',\n 'Treasury shares',\n 'Supplementary capital',\n 'Valuation and exchange differences',\n 'Other capitals',\n 'Retained earnings / accumulated losses',\n 'Non-controlling interests',\n 'Non-current liabilities from derivatives',\n 'Non-current loans and borrowings',\n 'Non-current liabilities from bonds',\n 'Non-current liabilities from finance leases',\n 'Non-current trade payables',\n 'Long-term provision for employee benefits',\n 'Deferred tax liabilities',\n 'Non-current provision',\n 'Other non-current liabilities',\n 'Non-current accruals (liability)',\n 'Liabilities from derivatives',\n 'Financial liabilities (loans and borrowings)',\n 'Bond liabilities',\n 'Liabilities from finance leases',\n 'Trade payables',\n 'Employee benefits',\n 'Current tax liabilities',\n 'Provisions',\n 'Other liabilities',\n 'Accruals (liability)',\n 'Liabilities related to assets held for sale and discontinued operations',\n 'Date of publication',\n 'Gross profit margin on sales',\n 'Operating profit margin',\n 'Gross profit margin',\n 'Net profit margin',\n 'Return on equity (ROE)',\n 'Return on assets (ROA)',\n 'Working capital ratio',\n 'Current ratio',\n 'Quick ratio',\n 'Cash ratio',\n 'Receivables turnover',\n 'Inventory turnover',\n 'The operating cycle',\n 'Rotation commitments',\n 'Cash conversion cycle',\n 'Rotation assets',\n 'Rotation of assets',\n 'Assets ratio',\n 'Debt ratio',\n 'Debt service ratio',\n 'Rate debt security',\n 'Leverage (EM)',\n 'Asset utilization (AU)',\n 'Load gross profit',\n 'Load operating profit',\n 'EBITDA margin',\n 'EBITDA',\n 'Current financial liabilities',\n 'Non-current financial liabilities',\n 'Financial liabilities (total)']"
     },
     "execution_count": 118,
     "metadata": {},
     "output_type": "execute_result"
    }
   ],
   "source": [
    "df_results.columns.tolist()"
   ],
   "metadata": {
    "collapsed": false,
    "ExecuteTime": {
     "end_time": "2024-05-15T10:40:29.581095Z",
     "start_time": "2024-05-15T10:40:29.571258700Z"
    }
   },
   "id": "64754ac5649365b8",
   "execution_count": 118
  },
  {
   "cell_type": "code",
   "outputs": [],
   "source": [
    "df_results = df_results.drop(columns='Start of period')"
   ],
   "metadata": {
    "collapsed": false,
    "ExecuteTime": {
     "end_time": "2024-05-15T10:42:49.774844500Z",
     "start_time": "2024-05-15T10:42:49.767921100Z"
    }
   },
   "id": "ccd3bdf77d777832",
   "execution_count": 120
  },
  {
   "cell_type": "markdown",
   "source": [
    "df = df.rename(columns={'Aktywa': 'sum_of_assets'})"
   ],
   "metadata": {
    "collapsed": false
   },
   "id": "10339f94103940ba"
  },
  {
   "cell_type": "code",
   "outputs": [],
   "source": [
    "# missing wiersz 45 Aktywa Obrotowe\n",
    "# missing wiersz 62 \n",
    "# missing wiersz 71\n",
    "# missing wiersz 82\n",
    "\n",
    "# pozmieniać nazwy niektórych kolumn z sumami\n",
    "# pozmieniać nazwy kolumn na snakecase + małe litery\n",
    "# drop kolumna 'nan\n"
   ],
   "metadata": {
    "collapsed": false,
    "ExecuteTime": {
     "end_time": "2024-05-15T10:51:45.880198100Z",
     "start_time": "2024-05-15T10:51:45.873942200Z"
    }
   },
   "id": "da64b1fd48efd31e",
   "execution_count": 122
  },
  {
   "cell_type": "code",
   "outputs": [],
   "source": [
    "final_df = pd.DataFrame()"
   ],
   "metadata": {
    "collapsed": false,
    "ExecuteTime": {
     "end_time": "2024-05-15T10:57:18.094159700Z",
     "start_time": "2024-05-15T10:57:18.083792100Z"
    }
   },
   "id": "bb7f3b97ca6d32f4",
   "execution_count": 124
  },
  {
   "cell_type": "markdown",
   "source": [
    "# # Lista kolumn do skopiowania\n",
    "columns_to_copy = [\n",
    "'Current financial liabilities', #291\n",
    "'Non-current financial liabilities', #292\n",
    "'Financial liabilities (total)' #293\n",
    "'Return on equity (ROE)', #279\n",
    "'Return on assets (ROA)', #280\n",
    "'Leverage (EM)', #281\n",
    "'Net profit margin', #282\n",
    "'Asset utilization (AU)' #283\n",
    "'Gross profit margin on sales', #255\n",
    "'Operating profit margin', #256\n",
    "'Gross profit margin', #257\n",
    "'Net profit margin', #258\n",
    "'Working capital ratio', #261\n",
    "'Current ratio', #262\n",
    "'Quick ratio', #263\n",
    "'Cash ratio', #264\n",
    "'Receivables turnover', #265 \n",
    "'Inventory turnover', #266\n",
    "'The operating cycle', #267\n",
    "'Rotation commitments', #268\n",
    "'Cash conversion cycle', #269\n",
    "'Rotation assets', #270\n",
    "'Rotation of assets', #271\n",
    "'Assets ratio', #272\n",
    "'Debt ratio', #273\n",
    "'Debt service ratio', #274\n",
    "'Rate debt security', #275\n",
    "'ASSETS', #30 (sum-of-assets)\n",
    "'Non-current assets', #31\n",
    "'Property, plant and equipment', #32\n",
    "'Exploration for and evaluation of mineral resources', #33\n",
    "'Intangible assets', #34\n",
    "'Goodwill',  #35\n",
    "'Investment property', #36\n",
    "'Right-of-use assets', #37\n",
    "'Investment in affiliates', #38\n",
    "'Non-current financial assets', #39\n",
    "'Non-current loans and receivables', #40\n",
    "'Deferred income tax', #41\n",
    "'Non-current deferred charges and accruals', #42\n",
    "'Non-current derivative instruments', #43\n",
    "'Other non-current assets', #44\n",
    "'Current assets', #45 \n",
    "'Inventories', #46\n",
    "'Current intangible assets', #47\n",
    "'Biological assets', #48\n",
    "'Trade receivables', #49\n",
    "'Loans and other receivables', #50\n",
    "'Financial assets', #51\n",
    "'Cash and cash equivalents', #52\n",
    "'Accruals', #53\n",
    "'Assets from current tax', #54\n",
    "'Derivative instruments', #55\n",
    "'Other assets', #56\n",
    "'Assets held for sale and discontinuing operations', #57\n",
    "'Called up capital', #58\n",
    "'Own shares', #59\n",
    "'EQUITY & LIABILITIES', #61\n",
    "'Equity shareholders of the parent', #62\n",
    "'Share capital', #63\n",
    "'Called up share capital', #64\n",
    "'Treasury shares', #65\n",
    "'Supplementary capital', #66\n",
    "'Valuation and exchange differences', #67\n",
    "'Other capitals', #68\n",
    "'Retained earnings / accumulated losses', #69\n",
    "'Non-controlling interests', #70\n",
    "'Non-current liabilities', #71\n",
    "'Non-current liabilities from derivatives', #72\n",
    "'Non-current loans and borrowings', #73\n",
    "'Non-current liabilities from bonds', #74\n",
    "'Non-current liabilities from finance leases', #75\n",
    "'Non-current trade payables', #76\n",
    "'Long-term provision for employee benefits', #77\n",
    "'Deferred tax liabilities', #78\n",
    "'Non-current provision', #79\n",
    "'Other non-current liabilities', #80\n",
    "'Non-current accruals (liability)', #81\n",
    "'Current liabilities', #82\n",
    "'Liabilities from derivatives', #83\n",
    "'Financial liabilities (loans and borrowings)', #84\n",
    "'Bond liabilities', #85\n",
    "'Liabilities from finance leases', #86\n",
    "'Trade payables', #87\n",
    "'Employee benefits', #88\n",
    "'Current tax liabilities', #89\n",
    "'Provisions', #90\n",
    "'Other liabilities',  #91\n",
    "'Accruals (liability)', #92\n",
    "'Liabilities related to assets held for sale and discontinued operations', #93\n",
    "\n",
    "'End of period', #3 (second column)\n",
    "'Revenues from sales', #5\n",
    "'Operating profit/loss', #6\n",
    "'Net profit/loss attributable to equity holders of the parent', #7\n",
    "'Total comprehensive income attributable to equity holders', #8\n",
    "'Depreciation', #9\n",
    "'Cash flow from operating activities', #10\n",
    "'Cash flow from investing activities', #11\n",
    "'Cash flow from financing activities', #12\n",
    "'Non-current assets', #14\n",
    "'Current assets', #15\n",
    "'Equity shareholders of the parent', #16\n",
    "'Non-current liabilities', #17\n",
    "'Current liabilities', #18\n",
    "'Number of shares ('000)', #19\n",
    "'Earnings per share', #20\n",
    "'Total comprehensive income per share', #21\n",
    "'Book value per share' #22\n",
    "]\n",
    "# te marże mogą być zbędne i powodować niepotrzebny szum (ale nie wiem) \n",
    "# może drugi dataset bez marży\n",
    "# # Dodawanie wybranych kolumn do pustego DataFrame\n",
    "# df_empty = df_source[kolumny_do_skopiowania]"
   ],
   "metadata": {
    "collapsed": false
   },
   "id": "a948580ecd99e5a"
  }
 ],
 "metadata": {
  "kernelspec": {
   "display_name": "Python 3",
   "language": "python",
   "name": "python3"
  },
  "language_info": {
   "codemirror_mode": {
    "name": "ipython",
    "version": 2
   },
   "file_extension": ".py",
   "mimetype": "text/x-python",
   "name": "python",
   "nbconvert_exporter": "python",
   "pygments_lexer": "ipython2",
   "version": "2.7.6"
  }
 },
 "nbformat": 4,
 "nbformat_minor": 5
}
