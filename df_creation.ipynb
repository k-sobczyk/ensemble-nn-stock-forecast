{
 "cells": [
  {
   "cell_type": "code",
   "execution_count": 77,
   "id": "initial_id",
   "metadata": {
    "collapsed": true,
    "ExecuteTime": {
     "end_time": "2024-05-15T09:20:08.768397900Z",
     "start_time": "2024-05-15T09:20:08.728393900Z"
    }
   },
   "outputs": [],
   "source": [
    "import pandas as pd\n",
    "import numpy as np\n",
    "import os"
   ]
  },
  {
   "cell_type": "code",
   "outputs": [
    {
     "name": "stdout",
     "output_type": "stream",
     "text": [
      "Files in folder: 349.\n"
     ]
    }
   ],
   "source": [
    "import os\n",
    "\n",
    "def count_files_in_folder(folder_path):\n",
    "    file_count = 0\n",
    "\n",
    "    for entry in os.listdir(folder_path):\n",
    "        full_path = os.path.join(folder_path, entry)\n",
    "        if os.path.isfile(full_path):\n",
    "            file_count += 1\n",
    "    \n",
    "    return file_count\n",
    "\n",
    "print(f\"Files in folder: {count_files_in_folder(\"data/\")}.\")"
   ],
   "metadata": {
    "collapsed": false,
    "ExecuteTime": {
     "end_time": "2024-05-15T09:20:08.851149500Z",
     "start_time": "2024-05-15T09:20:08.777508700Z"
    }
   },
   "id": "2bc1212168cd36b6",
   "execution_count": 78
  },
  {
   "cell_type": "markdown",
   "source": [
    "# Notes\n",
    "WSZYSTKIE PLIKI SĄ IDENTYCZNE. WSZYSTKIE TO EXCEL - 14 kart\n",
    "Czyszczenie:\n",
    "•\tWszystkie NaN na 0\n",
    "•\tSkalowanie przed modelem\n",
    "•\tInżynieria cech (wskaźniki ekonomiczne, różnica miedzy każym z elementów)\n",
    "\n",
    "TESTY DO PRZEPROWADZENIA:\n",
    "•\tUwzglednienie wszystkiego\n",
    "•\tSkupienie sie na zmianach kapitałowych\n",
    "•\tOgraniczenie tylko główne wartości\n",
    "•\tGrupowanie po przedsiębiorstwie? \n",
    "\n",
    "Podsumowanie co wyciągnąć z pliku:\n",
    "Dodatkowa kolumna jako nazwa pliku\n",
    "C – nazwa kolumny w DF\n",
    "\n",
    "(Kolumny: OD M DO AB. Wiersze: Od 3 do 18 włącznie)\n",
    "(wiersze 30 do 93 włącznie)\n",
    "Wiersze 255 – 275 włącznie\n",
    "Wiersze 279 – 287 włącznie (dane w %)\n",
    "Wiersze 290 – 293 włącznie"
   ],
   "metadata": {
    "collapsed": false
   },
   "id": "efd5cfae4ada59ba"
  },
  {
   "cell_type": "code",
   "outputs": [],
   "source": [
    "folder_path = 'dataa/'"
   ],
   "metadata": {
    "collapsed": false,
    "ExecuteTime": {
     "end_time": "2024-05-15T09:20:08.852231200Z",
     "start_time": "2024-05-15T09:20:08.832174700Z"
    }
   },
   "id": "eeac026c30c7da7b",
   "execution_count": 79
  },
  {
   "cell_type": "code",
   "outputs": [
    {
     "name": "stdout",
     "output_type": "stream",
     "text": [
      "Folder exists. Proceeding with file processing.\n"
     ]
    }
   ],
   "source": [
    "if os.path.exists(folder_path):\n",
    "    print(\"Folder exists. Proceeding with file processing.\")\n",
    "else:\n",
    "    print(\"Folder does not exist. Check the path.\")"
   ],
   "metadata": {
    "collapsed": false,
    "ExecuteTime": {
     "end_time": "2024-05-15T09:20:08.852231200Z",
     "start_time": "2024-05-15T09:20:08.837705700Z"
    }
   },
   "id": "541b11aa6b71dac8",
   "execution_count": 80
  },
  {
   "cell_type": "code",
   "outputs": [],
   "source": [
    "# TEST, przejście po każdym pliku i wyciągnięcie z 'Info' nazwa firmy i sektora"
   ],
   "metadata": {
    "collapsed": false,
    "ExecuteTime": {
     "end_time": "2024-05-15T09:20:08.853466400Z",
     "start_time": "2024-05-15T09:20:08.846578200Z"
    }
   },
   "id": "3edf748cbf0c8e9c",
   "execution_count": 81
  },
  {
   "cell_type": "code",
   "outputs": [],
   "source": [
    "def test_process_excel_files(folder_path):\n",
    "    results = []\n",
    "\n",
    "    for filename in os.listdir(folder_path):\n",
    "        if filename.endswith('.xlsx'):\n",
    "            file_path = os.path.join(folder_path, filename)\n",
    "            try:\n",
    "                with pd.ExcelFile(file_path) as xls:\n",
    "                    company_name = pd.read_excel(xls, 'Info', usecols=\"B\", skiprows=1, nrows=1).values[0][0]\n",
    "                    sector = pd.read_excel(xls, 'Info', usecols=\"E\", skiprows=19, nrows=1).values[0][0]\n",
    "                \n",
    "                result = {\n",
    "                    'filename': filename,\n",
    "                    'Company Name': company_name,\n",
    "                    'Sector': sector\n",
    "                }\n",
    "                results.append(result)\n",
    "                \n",
    "                print(f\"Dane z {filename} zostały przetworzone.\")\n",
    "            except Exception as e:\n",
    "                print(f\"Błąd przy przetwarzaniu pliku {filename}: {e}\")\n",
    "\n",
    "    results_df = pd.DataFrame(results)\n",
    "    return results_df"
   ],
   "metadata": {
    "collapsed": false,
    "ExecuteTime": {
     "end_time": "2024-05-15T09:20:08.901391100Z",
     "start_time": "2024-05-15T09:20:08.856795600Z"
    }
   },
   "id": "9f3ef90c6578f28c",
   "execution_count": 82
  },
  {
   "cell_type": "code",
   "outputs": [
    {
     "name": "stdout",
     "output_type": "stream",
     "text": [
      "Dane z ZYWIEC.xlsx zostały przetworzone.\n"
     ]
    },
    {
     "data": {
      "text/plain": "      filename     Company Name  Sector\n0  ZYWIEC.xlsx  Grupa Żywiec SA  napoje",
      "text/html": "<div>\n<style scoped>\n    .dataframe tbody tr th:only-of-type {\n        vertical-align: middle;\n    }\n\n    .dataframe tbody tr th {\n        vertical-align: top;\n    }\n\n    .dataframe thead th {\n        text-align: right;\n    }\n</style>\n<table border=\"1\" class=\"dataframe\">\n  <thead>\n    <tr style=\"text-align: right;\">\n      <th></th>\n      <th>filename</th>\n      <th>Company Name</th>\n      <th>Sector</th>\n    </tr>\n  </thead>\n  <tbody>\n    <tr>\n      <th>0</th>\n      <td>ZYWIEC.xlsx</td>\n      <td>Grupa Żywiec SA</td>\n      <td>napoje</td>\n    </tr>\n  </tbody>\n</table>\n</div>"
     },
     "execution_count": 83,
     "metadata": {},
     "output_type": "execute_result"
    }
   ],
   "source": [
    "test_process_excel_files(folder_path)"
   ],
   "metadata": {
    "collapsed": false,
    "ExecuteTime": {
     "end_time": "2024-05-15T09:20:09.150041700Z",
     "start_time": "2024-05-15T09:20:08.862939400Z"
    }
   },
   "id": "2afe4e6288f0d029",
   "execution_count": 83
  },
  {
   "cell_type": "markdown",
   "source": [
    "# Przygotowanie DF z danymi (kolumny)"
   ],
   "metadata": {
    "collapsed": false
   },
   "id": "d482586e97436c50"
  },
  {
   "cell_type": "code",
   "outputs": [
    {
     "data": {
      "text/plain": "  End of period Start of period Revenues from sales Operating profit/loss  \\\n0          None            None                None                  None   \n\n  Net profit/loss attributable to equity holders of the parent  \\\n0                                               None             \n\n  Total comprehensive income attributable to equity holders Depreciation  \\\n0                                               None                None   \n\n  Cash flow from operating activities Cash flow from investing activities  \\\n0                                None                                None   \n\n  Cash flow from financing activities  ... Leverage (EM)  \\\n0                                None  ...          None   \n\n  Asset utilization (AU) Load gross profit Load operating profit  \\\n0                   None              None                  None   \n\n  EBITDA margin EBITDA Current financial liabilities  \\\n0          None   None                          None   \n\n  Non-current financial liabilities Financial liabilities (total)     filename  \n0                              None                          None  ZYWIEC.xlsx  \n\n[1 rows x 109 columns]",
      "text/html": "<div>\n<style scoped>\n    .dataframe tbody tr th:only-of-type {\n        vertical-align: middle;\n    }\n\n    .dataframe tbody tr th {\n        vertical-align: top;\n    }\n\n    .dataframe thead th {\n        text-align: right;\n    }\n</style>\n<table border=\"1\" class=\"dataframe\">\n  <thead>\n    <tr style=\"text-align: right;\">\n      <th></th>\n      <th>End of period</th>\n      <th>Start of period</th>\n      <th>Revenues from sales</th>\n      <th>Operating profit/loss</th>\n      <th>Net profit/loss attributable to equity holders of the parent</th>\n      <th>Total comprehensive income attributable to equity holders</th>\n      <th>Depreciation</th>\n      <th>Cash flow from operating activities</th>\n      <th>Cash flow from investing activities</th>\n      <th>Cash flow from financing activities</th>\n      <th>...</th>\n      <th>Leverage (EM)</th>\n      <th>Asset utilization (AU)</th>\n      <th>Load gross profit</th>\n      <th>Load operating profit</th>\n      <th>EBITDA margin</th>\n      <th>EBITDA</th>\n      <th>Current financial liabilities</th>\n      <th>Non-current financial liabilities</th>\n      <th>Financial liabilities (total)</th>\n      <th>filename</th>\n    </tr>\n  </thead>\n  <tbody>\n    <tr>\n      <th>0</th>\n      <td>None</td>\n      <td>None</td>\n      <td>None</td>\n      <td>None</td>\n      <td>None</td>\n      <td>None</td>\n      <td>None</td>\n      <td>None</td>\n      <td>None</td>\n      <td>None</td>\n      <td>...</td>\n      <td>None</td>\n      <td>None</td>\n      <td>None</td>\n      <td>None</td>\n      <td>None</td>\n      <td>None</td>\n      <td>None</td>\n      <td>None</td>\n      <td>None</td>\n      <td>ZYWIEC.xlsx</td>\n    </tr>\n  </tbody>\n</table>\n<p>1 rows × 109 columns</p>\n</div>"
     },
     "execution_count": 84,
     "metadata": {},
     "output_type": "execute_result"
    }
   ],
   "source": [
    "def process_excel_data(base_folder):\n",
    "    folder_path = os.path.join(base_folder)\n",
    "    all_data = []\n",
    "\n",
    "    row_ranges = [\n",
    "        range(2, 19),  # Rows 3 to 18 inclusive, zero-indexed\n",
    "        range(29, 94),  # Rows 30 to 93 inclusive\n",
    "        range(254, 276),  # Rows 255 to 275 inclusive\n",
    "        range(278, 288),  # Rows 279 to 287 inclusive\n",
    "        range(289, 294)  # Rows 290 to 293 inclusive\n",
    "    ]\n",
    "\n",
    "    for filename in os.listdir(folder_path):\n",
    "        if filename.endswith('.xlsx'):\n",
    "            file_path = os.path.join(folder_path, filename)\n",
    "            try:\n",
    "                data = pd.read_excel(file_path, sheet_name='QS', usecols=[2], header=None)\n",
    "\n",
    "                extracted_data = []\n",
    "                for row_range in row_ranges:\n",
    "                    range_data = data.iloc[row_range].squeeze().tolist()\n",
    "                    concatenated_data = ', '.join(map(str, range_data))\n",
    "                    extracted_data.append(concatenated_data)\n",
    "\n",
    "                new_row = {}\n",
    "                for item in extracted_data:\n",
    "                    for entry in item.split(', '):\n",
    "                        new_row[entry.strip()] = None  # dummy value\n",
    "\n",
    "                new_df = pd.DataFrame([new_row])\n",
    "                new_df['filename'] = filename\n",
    "\n",
    "                all_data.append(new_df)\n",
    "            except Exception as e:\n",
    "                print(f\"Error processing file {filename}: {e}\")\n",
    "\n",
    "    results_df = pd.concat(all_data, ignore_index=True)\n",
    "    return results_df\n",
    "\n",
    "df_results = process_excel_data(folder_path)\n",
    "df_results"
   ],
   "metadata": {
    "collapsed": false,
    "ExecuteTime": {
     "end_time": "2024-05-15T09:20:09.756226200Z",
     "start_time": "2024-05-15T09:20:09.148872Z"
    }
   },
   "id": "227e0c5ba5c4d916",
   "execution_count": 84
  },
  {
   "cell_type": "code",
   "outputs": [
    {
     "name": "stdout",
     "output_type": "stream",
     "text": [
      "     1998-03-31  1998-06-30  1998-09-30  1998-12-31  1999-03-31  1999-06-30  \\\n",
      "0    1998-03-31  1998-06-30  1998-09-30  1998-12-31  1999-03-31  1999-06-30   \n",
      "1    1998-01-01  1998-04-01  1998-07-01  1998-10-01  1999-01-01  1999-04-01   \n",
      "2        126003      142773      222098      154110      168924      271113   \n",
      "3         11171       50830       61141       27972       31190       62798   \n",
      "4          5812       33203       41145       18590       18760       42065   \n",
      "..          ...         ...         ...         ...         ...         ...   \n",
      "114       22613       62839       75136       40521       43577       82357   \n",
      "115         NaN         NaN         NaN         NaN         NaN         NaN   \n",
      "116         NaN         NaN         NaN         NaN         NaN         NaN   \n",
      "117         NaN         NaN         NaN         NaN         NaN         NaN   \n",
      "118         NaN         NaN         NaN         NaN         NaN         NaN   \n",
      "\n",
      "     1999-09-30  1999-12-31  2000-03-31  2000-06-30  ...  2020-09-30  \\\n",
      "0    1999-09-30  1999-12-31  2000-03-31  2000-06-30  ...  2020-09-30   \n",
      "1    1999-07-01  1999-10-01  2000-01-01  2000-04-01  ...  2020-07-01   \n",
      "2        279268      197095      159432      305671  ...     1152205   \n",
      "3         50541       46706       18620       54567  ...      156613   \n",
      "4         30612       32541        5828       30788  ...      121029   \n",
      "..          ...         ...         ...         ...  ...         ...   \n",
      "114       73397       42087       29220       66470  ...      194807   \n",
      "115         NaN         NaN         NaN         NaN  ...      131122   \n",
      "116         NaN         NaN         NaN         NaN  ...     1000000   \n",
      "117         NaN         NaN         NaN         NaN  ...     1131122   \n",
      "118         NaN         NaN         NaN         NaN  ...         NaN   \n",
      "\n",
      "     2020-12-31  2021-03-31  2021-06-30  2021-09-30  2021-12-31  2022-03-31  \\\n",
      "0    2020-12-31  2021-03-31  2021-06-30  2021-09-30  2021-12-31  2022-03-31   \n",
      "1    2020-10-01  2021-01-01  2021-04-01  2021-07-01  2021-10-01  2022-01-01   \n",
      "2        770024      686503     1066264      995385      733974      696778   \n",
      "3         96982       16979      260729      103668       46890        6649   \n",
      "4         69584        7623      257564      104744       32175       -1246   \n",
      "..          ...         ...         ...         ...         ...         ...   \n",
      "114      134303       53563      298125      140653       89201       45040   \n",
      "115       64084      413582      693009      863122     1094585      613619   \n",
      "116     1150000      800000      500000         NaN         NaN      540000   \n",
      "117     1214084     1213582     1193009      863122     1094585     1153619   \n",
      "118         NaN         NaN         NaN         NaN         NaN         NaN   \n",
      "\n",
      "     2022-06-30  2022-09-30     filename  \n",
      "0    2022-06-30  2022-09-30  ZYWIEC.xlsx  \n",
      "1    2022-04-01  2022-07-01  ZYWIEC.xlsx  \n",
      "2       1209418     1106635  ZYWIEC.xlsx  \n",
      "3        101579       61538  ZYWIEC.xlsx  \n",
      "4         92625       23844  ZYWIEC.xlsx  \n",
      "..          ...         ...          ...  \n",
      "114      141511      101750  ZYWIEC.xlsx  \n",
      "115       96674       85884  ZYWIEC.xlsx  \n",
      "116      975000      875000  ZYWIEC.xlsx  \n",
      "117     1071674      960884  ZYWIEC.xlsx  \n",
      "118         NaN         NaN  ZYWIEC.xlsx  \n",
      "\n",
      "[119 rows x 100 columns]\n"
     ]
    }
   ],
   "source": [
    "import os\n",
    "import pandas as pd\n",
    "import numpy as np\n",
    "\n",
    "def process_excel_data(base_folder):\n",
    "    folder_path = os.path.join(base_folder)\n",
    "    all_data = []\n",
    "\n",
    "    row_ranges = [\n",
    "        range(2, 19),  # Rows 3 to 18 inclusive, zero-indexed\n",
    "        range(29, 94),  # Rows 30 to 93 inclusive\n",
    "        range(254, 276),  # Rows 255 to 275 inclusive\n",
    "        range(278, 288),  # Rows 279 to 287 inclusive\n",
    "        range(289, 294)  # Rows 290 to 293 inclusive\n",
    "    ]\n",
    "\n",
    "    for filename in os.listdir(folder_path):\n",
    "        if filename.endswith('.xlsx'):\n",
    "            file_path = os.path.join(folder_path, filename)\n",
    "            try:\n",
    "                data = pd.read_excel(file_path, sheet_name='QS', usecols=\"D:CX\", header=None)\n",
    "                \n",
    "                headers = data.iloc[2, :].tolist()\n",
    "\n",
    "                data = data.replace(0, np.nan)\n",
    "                \n",
    "                extracted_data = []\n",
    "                for row_range in row_ranges:\n",
    "                    for row in row_range:\n",
    "                        row_data = data.iloc[row, :].tolist()\n",
    "                        row_dict = {headers[i]: row_data[i] for i in range(len(headers))}\n",
    "                        row_dict['filename'] = filename\n",
    "                        extracted_data.append(row_dict)\n",
    "\n",
    "                all_data.extend(extracted_data)\n",
    "            except Exception as e:\n",
    "                print(f\"Error processing file {filename}: {e}\")\n",
    "\n",
    "    results_df = pd.DataFrame(all_data)\n",
    "    return results_df\n",
    "\n",
    "df_results = process_excel_data(folder_path)\n",
    "print(df_results)\n"
   ],
   "metadata": {
    "collapsed": false,
    "ExecuteTime": {
     "end_time": "2024-05-15T09:45:43.926385300Z",
     "start_time": "2024-05-15T09:45:43.581485600Z"
    }
   },
   "id": "4013b5c8cbc473e9",
   "execution_count": 90
  }
 ],
 "metadata": {
  "kernelspec": {
   "display_name": "Python 3",
   "language": "python",
   "name": "python3"
  },
  "language_info": {
   "codemirror_mode": {
    "name": "ipython",
    "version": 2
   },
   "file_extension": ".py",
   "mimetype": "text/x-python",
   "name": "python",
   "nbconvert_exporter": "python",
   "pygments_lexer": "ipython2",
   "version": "2.7.6"
  }
 },
 "nbformat": 4,
 "nbformat_minor": 5
}
