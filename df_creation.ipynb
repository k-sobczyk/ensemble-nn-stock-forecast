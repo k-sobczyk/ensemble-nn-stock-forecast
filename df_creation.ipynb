{
 "cells": [
  {
   "cell_type": "code",
   "execution_count": 746,
   "id": "initial_id",
   "metadata": {
    "collapsed": true,
    "ExecuteTime": {
     "end_time": "2024-05-17T08:14:53.869108800Z",
     "start_time": "2024-05-17T08:14:53.858693200Z"
    }
   },
   "outputs": [],
   "source": [
    "import os\n",
    "import pandas as pd\n",
    "import numpy as np"
   ]
  },
  {
   "cell_type": "markdown",
   "source": [
    "# Notes\n",
    "WSZYSTKIE PLIKI SĄ IDENTYCZNE. WSZYSTKIE TO EXCEL - 14 kart\n",
    "Czyszczenie:\n",
    "•\tWszystkie NaN na 0\n",
    "•\tSkalowanie przed modelem\n",
    "•\tInżynieria cech (wskaźniki ekonomiczne, różnica miedzy każym z elementów)\n",
    "\n",
    "TESTY DO PRZEPROWADZENIA:\n",
    "•\tUwzglednienie wszystkiego\n",
    "•\tSkupienie sie na zmianach kapitałowych\n",
    "•\tOgraniczenie tylko główne wartości\n",
    "•\tGrupowanie po przedsiębiorstwie? \n",
    "\n",
    "Podsumowanie co wyciągnąć z pliku:\n",
    "Dodatkowa kolumna jako nazwa pliku\n",
    "C – nazwa kolumny w DF\n",
    "\n",
    "(Kolumny: OD M DO AB. Wiersze: Od 3 do 18 włącznie)\n",
    "(wiersze 30 do 93 włącznie)\n",
    "Wiersze 255 – 275 włącznie\n",
    "Wiersze 279 – 287 włącznie (dane w %)\n",
    "Wiersze 290 – 293 włącznie"
   ],
   "metadata": {
    "collapsed": false
   },
   "id": "efd5cfae4ada59ba"
  },
  {
   "cell_type": "code",
   "outputs": [],
   "source": [
    "# PEŁNY DF\n",
    "full_row_ranges = [\n",
    "    range(290, 293+1),  # Current financial liabilities, Non-current financial liabilities, Financial liabilities (total)\n",
    "    range(278, 283+1),  # Return on equity (ROE), Return on assets (ROA), Leverage (EM), Asset utilization (AU)\n",
    "    range(260, 275+1),  # Working capital ratio, Current ratio, Quick ratio, Cash ratio, Receivables turnover, Inventory turnover, The operating cycle, Rotation commitments, Cash conversion cycle, Rotation assets, Rotation of assets, Assets ratio, Debt ratio, Debt service ratio, Rate debt security\n",
    "    range(29, 59+1),    # ASSETS, Non-current assets, Property, plant and equipment, Exploration for and evaluation of mineral resources, Intangible assets, Goodwill, Investment property, Right-of-use assets, Investment in affiliates, Non-current financial assets, Non-current loans and receivables, Deferred income tax, Non-current deferred charges and accruals, Non-current derivative instruments, Other non-current assets, Current assets, Inventories, Current intangible assets, Biological assets, Trade receivables, Loans and other receivables, Financial assets, Cash and cash equivalents, Accruals, Assets from current tax, Derivative instruments, Other assets, Assets held for sale and discontinuing operations, Called up capital, Own shares\n",
    "    range(60, 93+1),    # EQUITY & LIABILITIES, Equity shareholders of the parent, Share capital, Called up share capital, Treasury shares, Supplementary capital, Valuation and exchange differences, Other capitals, Retained earnings / accumulated losses, Non-controlling interests, Non-current liabilities, Non-current liabilities from derivatives, Non-current loans and borrowings, Non-current liabilities from bonds, Non-current liabilities from finance leases, Non-current trade payables, Long-term provision for employee benefits, Deferred tax liabilities, Non-current provision, Other non-current liabilities, Non-current accruals (liability), Current liabilities, Liabilities from derivatives, Financial liabilities (loans and borrowings), Bond liabilities, Liabilities from finance leases, Trade payables, Employee benefits, Current tax liabilities, Provisions, Other liabilities, Accruals (liability), Liabilities related to assets held for sale and discontinued operations\n",
    "    range(2, 22+1),     # End of period, Revenues from sales, Operating profit/loss, Net profit/loss attributable to equity holders of the parent, Total comprehensive income attributable to equity holders, Depreciation, Cash flow from operating activities, Cash flow from investing activities, Cash flow from financing activities, Non-current assets, Current assets, Equity shareholders of the parent, Non-current liabilities, Current liabilities, Number of shares (‘000), Earnings per share, Total comprehensive income per share, Book value per share\n",
    "]"
   ],
   "metadata": {
    "collapsed": false,
    "ExecuteTime": {
     "end_time": "2024-05-17T08:14:53.870465Z",
     "start_time": "2024-05-17T08:14:53.863680Z"
    }
   },
   "id": "12639b15300b0982",
   "execution_count": 747
  },
  {
   "cell_type": "markdown",
   "source": [
    "**OGRANICZONY DF** (testować, który sobie lepiej radzi)\n",
    "#TODO, weryfikacja wszystkich wskaźników i wybór tych najbardziej odpowiadających\n",
    "Informacje dodatkowe:\n",
    "    Current financial liabilities\n",
    "    Non-current financial liabilities\n",
    "    Financial liabilities (total)\n",
    "\n",
    "Wskaźniki DuPonta: (do przejrzenia)\n",
    "    Return on equity (ROE)\n",
    "    Return on assets (ROA)\n",
    "    Leverage (EM)\n",
    "    Net profit margin\n",
    "    Asset utilization (AU)\n",
    "\n",
    "Wskaźniki: (do przejrzenia)\n",
    "    Current ratio\n",
    "    Quick ratio\n",
    "    Cash ratio\n",
    "    Receivables turnover\n",
    "    Inventory turnover\n",
    "    The operating cycle\n",
    "    Rotation commitments\n",
    "    Cash conversion cycle\n",
    "    Rotation assets\n",
    "    Rotation of assets\n",
    "    Assets ratio\n",
    "    Debt ratio\n",
    "    Debt service ratio\n",
    "    Rate debt security\n",
    "\n",
    "Podstawowe informacje:\n",
    "Data bilansu\n",
    "\n",
    "**Aktywa**\n",
    "Non-current assets\n",
    "Current assets\n",
    "\n",
    "**Pasywa** (Suma Equity shareholders of the parent, Non-current liabilities i Current liabilities)\n",
    "Equity shareholders of the parent\n",
    "Non-current liabilities\n",
    "Current liabilities\n",
    "\n",
    "+ feature engineering wcześniejszego kwartału, półrocza, roku, dwóch lat na każdy z ważnych elementów\n",
    "\n",
    "## Dodawanie wybranych kolumn do pustego DataFrame\n",
    "df_empty = df_source[kolumny_do_skopiowania]"
   ],
   "metadata": {
    "collapsed": false
   },
   "id": "8bd67a36bd26fd1e"
  },
  {
   "cell_type": "markdown",
   "source": [
    "Suma wszystkich kolumn to:\n",
    "3 + 4 + 15 + 30 + 33 + 21 = 106\n",
    "\n",
    "Dodając jedną dodatkową kolumnę na nazwę pliku, otrzymujemy:\n",
    "106 + 1 = 107 kolumn"
   ],
   "metadata": {
    "collapsed": false
   },
   "id": "7a55b977dfde6965"
  },
  {
   "cell_type": "markdown",
   "source": [
    "# PREPARATION"
   ],
   "metadata": {
    "collapsed": false
   },
   "id": "48e206f2cd52144a"
  },
  {
   "cell_type": "code",
   "outputs": [],
   "source": [
    "FOLDER_PATH = 'dataa/'"
   ],
   "metadata": {
    "collapsed": false,
    "ExecuteTime": {
     "end_time": "2024-05-17T08:14:53.913749600Z",
     "start_time": "2024-05-17T08:14:53.873528700Z"
    }
   },
   "id": "eeac026c30c7da7b",
   "execution_count": 748
  },
  {
   "cell_type": "code",
   "outputs": [
    {
     "name": "stdout",
     "output_type": "stream",
     "text": [
      "Folder exists. Proceeding with file processing.\n"
     ]
    }
   ],
   "source": [
    "if os.path.exists(FOLDER_PATH):\n",
    "    print(\"Folder exists. Proceeding with file processing.\")\n",
    "else:\n",
    "    print(\"Folder does not exist. Check the path.\")"
   ],
   "metadata": {
    "collapsed": false,
    "ExecuteTime": {
     "end_time": "2024-05-17T08:14:53.913749600Z",
     "start_time": "2024-05-17T08:14:53.878807300Z"
    }
   },
   "id": "541b11aa6b71dac8",
   "execution_count": 749
  },
  {
   "cell_type": "code",
   "outputs": [
    {
     "name": "stdout",
     "output_type": "stream",
     "text": [
      "Files in folder: 1.\n"
     ]
    }
   ],
   "source": [
    "def count_files_in_folder(folder_path):\n",
    "    file_count = 0\n",
    "\n",
    "    for entry in os.listdir(folder_path):\n",
    "        full_path = os.path.join(folder_path, entry)\n",
    "        if os.path.isfile(full_path):\n",
    "            file_count += 1\n",
    "    \n",
    "    return file_count\n",
    "\n",
    "print(f\"Files in folder: {count_files_in_folder(FOLDER_PATH)}.\")"
   ],
   "metadata": {
    "collapsed": false,
    "ExecuteTime": {
     "end_time": "2024-05-17T08:14:53.913749600Z",
     "start_time": "2024-05-17T08:14:53.885890100Z"
    }
   },
   "id": "c9d965a5de138944",
   "execution_count": 750
  },
  {
   "cell_type": "markdown",
   "source": [
    "# 'INFO' DATA"
   ],
   "metadata": {
    "collapsed": false
   },
   "id": "7003e2aef6780047"
  },
  {
   "cell_type": "code",
   "outputs": [],
   "source": [
    "def process_company_sector(folder_path):\n",
    "    results = []\n",
    "\n",
    "    for filename in os.listdir(folder_path):\n",
    "        if filename.endswith('.xlsx'):\n",
    "            file_path = os.path.join(folder_path, filename)\n",
    "            try:\n",
    "                with pd.ExcelFile(file_path) as xls:\n",
    "                    company_name = pd.read_excel(xls, 'Info', usecols=\"B\", skiprows=1, nrows=1).values[0][0]\n",
    "                    sector = pd.read_excel(xls, 'Info', usecols=\"E\", skiprows=19, nrows=1).values[0][0]\n",
    "                \n",
    "                result = {\n",
    "                    'filename': filename,\n",
    "                    'Company Name': company_name,\n",
    "                    'Sector': sector\n",
    "                }\n",
    "                results.append(result)\n",
    "                \n",
    "                print(f\"Dane z {filename} zostały przetworzone.\")\n",
    "            except Exception as e:\n",
    "                print(f\"Błąd przy przetwarzaniu pliku {filename}: {e}\")\n",
    "\n",
    "    results_df = pd.DataFrame(results)\n",
    "    return results_df"
   ],
   "metadata": {
    "collapsed": false,
    "ExecuteTime": {
     "end_time": "2024-05-17T08:14:53.913749600Z",
     "start_time": "2024-05-17T08:14:53.894424100Z"
    }
   },
   "id": "9f3ef90c6578f28c",
   "execution_count": 751
  },
  {
   "cell_type": "code",
   "outputs": [
    {
     "name": "stdout",
     "output_type": "stream",
     "text": [
      "Dane z ZYWIEC.xlsx zostały przetworzone.\n"
     ]
    },
    {
     "data": {
      "text/plain": "      filename     Company Name  Sector\n0  ZYWIEC.xlsx  Grupa Żywiec SA  napoje",
      "text/html": "<div>\n<style scoped>\n    .dataframe tbody tr th:only-of-type {\n        vertical-align: middle;\n    }\n\n    .dataframe tbody tr th {\n        vertical-align: top;\n    }\n\n    .dataframe thead th {\n        text-align: right;\n    }\n</style>\n<table border=\"1\" class=\"dataframe\">\n  <thead>\n    <tr style=\"text-align: right;\">\n      <th></th>\n      <th>filename</th>\n      <th>Company Name</th>\n      <th>Sector</th>\n    </tr>\n  </thead>\n  <tbody>\n    <tr>\n      <th>0</th>\n      <td>ZYWIEC.xlsx</td>\n      <td>Grupa Żywiec SA</td>\n      <td>napoje</td>\n    </tr>\n  </tbody>\n</table>\n</div>"
     },
     "execution_count": 752,
     "metadata": {},
     "output_type": "execute_result"
    }
   ],
   "source": [
    "process_company_sector(FOLDER_PATH)"
   ],
   "metadata": {
    "collapsed": false,
    "ExecuteTime": {
     "end_time": "2024-05-17T08:14:53.993701800Z",
     "start_time": "2024-05-17T08:14:53.906244200Z"
    }
   },
   "id": "2afe4e6288f0d029",
   "execution_count": 752
  },
  {
   "cell_type": "markdown",
   "source": [
    "# QS DATA"
   ],
   "metadata": {
    "collapsed": false
   },
   "id": "d482586e97436c50"
  },
  {
   "cell_type": "code",
   "outputs": [
    {
     "data": {
      "text/plain": "  End of period Start of period Revenues from sales Operating profit/loss  \\\n0          None            None                None                  None   \n\n  Net profit/loss attributable to equity holders of the parent  \\\n0                                               None             \n\n  Total comprehensive income attributable to equity holders Depreciation  \\\n0                                               None                None   \n\n  Cash flow from operating activities Cash flow from investing activities  \\\n0                                None                                None   \n\n  Cash flow from financing activities  ... Leverage (EM)  \\\n0                                None  ...          None   \n\n  Asset utilization (AU) Load gross profit Load operating profit  \\\n0                   None              None                  None   \n\n  EBITDA margin EBITDA Current financial liabilities  \\\n0          None   None                          None   \n\n  Non-current financial liabilities Financial liabilities (total)     filename  \n0                              None                          None  ZYWIEC.xlsx  \n\n[1 rows x 108 columns]",
      "text/html": "<div>\n<style scoped>\n    .dataframe tbody tr th:only-of-type {\n        vertical-align: middle;\n    }\n\n    .dataframe tbody tr th {\n        vertical-align: top;\n    }\n\n    .dataframe thead th {\n        text-align: right;\n    }\n</style>\n<table border=\"1\" class=\"dataframe\">\n  <thead>\n    <tr style=\"text-align: right;\">\n      <th></th>\n      <th>End of period</th>\n      <th>Start of period</th>\n      <th>Revenues from sales</th>\n      <th>Operating profit/loss</th>\n      <th>Net profit/loss attributable to equity holders of the parent</th>\n      <th>Total comprehensive income attributable to equity holders</th>\n      <th>Depreciation</th>\n      <th>Cash flow from operating activities</th>\n      <th>Cash flow from investing activities</th>\n      <th>Cash flow from financing activities</th>\n      <th>...</th>\n      <th>Leverage (EM)</th>\n      <th>Asset utilization (AU)</th>\n      <th>Load gross profit</th>\n      <th>Load operating profit</th>\n      <th>EBITDA margin</th>\n      <th>EBITDA</th>\n      <th>Current financial liabilities</th>\n      <th>Non-current financial liabilities</th>\n      <th>Financial liabilities (total)</th>\n      <th>filename</th>\n    </tr>\n  </thead>\n  <tbody>\n    <tr>\n      <th>0</th>\n      <td>None</td>\n      <td>None</td>\n      <td>None</td>\n      <td>None</td>\n      <td>None</td>\n      <td>None</td>\n      <td>None</td>\n      <td>None</td>\n      <td>None</td>\n      <td>None</td>\n      <td>...</td>\n      <td>None</td>\n      <td>None</td>\n      <td>None</td>\n      <td>None</td>\n      <td>None</td>\n      <td>None</td>\n      <td>None</td>\n      <td>None</td>\n      <td>None</td>\n      <td>ZYWIEC.xlsx</td>\n    </tr>\n  </tbody>\n</table>\n<p>1 rows × 108 columns</p>\n</div>"
     },
     "execution_count": 753,
     "metadata": {},
     "output_type": "execute_result"
    }
   ],
   "source": [
    "def process_excel_data(base_folder):\n",
    "    folder_path = os.path.join(base_folder)\n",
    "    all_data = []\n",
    "\n",
    "    row_ranges = [\n",
    "        range(2, 19),  # Rows 3 to 18 inclusive, zero-indexed\n",
    "        range(30, 94),  # Rows 30 to 93 inclusive\n",
    "        range(254, 276),  # Rows 255 to 275 inclusive\n",
    "        range(278, 288),  # Rows 279 to 287 inclusive\n",
    "        range(289, 294)  # Rows 290 to 293 inclusive\n",
    "    ]\n",
    "\n",
    "    for filename in os.listdir(folder_path):\n",
    "        if filename.endswith('.xlsx'):\n",
    "            file_path = os.path.join(folder_path, filename)\n",
    "            try:\n",
    "                data = pd.read_excel(file_path, sheet_name='QS', usecols=[2], header=None)\n",
    "\n",
    "                extracted_data = []\n",
    "                for row_range in row_ranges:\n",
    "                    range_data = data.iloc[row_range].squeeze().tolist()\n",
    "                    concatenated_data = ', '.join(map(str, range_data))\n",
    "                    extracted_data.append(concatenated_data)\n",
    "\n",
    "                new_row = {}\n",
    "                for item in extracted_data:\n",
    "                    for entry in item.split(', '):\n",
    "                        new_row[entry.strip()] = None  # dummy value\n",
    "\n",
    "                new_df = pd.DataFrame([new_row])\n",
    "                new_df['filename'] = filename\n",
    "\n",
    "                all_data.append(new_df)\n",
    "            except Exception as e:\n",
    "                print(f\"Error processing file {filename}: {e}\")\n",
    "\n",
    "    results_df = pd.concat(all_data, ignore_index=True)\n",
    "    return results_df\n",
    "\n",
    "df_results = process_excel_data(FOLDER_PATH)\n",
    "df_results"
   ],
   "metadata": {
    "collapsed": false,
    "ExecuteTime": {
     "end_time": "2024-05-17T08:14:54.425891700Z",
     "start_time": "2024-05-17T08:14:53.988103700Z"
    }
   },
   "id": "227e0c5ba5c4d916",
   "execution_count": 753
  },
  {
   "cell_type": "code",
   "outputs": [
    {
     "data": {
      "text/plain": "  End of period Start of period Revenues from sales Operating profit/loss  \\\n0          None            None                None                  None   \n\n  Net profit/loss attributable to equity holders of the parent  \\\n0                                               None             \n\n  Total comprehensive income attributable to equity holders Depreciation  \\\n0                                               None                None   \n\n  Cash flow from operating activities Cash flow from investing activities  \\\n0                                None                                None   \n\n  Cash flow from financing activities  ... Debt ratio Debt service ratio  \\\n0                                None  ...       None               None   \n\n  Rate debt security Leverage (EM) Asset utilization (AU) Load gross profit  \\\n0               None          None                   None              None   \n\n  Current financial liabilities Non-current financial liabilities  \\\n0                          None                              None   \n\n  Financial liabilities (total)     filename  \n0                          None  ZYWIEC.xlsx  \n\n[1 rows x 109 columns]",
      "text/html": "<div>\n<style scoped>\n    .dataframe tbody tr th:only-of-type {\n        vertical-align: middle;\n    }\n\n    .dataframe tbody tr th {\n        vertical-align: top;\n    }\n\n    .dataframe thead th {\n        text-align: right;\n    }\n</style>\n<table border=\"1\" class=\"dataframe\">\n  <thead>\n    <tr style=\"text-align: right;\">\n      <th></th>\n      <th>End of period</th>\n      <th>Start of period</th>\n      <th>Revenues from sales</th>\n      <th>Operating profit/loss</th>\n      <th>Net profit/loss attributable to equity holders of the parent</th>\n      <th>Total comprehensive income attributable to equity holders</th>\n      <th>Depreciation</th>\n      <th>Cash flow from operating activities</th>\n      <th>Cash flow from investing activities</th>\n      <th>Cash flow from financing activities</th>\n      <th>...</th>\n      <th>Debt ratio</th>\n      <th>Debt service ratio</th>\n      <th>Rate debt security</th>\n      <th>Leverage (EM)</th>\n      <th>Asset utilization (AU)</th>\n      <th>Load gross profit</th>\n      <th>Current financial liabilities</th>\n      <th>Non-current financial liabilities</th>\n      <th>Financial liabilities (total)</th>\n      <th>filename</th>\n    </tr>\n  </thead>\n  <tbody>\n    <tr>\n      <th>0</th>\n      <td>None</td>\n      <td>None</td>\n      <td>None</td>\n      <td>None</td>\n      <td>None</td>\n      <td>None</td>\n      <td>None</td>\n      <td>None</td>\n      <td>None</td>\n      <td>None</td>\n      <td>...</td>\n      <td>None</td>\n      <td>None</td>\n      <td>None</td>\n      <td>None</td>\n      <td>None</td>\n      <td>None</td>\n      <td>None</td>\n      <td>None</td>\n      <td>None</td>\n      <td>ZYWIEC.xlsx</td>\n    </tr>\n  </tbody>\n</table>\n<p>1 rows × 109 columns</p>\n</div>"
     },
     "execution_count": 754,
     "metadata": {},
     "output_type": "execute_result"
    }
   ],
   "source": [
    "def process_excel_data(base_folder):\n",
    "    folder_path = os.path.join(base_folder)\n",
    "    all_data = []\n",
    "\n",
    "    row_ranges = [\n",
    "        range(2, 23),   # Rows 3 to 22 inclusive, zero-indexed\n",
    "        range(30, 60),  # Rows 31 to 59 inclusive\n",
    "        range(60, 94),  # Rows 61 to 93 inclusive\n",
    "        range(254, 276),  # Rows 255 to 275 inclusive\n",
    "        range(278, 284),  # Rows 279 to 283 inclusive\n",
    "        range(290, 294)   # Rows 291 to 293 inclusive\n",
    "    ]\n",
    "\n",
    "    for filename in os.listdir(folder_path):\n",
    "        if filename.endswith('.xlsx'):\n",
    "            file_path = os.path.join(folder_path, filename)\n",
    "            try:\n",
    "                data = pd.read_excel(file_path, sheet_name='QS', usecols=[2], header=None)\n",
    "\n",
    "                extracted_data = []\n",
    "                for row_range in row_ranges:\n",
    "                    range_data = data.iloc[row_range].squeeze().tolist()\n",
    "                    concatenated_data = ', '.join(map(str, range_data))\n",
    "                    extracted_data.append(concatenated_data)\n",
    "\n",
    "                new_row = {}\n",
    "                for item in extracted_data:\n",
    "                    for entry in item.split(', '):\n",
    "                        new_row[entry.strip()] = None  # dummy value\n",
    "\n",
    "                new_df = pd.DataFrame([new_row])\n",
    "                new_df['filename'] = filename\n",
    "\n",
    "                all_data.append(new_df)\n",
    "            except Exception as e:\n",
    "                print(f\"Error processing file {filename}: {e}\")\n",
    "\n",
    "    results_df = pd.concat(all_data, ignore_index=True)\n",
    "    return results_df\n",
    "\n",
    "# Podaj swoją ścieżkę folderu\n",
    "df_results = process_excel_data(FOLDER_PATH)\n",
    "df_results"
   ],
   "metadata": {
    "collapsed": false,
    "ExecuteTime": {
     "end_time": "2024-05-17T08:14:54.687336900Z",
     "start_time": "2024-05-17T08:14:54.425891700Z"
    }
   },
   "id": "33e0456afd35c389",
   "execution_count": 754
  },
  {
   "cell_type": "code",
   "outputs": [
    {
     "name": "stdout",
     "output_type": "stream",
     "text": [
      "Processing file: ZYWIEC.xlsx\n"
     ]
    },
    {
     "name": "stderr",
     "output_type": "stream",
     "text": [
      "C:\\Users\\ksobc\\AppData\\Local\\Temp\\ipykernel_22960\\1254272257.py:33: FutureWarning: Downcasting behavior in `replace` is deprecated and will be removed in a future version. To retain the old behavior, explicitly call `result.infer_objects(copy=False)`. To opt-in to the future behavior, set `pd.set_option('future.no_silent_downcasting', True)`\n",
      "  range_data = range_data.replace(0, np.nan)\n",
      "C:\\Users\\ksobc\\AppData\\Local\\Temp\\ipykernel_22960\\1254272257.py:33: FutureWarning: Downcasting behavior in `replace` is deprecated and will be removed in a future version. To retain the old behavior, explicitly call `result.infer_objects(copy=False)`. To opt-in to the future behavior, set `pd.set_option('future.no_silent_downcasting', True)`\n",
      "  range_data = range_data.replace(0, np.nan)\n"
     ]
    },
    {
     "data": {
      "text/plain": "    End of period Start of period Revenues from sales Operating profit/loss  \\\n0      1998-03-31      1998-01-01              126003                 11171   \n1      1998-06-30      1998-04-01              142773                 50830   \n2      1998-09-30      1998-07-01              222098                 61141   \n3      1998-12-31      1998-10-01              154110                 27972   \n4      1999-03-31      1999-01-01              168924                 31190   \n..            ...             ...                 ...                   ...   \n589           NaN             NaN                 NaN                   NaN   \n590           NaN             NaN                 NaN                   NaN   \n591           NaN             NaN                 NaN                   NaN   \n592           NaN             NaN                 NaN                   NaN   \n593           NaN             NaN                 NaN                   NaN   \n\n    Net profit/loss attributable to equity holders of the parent  \\\n0                                                 5812             \n1                                                33203             \n2                                                41145             \n3                                                18590             \n4                                                18760             \n..                                                 ...             \n589                                                NaN             \n590                                                NaN             \n591                                                NaN             \n592                                                NaN             \n593                                                NaN             \n\n    Total comprehensive income attributable to equity holders Depreciation  \\\n0                                                  NaN               11442   \n1                                                  NaN               12009   \n2                                                  NaN               13995   \n3                                                  NaN               12549   \n4                                                  NaN               12387   \n..                                                 ...                 ...   \n589                                                NaN                 NaN   \n590                                                NaN                 NaN   \n591                                                NaN                 NaN   \n592                                                NaN                 NaN   \n593                                                NaN                 NaN   \n\n    Cash flow from operating activities Cash flow from investing activities  \\\n0                                 34508                              -17981   \n1                                 33829                              -12482   \n2                                 52800                              -12265   \n3                                 45540                            -1632209   \n4                                 95255                             -138856   \n..                                  ...                                 ...   \n589                                 NaN                                 NaN   \n590                                 NaN                                 NaN   \n591                                 NaN                                 NaN   \n592                                 NaN                                 NaN   \n593                                 NaN                                 NaN   \n\n    Cash flow from financing activities  ... Assets ratio Debt ratio  \\\n0                                -17358  ...          NaN        NaN   \n1                                -21016  ...          NaN        NaN   \n2                                -17596  ...          NaN        NaN   \n3                               1578310  ...          NaN        NaN   \n4                                 28489  ...          NaN        NaN   \n..                                  ...  ...          ...        ...   \n589                                 NaN  ...          NaN        NaN   \n590                                 NaN  ...          NaN        NaN   \n591                                 NaN  ...          NaN        NaN   \n592                                 NaN  ...          NaN        NaN   \n593                                 NaN  ...          NaN        NaN   \n\n    Debt service ratio Rate debt security Leverage (EM)  \\\n0                  NaN                NaN           NaN   \n1                  NaN                NaN           NaN   \n2                  NaN                NaN           NaN   \n3                  NaN                NaN           NaN   \n4                  NaN                NaN           NaN   \n..                 ...                ...           ...   \n589                NaN                NaN           NaN   \n590                NaN                NaN           NaN   \n591                NaN                NaN           NaN   \n592                NaN                NaN           NaN   \n593                NaN                NaN           NaN   \n\n    Asset utilization (AU) Load gross profit Current financial liabilities  \\\n0                      NaN               NaN                           NaN   \n1                      NaN               NaN                           NaN   \n2                      NaN               NaN                           NaN   \n3                      NaN               NaN                           NaN   \n4                      NaN               NaN                           NaN   \n..                     ...               ...                           ...   \n589                    NaN               NaN                      863122.0   \n590                    NaN               NaN                     1094585.0   \n591                    NaN               NaN                      613619.0   \n592                    NaN               NaN                       96674.0   \n593                    NaN               NaN                       85884.0   \n\n    Non-current financial liabilities Financial liabilities (total)  \n0                                 NaN                           NaN  \n1                                 NaN                           NaN  \n2                                 NaN                           NaN  \n3                                 NaN                           NaN  \n4                                 NaN                           NaN  \n..                                ...                           ...  \n589                               NaN                      863122.0  \n590                               NaN                     1094585.0  \n591                          540000.0                     1153619.0  \n592                          975000.0                     1071674.0  \n593                          875000.0                      960884.0  \n\n[566 rows x 107 columns]",
      "text/html": "<div>\n<style scoped>\n    .dataframe tbody tr th:only-of-type {\n        vertical-align: middle;\n    }\n\n    .dataframe tbody tr th {\n        vertical-align: top;\n    }\n\n    .dataframe thead th {\n        text-align: right;\n    }\n</style>\n<table border=\"1\" class=\"dataframe\">\n  <thead>\n    <tr style=\"text-align: right;\">\n      <th></th>\n      <th>End of period</th>\n      <th>Start of period</th>\n      <th>Revenues from sales</th>\n      <th>Operating profit/loss</th>\n      <th>Net profit/loss attributable to equity holders of the parent</th>\n      <th>Total comprehensive income attributable to equity holders</th>\n      <th>Depreciation</th>\n      <th>Cash flow from operating activities</th>\n      <th>Cash flow from investing activities</th>\n      <th>Cash flow from financing activities</th>\n      <th>...</th>\n      <th>Assets ratio</th>\n      <th>Debt ratio</th>\n      <th>Debt service ratio</th>\n      <th>Rate debt security</th>\n      <th>Leverage (EM)</th>\n      <th>Asset utilization (AU)</th>\n      <th>Load gross profit</th>\n      <th>Current financial liabilities</th>\n      <th>Non-current financial liabilities</th>\n      <th>Financial liabilities (total)</th>\n    </tr>\n  </thead>\n  <tbody>\n    <tr>\n      <th>0</th>\n      <td>1998-03-31</td>\n      <td>1998-01-01</td>\n      <td>126003</td>\n      <td>11171</td>\n      <td>5812</td>\n      <td>NaN</td>\n      <td>11442</td>\n      <td>34508</td>\n      <td>-17981</td>\n      <td>-17358</td>\n      <td>...</td>\n      <td>NaN</td>\n      <td>NaN</td>\n      <td>NaN</td>\n      <td>NaN</td>\n      <td>NaN</td>\n      <td>NaN</td>\n      <td>NaN</td>\n      <td>NaN</td>\n      <td>NaN</td>\n      <td>NaN</td>\n    </tr>\n    <tr>\n      <th>1</th>\n      <td>1998-06-30</td>\n      <td>1998-04-01</td>\n      <td>142773</td>\n      <td>50830</td>\n      <td>33203</td>\n      <td>NaN</td>\n      <td>12009</td>\n      <td>33829</td>\n      <td>-12482</td>\n      <td>-21016</td>\n      <td>...</td>\n      <td>NaN</td>\n      <td>NaN</td>\n      <td>NaN</td>\n      <td>NaN</td>\n      <td>NaN</td>\n      <td>NaN</td>\n      <td>NaN</td>\n      <td>NaN</td>\n      <td>NaN</td>\n      <td>NaN</td>\n    </tr>\n    <tr>\n      <th>2</th>\n      <td>1998-09-30</td>\n      <td>1998-07-01</td>\n      <td>222098</td>\n      <td>61141</td>\n      <td>41145</td>\n      <td>NaN</td>\n      <td>13995</td>\n      <td>52800</td>\n      <td>-12265</td>\n      <td>-17596</td>\n      <td>...</td>\n      <td>NaN</td>\n      <td>NaN</td>\n      <td>NaN</td>\n      <td>NaN</td>\n      <td>NaN</td>\n      <td>NaN</td>\n      <td>NaN</td>\n      <td>NaN</td>\n      <td>NaN</td>\n      <td>NaN</td>\n    </tr>\n    <tr>\n      <th>3</th>\n      <td>1998-12-31</td>\n      <td>1998-10-01</td>\n      <td>154110</td>\n      <td>27972</td>\n      <td>18590</td>\n      <td>NaN</td>\n      <td>12549</td>\n      <td>45540</td>\n      <td>-1632209</td>\n      <td>1578310</td>\n      <td>...</td>\n      <td>NaN</td>\n      <td>NaN</td>\n      <td>NaN</td>\n      <td>NaN</td>\n      <td>NaN</td>\n      <td>NaN</td>\n      <td>NaN</td>\n      <td>NaN</td>\n      <td>NaN</td>\n      <td>NaN</td>\n    </tr>\n    <tr>\n      <th>4</th>\n      <td>1999-03-31</td>\n      <td>1999-01-01</td>\n      <td>168924</td>\n      <td>31190</td>\n      <td>18760</td>\n      <td>NaN</td>\n      <td>12387</td>\n      <td>95255</td>\n      <td>-138856</td>\n      <td>28489</td>\n      <td>...</td>\n      <td>NaN</td>\n      <td>NaN</td>\n      <td>NaN</td>\n      <td>NaN</td>\n      <td>NaN</td>\n      <td>NaN</td>\n      <td>NaN</td>\n      <td>NaN</td>\n      <td>NaN</td>\n      <td>NaN</td>\n    </tr>\n    <tr>\n      <th>...</th>\n      <td>...</td>\n      <td>...</td>\n      <td>...</td>\n      <td>...</td>\n      <td>...</td>\n      <td>...</td>\n      <td>...</td>\n      <td>...</td>\n      <td>...</td>\n      <td>...</td>\n      <td>...</td>\n      <td>...</td>\n      <td>...</td>\n      <td>...</td>\n      <td>...</td>\n      <td>...</td>\n      <td>...</td>\n      <td>...</td>\n      <td>...</td>\n      <td>...</td>\n      <td>...</td>\n    </tr>\n    <tr>\n      <th>589</th>\n      <td>NaN</td>\n      <td>NaN</td>\n      <td>NaN</td>\n      <td>NaN</td>\n      <td>NaN</td>\n      <td>NaN</td>\n      <td>NaN</td>\n      <td>NaN</td>\n      <td>NaN</td>\n      <td>NaN</td>\n      <td>...</td>\n      <td>NaN</td>\n      <td>NaN</td>\n      <td>NaN</td>\n      <td>NaN</td>\n      <td>NaN</td>\n      <td>NaN</td>\n      <td>NaN</td>\n      <td>863122.0</td>\n      <td>NaN</td>\n      <td>863122.0</td>\n    </tr>\n    <tr>\n      <th>590</th>\n      <td>NaN</td>\n      <td>NaN</td>\n      <td>NaN</td>\n      <td>NaN</td>\n      <td>NaN</td>\n      <td>NaN</td>\n      <td>NaN</td>\n      <td>NaN</td>\n      <td>NaN</td>\n      <td>NaN</td>\n      <td>...</td>\n      <td>NaN</td>\n      <td>NaN</td>\n      <td>NaN</td>\n      <td>NaN</td>\n      <td>NaN</td>\n      <td>NaN</td>\n      <td>NaN</td>\n      <td>1094585.0</td>\n      <td>NaN</td>\n      <td>1094585.0</td>\n    </tr>\n    <tr>\n      <th>591</th>\n      <td>NaN</td>\n      <td>NaN</td>\n      <td>NaN</td>\n      <td>NaN</td>\n      <td>NaN</td>\n      <td>NaN</td>\n      <td>NaN</td>\n      <td>NaN</td>\n      <td>NaN</td>\n      <td>NaN</td>\n      <td>...</td>\n      <td>NaN</td>\n      <td>NaN</td>\n      <td>NaN</td>\n      <td>NaN</td>\n      <td>NaN</td>\n      <td>NaN</td>\n      <td>NaN</td>\n      <td>613619.0</td>\n      <td>540000.0</td>\n      <td>1153619.0</td>\n    </tr>\n    <tr>\n      <th>592</th>\n      <td>NaN</td>\n      <td>NaN</td>\n      <td>NaN</td>\n      <td>NaN</td>\n      <td>NaN</td>\n      <td>NaN</td>\n      <td>NaN</td>\n      <td>NaN</td>\n      <td>NaN</td>\n      <td>NaN</td>\n      <td>...</td>\n      <td>NaN</td>\n      <td>NaN</td>\n      <td>NaN</td>\n      <td>NaN</td>\n      <td>NaN</td>\n      <td>NaN</td>\n      <td>NaN</td>\n      <td>96674.0</td>\n      <td>975000.0</td>\n      <td>1071674.0</td>\n    </tr>\n    <tr>\n      <th>593</th>\n      <td>NaN</td>\n      <td>NaN</td>\n      <td>NaN</td>\n      <td>NaN</td>\n      <td>NaN</td>\n      <td>NaN</td>\n      <td>NaN</td>\n      <td>NaN</td>\n      <td>NaN</td>\n      <td>NaN</td>\n      <td>...</td>\n      <td>NaN</td>\n      <td>NaN</td>\n      <td>NaN</td>\n      <td>NaN</td>\n      <td>NaN</td>\n      <td>NaN</td>\n      <td>NaN</td>\n      <td>85884.0</td>\n      <td>875000.0</td>\n      <td>960884.0</td>\n    </tr>\n  </tbody>\n</table>\n<p>566 rows × 107 columns</p>\n</div>"
     },
     "execution_count": 755,
     "metadata": {},
     "output_type": "execute_result"
    }
   ],
   "source": [
    "# DZIAŁA PRAWIE DOBRZE\n",
    "def process_excel_data(base_folder):\n",
    "    folder_path = os.path.join(base_folder)\n",
    "    all_data = []\n",
    "\n",
    "    # Zakresy wierszy, które chcemy wyciągnąć (przesunięte o jeden w dół, ponieważ indeksowanie jest od zera)\n",
    "    row_ranges = [\n",
    "        range(2, 23),   # Rows 3 to 22 inclusive, zero-indexed\n",
    "        range(30, 60),  # Rows 31 to 59 inclusive\n",
    "        range(60, 94),  # Rows 61 to 93 inclusive\n",
    "        range(254, 276),  # Rows 255 to 275 inclusive\n",
    "        range(278, 284),  # Rows 279 to 283 inclusive\n",
    "        range(290, 294)   # Rows 291 to 293 inclusive\n",
    "    ]\n",
    "\n",
    "    for filename in os.listdir(folder_path):\n",
    "        if filename.endswith('.xlsx'):\n",
    "            file_path = os.path.join(folder_path, filename)\n",
    "            print(f\"Processing file: {filename}\")  # Debugging line\n",
    "            try:\n",
    "                # Wczytujemy cały arkusz, aby mieć dostęp do kolumn C do CX\n",
    "                data = pd.read_excel(file_path, sheet_name='QS', header=None)\n",
    "\n",
    "                # Przechodzimy przez wszystkie zakresy wierszy i wyciągamy dane\n",
    "                for row_range in row_ranges:\n",
    "                    # Pobieramy wartości z kolumny C jako nagłówki\n",
    "                    headers = data.iloc[list(row_range), 2].tolist()\n",
    "\n",
    "                    # Pobieramy dane z kolumn D do CX dla bieżącego zakresu wierszy (indeksowanie od 3 do 102)\n",
    "                    range_data = data.iloc[list(row_range), 3:102]\n",
    "\n",
    "                    # Zamiana zer na NaN\n",
    "                    range_data = range_data.replace(0, np.nan)\n",
    "\n",
    "                    # Transponowanie danych, aby daty były w pierwszej kolumnie\n",
    "                    transposed_data = range_data.transpose()\n",
    "                    transposed_data.columns = headers\n",
    "                    transposed_data['filename'] = filename\n",
    "\n",
    "\n",
    "                    all_data.append(transposed_data)\n",
    "            except Exception as e:\n",
    "                print(f\"Error processing file {filename}: {e}\")\n",
    "\n",
    "    if all_data:\n",
    "        results_df = pd.concat(all_data, ignore_index=True)\n",
    "\n",
    "        # Sprawdzenie i usunięcie wierszy, które są w całości NaN (poza kolumną filename)\n",
    "        results_df = results_df.dropna(how='all', subset=[col for col in results_df.columns if col != 'filename'])\n",
    "\n",
    "        # Sprawdzenie i usunięcie kolumny z nazwą NaN\n",
    "        results_df = results_df.loc[:, ~results_df.columns.isna()]\n",
    "\n",
    "        return results_df\n",
    "    else:\n",
    "        print(\"No data to concatenate\")\n",
    "        return pd.DataFrame()\n",
    "\n",
    "# Podaj swoją ścieżkę folderu\n",
    "df_results = process_excel_data(FOLDER_PATH)\n",
    "df_results"
   ],
   "metadata": {
    "collapsed": false,
    "ExecuteTime": {
     "end_time": "2024-05-17T08:14:55.007734Z",
     "start_time": "2024-05-17T08:14:54.687336900Z"
    }
   },
   "id": "5fc4826cd6e3ba66",
   "execution_count": 755
  },
  {
   "cell_type": "code",
   "outputs": [
    {
     "data": {
      "text/plain": "['End of period',\n 'Start of period',\n 'Revenues from sales',\n 'Operating profit/loss',\n 'Net profit/loss attributable to equity holders of the parent',\n 'Total comprehensive income attributable to equity holders',\n 'Depreciation',\n 'Cash flow from operating activities',\n 'Cash flow from investing activities',\n 'Cash flow from financing activities',\n 'Aktywa',\n 'Non-current assets',\n 'Current assets',\n 'Equity shareholders of the parent',\n 'Non-current liabilities',\n 'Current liabilities',\n \"Number of shares ('000)\",\n 'Earnings per share',\n 'Total comprehensive income per share',\n 'Book value per share',\n 'Accounting standard',\n 'filename',\n 'Property, plant and equipment',\n 'Exploration for and evaluation of mineral resources',\n 'Intangible assets',\n 'Goodwill',\n 'Investment property',\n 'Right-of-use assets',\n 'Investment in affiliates',\n 'Non-current financial assets',\n 'Non-current loans and receivables',\n 'Deferred income tax',\n 'Non-current deferred charges and accruals',\n 'Non-current derivative instruments',\n 'Other non-current assets',\n 'Inventories',\n 'Current intangible assets',\n 'Biological assets',\n 'Trade receivables',\n 'Loans and other receivables',\n 'Financial assets',\n 'Cash and cash equivalents',\n 'Accruals',\n 'Assets from current tax',\n 'Derivative instruments',\n 'Other assets',\n 'Assets held for sale and discontinuing operations',\n 'Called up capital',\n 'Own shares',\n 'EQUITY & LIABILITIES',\n 'Share capital',\n 'Called up share capital',\n 'Treasury shares',\n 'Supplementary capital',\n 'Valuation and exchange differences',\n 'Other capitals',\n 'Retained earnings / accumulated losses',\n 'Non-controlling interests',\n 'Non-current liabilities from derivatives',\n 'Non-current loans and borrowings',\n 'Non-current liabilities from bonds',\n 'Non-current liabilities from finance leases',\n 'Non-current trade payables',\n 'Long-term provision for employee benefits',\n 'Deferred tax liabilities',\n 'Non-current provision',\n 'Other non-current liabilities',\n 'Non-current accruals (liability)',\n 'Liabilities from derivatives',\n 'Financial liabilities (loans and borrowings)',\n 'Bond liabilities',\n 'Liabilities from finance leases',\n 'Trade payables',\n 'Employee benefits',\n 'Current tax liabilities',\n 'Provisions',\n 'Other liabilities',\n 'Accruals (liability)',\n 'Liabilities related to assets held for sale and discontinued operations',\n 'Date of publication',\n 'Gross profit margin on sales',\n 'Operating profit margin',\n 'Gross profit margin',\n 'Net profit margin',\n 'Return on equity (ROE)',\n 'Return on assets (ROA)',\n 'Working capital ratio',\n 'Current ratio',\n 'Quick ratio',\n 'Cash ratio',\n 'Receivables turnover',\n 'Inventory turnover',\n 'The operating cycle',\n 'Rotation commitments',\n 'Cash conversion cycle',\n 'Rotation assets',\n 'Rotation of assets',\n 'Assets ratio',\n 'Debt ratio',\n 'Debt service ratio',\n 'Rate debt security',\n 'Leverage (EM)',\n 'Asset utilization (AU)',\n 'Load gross profit',\n 'Current financial liabilities',\n 'Non-current financial liabilities',\n 'Financial liabilities (total)']"
     },
     "execution_count": 756,
     "metadata": {},
     "output_type": "execute_result"
    }
   ],
   "source": [
    "df_results.columns.tolist()"
   ],
   "metadata": {
    "collapsed": false,
    "ExecuteTime": {
     "end_time": "2024-05-17T08:14:55.014268700Z",
     "start_time": "2024-05-17T08:14:55.007734Z"
    }
   },
   "id": "64754ac5649365b8",
   "execution_count": 756
  },
  {
   "cell_type": "code",
   "outputs": [],
   "source": [
    "df_cleaned_columns = df_results.dropna(how='all', axis=1)"
   ],
   "metadata": {
    "collapsed": false,
    "ExecuteTime": {
     "end_time": "2024-05-17T08:14:55.026375200Z",
     "start_time": "2024-05-17T08:14:55.014268700Z"
    }
   },
   "id": "82323a4f438e0ca4",
   "execution_count": 757
  },
  {
   "cell_type": "markdown",
   "source": [],
   "metadata": {
    "collapsed": false
   },
   "id": "2049dc8146fb0dfc"
  },
  {
   "cell_type": "code",
   "outputs": [],
   "source": [
    "df_cleaned_columns = df_results.drop(columns='Start of period')"
   ],
   "metadata": {
    "collapsed": false,
    "ExecuteTime": {
     "end_time": "2024-05-17T08:14:55.053394600Z",
     "start_time": "2024-05-17T08:14:55.026375200Z"
    }
   },
   "id": "ccd3bdf77d777832",
   "execution_count": 758
  },
  {
   "cell_type": "code",
   "outputs": [
    {
     "data": {
      "text/plain": "    End of period Revenues from sales Operating profit/loss  \\\n0      1998-03-31              126003                 11171   \n1      1998-06-30              142773                 50830   \n2      1998-09-30              222098                 61141   \n3      1998-12-31              154110                 27972   \n4      1999-03-31              168924                 31190   \n..            ...                 ...                   ...   \n589           NaN                 NaN                   NaN   \n590           NaN                 NaN                   NaN   \n591           NaN                 NaN                   NaN   \n592           NaN                 NaN                   NaN   \n593           NaN                 NaN                   NaN   \n\n    Net profit/loss attributable to equity holders of the parent  \\\n0                                                 5812             \n1                                                33203             \n2                                                41145             \n3                                                18590             \n4                                                18760             \n..                                                 ...             \n589                                                NaN             \n590                                                NaN             \n591                                                NaN             \n592                                                NaN             \n593                                                NaN             \n\n    Total comprehensive income attributable to equity holders Depreciation  \\\n0                                                  NaN               11442   \n1                                                  NaN               12009   \n2                                                  NaN               13995   \n3                                                  NaN               12549   \n4                                                  NaN               12387   \n..                                                 ...                 ...   \n589                                                NaN                 NaN   \n590                                                NaN                 NaN   \n591                                                NaN                 NaN   \n592                                                NaN                 NaN   \n593                                                NaN                 NaN   \n\n    Cash flow from operating activities Cash flow from investing activities  \\\n0                                 34508                              -17981   \n1                                 33829                              -12482   \n2                                 52800                              -12265   \n3                                 45540                            -1632209   \n4                                 95255                             -138856   \n..                                  ...                                 ...   \n589                                 NaN                                 NaN   \n590                                 NaN                                 NaN   \n591                                 NaN                                 NaN   \n592                                 NaN                                 NaN   \n593                                 NaN                                 NaN   \n\n    Cash flow from financing activities   Aktywa  ... Assets ratio Debt ratio  \\\n0                                -17358   383455  ...          NaN        NaN   \n1                                -21016   456063  ...          NaN        NaN   \n2                                -17596   449272  ...          NaN        NaN   \n3                               1578310  2051117  ...          NaN        NaN   \n4                                 28489  2183358  ...          NaN        NaN   \n..                                  ...      ...  ...          ...        ...   \n589                                 NaN      NaN  ...          NaN        NaN   \n590                                 NaN      NaN  ...          NaN        NaN   \n591                                 NaN      NaN  ...          NaN        NaN   \n592                                 NaN      NaN  ...          NaN        NaN   \n593                                 NaN      NaN  ...          NaN        NaN   \n\n    Debt service ratio Rate debt security Leverage (EM)  \\\n0                  NaN                NaN           NaN   \n1                  NaN                NaN           NaN   \n2                  NaN                NaN           NaN   \n3                  NaN                NaN           NaN   \n4                  NaN                NaN           NaN   \n..                 ...                ...           ...   \n589                NaN                NaN           NaN   \n590                NaN                NaN           NaN   \n591                NaN                NaN           NaN   \n592                NaN                NaN           NaN   \n593                NaN                NaN           NaN   \n\n    Asset utilization (AU) Load gross profit Current financial liabilities  \\\n0                      NaN               NaN                           NaN   \n1                      NaN               NaN                           NaN   \n2                      NaN               NaN                           NaN   \n3                      NaN               NaN                           NaN   \n4                      NaN               NaN                           NaN   \n..                     ...               ...                           ...   \n589                    NaN               NaN                      863122.0   \n590                    NaN               NaN                     1094585.0   \n591                    NaN               NaN                      613619.0   \n592                    NaN               NaN                       96674.0   \n593                    NaN               NaN                       85884.0   \n\n    Non-current financial liabilities Financial liabilities (total)  \n0                                 NaN                           NaN  \n1                                 NaN                           NaN  \n2                                 NaN                           NaN  \n3                                 NaN                           NaN  \n4                                 NaN                           NaN  \n..                                ...                           ...  \n589                               NaN                      863122.0  \n590                               NaN                     1094585.0  \n591                          540000.0                     1153619.0  \n592                          975000.0                     1071674.0  \n593                          875000.0                      960884.0  \n\n[566 rows x 106 columns]",
      "text/html": "<div>\n<style scoped>\n    .dataframe tbody tr th:only-of-type {\n        vertical-align: middle;\n    }\n\n    .dataframe tbody tr th {\n        vertical-align: top;\n    }\n\n    .dataframe thead th {\n        text-align: right;\n    }\n</style>\n<table border=\"1\" class=\"dataframe\">\n  <thead>\n    <tr style=\"text-align: right;\">\n      <th></th>\n      <th>End of period</th>\n      <th>Revenues from sales</th>\n      <th>Operating profit/loss</th>\n      <th>Net profit/loss attributable to equity holders of the parent</th>\n      <th>Total comprehensive income attributable to equity holders</th>\n      <th>Depreciation</th>\n      <th>Cash flow from operating activities</th>\n      <th>Cash flow from investing activities</th>\n      <th>Cash flow from financing activities</th>\n      <th>Aktywa</th>\n      <th>...</th>\n      <th>Assets ratio</th>\n      <th>Debt ratio</th>\n      <th>Debt service ratio</th>\n      <th>Rate debt security</th>\n      <th>Leverage (EM)</th>\n      <th>Asset utilization (AU)</th>\n      <th>Load gross profit</th>\n      <th>Current financial liabilities</th>\n      <th>Non-current financial liabilities</th>\n      <th>Financial liabilities (total)</th>\n    </tr>\n  </thead>\n  <tbody>\n    <tr>\n      <th>0</th>\n      <td>1998-03-31</td>\n      <td>126003</td>\n      <td>11171</td>\n      <td>5812</td>\n      <td>NaN</td>\n      <td>11442</td>\n      <td>34508</td>\n      <td>-17981</td>\n      <td>-17358</td>\n      <td>383455</td>\n      <td>...</td>\n      <td>NaN</td>\n      <td>NaN</td>\n      <td>NaN</td>\n      <td>NaN</td>\n      <td>NaN</td>\n      <td>NaN</td>\n      <td>NaN</td>\n      <td>NaN</td>\n      <td>NaN</td>\n      <td>NaN</td>\n    </tr>\n    <tr>\n      <th>1</th>\n      <td>1998-06-30</td>\n      <td>142773</td>\n      <td>50830</td>\n      <td>33203</td>\n      <td>NaN</td>\n      <td>12009</td>\n      <td>33829</td>\n      <td>-12482</td>\n      <td>-21016</td>\n      <td>456063</td>\n      <td>...</td>\n      <td>NaN</td>\n      <td>NaN</td>\n      <td>NaN</td>\n      <td>NaN</td>\n      <td>NaN</td>\n      <td>NaN</td>\n      <td>NaN</td>\n      <td>NaN</td>\n      <td>NaN</td>\n      <td>NaN</td>\n    </tr>\n    <tr>\n      <th>2</th>\n      <td>1998-09-30</td>\n      <td>222098</td>\n      <td>61141</td>\n      <td>41145</td>\n      <td>NaN</td>\n      <td>13995</td>\n      <td>52800</td>\n      <td>-12265</td>\n      <td>-17596</td>\n      <td>449272</td>\n      <td>...</td>\n      <td>NaN</td>\n      <td>NaN</td>\n      <td>NaN</td>\n      <td>NaN</td>\n      <td>NaN</td>\n      <td>NaN</td>\n      <td>NaN</td>\n      <td>NaN</td>\n      <td>NaN</td>\n      <td>NaN</td>\n    </tr>\n    <tr>\n      <th>3</th>\n      <td>1998-12-31</td>\n      <td>154110</td>\n      <td>27972</td>\n      <td>18590</td>\n      <td>NaN</td>\n      <td>12549</td>\n      <td>45540</td>\n      <td>-1632209</td>\n      <td>1578310</td>\n      <td>2051117</td>\n      <td>...</td>\n      <td>NaN</td>\n      <td>NaN</td>\n      <td>NaN</td>\n      <td>NaN</td>\n      <td>NaN</td>\n      <td>NaN</td>\n      <td>NaN</td>\n      <td>NaN</td>\n      <td>NaN</td>\n      <td>NaN</td>\n    </tr>\n    <tr>\n      <th>4</th>\n      <td>1999-03-31</td>\n      <td>168924</td>\n      <td>31190</td>\n      <td>18760</td>\n      <td>NaN</td>\n      <td>12387</td>\n      <td>95255</td>\n      <td>-138856</td>\n      <td>28489</td>\n      <td>2183358</td>\n      <td>...</td>\n      <td>NaN</td>\n      <td>NaN</td>\n      <td>NaN</td>\n      <td>NaN</td>\n      <td>NaN</td>\n      <td>NaN</td>\n      <td>NaN</td>\n      <td>NaN</td>\n      <td>NaN</td>\n      <td>NaN</td>\n    </tr>\n    <tr>\n      <th>...</th>\n      <td>...</td>\n      <td>...</td>\n      <td>...</td>\n      <td>...</td>\n      <td>...</td>\n      <td>...</td>\n      <td>...</td>\n      <td>...</td>\n      <td>...</td>\n      <td>...</td>\n      <td>...</td>\n      <td>...</td>\n      <td>...</td>\n      <td>...</td>\n      <td>...</td>\n      <td>...</td>\n      <td>...</td>\n      <td>...</td>\n      <td>...</td>\n      <td>...</td>\n      <td>...</td>\n    </tr>\n    <tr>\n      <th>589</th>\n      <td>NaN</td>\n      <td>NaN</td>\n      <td>NaN</td>\n      <td>NaN</td>\n      <td>NaN</td>\n      <td>NaN</td>\n      <td>NaN</td>\n      <td>NaN</td>\n      <td>NaN</td>\n      <td>NaN</td>\n      <td>...</td>\n      <td>NaN</td>\n      <td>NaN</td>\n      <td>NaN</td>\n      <td>NaN</td>\n      <td>NaN</td>\n      <td>NaN</td>\n      <td>NaN</td>\n      <td>863122.0</td>\n      <td>NaN</td>\n      <td>863122.0</td>\n    </tr>\n    <tr>\n      <th>590</th>\n      <td>NaN</td>\n      <td>NaN</td>\n      <td>NaN</td>\n      <td>NaN</td>\n      <td>NaN</td>\n      <td>NaN</td>\n      <td>NaN</td>\n      <td>NaN</td>\n      <td>NaN</td>\n      <td>NaN</td>\n      <td>...</td>\n      <td>NaN</td>\n      <td>NaN</td>\n      <td>NaN</td>\n      <td>NaN</td>\n      <td>NaN</td>\n      <td>NaN</td>\n      <td>NaN</td>\n      <td>1094585.0</td>\n      <td>NaN</td>\n      <td>1094585.0</td>\n    </tr>\n    <tr>\n      <th>591</th>\n      <td>NaN</td>\n      <td>NaN</td>\n      <td>NaN</td>\n      <td>NaN</td>\n      <td>NaN</td>\n      <td>NaN</td>\n      <td>NaN</td>\n      <td>NaN</td>\n      <td>NaN</td>\n      <td>NaN</td>\n      <td>...</td>\n      <td>NaN</td>\n      <td>NaN</td>\n      <td>NaN</td>\n      <td>NaN</td>\n      <td>NaN</td>\n      <td>NaN</td>\n      <td>NaN</td>\n      <td>613619.0</td>\n      <td>540000.0</td>\n      <td>1153619.0</td>\n    </tr>\n    <tr>\n      <th>592</th>\n      <td>NaN</td>\n      <td>NaN</td>\n      <td>NaN</td>\n      <td>NaN</td>\n      <td>NaN</td>\n      <td>NaN</td>\n      <td>NaN</td>\n      <td>NaN</td>\n      <td>NaN</td>\n      <td>NaN</td>\n      <td>...</td>\n      <td>NaN</td>\n      <td>NaN</td>\n      <td>NaN</td>\n      <td>NaN</td>\n      <td>NaN</td>\n      <td>NaN</td>\n      <td>NaN</td>\n      <td>96674.0</td>\n      <td>975000.0</td>\n      <td>1071674.0</td>\n    </tr>\n    <tr>\n      <th>593</th>\n      <td>NaN</td>\n      <td>NaN</td>\n      <td>NaN</td>\n      <td>NaN</td>\n      <td>NaN</td>\n      <td>NaN</td>\n      <td>NaN</td>\n      <td>NaN</td>\n      <td>NaN</td>\n      <td>NaN</td>\n      <td>...</td>\n      <td>NaN</td>\n      <td>NaN</td>\n      <td>NaN</td>\n      <td>NaN</td>\n      <td>NaN</td>\n      <td>NaN</td>\n      <td>NaN</td>\n      <td>85884.0</td>\n      <td>875000.0</td>\n      <td>960884.0</td>\n    </tr>\n  </tbody>\n</table>\n<p>566 rows × 106 columns</p>\n</div>"
     },
     "execution_count": 759,
     "metadata": {},
     "output_type": "execute_result"
    }
   ],
   "source": [
    "df_cleaned_columns"
   ],
   "metadata": {
    "collapsed": false,
    "ExecuteTime": {
     "end_time": "2024-05-17T08:14:55.073835700Z",
     "start_time": "2024-05-17T08:14:55.038040900Z"
    }
   },
   "id": "bb7f3b97ca6d32f4",
   "execution_count": 759
  },
  {
   "cell_type": "code",
   "outputs": [
    {
     "data": {
      "text/plain": "['End of period',\n 'Revenues from sales',\n 'Operating profit/loss',\n 'Net profit/loss attributable to equity holders of the parent',\n 'Total comprehensive income attributable to equity holders',\n 'Depreciation',\n 'Cash flow from operating activities',\n 'Cash flow from investing activities',\n 'Cash flow from financing activities',\n 'Aktywa',\n 'Non-current assets',\n 'Current assets',\n 'Equity shareholders of the parent',\n 'Non-current liabilities',\n 'Current liabilities',\n \"Number of shares ('000)\",\n 'Earnings per share',\n 'Total comprehensive income per share',\n 'Book value per share',\n 'Accounting standard',\n 'filename',\n 'Property, plant and equipment',\n 'Exploration for and evaluation of mineral resources',\n 'Intangible assets',\n 'Goodwill',\n 'Investment property',\n 'Right-of-use assets',\n 'Investment in affiliates',\n 'Non-current financial assets',\n 'Non-current loans and receivables',\n 'Deferred income tax',\n 'Non-current deferred charges and accruals',\n 'Non-current derivative instruments',\n 'Other non-current assets',\n 'Inventories',\n 'Current intangible assets',\n 'Biological assets',\n 'Trade receivables',\n 'Loans and other receivables',\n 'Financial assets',\n 'Cash and cash equivalents',\n 'Accruals',\n 'Assets from current tax',\n 'Derivative instruments',\n 'Other assets',\n 'Assets held for sale and discontinuing operations',\n 'Called up capital',\n 'Own shares',\n 'EQUITY & LIABILITIES',\n 'Share capital',\n 'Called up share capital',\n 'Treasury shares',\n 'Supplementary capital',\n 'Valuation and exchange differences',\n 'Other capitals',\n 'Retained earnings / accumulated losses',\n 'Non-controlling interests',\n 'Non-current liabilities from derivatives',\n 'Non-current loans and borrowings',\n 'Non-current liabilities from bonds',\n 'Non-current liabilities from finance leases',\n 'Non-current trade payables',\n 'Long-term provision for employee benefits',\n 'Deferred tax liabilities',\n 'Non-current provision',\n 'Other non-current liabilities',\n 'Non-current accruals (liability)',\n 'Liabilities from derivatives',\n 'Financial liabilities (loans and borrowings)',\n 'Bond liabilities',\n 'Liabilities from finance leases',\n 'Trade payables',\n 'Employee benefits',\n 'Current tax liabilities',\n 'Provisions',\n 'Other liabilities',\n 'Accruals (liability)',\n 'Liabilities related to assets held for sale and discontinued operations',\n 'Date of publication',\n 'Gross profit margin on sales',\n 'Operating profit margin',\n 'Gross profit margin',\n 'Net profit margin',\n 'Return on equity (ROE)',\n 'Return on assets (ROA)',\n 'Working capital ratio',\n 'Current ratio',\n 'Quick ratio',\n 'Cash ratio',\n 'Receivables turnover',\n 'Inventory turnover',\n 'The operating cycle',\n 'Rotation commitments',\n 'Cash conversion cycle',\n 'Rotation assets',\n 'Rotation of assets',\n 'Assets ratio',\n 'Debt ratio',\n 'Debt service ratio',\n 'Rate debt security',\n 'Leverage (EM)',\n 'Asset utilization (AU)',\n 'Load gross profit',\n 'Current financial liabilities',\n 'Non-current financial liabilities',\n 'Financial liabilities (total)']"
     },
     "execution_count": 760,
     "metadata": {},
     "output_type": "execute_result"
    }
   ],
   "source": [
    "df_cleaned_columns.columns.tolist()"
   ],
   "metadata": {
    "collapsed": false,
    "ExecuteTime": {
     "end_time": "2024-05-17T08:14:55.113540500Z",
     "start_time": "2024-05-17T08:14:55.063595300Z"
    }
   },
   "id": "887c0a0715dceb4b",
   "execution_count": 760
  },
  {
   "cell_type": "code",
   "outputs": [],
   "source": [],
   "metadata": {
    "collapsed": false,
    "ExecuteTime": {
     "end_time": "2024-05-17T08:14:55.113540500Z",
     "start_time": "2024-05-17T08:14:55.068321600Z"
    }
   },
   "id": "fd84dd1a6c9838a4",
   "execution_count": 760
  }
 ],
 "metadata": {
  "kernelspec": {
   "display_name": "Python 3",
   "language": "python",
   "name": "python3"
  },
  "language_info": {
   "codemirror_mode": {
    "name": "ipython",
    "version": 2
   },
   "file_extension": ".py",
   "mimetype": "text/x-python",
   "name": "python",
   "nbconvert_exporter": "python",
   "pygments_lexer": "ipython2",
   "version": "2.7.6"
  }
 },
 "nbformat": 4,
 "nbformat_minor": 5
}
